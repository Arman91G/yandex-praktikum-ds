{
 "cells": [
  {
   "cell_type": "markdown",
   "metadata": {
    "toc": true
   },
   "source": [
    "<h1>Содержание<span class=\"tocSkip\"></span></h1>\n",
    "<div class=\"toc\"><ul class=\"toc-item\"><li><span><a href=\"#Подготовка-данных\" data-toc-modified-id=\"Подготовка-данных-1\"><span class=\"toc-item-num\">1&nbsp;&nbsp;</span>Подготовка данных</a></span></li><li><span><a href=\"#Анализ-данных\" data-toc-modified-id=\"Анализ-данных-2\"><span class=\"toc-item-num\">2&nbsp;&nbsp;</span>Анализ данных</a></span></li><li><span><a href=\"#Модель\" data-toc-modified-id=\"Модель-3\"><span class=\"toc-item-num\">3&nbsp;&nbsp;</span>Модель</a></span></li><li><span><a href=\"#Чек-лист-готовности-проекта\" data-toc-modified-id=\"Чек-лист-готовности-проекта-4\"><span class=\"toc-item-num\">4&nbsp;&nbsp;</span>Чек-лист готовности проекта</a></span></li></ul></div>"
   ]
  },
  {
   "cell_type": "markdown",
   "metadata": {},
   "source": [
    "# Восстановление золота из руды"
   ]
  },
  {
   "cell_type": "markdown",
   "metadata": {},
   "source": [
    "Подготовьте прототип модели машинного обучения для «Цифры». Компания разрабатывает решения для эффективной работы промышленных предприятий.\n",
    "\n",
    "Модель должна предсказать коэффициент восстановления золота из золотосодержащей руды. Используйте данные с параметрами добычи и очистки. \n",
    "\n",
    "Модель поможет оптимизировать производство, чтобы не запускать предприятие с убыточными характеристиками.\n",
    "\n",
    "Вам нужно:\n",
    "\n",
    "1. Подготовить данные;\n",
    "2. Провести исследовательский анализ данных;\n",
    "3. Построить и обучить модель.\n",
    "\n",
    "Чтобы выполнить проект, обращайтесь к библиотекам *pandas*, *matplotlib* и *sklearn.* Вам поможет их документация."
   ]
  },
  {
   "cell_type": "markdown",
   "metadata": {},
   "source": [
    "# Что предстоит сделать?\n",
    "\n",
    "- Подготовить данные:\n",
    "\n",
    "    - Проверить эффективность обогащения и вычислить её на обучающей выборке для признака rougher.output.recovery. Найти MAE между расчётами и значением признака.\n",
    "\n",
    "    - Проанализировать признаки, недоступные в тестовой выборке.\n",
    "\n",
    "    - Провести предобработку данных.\n",
    "\n",
    "- Проанализировать данные\n",
    "\n",
    "    - Проанализировать как меняется концентрация металлов (Au, Ag, Pb) на различных этапах очистки.\n",
    "\n",
    "    - Сравнить распределения размеров гранул сырья на обучающей и тестовой выборках.\n",
    "\n",
    "    - Исследовать суммарную концентрацию всех веществ на разных стадиях: в сырье, в черновом и финальном концентратах. Описать выводы и удалить аномалии.\n",
    "\n",
    "- Построить модель:\n",
    "\n",
    "    - Написать функцию для вычисления итоговой sMAPE.\n",
    "\n",
    "    - Обучить разные модели и оценить их качество. Выбрать лучшую модель и проверить её на тестовой выборке.\n",
    "\n",
    "- Общий вывод"
   ]
  },
  {
   "cell_type": "markdown",
   "metadata": {},
   "source": [
    "## Подготовка данных"
   ]
  },
  {
   "cell_type": "code",
   "execution_count": 1,
   "metadata": {},
   "outputs": [],
   "source": [
    "# Блок импорта\n",
    "import pandas as pd\n",
    "import numpy as np\n",
    "import matplotlib.pyplot as plt\n",
    "import seaborn as sns\n",
    "%matplotlib inline\n",
    "import warnings\n",
    "warnings.filterwarnings(\"ignore\")\n",
    "\n",
    "# Подготовка моделей\n",
    "from numpy.random import RandomState\n",
    "from sklearn.preprocessing import StandardScaler\n",
    "from sklearn.metrics import  make_scorer\n",
    "from sklearn.model_selection import GridSearchCV, RandomizedSearchCV, cross_val_score\n",
    "\n",
    "\n",
    "# метрики\n",
    "from sklearn.metrics import mean_absolute_error\n",
    "\n",
    "# модели\n",
    "from sklearn.tree import DecisionTreeRegressor\n",
    "from sklearn.ensemble import RandomForestRegressor\n",
    "from sklearn.linear_model import LinearRegression\n",
    "from sklearn.dummy import DummyRegressor\n",
    "from sklearn.impute import KNNImputer\n",
    "from sklearn.pipeline import make_pipeline\n",
    "from sklearn.linear_model import Lasso\n",
    "\n",
    "\n",
    "\n"
   ]
  },
  {
   "cell_type": "markdown",
   "metadata": {},
   "source": [
    "Посмотрим на наши данные"
   ]
  },
  {
   "cell_type": "code",
   "execution_count": 2,
   "metadata": {},
   "outputs": [],
   "source": [
    "train_df = pd.read_csv('/datasets/gold_industry_train.csv')\n",
    "test_df = pd.read_csv('/datasets/gold_industry_test.csv')\n",
    "full_df = pd.read_csv('/datasets/gold_industry_full.csv')"
   ]
  },
  {
   "cell_type": "code",
   "execution_count": 3,
   "metadata": {},
   "outputs": [
    {
     "name": "stdout",
     "output_type": "stream",
     "text": [
      "<class 'pandas.core.frame.DataFrame'>\n",
      "RangeIndex: 19439 entries, 0 to 19438\n",
      "Data columns (total 87 columns):\n",
      " #   Column                                              Non-Null Count  Dtype  \n",
      "---  ------                                              --------------  -----  \n",
      " 0   date                                                19439 non-null  object \n",
      " 1   rougher.input.feed_au                               19439 non-null  float64\n",
      " 2   rougher.input.feed_ag                               19439 non-null  float64\n",
      " 3   rougher.input.feed_pb                               19339 non-null  float64\n",
      " 4   rougher.input.feed_sol                              19340 non-null  float64\n",
      " 5   rougher.input.feed_rate                             19428 non-null  float64\n",
      " 6   rougher.input.feed_size                             19294 non-null  float64\n",
      " 7   rougher.input.floatbank10_sulfate                   19405 non-null  float64\n",
      " 8   rougher.input.floatbank10_xanthate                  19431 non-null  float64\n",
      " 9   rougher.state.floatbank10_a_air                     19438 non-null  float64\n",
      " 10  rougher.state.floatbank10_a_level                   19438 non-null  float64\n",
      " 11  rougher.state.floatbank10_b_air                     19438 non-null  float64\n",
      " 12  rougher.state.floatbank10_b_level                   19438 non-null  float64\n",
      " 13  rougher.state.floatbank10_c_air                     19438 non-null  float64\n",
      " 14  rougher.state.floatbank10_c_level                   19438 non-null  float64\n",
      " 15  rougher.state.floatbank10_d_air                     19439 non-null  float64\n",
      " 16  rougher.state.floatbank10_d_level                   19439 non-null  float64\n",
      " 17  rougher.state.floatbank10_e_air                     19003 non-null  float64\n",
      " 18  rougher.state.floatbank10_e_level                   19439 non-null  float64\n",
      " 19  rougher.state.floatbank10_f_air                     19439 non-null  float64\n",
      " 20  rougher.state.floatbank10_f_level                   19439 non-null  float64\n",
      " 21  rougher.input.floatbank11_sulfate                   19395 non-null  float64\n",
      " 22  rougher.input.floatbank11_xanthate                  18986 non-null  float64\n",
      " 23  rougher.calculation.sulfate_to_au_concentrate       19437 non-null  float64\n",
      " 24  rougher.calculation.floatbank10_sulfate_to_au_feed  19437 non-null  float64\n",
      " 25  rougher.calculation.floatbank11_sulfate_to_au_feed  19437 non-null  float64\n",
      " 26  rougher.calculation.au_pb_ratio                     19439 non-null  float64\n",
      " 27  rougher.output.concentrate_au                       19439 non-null  float64\n",
      " 28  rougher.output.concentrate_ag                       19439 non-null  float64\n",
      " 29  rougher.output.concentrate_pb                       19439 non-null  float64\n",
      " 30  rougher.output.concentrate_sol                      19416 non-null  float64\n",
      " 31  rougher.output.recovery                             19439 non-null  float64\n",
      " 32  rougher.output.tail_au                              19439 non-null  float64\n",
      " 33  rougher.output.tail_ag                              19438 non-null  float64\n",
      " 34  rougher.output.tail_pb                              19439 non-null  float64\n",
      " 35  rougher.output.tail_sol                             19439 non-null  float64\n",
      " 36  primary_cleaner.input.sulfate                       19415 non-null  float64\n",
      " 37  primary_cleaner.input.depressant                    19402 non-null  float64\n",
      " 38  primary_cleaner.input.feed_size                     19439 non-null  float64\n",
      " 39  primary_cleaner.input.xanthate                      19335 non-null  float64\n",
      " 40  primary_cleaner.state.floatbank8_a_air              19435 non-null  float64\n",
      " 41  primary_cleaner.state.floatbank8_a_level            19438 non-null  float64\n",
      " 42  primary_cleaner.state.floatbank8_b_air              19435 non-null  float64\n",
      " 43  primary_cleaner.state.floatbank8_b_level            19438 non-null  float64\n",
      " 44  primary_cleaner.state.floatbank8_c_air              19437 non-null  float64\n",
      " 45  primary_cleaner.state.floatbank8_c_level            19438 non-null  float64\n",
      " 46  primary_cleaner.state.floatbank8_d_air              19436 non-null  float64\n",
      " 47  primary_cleaner.state.floatbank8_d_level            19438 non-null  float64\n",
      " 48  primary_cleaner.output.concentrate_au               19439 non-null  float64\n",
      " 49  primary_cleaner.output.concentrate_ag               19439 non-null  float64\n",
      " 50  primary_cleaner.output.concentrate_pb               19323 non-null  float64\n",
      " 51  primary_cleaner.output.concentrate_sol              19069 non-null  float64\n",
      " 52  primary_cleaner.output.tail_au                      19439 non-null  float64\n",
      " 53  primary_cleaner.output.tail_ag                      19435 non-null  float64\n",
      " 54  primary_cleaner.output.tail_pb                      19418 non-null  float64\n",
      " 55  primary_cleaner.output.tail_sol                     19377 non-null  float64\n",
      " 56  secondary_cleaner.state.floatbank2_a_air            19219 non-null  float64\n",
      " 57  secondary_cleaner.state.floatbank2_a_level          19438 non-null  float64\n",
      " 58  secondary_cleaner.state.floatbank2_b_air            19416 non-null  float64\n",
      " 59  secondary_cleaner.state.floatbank2_b_level          19438 non-null  float64\n",
      " 60  secondary_cleaner.state.floatbank3_a_air            19426 non-null  float64\n",
      " 61  secondary_cleaner.state.floatbank3_a_level          19438 non-null  float64\n",
      " 62  secondary_cleaner.state.floatbank3_b_air            19438 non-null  float64\n",
      " 63  secondary_cleaner.state.floatbank3_b_level          19438 non-null  float64\n",
      " 64  secondary_cleaner.state.floatbank4_a_air            19433 non-null  float64\n",
      " 65  secondary_cleaner.state.floatbank4_a_level          19438 non-null  float64\n",
      " 66  secondary_cleaner.state.floatbank4_b_air            19438 non-null  float64\n",
      " 67  secondary_cleaner.state.floatbank4_b_level          19438 non-null  float64\n",
      " 68  secondary_cleaner.state.floatbank5_a_air            19438 non-null  float64\n",
      " 69  secondary_cleaner.state.floatbank5_a_level          19438 non-null  float64\n",
      " 70  secondary_cleaner.state.floatbank5_b_air            19438 non-null  float64\n",
      " 71  secondary_cleaner.state.floatbank5_b_level          19438 non-null  float64\n",
      " 72  secondary_cleaner.state.floatbank6_a_air            19437 non-null  float64\n",
      " 73  secondary_cleaner.state.floatbank6_a_level          19438 non-null  float64\n",
      " 74  secondary_cleaner.output.tail_au                    19439 non-null  float64\n",
      " 75  secondary_cleaner.output.tail_ag                    19437 non-null  float64\n",
      " 76  secondary_cleaner.output.tail_pb                    19427 non-null  float64\n",
      " 77  secondary_cleaner.output.tail_sol                   17691 non-null  float64\n",
      " 78  final.output.concentrate_au                         19439 non-null  float64\n",
      " 79  final.output.concentrate_ag                         19438 non-null  float64\n",
      " 80  final.output.concentrate_pb                         19438 non-null  float64\n",
      " 81  final.output.concentrate_sol                        19228 non-null  float64\n",
      " 82  final.output.recovery                               19439 non-null  float64\n",
      " 83  final.output.tail_au                                19439 non-null  float64\n",
      " 84  final.output.tail_ag                                19438 non-null  float64\n",
      " 85  final.output.tail_pb                                19338 non-null  float64\n",
      " 86  final.output.tail_sol                               19433 non-null  float64\n",
      "dtypes: float64(86), object(1)\n",
      "memory usage: 12.9+ MB\n"
     ]
    }
   ],
   "source": [
    "full_df.info()"
   ]
  },
  {
   "cell_type": "code",
   "execution_count": 4,
   "metadata": {},
   "outputs": [
    {
     "name": "stdout",
     "output_type": "stream",
     "text": [
      "<class 'pandas.core.frame.DataFrame'>\n",
      "RangeIndex: 14579 entries, 0 to 14578\n",
      "Data columns (total 87 columns):\n",
      " #   Column                                              Non-Null Count  Dtype  \n",
      "---  ------                                              --------------  -----  \n",
      " 0   date                                                14579 non-null  object \n",
      " 1   rougher.input.feed_au                               14579 non-null  float64\n",
      " 2   rougher.input.feed_ag                               14579 non-null  float64\n",
      " 3   rougher.input.feed_pb                               14507 non-null  float64\n",
      " 4   rougher.input.feed_sol                              14502 non-null  float64\n",
      " 5   rougher.input.feed_rate                             14572 non-null  float64\n",
      " 6   rougher.input.feed_size                             14478 non-null  float64\n",
      " 7   rougher.input.floatbank10_sulfate                   14548 non-null  float64\n",
      " 8   rougher.input.floatbank10_xanthate                  14572 non-null  float64\n",
      " 9   rougher.state.floatbank10_a_air                     14579 non-null  float64\n",
      " 10  rougher.state.floatbank10_a_level                   14579 non-null  float64\n",
      " 11  rougher.state.floatbank10_b_air                     14579 non-null  float64\n",
      " 12  rougher.state.floatbank10_b_level                   14579 non-null  float64\n",
      " 13  rougher.state.floatbank10_c_air                     14579 non-null  float64\n",
      " 14  rougher.state.floatbank10_c_level                   14579 non-null  float64\n",
      " 15  rougher.state.floatbank10_d_air                     14579 non-null  float64\n",
      " 16  rougher.state.floatbank10_d_level                   14579 non-null  float64\n",
      " 17  rougher.state.floatbank10_e_air                     14150 non-null  float64\n",
      " 18  rougher.state.floatbank10_e_level                   14579 non-null  float64\n",
      " 19  rougher.state.floatbank10_f_air                     14579 non-null  float64\n",
      " 20  rougher.state.floatbank10_f_level                   14579 non-null  float64\n",
      " 21  rougher.input.floatbank11_sulfate                   14543 non-null  float64\n",
      " 22  rougher.input.floatbank11_xanthate                  14172 non-null  float64\n",
      " 23  rougher.calculation.sulfate_to_au_concentrate       14578 non-null  float64\n",
      " 24  rougher.calculation.floatbank10_sulfate_to_au_feed  14578 non-null  float64\n",
      " 25  rougher.calculation.floatbank11_sulfate_to_au_feed  14578 non-null  float64\n",
      " 26  rougher.calculation.au_pb_ratio                     14579 non-null  float64\n",
      " 27  rougher.output.concentrate_au                       14579 non-null  float64\n",
      " 28  rougher.output.concentrate_ag                       14579 non-null  float64\n",
      " 29  rougher.output.concentrate_pb                       14579 non-null  float64\n",
      " 30  rougher.output.concentrate_sol                      14561 non-null  float64\n",
      " 31  rougher.output.recovery                             14579 non-null  float64\n",
      " 32  rougher.output.tail_au                              14579 non-null  float64\n",
      " 33  rougher.output.tail_ag                              14578 non-null  float64\n",
      " 34  rougher.output.tail_pb                              14579 non-null  float64\n",
      " 35  rougher.output.tail_sol                             14579 non-null  float64\n",
      " 36  primary_cleaner.input.sulfate                       14556 non-null  float64\n",
      " 37  primary_cleaner.input.depressant                    14551 non-null  float64\n",
      " 38  primary_cleaner.input.feed_size                     14579 non-null  float64\n",
      " 39  primary_cleaner.input.xanthate                      14518 non-null  float64\n",
      " 40  primary_cleaner.state.floatbank8_a_air              14576 non-null  float64\n",
      " 41  primary_cleaner.state.floatbank8_a_level            14579 non-null  float64\n",
      " 42  primary_cleaner.state.floatbank8_b_air              14576 non-null  float64\n",
      " 43  primary_cleaner.state.floatbank8_b_level            14579 non-null  float64\n",
      " 44  primary_cleaner.state.floatbank8_c_air              14579 non-null  float64\n",
      " 45  primary_cleaner.state.floatbank8_c_level            14579 non-null  float64\n",
      " 46  primary_cleaner.state.floatbank8_d_air              14578 non-null  float64\n",
      " 47  primary_cleaner.state.floatbank8_d_level            14579 non-null  float64\n",
      " 48  primary_cleaner.output.concentrate_au               14579 non-null  float64\n",
      " 49  primary_cleaner.output.concentrate_ag               14579 non-null  float64\n",
      " 50  primary_cleaner.output.concentrate_pb               14491 non-null  float64\n",
      " 51  primary_cleaner.output.concentrate_sol              14314 non-null  float64\n",
      " 52  primary_cleaner.output.tail_au                      14579 non-null  float64\n",
      " 53  primary_cleaner.output.tail_ag                      14575 non-null  float64\n",
      " 54  primary_cleaner.output.tail_pb                      14573 non-null  float64\n",
      " 55  primary_cleaner.output.tail_sol                     14534 non-null  float64\n",
      " 56  secondary_cleaner.state.floatbank2_a_air            14485 non-null  float64\n",
      " 57  secondary_cleaner.state.floatbank2_a_level          14579 non-null  float64\n",
      " 58  secondary_cleaner.state.floatbank2_b_air            14557 non-null  float64\n",
      " 59  secondary_cleaner.state.floatbank2_b_level          14579 non-null  float64\n",
      " 60  secondary_cleaner.state.floatbank3_a_air            14567 non-null  float64\n",
      " 61  secondary_cleaner.state.floatbank3_a_level          14579 non-null  float64\n",
      " 62  secondary_cleaner.state.floatbank3_b_air            14579 non-null  float64\n",
      " 63  secondary_cleaner.state.floatbank3_b_level          14579 non-null  float64\n",
      " 64  secondary_cleaner.state.floatbank4_a_air            14574 non-null  float64\n",
      " 65  secondary_cleaner.state.floatbank4_a_level          14579 non-null  float64\n",
      " 66  secondary_cleaner.state.floatbank4_b_air            14579 non-null  float64\n",
      " 67  secondary_cleaner.state.floatbank4_b_level          14579 non-null  float64\n",
      " 68  secondary_cleaner.state.floatbank5_a_air            14579 non-null  float64\n",
      " 69  secondary_cleaner.state.floatbank5_a_level          14579 non-null  float64\n",
      " 70  secondary_cleaner.state.floatbank5_b_air            14579 non-null  float64\n",
      " 71  secondary_cleaner.state.floatbank5_b_level          14579 non-null  float64\n",
      " 72  secondary_cleaner.state.floatbank6_a_air            14578 non-null  float64\n",
      " 73  secondary_cleaner.state.floatbank6_a_level          14579 non-null  float64\n",
      " 74  secondary_cleaner.output.tail_au                    14579 non-null  float64\n",
      " 75  secondary_cleaner.output.tail_ag                    14578 non-null  float64\n",
      " 76  secondary_cleaner.output.tail_pb                    14575 non-null  float64\n",
      " 77  secondary_cleaner.output.tail_sol                   13659 non-null  float64\n",
      " 78  final.output.concentrate_au                         14579 non-null  float64\n",
      " 79  final.output.concentrate_ag                         14578 non-null  float64\n",
      " 80  final.output.concentrate_pb                         14578 non-null  float64\n",
      " 81  final.output.concentrate_sol                        14387 non-null  float64\n",
      " 82  final.output.recovery                               14579 non-null  float64\n",
      " 83  final.output.tail_au                                14579 non-null  float64\n",
      " 84  final.output.tail_ag                                14578 non-null  float64\n",
      " 85  final.output.tail_pb                                14504 non-null  float64\n",
      " 86  final.output.tail_sol                               14574 non-null  float64\n",
      "dtypes: float64(86), object(1)\n",
      "memory usage: 9.7+ MB\n"
     ]
    }
   ],
   "source": [
    "train_df.info()"
   ]
  },
  {
   "cell_type": "code",
   "execution_count": 5,
   "metadata": {},
   "outputs": [
    {
     "name": "stdout",
     "output_type": "stream",
     "text": [
      "<class 'pandas.core.frame.DataFrame'>\n",
      "RangeIndex: 4860 entries, 0 to 4859\n",
      "Data columns (total 53 columns):\n",
      " #   Column                                      Non-Null Count  Dtype  \n",
      "---  ------                                      --------------  -----  \n",
      " 0   date                                        4860 non-null   object \n",
      " 1   rougher.input.feed_au                       4860 non-null   float64\n",
      " 2   rougher.input.feed_ag                       4860 non-null   float64\n",
      " 3   rougher.input.feed_pb                       4832 non-null   float64\n",
      " 4   rougher.input.feed_sol                      4838 non-null   float64\n",
      " 5   rougher.input.feed_rate                     4856 non-null   float64\n",
      " 6   rougher.input.feed_size                     4816 non-null   float64\n",
      " 7   rougher.input.floatbank10_sulfate           4857 non-null   float64\n",
      " 8   rougher.input.floatbank10_xanthate          4859 non-null   float64\n",
      " 9   rougher.state.floatbank10_a_air             4859 non-null   float64\n",
      " 10  rougher.state.floatbank10_a_level           4859 non-null   float64\n",
      " 11  rougher.state.floatbank10_b_air             4859 non-null   float64\n",
      " 12  rougher.state.floatbank10_b_level           4859 non-null   float64\n",
      " 13  rougher.state.floatbank10_c_air             4859 non-null   float64\n",
      " 14  rougher.state.floatbank10_c_level           4859 non-null   float64\n",
      " 15  rougher.state.floatbank10_d_air             4860 non-null   float64\n",
      " 16  rougher.state.floatbank10_d_level           4860 non-null   float64\n",
      " 17  rougher.state.floatbank10_e_air             4853 non-null   float64\n",
      " 18  rougher.state.floatbank10_e_level           4860 non-null   float64\n",
      " 19  rougher.state.floatbank10_f_air             4860 non-null   float64\n",
      " 20  rougher.state.floatbank10_f_level           4860 non-null   float64\n",
      " 21  rougher.input.floatbank11_sulfate           4852 non-null   float64\n",
      " 22  rougher.input.floatbank11_xanthate          4814 non-null   float64\n",
      " 23  primary_cleaner.input.sulfate               4859 non-null   float64\n",
      " 24  primary_cleaner.input.depressant            4851 non-null   float64\n",
      " 25  primary_cleaner.input.feed_size             4860 non-null   float64\n",
      " 26  primary_cleaner.input.xanthate              4817 non-null   float64\n",
      " 27  primary_cleaner.state.floatbank8_a_air      4859 non-null   float64\n",
      " 28  primary_cleaner.state.floatbank8_a_level    4859 non-null   float64\n",
      " 29  primary_cleaner.state.floatbank8_b_air      4859 non-null   float64\n",
      " 30  primary_cleaner.state.floatbank8_b_level    4859 non-null   float64\n",
      " 31  primary_cleaner.state.floatbank8_c_air      4858 non-null   float64\n",
      " 32  primary_cleaner.state.floatbank8_c_level    4859 non-null   float64\n",
      " 33  primary_cleaner.state.floatbank8_d_air      4858 non-null   float64\n",
      " 34  primary_cleaner.state.floatbank8_d_level    4859 non-null   float64\n",
      " 35  secondary_cleaner.state.floatbank2_a_air    4734 non-null   float64\n",
      " 36  secondary_cleaner.state.floatbank2_a_level  4859 non-null   float64\n",
      " 37  secondary_cleaner.state.floatbank2_b_air    4859 non-null   float64\n",
      " 38  secondary_cleaner.state.floatbank2_b_level  4859 non-null   float64\n",
      " 39  secondary_cleaner.state.floatbank3_a_air    4859 non-null   float64\n",
      " 40  secondary_cleaner.state.floatbank3_a_level  4859 non-null   float64\n",
      " 41  secondary_cleaner.state.floatbank3_b_air    4859 non-null   float64\n",
      " 42  secondary_cleaner.state.floatbank3_b_level  4859 non-null   float64\n",
      " 43  secondary_cleaner.state.floatbank4_a_air    4859 non-null   float64\n",
      " 44  secondary_cleaner.state.floatbank4_a_level  4859 non-null   float64\n",
      " 45  secondary_cleaner.state.floatbank4_b_air    4859 non-null   float64\n",
      " 46  secondary_cleaner.state.floatbank4_b_level  4859 non-null   float64\n",
      " 47  secondary_cleaner.state.floatbank5_a_air    4859 non-null   float64\n",
      " 48  secondary_cleaner.state.floatbank5_a_level  4859 non-null   float64\n",
      " 49  secondary_cleaner.state.floatbank5_b_air    4859 non-null   float64\n",
      " 50  secondary_cleaner.state.floatbank5_b_level  4859 non-null   float64\n",
      " 51  secondary_cleaner.state.floatbank6_a_air    4859 non-null   float64\n",
      " 52  secondary_cleaner.state.floatbank6_a_level  4859 non-null   float64\n",
      "dtypes: float64(52), object(1)\n",
      "memory usage: 2.0+ MB\n"
     ]
    }
   ],
   "source": [
    "test_df.info()"
   ]
  },
  {
   "cell_type": "markdown",
   "metadata": {},
   "source": [
    "Видим что во всех таблицах есть пропуски"
   ]
  },
  {
   "cell_type": "code",
   "execution_count": 6,
   "metadata": {},
   "outputs": [
    {
     "name": "stdout",
     "output_type": "stream",
     "text": [
      "Колличество пропусков в тестовой выборке: 375\n",
      "Колличество пропусков в обучающей выборке: 3050\n",
      "Колличество пропусков в полной выборке: 4481\n"
     ]
    }
   ],
   "source": [
    "print('Колличество пропусков в тестовой выборке:', test_df.isnull().sum().sum())\n",
    "print('Колличество пропусков в обучающей выборке:', train_df.isnull().sum().sum())\n",
    "print('Колличество пропусков в полной выборке:', full_df.isnull().sum().sum())"
   ]
  },
  {
   "cell_type": "code",
   "execution_count": 7,
   "metadata": {},
   "outputs": [
    {
     "data": {
      "text/plain": [
       "(19439, 87)"
      ]
     },
     "execution_count": 7,
     "metadata": {},
     "output_type": "execute_result"
    }
   ],
   "source": [
    "full_df.shape"
   ]
  },
  {
   "cell_type": "code",
   "execution_count": 8,
   "metadata": {},
   "outputs": [
    {
     "data": {
      "text/plain": [
       "(14579, 87)"
      ]
     },
     "execution_count": 8,
     "metadata": {},
     "output_type": "execute_result"
    }
   ],
   "source": [
    "train_df.shape"
   ]
  },
  {
   "cell_type": "code",
   "execution_count": 9,
   "metadata": {},
   "outputs": [
    {
     "data": {
      "text/plain": [
       "(4860, 53)"
      ]
     },
     "execution_count": 9,
     "metadata": {},
     "output_type": "execute_result"
    }
   ],
   "source": [
    "test_df.shape"
   ]
  },
  {
   "cell_type": "markdown",
   "metadata": {},
   "source": [
    "С данными познакомились. Обратим внимание, что в данных очень много пропущенных значений. Позже решим, что с ними делать. Перейдём к следующему этапу."
   ]
  },
  {
   "cell_type": "markdown",
   "metadata": {},
   "source": [
    "# Расчёт эффективности обогащения"
   ]
  },
  {
   "attachments": {
    "image.png": {
     "image/png": "[encoded data removed]"
    }
   },
   "cell_type": "markdown",
   "metadata": {},
   "source": [
    "Проверим правильно ли рассчитана эффективность обогащения в нашей обучающей выборке, которая лежит в столбце rougher.output.recovery. Для этого вручную расчитаем нашу эффективность по формуле:\n",
    "\n",
    "![image.png](attachment:image.png)"
   ]
  },
  {
   "cell_type": "markdown",
   "metadata": {},
   "source": [
    "Где:\n",
    "\n",
    "- C — доля золота в концентрате после флотации/очистки\n",
    "- F — доля золота в сырье/концентрате до флотации/очистки\n",
    "- T — доля золота в отвальных хвостах после флотации/очистки\n",
    "\n",
    "И найдём cреднюю абсолютную ошибку между нашими расчётами и значением признака в столбце. Так мы узнаем верно ли рассчитана эффективность обогащения в нашем признаке. Приступим."
   ]
  },
  {
   "cell_type": "code",
   "execution_count": 10,
   "metadata": {},
   "outputs": [],
   "source": [
    "C = train_df['rougher.output.concentrate_au']\n",
    "F = train_df['rougher.input.feed_au']\n",
    "T = train_df['rougher.output.tail_au']"
   ]
  },
  {
   "cell_type": "code",
   "execution_count": 11,
   "metadata": {},
   "outputs": [],
   "source": [
    "recovery = C * (F - T) / (F * (C - T)) * 100"
   ]
  },
  {
   "attachments": {
    "image.png": {
     "image/png": "[encoded data removed]"
    }
   },
   "cell_type": "markdown",
   "metadata": {},
   "source": [
    "Отлично. Теперь расчитаем среднюю абсолютную ошибку, т.к. в наших данных есть пропуски и при их удалении пропусков получаются разные размеры наших датафреймов, то тут готовая формула из библиотеки sklearn не подойдёт. Напишем нашу формулу вручную.\n",
    "![image.png](attachment:image.png)"
   ]
  },
  {
   "cell_type": "code",
   "execution_count": 12,
   "metadata": {},
   "outputs": [
    {
     "data": {
      "text/plain": [
       "9.83758577644259e-15"
      ]
     },
     "execution_count": 12,
     "metadata": {},
     "output_type": "execute_result"
    }
   ],
   "source": [
    "(abs(recovery - train_df['rougher.output.recovery']).sum()) / len(train_df)"
   ]
  },
  {
   "cell_type": "markdown",
   "metadata": {},
   "source": [
    "Как помним, что чем ниже значение, тем лучше. Значит наша эффективность расчитана верно. Переходим к следущему шагу."
   ]
  },
  {
   "cell_type": "code",
   "execution_count": 13,
   "metadata": {},
   "outputs": [
    {
     "data": {
      "text/plain": [
       "-1.1102230246251565e-16"
      ]
     },
     "execution_count": 13,
     "metadata": {},
     "output_type": "execute_result"
    }
   ],
   "source": [
    "# КОД РЕВЬЮЕРА\n",
    "1/2 + 1/3 - 5/6"
   ]
  },
  {
   "cell_type": "markdown",
   "metadata": {},
   "source": [
    "# Анализ признаков, недоступных в тестовой выборке."
   ]
  },
  {
   "cell_type": "markdown",
   "metadata": {},
   "source": [
    "Посчитаем сколько у нас недоступных признаков в тестовой выборке."
   ]
  },
  {
   "cell_type": "code",
   "execution_count": 14,
   "metadata": {},
   "outputs": [
    {
     "data": {
      "text/plain": [
       "34"
      ]
     },
     "execution_count": 14,
     "metadata": {},
     "output_type": "execute_result"
    }
   ],
   "source": [
    "train_df.shape[1] - test_df.shape[1]"
   ]
  },
  {
   "cell_type": "markdown",
   "metadata": {},
   "source": [
    "Теперь посмотрим на них."
   ]
  },
  {
   "cell_type": "code",
   "execution_count": 15,
   "metadata": {},
   "outputs": [
    {
     "data": {
      "text/plain": [
       "Index(['rougher.calculation.sulfate_to_au_concentrate',\n",
       "       'rougher.calculation.floatbank10_sulfate_to_au_feed',\n",
       "       'rougher.calculation.floatbank11_sulfate_to_au_feed',\n",
       "       'rougher.calculation.au_pb_ratio', 'rougher.output.concentrate_au',\n",
       "       'rougher.output.concentrate_ag', 'rougher.output.concentrate_pb',\n",
       "       'rougher.output.concentrate_sol', 'rougher.output.recovery',\n",
       "       'rougher.output.tail_au', 'rougher.output.tail_ag',\n",
       "       'rougher.output.tail_pb', 'rougher.output.tail_sol',\n",
       "       'primary_cleaner.output.concentrate_au',\n",
       "       'primary_cleaner.output.concentrate_ag',\n",
       "       'primary_cleaner.output.concentrate_pb',\n",
       "       'primary_cleaner.output.concentrate_sol',\n",
       "       'primary_cleaner.output.tail_au', 'primary_cleaner.output.tail_ag',\n",
       "       'primary_cleaner.output.tail_pb', 'primary_cleaner.output.tail_sol',\n",
       "       'secondary_cleaner.output.tail_au', 'secondary_cleaner.output.tail_ag',\n",
       "       'secondary_cleaner.output.tail_pb', 'secondary_cleaner.output.tail_sol',\n",
       "       'final.output.concentrate_au', 'final.output.concentrate_ag',\n",
       "       'final.output.concentrate_pb', 'final.output.concentrate_sol',\n",
       "       'final.output.recovery', 'final.output.tail_au', 'final.output.tail_ag',\n",
       "       'final.output.tail_pb', 'final.output.tail_sol'],\n",
       "      dtype='object')"
      ]
     },
     "execution_count": 15,
     "metadata": {},
     "output_type": "execute_result"
    }
   ],
   "source": [
    "train_df.columns.drop(test_df.columns)"
   ]
  },
  {
   "cell_type": "markdown",
   "metadata": {},
   "source": [
    "Видим, что в тестовой выборке у нас отсутствуют все этапы на которых были получены параметры продукта из сырья. Условно, конечные значения после каждого этапа обработки. Это говорит нам о том, что мы должны удалить из train все, чего нету в test, иначе мы не построим проверяемую модель. Переходим к следующему этапу."
   ]
  },
  {
   "cell_type": "markdown",
   "metadata": {},
   "source": [
    "# Предобработка данных"
   ]
  },
  {
   "cell_type": "markdown",
   "metadata": {},
   "source": [
    "Для начала удалим строки с пропусками в целевом признаке, а позже и сами не нужные нам столбцы."
   ]
  },
  {
   "cell_type": "code",
   "execution_count": 16,
   "metadata": {},
   "outputs": [],
   "source": [
    "train_df.dropna(subset=['final.output.recovery', 'rougher.output.recovery'], inplace=True)"
   ]
  },
  {
   "cell_type": "code",
   "execution_count": 17,
   "metadata": {},
   "outputs": [],
   "source": [
    "drop_test = train_df.columns.drop(test_df.columns)"
   ]
  },
  {
   "cell_type": "code",
   "execution_count": 18,
   "metadata": {},
   "outputs": [],
   "source": [
    "train_df.drop(drop_test, axis=1, inplace=True)"
   ]
  },
  {
   "cell_type": "markdown",
   "metadata": {},
   "source": [
    "И преобразуем дату в индекс"
   ]
  },
  {
   "cell_type": "code",
   "execution_count": 19,
   "metadata": {},
   "outputs": [],
   "source": [
    "train_df.set_index('date', inplace=True)\n",
    "test_df.set_index('date', inplace=True)\n",
    "full_df.set_index('date', inplace=True)"
   ]
  },
  {
   "cell_type": "markdown",
   "metadata": {},
   "source": [
    "Сначала удалим строки с пропущенным целевым прзнаком, а после заполним пропуски c помощью ffill"
   ]
  },
  {
   "cell_type": "code",
   "execution_count": 23,
   "metadata": {},
   "outputs": [],
   "source": [
    "train_df.fillna(method='ffill', inplace=True)\n",
    "test_df.fillna(method='ffill', inplace=True)\n",
    "full_df.fillna(method='ffill', inplace=True)"
   ]
  },
  {
   "cell_type": "code",
   "execution_count": 24,
   "metadata": {},
   "outputs": [],
   "source": [
    "new_train_df = train_df\n",
    "new_test_df = test_df"
   ]
  },
  {
   "cell_type": "code",
   "execution_count": 25,
   "metadata": {},
   "outputs": [
    {
     "name": "stdout",
     "output_type": "stream",
     "text": [
      "Колличество пропусков до обработки данных в обучающей выборке: 0\n",
      "Колличество пропусков после обработки данных в обучающей выборке: 0\n",
      "Колличество пропусков до обработки данных в тестовой выборке: 0\n",
      "Колличество пропусков после обработки данны в тествой выборке: 0\n"
     ]
    }
   ],
   "source": []
  },
  {
   "cell_type": "code",
   "execution_count": 26,
   "metadata": {},
   "outputs": [
    {
     "data": {
      "text/html": [
       "<div>\n",
       "<style scoped>\n",
       "    .dataframe tbody tr th:only-of-type {\n",
       "        vertical-align: middle;\n",
       "    }\n",
       "\n",
       "    .dataframe tbody tr th {\n",
       "        vertical-align: top;\n",
       "    }\n",
       "\n",
       "    .dataframe thead th {\n",
       "        text-align: right;\n",
       "    }\n",
       "</style>\n",
       "<table border=\"1\" class=\"dataframe\">\n",
       "  <thead>\n",
       "    <tr style=\"text-align: right;\">\n",
       "      <th></th>\n",
       "      <th>rougher.input.feed_au</th>\n",
       "      <th>rougher.input.feed_ag</th>\n",
       "      <th>rougher.input.feed_pb</th>\n",
       "      <th>rougher.input.feed_sol</th>\n",
       "      <th>rougher.input.feed_rate</th>\n",
       "      <th>rougher.input.feed_size</th>\n",
       "      <th>rougher.input.floatbank10_sulfate</th>\n",
       "      <th>rougher.input.floatbank10_xanthate</th>\n",
       "      <th>rougher.state.floatbank10_a_air</th>\n",
       "      <th>rougher.state.floatbank10_a_level</th>\n",
       "      <th>...</th>\n",
       "      <th>secondary_cleaner.state.floatbank4_a_air</th>\n",
       "      <th>secondary_cleaner.state.floatbank4_a_level</th>\n",
       "      <th>secondary_cleaner.state.floatbank4_b_air</th>\n",
       "      <th>secondary_cleaner.state.floatbank4_b_level</th>\n",
       "      <th>secondary_cleaner.state.floatbank5_a_air</th>\n",
       "      <th>secondary_cleaner.state.floatbank5_a_level</th>\n",
       "      <th>secondary_cleaner.state.floatbank5_b_air</th>\n",
       "      <th>secondary_cleaner.state.floatbank5_b_level</th>\n",
       "      <th>secondary_cleaner.state.floatbank6_a_air</th>\n",
       "      <th>secondary_cleaner.state.floatbank6_a_level</th>\n",
       "    </tr>\n",
       "    <tr>\n",
       "      <th>date</th>\n",
       "      <th></th>\n",
       "      <th></th>\n",
       "      <th></th>\n",
       "      <th></th>\n",
       "      <th></th>\n",
       "      <th></th>\n",
       "      <th></th>\n",
       "      <th></th>\n",
       "      <th></th>\n",
       "      <th></th>\n",
       "      <th></th>\n",
       "      <th></th>\n",
       "      <th></th>\n",
       "      <th></th>\n",
       "      <th></th>\n",
       "      <th></th>\n",
       "      <th></th>\n",
       "      <th></th>\n",
       "      <th></th>\n",
       "      <th></th>\n",
       "      <th></th>\n",
       "    </tr>\n",
       "  </thead>\n",
       "  <tbody>\n",
       "    <tr>\n",
       "      <th>2017-12-09 14:59:59</th>\n",
       "      <td>4.365491</td>\n",
       "      <td>6.158718</td>\n",
       "      <td>3.875727</td>\n",
       "      <td>39.135119</td>\n",
       "      <td>555.820208</td>\n",
       "      <td>94.544358</td>\n",
       "      <td>6.146982</td>\n",
       "      <td>9.308612</td>\n",
       "      <td>1196.238112</td>\n",
       "      <td>-299.862743</td>\n",
       "      <td>...</td>\n",
       "      <td>23.018622</td>\n",
       "      <td>-500.492702</td>\n",
       "      <td>20.020205</td>\n",
       "      <td>-500.220296</td>\n",
       "      <td>17.963512</td>\n",
       "      <td>-499.939490</td>\n",
       "      <td>12.990306</td>\n",
       "      <td>-500.080993</td>\n",
       "      <td>19.990336</td>\n",
       "      <td>-499.191575</td>\n",
       "    </tr>\n",
       "    <tr>\n",
       "      <th>2017-12-09 15:59:59</th>\n",
       "      <td>4.362781</td>\n",
       "      <td>6.048130</td>\n",
       "      <td>3.902537</td>\n",
       "      <td>39.713906</td>\n",
       "      <td>544.731687</td>\n",
       "      <td>123.742430</td>\n",
       "      <td>6.210119</td>\n",
       "      <td>9.297709</td>\n",
       "      <td>1201.904177</td>\n",
       "      <td>-299.907308</td>\n",
       "      <td>...</td>\n",
       "      <td>23.024963</td>\n",
       "      <td>-501.153409</td>\n",
       "      <td>20.054122</td>\n",
       "      <td>-500.314711</td>\n",
       "      <td>17.979515</td>\n",
       "      <td>-499.272871</td>\n",
       "      <td>12.992404</td>\n",
       "      <td>-499.976268</td>\n",
       "      <td>20.013986</td>\n",
       "      <td>-500.625471</td>\n",
       "    </tr>\n",
       "    <tr>\n",
       "      <th>2017-12-09 16:59:59</th>\n",
       "      <td>5.081681</td>\n",
       "      <td>6.082745</td>\n",
       "      <td>4.564078</td>\n",
       "      <td>37.208683</td>\n",
       "      <td>558.155110</td>\n",
       "      <td>82.610855</td>\n",
       "      <td>7.363824</td>\n",
       "      <td>9.003562</td>\n",
       "      <td>1200.826926</td>\n",
       "      <td>-300.124116</td>\n",
       "      <td>...</td>\n",
       "      <td>22.993827</td>\n",
       "      <td>-501.559663</td>\n",
       "      <td>20.029144</td>\n",
       "      <td>-500.000662</td>\n",
       "      <td>18.012723</td>\n",
       "      <td>-500.024764</td>\n",
       "      <td>13.016445</td>\n",
       "      <td>-500.058432</td>\n",
       "      <td>19.973767</td>\n",
       "      <td>-501.394155</td>\n",
       "    </tr>\n",
       "    <tr>\n",
       "      <th>2017-12-09 17:59:59</th>\n",
       "      <td>5.145949</td>\n",
       "      <td>6.084374</td>\n",
       "      <td>4.768124</td>\n",
       "      <td>36.808874</td>\n",
       "      <td>539.713765</td>\n",
       "      <td>77.984784</td>\n",
       "      <td>6.927072</td>\n",
       "      <td>8.955597</td>\n",
       "      <td>1199.292489</td>\n",
       "      <td>-299.778385</td>\n",
       "      <td>...</td>\n",
       "      <td>23.032807</td>\n",
       "      <td>-501.287889</td>\n",
       "      <td>19.977466</td>\n",
       "      <td>-500.159903</td>\n",
       "      <td>17.980463</td>\n",
       "      <td>-500.504602</td>\n",
       "      <td>12.949071</td>\n",
       "      <td>-500.009937</td>\n",
       "      <td>20.010332</td>\n",
       "      <td>-508.337973</td>\n",
       "    </tr>\n",
       "    <tr>\n",
       "      <th>2017-12-09 18:59:59</th>\n",
       "      <td>5.735249</td>\n",
       "      <td>6.165220</td>\n",
       "      <td>4.512346</td>\n",
       "      <td>37.810642</td>\n",
       "      <td>558.713584</td>\n",
       "      <td>86.434874</td>\n",
       "      <td>7.823471</td>\n",
       "      <td>7.490356</td>\n",
       "      <td>1198.005449</td>\n",
       "      <td>-300.283401</td>\n",
       "      <td>...</td>\n",
       "      <td>23.001911</td>\n",
       "      <td>-499.947838</td>\n",
       "      <td>20.023735</td>\n",
       "      <td>-499.713680</td>\n",
       "      <td>17.990955</td>\n",
       "      <td>-500.334769</td>\n",
       "      <td>13.007523</td>\n",
       "      <td>-499.968459</td>\n",
       "      <td>19.995999</td>\n",
       "      <td>-499.788805</td>\n",
       "    </tr>\n",
       "    <tr>\n",
       "      <th>...</th>\n",
       "      <td>...</td>\n",
       "      <td>...</td>\n",
       "      <td>...</td>\n",
       "      <td>...</td>\n",
       "      <td>...</td>\n",
       "      <td>...</td>\n",
       "      <td>...</td>\n",
       "      <td>...</td>\n",
       "      <td>...</td>\n",
       "      <td>...</td>\n",
       "      <td>...</td>\n",
       "      <td>...</td>\n",
       "      <td>...</td>\n",
       "      <td>...</td>\n",
       "      <td>...</td>\n",
       "      <td>...</td>\n",
       "      <td>...</td>\n",
       "      <td>...</td>\n",
       "      <td>...</td>\n",
       "      <td>...</td>\n",
       "      <td>...</td>\n",
       "    </tr>\n",
       "    <tr>\n",
       "      <th>2018-08-18 06:59:59</th>\n",
       "      <td>6.620245</td>\n",
       "      <td>5.992592</td>\n",
       "      <td>2.589242</td>\n",
       "      <td>39.934641</td>\n",
       "      <td>578.654582</td>\n",
       "      <td>63.473450</td>\n",
       "      <td>14.688804</td>\n",
       "      <td>6.898599</td>\n",
       "      <td>999.688257</td>\n",
       "      <td>-399.217124</td>\n",
       "      <td>...</td>\n",
       "      <td>14.003057</td>\n",
       "      <td>-503.152258</td>\n",
       "      <td>12.016724</td>\n",
       "      <td>-501.136446</td>\n",
       "      <td>10.041864</td>\n",
       "      <td>-499.338844</td>\n",
       "      <td>8.007022</td>\n",
       "      <td>-500.279583</td>\n",
       "      <td>14.001271</td>\n",
       "      <td>-602.072365</td>\n",
       "    </tr>\n",
       "    <tr>\n",
       "      <th>2018-08-18 07:59:59</th>\n",
       "      <td>6.741324</td>\n",
       "      <td>6.158617</td>\n",
       "      <td>2.647185</td>\n",
       "      <td>40.176307</td>\n",
       "      <td>571.622005</td>\n",
       "      <td>62.815291</td>\n",
       "      <td>14.892720</td>\n",
       "      <td>6.903204</td>\n",
       "      <td>1000.479783</td>\n",
       "      <td>-399.574748</td>\n",
       "      <td>...</td>\n",
       "      <td>14.031220</td>\n",
       "      <td>-503.471307</td>\n",
       "      <td>11.966426</td>\n",
       "      <td>-500.656842</td>\n",
       "      <td>10.051620</td>\n",
       "      <td>-498.318772</td>\n",
       "      <td>8.018091</td>\n",
       "      <td>-499.696138</td>\n",
       "      <td>13.958937</td>\n",
       "      <td>-599.213013</td>\n",
       "    </tr>\n",
       "    <tr>\n",
       "      <th>2018-08-18 08:59:59</th>\n",
       "      <td>6.627458</td>\n",
       "      <td>6.015149</td>\n",
       "      <td>2.466127</td>\n",
       "      <td>39.841423</td>\n",
       "      <td>563.733146</td>\n",
       "      <td>61.287347</td>\n",
       "      <td>13.723692</td>\n",
       "      <td>6.700148</td>\n",
       "      <td>1000.014718</td>\n",
       "      <td>-400.320877</td>\n",
       "      <td>...</td>\n",
       "      <td>13.996317</td>\n",
       "      <td>-502.995300</td>\n",
       "      <td>11.980055</td>\n",
       "      <td>-500.607751</td>\n",
       "      <td>9.964501</td>\n",
       "      <td>-499.261719</td>\n",
       "      <td>8.065048</td>\n",
       "      <td>-499.492395</td>\n",
       "      <td>13.997801</td>\n",
       "      <td>-600.621416</td>\n",
       "    </tr>\n",
       "    <tr>\n",
       "      <th>2018-08-18 09:59:59</th>\n",
       "      <td>6.702243</td>\n",
       "      <td>6.097592</td>\n",
       "      <td>2.278955</td>\n",
       "      <td>37.728375</td>\n",
       "      <td>549.812490</td>\n",
       "      <td>59.637037</td>\n",
       "      <td>13.746510</td>\n",
       "      <td>6.706417</td>\n",
       "      <td>999.635748</td>\n",
       "      <td>-399.484884</td>\n",
       "      <td>...</td>\n",
       "      <td>13.983963</td>\n",
       "      <td>-503.675714</td>\n",
       "      <td>11.928745</td>\n",
       "      <td>-500.583183</td>\n",
       "      <td>9.970359</td>\n",
       "      <td>-498.822343</td>\n",
       "      <td>8.016377</td>\n",
       "      <td>-499.013145</td>\n",
       "      <td>14.000032</td>\n",
       "      <td>-600.024741</td>\n",
       "    </tr>\n",
       "    <tr>\n",
       "      <th>2018-08-18 10:59:59</th>\n",
       "      <td>6.633002</td>\n",
       "      <td>5.908793</td>\n",
       "      <td>2.440899</td>\n",
       "      <td>36.958540</td>\n",
       "      <td>573.076049</td>\n",
       "      <td>58.509262</td>\n",
       "      <td>13.707775</td>\n",
       "      <td>6.820245</td>\n",
       "      <td>1000.589156</td>\n",
       "      <td>-398.879586</td>\n",
       "      <td>...</td>\n",
       "      <td>13.989632</td>\n",
       "      <td>-503.195299</td>\n",
       "      <td>12.052233</td>\n",
       "      <td>-500.928547</td>\n",
       "      <td>9.962574</td>\n",
       "      <td>-502.986357</td>\n",
       "      <td>7.979219</td>\n",
       "      <td>-500.146835</td>\n",
       "      <td>13.981614</td>\n",
       "      <td>-598.070855</td>\n",
       "    </tr>\n",
       "  </tbody>\n",
       "</table>\n",
       "<p>4860 rows × 52 columns</p>\n",
       "</div>"
      ],
      "text/plain": [
       "                     rougher.input.feed_au  rougher.input.feed_ag  \\\n",
       "date                                                                \n",
       "2017-12-09 14:59:59               4.365491               6.158718   \n",
       "2017-12-09 15:59:59               4.362781               6.048130   \n",
       "2017-12-09 16:59:59               5.081681               6.082745   \n",
       "2017-12-09 17:59:59               5.145949               6.084374   \n",
       "2017-12-09 18:59:59               5.735249               6.165220   \n",
       "...                                    ...                    ...   \n",
       "2018-08-18 06:59:59               6.620245               5.992592   \n",
       "2018-08-18 07:59:59               6.741324               6.158617   \n",
       "2018-08-18 08:59:59               6.627458               6.015149   \n",
       "2018-08-18 09:59:59               6.702243               6.097592   \n",
       "2018-08-18 10:59:59               6.633002               5.908793   \n",
       "\n",
       "                     rougher.input.feed_pb  rougher.input.feed_sol  \\\n",
       "date                                                                 \n",
       "2017-12-09 14:59:59               3.875727               39.135119   \n",
       "2017-12-09 15:59:59               3.902537               39.713906   \n",
       "2017-12-09 16:59:59               4.564078               37.208683   \n",
       "2017-12-09 17:59:59               4.768124               36.808874   \n",
       "2017-12-09 18:59:59               4.512346               37.810642   \n",
       "...                                    ...                     ...   \n",
       "2018-08-18 06:59:59               2.589242               39.934641   \n",
       "2018-08-18 07:59:59               2.647185               40.176307   \n",
       "2018-08-18 08:59:59               2.466127               39.841423   \n",
       "2018-08-18 09:59:59               2.278955               37.728375   \n",
       "2018-08-18 10:59:59               2.440899               36.958540   \n",
       "\n",
       "                     rougher.input.feed_rate  rougher.input.feed_size  \\\n",
       "date                                                                    \n",
       "2017-12-09 14:59:59               555.820208                94.544358   \n",
       "2017-12-09 15:59:59               544.731687               123.742430   \n",
       "2017-12-09 16:59:59               558.155110                82.610855   \n",
       "2017-12-09 17:59:59               539.713765                77.984784   \n",
       "2017-12-09 18:59:59               558.713584                86.434874   \n",
       "...                                      ...                      ...   \n",
       "2018-08-18 06:59:59               578.654582                63.473450   \n",
       "2018-08-18 07:59:59               571.622005                62.815291   \n",
       "2018-08-18 08:59:59               563.733146                61.287347   \n",
       "2018-08-18 09:59:59               549.812490                59.637037   \n",
       "2018-08-18 10:59:59               573.076049                58.509262   \n",
       "\n",
       "                     rougher.input.floatbank10_sulfate  \\\n",
       "date                                                     \n",
       "2017-12-09 14:59:59                           6.146982   \n",
       "2017-12-09 15:59:59                           6.210119   \n",
       "2017-12-09 16:59:59                           7.363824   \n",
       "2017-12-09 17:59:59                           6.927072   \n",
       "2017-12-09 18:59:59                           7.823471   \n",
       "...                                                ...   \n",
       "2018-08-18 06:59:59                          14.688804   \n",
       "2018-08-18 07:59:59                          14.892720   \n",
       "2018-08-18 08:59:59                          13.723692   \n",
       "2018-08-18 09:59:59                          13.746510   \n",
       "2018-08-18 10:59:59                          13.707775   \n",
       "\n",
       "                     rougher.input.floatbank10_xanthate  \\\n",
       "date                                                      \n",
       "2017-12-09 14:59:59                            9.308612   \n",
       "2017-12-09 15:59:59                            9.297709   \n",
       "2017-12-09 16:59:59                            9.003562   \n",
       "2017-12-09 17:59:59                            8.955597   \n",
       "2017-12-09 18:59:59                            7.490356   \n",
       "...                                                 ...   \n",
       "2018-08-18 06:59:59                            6.898599   \n",
       "2018-08-18 07:59:59                            6.903204   \n",
       "2018-08-18 08:59:59                            6.700148   \n",
       "2018-08-18 09:59:59                            6.706417   \n",
       "2018-08-18 10:59:59                            6.820245   \n",
       "\n",
       "                     rougher.state.floatbank10_a_air  \\\n",
       "date                                                   \n",
       "2017-12-09 14:59:59                      1196.238112   \n",
       "2017-12-09 15:59:59                      1201.904177   \n",
       "2017-12-09 16:59:59                      1200.826926   \n",
       "2017-12-09 17:59:59                      1199.292489   \n",
       "2017-12-09 18:59:59                      1198.005449   \n",
       "...                                              ...   \n",
       "2018-08-18 06:59:59                       999.688257   \n",
       "2018-08-18 07:59:59                      1000.479783   \n",
       "2018-08-18 08:59:59                      1000.014718   \n",
       "2018-08-18 09:59:59                       999.635748   \n",
       "2018-08-18 10:59:59                      1000.589156   \n",
       "\n",
       "                     rougher.state.floatbank10_a_level  ...  \\\n",
       "date                                                    ...   \n",
       "2017-12-09 14:59:59                        -299.862743  ...   \n",
       "2017-12-09 15:59:59                        -299.907308  ...   \n",
       "2017-12-09 16:59:59                        -300.124116  ...   \n",
       "2017-12-09 17:59:59                        -299.778385  ...   \n",
       "2017-12-09 18:59:59                        -300.283401  ...   \n",
       "...                                                ...  ...   \n",
       "2018-08-18 06:59:59                        -399.217124  ...   \n",
       "2018-08-18 07:59:59                        -399.574748  ...   \n",
       "2018-08-18 08:59:59                        -400.320877  ...   \n",
       "2018-08-18 09:59:59                        -399.484884  ...   \n",
       "2018-08-18 10:59:59                        -398.879586  ...   \n",
       "\n",
       "                     secondary_cleaner.state.floatbank4_a_air  \\\n",
       "date                                                            \n",
       "2017-12-09 14:59:59                                 23.018622   \n",
       "2017-12-09 15:59:59                                 23.024963   \n",
       "2017-12-09 16:59:59                                 22.993827   \n",
       "2017-12-09 17:59:59                                 23.032807   \n",
       "2017-12-09 18:59:59                                 23.001911   \n",
       "...                                                       ...   \n",
       "2018-08-18 06:59:59                                 14.003057   \n",
       "2018-08-18 07:59:59                                 14.031220   \n",
       "2018-08-18 08:59:59                                 13.996317   \n",
       "2018-08-18 09:59:59                                 13.983963   \n",
       "2018-08-18 10:59:59                                 13.989632   \n",
       "\n",
       "                     secondary_cleaner.state.floatbank4_a_level  \\\n",
       "date                                                              \n",
       "2017-12-09 14:59:59                                 -500.492702   \n",
       "2017-12-09 15:59:59                                 -501.153409   \n",
       "2017-12-09 16:59:59                                 -501.559663   \n",
       "2017-12-09 17:59:59                                 -501.287889   \n",
       "2017-12-09 18:59:59                                 -499.947838   \n",
       "...                                                         ...   \n",
       "2018-08-18 06:59:59                                 -503.152258   \n",
       "2018-08-18 07:59:59                                 -503.471307   \n",
       "2018-08-18 08:59:59                                 -502.995300   \n",
       "2018-08-18 09:59:59                                 -503.675714   \n",
       "2018-08-18 10:59:59                                 -503.195299   \n",
       "\n",
       "                     secondary_cleaner.state.floatbank4_b_air  \\\n",
       "date                                                            \n",
       "2017-12-09 14:59:59                                 20.020205   \n",
       "2017-12-09 15:59:59                                 20.054122   \n",
       "2017-12-09 16:59:59                                 20.029144   \n",
       "2017-12-09 17:59:59                                 19.977466   \n",
       "2017-12-09 18:59:59                                 20.023735   \n",
       "...                                                       ...   \n",
       "2018-08-18 06:59:59                                 12.016724   \n",
       "2018-08-18 07:59:59                                 11.966426   \n",
       "2018-08-18 08:59:59                                 11.980055   \n",
       "2018-08-18 09:59:59                                 11.928745   \n",
       "2018-08-18 10:59:59                                 12.052233   \n",
       "\n",
       "                     secondary_cleaner.state.floatbank4_b_level  \\\n",
       "date                                                              \n",
       "2017-12-09 14:59:59                                 -500.220296   \n",
       "2017-12-09 15:59:59                                 -500.314711   \n",
       "2017-12-09 16:59:59                                 -500.000662   \n",
       "2017-12-09 17:59:59                                 -500.159903   \n",
       "2017-12-09 18:59:59                                 -499.713680   \n",
       "...                                                         ...   \n",
       "2018-08-18 06:59:59                                 -501.136446   \n",
       "2018-08-18 07:59:59                                 -500.656842   \n",
       "2018-08-18 08:59:59                                 -500.607751   \n",
       "2018-08-18 09:59:59                                 -500.583183   \n",
       "2018-08-18 10:59:59                                 -500.928547   \n",
       "\n",
       "                     secondary_cleaner.state.floatbank5_a_air  \\\n",
       "date                                                            \n",
       "2017-12-09 14:59:59                                 17.963512   \n",
       "2017-12-09 15:59:59                                 17.979515   \n",
       "2017-12-09 16:59:59                                 18.012723   \n",
       "2017-12-09 17:59:59                                 17.980463   \n",
       "2017-12-09 18:59:59                                 17.990955   \n",
       "...                                                       ...   \n",
       "2018-08-18 06:59:59                                 10.041864   \n",
       "2018-08-18 07:59:59                                 10.051620   \n",
       "2018-08-18 08:59:59                                  9.964501   \n",
       "2018-08-18 09:59:59                                  9.970359   \n",
       "2018-08-18 10:59:59                                  9.962574   \n",
       "\n",
       "                     secondary_cleaner.state.floatbank5_a_level  \\\n",
       "date                                                              \n",
       "2017-12-09 14:59:59                                 -499.939490   \n",
       "2017-12-09 15:59:59                                 -499.272871   \n",
       "2017-12-09 16:59:59                                 -500.024764   \n",
       "2017-12-09 17:59:59                                 -500.504602   \n",
       "2017-12-09 18:59:59                                 -500.334769   \n",
       "...                                                         ...   \n",
       "2018-08-18 06:59:59                                 -499.338844   \n",
       "2018-08-18 07:59:59                                 -498.318772   \n",
       "2018-08-18 08:59:59                                 -499.261719   \n",
       "2018-08-18 09:59:59                                 -498.822343   \n",
       "2018-08-18 10:59:59                                 -502.986357   \n",
       "\n",
       "                     secondary_cleaner.state.floatbank5_b_air  \\\n",
       "date                                                            \n",
       "2017-12-09 14:59:59                                 12.990306   \n",
       "2017-12-09 15:59:59                                 12.992404   \n",
       "2017-12-09 16:59:59                                 13.016445   \n",
       "2017-12-09 17:59:59                                 12.949071   \n",
       "2017-12-09 18:59:59                                 13.007523   \n",
       "...                                                       ...   \n",
       "2018-08-18 06:59:59                                  8.007022   \n",
       "2018-08-18 07:59:59                                  8.018091   \n",
       "2018-08-18 08:59:59                                  8.065048   \n",
       "2018-08-18 09:59:59                                  8.016377   \n",
       "2018-08-18 10:59:59                                  7.979219   \n",
       "\n",
       "                     secondary_cleaner.state.floatbank5_b_level  \\\n",
       "date                                                              \n",
       "2017-12-09 14:59:59                                 -500.080993   \n",
       "2017-12-09 15:59:59                                 -499.976268   \n",
       "2017-12-09 16:59:59                                 -500.058432   \n",
       "2017-12-09 17:59:59                                 -500.009937   \n",
       "2017-12-09 18:59:59                                 -499.968459   \n",
       "...                                                         ...   \n",
       "2018-08-18 06:59:59                                 -500.279583   \n",
       "2018-08-18 07:59:59                                 -499.696138   \n",
       "2018-08-18 08:59:59                                 -499.492395   \n",
       "2018-08-18 09:59:59                                 -499.013145   \n",
       "2018-08-18 10:59:59                                 -500.146835   \n",
       "\n",
       "                     secondary_cleaner.state.floatbank6_a_air  \\\n",
       "date                                                            \n",
       "2017-12-09 14:59:59                                 19.990336   \n",
       "2017-12-09 15:59:59                                 20.013986   \n",
       "2017-12-09 16:59:59                                 19.973767   \n",
       "2017-12-09 17:59:59                                 20.010332   \n",
       "2017-12-09 18:59:59                                 19.995999   \n",
       "...                                                       ...   \n",
       "2018-08-18 06:59:59                                 14.001271   \n",
       "2018-08-18 07:59:59                                 13.958937   \n",
       "2018-08-18 08:59:59                                 13.997801   \n",
       "2018-08-18 09:59:59                                 14.000032   \n",
       "2018-08-18 10:59:59                                 13.981614   \n",
       "\n",
       "                     secondary_cleaner.state.floatbank6_a_level  \n",
       "date                                                             \n",
       "2017-12-09 14:59:59                                 -499.191575  \n",
       "2017-12-09 15:59:59                                 -500.625471  \n",
       "2017-12-09 16:59:59                                 -501.394155  \n",
       "2017-12-09 17:59:59                                 -508.337973  \n",
       "2017-12-09 18:59:59                                 -499.788805  \n",
       "...                                                         ...  \n",
       "2018-08-18 06:59:59                                 -602.072365  \n",
       "2018-08-18 07:59:59                                 -599.213013  \n",
       "2018-08-18 08:59:59                                 -600.621416  \n",
       "2018-08-18 09:59:59                                 -600.024741  \n",
       "2018-08-18 10:59:59                                 -598.070855  \n",
       "\n",
       "[4860 rows x 52 columns]"
      ]
     },
     "execution_count": 26,
     "metadata": {},
     "output_type": "execute_result"
    }
   ],
   "source": []
  },
  {
   "cell_type": "markdown",
   "metadata": {},
   "source": [
    "Пропуски заполнены. Лишние признаки удалены и смело перейдём к следующему шагу."
   ]
  },
  {
   "cell_type": "markdown",
   "metadata": {},
   "source": [
    "## Анализ данных"
   ]
  },
  {
   "cell_type": "markdown",
   "metadata": {},
   "source": [
    "Итак, чтобы в ручную не искать в в 87 столбцах нужные нам значения отберём их по названию металла в столбцах."
   ]
  },
  {
   "cell_type": "code",
   "execution_count": 27,
   "metadata": {},
   "outputs": [
    {
     "data": {
      "text/plain": [
       "(Index(['rougher.input.feed_au', 'rougher.output.concentrate_au',\n",
       "        'rougher.output.tail_au', 'primary_cleaner.output.concentrate_au',\n",
       "        'primary_cleaner.output.tail_au', 'secondary_cleaner.output.tail_au',\n",
       "        'final.output.concentrate_au', 'final.output.tail_au'],\n",
       "       dtype='object'),\n",
       " Index(['rougher.input.feed_ag', 'rougher.output.concentrate_ag',\n",
       "        'rougher.output.tail_ag', 'primary_cleaner.output.concentrate_ag',\n",
       "        'primary_cleaner.output.tail_ag', 'secondary_cleaner.output.tail_ag',\n",
       "        'final.output.concentrate_ag', 'final.output.tail_ag'],\n",
       "       dtype='object'),\n",
       " Index(['rougher.input.feed_pb', 'rougher.output.concentrate_pb',\n",
       "        'rougher.output.tail_pb', 'primary_cleaner.output.concentrate_pb',\n",
       "        'primary_cleaner.output.tail_pb', 'secondary_cleaner.output.tail_pb',\n",
       "        'final.output.concentrate_pb', 'final.output.tail_pb'],\n",
       "       dtype='object'))"
      ]
     },
     "execution_count": 27,
     "metadata": {},
     "output_type": "execute_result"
    }
   ],
   "source": [
    "full_df.columns[full_df.columns.str.endswith('au')], full_df.columns[full_df.columns.str.endswith('ag')],\\\n",
    "full_df.columns[full_df.columns.str.endswith('pb')]"
   ]
  },
  {
   "cell_type": "markdown",
   "metadata": {},
   "source": [
    "Теперь так куда проще искать. Отберём нужные нам столбцы, а именно:\n",
    "\n",
    "- сырьё в исходном виде\n",
    "- после флотации\n",
    "- после первичной обработки\n",
    "- финальный концентрат."
   ]
  },
  {
   "cell_type": "code",
   "execution_count": 28,
   "metadata": {},
   "outputs": [],
   "source": [
    "AU = full_df[['rougher.input.feed_au', 'rougher.output.concentrate_au', 'primary_cleaner.output.concentrate_au', \n",
    "            'final.output.concentrate_au']].dropna()\n",
    "AG = full_df[['rougher.input.feed_ag', 'rougher.output.concentrate_ag', 'primary_cleaner.output.concentrate_ag', \n",
    "            'final.output.concentrate_ag']].dropna()\n",
    "PB = full_df[['rougher.input.feed_pb', 'rougher.output.concentrate_pb', 'primary_cleaner.output.concentrate_pb', \n",
    "            'final.output.concentrate_pb']].dropna()"
   ]
  },
  {
   "cell_type": "markdown",
   "metadata": {},
   "source": [
    "Теперь посмотрим как меняется концентрация металлов на разных стадиях очистки."
   ]
  },
  {
   "cell_type": "code",
   "execution_count": 29,
   "metadata": {},
   "outputs": [
    {
     "name": "stdout",
     "output_type": "stream",
     "text": [
      "Концентрация до флотации:\n",
      "серебро: 8.59, свинец: 3.53, золото: 8.13\n",
      "\n",
      "Концентрация после флотации:\n",
      "серебро: 12.10, свинец: 7.74, золото: 20.28\n",
      "\n",
      "Концентрация после первичной очистки:\n",
      "серебро: 8.51, свинец: 10.14, золото: 32.84\n",
      "\n",
      "Финальный концентрат:\n",
      "серебро: 5.07, свинец: 10.10, золото: 45.01\n"
     ]
    }
   ],
   "source": [
    "print('Концентрация до флотации:')\n",
    "print('серебро:{: 0.2f}, свинец:{: 0.2f}, золото:{: 0.2f}'.format(AG['rougher.input.feed_ag'].median(),\n",
    "PB['rougher.input.feed_pb'].median(),\n",
    "AU['rougher.input.feed_au'].median()))\n",
    "print()\n",
    "print('Концентрация после флотации:')\n",
    "print('серебро:{: 0.2f}, свинец:{: 0.2f}, золото:{: 0.2f}'.format(AG['rougher.output.concentrate_ag'].median(),\n",
    "PB['rougher.output.concentrate_pb'].median(),\n",
    "AU['rougher.output.concentrate_au'].median()))\n",
    "print()\n",
    "print('Концентрация после первичной очистки:')\n",
    "print('серебро:{: 0.2f}, свинец:{: 0.2f}, золото:{: 0.2f}'.format(AG['primary_cleaner.output.concentrate_ag'].median(),\n",
    "PB['primary_cleaner.output.concentrate_pb'].median(),\n",
    "AU['primary_cleaner.output.concentrate_au'].median()))\n",
    "print()\n",
    "print('Финальный концентрат:')\n",
    "print('серебро:{: 0.2f}, свинец:{: 0.2f}, золото:{: 0.2f}'.format(AG['final.output.concentrate_ag'].median(),\n",
    "PB['final.output.concentrate_pb'].median(),\n",
    "AU['final.output.concentrate_au'].median()))"
   ]
  },
  {
   "cell_type": "code",
   "execution_count": 30,
   "metadata": {},
   "outputs": [
    {
     "data": {
      "text/plain": [
       "Text(0.5, 1.0, 'Изменение концентрации золота после разных этапов обработки')"
      ]
     },
     "execution_count": 30,
     "metadata": {},
     "output_type": "execute_result"
    },
    {
     "data": {
      "image/png": "[encoded data removed]",
      "text/plain": [
       "<Figure size 360x360 with 1 Axes>"
      ]
     },
     "metadata": {
      "needs_background": "light"
     },
     "output_type": "display_data"
    }
   ],
   "source": [
    "sns.displot(AU, legend=False, kind='kde')\n",
    "plt.legend(['Сырье', 'после флотации', 'первичная очистка', 'Финальный концентрат'], fontsize=10)\n",
    "plt.title('Изменение концентрации золота после разных этапов обработки')"
   ]
  },
  {
   "cell_type": "code",
   "execution_count": 31,
   "metadata": {},
   "outputs": [
    {
     "data": {
      "text/plain": [
       "Text(0.5, 1.0, 'Изменение концентрации свинца после разных этапов обработки')"
      ]
     },
     "execution_count": 31,
     "metadata": {},
     "output_type": "execute_result"
    },
    {
     "data": {
      "image/png": "[encoded data removed]",
      "text/plain": [
       "<Figure size 360x360 with 1 Axes>"
      ]
     },
     "metadata": {
      "needs_background": "light"
     },
     "output_type": "display_data"
    }
   ],
   "source": [
    "sns.displot(PB, legend=False, kind='kde')\n",
    "plt.legend(['Финальный концентрат', 'первичная отчистка', 'после флотации', 'Сырьё'], fontsize=10)\n",
    "plt.title('Изменение концентрации свинца после разных этапов обработки')"
   ]
  },
  {
   "cell_type": "code",
   "execution_count": 32,
   "metadata": {},
   "outputs": [
    {
     "data": {
      "text/plain": [
       "Text(0.5, 1.0, 'Изменение концентрации серебра после разных этапов обработки')"
      ]
     },
     "execution_count": 32,
     "metadata": {},
     "output_type": "execute_result"
    },
    {
     "data": {
      "image/png": "[encoded data removed]",
      "text/plain": [
       "<Figure size 360x360 with 1 Axes>"
      ]
     },
     "metadata": {
      "needs_background": "light"
     },
     "output_type": "display_data"
    }
   ],
   "source": [
    "sns.displot(AG, legend=False, kind='kde')\n",
    "plt.legend(['Сырье', 'после флотации', 'первичная очистка', 'Финальный концентрат'], fontsize=10)\n",
    "plt.title('Изменение концентрации серебра после разных этапов обработки')"
   ]
  },
  {
   "cell_type": "markdown",
   "metadata": {},
   "source": [
    "Итак, можно наблюдать что с каждым этапом очистки концентрация золота заметно увеличивается, в то время как концентрация серебра наоборот снижается. Свинец показывает небольшое увелечение концентрации. Приступим к следующему шагу."
   ]
  },
  {
   "cell_type": "markdown",
   "metadata": {},
   "source": [
    "# Сравнение распределения размеров гранул сырья на обучающей и тестовой выборках."
   ]
  },
  {
   "cell_type": "code",
   "execution_count": 33,
   "metadata": {},
   "outputs": [
    {
     "data": {
      "text/plain": [
       "Text(0, 0.5, 'соотношение')"
      ]
     },
     "execution_count": 33,
     "metadata": {},
     "output_type": "execute_result"
    },
    {
     "data": {
      "image/png": "[encoded data removed]",
      "text/plain": [
       "<Figure size 1080x720 with 1 Axes>"
      ]
     },
     "metadata": {
      "needs_background": "light"
     },
     "output_type": "display_data"
    }
   ],
   "source": [
    "new_test_df['rougher.input.feed_size'].hist(figsize=(15, 10), bins=60, alpha=1, density=True)\n",
    "new_train_df['rougher.input.feed_size'].hist(figsize=(15, 10), bins=60, alpha=0.5, density=True)\n",
    "plt.legend(['тестовая выборка', 'обучающая выборка'])\n",
    "plt.title('Распределения размеров гранул сырья')\n",
    "plt.xlabel('размер')\n",
    "plt.ylabel('соотношение')"
   ]
  },
  {
   "cell_type": "markdown",
   "metadata": {},
   "source": [
    "Распределения не сильно отличаются друг от друга, оценка модели будет правильной. Перейдём к следующему шагу"
   ]
  },
  {
   "cell_type": "markdown",
   "metadata": {},
   "source": [
    "# Cуммарная концентрация всех веществ на разных стадиях"
   ]
  },
  {
   "cell_type": "code",
   "execution_count": 34,
   "metadata": {},
   "outputs": [],
   "source": [
    "feed_concentrate = full_df['rougher.input.feed_ag'] + full_df['rougher.input.feed_pb'] +\\\n",
    "            full_df['rougher.input.feed_sol'] + full_df['rougher.input.feed_au']\n",
    "rougher_concentrate = full_df['rougher.output.concentrate_ag'] + full_df['rougher.output.concentrate_pb'] +\\\n",
    "            full_df['rougher.output.concentrate_sol'] + full_df['rougher.output.concentrate_au']\n",
    "final_concentrate = full_df['final.output.concentrate_ag'] + full_df['final.output.concentrate_pb'] +\\\n",
    "            full_df['final.output.concentrate_sol'] + full_df['final.output.concentrate_au']"
   ]
  },
  {
   "cell_type": "code",
   "execution_count": 35,
   "metadata": {},
   "outputs": [
    {
     "data": {
      "text/plain": [
       "Text(0, 0.5, 'соотношение')"
      ]
     },
     "execution_count": 35,
     "metadata": {},
     "output_type": "execute_result"
    },
    {
     "data": {
      "image/png": "[encoded data removed]",
      "text/plain": [
       "<Figure size 1080x720 with 1 Axes>"
      ]
     },
     "metadata": {
      "needs_background": "light"
     },
     "output_type": "display_data"
    }
   ],
   "source": [
    "feed_concentrate.hist(figsize=(15, 10), bins=60, alpha=1, density=True)\n",
    "rougher_concentrate.hist(figsize=(15, 10), bins=60, alpha=0.5, density=True)\n",
    "final_concentrate.hist(figsize=(15, 10), bins=60, alpha=0.5, density=True)\n",
    "plt.legend(['Сырьё', 'черновой концентрат', 'финальный концентрат'])\n",
    "plt.title('Суммарная концентрация всех веществ на разных стадиях')\n",
    "plt.xlabel('концентрация')\n",
    "plt.ylabel('соотношение')"
   ]
  },
  {
   "cell_type": "markdown",
   "metadata": {},
   "source": [
    "Видим, что аномальные значения лежат где-то возле нуля. Так что где-то до 25 можно смело удалить для построения более точной модели, но для сырья поставим значение меньше 1, т.к. мы не знаем в каком виде может поступать сырьё на производство."
   ]
  },
  {
   "cell_type": "code",
   "execution_count": 36,
   "metadata": {},
   "outputs": [],
   "source": [
    "full_df = full_df.query('@feed_concentrate > 1 & @rougher_concentrate > 25 & @final_concentrate > 25')"
   ]
  },
  {
   "cell_type": "markdown",
   "metadata": {},
   "source": [
    "Теперь подготовим наши выборки для обучения. Для этого добавим целевые признаки по индексам. Чтобы индексы в обеих выборках совпадали. Так мы отберём из трейна выбросы, которые мы обнаружили в полной выборке. Тоже самое действие проделаем и с тестовой выборкой."
   ]
  },
  {
   "cell_type": "code",
   "execution_count": 37,
   "metadata": {},
   "outputs": [],
   "source": [
    "good_df_for_train = pd.merge(new_train_df, full_df[['rougher.output.recovery', 'final.output.recovery']],\n",
    "        left_index=True, right_index=True)"
   ]
  },
  {
   "cell_type": "markdown",
   "metadata": {},
   "source": [
    "Теперь сравним их."
   ]
  },
  {
   "cell_type": "code",
   "execution_count": 38,
   "metadata": {},
   "outputs": [
    {
     "name": "stdout",
     "output_type": "stream",
     "text": [
      "Колличество строк до объединения в обучающей выборке 14579\n",
      "Колличество строк после объединения в обучающей выборке 14028\n"
     ]
    }
   ],
   "source": [
    "print('Колличество строк до объединения в обучающей выборке', new_train_df.shape[0])\n",
    "print('Колличество строк после объединения в обучающей выборке', good_df_for_train.shape[0])"
   ]
  },
  {
   "cell_type": "markdown",
   "metadata": {},
   "source": [
    "Сделаем тоже самое и с тестовой выборкой."
   ]
  },
  {
   "cell_type": "code",
   "execution_count": 39,
   "metadata": {},
   "outputs": [],
   "source": [
    "good_df_for_test = pd.merge(new_test_df, full_df[['rougher.output.recovery', 'final.output.recovery']],\n",
    "         left_index=True, right_index=True)"
   ]
  },
  {
   "cell_type": "code",
   "execution_count": 40,
   "metadata": {},
   "outputs": [
    {
     "name": "stdout",
     "output_type": "stream",
     "text": [
      "Колличество строк до объединения в тестовой выборке 4860\n",
      "Колличество строк после объединения в тестовой выборке 4843\n"
     ]
    }
   ],
   "source": [
    "print('Колличество строк до объединения в тестовой выборке', new_test_df.shape[0])\n",
    "print('Колличество строк после объединения в тестовой выборке', good_df_for_test.shape[0])"
   ]
  },
  {
   "cell_type": "markdown",
   "metadata": {},
   "source": [
    "Теперь перед тем как перейти к следующему шагу посмотрим есть ли у нас пропуски и если их немного, то просто удалим их."
   ]
  },
  {
   "cell_type": "code",
   "execution_count": 41,
   "metadata": {},
   "outputs": [
    {
     "data": {
      "text/plain": [
       "0"
      ]
     },
     "execution_count": 41,
     "metadata": {},
     "output_type": "execute_result"
    }
   ],
   "source": [
    "good_df_for_train.isnull().sum().sum()"
   ]
  },
  {
   "cell_type": "markdown",
   "metadata": {},
   "source": [
    "Пропуски отсутствуют. Переходим к следующему шагу."
   ]
  },
  {
   "cell_type": "markdown",
   "metadata": {},
   "source": [
    "## Модель"
   ]
  },
  {
   "cell_type": "markdown",
   "metadata": {},
   "source": [
    "# Построение модели"
   ]
  },
  {
   "cell_type": "markdown",
   "metadata": {},
   "source": [
    "Для начала разделим нашу выборку на признаки и целевые признаки."
   ]
  },
  {
   "cell_type": "code",
   "execution_count": 42,
   "metadata": {},
   "outputs": [],
   "source": [
    "x_train = good_df_for_train.drop(['rougher.output.recovery', 'final.output.recovery'], axis=1)\n",
    "y_train_rougher = good_df_for_train['rougher.output.recovery']\n",
    "y_train_final = good_df_for_train['final.output.recovery']\n",
    "x_test = good_df_for_test.drop(['rougher.output.recovery', 'final.output.recovery'], axis=1)\n",
    "y_test_rougher = good_df_for_test['rougher.output.recovery']\n",
    "y_test_final = good_df_for_test['final.output.recovery']"
   ]
  },
  {
   "cell_type": "markdown",
   "metadata": {},
   "source": [
    "Перед обучением модели напишем функции для наших метрик и приступим к обучению."
   ]
  },
  {
   "cell_type": "markdown",
   "metadata": {},
   "source": [
    "# Метрики"
   ]
  },
  {
   "attachments": {
    "image.png": {
     "image/png": "[encoded data removed]"
    }
   },
   "cell_type": "markdown",
   "metadata": {},
   "source": [
    "- sMAPE\n",
    "![image.png](attachment:image.png)"
   ]
  },
  {
   "cell_type": "code",
   "execution_count": 43,
   "metadata": {},
   "outputs": [],
   "source": [
    "def sMAPE(true, pred):\n",
    "    return 100/len(true) * np.sum(2 * np.abs(pred - true) / (np.abs(true) + np.abs(pred)))"
   ]
  },
  {
   "cell_type": "markdown",
   "metadata": {},
   "source": [
    "<div class=\"alert alert-info\">\n",
    "<font size=\"4\">🍕<b> Комментарий ревьюера</b></font>\n",
    "    <br /> \n",
    "    <font size=\"3\", color = \"black\">\n",
    "<br />\n",
    "Вместо суммирования и деления на длину, кажется, намного проще использовать метод .mean()"
   ]
  },
  {
   "attachments": {
    "image.png": {
     "image/png": "[encoded data removed]"
    }
   },
   "cell_type": "markdown",
   "metadata": {},
   "source": [
    "- Итоговый sMAPE\n",
    "![image.png](attachment:image.png)"
   ]
  },
  {
   "cell_type": "code",
   "execution_count": 44,
   "metadata": {},
   "outputs": [],
   "source": [
    "def the_total_sMAPE(sMAPE_rougher,sMAPE_final):\n",
    "    return (0.25 * sMAPE_rougher + 0.75 * sMAPE_final)"
   ]
  },
  {
   "cell_type": "code",
   "execution_count": 45,
   "metadata": {},
   "outputs": [],
   "source": [
    "smape_score = make_scorer(sMAPE, greater_is_better=False)"
   ]
  },
  {
   "cell_type": "markdown",
   "metadata": {},
   "source": [
    "# Обучение модели и оценка качества"
   ]
  },
  {
   "cell_type": "markdown",
   "metadata": {},
   "source": [
    "Автоматизируем наш процесс обучения с помощью пайплайна."
   ]
  },
  {
   "cell_type": "code",
   "execution_count": 46,
   "metadata": {},
   "outputs": [],
   "source": [
    "lasso_model = make_pipeline(StandardScaler(), Lasso(random_state=42))\n",
    "forestregressor_model = make_pipeline(StandardScaler(), RandomForestRegressor(random_state=42))\n",
    "treeregressor_model = make_pipeline(StandardScaler(), DecisionTreeRegressor(random_state=42))"
   ]
  },
  {
   "cell_type": "markdown",
   "metadata": {},
   "source": [
    "Теперь, чтобы передать параметры для кросс-валидации посмотрим как они именуются у каждой модели."
   ]
  },
  {
   "cell_type": "code",
   "execution_count": 47,
   "metadata": {},
   "outputs": [
    {
     "data": {
      "text/plain": [
       "dict_keys(['memory', 'steps', 'verbose', 'standardscaler', 'lasso', 'standardscaler__copy', 'standardscaler__with_mean', 'standardscaler__with_std', 'lasso__alpha', 'lasso__copy_X', 'lasso__fit_intercept', 'lasso__max_iter', 'lasso__normalize', 'lasso__positive', 'lasso__precompute', 'lasso__random_state', 'lasso__selection', 'lasso__tol', 'lasso__warm_start'])"
      ]
     },
     "execution_count": 47,
     "metadata": {},
     "output_type": "execute_result"
    }
   ],
   "source": [
    "lasso_model.get_params().keys()"
   ]
  },
  {
   "cell_type": "code",
   "execution_count": 48,
   "metadata": {},
   "outputs": [
    {
     "data": {
      "text/plain": [
       "dict_keys(['memory', 'steps', 'verbose', 'standardscaler', 'randomforestregressor', 'standardscaler__copy', 'standardscaler__with_mean', 'standardscaler__with_std', 'randomforestregressor__bootstrap', 'randomforestregressor__ccp_alpha', 'randomforestregressor__criterion', 'randomforestregressor__max_depth', 'randomforestregressor__max_features', 'randomforestregressor__max_leaf_nodes', 'randomforestregressor__max_samples', 'randomforestregressor__min_impurity_decrease', 'randomforestregressor__min_impurity_split', 'randomforestregressor__min_samples_leaf', 'randomforestregressor__min_samples_split', 'randomforestregressor__min_weight_fraction_leaf', 'randomforestregressor__n_estimators', 'randomforestregressor__n_jobs', 'randomforestregressor__oob_score', 'randomforestregressor__random_state', 'randomforestregressor__verbose', 'randomforestregressor__warm_start'])"
      ]
     },
     "execution_count": 48,
     "metadata": {},
     "output_type": "execute_result"
    }
   ],
   "source": [
    "forestregressor_model.get_params().keys()"
   ]
  },
  {
   "cell_type": "code",
   "execution_count": 49,
   "metadata": {},
   "outputs": [
    {
     "data": {
      "text/plain": [
       "dict_keys(['memory', 'steps', 'verbose', 'standardscaler', 'randomforestregressor', 'standardscaler__copy', 'standardscaler__with_mean', 'standardscaler__with_std', 'randomforestregressor__bootstrap', 'randomforestregressor__ccp_alpha', 'randomforestregressor__criterion', 'randomforestregressor__max_depth', 'randomforestregressor__max_features', 'randomforestregressor__max_leaf_nodes', 'randomforestregressor__max_samples', 'randomforestregressor__min_impurity_decrease', 'randomforestregressor__min_impurity_split', 'randomforestregressor__min_samples_leaf', 'randomforestregressor__min_samples_split', 'randomforestregressor__min_weight_fraction_leaf', 'randomforestregressor__n_estimators', 'randomforestregressor__n_jobs', 'randomforestregressor__oob_score', 'randomforestregressor__random_state', 'randomforestregressor__verbose', 'randomforestregressor__warm_start'])"
      ]
     },
     "execution_count": 49,
     "metadata": {},
     "output_type": "execute_result"
    }
   ],
   "source": [
    "forestregressor_model.get_params().keys()"
   ]
  },
  {
   "cell_type": "markdown",
   "metadata": {},
   "source": [
    "Передаём параметры."
   ]
  },
  {
   "cell_type": "code",
   "execution_count": 50,
   "metadata": {},
   "outputs": [],
   "source": [
    "forestregressor_params = {'randomforestregressor__n_estimators':range(10, 61, 10),\n",
    "             'randomforestregressor__max_depth':range (1,10)}\n",
    "treeregressor_params= {'decisiontreeregressor__max_depth':range (1,10)}\n",
    "lasso_params = {'lasso__alpha':[0.02, 0.024, 0.025, 0.026, 0.03]}"
   ]
  },
  {
   "cell_type": "markdown",
   "metadata": {},
   "source": [
    "Напишем кросс-валидацию для Лассо - модели"
   ]
  },
  {
   "cell_type": "code",
   "execution_count": 51,
   "metadata": {},
   "outputs": [],
   "source": [
    "grid_rougher_lasso = RandomizedSearchCV(lasso_model, param_distributions = lasso_params, cv=10,\n",
    "                                            scoring = smape_score, n_jobs=-1)\n",
    "grid_final_lasso = RandomizedSearchCV(lasso_model, param_distributions = lasso_params, cv=10,\n",
    "                                            scoring = smape_score, n_jobs=-1)"
   ]
  },
  {
   "cell_type": "markdown",
   "metadata": {},
   "source": [
    "Теперь для леса"
   ]
  },
  {
   "cell_type": "code",
   "execution_count": 52,
   "metadata": {},
   "outputs": [],
   "source": [
    "grid_rougher_forestregressor = RandomizedSearchCV(forestregressor_model, cv=5, param_distributions = forestregressor_params,\n",
    "                                            scoring = smape_score, n_jobs=-1)\n",
    "grid_final_forestregressor = RandomizedSearchCV(forestregressor_model, cv=5, param_distributions = forestregressor_params,\n",
    "                                          scoring=smape_score, n_jobs=-1)"
   ]
  },
  {
   "cell_type": "markdown",
   "metadata": {},
   "source": [
    "И для деревьев"
   ]
  },
  {
   "cell_type": "code",
   "execution_count": 53,
   "metadata": {},
   "outputs": [],
   "source": [
    "grid_rougher_treeregressor = RandomizedSearchCV(treeregressor_model, cv=5, param_distributions = treeregressor_params, \n",
    "                                          scoring=smape_score, n_jobs=-1)\n",
    "grid_final_treeregressor = RandomizedSearchCV(treeregressor_model, cv=5, param_distributions = treeregressor_params, \n",
    "                                        scoring=smape_score, n_jobs=-1)"
   ]
  },
  {
   "cell_type": "markdown",
   "metadata": {},
   "source": [
    "Обучим наши модели и глянем на лучшие параметры."
   ]
  },
  {
   "cell_type": "code",
   "execution_count": 54,
   "metadata": {},
   "outputs": [
    {
     "data": {
      "text/plain": [
       "RandomizedSearchCV(cv=10,\n",
       "                   estimator=Pipeline(steps=[('standardscaler',\n",
       "                                              StandardScaler()),\n",
       "                                             ('lasso',\n",
       "                                              Lasso(random_state=42))]),\n",
       "                   n_jobs=-1,\n",
       "                   param_distributions={'lasso__alpha': [0.02, 0.024, 0.025,\n",
       "                                                         0.026, 0.03]},\n",
       "                   scoring=make_scorer(sMAPE, greater_is_better=False))"
      ]
     },
     "execution_count": 54,
     "metadata": {},
     "output_type": "execute_result"
    }
   ],
   "source": [
    "grid_rougher_lasso.fit(x_train,y_train_rougher)\n",
    "grid_final_lasso.fit(x_train,y_train_final)"
   ]
  },
  {
   "cell_type": "code",
   "execution_count": 55,
   "metadata": {},
   "outputs": [
    {
     "data": {
      "text/plain": [
       "-5.733443009848297"
      ]
     },
     "execution_count": 55,
     "metadata": {},
     "output_type": "execute_result"
    }
   ],
   "source": [
    "grid_rougher_lasso.best_score_"
   ]
  },
  {
   "cell_type": "code",
   "execution_count": 56,
   "metadata": {},
   "outputs": [
    {
     "data": {
      "text/plain": [
       "-9.454573383288496"
      ]
     },
     "execution_count": 56,
     "metadata": {},
     "output_type": "execute_result"
    }
   ],
   "source": [
    "grid_final_lasso.best_score_"
   ]
  },
  {
   "cell_type": "code",
   "execution_count": 57,
   "metadata": {},
   "outputs": [
    {
     "data": {
      "text/plain": [
       "RandomizedSearchCV(cv=5,\n",
       "                   estimator=Pipeline(steps=[('standardscaler',\n",
       "                                              StandardScaler()),\n",
       "                                             ('randomforestregressor',\n",
       "                                              RandomForestRegressor(random_state=42))]),\n",
       "                   n_jobs=-1,\n",
       "                   param_distributions={'randomforestregressor__max_depth': range(1, 10),\n",
       "                                        'randomforestregressor__n_estimators': range(10, 61, 10)},\n",
       "                   scoring=make_scorer(sMAPE, greater_is_better=False))"
      ]
     },
     "execution_count": 57,
     "metadata": {},
     "output_type": "execute_result"
    }
   ],
   "source": [
    "grid_rougher_forestregressor.fit(x_train,y_train_rougher)\n",
    "grid_final_forestregressor.fit(x_train,y_train_final)"
   ]
  },
  {
   "cell_type": "code",
   "execution_count": 58,
   "metadata": {},
   "outputs": [
    {
     "data": {
      "text/plain": [
       "-6.423345104583018"
      ]
     },
     "execution_count": 58,
     "metadata": {},
     "output_type": "execute_result"
    }
   ],
   "source": [
    "grid_rougher_forestregressor.best_score_"
   ]
  },
  {
   "cell_type": "code",
   "execution_count": 59,
   "metadata": {},
   "outputs": [
    {
     "data": {
      "text/plain": [
       "-8.861903852671515"
      ]
     },
     "execution_count": 59,
     "metadata": {},
     "output_type": "execute_result"
    }
   ],
   "source": [
    "grid_final_forestregressor.best_score_"
   ]
  },
  {
   "cell_type": "code",
   "execution_count": 60,
   "metadata": {},
   "outputs": [
    {
     "data": {
      "text/plain": [
       "RandomizedSearchCV(cv=5,\n",
       "                   estimator=Pipeline(steps=[('standardscaler',\n",
       "                                              StandardScaler()),\n",
       "                                             ('decisiontreeregressor',\n",
       "                                              DecisionTreeRegressor(random_state=42))]),\n",
       "                   n_jobs=-1,\n",
       "                   param_distributions={'decisiontreeregressor__max_depth': range(1, 10)},\n",
       "                   scoring=make_scorer(sMAPE, greater_is_better=False))"
      ]
     },
     "execution_count": 60,
     "metadata": {},
     "output_type": "execute_result"
    }
   ],
   "source": [
    "grid_rougher_treeregressor.fit(x_train,y_train_rougher)\n",
    "grid_final_treeregressor.fit(x_train,y_train_final)"
   ]
  },
  {
   "cell_type": "code",
   "execution_count": 61,
   "metadata": {},
   "outputs": [
    {
     "data": {
      "text/plain": [
       "-6.445161393728725"
      ]
     },
     "execution_count": 61,
     "metadata": {},
     "output_type": "execute_result"
    }
   ],
   "source": [
    "grid_rougher_treeregressor.best_score_"
   ]
  },
  {
   "cell_type": "code",
   "execution_count": 62,
   "metadata": {},
   "outputs": [
    {
     "data": {
      "text/plain": [
       "-8.947087223440082"
      ]
     },
     "execution_count": 62,
     "metadata": {},
     "output_type": "execute_result"
    }
   ],
   "source": [
    "grid_final_treeregressor.best_score_"
   ]
  },
  {
   "cell_type": "markdown",
   "metadata": {},
   "source": [
    "Пока самые лучшие параметры у Лассо модели. Посмотрим на финальную оценку и выберем самую минимальную"
   ]
  },
  {
   "cell_type": "code",
   "execution_count": 63,
   "metadata": {},
   "outputs": [
    {
     "data": {
      "text/plain": [
       "-8.524290789928445"
      ]
     },
     "execution_count": 63,
     "metadata": {},
     "output_type": "execute_result"
    }
   ],
   "source": [
    "the_total_sMAPE(grid_rougher_lasso.best_score_, grid_final_lasso.best_score_)"
   ]
  },
  {
   "cell_type": "code",
   "execution_count": 64,
   "metadata": {},
   "outputs": [
    {
     "data": {
      "text/plain": [
       "-8.252264165649391"
      ]
     },
     "execution_count": 64,
     "metadata": {},
     "output_type": "execute_result"
    }
   ],
   "source": [
    "the_total_sMAPE(grid_rougher_forestregressor.best_score_, grid_final_forestregressor.best_score_)"
   ]
  },
  {
   "cell_type": "code",
   "execution_count": 65,
   "metadata": {},
   "outputs": [
    {
     "data": {
      "text/plain": [
       "-8.321605766012244"
      ]
     },
     "execution_count": 65,
     "metadata": {},
     "output_type": "execute_result"
    }
   ],
   "source": [
    "\n",
    "the_total_sMAPE(grid_rougher_treeregressor.best_score_, grid_final_treeregressor.best_score_)"
   ]
  },
  {
   "cell_type": "markdown",
   "metadata": {},
   "source": [
    "Выбираем леса и смотрим результаты на тестовой выборке."
   ]
  },
  {
   "cell_type": "code",
   "execution_count": 80,
   "metadata": {},
   "outputs": [],
   "source": [
    "rougher_pred = grid_rougher_lasso.predict(x_test)\n",
    "final_pred = grid_final_forestregressor.predict(x_test)"
   ]
  },
  {
   "cell_type": "code",
   "execution_count": 81,
   "metadata": {},
   "outputs": [
    {
     "data": {
      "text/plain": [
       "7.426786216764773"
      ]
     },
     "execution_count": 81,
     "metadata": {},
     "output_type": "execute_result"
    }
   ],
   "source": [
    "the_total_sMAPE(sMAPE(y_test_rougher,rougher_pred),sMAPE(y_test_final,final_pred))"
   ]
  },
  {
   "cell_type": "markdown",
   "metadata": {},
   "source": [
    "Ну собственно вот. Оценка получена. Теперь напишем константную модель и посмотрим верно ли предсказывает наша модель. Пусть наша константная модель предсказывает средние значения."
   ]
  },
  {
   "cell_type": "code",
   "execution_count": 82,
   "metadata": {},
   "outputs": [],
   "source": [
    "constant_rougher = make_pipeline(StandardScaler(), DummyRegressor(strategy='mean'))\n",
    "constant_final = make_pipeline(StandardScaler(), DummyRegressor(strategy='mean'))"
   ]
  },
  {
   "cell_type": "markdown",
   "metadata": {},
   "source": [
    "Теперь обучим ещё на наших выборках"
   ]
  },
  {
   "cell_type": "code",
   "execution_count": 83,
   "metadata": {},
   "outputs": [
    {
     "data": {
      "text/plain": [
       "Pipeline(steps=[('standardscaler', StandardScaler()),\n",
       "                ('dummyregressor', DummyRegressor())])"
      ]
     },
     "execution_count": 83,
     "metadata": {},
     "output_type": "execute_result"
    }
   ],
   "source": [
    "constant_rougher.fit(x_train,y_train_rougher)\n",
    "constant_final.fit(x_train,y_train_final)"
   ]
  },
  {
   "cell_type": "code",
   "execution_count": 84,
   "metadata": {},
   "outputs": [],
   "source": [
    "constant_rougher_pred = constant_rougher.predict(x_test)\n",
    "constant_final_pred = constant_final.predict(x_test)"
   ]
  },
  {
   "cell_type": "code",
   "execution_count": 85,
   "metadata": {},
   "outputs": [
    {
     "data": {
      "text/plain": [
       "8.392401537816145"
      ]
     },
     "execution_count": 85,
     "metadata": {},
     "output_type": "execute_result"
    }
   ],
   "source": [
    "the_total_sMAPE(sMAPE(y_test_rougher,constant_rougher_pred),sMAPE(y_test_final,constant_final_pred))"
   ]
  },
  {
   "cell_type": "markdown",
   "metadata": {},
   "source": [
    "Видим, что наша метрика получилась ниже, чем на константной модели. Значит мы сделали всё верно."
   ]
  },
  {
   "cell_type": "markdown",
   "metadata": {},
   "source": [
    "# Общий вывод\n",
    "\n",
    "Мы проделали хорошую работу для определения модели по предсказанию коэффицента восстановления золота из золотосодержащей руды.\n",
    "1. Мы изучили наши данные и убедились в корректности рассчетов эффективности обогащения\n",
    "2. Мы провели предобработку данных, попытавшись сохранить максимальное количество данных, воспользовавшись их взаимосвязью (соседние наблюдения мало отличаются друг от друга)\n",
    "3. Мы проанализировали данные и увидели как меняется концентрация металлов на разных этапах (увидели рост золота и свинца и падения серебра)\n",
    "4. Убедились, что распределения размеров гранул не сильно отличаются друг от друга\n",
    "5. Исследовали концентрацию веществ на разных стадиях и избавились от аномалий в каждой из трех выборок\n",
    "6. По итогу мы выбрали модели, обеспечивающие наименьшие значения sMAPE и итоговой оценки. В нашем случае лучшим решением оказалась Лассо модель, хотя она и не смогла сильно превзойти константную модель."
   ]
  },
  {
   "cell_type": "markdown",
   "metadata": {},
   "source": [
    "## Чек-лист готовности проекта"
   ]
  },
  {
   "cell_type": "markdown",
   "metadata": {},
   "source": [
    "- [x]  Jupyter Notebook открыт\n",
    "- [ x]  Весь код выполняется без ошибок\n",
    "- [x ]  Ячейки с кодом расположены в порядке выполнения\n",
    "- [x ]  Выполнен шаг 1: данные подготовлены\n",
    "    - [x ]  Проверена формула вычисления эффективности обогащения\n",
    "    - [x ]  Проанализированы признаки, недоступные в тестовой выборке\n",
    "    - [x ]  Проведена предобработка данных\n",
    "- [x ]  Выполнен шаг 2: данные проанализированы\n",
    "    - [x ]  Исследовано изменение концентрации элементов на каждом этапе\n",
    "    - [x ]  Проанализированы распределения размеров гранул на обучающей и тестовой выборках\n",
    "    - [x ]  Исследованы суммарные концентрации\n",
    "- [x ]  Выполнен шаг 3: построена модель прогнозирования\n",
    "    - [x ]  Написана функция для вычисления итогового *sMAPE*\n",
    "    - [x ]  Обучено и проверено несколько моделей\n",
    "    - [x ]  Выбрана лучшая модель, её качество проверено на тестовой выборке"
   ]
  },
  {
   "cell_type": "code",
   "execution_count": null,
   "metadata": {},
   "outputs": [],
   "source": []
  }
 ],
 "metadata": {
  "ExecuteTimeLog": [
   {
    "duration": 1607,
    "start_time": "2023-05-12T16:37:36.111Z"
   },
   {
    "duration": 2484,
    "start_time": "2023-05-12T16:37:38.901Z"
   },
   {
    "duration": 0,
    "start_time": "2023-05-12T16:37:41.387Z"
   },
   {
    "duration": 0,
    "start_time": "2023-05-12T16:37:41.388Z"
   },
   {
    "duration": 8,
    "start_time": "2023-05-12T16:37:41.743Z"
   },
   {
    "duration": 1344,
    "start_time": "2023-05-12T16:38:14.962Z"
   },
   {
    "duration": 701,
    "start_time": "2023-05-12T16:38:19.270Z"
   },
   {
    "duration": 1390,
    "start_time": "2023-05-12T16:39:17.383Z"
   },
   {
    "duration": 2432,
    "start_time": "2023-05-12T16:39:19.690Z"
   },
   {
    "duration": 19,
    "start_time": "2023-05-12T16:39:23.111Z"
   },
   {
    "duration": 17,
    "start_time": "2023-05-12T16:40:31.714Z"
   },
   {
    "duration": 14,
    "start_time": "2023-05-12T16:40:42.131Z"
   },
   {
    "duration": 65,
    "start_time": "2023-05-12T16:42:46.311Z"
   },
   {
    "duration": 18,
    "start_time": "2023-05-12T16:43:01.768Z"
   },
   {
    "duration": 15,
    "start_time": "2023-05-12T16:43:20.578Z"
   },
   {
    "duration": 7,
    "start_time": "2023-05-12T16:43:44.985Z"
   },
   {
    "duration": 3,
    "start_time": "2023-05-12T16:43:59.482Z"
   },
   {
    "duration": 4,
    "start_time": "2023-05-12T16:44:07.433Z"
   },
   {
    "duration": 3,
    "start_time": "2023-05-12T16:51:49.561Z"
   },
   {
    "duration": 6,
    "start_time": "2023-05-12T16:52:00.822Z"
   },
   {
    "duration": 5,
    "start_time": "2023-05-12T16:53:56.980Z"
   },
   {
    "duration": 4,
    "start_time": "2023-05-12T16:55:05.495Z"
   },
   {
    "duration": 5,
    "start_time": "2023-05-12T16:55:40.088Z"
   },
   {
    "duration": 10,
    "start_time": "2023-05-12T16:56:38.944Z"
   },
   {
    "duration": 4,
    "start_time": "2023-05-12T16:56:46.014Z"
   },
   {
    "duration": 8,
    "start_time": "2023-05-12T16:56:57.809Z"
   },
   {
    "duration": 6,
    "start_time": "2023-05-12T16:57:19.141Z"
   },
   {
    "duration": 3,
    "start_time": "2023-05-12T16:57:43.918Z"
   },
   {
    "duration": 5888,
    "start_time": "2023-05-12T16:57:53.343Z"
   },
   {
    "duration": 17,
    "start_time": "2023-05-12T16:58:09.340Z"
   },
   {
    "duration": 6,
    "start_time": "2023-05-12T16:59:26.296Z"
   },
   {
    "duration": 13,
    "start_time": "2023-05-12T17:00:25.343Z"
   },
   {
    "duration": 13,
    "start_time": "2023-05-12T17:01:13.155Z"
   },
   {
    "duration": 1327,
    "start_time": "2023-05-12T17:01:30.474Z"
   },
   {
    "duration": 1268,
    "start_time": "2023-05-12T17:02:18.070Z"
   },
   {
    "duration": 1279,
    "start_time": "2023-05-12T17:02:40.871Z"
   },
   {
    "duration": 365,
    "start_time": "2023-05-12T17:04:17.153Z"
   },
   {
    "duration": 6,
    "start_time": "2023-05-12T17:05:27.710Z"
   },
   {
    "duration": 443,
    "start_time": "2023-05-12T17:05:36.984Z"
   },
   {
    "duration": 17,
    "start_time": "2023-05-12T17:06:22.721Z"
   },
   {
    "duration": 14,
    "start_time": "2023-05-12T17:06:43.395Z"
   },
   {
    "duration": 4,
    "start_time": "2023-05-12T17:07:32.781Z"
   },
   {
    "duration": 8,
    "start_time": "2023-05-12T17:07:59.426Z"
   },
   {
    "duration": 3,
    "start_time": "2023-05-12T17:08:07.810Z"
   },
   {
    "duration": 6,
    "start_time": "2023-05-12T17:08:49.340Z"
   },
   {
    "duration": 9,
    "start_time": "2023-05-12T17:10:31.707Z"
   },
   {
    "duration": 3,
    "start_time": "2023-05-12T17:11:42.560Z"
   },
   {
    "duration": 3,
    "start_time": "2023-05-12T17:12:26.917Z"
   },
   {
    "duration": 3,
    "start_time": "2023-05-12T17:12:36.205Z"
   },
   {
    "duration": 3,
    "start_time": "2023-05-12T17:13:23.116Z"
   },
   {
    "duration": 4,
    "start_time": "2023-05-12T17:13:41.693Z"
   },
   {
    "duration": 5,
    "start_time": "2023-05-12T17:13:50.671Z"
   },
   {
    "duration": 4,
    "start_time": "2023-05-12T17:14:02.366Z"
   },
   {
    "duration": 4,
    "start_time": "2023-05-12T17:14:29.186Z"
   },
   {
    "duration": 5,
    "start_time": "2023-05-12T17:14:56.124Z"
   },
   {
    "duration": 4,
    "start_time": "2023-05-12T17:15:22.006Z"
   },
   {
    "duration": 4,
    "start_time": "2023-05-12T17:15:43.290Z"
   },
   {
    "duration": 180950,
    "start_time": "2023-05-12T17:16:07.067Z"
   },
   {
    "duration": 4,
    "start_time": "2023-05-12T17:19:08.020Z"
   },
   {
    "duration": 105,
    "start_time": "2023-05-12T17:19:08.025Z"
   },
   {
    "duration": 535835,
    "start_time": "2023-05-12T17:19:08.133Z"
   },
   {
    "duration": 4,
    "start_time": "2023-05-12T17:28:03.969Z"
   },
   {
    "duration": 27,
    "start_time": "2023-05-12T17:28:03.974Z"
   },
   {
    "duration": 28044,
    "start_time": "2023-05-12T17:28:04.003Z"
   },
   {
    "duration": 4,
    "start_time": "2023-05-12T17:28:32.049Z"
   },
   {
    "duration": 21,
    "start_time": "2023-05-12T17:28:32.055Z"
   },
   {
    "duration": 19,
    "start_time": "2023-05-12T17:28:32.079Z"
   },
   {
    "duration": 24,
    "start_time": "2023-05-12T17:28:32.100Z"
   },
   {
    "duration": 11,
    "start_time": "2023-05-12T17:28:32.126Z"
   },
   {
    "duration": 26,
    "start_time": "2023-05-12T17:28:32.138Z"
   },
   {
    "duration": 61,
    "start_time": "2023-05-12T17:28:32.165Z"
   },
   {
    "duration": 76,
    "start_time": "2023-05-12T17:28:32.318Z"
   },
   {
    "duration": 0,
    "start_time": "2023-05-12T17:28:32.396Z"
   },
   {
    "duration": 0,
    "start_time": "2023-05-12T17:28:32.397Z"
   },
   {
    "duration": 0,
    "start_time": "2023-05-12T17:28:32.397Z"
   },
   {
    "duration": 0,
    "start_time": "2023-05-12T17:28:32.398Z"
   },
   {
    "duration": 3,
    "start_time": "2023-05-12T17:29:10.006Z"
   },
   {
    "duration": 27,
    "start_time": "2023-05-12T17:29:11.966Z"
   },
   {
    "duration": 7,
    "start_time": "2023-05-12T17:29:12.844Z"
   },
   {
    "duration": 7,
    "start_time": "2023-05-12T17:29:13.380Z"
   },
   {
    "duration": 2487,
    "start_time": "2023-05-12T20:20:04.726Z"
   },
   {
    "duration": 830,
    "start_time": "2023-05-12T20:20:58.903Z"
   },
   {
    "duration": 21,
    "start_time": "2023-05-12T20:20:59.735Z"
   },
   {
    "duration": 19,
    "start_time": "2023-05-12T20:21:00.284Z"
   },
   {
    "duration": 16,
    "start_time": "2023-05-12T20:21:00.886Z"
   },
   {
    "duration": 18,
    "start_time": "2023-05-12T20:21:07.985Z"
   },
   {
    "duration": 6,
    "start_time": "2023-05-12T20:21:12.299Z"
   },
   {
    "duration": 4,
    "start_time": "2023-05-12T20:21:13.285Z"
   },
   {
    "duration": 4,
    "start_time": "2023-05-12T20:21:14.097Z"
   },
   {
    "duration": 3,
    "start_time": "2023-05-12T20:21:16.966Z"
   },
   {
    "duration": 8,
    "start_time": "2023-05-12T20:21:17.991Z"
   },
   {
    "duration": 6,
    "start_time": "2023-05-12T20:21:21.400Z"
   },
   {
    "duration": 4,
    "start_time": "2023-05-12T20:21:58.800Z"
   },
   {
    "duration": 4,
    "start_time": "2023-05-12T20:22:22.787Z"
   },
   {
    "duration": 8,
    "start_time": "2023-05-12T20:22:29.182Z"
   },
   {
    "duration": 118,
    "start_time": "2023-05-12T20:24:52.183Z"
   },
   {
    "duration": 8,
    "start_time": "2023-05-12T20:25:00.501Z"
   },
   {
    "duration": 1733,
    "start_time": "2023-05-14T14:07:03.498Z"
   },
   {
    "duration": 2886,
    "start_time": "2023-05-14T14:07:05.241Z"
   },
   {
    "duration": 21,
    "start_time": "2023-05-14T14:07:08.129Z"
   },
   {
    "duration": 18,
    "start_time": "2023-05-14T14:07:08.152Z"
   },
   {
    "duration": 24,
    "start_time": "2023-05-14T14:07:08.172Z"
   },
   {
    "duration": 16,
    "start_time": "2023-05-14T14:07:08.198Z"
   },
   {
    "duration": 8,
    "start_time": "2023-05-14T14:07:08.887Z"
   },
   {
    "duration": 5,
    "start_time": "2023-05-14T14:07:09.936Z"
   },
   {
    "duration": 5,
    "start_time": "2023-05-14T14:07:10.784Z"
   },
   {
    "duration": 3,
    "start_time": "2023-05-14T14:07:12.994Z"
   },
   {
    "duration": 8,
    "start_time": "2023-05-14T14:07:13.704Z"
   },
   {
    "duration": 7,
    "start_time": "2023-05-14T14:07:14.759Z"
   },
   {
    "duration": 5,
    "start_time": "2023-05-14T14:07:17.180Z"
   },
   {
    "duration": 5,
    "start_time": "2023-05-14T14:07:19.734Z"
   },
   {
    "duration": 6,
    "start_time": "2023-05-14T14:07:21.077Z"
   },
   {
    "duration": 15,
    "start_time": "2023-05-14T14:07:24.072Z"
   },
   {
    "duration": 4,
    "start_time": "2023-05-14T14:07:24.672Z"
   },
   {
    "duration": 8,
    "start_time": "2023-05-14T14:07:25.285Z"
   },
   {
    "duration": 6,
    "start_time": "2023-05-14T14:07:26.900Z"
   },
   {
    "duration": 4,
    "start_time": "2023-05-14T14:07:30.103Z"
   },
   {
    "duration": 70,
    "start_time": "2023-05-14T14:07:36.921Z"
   },
   {
    "duration": 44,
    "start_time": "2023-05-14T14:07:39.327Z"
   },
   {
    "duration": 13,
    "start_time": "2023-05-14T14:10:11.800Z"
   },
   {
    "duration": 5,
    "start_time": "2023-05-14T14:10:29.057Z"
   },
   {
    "duration": 16,
    "start_time": "2023-05-14T14:10:31.524Z"
   },
   {
    "duration": 35,
    "start_time": "2023-05-14T14:10:57.386Z"
   },
   {
    "duration": 6,
    "start_time": "2023-05-14T14:11:15.987Z"
   },
   {
    "duration": 17,
    "start_time": "2023-05-14T14:11:20.179Z"
   },
   {
    "duration": 19,
    "start_time": "2023-05-14T14:11:22.015Z"
   },
   {
    "duration": 1377,
    "start_time": "2023-05-14T14:11:27.811Z"
   },
   {
    "duration": 1418,
    "start_time": "2023-05-14T14:11:30.333Z"
   },
   {
    "duration": 1507,
    "start_time": "2023-05-14T14:11:31.753Z"
   },
   {
    "duration": 428,
    "start_time": "2023-05-14T14:11:37.828Z"
   },
   {
    "duration": 7,
    "start_time": "2023-05-14T14:11:57.401Z"
   },
   {
    "duration": 562,
    "start_time": "2023-05-14T14:11:58.929Z"
   },
   {
    "duration": 24,
    "start_time": "2023-05-14T14:12:04.931Z"
   },
   {
    "duration": 17,
    "start_time": "2023-05-14T14:12:06.257Z"
   },
   {
    "duration": 4,
    "start_time": "2023-05-14T14:12:09.117Z"
   },
   {
    "duration": 8,
    "start_time": "2023-05-14T14:12:13.835Z"
   },
   {
    "duration": 5,
    "start_time": "2023-05-14T14:12:15.052Z"
   },
   {
    "duration": 7,
    "start_time": "2023-05-14T14:12:16.587Z"
   },
   {
    "duration": 15,
    "start_time": "2023-05-14T14:12:22.115Z"
   },
   {
    "duration": 4,
    "start_time": "2023-05-14T14:12:26.476Z"
   },
   {
    "duration": 4,
    "start_time": "2023-05-14T14:12:34.819Z"
   },
   {
    "duration": 4,
    "start_time": "2023-05-14T14:12:35.379Z"
   },
   {
    "duration": 5,
    "start_time": "2023-05-14T14:12:37.834Z"
   },
   {
    "duration": 5,
    "start_time": "2023-05-14T14:12:41.023Z"
   },
   {
    "duration": 5,
    "start_time": "2023-05-14T14:12:42.139Z"
   },
   {
    "duration": 5,
    "start_time": "2023-05-14T14:12:43.433Z"
   },
   {
    "duration": 4,
    "start_time": "2023-05-14T14:12:45.582Z"
   },
   {
    "duration": 4,
    "start_time": "2023-05-14T14:12:46.557Z"
   },
   {
    "duration": 4,
    "start_time": "2023-05-14T14:12:47.148Z"
   },
   {
    "duration": 4,
    "start_time": "2023-05-14T14:12:49.167Z"
   },
   {
    "duration": 278289,
    "start_time": "2023-05-14T14:12:58.004Z"
   },
   {
    "duration": 4,
    "start_time": "2023-05-14T14:17:36.295Z"
   },
   {
    "duration": 5,
    "start_time": "2023-05-14T14:17:36.389Z"
   },
   {
    "duration": 651280,
    "start_time": "2023-05-14T14:17:36.396Z"
   },
   {
    "duration": 12,
    "start_time": "2023-05-14T14:28:27.678Z"
   },
   {
    "duration": 26,
    "start_time": "2023-05-14T14:28:27.692Z"
   },
   {
    "duration": 27236,
    "start_time": "2023-05-14T14:28:27.720Z"
   },
   {
    "duration": 4,
    "start_time": "2023-05-14T14:28:54.958Z"
   },
   {
    "duration": 9,
    "start_time": "2023-05-14T14:28:54.964Z"
   },
   {
    "duration": 14,
    "start_time": "2023-05-14T14:28:54.975Z"
   },
   {
    "duration": 8,
    "start_time": "2023-05-14T14:28:54.991Z"
   },
   {
    "duration": 5,
    "start_time": "2023-05-14T14:28:55.000Z"
   },
   {
    "duration": 84,
    "start_time": "2023-05-14T14:28:55.006Z"
   },
   {
    "duration": 97,
    "start_time": "2023-05-14T14:28:55.092Z"
   },
   {
    "duration": 4,
    "start_time": "2023-05-14T14:28:55.192Z"
   },
   {
    "duration": 45,
    "start_time": "2023-05-14T14:28:55.198Z"
   },
   {
    "duration": 9,
    "start_time": "2023-05-14T14:28:55.245Z"
   },
   {
    "duration": 38,
    "start_time": "2023-05-14T14:28:55.256Z"
   },
   {
    "duration": 22,
    "start_time": "2023-05-14T14:35:12.889Z"
   },
   {
    "duration": 8,
    "start_time": "2023-05-14T14:35:14.623Z"
   },
   {
    "duration": 4,
    "start_time": "2023-05-14T14:35:21.831Z"
   },
   {
    "duration": 36,
    "start_time": "2023-05-14T14:35:22.912Z"
   },
   {
    "duration": 9,
    "start_time": "2023-05-14T14:35:23.931Z"
   },
   {
    "duration": 8,
    "start_time": "2023-05-14T14:35:24.871Z"
   },
   {
    "duration": 11,
    "start_time": "2023-05-14T14:35:42.899Z"
   },
   {
    "duration": 8,
    "start_time": "2023-05-14T14:35:43.701Z"
   },
   {
    "duration": 104,
    "start_time": "2023-05-14T14:35:57.484Z"
   },
   {
    "duration": 8,
    "start_time": "2023-05-14T14:35:58.555Z"
   },
   {
    "duration": 4,
    "start_time": "2023-05-14T14:36:06.398Z"
   },
   {
    "duration": 34,
    "start_time": "2023-05-14T14:36:09.145Z"
   },
   {
    "duration": 8,
    "start_time": "2023-05-14T14:36:10.120Z"
   },
   {
    "duration": 7,
    "start_time": "2023-05-14T14:36:10.910Z"
   }
  ],
  "kernelspec": {
   "display_name": "Python 3 (ipykernel)",
   "language": "python",
   "name": "python3"
  },
  "language_info": {
   "codemirror_mode": {
    "name": "ipython",
    "version": 3
   },
   "file_extension": ".py",
   "mimetype": "text/x-python",
   "name": "python",
   "nbconvert_exporter": "python",
   "pygments_lexer": "ipython3",
   "version": "3.9.13"
  },
  "toc": {
   "base_numbering": 1,
   "nav_menu": {},
   "number_sections": true,
   "sideBar": true,
   "skip_h1_title": true,
   "title_cell": "Содержание",
   "title_sidebar": "Contents",
   "toc_cell": true,
   "toc_position": {},
   "toc_section_display": true,
   "toc_window_display": true
  }
 },
 "nbformat": 4,
 "nbformat_minor": 2
}
