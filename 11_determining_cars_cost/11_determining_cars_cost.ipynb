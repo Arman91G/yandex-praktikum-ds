{
 "cells": [
  {
   "cell_type": "markdown",
   "metadata": {},
   "source": [
    "# Определение стоимости автомобилей"
   ]
  },
  {
   "cell_type": "markdown",
   "metadata": {},
   "source": [
    "Сервис по продаже автомобилей с пробегом «Не бит, не крашен» разрабатывает приложение для привлечения новых клиентов. В нём можно быстро узнать рыночную стоимость своего автомобиля. В вашем распоряжении исторические данные: технические характеристики, комплектации и цены автомобилей. Вам нужно построить модель для определения стоимости. \n",
    "\n",
    "Заказчику важны:\n",
    "\n",
    "- качество предсказания;\n",
    "- скорость предсказания;\n",
    "- время обучения."
   ]
  },
  {
   "cell_type": "markdown",
   "metadata": {},
   "source": [
    "## Подготовка данных"
   ]
  },
  {
   "cell_type": "code",
   "execution_count": 1,
   "metadata": {},
   "outputs": [
    {
     "name": "stdout",
     "output_type": "stream",
     "text": [
      "Collecting scikit-learn==1.1.3\n",
      "  Downloading scikit_learn-1.1.3-cp39-cp39-manylinux_2_17_x86_64.manylinux2014_x86_64.whl (30.8 MB)\n",
      "\u001b[K     |████████████████████████████████| 30.8 MB 55.3 MB/s eta 0:00:01   |███▏                            | 3.0 MB 1.0 MB/s eta 0:00:27     |█████▉                          | 5.6 MB 7.0 MB/s eta 0:00:04     |███████▌                        | 7.3 MB 7.0 MB/s eta 0:00:04     |██████████▊                     | 10.3 MB 20.9 MB/s eta 0:00:01          | 11.7 MB 20.9 MB/s eta 0:00:01     |████████████████████▎           | 19.6 MB 20.9 MB/s eta 0:00:01  |███████████████████████▌        | 22.6 MB 20.9 MB/s eta 0:00:01     |██████████████████████████      | 25.1 MB 20.9 MB/s eta 0:00:01\n",
      "\u001b[?25hRequirement already satisfied: scipy>=1.3.2 in /opt/conda/lib/python3.9/site-packages (from scikit-learn==1.1.3) (1.9.1)\n",
      "Requirement already satisfied: numpy>=1.17.3 in /opt/conda/lib/python3.9/site-packages (from scikit-learn==1.1.3) (1.21.1)\n",
      "Requirement already satisfied: joblib>=1.0.0 in /opt/conda/lib/python3.9/site-packages (from scikit-learn==1.1.3) (1.1.0)\n",
      "Requirement already satisfied: threadpoolctl>=2.0.0 in /opt/conda/lib/python3.9/site-packages (from scikit-learn==1.1.3) (3.1.0)\n",
      "Installing collected packages: scikit-learn\n",
      "  Attempting uninstall: scikit-learn\n",
      "    Found existing installation: scikit-learn 0.24.1\n",
      "    Uninstalling scikit-learn-0.24.1:\n",
      "      Successfully uninstalled scikit-learn-0.24.1\n",
      "Successfully installed scikit-learn-1.1.3\n"
     ]
    }
   ],
   "source": [
    "!pip install scikit-learn==1.1.3"
   ]
  },
  {
   "cell_type": "code",
   "execution_count": 2,
   "metadata": {},
   "outputs": [],
   "source": [
    "# Блок импорта\n",
    "import pandas as pd\n",
    "import numpy as np\n",
    "import matplotlib.pyplot as plt\n",
    "import math\n",
    "\n",
    "# Простые модели, на которых будем проверять\n",
    "from sklearn.tree import DecisionTreeRegressor\n",
    "from sklearn.ensemble import RandomForestRegressor\n",
    "from sklearn.linear_model import LinearRegression\n",
    "from sklearn.dummy import DummyRegressor\n",
    "\n",
    "# Возможный бонус\n",
    "from sklearn.linear_model import Ridge\n",
    "\n",
    "# Вспомогательные методы\n",
    "from sklearn.model_selection import train_test_split\n",
    "from sklearn.model_selection import GridSearchCV\n",
    "from sklearn.preprocessing import OneHotEncoder\n",
    "from sklearn.preprocessing import StandardScaler\n",
    "from sklearn.preprocessing import OrdinalEncoder\n",
    "from sklearn.preprocessing import LabelEncoder\n",
    "from sklearn.base import BaseEstimator\n",
    "from sklearn.metrics import mean_squared_error as mse\n",
    "from sklearn.metrics import  make_scorer\n",
    "from sklearn.pipeline import make_pipeline\n",
    "from sklearn.compose import make_column_transformer\n",
    "from sklearn.model_selection import (\n",
    "    GridSearchCV, \n",
    "    RandomizedSearchCV,\n",
    "    train_test_split\n",
    ")\n",
    "\n",
    "from sklearn.preprocessing import (\n",
    "    OneHotEncoder,\n",
    "    OrdinalEncoder,\n",
    "    StandardScaler\n",
    ")\n",
    "import warnings\n",
    "# настройки\n",
    "warnings.filterwarnings(\"ignore\")\n",
    "\n",
    "\n",
    "# буст\n",
    "from catboost import CatBoostRegressor\n",
    "from lightgbm import LGBMRegressor\n",
    "import lightgbm as lgb"
   ]
  },
  {
   "cell_type": "code",
   "execution_count": 3,
   "metadata": {},
   "outputs": [
    {
     "data": {
      "text/html": [
       "<div>\n",
       "<style scoped>\n",
       "    .dataframe tbody tr th:only-of-type {\n",
       "        vertical-align: middle;\n",
       "    }\n",
       "\n",
       "    .dataframe tbody tr th {\n",
       "        vertical-align: top;\n",
       "    }\n",
       "\n",
       "    .dataframe thead th {\n",
       "        text-align: right;\n",
       "    }\n",
       "</style>\n",
       "<table border=\"1\" class=\"dataframe\">\n",
       "  <thead>\n",
       "    <tr style=\"text-align: right;\">\n",
       "      <th></th>\n",
       "      <th>DateCrawled</th>\n",
       "      <th>Price</th>\n",
       "      <th>VehicleType</th>\n",
       "      <th>RegistrationYear</th>\n",
       "      <th>Gearbox</th>\n",
       "      <th>Power</th>\n",
       "      <th>Model</th>\n",
       "      <th>Kilometer</th>\n",
       "      <th>RegistrationMonth</th>\n",
       "      <th>FuelType</th>\n",
       "      <th>Brand</th>\n",
       "      <th>Repaired</th>\n",
       "      <th>DateCreated</th>\n",
       "      <th>NumberOfPictures</th>\n",
       "      <th>PostalCode</th>\n",
       "      <th>LastSeen</th>\n",
       "    </tr>\n",
       "  </thead>\n",
       "  <tbody>\n",
       "    <tr>\n",
       "      <th>0</th>\n",
       "      <td>2016-03-24 11:52:17</td>\n",
       "      <td>480</td>\n",
       "      <td>NaN</td>\n",
       "      <td>1993</td>\n",
       "      <td>manual</td>\n",
       "      <td>0</td>\n",
       "      <td>golf</td>\n",
       "      <td>150000</td>\n",
       "      <td>0</td>\n",
       "      <td>petrol</td>\n",
       "      <td>volkswagen</td>\n",
       "      <td>NaN</td>\n",
       "      <td>2016-03-24 00:00:00</td>\n",
       "      <td>0</td>\n",
       "      <td>70435</td>\n",
       "      <td>2016-04-07 03:16:57</td>\n",
       "    </tr>\n",
       "    <tr>\n",
       "      <th>1</th>\n",
       "      <td>2016-03-24 10:58:45</td>\n",
       "      <td>18300</td>\n",
       "      <td>coupe</td>\n",
       "      <td>2011</td>\n",
       "      <td>manual</td>\n",
       "      <td>190</td>\n",
       "      <td>NaN</td>\n",
       "      <td>125000</td>\n",
       "      <td>5</td>\n",
       "      <td>gasoline</td>\n",
       "      <td>audi</td>\n",
       "      <td>yes</td>\n",
       "      <td>2016-03-24 00:00:00</td>\n",
       "      <td>0</td>\n",
       "      <td>66954</td>\n",
       "      <td>2016-04-07 01:46:50</td>\n",
       "    </tr>\n",
       "    <tr>\n",
       "      <th>2</th>\n",
       "      <td>2016-03-14 12:52:21</td>\n",
       "      <td>9800</td>\n",
       "      <td>suv</td>\n",
       "      <td>2004</td>\n",
       "      <td>auto</td>\n",
       "      <td>163</td>\n",
       "      <td>grand</td>\n",
       "      <td>125000</td>\n",
       "      <td>8</td>\n",
       "      <td>gasoline</td>\n",
       "      <td>jeep</td>\n",
       "      <td>NaN</td>\n",
       "      <td>2016-03-14 00:00:00</td>\n",
       "      <td>0</td>\n",
       "      <td>90480</td>\n",
       "      <td>2016-04-05 12:47:46</td>\n",
       "    </tr>\n",
       "    <tr>\n",
       "      <th>3</th>\n",
       "      <td>2016-03-17 16:54:04</td>\n",
       "      <td>1500</td>\n",
       "      <td>small</td>\n",
       "      <td>2001</td>\n",
       "      <td>manual</td>\n",
       "      <td>75</td>\n",
       "      <td>golf</td>\n",
       "      <td>150000</td>\n",
       "      <td>6</td>\n",
       "      <td>petrol</td>\n",
       "      <td>volkswagen</td>\n",
       "      <td>no</td>\n",
       "      <td>2016-03-17 00:00:00</td>\n",
       "      <td>0</td>\n",
       "      <td>91074</td>\n",
       "      <td>2016-03-17 17:40:17</td>\n",
       "    </tr>\n",
       "    <tr>\n",
       "      <th>4</th>\n",
       "      <td>2016-03-31 17:25:20</td>\n",
       "      <td>3600</td>\n",
       "      <td>small</td>\n",
       "      <td>2008</td>\n",
       "      <td>manual</td>\n",
       "      <td>69</td>\n",
       "      <td>fabia</td>\n",
       "      <td>90000</td>\n",
       "      <td>7</td>\n",
       "      <td>gasoline</td>\n",
       "      <td>skoda</td>\n",
       "      <td>no</td>\n",
       "      <td>2016-03-31 00:00:00</td>\n",
       "      <td>0</td>\n",
       "      <td>60437</td>\n",
       "      <td>2016-04-06 10:17:21</td>\n",
       "    </tr>\n",
       "  </tbody>\n",
       "</table>\n",
       "</div>"
      ],
      "text/plain": [
       "           DateCrawled  Price VehicleType  RegistrationYear Gearbox  Power  \\\n",
       "0  2016-03-24 11:52:17    480         NaN              1993  manual      0   \n",
       "1  2016-03-24 10:58:45  18300       coupe              2011  manual    190   \n",
       "2  2016-03-14 12:52:21   9800         suv              2004    auto    163   \n",
       "3  2016-03-17 16:54:04   1500       small              2001  manual     75   \n",
       "4  2016-03-31 17:25:20   3600       small              2008  manual     69   \n",
       "\n",
       "   Model  Kilometer  RegistrationMonth  FuelType       Brand Repaired  \\\n",
       "0   golf     150000                  0    petrol  volkswagen      NaN   \n",
       "1    NaN     125000                  5  gasoline        audi      yes   \n",
       "2  grand     125000                  8  gasoline        jeep      NaN   \n",
       "3   golf     150000                  6    petrol  volkswagen       no   \n",
       "4  fabia      90000                  7  gasoline       skoda       no   \n",
       "\n",
       "           DateCreated  NumberOfPictures  PostalCode             LastSeen  \n",
       "0  2016-03-24 00:00:00                 0       70435  2016-04-07 03:16:57  \n",
       "1  2016-03-24 00:00:00                 0       66954  2016-04-07 01:46:50  \n",
       "2  2016-03-14 00:00:00                 0       90480  2016-04-05 12:47:46  \n",
       "3  2016-03-17 00:00:00                 0       91074  2016-03-17 17:40:17  \n",
       "4  2016-03-31 00:00:00                 0       60437  2016-04-06 10:17:21  "
      ]
     },
     "execution_count": 3,
     "metadata": {},
     "output_type": "execute_result"
    }
   ],
   "source": [
    "# Загрузим наши данные\n",
    "df = pd.read_csv('/datasets/autos.csv')\n",
    "df.head()"
   ]
  },
  {
   "cell_type": "markdown",
   "metadata": {},
   "source": [
    "Сразу видем, что не все параметры будут нужны для нашей цели (определение стоимости автомобиля). Например, дата выгрузки анкеты или создания объявления. Также наличие фотографий может влиять на скорость продажи машины, но не на ее рыночную стоимость. Удалим их. Врядли, что большую роль сыграет месяц регистрации, но пока трогать не буду, оставлю как есть."
   ]
  },
  {
   "cell_type": "code",
   "execution_count": 4,
   "metadata": {},
   "outputs": [
    {
     "data": {
      "text/html": [
       "<div>\n",
       "<style scoped>\n",
       "    .dataframe tbody tr th:only-of-type {\n",
       "        vertical-align: middle;\n",
       "    }\n",
       "\n",
       "    .dataframe tbody tr th {\n",
       "        vertical-align: top;\n",
       "    }\n",
       "\n",
       "    .dataframe thead th {\n",
       "        text-align: right;\n",
       "    }\n",
       "</style>\n",
       "<table border=\"1\" class=\"dataframe\">\n",
       "  <thead>\n",
       "    <tr style=\"text-align: right;\">\n",
       "      <th></th>\n",
       "      <th>Price</th>\n",
       "      <th>VehicleType</th>\n",
       "      <th>RegistrationYear</th>\n",
       "      <th>Gearbox</th>\n",
       "      <th>Power</th>\n",
       "      <th>Model</th>\n",
       "      <th>Kilometer</th>\n",
       "      <th>RegistrationMonth</th>\n",
       "      <th>FuelType</th>\n",
       "      <th>Brand</th>\n",
       "      <th>Repaired</th>\n",
       "    </tr>\n",
       "  </thead>\n",
       "  <tbody>\n",
       "    <tr>\n",
       "      <th>0</th>\n",
       "      <td>480</td>\n",
       "      <td>NaN</td>\n",
       "      <td>1993</td>\n",
       "      <td>manual</td>\n",
       "      <td>0</td>\n",
       "      <td>golf</td>\n",
       "      <td>150000</td>\n",
       "      <td>0</td>\n",
       "      <td>petrol</td>\n",
       "      <td>volkswagen</td>\n",
       "      <td>NaN</td>\n",
       "    </tr>\n",
       "    <tr>\n",
       "      <th>1</th>\n",
       "      <td>18300</td>\n",
       "      <td>coupe</td>\n",
       "      <td>2011</td>\n",
       "      <td>manual</td>\n",
       "      <td>190</td>\n",
       "      <td>NaN</td>\n",
       "      <td>125000</td>\n",
       "      <td>5</td>\n",
       "      <td>gasoline</td>\n",
       "      <td>audi</td>\n",
       "      <td>yes</td>\n",
       "    </tr>\n",
       "    <tr>\n",
       "      <th>2</th>\n",
       "      <td>9800</td>\n",
       "      <td>suv</td>\n",
       "      <td>2004</td>\n",
       "      <td>auto</td>\n",
       "      <td>163</td>\n",
       "      <td>grand</td>\n",
       "      <td>125000</td>\n",
       "      <td>8</td>\n",
       "      <td>gasoline</td>\n",
       "      <td>jeep</td>\n",
       "      <td>NaN</td>\n",
       "    </tr>\n",
       "    <tr>\n",
       "      <th>3</th>\n",
       "      <td>1500</td>\n",
       "      <td>small</td>\n",
       "      <td>2001</td>\n",
       "      <td>manual</td>\n",
       "      <td>75</td>\n",
       "      <td>golf</td>\n",
       "      <td>150000</td>\n",
       "      <td>6</td>\n",
       "      <td>petrol</td>\n",
       "      <td>volkswagen</td>\n",
       "      <td>no</td>\n",
       "    </tr>\n",
       "    <tr>\n",
       "      <th>4</th>\n",
       "      <td>3600</td>\n",
       "      <td>small</td>\n",
       "      <td>2008</td>\n",
       "      <td>manual</td>\n",
       "      <td>69</td>\n",
       "      <td>fabia</td>\n",
       "      <td>90000</td>\n",
       "      <td>7</td>\n",
       "      <td>gasoline</td>\n",
       "      <td>skoda</td>\n",
       "      <td>no</td>\n",
       "    </tr>\n",
       "  </tbody>\n",
       "</table>\n",
       "</div>"
      ],
      "text/plain": [
       "   Price VehicleType  RegistrationYear Gearbox  Power  Model  Kilometer  \\\n",
       "0    480         NaN              1993  manual      0   golf     150000   \n",
       "1  18300       coupe              2011  manual    190    NaN     125000   \n",
       "2   9800         suv              2004    auto    163  grand     125000   \n",
       "3   1500       small              2001  manual     75   golf     150000   \n",
       "4   3600       small              2008  manual     69  fabia      90000   \n",
       "\n",
       "   RegistrationMonth  FuelType       Brand Repaired  \n",
       "0                  0    petrol  volkswagen      NaN  \n",
       "1                  5  gasoline        audi      yes  \n",
       "2                  8  gasoline        jeep      NaN  \n",
       "3                  6    petrol  volkswagen       no  \n",
       "4                  7  gasoline       skoda       no  "
      ]
     },
     "execution_count": 4,
     "metadata": {},
     "output_type": "execute_result"
    }
   ],
   "source": [
    "del df['DateCrawled'], df['DateCreated'], df['NumberOfPictures'], df['PostalCode'], df['LastSeen']\n",
    "df.head()"
   ]
  },
  {
   "cell_type": "code",
   "execution_count": 5,
   "metadata": {},
   "outputs": [
    {
     "name": "stdout",
     "output_type": "stream",
     "text": [
      "<class 'pandas.core.frame.DataFrame'>\n",
      "RangeIndex: 354369 entries, 0 to 354368\n",
      "Data columns (total 11 columns):\n",
      " #   Column             Non-Null Count   Dtype \n",
      "---  ------             --------------   ----- \n",
      " 0   Price              354369 non-null  int64 \n",
      " 1   VehicleType        316879 non-null  object\n",
      " 2   RegistrationYear   354369 non-null  int64 \n",
      " 3   Gearbox            334536 non-null  object\n",
      " 4   Power              354369 non-null  int64 \n",
      " 5   Model              334664 non-null  object\n",
      " 6   Kilometer          354369 non-null  int64 \n",
      " 7   RegistrationMonth  354369 non-null  int64 \n",
      " 8   FuelType           321474 non-null  object\n",
      " 9   Brand              354369 non-null  object\n",
      " 10  Repaired           283215 non-null  object\n",
      "dtypes: int64(5), object(6)\n",
      "memory usage: 29.7+ MB\n"
     ]
    }
   ],
   "source": [
    "# Посмотрим инфо по интересующим нас данным\n",
    "df.info()"
   ]
  },
  {
   "cell_type": "code",
   "execution_count": 6,
   "metadata": {},
   "outputs": [
    {
     "data": {
      "text/html": [
       "<div>\n",
       "<style scoped>\n",
       "    .dataframe tbody tr th:only-of-type {\n",
       "        vertical-align: middle;\n",
       "    }\n",
       "\n",
       "    .dataframe tbody tr th {\n",
       "        vertical-align: top;\n",
       "    }\n",
       "\n",
       "    .dataframe thead th {\n",
       "        text-align: right;\n",
       "    }\n",
       "</style>\n",
       "<table border=\"1\" class=\"dataframe\">\n",
       "  <thead>\n",
       "    <tr style=\"text-align: right;\">\n",
       "      <th></th>\n",
       "      <th>Price</th>\n",
       "      <th>RegistrationYear</th>\n",
       "      <th>Power</th>\n",
       "      <th>Kilometer</th>\n",
       "      <th>RegistrationMonth</th>\n",
       "    </tr>\n",
       "  </thead>\n",
       "  <tbody>\n",
       "    <tr>\n",
       "      <th>count</th>\n",
       "      <td>354369.000000</td>\n",
       "      <td>354369.000000</td>\n",
       "      <td>354369.000000</td>\n",
       "      <td>354369.000000</td>\n",
       "      <td>354369.000000</td>\n",
       "    </tr>\n",
       "    <tr>\n",
       "      <th>mean</th>\n",
       "      <td>4416.656776</td>\n",
       "      <td>2004.234448</td>\n",
       "      <td>110.094337</td>\n",
       "      <td>128211.172535</td>\n",
       "      <td>5.714645</td>\n",
       "    </tr>\n",
       "    <tr>\n",
       "      <th>std</th>\n",
       "      <td>4514.158514</td>\n",
       "      <td>90.227958</td>\n",
       "      <td>189.850405</td>\n",
       "      <td>37905.341530</td>\n",
       "      <td>3.726421</td>\n",
       "    </tr>\n",
       "    <tr>\n",
       "      <th>min</th>\n",
       "      <td>0.000000</td>\n",
       "      <td>1000.000000</td>\n",
       "      <td>0.000000</td>\n",
       "      <td>5000.000000</td>\n",
       "      <td>0.000000</td>\n",
       "    </tr>\n",
       "    <tr>\n",
       "      <th>25%</th>\n",
       "      <td>1050.000000</td>\n",
       "      <td>1999.000000</td>\n",
       "      <td>69.000000</td>\n",
       "      <td>125000.000000</td>\n",
       "      <td>3.000000</td>\n",
       "    </tr>\n",
       "    <tr>\n",
       "      <th>50%</th>\n",
       "      <td>2700.000000</td>\n",
       "      <td>2003.000000</td>\n",
       "      <td>105.000000</td>\n",
       "      <td>150000.000000</td>\n",
       "      <td>6.000000</td>\n",
       "    </tr>\n",
       "    <tr>\n",
       "      <th>75%</th>\n",
       "      <td>6400.000000</td>\n",
       "      <td>2008.000000</td>\n",
       "      <td>143.000000</td>\n",
       "      <td>150000.000000</td>\n",
       "      <td>9.000000</td>\n",
       "    </tr>\n",
       "    <tr>\n",
       "      <th>max</th>\n",
       "      <td>20000.000000</td>\n",
       "      <td>9999.000000</td>\n",
       "      <td>20000.000000</td>\n",
       "      <td>150000.000000</td>\n",
       "      <td>12.000000</td>\n",
       "    </tr>\n",
       "  </tbody>\n",
       "</table>\n",
       "</div>"
      ],
      "text/plain": [
       "               Price  RegistrationYear          Power      Kilometer  \\\n",
       "count  354369.000000     354369.000000  354369.000000  354369.000000   \n",
       "mean     4416.656776       2004.234448     110.094337  128211.172535   \n",
       "std      4514.158514         90.227958     189.850405   37905.341530   \n",
       "min         0.000000       1000.000000       0.000000    5000.000000   \n",
       "25%      1050.000000       1999.000000      69.000000  125000.000000   \n",
       "50%      2700.000000       2003.000000     105.000000  150000.000000   \n",
       "75%      6400.000000       2008.000000     143.000000  150000.000000   \n",
       "max     20000.000000       9999.000000   20000.000000  150000.000000   \n",
       "\n",
       "       RegistrationMonth  \n",
       "count      354369.000000  \n",
       "mean            5.714645  \n",
       "std             3.726421  \n",
       "min             0.000000  \n",
       "25%             3.000000  \n",
       "50%             6.000000  \n",
       "75%             9.000000  \n",
       "max            12.000000  "
      ]
     },
     "execution_count": 6,
     "metadata": {},
     "output_type": "execute_result"
    }
   ],
   "source": [
    "# Посмотрим распределения значений\n",
    "df.describe()"
   ]
  },
  {
   "cell_type": "markdown",
   "metadata": {},
   "source": [
    "Видим, что\n",
    "1. С типами всё в порядке\n",
    "2. Есть много пропущенный значений. И если для CatBoost это не проблема, то для более простых моделей все равно потребуется обработка\n",
    "3. Есть явные выбросы в обе стороны у лошадинных сил и года регистрации. Также нулевой месяц регистрации вызывает вопросы\n",
    "\n",
    "Начнем с обработки выбросов."
   ]
  },
  {
   "cell_type": "code",
   "execution_count": 7,
   "metadata": {},
   "outputs": [
    {
     "data": {
      "text/plain": [
       "0     37352\n",
       "3     34373\n",
       "6     31508\n",
       "4     29270\n",
       "5     29153\n",
       "7     27213\n",
       "10    26099\n",
       "12    24289\n",
       "11    24186\n",
       "9     23813\n",
       "1     23219\n",
       "8     22627\n",
       "2     21267\n",
       "Name: RegistrationMonth, dtype: int64"
      ]
     },
     "execution_count": 7,
     "metadata": {},
     "output_type": "execute_result"
    }
   ],
   "source": [
    "df['RegistrationMonth'].value_counts()"
   ]
  },
  {
   "cell_type": "markdown",
   "metadata": {},
   "source": [
    "Поскольку у нас целых 37000+ нулевых значений, удалять мы их пока не будем (т.к. это 9% всех данных) будем считать 0 отсутствием данных о месяце."
   ]
  },
  {
   "cell_type": "code",
   "execution_count": 8,
   "metadata": {},
   "outputs": [
    {
     "data": {
      "image/png": "[encoded data removed]",
      "text/plain": [
       "<Figure size 1152x576 with 1 Axes>"
      ]
     },
     "metadata": {
      "needs_background": "light"
     },
     "output_type": "display_data"
    }
   ],
   "source": [
    "fig, ax = plt.subplots(1)\n",
    "ax.set_title('Распределение объявлений по мощности')\n",
    "ax.set_xlabel('Лошадинных сил')\n",
    "ax.set_ylabel('Количество объявлений')\n",
    "_, bp = df['Power'].plot(kind='box', figsize=(16,8), ax=ax, return_type='both')"
   ]
  },
  {
   "cell_type": "code",
   "execution_count": 9,
   "metadata": {},
   "outputs": [
    {
     "data": {
      "text/html": [
       "<div>\n",
       "<style scoped>\n",
       "    .dataframe tbody tr th:only-of-type {\n",
       "        vertical-align: middle;\n",
       "    }\n",
       "\n",
       "    .dataframe tbody tr th {\n",
       "        vertical-align: top;\n",
       "    }\n",
       "\n",
       "    .dataframe thead th {\n",
       "        text-align: right;\n",
       "    }\n",
       "</style>\n",
       "<table border=\"1\" class=\"dataframe\">\n",
       "  <thead>\n",
       "    <tr style=\"text-align: right;\">\n",
       "      <th></th>\n",
       "      <th>Price</th>\n",
       "      <th>VehicleType</th>\n",
       "      <th>RegistrationYear</th>\n",
       "      <th>Gearbox</th>\n",
       "      <th>Power</th>\n",
       "      <th>Model</th>\n",
       "      <th>Kilometer</th>\n",
       "      <th>RegistrationMonth</th>\n",
       "      <th>FuelType</th>\n",
       "      <th>Brand</th>\n",
       "      <th>Repaired</th>\n",
       "    </tr>\n",
       "  </thead>\n",
       "  <tbody>\n",
       "    <tr>\n",
       "      <th>7661</th>\n",
       "      <td>1499</td>\n",
       "      <td>small</td>\n",
       "      <td>1999</td>\n",
       "      <td>manual</td>\n",
       "      <td>7515</td>\n",
       "      <td>lupo</td>\n",
       "      <td>150000</td>\n",
       "      <td>4</td>\n",
       "      <td>petrol</td>\n",
       "      <td>volkswagen</td>\n",
       "      <td>NaN</td>\n",
       "    </tr>\n",
       "    <tr>\n",
       "      <th>11039</th>\n",
       "      <td>0</td>\n",
       "      <td>sedan</td>\n",
       "      <td>1998</td>\n",
       "      <td>manual</td>\n",
       "      <td>10317</td>\n",
       "      <td>other</td>\n",
       "      <td>150000</td>\n",
       "      <td>8</td>\n",
       "      <td>petrol</td>\n",
       "      <td>fiat</td>\n",
       "      <td>no</td>\n",
       "    </tr>\n",
       "    <tr>\n",
       "      <th>19092</th>\n",
       "      <td>9750</td>\n",
       "      <td>wagon</td>\n",
       "      <td>2005</td>\n",
       "      <td>auto</td>\n",
       "      <td>2729</td>\n",
       "      <td>5er</td>\n",
       "      <td>150000</td>\n",
       "      <td>7</td>\n",
       "      <td>gasoline</td>\n",
       "      <td>bmw</td>\n",
       "      <td>no</td>\n",
       "    </tr>\n",
       "    <tr>\n",
       "      <th>25232</th>\n",
       "      <td>10900</td>\n",
       "      <td>bus</td>\n",
       "      <td>2009</td>\n",
       "      <td>manual</td>\n",
       "      <td>10520</td>\n",
       "      <td>caddy</td>\n",
       "      <td>150000</td>\n",
       "      <td>6</td>\n",
       "      <td>gasoline</td>\n",
       "      <td>volkswagen</td>\n",
       "      <td>no</td>\n",
       "    </tr>\n",
       "    <tr>\n",
       "      <th>33952</th>\n",
       "      <td>3740</td>\n",
       "      <td>small</td>\n",
       "      <td>2006</td>\n",
       "      <td>manual</td>\n",
       "      <td>6920</td>\n",
       "      <td>aygo</td>\n",
       "      <td>90000</td>\n",
       "      <td>10</td>\n",
       "      <td>NaN</td>\n",
       "      <td>toyota</td>\n",
       "      <td>no</td>\n",
       "    </tr>\n",
       "    <tr>\n",
       "      <th>36206</th>\n",
       "      <td>5400</td>\n",
       "      <td>NaN</td>\n",
       "      <td>2017</td>\n",
       "      <td>manual</td>\n",
       "      <td>2017</td>\n",
       "      <td>transporter</td>\n",
       "      <td>150000</td>\n",
       "      <td>8</td>\n",
       "      <td>gasoline</td>\n",
       "      <td>volkswagen</td>\n",
       "      <td>NaN</td>\n",
       "    </tr>\n",
       "    <tr>\n",
       "      <th>44520</th>\n",
       "      <td>2500</td>\n",
       "      <td>convertible</td>\n",
       "      <td>1998</td>\n",
       "      <td>manual</td>\n",
       "      <td>7512</td>\n",
       "      <td>golf</td>\n",
       "      <td>150000</td>\n",
       "      <td>6</td>\n",
       "      <td>NaN</td>\n",
       "      <td>volkswagen</td>\n",
       "      <td>NaN</td>\n",
       "    </tr>\n",
       "    <tr>\n",
       "      <th>45053</th>\n",
       "      <td>15800</td>\n",
       "      <td>convertible</td>\n",
       "      <td>2014</td>\n",
       "      <td>auto</td>\n",
       "      <td>10218</td>\n",
       "      <td>fortwo</td>\n",
       "      <td>30000</td>\n",
       "      <td>3</td>\n",
       "      <td>petrol</td>\n",
       "      <td>smart</td>\n",
       "      <td>NaN</td>\n",
       "    </tr>\n",
       "    <tr>\n",
       "      <th>45216</th>\n",
       "      <td>1690</td>\n",
       "      <td>sedan</td>\n",
       "      <td>1999</td>\n",
       "      <td>manual</td>\n",
       "      <td>7544</td>\n",
       "      <td>golf</td>\n",
       "      <td>125000</td>\n",
       "      <td>12</td>\n",
       "      <td>petrol</td>\n",
       "      <td>volkswagen</td>\n",
       "      <td>NaN</td>\n",
       "    </tr>\n",
       "    <tr>\n",
       "      <th>53158</th>\n",
       "      <td>1200</td>\n",
       "      <td>small</td>\n",
       "      <td>2001</td>\n",
       "      <td>manual</td>\n",
       "      <td>5411</td>\n",
       "      <td>seicento</td>\n",
       "      <td>150000</td>\n",
       "      <td>2</td>\n",
       "      <td>NaN</td>\n",
       "      <td>fiat</td>\n",
       "      <td>no</td>\n",
       "    </tr>\n",
       "  </tbody>\n",
       "</table>\n",
       "</div>"
      ],
      "text/plain": [
       "       Price  VehicleType  RegistrationYear Gearbox  Power        Model  \\\n",
       "7661    1499        small              1999  manual   7515         lupo   \n",
       "11039      0        sedan              1998  manual  10317        other   \n",
       "19092   9750        wagon              2005    auto   2729          5er   \n",
       "25232  10900          bus              2009  manual  10520        caddy   \n",
       "33952   3740        small              2006  manual   6920         aygo   \n",
       "36206   5400          NaN              2017  manual   2017  transporter   \n",
       "44520   2500  convertible              1998  manual   7512         golf   \n",
       "45053  15800  convertible              2014    auto  10218       fortwo   \n",
       "45216   1690        sedan              1999  manual   7544         golf   \n",
       "53158   1200        small              2001  manual   5411     seicento   \n",
       "\n",
       "       Kilometer  RegistrationMonth  FuelType       Brand Repaired  \n",
       "7661      150000                  4    petrol  volkswagen      NaN  \n",
       "11039     150000                  8    petrol        fiat       no  \n",
       "19092     150000                  7  gasoline         bmw       no  \n",
       "25232     150000                  6  gasoline  volkswagen       no  \n",
       "33952      90000                 10       NaN      toyota       no  \n",
       "36206     150000                  8  gasoline  volkswagen      NaN  \n",
       "44520     150000                  6       NaN  volkswagen      NaN  \n",
       "45053      30000                  3    petrol       smart      NaN  \n",
       "45216     125000                 12    petrol  volkswagen      NaN  \n",
       "53158     150000                  2       NaN        fiat       no  "
      ]
     },
     "execution_count": 9,
     "metadata": {},
     "output_type": "execute_result"
    }
   ],
   "source": [
    "# С помощью интернета было выяснено, что самая большая мощность серийного автомобиля - 2000 лошадинных сил\n",
    "# тем не менее, посмотрим, какие у нас тут представлены данные\n",
    "\n",
    "df[df['Power'] > 2000].head(10)"
   ]
  },
  {
   "cell_type": "markdown",
   "metadata": {},
   "source": [
    "Изучив несколько из представленных машин, я понял, что мощность можно исправить только у fiat seicento (выглядит так, что умножили на 100). Где-то в мощности продублирован год, но в остальном выглядит так, что это какие-то случайные значения, поэтому тут мы ничего исправить не можем ориентируясь на них, но можем ориентируясь на остальные данные.\n",
    "\n",
    "Для начала посмотрим наши границы."
   ]
  },
  {
   "cell_type": "code",
   "execution_count": 10,
   "metadata": {},
   "outputs": [
    {
     "data": {
      "text/plain": [
       "254.0"
      ]
     },
     "execution_count": 10,
     "metadata": {},
     "output_type": "execute_result"
    }
   ],
   "source": [
    "whiskers = [whiskers.get_ydata() for whiskers in bp[\"whiskers\"]]\n",
    "whiskers[1][1]"
   ]
  },
  {
   "cell_type": "code",
   "execution_count": 11,
   "metadata": {},
   "outputs": [
    {
     "data": {
      "text/plain": [
       "1534"
      ]
     },
     "execution_count": 11,
     "metadata": {},
     "output_type": "execute_result"
    }
   ],
   "source": [
    "# возьмем за отсечку кайен с его 340 л.с.\n",
    "df[df['Power'] > 340]['Brand'].count()"
   ]
  },
  {
   "cell_type": "code",
   "execution_count": 12,
   "metadata": {},
   "outputs": [
    {
     "data": {
      "text/plain": [
       "0     40225\n",
       "60    15897\n",
       "54     5745\n",
       "50     4627\n",
       "58     3854\n",
       "      ...  \n",
       "21        6\n",
       "32        5\n",
       "28        5\n",
       "22        5\n",
       "9         5\n",
       "Name: Power, Length: 69, dtype: int64"
      ]
     },
     "execution_count": 12,
     "metadata": {},
     "output_type": "execute_result"
    }
   ],
   "source": [
    "# Рассмотрим минимальные значения\n",
    "df[df['Power'] < whiskers[0][0]]['Power'].value_counts()"
   ]
  },
  {
   "cell_type": "markdown",
   "metadata": {},
   "source": [
    "В данном случае 40к+ нулевых значений дают о себе знать. Судя по всему это 40000 неуказанных мощностей. Однако, мощность зачастую зависит от модели и года выпуска, а значит мы можем попробовать заполнить эти данные по уже имеющимся. И если где-то это не получится, рассмотрим вариант удаления этих значений"
   ]
  },
  {
   "cell_type": "code",
   "execution_count": 13,
   "metadata": {},
   "outputs": [
    {
     "data": {
      "text/plain": [
       "Brand               42667\n",
       "Model               35893\n",
       "RegistrationYear    42667\n",
       "dtype: int64"
      ]
     },
     "execution_count": 13,
     "metadata": {},
     "output_type": "execute_result"
    }
   ],
   "source": [
    "def calculate_power(df, brand, model, year):\n",
    "    df_part = df[(df['RegistrationYear'] == year) & (df['Brand'] == brand) & (df['Model'] == model)]\n",
    "    if (df_part['Power'].count() == 0):\n",
    "        # если не нашли по году, бренду и модели, пробуем только по бренду + модели\n",
    "        df_part = df[(df['Brand'] == brand) & (df['Model'] == model)]\n",
    "    \n",
    "    median_power = df_part['Power'].median()\n",
    "    \n",
    "    if (math.isnan(median_power)):\n",
    "        median_power = 0\n",
    "        \n",
    "    return median_power\n",
    "\n",
    "# Попробуем заполнить мощность для наших плохих данных\n",
    "bad_power_df = df[(df['Power'] < 30) | (df['Power'] > 340)][['Brand', 'Model', 'RegistrationYear']]\n",
    "bad_power_df.count()"
   ]
  },
  {
   "cell_type": "code",
   "execution_count": 14,
   "metadata": {},
   "outputs": [],
   "source": [
    "# Заполним незаполненные модели категорией other\n",
    "bad_power_df['Model'] = bad_power_df['Model'].fillna('other')"
   ]
  },
  {
   "cell_type": "code",
   "execution_count": 15,
   "metadata": {},
   "outputs": [
    {
     "data": {
      "text/plain": [
       "Brand               4758\n",
       "Model               4758\n",
       "RegistrationYear    4758\n",
       "dtype: int64"
      ]
     },
     "execution_count": 15,
     "metadata": {},
     "output_type": "execute_result"
    }
   ],
   "source": [
    "bad_power_df = bad_power_df.drop_duplicates()\n",
    "bad_power_df.count()"
   ]
  },
  {
   "cell_type": "code",
   "execution_count": 16,
   "metadata": {},
   "outputs": [
    {
     "name": "stdout",
     "output_type": "stream",
     "text": [
      "CPU times: user 8min 7s, sys: 269 ms, total: 8min 7s\n",
      "Wall time: 8min 41s\n"
     ]
    }
   ],
   "source": [
    "%%time\n",
    "\n",
    "for row in bad_power_df.itertuples(index=True, name='Pandas'):\n",
    "    year = getattr(row, \"RegistrationYear\")\n",
    "    brand = getattr(row, \"Brand\")\n",
    "    model = getattr(row, \"Model\")\n",
    "    median = calculate_power(df, brand, model, year)\n",
    "    searchRow = ((df['Power'] < 30) | (df['Power'] > 340)) & (df['Brand'] == brand) & (df['Model'] == model) & (df['RegistrationYear'] == year)\n",
    "    df.loc[searchRow, 'Power'] = median"
   ]
  },
  {
   "cell_type": "code",
   "execution_count": 17,
   "metadata": {},
   "outputs": [
    {
     "data": {
      "text/plain": [
       "7755"
      ]
     },
     "execution_count": 17,
     "metadata": {},
     "output_type": "execute_result"
    }
   ],
   "source": [
    "# Посмотрим, сколько нулевых значений осталось\n",
    "df[df['Power'] == 0]['Price'].count()"
   ]
  },
  {
   "cell_type": "code",
   "execution_count": 18,
   "metadata": {},
   "outputs": [],
   "source": [
    "# Остались только какие-то уникальные модели, которые не встретились в остальной выборке, удалим их\n",
    "df = df[df['Power'] != 0]"
   ]
  },
  {
   "cell_type": "code",
   "execution_count": 19,
   "metadata": {},
   "outputs": [
    {
     "data": {
      "image/png": "[encoded data removed]",
      "text/plain": [
       "<Figure size 1152x576 with 1 Axes>"
      ]
     },
     "metadata": {
      "needs_background": "light"
     },
     "output_type": "display_data"
    }
   ],
   "source": [
    "# Разберемся с годами\n",
    "fig, ax = plt.subplots(1)\n",
    "ax.set_title('Распределение объявлений по мощности')\n",
    "ax.set_xlabel('Год регистрации')\n",
    "ax.set_ylabel('Количество объявлений')\n",
    "_, bp = df['RegistrationYear'].plot(kind='box', figsize=(16,8), ax=ax, return_type='both')"
   ]
  },
  {
   "cell_type": "code",
   "execution_count": 20,
   "metadata": {},
   "outputs": [
    {
     "data": {
      "text/plain": [
       "2726"
      ]
     },
     "execution_count": 20,
     "metadata": {},
     "output_type": "execute_result"
    }
   ],
   "source": [
    "# Выберем только значения в диапазоне от 2020 года (остальные вряд ли возможны) \n",
    "# и от 1980 (меньше также вряд ли возможны и нам интересны)\n",
    "\n",
    "df[(df['RegistrationYear'] < 1980) | (df['RegistrationYear'] > 2022)]['Price'].count()"
   ]
  },
  {
   "cell_type": "code",
   "execution_count": 21,
   "metadata": {},
   "outputs": [],
   "source": [
    "# Поскольку восстановить эти данные проблема, удалим их\n",
    "df = df[(df['RegistrationYear'] >= 1980) | (df['RegistrationYear'] <= 2022)]"
   ]
  },
  {
   "cell_type": "code",
   "execution_count": 22,
   "metadata": {},
   "outputs": [
    {
     "data": {
      "image/png": "[encoded data removed]",
      "text/plain": [
       "<Figure size 1152x576 with 1 Axes>"
      ]
     },
     "metadata": {
      "needs_background": "light"
     },
     "output_type": "display_data"
    }
   ],
   "source": [
    "# Посмотрим на boxplot\n",
    "fig, ax = plt.subplots(1)\n",
    "ax.set_title('Распределение объявлений по мощности')\n",
    "ax.set_xlabel('цена')\n",
    "ax.set_ylabel('Количество объявлений')\n",
    "_, bp = df['Price'].plot(kind='box', figsize=(16,8), ax=ax, return_type='both')"
   ]
  },
  {
   "cell_type": "code",
   "execution_count": 23,
   "metadata": {},
   "outputs": [
    {
     "data": {
      "text/plain": [
       "0    9317\n",
       "1     988\n",
       "5      23\n",
       "2       9\n",
       "9       6\n",
       "3       5\n",
       "7       2\n",
       "8       1\n",
       "Name: Price, dtype: int64"
      ]
     },
     "execution_count": 23,
     "metadata": {},
     "output_type": "execute_result"
    }
   ],
   "source": [
    "# Посмотрим, что у нас с ценой (есть нулевые значения)\n",
    "df[df['Price'] < 10]['Price'].value_counts()"
   ]
  },
  {
   "cell_type": "code",
   "execution_count": 24,
   "metadata": {},
   "outputs": [
    {
     "data": {
      "text/plain": [
       "Brand               2379\n",
       "Model               2379\n",
       "RegistrationYear    2379\n",
       "dtype: int64"
      ]
     },
     "execution_count": 24,
     "metadata": {},
     "output_type": "execute_result"
    }
   ],
   "source": [
    "# По верхней границе находятся в основном audi, bmw и т.д.\n",
    "# Есть исключения, но выделять их отдельно проблематично, оставим как есть\n",
    "# А вот нулевые цены представляют реальную проблему, обработаем их по аналогии с мощностью двигателя,\n",
    "# Но возьмем на этот раз не медиану, а среднее\n",
    "\n",
    "def calculate_price(df, brand, model, year):\n",
    "    # в среднем не будем рассчитывать нулевые значения\n",
    "    df_part = df[(df['Price'] >= 10) & (df['RegistrationYear'] == year) & (df['Brand'] == brand) & (df['Model'] == model)]\n",
    "    if (df_part['Price'].count() == 0):\n",
    "        # если не нашли по году, бренду и модели, пробуем только по бренду + модели\n",
    "        df_part = df[(df['Price'] >= 10) & (df['Brand'] == brand) & (df['Model'] == model)]\n",
    "    \n",
    "    mean_price = df_part['Price'].mean()\n",
    "    \n",
    "    if (math.isnan(mean_price)):\n",
    "        mean_price = 0\n",
    "        \n",
    "    return mean_price\n",
    "\n",
    "# Попробуем заполнить мощность для наших плохих данных\n",
    "bad_price_df = df[df['Price'] < 10][['Brand', 'Model', 'RegistrationYear']]\n",
    "bad_price_df['Model'] = bad_price_df['Model'].fillna('other')\n",
    "bad_price_df = bad_price_df.drop_duplicates()\n",
    "bad_price_df.count()"
   ]
  },
  {
   "cell_type": "code",
   "execution_count": 25,
   "metadata": {},
   "outputs": [
    {
     "name": "stdout",
     "output_type": "stream",
     "text": [
      "CPU times: user 4min 6s, sys: 82.3 ms, total: 4min 6s\n",
      "Wall time: 4min 28s\n"
     ]
    },
    {
     "data": {
      "text/plain": [
       "1003"
      ]
     },
     "execution_count": 25,
     "metadata": {},
     "output_type": "execute_result"
    }
   ],
   "source": [
    "%%time\n",
    "\n",
    "for row in bad_price_df.itertuples(index=True, name='Pandas'):\n",
    "    year = getattr(row, \"RegistrationYear\")\n",
    "    brand = getattr(row, \"Brand\")\n",
    "    model = getattr(row, \"Model\")\n",
    "    mean_price = calculate_price(df, brand, model, year)\n",
    "    searchRow = (df['Price'] < 15) & (df['Brand'] == brand) & (df['Model'] == model) & (df['RegistrationYear'] == year)\n",
    "    df.loc[searchRow, 'Price'] = mean_price\n",
    "    \n",
    "df[df['Price'] < 10]['Price'].count()"
   ]
  },
  {
   "cell_type": "code",
   "execution_count": 26,
   "metadata": {},
   "outputs": [],
   "source": [
    "# Осталось совсем немного неправильных и непонятных данных, удалим их\n",
    "df = df[df['Price'] >= 10]"
   ]
  },
  {
   "cell_type": "markdown",
   "metadata": {},
   "source": [
    "**Промежуточный вывод**\n",
    "1. Мы дозаполнили данные о мощности автомобиля для отсутствующих значений и выбросов\n",
    "2. Где не получилось этого сделать, мы удалили данные с незаполненным годом регистрации и мощностью автомобиля, т.к. это факторы, которые в любом случае будут влиять на стоимость\n",
    "3. Мы заполнили отсутствующие значения для цены, не затрагивая верхнюю границу\n",
    "\n",
    "Километраж выглядит похожим на правду, а месяц мы вряд ли сможем как-то спрогнозировать, поэтому оставляем, как есть.\n",
    "\n",
    "В остальном, нам необходимо заполнить пропуски в категориальных признаках.\n",
    "\n",
    "Особый момент, дубликаты обрабатывать не будем, т.к. в случае продажи машин могут продаваться с разным цветом и объявления просто похожи друг на друга."
   ]
  },
  {
   "cell_type": "code",
   "execution_count": 27,
   "metadata": {},
   "outputs": [
    {
     "name": "stdout",
     "output_type": "stream",
     "text": [
      "<class 'pandas.core.frame.DataFrame'>\n",
      "Int64Index: 345611 entries, 0 to 354368\n",
      "Data columns (total 11 columns):\n",
      " #   Column             Non-Null Count   Dtype  \n",
      "---  ------             --------------   -----  \n",
      " 0   Price              345611 non-null  float64\n",
      " 1   VehicleType        313073 non-null  object \n",
      " 2   RegistrationYear   345611 non-null  int64  \n",
      " 3   Gearbox            329835 non-null  object \n",
      " 4   Power              345611 non-null  float64\n",
      " 5   Model              333203 non-null  object \n",
      " 6   Kilometer          345611 non-null  int64  \n",
      " 7   RegistrationMonth  345611 non-null  int64  \n",
      " 8   FuelType           317205 non-null  object \n",
      " 9   Brand              345611 non-null  object \n",
      " 10  Repaired           280176 non-null  object \n",
      "dtypes: float64(2), int64(3), object(6)\n",
      "memory usage: 31.6+ MB\n"
     ]
    }
   ],
   "source": [
    "# Посмотрим, как обстоят дела с пропуске в обработанном DF\n",
    "df.info()"
   ]
  },
  {
   "cell_type": "code",
   "execution_count": 28,
   "metadata": {},
   "outputs": [
    {
     "data": {
      "text/plain": [
       "no     245045\n",
       "yes     35131\n",
       "Name: Repaired, dtype: int64"
      ]
     },
     "execution_count": 28,
     "metadata": {},
     "output_type": "execute_result"
    }
   ],
   "source": [
    "# Посмотрим, есть ли артифакты в значениях NotRepaired\n",
    "df['Repaired'].value_counts()"
   ]
  },
  {
   "cell_type": "code",
   "execution_count": 29,
   "metadata": {},
   "outputs": [
    {
     "data": {
      "text/plain": [
       "0    245045\n",
       "1     65435\n",
       "2     35131\n",
       "Name: Repaired, dtype: int64"
      ]
     },
     "execution_count": 29,
     "metadata": {},
     "output_type": "execute_result"
    }
   ],
   "source": [
    "# По сути, мы имеем третью категорию, когда нам неизвестно была ли машина в ремонте. Выгоднее это указывать,\n",
    "# если ремонт все же был, однако нам неизвестен источник данных и, возможно, мы просто не смогли подтянуть соответствующую\n",
    "# информацию, поэтому в данном случае будет правильно переделать признак в числовой для удобства, где\n",
    "# 0 будет отсутствие ремонта, 1 неизвестно и 2 - ремонт был (таким образом определим вес каждой категории)\n",
    "\n",
    "df['Repaired'] = df['Repaired'].fillna(1)\n",
    "\n",
    "def fill_repaired(value):\n",
    "    if value == 'no':\n",
    "        return 0\n",
    "    elif value == 'yes':\n",
    "        return 2\n",
    "    else:\n",
    "        return value\n",
    "\n",
    "df['Repaired'] = df['Repaired'].apply(fill_repaired)\n",
    "df['Repaired'].value_counts()"
   ]
  },
  {
   "cell_type": "code",
   "execution_count": 30,
   "metadata": {},
   "outputs": [
    {
     "data": {
      "text/plain": [
       "sedan          90483\n",
       "small          78828\n",
       "wagon          64565\n",
       "bus            28469\n",
       "convertible    19974\n",
       "coupe          15914\n",
       "suv            11798\n",
       "other           3042\n",
       "Name: VehicleType, dtype: int64"
      ]
     },
     "execution_count": 30,
     "metadata": {},
     "output_type": "execute_result"
    }
   ],
   "source": [
    "# Разберемся с VehicleType\n",
    "df['VehicleType'].value_counts()"
   ]
  },
  {
   "cell_type": "code",
   "execution_count": 31,
   "metadata": {},
   "outputs": [],
   "source": [
    "\n",
    "# Тут на самом деле отсутствие значения можно выделить в отдельную категорию\n",
    "df['VehicleType'] = df['VehicleType'].fillna('undefined')"
   ]
  },
  {
   "cell_type": "code",
   "execution_count": 32,
   "metadata": {},
   "outputs": [
    {
     "name": "stdout",
     "output_type": "stream",
     "text": [
      "<class 'pandas.core.frame.DataFrame'>\n",
      "RangeIndex: 345611 entries, 0 to 345610\n",
      "Data columns (total 12 columns):\n",
      " #   Column             Non-Null Count   Dtype  \n",
      "---  ------             --------------   -----  \n",
      " 0   index              345611 non-null  int64  \n",
      " 1   Price              345611 non-null  float64\n",
      " 2   VehicleType        345611 non-null  object \n",
      " 3   RegistrationYear   345611 non-null  int64  \n",
      " 4   Gearbox            345611 non-null  object \n",
      " 5   Power              345611 non-null  float64\n",
      " 6   Model              345611 non-null  object \n",
      " 7   Kilometer          345611 non-null  int64  \n",
      " 8   RegistrationMonth  345611 non-null  int64  \n",
      " 9   FuelType           345611 non-null  object \n",
      " 10  Brand              345611 non-null  object \n",
      " 11  Repaired           345611 non-null  int64  \n",
      "dtypes: float64(2), int64(5), object(5)\n",
      "memory usage: 31.6+ MB\n"
     ]
    }
   ],
   "source": [
    "# Аналогичным образом поступим и для остальных признаков\n",
    "# т.к. их восстановление или проблематично или не имеет решающей роли, в т.ч. т.к. их осталось меньше 10%\n",
    "df['Gearbox'] = df['Gearbox'].fillna('undefined')\n",
    "df['Model'] = df['Model'].fillna('undefined')\n",
    "df['FuelType'] = df['FuelType'].fillna('undefined')\n",
    "df['Brand'] = df['Brand'].fillna('undefined')\n",
    "\n",
    "# сразу сбросим индексы\n",
    "df = df.reset_index()\n",
    "\n",
    "# посмотрим, что получилось\n",
    "df.info()"
   ]
  },
  {
   "cell_type": "code",
   "execution_count": 33,
   "metadata": {},
   "outputs": [],
   "source": [
    "# Удалим уже не нужные DF\n",
    "del bad_price_df, bad_power_df"
   ]
  },
  {
   "cell_type": "markdown",
   "metadata": {},
   "source": [
    "**Вывод**\n",
    "Мы отлично подготовили данные, попытавшись спасти максимум возможного. Не забыли обработать аномальные значения, рассмотрели каждый признак и исключили признаки, не имеющие для нас значения."
   ]
  },
  {
   "cell_type": "markdown",
   "metadata": {},
   "source": [
    "## Обучение моделей"
   ]
  },
  {
   "cell_type": "markdown",
   "metadata": {},
   "source": [
    "Поступим следующим образом:\n",
    "\n",
    "1. Во первых отскалируем признаки и подготовим их для обучения  для простых моделей\n",
    "2. Разобьем выборку на тестовую и валидационную\n",
    "3. Обучим наши модели на простых моделях (линейная регрессия и случайный лес)\n",
    "4. Попробуем LGBMRegressor и CatBoostRegressor"
   ]
  },
  {
   "cell_type": "code",
   "execution_count": 34,
   "metadata": {},
   "outputs": [],
   "source": [
    "# Определим random_state\n",
    "RANDOM_STATE=12345"
   ]
  },
  {
   "cell_type": "code",
   "execution_count": 35,
   "metadata": {},
   "outputs": [
    {
     "data": {
      "text/html": [
       "<div>\n",
       "<style scoped>\n",
       "    .dataframe tbody tr th:only-of-type {\n",
       "        vertical-align: middle;\n",
       "    }\n",
       "\n",
       "    .dataframe tbody tr th {\n",
       "        vertical-align: top;\n",
       "    }\n",
       "\n",
       "    .dataframe thead th {\n",
       "        text-align: right;\n",
       "    }\n",
       "</style>\n",
       "<table border=\"1\" class=\"dataframe\">\n",
       "  <thead>\n",
       "    <tr style=\"text-align: right;\">\n",
       "      <th></th>\n",
       "      <th>RegistrationYear</th>\n",
       "      <th>Power</th>\n",
       "      <th>Kilometer</th>\n",
       "      <th>Repaired</th>\n",
       "      <th>VehicleType</th>\n",
       "      <th>Gearbox</th>\n",
       "      <th>Brand</th>\n",
       "      <th>Model</th>\n",
       "      <th>FuelType</th>\n",
       "      <th>RegistrationMonth</th>\n",
       "      <th>Price</th>\n",
       "    </tr>\n",
       "  </thead>\n",
       "  <tbody>\n",
       "    <tr>\n",
       "      <th>0</th>\n",
       "      <td>1993</td>\n",
       "      <td>75.0</td>\n",
       "      <td>150000</td>\n",
       "      <td>1</td>\n",
       "      <td>undefined</td>\n",
       "      <td>manual</td>\n",
       "      <td>volkswagen</td>\n",
       "      <td>golf</td>\n",
       "      <td>petrol</td>\n",
       "      <td>0</td>\n",
       "      <td>480.0</td>\n",
       "    </tr>\n",
       "    <tr>\n",
       "      <th>1</th>\n",
       "      <td>2011</td>\n",
       "      <td>190.0</td>\n",
       "      <td>125000</td>\n",
       "      <td>2</td>\n",
       "      <td>coupe</td>\n",
       "      <td>manual</td>\n",
       "      <td>audi</td>\n",
       "      <td>undefined</td>\n",
       "      <td>gasoline</td>\n",
       "      <td>5</td>\n",
       "      <td>18300.0</td>\n",
       "    </tr>\n",
       "    <tr>\n",
       "      <th>2</th>\n",
       "      <td>2004</td>\n",
       "      <td>163.0</td>\n",
       "      <td>125000</td>\n",
       "      <td>1</td>\n",
       "      <td>suv</td>\n",
       "      <td>auto</td>\n",
       "      <td>jeep</td>\n",
       "      <td>grand</td>\n",
       "      <td>gasoline</td>\n",
       "      <td>8</td>\n",
       "      <td>9800.0</td>\n",
       "    </tr>\n",
       "    <tr>\n",
       "      <th>3</th>\n",
       "      <td>2001</td>\n",
       "      <td>75.0</td>\n",
       "      <td>150000</td>\n",
       "      <td>0</td>\n",
       "      <td>small</td>\n",
       "      <td>manual</td>\n",
       "      <td>volkswagen</td>\n",
       "      <td>golf</td>\n",
       "      <td>petrol</td>\n",
       "      <td>6</td>\n",
       "      <td>1500.0</td>\n",
       "    </tr>\n",
       "    <tr>\n",
       "      <th>4</th>\n",
       "      <td>2008</td>\n",
       "      <td>69.0</td>\n",
       "      <td>90000</td>\n",
       "      <td>0</td>\n",
       "      <td>small</td>\n",
       "      <td>manual</td>\n",
       "      <td>skoda</td>\n",
       "      <td>fabia</td>\n",
       "      <td>gasoline</td>\n",
       "      <td>7</td>\n",
       "      <td>3600.0</td>\n",
       "    </tr>\n",
       "  </tbody>\n",
       "</table>\n",
       "</div>"
      ],
      "text/plain": [
       "   RegistrationYear  Power  Kilometer  Repaired VehicleType Gearbox  \\\n",
       "0              1993   75.0     150000         1   undefined  manual   \n",
       "1              2011  190.0     125000         2       coupe  manual   \n",
       "2              2004  163.0     125000         1         suv    auto   \n",
       "3              2001   75.0     150000         0       small  manual   \n",
       "4              2008   69.0      90000         0       small  manual   \n",
       "\n",
       "        Brand      Model  FuelType  RegistrationMonth    Price  \n",
       "0  volkswagen       golf    petrol                  0    480.0  \n",
       "1        audi  undefined  gasoline                  5  18300.0  \n",
       "2        jeep      grand  gasoline                  8   9800.0  \n",
       "3  volkswagen       golf    petrol                  6   1500.0  \n",
       "4       skoda      fabia  gasoline                  7   3600.0  "
      ]
     },
     "execution_count": 35,
     "metadata": {},
     "output_type": "execute_result"
    }
   ],
   "source": [
    "# выделим категориальные признаки\n",
    "# не забудем, что хоть речь и о числовом представлении, на самом деле месяц регистрации - это категория\n",
    "# однако т.к. выше мы обработали признак NotRepaired и фактически задали состояниям веса, его сюда не добавляем\n",
    "category_features = ['VehicleType', 'Gearbox', 'Brand', 'Model', 'FuelType', 'RegistrationMonth']\n",
    "\n",
    "# Также определим числовые признаки\n",
    "number_features = ['RegistrationYear', 'Power', 'Kilometer', 'Repaired']\n",
    "\n",
    "# Оставим в DF только то, что нужно (с обработкой категориальных признаков)\n",
    "df = df[number_features + category_features + ['Price']];\n",
    "df_simple = df.copy()\n",
    "df_simple.head()"
   ]
  },
  {
   "cell_type": "code",
   "execution_count": 36,
   "metadata": {},
   "outputs": [],
   "source": [
    "# Разделим признаки\n",
    "features = df_simple.drop(columns='Price', axis=1)\n",
    "target = df_simple['Price']\n",
    "X_train, X_test, y_train, y_test = train_test_split(\n",
    "    features, target, test_size=0.25, random_state=RANDOM_STATE\n",
    ")"
   ]
  },
  {
   "cell_type": "code",
   "execution_count": 37,
   "metadata": {},
   "outputs": [
    {
     "data": {
      "text/html": [
       "<div>\n",
       "<style scoped>\n",
       "    .dataframe tbody tr th:only-of-type {\n",
       "        vertical-align: middle;\n",
       "    }\n",
       "\n",
       "    .dataframe tbody tr th {\n",
       "        vertical-align: top;\n",
       "    }\n",
       "\n",
       "    .dataframe thead th {\n",
       "        text-align: right;\n",
       "    }\n",
       "</style>\n",
       "<table border=\"1\" class=\"dataframe\">\n",
       "  <thead>\n",
       "    <tr style=\"text-align: right;\">\n",
       "      <th></th>\n",
       "      <th>RegistrationYear</th>\n",
       "      <th>Power</th>\n",
       "      <th>Kilometer</th>\n",
       "      <th>Repaired</th>\n",
       "      <th>VehicleType</th>\n",
       "      <th>Gearbox</th>\n",
       "      <th>Brand</th>\n",
       "      <th>Model</th>\n",
       "      <th>FuelType</th>\n",
       "      <th>RegistrationMonth</th>\n",
       "    </tr>\n",
       "  </thead>\n",
       "  <tbody>\n",
       "    <tr>\n",
       "      <th>123827</th>\n",
       "      <td>2006</td>\n",
       "      <td>125.0</td>\n",
       "      <td>125000</td>\n",
       "      <td>0</td>\n",
       "      <td>convertible</td>\n",
       "      <td>manual</td>\n",
       "      <td>opel</td>\n",
       "      <td>tigra</td>\n",
       "      <td>petrol</td>\n",
       "      <td>4</td>\n",
       "    </tr>\n",
       "    <tr>\n",
       "      <th>298912</th>\n",
       "      <td>2007</td>\n",
       "      <td>131.0</td>\n",
       "      <td>150000</td>\n",
       "      <td>0</td>\n",
       "      <td>bus</td>\n",
       "      <td>manual</td>\n",
       "      <td>renault</td>\n",
       "      <td>other</td>\n",
       "      <td>gasoline</td>\n",
       "      <td>8</td>\n",
       "    </tr>\n",
       "    <tr>\n",
       "      <th>158804</th>\n",
       "      <td>1998</td>\n",
       "      <td>75.0</td>\n",
       "      <td>150000</td>\n",
       "      <td>1</td>\n",
       "      <td>convertible</td>\n",
       "      <td>manual</td>\n",
       "      <td>volkswagen</td>\n",
       "      <td>golf</td>\n",
       "      <td>petrol</td>\n",
       "      <td>3</td>\n",
       "    </tr>\n",
       "    <tr>\n",
       "      <th>65006</th>\n",
       "      <td>1998</td>\n",
       "      <td>192.0</td>\n",
       "      <td>125000</td>\n",
       "      <td>0</td>\n",
       "      <td>convertible</td>\n",
       "      <td>manual</td>\n",
       "      <td>mercedes_benz</td>\n",
       "      <td>slk</td>\n",
       "      <td>petrol</td>\n",
       "      <td>1</td>\n",
       "    </tr>\n",
       "    <tr>\n",
       "      <th>287084</th>\n",
       "      <td>1997</td>\n",
       "      <td>125.0</td>\n",
       "      <td>150000</td>\n",
       "      <td>0</td>\n",
       "      <td>coupe</td>\n",
       "      <td>auto</td>\n",
       "      <td>honda</td>\n",
       "      <td>cr_reihe</td>\n",
       "      <td>petrol</td>\n",
       "      <td>7</td>\n",
       "    </tr>\n",
       "    <tr>\n",
       "      <th>...</th>\n",
       "      <td>...</td>\n",
       "      <td>...</td>\n",
       "      <td>...</td>\n",
       "      <td>...</td>\n",
       "      <td>...</td>\n",
       "      <td>...</td>\n",
       "      <td>...</td>\n",
       "      <td>...</td>\n",
       "      <td>...</td>\n",
       "      <td>...</td>\n",
       "    </tr>\n",
       "    <tr>\n",
       "      <th>158838</th>\n",
       "      <td>2011</td>\n",
       "      <td>200.0</td>\n",
       "      <td>70000</td>\n",
       "      <td>1</td>\n",
       "      <td>small</td>\n",
       "      <td>manual</td>\n",
       "      <td>opel</td>\n",
       "      <td>corsa</td>\n",
       "      <td>petrol</td>\n",
       "      <td>3</td>\n",
       "    </tr>\n",
       "    <tr>\n",
       "      <th>47873</th>\n",
       "      <td>2007</td>\n",
       "      <td>140.0</td>\n",
       "      <td>125000</td>\n",
       "      <td>0</td>\n",
       "      <td>convertible</td>\n",
       "      <td>manual</td>\n",
       "      <td>opel</td>\n",
       "      <td>astra</td>\n",
       "      <td>petrol</td>\n",
       "      <td>7</td>\n",
       "    </tr>\n",
       "    <tr>\n",
       "      <th>86398</th>\n",
       "      <td>2007</td>\n",
       "      <td>90.0</td>\n",
       "      <td>70000</td>\n",
       "      <td>1</td>\n",
       "      <td>sedan</td>\n",
       "      <td>manual</td>\n",
       "      <td>opel</td>\n",
       "      <td>astra</td>\n",
       "      <td>petrol</td>\n",
       "      <td>2</td>\n",
       "    </tr>\n",
       "    <tr>\n",
       "      <th>77285</th>\n",
       "      <td>2001</td>\n",
       "      <td>101.0</td>\n",
       "      <td>150000</td>\n",
       "      <td>0</td>\n",
       "      <td>bus</td>\n",
       "      <td>undefined</td>\n",
       "      <td>opel</td>\n",
       "      <td>zafira</td>\n",
       "      <td>petrol</td>\n",
       "      <td>0</td>\n",
       "    </tr>\n",
       "    <tr>\n",
       "      <th>217570</th>\n",
       "      <td>2012</td>\n",
       "      <td>110.0</td>\n",
       "      <td>60000</td>\n",
       "      <td>0</td>\n",
       "      <td>bus</td>\n",
       "      <td>manual</td>\n",
       "      <td>opel</td>\n",
       "      <td>meriva</td>\n",
       "      <td>gasoline</td>\n",
       "      <td>6</td>\n",
       "    </tr>\n",
       "  </tbody>\n",
       "</table>\n",
       "<p>259208 rows × 10 columns</p>\n",
       "</div>"
      ],
      "text/plain": [
       "        RegistrationYear  Power  Kilometer  Repaired  VehicleType    Gearbox  \\\n",
       "123827              2006  125.0     125000         0  convertible     manual   \n",
       "298912              2007  131.0     150000         0          bus     manual   \n",
       "158804              1998   75.0     150000         1  convertible     manual   \n",
       "65006               1998  192.0     125000         0  convertible     manual   \n",
       "287084              1997  125.0     150000         0        coupe       auto   \n",
       "...                  ...    ...        ...       ...          ...        ...   \n",
       "158838              2011  200.0      70000         1        small     manual   \n",
       "47873               2007  140.0     125000         0  convertible     manual   \n",
       "86398               2007   90.0      70000         1        sedan     manual   \n",
       "77285               2001  101.0     150000         0          bus  undefined   \n",
       "217570              2012  110.0      60000         0          bus     manual   \n",
       "\n",
       "                Brand     Model  FuelType  RegistrationMonth  \n",
       "123827           opel     tigra    petrol                  4  \n",
       "298912        renault     other  gasoline                  8  \n",
       "158804     volkswagen      golf    petrol                  3  \n",
       "65006   mercedes_benz       slk    petrol                  1  \n",
       "287084          honda  cr_reihe    petrol                  7  \n",
       "...               ...       ...       ...                ...  \n",
       "158838           opel     corsa    petrol                  3  \n",
       "47873            opel     astra    petrol                  7  \n",
       "86398            opel     astra    petrol                  2  \n",
       "77285            opel    zafira    petrol                  0  \n",
       "217570           opel    meriva  gasoline                  6  \n",
       "\n",
       "[259208 rows x 10 columns]"
      ]
     },
     "execution_count": 37,
     "metadata": {},
     "output_type": "execute_result"
    }
   ],
   "source": [
    "X_train"
   ]
  },
  {
   "cell_type": "code",
   "execution_count": 38,
   "metadata": {},
   "outputs": [
    {
     "name": "stdout",
     "output_type": "stream",
     "text": [
      "['VehicleType', 'Gearbox', 'Brand', 'Model', 'FuelType']\n"
     ]
    },
    {
     "data": {
      "text/plain": [
       "['VehicleType', 'Gearbox', 'Brand', 'FuelType']"
      ]
     },
     "execution_count": 38,
     "metadata": {},
     "output_type": "execute_result"
    }
   ],
   "source": [
    "#категориальные признаки для OHE Ridge\n",
    "ohe_features_ridge = X_train.select_dtypes(include='object').columns.to_list()\n",
    "print(ohe_features_ridge)\n",
    "\n",
    "#категориальные признаки для OHE RandomForestRegressor\n",
    "ohe_features_rf = ohe_features_ridge.copy()\n",
    "ohe_features_rf.remove('Model')\n",
    "ohe_features_rf"
   ]
  },
  {
   "cell_type": "code",
   "execution_count": 39,
   "metadata": {},
   "outputs": [
    {
     "data": {
      "text/plain": [
       "['RegistrationYear', 'Power', 'Kilometer', 'RegistrationMonth']"
      ]
     },
     "execution_count": 39,
     "metadata": {},
     "output_type": "execute_result"
    }
   ],
   "source": [
    "#численные признаки\n",
    "#'repaired' — категориальный бинарный признак.\n",
    "num_features = X_train.select_dtypes(exclude='object').columns.to_list()\n",
    "num_features.remove('Repaired')\n",
    "num_features"
   ]
  },
  {
   "cell_type": "code",
   "execution_count": 40,
   "metadata": {},
   "outputs": [
    {
     "name": "stdout",
     "output_type": "stream",
     "text": [
      "\n",
      "Количество уникальных значений признка \"model\" \n",
      "в обеих выборках одинаковое: False\n",
      "\n",
      "\n",
      "Уникальные значения признка \"model\" \n",
      "в обеих выборках одинаковые: False\n",
      "\n",
      "\n",
      "Только в тренировочной выборке есть значения: {'rangerover', 'range_rover_evoque', 'samara'}\n",
      "\n",
      "\n",
      "Только в тестовой выборке есть значения: set()\n",
      "\n"
     ]
    }
   ],
   "source": [
    "models_train = set(X_train['Model'].unique())\n",
    "models_test = set(X_test['Model'].unique())\n",
    "num_models_train = len(models_train)\n",
    "num_models_test = len(models_test)\n",
    "print(f'''\n",
    "Количество уникальных значений признка \"model\" \n",
    "в обеих выборках одинаковое: {num_models_train == num_models_test}\n",
    "''')\n",
    "print(f'''\n",
    "Уникальные значения признка \"model\" \n",
    "в обеих выборках одинаковые: {models_train == models_test}\n",
    "''')\n",
    "print(f'''\n",
    "Только в тренировочной выборке есть значения: {models_train - models_test}\n",
    "''')\n",
    "print(f'''\n",
    "Только в тестовой выборке есть значения: {models_test - models_train}\n",
    "''')"
   ]
  },
  {
   "cell_type": "code",
   "execution_count": 41,
   "metadata": {},
   "outputs": [],
   "source": [
    "X_train_ridge = X_train.copy()\n",
    "X_test_ridge = X_test.copy()"
   ]
  },
  {
   "cell_type": "code",
   "execution_count": 42,
   "metadata": {},
   "outputs": [
    {
     "data": {
      "text/html": [
       "<div>\n",
       "<style scoped>\n",
       "    .dataframe tbody tr th:only-of-type {\n",
       "        vertical-align: middle;\n",
       "    }\n",
       "\n",
       "    .dataframe tbody tr th {\n",
       "        vertical-align: top;\n",
       "    }\n",
       "\n",
       "    .dataframe thead th {\n",
       "        text-align: right;\n",
       "    }\n",
       "</style>\n",
       "<table border=\"1\" class=\"dataframe\">\n",
       "  <thead>\n",
       "    <tr style=\"text-align: right;\">\n",
       "      <th></th>\n",
       "      <th>VehicleType_convertible</th>\n",
       "      <th>VehicleType_coupe</th>\n",
       "      <th>VehicleType_other</th>\n",
       "      <th>VehicleType_sedan</th>\n",
       "      <th>VehicleType_small</th>\n",
       "      <th>VehicleType_suv</th>\n",
       "      <th>VehicleType_undefined</th>\n",
       "      <th>VehicleType_wagon</th>\n",
       "      <th>Gearbox_manual</th>\n",
       "      <th>Gearbox_undefined</th>\n",
       "      <th>...</th>\n",
       "      <th>FuelType_hybrid</th>\n",
       "      <th>FuelType_lpg</th>\n",
       "      <th>FuelType_other</th>\n",
       "      <th>FuelType_petrol</th>\n",
       "      <th>FuelType_undefined</th>\n",
       "      <th>RegistrationYear</th>\n",
       "      <th>Power</th>\n",
       "      <th>Kilometer</th>\n",
       "      <th>RegistrationMonth</th>\n",
       "      <th>Repaired</th>\n",
       "    </tr>\n",
       "  </thead>\n",
       "  <tbody>\n",
       "    <tr>\n",
       "      <th>0</th>\n",
       "      <td>1.0</td>\n",
       "      <td>0.0</td>\n",
       "      <td>0.0</td>\n",
       "      <td>0.0</td>\n",
       "      <td>0.0</td>\n",
       "      <td>0.0</td>\n",
       "      <td>0.0</td>\n",
       "      <td>0.0</td>\n",
       "      <td>1.0</td>\n",
       "      <td>0.0</td>\n",
       "      <td>...</td>\n",
       "      <td>0.0</td>\n",
       "      <td>0.0</td>\n",
       "      <td>0.0</td>\n",
       "      <td>1.0</td>\n",
       "      <td>0.0</td>\n",
       "      <td>0.076771</td>\n",
       "      <td>0.086226</td>\n",
       "      <td>-0.097278</td>\n",
       "      <td>-0.485334</td>\n",
       "      <td>0.0</td>\n",
       "    </tr>\n",
       "    <tr>\n",
       "      <th>1</th>\n",
       "      <td>0.0</td>\n",
       "      <td>0.0</td>\n",
       "      <td>0.0</td>\n",
       "      <td>0.0</td>\n",
       "      <td>0.0</td>\n",
       "      <td>0.0</td>\n",
       "      <td>0.0</td>\n",
       "      <td>0.0</td>\n",
       "      <td>1.0</td>\n",
       "      <td>0.0</td>\n",
       "      <td>...</td>\n",
       "      <td>0.0</td>\n",
       "      <td>0.0</td>\n",
       "      <td>0.0</td>\n",
       "      <td>0.0</td>\n",
       "      <td>0.0</td>\n",
       "      <td>0.106313</td>\n",
       "      <td>0.161521</td>\n",
       "      <td>0.575242</td>\n",
       "      <td>0.598583</td>\n",
       "      <td>0.0</td>\n",
       "    </tr>\n",
       "    <tr>\n",
       "      <th>2</th>\n",
       "      <td>1.0</td>\n",
       "      <td>0.0</td>\n",
       "      <td>0.0</td>\n",
       "      <td>0.0</td>\n",
       "      <td>0.0</td>\n",
       "      <td>0.0</td>\n",
       "      <td>0.0</td>\n",
       "      <td>0.0</td>\n",
       "      <td>1.0</td>\n",
       "      <td>0.0</td>\n",
       "      <td>...</td>\n",
       "      <td>0.0</td>\n",
       "      <td>0.0</td>\n",
       "      <td>0.0</td>\n",
       "      <td>1.0</td>\n",
       "      <td>0.0</td>\n",
       "      <td>-0.159572</td>\n",
       "      <td>-0.541236</td>\n",
       "      <td>0.575242</td>\n",
       "      <td>-0.756313</td>\n",
       "      <td>1.0</td>\n",
       "    </tr>\n",
       "    <tr>\n",
       "      <th>3</th>\n",
       "      <td>1.0</td>\n",
       "      <td>0.0</td>\n",
       "      <td>0.0</td>\n",
       "      <td>0.0</td>\n",
       "      <td>0.0</td>\n",
       "      <td>0.0</td>\n",
       "      <td>0.0</td>\n",
       "      <td>0.0</td>\n",
       "      <td>1.0</td>\n",
       "      <td>0.0</td>\n",
       "      <td>...</td>\n",
       "      <td>0.0</td>\n",
       "      <td>0.0</td>\n",
       "      <td>0.0</td>\n",
       "      <td>1.0</td>\n",
       "      <td>0.0</td>\n",
       "      <td>-0.159572</td>\n",
       "      <td>0.927025</td>\n",
       "      <td>-0.097278</td>\n",
       "      <td>-1.298271</td>\n",
       "      <td>0.0</td>\n",
       "    </tr>\n",
       "    <tr>\n",
       "      <th>4</th>\n",
       "      <td>0.0</td>\n",
       "      <td>1.0</td>\n",
       "      <td>0.0</td>\n",
       "      <td>0.0</td>\n",
       "      <td>0.0</td>\n",
       "      <td>0.0</td>\n",
       "      <td>0.0</td>\n",
       "      <td>0.0</td>\n",
       "      <td>0.0</td>\n",
       "      <td>0.0</td>\n",
       "      <td>...</td>\n",
       "      <td>0.0</td>\n",
       "      <td>0.0</td>\n",
       "      <td>0.0</td>\n",
       "      <td>1.0</td>\n",
       "      <td>0.0</td>\n",
       "      <td>-0.189115</td>\n",
       "      <td>0.086226</td>\n",
       "      <td>0.575242</td>\n",
       "      <td>0.327604</td>\n",
       "      <td>0.0</td>\n",
       "    </tr>\n",
       "  </tbody>\n",
       "</table>\n",
       "<p>5 rows × 310 columns</p>\n",
       "</div>"
      ],
      "text/plain": [
       "   VehicleType_convertible  VehicleType_coupe  VehicleType_other  \\\n",
       "0                      1.0                0.0                0.0   \n",
       "1                      0.0                0.0                0.0   \n",
       "2                      1.0                0.0                0.0   \n",
       "3                      1.0                0.0                0.0   \n",
       "4                      0.0                1.0                0.0   \n",
       "\n",
       "   VehicleType_sedan  VehicleType_small  VehicleType_suv  \\\n",
       "0                0.0                0.0              0.0   \n",
       "1                0.0                0.0              0.0   \n",
       "2                0.0                0.0              0.0   \n",
       "3                0.0                0.0              0.0   \n",
       "4                0.0                0.0              0.0   \n",
       "\n",
       "   VehicleType_undefined  VehicleType_wagon  Gearbox_manual  \\\n",
       "0                    0.0                0.0             1.0   \n",
       "1                    0.0                0.0             1.0   \n",
       "2                    0.0                0.0             1.0   \n",
       "3                    0.0                0.0             1.0   \n",
       "4                    0.0                0.0             0.0   \n",
       "\n",
       "   Gearbox_undefined  ...  FuelType_hybrid  FuelType_lpg  FuelType_other  \\\n",
       "0                0.0  ...              0.0           0.0             0.0   \n",
       "1                0.0  ...              0.0           0.0             0.0   \n",
       "2                0.0  ...              0.0           0.0             0.0   \n",
       "3                0.0  ...              0.0           0.0             0.0   \n",
       "4                0.0  ...              0.0           0.0             0.0   \n",
       "\n",
       "   FuelType_petrol  FuelType_undefined  RegistrationYear     Power  Kilometer  \\\n",
       "0              1.0                 0.0          0.076771  0.086226  -0.097278   \n",
       "1              0.0                 0.0          0.106313  0.161521   0.575242   \n",
       "2              1.0                 0.0         -0.159572 -0.541236   0.575242   \n",
       "3              1.0                 0.0         -0.159572  0.927025  -0.097278   \n",
       "4              1.0                 0.0         -0.189115  0.086226   0.575242   \n",
       "\n",
       "   RegistrationMonth  Repaired  \n",
       "0          -0.485334       0.0  \n",
       "1           0.598583       0.0  \n",
       "2          -0.756313       1.0  \n",
       "3          -1.298271       0.0  \n",
       "4           0.327604       0.0  \n",
       "\n",
       "[5 rows x 310 columns]"
      ]
     },
     "execution_count": 42,
     "metadata": {},
     "output_type": "execute_result"
    }
   ],
   "source": [
    "# признак repaired уже бинарный, его не будем кодировать/масштабировать\n",
    "# добавляем remainder='passthrough, чтобы он не пропал \n",
    "col_transformer_ridge = make_column_transformer(\n",
    "    (\n",
    "        OneHotEncoder(drop='first', handle_unknown='ignore'),\n",
    "        ohe_features_ridge\n",
    "    ),\n",
    "    (\n",
    "        StandardScaler(), \n",
    "        num_features\n",
    "    ),\n",
    "    remainder='passthrough',\n",
    "    verbose_feature_names_out=False\n",
    ")\n",
    "\n",
    "# всё готово в пару строк кода\n",
    "X_train_ridge = pd.DataFrame.sparse.from_spmatrix(\n",
    "    col_transformer_ridge.fit_transform(X_train_ridge),\n",
    "    columns=col_transformer_ridge.get_feature_names_out()\n",
    ")\n",
    "\n",
    "# смотрим на результат\n",
    "X_train_ridge.head()"
   ]
  },
  {
   "cell_type": "code",
   "execution_count": 43,
   "metadata": {},
   "outputs": [
    {
     "name": "stdout",
     "output_type": "stream",
     "text": [
      "best_score: 3105.6263676082785\n",
      "best_params: {'alpha': 0.09}\n"
     ]
    }
   ],
   "source": [
    "# random_state не перебирается, задаём его прямо в модели\n",
    "model_ridge = Ridge(random_state=RANDOM_STATE)\n",
    "\n",
    "# словарь с гиперпараметрами и значениями, которые хотим перебрать\n",
    "param_grid_ridge = {\n",
    "    'alpha': np.arange(0, 0.21, 0.01),\n",
    "}\n",
    "\n",
    "gs_ridge = GridSearchCV(\n",
    "    model_ridge, \n",
    "    param_grid=param_grid_ridge, \n",
    "    scoring='neg_root_mean_squared_error', \n",
    "    n_jobs=-1\n",
    ")\n",
    "\n",
    "gs_ridge.fit(X_train_ridge, y_train)\n",
    "\n",
    "# лучшее значение RMSE на кросс-валидации\n",
    "print(f'best_score: {gs_ridge.best_score_ * -1}')\n",
    "\n",
    "# лучшие гиперпараметры\n",
    "print(f'best_params: {gs_ridge.best_params_}')"
   ]
  },
  {
   "cell_type": "markdown",
   "metadata": {},
   "source": [
    "**Простые модели**\n",
    "\n",
    "Опробуем линейную регрессию и случайный лес"
   ]
  },
  {
   "cell_type": "markdown",
   "metadata": {},
   "source": [
    "**Случайный лес**"
   ]
  },
  {
   "cell_type": "code",
   "execution_count": 44,
   "metadata": {},
   "outputs": [],
   "source": [
    "X_train_rf = X_train.copy()\n",
    "X_test_rf = X_test.copy()"
   ]
  },
  {
   "cell_type": "code",
   "execution_count": 45,
   "metadata": {},
   "outputs": [],
   "source": [
    "col_transformer_rf= make_column_transformer(\n",
    "    (\n",
    "        OneHotEncoder(drop='first', handle_unknown='ignore'), \n",
    "        ohe_features_rf\n",
    "    ),\n",
    "    (\n",
    "        OrdinalEncoder(handle_unknown='use_encoded_value', unknown_value=-1), \n",
    "        ['Model']\n",
    "    ),\n",
    "    (\n",
    "        StandardScaler(), \n",
    "        num_features\n",
    "    ),\n",
    "    remainder='passthrough'\n",
    ")\n",
    "\n",
    "model_rf = RandomForestRegressor(random_state=RANDOM_STATE)\n",
    "\n",
    "pipline_rf = make_pipeline(col_transformer_rf, model_rf)\n",
    "\n",
    "param_grid_rf = {\n",
    "    'randomforestregressor__n_estimators': range(50, 251, 50),\n",
    "    'randomforestregressor__max_depth': range(2, 15),\n",
    "    'randomforestregressor__min_samples_split': (2, 3, 4),\n",
    "    'randomforestregressor__min_samples_leaf': (1, 2, 3, 4)\n",
    "}\n",
    "\n",
    "\n"
   ]
  },
  {
   "cell_type": "code",
   "execution_count": 46,
   "metadata": {},
   "outputs": [
    {
     "data": {
      "text/html": [
       "<div>\n",
       "<style scoped>\n",
       "    .dataframe tbody tr th:only-of-type {\n",
       "        vertical-align: middle;\n",
       "    }\n",
       "\n",
       "    .dataframe tbody tr th {\n",
       "        vertical-align: top;\n",
       "    }\n",
       "\n",
       "    .dataframe thead th {\n",
       "        text-align: right;\n",
       "    }\n",
       "</style>\n",
       "<table border=\"1\" class=\"dataframe\">\n",
       "  <thead>\n",
       "    <tr style=\"text-align: right;\">\n",
       "      <th></th>\n",
       "      <th>RegistrationYear</th>\n",
       "      <th>Power</th>\n",
       "      <th>Kilometer</th>\n",
       "      <th>Repaired</th>\n",
       "      <th>VehicleType</th>\n",
       "      <th>Gearbox</th>\n",
       "      <th>Brand</th>\n",
       "      <th>Model</th>\n",
       "      <th>FuelType</th>\n",
       "      <th>RegistrationMonth</th>\n",
       "    </tr>\n",
       "  </thead>\n",
       "  <tbody>\n",
       "    <tr>\n",
       "      <th>123827</th>\n",
       "      <td>2006</td>\n",
       "      <td>125.0</td>\n",
       "      <td>125000</td>\n",
       "      <td>0</td>\n",
       "      <td>convertible</td>\n",
       "      <td>manual</td>\n",
       "      <td>opel</td>\n",
       "      <td>tigra</td>\n",
       "      <td>petrol</td>\n",
       "      <td>4</td>\n",
       "    </tr>\n",
       "    <tr>\n",
       "      <th>298912</th>\n",
       "      <td>2007</td>\n",
       "      <td>131.0</td>\n",
       "      <td>150000</td>\n",
       "      <td>0</td>\n",
       "      <td>bus</td>\n",
       "      <td>manual</td>\n",
       "      <td>renault</td>\n",
       "      <td>other</td>\n",
       "      <td>gasoline</td>\n",
       "      <td>8</td>\n",
       "    </tr>\n",
       "    <tr>\n",
       "      <th>158804</th>\n",
       "      <td>1998</td>\n",
       "      <td>75.0</td>\n",
       "      <td>150000</td>\n",
       "      <td>1</td>\n",
       "      <td>convertible</td>\n",
       "      <td>manual</td>\n",
       "      <td>volkswagen</td>\n",
       "      <td>golf</td>\n",
       "      <td>petrol</td>\n",
       "      <td>3</td>\n",
       "    </tr>\n",
       "    <tr>\n",
       "      <th>65006</th>\n",
       "      <td>1998</td>\n",
       "      <td>192.0</td>\n",
       "      <td>125000</td>\n",
       "      <td>0</td>\n",
       "      <td>convertible</td>\n",
       "      <td>manual</td>\n",
       "      <td>mercedes_benz</td>\n",
       "      <td>slk</td>\n",
       "      <td>petrol</td>\n",
       "      <td>1</td>\n",
       "    </tr>\n",
       "    <tr>\n",
       "      <th>287084</th>\n",
       "      <td>1997</td>\n",
       "      <td>125.0</td>\n",
       "      <td>150000</td>\n",
       "      <td>0</td>\n",
       "      <td>coupe</td>\n",
       "      <td>auto</td>\n",
       "      <td>honda</td>\n",
       "      <td>cr_reihe</td>\n",
       "      <td>petrol</td>\n",
       "      <td>7</td>\n",
       "    </tr>\n",
       "    <tr>\n",
       "      <th>...</th>\n",
       "      <td>...</td>\n",
       "      <td>...</td>\n",
       "      <td>...</td>\n",
       "      <td>...</td>\n",
       "      <td>...</td>\n",
       "      <td>...</td>\n",
       "      <td>...</td>\n",
       "      <td>...</td>\n",
       "      <td>...</td>\n",
       "      <td>...</td>\n",
       "    </tr>\n",
       "    <tr>\n",
       "      <th>158838</th>\n",
       "      <td>2011</td>\n",
       "      <td>200.0</td>\n",
       "      <td>70000</td>\n",
       "      <td>1</td>\n",
       "      <td>small</td>\n",
       "      <td>manual</td>\n",
       "      <td>opel</td>\n",
       "      <td>corsa</td>\n",
       "      <td>petrol</td>\n",
       "      <td>3</td>\n",
       "    </tr>\n",
       "    <tr>\n",
       "      <th>47873</th>\n",
       "      <td>2007</td>\n",
       "      <td>140.0</td>\n",
       "      <td>125000</td>\n",
       "      <td>0</td>\n",
       "      <td>convertible</td>\n",
       "      <td>manual</td>\n",
       "      <td>opel</td>\n",
       "      <td>astra</td>\n",
       "      <td>petrol</td>\n",
       "      <td>7</td>\n",
       "    </tr>\n",
       "    <tr>\n",
       "      <th>86398</th>\n",
       "      <td>2007</td>\n",
       "      <td>90.0</td>\n",
       "      <td>70000</td>\n",
       "      <td>1</td>\n",
       "      <td>sedan</td>\n",
       "      <td>manual</td>\n",
       "      <td>opel</td>\n",
       "      <td>astra</td>\n",
       "      <td>petrol</td>\n",
       "      <td>2</td>\n",
       "    </tr>\n",
       "    <tr>\n",
       "      <th>77285</th>\n",
       "      <td>2001</td>\n",
       "      <td>101.0</td>\n",
       "      <td>150000</td>\n",
       "      <td>0</td>\n",
       "      <td>bus</td>\n",
       "      <td>undefined</td>\n",
       "      <td>opel</td>\n",
       "      <td>zafira</td>\n",
       "      <td>petrol</td>\n",
       "      <td>0</td>\n",
       "    </tr>\n",
       "    <tr>\n",
       "      <th>217570</th>\n",
       "      <td>2012</td>\n",
       "      <td>110.0</td>\n",
       "      <td>60000</td>\n",
       "      <td>0</td>\n",
       "      <td>bus</td>\n",
       "      <td>manual</td>\n",
       "      <td>opel</td>\n",
       "      <td>meriva</td>\n",
       "      <td>gasoline</td>\n",
       "      <td>6</td>\n",
       "    </tr>\n",
       "  </tbody>\n",
       "</table>\n",
       "<p>259208 rows × 10 columns</p>\n",
       "</div>"
      ],
      "text/plain": [
       "        RegistrationYear  Power  Kilometer  Repaired  VehicleType    Gearbox  \\\n",
       "123827              2006  125.0     125000         0  convertible     manual   \n",
       "298912              2007  131.0     150000         0          bus     manual   \n",
       "158804              1998   75.0     150000         1  convertible     manual   \n",
       "65006               1998  192.0     125000         0  convertible     manual   \n",
       "287084              1997  125.0     150000         0        coupe       auto   \n",
       "...                  ...    ...        ...       ...          ...        ...   \n",
       "158838              2011  200.0      70000         1        small     manual   \n",
       "47873               2007  140.0     125000         0  convertible     manual   \n",
       "86398               2007   90.0      70000         1        sedan     manual   \n",
       "77285               2001  101.0     150000         0          bus  undefined   \n",
       "217570              2012  110.0      60000         0          bus     manual   \n",
       "\n",
       "                Brand     Model  FuelType  RegistrationMonth  \n",
       "123827           opel     tigra    petrol                  4  \n",
       "298912        renault     other  gasoline                  8  \n",
       "158804     volkswagen      golf    petrol                  3  \n",
       "65006   mercedes_benz       slk    petrol                  1  \n",
       "287084          honda  cr_reihe    petrol                  7  \n",
       "...               ...       ...       ...                ...  \n",
       "158838           opel     corsa    petrol                  3  \n",
       "47873            opel     astra    petrol                  7  \n",
       "86398            opel     astra    petrol                  2  \n",
       "77285            opel    zafira    petrol                  0  \n",
       "217570           opel    meriva  gasoline                  6  \n",
       "\n",
       "[259208 rows x 10 columns]"
      ]
     },
     "execution_count": 46,
     "metadata": {},
     "output_type": "execute_result"
    }
   ],
   "source": [
    "X_train_rf"
   ]
  },
  {
   "cell_type": "code",
   "execution_count": 47,
   "metadata": {},
   "outputs": [
    {
     "data": {
      "text/plain": [
       "123827     4990.0\n",
       "298912     3900.0\n",
       "158804     1600.0\n",
       "65006      5750.0\n",
       "287084     1450.0\n",
       "           ...   \n",
       "158838    11000.0\n",
       "47873      6650.0\n",
       "86398      6350.0\n",
       "77285      2500.0\n",
       "217570     9400.0\n",
       "Name: Price, Length: 259208, dtype: float64"
      ]
     },
     "execution_count": 47,
     "metadata": {},
     "output_type": "execute_result"
    }
   ],
   "source": [
    "y_train"
   ]
  },
  {
   "cell_type": "code",
   "execution_count": 48,
   "metadata": {},
   "outputs": [],
   "source": [
    "# получается достаточно много комбинаций гиперпараметров при переборе\n",
    "# будем использовать RandomizedSearchCV, он работает на много быстрее\n",
    "gs_rf = RandomizedSearchCV(\n",
    "    pipline_rf, \n",
    "    param_distributions=param_grid_rf, \n",
    "    scoring='neg_root_mean_squared_error', \n",
    "    n_jobs=-1, \n",
    "    random_state=RANDOM_STATE\n",
    ")\n",
    "\n"
   ]
  },
  {
   "cell_type": "code",
   "execution_count": null,
   "metadata": {},
   "outputs": [],
   "source": [
    "gs_rf.fit(X_train_rf, y_train)"
   ]
  },
  {
   "cell_type": "code",
   "execution_count": null,
   "metadata": {},
   "outputs": [],
   "source": [
    "gs_rf_best_score = gs_rf.best_score_ * -1\n",
    "gs_rf_best_params = gs_rf.best_params_\n",
    "print(f'best_score: {gs_rf_best_score}')\n",
    "print(f'best_params: {gs_rf_best_params}')"
   ]
  },
  {
   "cell_type": "code",
   "execution_count": null,
   "metadata": {
    "scrolled": false
   },
   "outputs": [],
   "source": [
    "result = pd.DataFrame(\n",
    "    [gs_ridge_best_score, gs_rf_best_score], \n",
    "    index=['Ridge', 'RandomForestRegressor'], \n",
    "    columns=['RMSE']\n",
    ")\n",
    "result"
   ]
  },
  {
   "cell_type": "code",
   "execution_count": null,
   "metadata": {},
   "outputs": [],
   "source": [
    "rf_prediction = gs_rf.predict(X_test_rf)\n",
    "metric_test = mean_squared_error(y_test, rf_prediction, squared=False)\n",
    "metric_test"
   ]
  },
  {
   "cell_type": "code",
   "execution_count": null,
   "metadata": {},
   "outputs": [],
   "source": [
    "# Чтобы не собирать вручную результаты, напишем класс, который будет сохранять время обучения, время предсказания и RMSE\n",
    "\n",
    "import time\n",
    "\n",
    "class ModelHelper:\n",
    "    def __init__(self, name, model):\n",
    "        \"\"\"Constructor\"\"\"\n",
    "        self.name = name\n",
    "        self.model = model\n",
    "    \n",
    "    def fit(self, features, target):\n",
    "        start = time.time()    \n",
    "        self.model.fit(features, target)\n",
    "        end = time.time() - start\n",
    "        self.fitTime = end\n",
    "    \n",
    "    def predict(self, features, target):\n",
    "        start = time.time()  \n",
    "        predicted = self.model.predict(features)\n",
    "        end = time.time() - start\n",
    "        self.predictedTime = end\n",
    "        self.rmse = rmse(target, predicted)\n",
    "    \n",
    "    def getResult(self):\n",
    "        return self.name, self.fitTime, self.predictedTime, self.rmse"
   ]
  },
  {
   "cell_type": "code",
   "execution_count": null,
   "metadata": {},
   "outputs": [],
   "source": [
    "# Создадим переменную, где будут храниться результаты\n",
    "    \n",
    "result = []"
   ]
  },
  {
   "cell_type": "code",
   "execution_count": null,
   "metadata": {},
   "outputs": [],
   "source": [
    "# И создадим функцию для вывода по красоте\n",
    "def print_result(result):\n",
    "    print('|{: >20}|{: >18}|{: >18}|{: >12}|'.format('Модель', 'Время обучения', 'Время предсказания', 'RMSE'))\n",
    "    for info in result:\n",
    "        print('|{: >20}|{: >18.5f}|{: >18.5f}|{: >12.5f}|'.format(info[0], info[1], info[2], info[3]))"
   ]
  },
  {
   "cell_type": "markdown",
   "metadata": {},
   "source": [
    "**Линейная регрессия**"
   ]
  },
  {
   "cell_type": "code",
   "execution_count": null,
   "metadata": {},
   "outputs": [],
   "source": [
    "# Попробуем линейную регрессию\n",
    "model_lr = LinearRegression()\n",
    "model_lr_helper = ModelHelper('Linear regression', model_lr)\n",
    "model_lr_helper.fit(features_train, target_train)\n",
    "model_lr_helper.predict(features_test, target_test)\n",
    "result.append(model_lr_helper.getResult())"
   ]
  },
  {
   "cell_type": "code",
   "execution_count": null,
   "metadata": {},
   "outputs": [],
   "source": [
    "# Посмотрим на промежуточный результат\n",
    "print_result(result)"
   ]
  },
  {
   "cell_type": "markdown",
   "metadata": {},
   "source": [
    "**Библиотеки для градиентного бустинга**\n",
    "\n",
    "**Небольшая ремарка**\n",
    "\n",
    "Фактически, CatBoost будет использовать OHE при передаче категориальных признаков. Это означает, что мы могли бы воспользоваться уже имеющимися features и target (т.к. именно так мы их и обработали). Однако, LightGBM использует какой-то другой свой алгоритм, который, в теории, может быть быстрее. Однако, он не переваривает строки в категориальных признаках.\n",
    "\n",
    "Раз уж мы сравниваем две разные библиотеки, будет правильно создать им равные возможности и посмотреть на что они способны без нашей помощи. А значит, мы проведем дополнительную работу и сделаем следующим образом:\n",
    "1. Возьмем наш итоговый обработанный датасет\n",
    "2. Отскалируем снова числовые признаки \n",
    "3. А вот категориальные признаки для LightGBM будем готовить с помощью OrdinalEncoding \n",
    "4. Для CatBoost ничего готовить не будем и передадим категориальные признаки, как есть И посмотрим, что получится."
   ]
  },
  {
   "cell_type": "code",
   "execution_count": null,
   "metadata": {},
   "outputs": [],
   "source": [
    "pd.options.mode.chained_assignment = None\n",
    "\n",
    "# Подготовим заново признаки для бустинга\n",
    "features = df.drop(columns='Price')\n",
    "target = df['Price']\n",
    "\n",
    "# Разделим выборку на обучающую и тестовую\n",
    "features_train, target_train, features_test, target_test = create_train_and_test_set(features, target)\n",
    "\n",
    "# Проведем скалирование\n",
    "scaler = StandardScaler()\n",
    "scaler.fit(features_train[number_features])\n",
    "features_train[number_features] = scaler.transform(features_train[number_features])\n",
    "features_test[number_features] = scaler.transform(features_test[number_features])\n",
    "\n",
    "features_train.head()"
   ]
  },
  {
   "cell_type": "code",
   "execution_count": null,
   "metadata": {},
   "outputs": [],
   "source": [
    "# Для GBM дополнительно обработаем категориальные признаки\n",
    "\n",
    "features_train_gbm = features_train.copy()\n",
    "features_test_gbm = features_test.copy()\n",
    "# Месяц регистрации преобразовывать не нужно\n",
    "category_features_gbm = ['VehicleType', 'Gearbox', 'Brand', 'Model', 'FuelType']\n",
    "\n",
    "encoder = OrdinalEncoder()\n",
    "encoder.fit(features_train_gbm[category_features_gbm])\n",
    "features_train_gbm[category_features_gbm] = encoder.transform(features_train_gbm[category_features_gbm])\n",
    "features_test_gbm[category_features_gbm] = encoder.transform(features_test_gbm[category_features_gbm])\n",
    "\n",
    "features_train_gbm.head()"
   ]
  },
  {
   "cell_type": "markdown",
   "metadata": {},
   "source": [
    "**LightGBM**"
   ]
  },
  {
   "cell_type": "code",
   "execution_count": null,
   "metadata": {},
   "outputs": [],
   "source": [
    "%%time\n",
    "\n",
    "gbm = LGBMRegressor(boosting_type='gbdt', verbose=0, seed=RANDOM_STATE)\n",
    "gbm_params = {'learning_rate': np.logspace(-3, 0, 5), 'n_estimators': range(20, 60, 20), 'num_leaves': range(20, 40, 10)}\n",
    "\n",
    "grid_gbm = GridSearchCV(gbm, gbm_params, cv=3, scoring='neg_mean_squared_error')\n",
    "grid_gbm.fit(features_train_gbm, target_train);\n",
    "\n",
    "grid_gbm.best_params_\n",
    "\n",
    "# Для отладки - {'learning_rate': 0.1778279410038923, 'n_estimators': 40, 'num_leaves': 30}"
   ]
  },
  {
   "cell_type": "code",
   "execution_count": null,
   "metadata": {},
   "outputs": [],
   "source": [
    "# Посмотрим, что получилось в итоге\n",
    "model_gbm = grid_gbm.best_estimator_\n",
    "model_gbm_helper = ModelHelper('LightGBM', model_gbm)\n",
    "model_gbm_helper.fit(features_train_gbm, target_train)\n",
    "model_gbm_helper.predict(features_test_gbm, target_test)\n",
    "result.append(model_gbm_helper.getResult())"
   ]
  },
  {
   "cell_type": "markdown",
   "metadata": {},
   "source": [
    "**CatBoost**"
   ]
  },
  {
   "cell_type": "code",
   "execution_count": null,
   "metadata": {},
   "outputs": [],
   "source": [
    "%%time\n",
    "\n",
    "cbr = CatBoostRegressor(loss_function='RMSE',silent=True, cat_features=category_features, random_seed=RANDOM_STATE)\n",
    "cbr_params = {'learning_rate': np.logspace(-3, 0, 5),'iterations': range(20, 60, 20),'depth': range(5,10,2)}\n",
    "\n",
    "grid_cbr = GridSearchCV(cbr, cbr_params, cv=3, scoring='neg_mean_squared_error')\n",
    "grid_cbr.fit(features_train, target_train);\n",
    "\n",
    "grid_cbr.best_params_\n",
    "\n",
    "#  Для отладки: {'depth': 9, 'iterations': 40, 'learning_rate': 1.0}"
   ]
  },
  {
   "cell_type": "code",
   "execution_count": null,
   "metadata": {},
   "outputs": [],
   "source": [
    "# Посмотрим, что получилось в итоге\n",
    "model_cbr = grid_cbr.best_estimator_\n",
    "model_cbr_helper = ModelHelper('CatBoost', model_cbr)\n",
    "model_cbr_helper.fit(features_train, target_train)\n",
    "model_cbr_helper.predict(features_test, target_test)\n",
    "result.append(model_cbr_helper.getResult())"
   ]
  },
  {
   "cell_type": "markdown",
   "metadata": {},
   "source": [
    "## Анализ моделей"
   ]
  },
  {
   "cell_type": "code",
   "execution_count": null,
   "metadata": {},
   "outputs": [],
   "source": [
    "# Посмотрим, что в итоге получилось\n",
    "print_result(result)"
   ]
  },
  {
   "cell_type": "markdown",
   "metadata": {},
   "source": [
    "**Общий вывод**\n",
    "\n",
    "Подведем итоги. Исходя из условий задачи, заказчику важны: \n",
    "1. качество предсказания\n",
    "2. скорость предсказания \n",
    "3. время обучения\n",
    "\n",
    "Исходя из того, что порядок критериев также учитывает их приоритет, следует отдать предпочтение CatBoost, т.к. она имеет лучшее качество предсказания (хотя и недалеко ушло от LightGBM). Однако существенно выигрывает в скорости предсказания. LightGBM тем не менее показывет лучшие результаты во времени обучения и почти не отстает в качестве. Поэтому если время обучения все же не менее критично, чем скорость предсказания, стоит отдать предпочтение ей.\n",
    "\n",
    "Линейные же модели обладают лучше скоростью предсказания, но плохим качеством и очень долго учатся, а значит не подойдут для нашей задачи."
   ]
  },
  {
   "cell_type": "markdown",
   "metadata": {},
   "source": [
    "## Чек-лист проверки"
   ]
  },
  {
   "cell_type": "markdown",
   "metadata": {},
   "source": [
    "Поставьте 'x' в выполненных пунктах. Далее нажмите Shift+Enter."
   ]
  },
  {
   "cell_type": "markdown",
   "metadata": {},
   "source": [
    "- [x]  Jupyter Notebook открыт\n",
    "- [x]  Весь код выполняется без ошибок\n",
    "- [x]  Ячейки с кодом расположены в порядке исполнения\n",
    "- [x]  Выполнена загрузка и подготовка данных\n",
    "- [x]  Выполнено обучение моделей\n",
    "- [x]  Есть анализ скорости работы и качества моделей"
   ]
  }
 ],
 "metadata": {
  "ExecuteTimeLog": [
   {
    "duration": 1477,
    "start_time": "2023-06-21T03:40:38.444Z"
   },
   {
    "duration": 1019,
    "start_time": "2023-06-21T03:40:39.923Z"
   },
   {
    "duration": 118,
    "start_time": "2023-06-21T03:40:40.943Z"
   },
   {
    "duration": 96,
    "start_time": "2023-06-21T03:40:41.062Z"
   },
   {
    "duration": 72,
    "start_time": "2023-06-21T03:40:41.160Z"
   },
   {
    "duration": 8,
    "start_time": "2023-06-21T03:40:41.650Z"
   },
   {
    "duration": 173,
    "start_time": "2023-06-21T03:40:42.141Z"
   },
   {
    "duration": 14,
    "start_time": "2023-06-21T03:40:42.386Z"
   },
   {
    "duration": 4,
    "start_time": "2023-06-21T03:40:42.845Z"
   },
   {
    "duration": 6,
    "start_time": "2023-06-21T03:40:43.094Z"
   },
   {
    "duration": 15,
    "start_time": "2023-06-21T03:40:43.335Z"
   },
   {
    "duration": 19,
    "start_time": "2023-06-21T03:40:43.791Z"
   },
   {
    "duration": 5,
    "start_time": "2023-06-21T03:40:44.265Z"
   },
   {
    "duration": 13,
    "start_time": "2023-06-21T03:40:44.505Z"
   },
   {
    "duration": 143899,
    "start_time": "2023-06-21T03:40:44.796Z"
   },
   {
    "duration": 9,
    "start_time": "2023-06-21T03:43:08.696Z"
   },
   {
    "duration": 29,
    "start_time": "2023-06-21T03:43:08.706Z"
   },
   {
    "duration": 159,
    "start_time": "2023-06-21T03:43:08.737Z"
   },
   {
    "duration": 8,
    "start_time": "2023-06-21T03:43:08.898Z"
   },
   {
    "duration": 44,
    "start_time": "2023-06-21T03:43:08.907Z"
   },
   {
    "duration": 169,
    "start_time": "2023-06-21T03:43:08.953Z"
   },
   {
    "duration": 15,
    "start_time": "2023-06-21T03:43:09.124Z"
   },
   {
    "duration": 21,
    "start_time": "2023-06-21T03:43:09.140Z"
   },
   {
    "duration": 1308,
    "start_time": "2023-06-21T03:43:33.979Z"
   },
   {
    "duration": 756,
    "start_time": "2023-06-21T03:43:35.289Z"
   },
   {
    "duration": 89,
    "start_time": "2023-06-21T03:43:38.290Z"
   },
   {
    "duration": 82,
    "start_time": "2023-06-21T03:43:39.189Z"
   },
   {
    "duration": 63,
    "start_time": "2023-06-21T03:43:40.451Z"
   },
   {
    "duration": 7,
    "start_time": "2023-06-21T03:43:42.357Z"
   },
   {
    "duration": 188,
    "start_time": "2023-06-21T03:43:44.358Z"
   },
   {
    "duration": 14,
    "start_time": "2023-06-21T03:43:45.502Z"
   },
   {
    "duration": 4,
    "start_time": "2023-06-21T03:43:47.792Z"
   },
   {
    "duration": 7,
    "start_time": "2023-06-21T03:43:48.589Z"
   },
   {
    "duration": 14,
    "start_time": "2023-06-21T03:43:49.736Z"
   },
   {
    "duration": 19,
    "start_time": "2023-06-21T03:43:57.533Z"
   },
   {
    "duration": 6,
    "start_time": "2023-06-21T03:43:58.560Z"
   },
   {
    "duration": 14,
    "start_time": "2023-06-21T03:44:00.281Z"
   },
   {
    "duration": 330100,
    "start_time": "2023-06-21T03:44:03.532Z"
   },
   {
    "duration": 9,
    "start_time": "2023-06-21T03:52:25.423Z"
   },
   {
    "duration": 29,
    "start_time": "2023-06-21T03:53:03.230Z"
   },
   {
    "duration": 148,
    "start_time": "2023-06-21T03:53:09.926Z"
   },
   {
    "duration": 9,
    "start_time": "2023-06-21T03:55:42.276Z"
   },
   {
    "duration": 34,
    "start_time": "2023-06-21T03:55:48.446Z"
   },
   {
    "duration": 164,
    "start_time": "2023-06-21T03:55:53.130Z"
   },
   {
    "duration": 10,
    "start_time": "2023-06-21T03:56:02.855Z"
   },
   {
    "duration": 18,
    "start_time": "2023-06-21T03:56:06.827Z"
   },
   {
    "duration": 162578,
    "start_time": "2023-06-21T03:56:16.052Z"
   },
   {
    "duration": 22,
    "start_time": "2023-06-21T03:58:58.631Z"
   },
   {
    "duration": 118,
    "start_time": "2023-06-21T05:06:54.577Z"
   },
   {
    "duration": 1485,
    "start_time": "2023-06-21T05:07:13.258Z"
   },
   {
    "duration": 0,
    "start_time": "2023-06-21T05:07:14.745Z"
   },
   {
    "duration": 0,
    "start_time": "2023-06-21T05:07:14.745Z"
   },
   {
    "duration": 32,
    "start_time": "2023-06-21T05:07:53.414Z"
   },
   {
    "duration": 32,
    "start_time": "2023-06-21T05:09:27.462Z"
   },
   {
    "duration": 114,
    "start_time": "2023-06-21T05:09:36.638Z"
   },
   {
    "duration": 32,
    "start_time": "2023-06-21T05:09:57.296Z"
   },
   {
    "duration": 17,
    "start_time": "2023-06-21T05:10:00.713Z"
   },
   {
    "duration": 139,
    "start_time": "2023-06-21T05:10:07.969Z"
   },
   {
    "duration": 3,
    "start_time": "2023-06-21T05:10:24.044Z"
   },
   {
    "duration": 1303,
    "start_time": "2023-06-21T05:10:43.161Z"
   },
   {
    "duration": 809,
    "start_time": "2023-06-21T05:10:44.466Z"
   },
   {
    "duration": 109,
    "start_time": "2023-06-21T05:10:47.076Z"
   },
   {
    "duration": 79,
    "start_time": "2023-06-21T05:10:47.316Z"
   },
   {
    "duration": 66,
    "start_time": "2023-06-21T05:10:47.516Z"
   },
   {
    "duration": 8,
    "start_time": "2023-06-21T05:10:47.907Z"
   },
   {
    "duration": 176,
    "start_time": "2023-06-21T05:10:48.289Z"
   },
   {
    "duration": 14,
    "start_time": "2023-06-21T05:10:48.482Z"
   },
   {
    "duration": 4,
    "start_time": "2023-06-21T05:10:48.897Z"
   },
   {
    "duration": 6,
    "start_time": "2023-06-21T05:10:49.124Z"
   },
   {
    "duration": 15,
    "start_time": "2023-06-21T05:10:49.325Z"
   },
   {
    "duration": 19,
    "start_time": "2023-06-21T05:10:49.721Z"
   },
   {
    "duration": 5,
    "start_time": "2023-06-21T05:10:49.938Z"
   },
   {
    "duration": 14,
    "start_time": "2023-06-21T05:10:50.145Z"
   },
   {
    "duration": 332564,
    "start_time": "2023-06-21T05:10:50.343Z"
   },
   {
    "duration": 8,
    "start_time": "2023-06-21T05:16:22.909Z"
   },
   {
    "duration": 38,
    "start_time": "2023-06-21T05:16:22.918Z"
   },
   {
    "duration": 149,
    "start_time": "2023-06-21T05:16:22.958Z"
   },
   {
    "duration": 9,
    "start_time": "2023-06-21T05:16:23.108Z"
   },
   {
    "duration": 41,
    "start_time": "2023-06-21T05:16:23.118Z"
   },
   {
    "duration": 178,
    "start_time": "2023-06-21T05:16:23.160Z"
   },
   {
    "duration": 10,
    "start_time": "2023-06-21T05:16:23.339Z"
   },
   {
    "duration": 25,
    "start_time": "2023-06-21T05:16:23.351Z"
   },
   {
    "duration": 164366,
    "start_time": "2023-06-21T05:16:23.379Z"
   },
   {
    "duration": 21,
    "start_time": "2023-06-21T05:19:07.747Z"
   },
   {
    "duration": 100,
    "start_time": "2023-06-21T05:19:07.770Z"
   },
   {
    "duration": 29,
    "start_time": "2023-06-21T05:19:07.873Z"
   },
   {
    "duration": 136,
    "start_time": "2023-06-21T05:19:07.904Z"
   },
   {
    "duration": 30,
    "start_time": "2023-06-21T05:19:08.042Z"
   },
   {
    "duration": 27,
    "start_time": "2023-06-21T05:19:08.074Z"
   },
   {
    "duration": 148,
    "start_time": "2023-06-21T05:19:08.102Z"
   },
   {
    "duration": 2,
    "start_time": "2023-06-21T05:19:08.252Z"
   },
   {
    "duration": 3,
    "start_time": "2023-06-21T05:23:17.756Z"
   },
   {
    "duration": 45,
    "start_time": "2023-06-21T05:23:19.488Z"
   },
   {
    "duration": 805,
    "start_time": "2023-06-21T05:23:24.058Z"
   },
   {
    "duration": 376,
    "start_time": "2023-06-21T05:23:24.865Z"
   },
   {
    "duration": 359,
    "start_time": "2023-06-21T05:23:27.596Z"
   },
   {
    "duration": 2,
    "start_time": "2023-06-21T05:24:04.273Z"
   },
   {
    "duration": 518920,
    "start_time": "2023-06-21T05:24:07.872Z"
   },
   {
    "duration": 4,
    "start_time": "2023-06-21T05:32:46.795Z"
   },
   {
    "duration": 17,
    "start_time": "2023-06-21T05:32:46.801Z"
   },
   {
    "duration": 5,
    "start_time": "2023-06-21T05:32:46.820Z"
   },
   {
    "duration": 24907,
    "start_time": "2023-06-21T05:32:46.827Z"
   },
   {
    "duration": 22103,
    "start_time": "2023-06-21T05:33:11.736Z"
   },
   {
    "duration": 4,
    "start_time": "2023-06-21T05:33:33.933Z"
   },
   {
    "duration": 403,
    "start_time": "2023-06-21T05:33:33.939Z"
   },
   {
    "duration": 833,
    "start_time": "2023-06-21T05:33:34.344Z"
   },
   {
    "duration": 300463,
    "start_time": "2023-06-21T05:33:35.179Z"
   },
   {
    "duration": 4194,
    "start_time": "2023-06-21T05:38:35.643Z"
   },
   {
    "duration": 288317,
    "start_time": "2023-06-21T05:38:39.839Z"
   },
   {
    "duration": 7086,
    "start_time": "2023-06-21T05:43:28.158Z"
   },
   {
    "duration": 4,
    "start_time": "2023-06-21T05:43:35.245Z"
   },
   {
    "duration": 1391,
    "start_time": "2023-06-21T09:23:42.808Z"
   },
   {
    "duration": 787,
    "start_time": "2023-06-21T09:23:45.207Z"
   },
   {
    "duration": 115,
    "start_time": "2023-06-21T09:23:46.899Z"
   },
   {
    "duration": 90,
    "start_time": "2023-06-21T09:23:47.661Z"
   },
   {
    "duration": 77,
    "start_time": "2023-06-21T09:23:48.012Z"
   },
   {
    "duration": 7,
    "start_time": "2023-06-21T09:23:48.635Z"
   },
   {
    "duration": 183,
    "start_time": "2023-06-21T09:23:49.211Z"
   },
   {
    "duration": 13,
    "start_time": "2023-06-21T09:23:49.605Z"
   },
   {
    "duration": 3,
    "start_time": "2023-06-21T09:23:50.313Z"
   },
   {
    "duration": 6,
    "start_time": "2023-06-21T09:23:51.320Z"
   },
   {
    "duration": 15,
    "start_time": "2023-06-21T09:23:52.031Z"
   },
   {
    "duration": 18,
    "start_time": "2023-06-21T09:23:53.030Z"
   },
   {
    "duration": 5,
    "start_time": "2023-06-21T09:23:53.564Z"
   },
   {
    "duration": 14,
    "start_time": "2023-06-21T09:23:54.166Z"
   },
   {
    "duration": 334740,
    "start_time": "2023-06-21T09:23:54.616Z"
   },
   {
    "duration": 8,
    "start_time": "2023-06-21T09:29:29.358Z"
   },
   {
    "duration": 61,
    "start_time": "2023-06-21T09:29:29.368Z"
   },
   {
    "duration": 175,
    "start_time": "2023-06-21T09:29:29.432Z"
   },
   {
    "duration": 10,
    "start_time": "2023-06-21T09:29:29.609Z"
   },
   {
    "duration": 64,
    "start_time": "2023-06-21T09:29:29.632Z"
   },
   {
    "duration": 199,
    "start_time": "2023-06-21T09:29:29.697Z"
   },
   {
    "duration": 10,
    "start_time": "2023-06-21T09:29:29.898Z"
   },
   {
    "duration": 46,
    "start_time": "2023-06-21T09:29:29.910Z"
   },
   {
    "duration": 163681,
    "start_time": "2023-06-21T09:29:29.960Z"
   },
   {
    "duration": 21,
    "start_time": "2023-06-21T09:32:13.643Z"
   },
   {
    "duration": 93,
    "start_time": "2023-06-21T09:32:13.666Z"
   },
   {
    "duration": 29,
    "start_time": "2023-06-21T09:32:13.761Z"
   },
   {
    "duration": 126,
    "start_time": "2023-06-21T09:32:13.791Z"
   },
   {
    "duration": 33,
    "start_time": "2023-06-21T09:32:13.919Z"
   },
   {
    "duration": 39,
    "start_time": "2023-06-21T09:32:13.954Z"
   },
   {
    "duration": 150,
    "start_time": "2023-06-21T09:32:13.994Z"
   },
   {
    "duration": 2,
    "start_time": "2023-06-21T09:32:14.146Z"
   },
   {
    "duration": 10,
    "start_time": "2023-06-21T09:32:14.149Z"
   },
   {
    "duration": 55,
    "start_time": "2023-06-21T09:32:14.161Z"
   },
   {
    "duration": 807,
    "start_time": "2023-06-21T09:32:14.218Z"
   },
   {
    "duration": 372,
    "start_time": "2023-06-21T09:32:15.027Z"
   },
   {
    "duration": 343,
    "start_time": "2023-06-21T09:32:15.401Z"
   },
   {
    "duration": 2,
    "start_time": "2023-06-21T09:32:15.746Z"
   },
   {
    "duration": 520464,
    "start_time": "2023-06-21T09:32:15.750Z"
   },
   {
    "duration": 5,
    "start_time": "2023-06-21T09:40:56.216Z"
   },
   {
    "duration": 15,
    "start_time": "2023-06-21T09:40:56.222Z"
   },
   {
    "duration": 5,
    "start_time": "2023-06-21T09:40:56.240Z"
   },
   {
    "duration": 25065,
    "start_time": "2023-06-21T09:40:56.246Z"
   },
   {
    "duration": 22920,
    "start_time": "2023-06-21T09:41:21.313Z"
   },
   {
    "duration": 4,
    "start_time": "2023-06-21T09:41:44.235Z"
   },
   {
    "duration": 381,
    "start_time": "2023-06-21T09:41:44.241Z"
   },
   {
    "duration": 807,
    "start_time": "2023-06-21T09:41:44.632Z"
   },
   {
    "duration": 109894,
    "start_time": "2023-06-21T09:41:45.441Z"
   },
   {
    "duration": 2805,
    "start_time": "2023-06-21T09:43:35.337Z"
   },
   {
    "duration": 343105,
    "start_time": "2023-06-21T09:43:38.144Z"
   },
   {
    "duration": 6855,
    "start_time": "2023-06-21T09:49:21.250Z"
   },
   {
    "duration": 3,
    "start_time": "2023-06-21T09:49:28.106Z"
   },
   {
    "duration": 1866,
    "start_time": "2023-06-22T09:45:43.512Z"
   },
   {
    "duration": 1538,
    "start_time": "2023-06-22T10:03:57.113Z"
   },
   {
    "duration": 1069,
    "start_time": "2023-06-22T10:03:58.653Z"
   },
   {
    "duration": 107,
    "start_time": "2023-06-22T10:03:59.723Z"
   },
   {
    "duration": 92,
    "start_time": "2023-06-22T10:03:59.831Z"
   },
   {
    "duration": 93,
    "start_time": "2023-06-22T10:03:59.925Z"
   },
   {
    "duration": 7,
    "start_time": "2023-06-22T10:04:00.020Z"
   },
   {
    "duration": 265,
    "start_time": "2023-06-22T10:04:00.029Z"
   },
   {
    "duration": 13,
    "start_time": "2023-06-22T10:04:00.296Z"
   },
   {
    "duration": 51,
    "start_time": "2023-06-22T10:04:00.310Z"
   },
   {
    "duration": 26,
    "start_time": "2023-06-22T10:04:00.362Z"
   },
   {
    "duration": 61,
    "start_time": "2023-06-22T10:04:00.389Z"
   },
   {
    "duration": 35,
    "start_time": "2023-06-22T10:04:00.451Z"
   },
   {
    "duration": 69,
    "start_time": "2023-06-22T10:04:00.487Z"
   },
   {
    "duration": 61,
    "start_time": "2023-06-22T10:04:00.558Z"
   },
   {
    "duration": 2527,
    "start_time": "2023-06-24T08:47:34.098Z"
   },
   {
    "duration": 1512,
    "start_time": "2023-06-24T08:47:36.628Z"
   },
   {
    "duration": 145,
    "start_time": "2023-06-24T08:47:38.142Z"
   },
   {
    "duration": 83,
    "start_time": "2023-06-24T08:47:42.768Z"
   },
   {
    "duration": 337,
    "start_time": "2023-06-24T08:47:43.508Z"
   },
   {
    "duration": 12,
    "start_time": "2023-06-24T08:47:47.127Z"
   },
   {
    "duration": 268,
    "start_time": "2023-06-24T08:47:50.414Z"
   },
   {
    "duration": 17,
    "start_time": "2023-06-24T08:47:51.090Z"
   },
   {
    "duration": 6,
    "start_time": "2023-06-24T08:47:52.406Z"
   },
   {
    "duration": 8,
    "start_time": "2023-06-24T08:47:52.871Z"
   },
   {
    "duration": 18,
    "start_time": "2023-06-24T08:47:53.520Z"
   },
   {
    "duration": 31,
    "start_time": "2023-06-24T08:47:54.705Z"
   },
   {
    "duration": 7,
    "start_time": "2023-06-24T08:47:55.194Z"
   },
   {
    "duration": 17,
    "start_time": "2023-06-24T08:47:55.586Z"
   },
   {
    "duration": 410491,
    "start_time": "2023-06-24T08:47:56.007Z"
   },
   {
    "duration": 9,
    "start_time": "2023-06-24T08:54:46.501Z"
   },
   {
    "duration": 53,
    "start_time": "2023-06-24T08:54:46.512Z"
   },
   {
    "duration": 177,
    "start_time": "2023-06-24T08:54:46.569Z"
   },
   {
    "duration": 20,
    "start_time": "2023-06-24T08:54:46.747Z"
   },
   {
    "duration": 40,
    "start_time": "2023-06-24T08:54:46.769Z"
   },
   {
    "duration": 216,
    "start_time": "2023-06-24T08:54:46.811Z"
   },
   {
    "duration": 11,
    "start_time": "2023-06-24T08:54:47.029Z"
   },
   {
    "duration": 47,
    "start_time": "2023-06-24T08:54:47.041Z"
   },
   {
    "duration": 193228,
    "start_time": "2023-06-24T08:54:47.091Z"
   },
   {
    "duration": 45,
    "start_time": "2023-06-24T08:58:00.321Z"
   },
   {
    "duration": 81,
    "start_time": "2023-06-24T08:58:00.368Z"
   },
   {
    "duration": 40,
    "start_time": "2023-06-24T08:58:00.454Z"
   },
   {
    "duration": 158,
    "start_time": "2023-06-24T08:58:00.495Z"
   },
   {
    "duration": 36,
    "start_time": "2023-06-24T08:58:00.659Z"
   },
   {
    "duration": 89,
    "start_time": "2023-06-24T08:58:00.697Z"
   },
   {
    "duration": 242,
    "start_time": "2023-06-24T08:58:00.788Z"
   },
   {
    "duration": 3,
    "start_time": "2023-06-24T08:58:01.033Z"
   },
   {
    "duration": 62,
    "start_time": "2023-06-24T08:58:01.038Z"
   },
   {
    "duration": 105,
    "start_time": "2023-06-24T08:58:01.102Z"
   },
   {
    "duration": 179,
    "start_time": "2023-06-24T08:58:01.208Z"
   },
   {
    "duration": 0,
    "start_time": "2023-06-24T08:58:01.388Z"
   },
   {
    "duration": 0,
    "start_time": "2023-06-24T08:58:01.390Z"
   },
   {
    "duration": 0,
    "start_time": "2023-06-24T08:58:01.392Z"
   },
   {
    "duration": 0,
    "start_time": "2023-06-24T08:58:01.393Z"
   },
   {
    "duration": 0,
    "start_time": "2023-06-24T08:58:01.394Z"
   },
   {
    "duration": 0,
    "start_time": "2023-06-24T08:58:01.395Z"
   },
   {
    "duration": 0,
    "start_time": "2023-06-24T08:58:01.396Z"
   },
   {
    "duration": 0,
    "start_time": "2023-06-24T08:58:01.397Z"
   },
   {
    "duration": 0,
    "start_time": "2023-06-24T08:58:01.398Z"
   },
   {
    "duration": 0,
    "start_time": "2023-06-24T08:58:01.399Z"
   },
   {
    "duration": 0,
    "start_time": "2023-06-24T08:58:01.400Z"
   },
   {
    "duration": 0,
    "start_time": "2023-06-24T08:58:01.401Z"
   },
   {
    "duration": 0,
    "start_time": "2023-06-24T08:58:01.402Z"
   },
   {
    "duration": 0,
    "start_time": "2023-06-24T08:58:01.404Z"
   },
   {
    "duration": 0,
    "start_time": "2023-06-24T08:58:01.405Z"
   },
   {
    "duration": 0,
    "start_time": "2023-06-24T08:58:01.406Z"
   },
   {
    "duration": 0,
    "start_time": "2023-06-24T08:58:01.407Z"
   },
   {
    "duration": 39,
    "start_time": "2023-06-24T09:00:09.137Z"
   },
   {
    "duration": 28,
    "start_time": "2023-06-24T09:07:41.168Z"
   },
   {
    "duration": 14,
    "start_time": "2023-06-24T09:09:11.479Z"
   },
   {
    "duration": 1796,
    "start_time": "2023-06-24T09:10:08.433Z"
   },
   {
    "duration": 1086,
    "start_time": "2023-06-24T09:10:14.507Z"
   },
   {
    "duration": 954,
    "start_time": "2023-06-24T09:10:18.408Z"
   },
   {
    "duration": 1369,
    "start_time": "2023-06-24T09:12:37.079Z"
   },
   {
    "duration": 1488,
    "start_time": "2023-06-27T15:25:53.585Z"
   },
   {
    "duration": 2674,
    "start_time": "2023-06-27T15:25:55.075Z"
   },
   {
    "duration": 99,
    "start_time": "2023-06-27T15:25:57.751Z"
   },
   {
    "duration": 66,
    "start_time": "2023-06-27T15:25:58.012Z"
   },
   {
    "duration": 65,
    "start_time": "2023-06-27T15:25:59.034Z"
   },
   {
    "duration": 6,
    "start_time": "2023-06-27T15:26:01.693Z"
   },
   {
    "duration": 176,
    "start_time": "2023-06-27T15:26:03.606Z"
   },
   {
    "duration": 13,
    "start_time": "2023-06-27T15:26:04.507Z"
   },
   {
    "duration": 4,
    "start_time": "2023-06-27T15:26:07.223Z"
   },
   {
    "duration": 6,
    "start_time": "2023-06-27T15:26:07.795Z"
   },
   {
    "duration": 14,
    "start_time": "2023-06-27T15:26:08.631Z"
   },
   {
    "duration": 18,
    "start_time": "2023-06-27T15:26:12.081Z"
   },
   {
    "duration": 5,
    "start_time": "2023-06-27T15:26:12.710Z"
   },
   {
    "duration": 12,
    "start_time": "2023-06-27T15:26:13.391Z"
   },
   {
    "duration": 289677,
    "start_time": "2023-06-27T15:26:14.020Z"
   },
   {
    "duration": 10,
    "start_time": "2023-06-27T15:31:03.698Z"
   },
   {
    "duration": 35,
    "start_time": "2023-06-27T15:31:03.710Z"
   },
   {
    "duration": 141,
    "start_time": "2023-06-27T15:31:03.747Z"
   },
   {
    "duration": 18,
    "start_time": "2023-06-27T15:31:03.889Z"
   },
   {
    "duration": 35,
    "start_time": "2023-06-27T15:31:03.908Z"
   },
   {
    "duration": 168,
    "start_time": "2023-06-27T15:31:03.945Z"
   },
   {
    "duration": 9,
    "start_time": "2023-06-27T15:31:04.114Z"
   },
   {
    "duration": 23,
    "start_time": "2023-06-27T15:31:04.125Z"
   },
   {
    "duration": 144122,
    "start_time": "2023-06-27T15:31:04.150Z"
   },
   {
    "duration": 20,
    "start_time": "2023-06-27T15:33:28.274Z"
   },
   {
    "duration": 72,
    "start_time": "2023-06-27T15:33:28.295Z"
   },
   {
    "duration": 24,
    "start_time": "2023-06-27T15:33:28.368Z"
   },
   {
    "duration": 108,
    "start_time": "2023-06-27T15:33:28.406Z"
   },
   {
    "duration": 24,
    "start_time": "2023-06-27T15:33:28.515Z"
   },
   {
    "duration": 17,
    "start_time": "2023-06-27T15:33:28.541Z"
   },
   {
    "duration": 131,
    "start_time": "2023-06-27T15:33:28.560Z"
   },
   {
    "duration": 2,
    "start_time": "2023-06-27T15:33:28.693Z"
   },
   {
    "duration": 11,
    "start_time": "2023-06-27T15:33:28.696Z"
   },
   {
    "duration": 51,
    "start_time": "2023-06-27T15:33:28.708Z"
   },
   {
    "duration": 113,
    "start_time": "2023-06-27T15:33:28.760Z"
   },
   {
    "duration": 0,
    "start_time": "2023-06-27T15:33:28.874Z"
   },
   {
    "duration": 0,
    "start_time": "2023-06-27T15:33:28.875Z"
   },
   {
    "duration": 0,
    "start_time": "2023-06-27T15:33:28.876Z"
   },
   {
    "duration": 0,
    "start_time": "2023-06-27T15:33:28.877Z"
   },
   {
    "duration": 0,
    "start_time": "2023-06-27T15:33:28.878Z"
   },
   {
    "duration": 0,
    "start_time": "2023-06-27T15:33:28.879Z"
   },
   {
    "duration": 82,
    "start_time": "2023-06-27T15:35:07.737Z"
   },
   {
    "duration": 9,
    "start_time": "2023-06-27T15:35:09.792Z"
   },
   {
    "duration": 8,
    "start_time": "2023-06-27T15:37:24.392Z"
   },
   {
    "duration": 8,
    "start_time": "2023-06-27T15:37:32.041Z"
   },
   {
    "duration": 21,
    "start_time": "2023-06-27T15:37:58.092Z"
   },
   {
    "duration": 17,
    "start_time": "2023-06-27T15:41:16.301Z"
   },
   {
    "duration": 6,
    "start_time": "2023-06-27T15:46:11.962Z"
   },
   {
    "duration": 15,
    "start_time": "2023-06-27T15:46:21.289Z"
   },
   {
    "duration": 95,
    "start_time": "2023-06-27T15:47:34.213Z"
   },
   {
    "duration": 14,
    "start_time": "2023-06-27T15:47:35.101Z"
   },
   {
    "duration": 20,
    "start_time": "2023-06-27T15:48:00.324Z"
   },
   {
    "duration": 12,
    "start_time": "2023-06-27T15:53:09.615Z"
   },
   {
    "duration": 8,
    "start_time": "2023-06-27T15:53:48.404Z"
   },
   {
    "duration": 23,
    "start_time": "2023-06-27T15:54:02.050Z"
   },
   {
    "duration": 13,
    "start_time": "2023-06-27T15:56:17.396Z"
   },
   {
    "duration": 9,
    "start_time": "2023-06-27T15:57:02.125Z"
   },
   {
    "duration": 1355,
    "start_time": "2023-06-27T15:58:17.300Z"
   },
   {
    "duration": 692,
    "start_time": "2023-06-27T15:58:18.657Z"
   },
   {
    "duration": 105,
    "start_time": "2023-06-27T15:58:19.350Z"
   },
   {
    "duration": 67,
    "start_time": "2023-06-27T15:58:19.662Z"
   },
   {
    "duration": 65,
    "start_time": "2023-06-27T15:58:19.943Z"
   },
   {
    "duration": 7,
    "start_time": "2023-06-27T15:58:20.454Z"
   },
   {
    "duration": 166,
    "start_time": "2023-06-27T15:58:21.021Z"
   },
   {
    "duration": 13,
    "start_time": "2023-06-27T15:58:21.299Z"
   },
   {
    "duration": 4,
    "start_time": "2023-06-27T15:58:21.834Z"
   },
   {
    "duration": 6,
    "start_time": "2023-06-27T15:58:22.120Z"
   },
   {
    "duration": 17,
    "start_time": "2023-06-27T15:58:22.391Z"
   },
   {
    "duration": 20,
    "start_time": "2023-06-27T15:58:22.888Z"
   },
   {
    "duration": 5,
    "start_time": "2023-06-27T15:58:23.208Z"
   },
   {
    "duration": 13,
    "start_time": "2023-06-27T15:58:23.450Z"
   },
   {
    "duration": 297991,
    "start_time": "2023-06-27T15:58:23.701Z"
   },
   {
    "duration": 15,
    "start_time": "2023-06-27T16:03:21.693Z"
   },
   {
    "duration": 37,
    "start_time": "2023-06-27T16:03:21.709Z"
   },
   {
    "duration": 139,
    "start_time": "2023-06-27T16:03:21.748Z"
   },
   {
    "duration": 9,
    "start_time": "2023-06-27T16:03:21.888Z"
   },
   {
    "duration": 30,
    "start_time": "2023-06-27T16:03:21.906Z"
   },
   {
    "duration": 170,
    "start_time": "2023-06-27T16:03:21.938Z"
   },
   {
    "duration": 9,
    "start_time": "2023-06-27T16:03:22.110Z"
   },
   {
    "duration": 54,
    "start_time": "2023-06-27T16:03:22.120Z"
   },
   {
    "duration": 146413,
    "start_time": "2023-06-27T16:03:22.176Z"
   },
   {
    "duration": 27,
    "start_time": "2023-06-27T16:05:48.591Z"
   },
   {
    "duration": 62,
    "start_time": "2023-06-27T16:05:48.620Z"
   },
   {
    "duration": 30,
    "start_time": "2023-06-27T16:05:48.683Z"
   },
   {
    "duration": 114,
    "start_time": "2023-06-27T16:05:48.714Z"
   },
   {
    "duration": 36,
    "start_time": "2023-06-27T16:05:48.830Z"
   },
   {
    "duration": 38,
    "start_time": "2023-06-27T16:05:48.867Z"
   },
   {
    "duration": 115,
    "start_time": "2023-06-27T16:05:48.906Z"
   },
   {
    "duration": 3,
    "start_time": "2023-06-27T16:05:49.022Z"
   },
   {
    "duration": 5,
    "start_time": "2023-06-27T16:05:49.026Z"
   },
   {
    "duration": 57,
    "start_time": "2023-06-27T16:05:49.033Z"
   },
   {
    "duration": 86,
    "start_time": "2023-06-27T16:05:49.091Z"
   },
   {
    "duration": 14,
    "start_time": "2023-06-27T16:05:49.179Z"
   },
   {
    "duration": 27,
    "start_time": "2023-06-27T16:05:49.194Z"
   },
   {
    "duration": 12,
    "start_time": "2023-06-27T16:05:49.222Z"
   },
   {
    "duration": 31,
    "start_time": "2023-06-27T16:05:49.235Z"
   },
   {
    "duration": 23,
    "start_time": "2023-06-27T16:05:49.267Z"
   },
   {
    "duration": 108,
    "start_time": "2023-06-27T16:05:49.292Z"
   },
   {
    "duration": 9,
    "start_time": "2023-06-27T16:07:10.707Z"
   },
   {
    "duration": 1362,
    "start_time": "2023-06-27T16:11:31.891Z"
   },
   {
    "duration": 721,
    "start_time": "2023-06-27T16:11:33.254Z"
   },
   {
    "duration": 77,
    "start_time": "2023-06-27T16:11:33.977Z"
   },
   {
    "duration": 71,
    "start_time": "2023-06-27T16:11:34.056Z"
   },
   {
    "duration": 64,
    "start_time": "2023-06-27T16:11:34.129Z"
   },
   {
    "duration": 7,
    "start_time": "2023-06-27T16:11:34.207Z"
   },
   {
    "duration": 192,
    "start_time": "2023-06-27T16:11:34.216Z"
   },
   {
    "duration": 12,
    "start_time": "2023-06-27T16:11:34.410Z"
   },
   {
    "duration": 4,
    "start_time": "2023-06-27T16:11:34.739Z"
   },
   {
    "duration": 7,
    "start_time": "2023-06-27T16:11:34.991Z"
   },
   {
    "duration": 14,
    "start_time": "2023-06-27T16:11:35.195Z"
   },
   {
    "duration": 20,
    "start_time": "2023-06-27T16:11:35.642Z"
   },
   {
    "duration": 5,
    "start_time": "2023-06-27T16:11:35.895Z"
   },
   {
    "duration": 12,
    "start_time": "2023-06-27T16:11:36.121Z"
   },
   {
    "duration": 287238,
    "start_time": "2023-06-27T16:11:36.363Z"
   },
   {
    "duration": 9,
    "start_time": "2023-06-27T16:16:23.605Z"
   },
   {
    "duration": 41,
    "start_time": "2023-06-27T16:16:23.615Z"
   },
   {
    "duration": 150,
    "start_time": "2023-06-27T16:16:23.658Z"
   },
   {
    "duration": 8,
    "start_time": "2023-06-27T16:16:23.809Z"
   },
   {
    "duration": 31,
    "start_time": "2023-06-27T16:16:23.818Z"
   },
   {
    "duration": 179,
    "start_time": "2023-06-27T16:16:23.850Z"
   },
   {
    "duration": 9,
    "start_time": "2023-06-27T16:16:24.031Z"
   },
   {
    "duration": 16,
    "start_time": "2023-06-27T16:16:24.041Z"
   },
   {
    "duration": 141443,
    "start_time": "2023-06-27T16:16:24.059Z"
   },
   {
    "duration": 19,
    "start_time": "2023-06-27T16:18:45.506Z"
   },
   {
    "duration": 62,
    "start_time": "2023-06-27T16:18:45.527Z"
   },
   {
    "duration": 35,
    "start_time": "2023-06-27T16:18:45.590Z"
   },
   {
    "duration": 117,
    "start_time": "2023-06-27T16:18:45.627Z"
   },
   {
    "duration": 24,
    "start_time": "2023-06-27T16:18:45.746Z"
   },
   {
    "duration": 16,
    "start_time": "2023-06-27T16:18:45.772Z"
   },
   {
    "duration": 123,
    "start_time": "2023-06-27T16:18:45.789Z"
   },
   {
    "duration": 2,
    "start_time": "2023-06-27T16:18:45.914Z"
   },
   {
    "duration": 4,
    "start_time": "2023-06-27T16:18:45.918Z"
   },
   {
    "duration": 38,
    "start_time": "2023-06-27T16:18:45.924Z"
   },
   {
    "duration": 104,
    "start_time": "2023-06-27T16:18:45.964Z"
   },
   {
    "duration": 14,
    "start_time": "2023-06-27T16:18:46.070Z"
   },
   {
    "duration": 29,
    "start_time": "2023-06-27T16:18:46.085Z"
   },
   {
    "duration": 8,
    "start_time": "2023-06-27T16:18:46.116Z"
   },
   {
    "duration": 21,
    "start_time": "2023-06-27T16:18:46.125Z"
   },
   {
    "duration": 21,
    "start_time": "2023-06-27T16:18:46.148Z"
   },
   {
    "duration": 120,
    "start_time": "2023-06-27T16:18:46.171Z"
   },
   {
    "duration": 0,
    "start_time": "2023-06-27T16:18:46.293Z"
   },
   {
    "duration": 1325,
    "start_time": "2023-06-27T16:23:49.749Z"
   },
   {
    "duration": 1415,
    "start_time": "2023-06-27T16:24:28.027Z"
   },
   {
    "duration": 684,
    "start_time": "2023-06-27T16:24:34.738Z"
   },
   {
    "duration": 105,
    "start_time": "2023-06-27T16:24:35.424Z"
   },
   {
    "duration": 70,
    "start_time": "2023-06-27T16:24:35.703Z"
   },
   {
    "duration": 64,
    "start_time": "2023-06-27T16:24:35.895Z"
   },
   {
    "duration": 8,
    "start_time": "2023-06-27T16:24:36.314Z"
   },
   {
    "duration": 166,
    "start_time": "2023-06-27T16:24:36.799Z"
   },
   {
    "duration": 14,
    "start_time": "2023-06-27T16:24:37.023Z"
   },
   {
    "duration": 4,
    "start_time": "2023-06-27T16:24:37.518Z"
   },
   {
    "duration": 6,
    "start_time": "2023-06-27T16:24:37.748Z"
   },
   {
    "duration": 13,
    "start_time": "2023-06-27T16:24:37.962Z"
   },
   {
    "duration": 18,
    "start_time": "2023-06-27T16:24:38.421Z"
   },
   {
    "duration": 5,
    "start_time": "2023-06-27T16:24:38.659Z"
   },
   {
    "duration": 13,
    "start_time": "2023-06-27T16:24:38.870Z"
   },
   {
    "duration": 290261,
    "start_time": "2023-06-27T16:24:39.091Z"
   },
   {
    "duration": 8,
    "start_time": "2023-06-27T16:29:29.354Z"
   },
   {
    "duration": 39,
    "start_time": "2023-06-27T16:29:29.363Z"
   },
   {
    "duration": 144,
    "start_time": "2023-06-27T16:29:29.407Z"
   },
   {
    "duration": 8,
    "start_time": "2023-06-27T16:29:29.552Z"
   },
   {
    "duration": 50,
    "start_time": "2023-06-27T16:29:29.561Z"
   },
   {
    "duration": 160,
    "start_time": "2023-06-27T16:29:29.612Z"
   },
   {
    "duration": 9,
    "start_time": "2023-06-27T16:29:29.774Z"
   },
   {
    "duration": 30,
    "start_time": "2023-06-27T16:29:29.785Z"
   },
   {
    "duration": 142948,
    "start_time": "2023-06-27T16:29:29.817Z"
   },
   {
    "duration": 20,
    "start_time": "2023-06-27T16:31:52.766Z"
   },
   {
    "duration": 75,
    "start_time": "2023-06-27T16:31:52.788Z"
   },
   {
    "duration": 25,
    "start_time": "2023-06-27T16:31:52.865Z"
   },
   {
    "duration": 121,
    "start_time": "2023-06-27T16:31:52.892Z"
   },
   {
    "duration": 26,
    "start_time": "2023-06-27T16:31:53.015Z"
   },
   {
    "duration": 27,
    "start_time": "2023-06-27T16:31:53.043Z"
   },
   {
    "duration": 125,
    "start_time": "2023-06-27T16:31:53.072Z"
   },
   {
    "duration": 2,
    "start_time": "2023-06-27T16:31:53.199Z"
   },
   {
    "duration": 8,
    "start_time": "2023-06-27T16:31:53.206Z"
   },
   {
    "duration": 40,
    "start_time": "2023-06-27T16:31:53.215Z"
   },
   {
    "duration": 98,
    "start_time": "2023-06-27T16:31:53.256Z"
   },
   {
    "duration": 15,
    "start_time": "2023-06-27T16:31:53.355Z"
   },
   {
    "duration": 20,
    "start_time": "2023-06-27T16:31:53.371Z"
   },
   {
    "duration": 8,
    "start_time": "2023-06-27T16:31:53.407Z"
   },
   {
    "duration": 23,
    "start_time": "2023-06-27T16:31:53.416Z"
   },
   {
    "duration": 22,
    "start_time": "2023-06-27T16:31:53.441Z"
   },
   {
    "duration": 115,
    "start_time": "2023-06-27T16:31:53.464Z"
   },
   {
    "duration": 14,
    "start_time": "2023-06-27T16:43:02.005Z"
   },
   {
    "duration": 31,
    "start_time": "2023-06-27T16:46:30.140Z"
   },
   {
    "duration": 21,
    "start_time": "2023-06-27T16:48:19.366Z"
   },
   {
    "duration": 6221,
    "start_time": "2023-06-27T16:51:00.839Z"
   },
   {
    "duration": 1787,
    "start_time": "2023-06-27T16:51:44.353Z"
   },
   {
    "duration": 1182,
    "start_time": "2023-06-27T16:51:48.693Z"
   },
   {
    "duration": 698,
    "start_time": "2023-06-27T16:51:49.877Z"
   },
   {
    "duration": 101,
    "start_time": "2023-06-27T16:51:50.577Z"
   },
   {
    "duration": 65,
    "start_time": "2023-06-27T16:51:51.062Z"
   },
   {
    "duration": 63,
    "start_time": "2023-06-27T16:51:51.297Z"
   },
   {
    "duration": 8,
    "start_time": "2023-06-27T16:51:51.747Z"
   },
   {
    "duration": 166,
    "start_time": "2023-06-27T16:51:52.167Z"
   },
   {
    "duration": 14,
    "start_time": "2023-06-27T16:51:52.365Z"
   },
   {
    "duration": 4,
    "start_time": "2023-06-27T16:51:52.907Z"
   },
   {
    "duration": 10,
    "start_time": "2023-06-27T16:51:52.924Z"
   },
   {
    "duration": 19,
    "start_time": "2023-06-27T16:51:52.953Z"
   },
   {
    "duration": 27,
    "start_time": "2023-06-27T16:51:53.023Z"
   },
   {
    "duration": 5,
    "start_time": "2023-06-27T16:51:53.053Z"
   },
   {
    "duration": 14,
    "start_time": "2023-06-27T16:51:53.093Z"
   },
   {
    "duration": 295999,
    "start_time": "2023-06-27T16:51:53.109Z"
   },
   {
    "duration": 7,
    "start_time": "2023-06-27T16:56:49.110Z"
   },
   {
    "duration": 25,
    "start_time": "2023-06-27T16:56:49.119Z"
   },
   {
    "duration": 164,
    "start_time": "2023-06-27T16:56:49.146Z"
   },
   {
    "duration": 8,
    "start_time": "2023-06-27T16:56:49.311Z"
   },
   {
    "duration": 30,
    "start_time": "2023-06-27T16:56:49.321Z"
   },
   {
    "duration": 176,
    "start_time": "2023-06-27T16:56:49.353Z"
   },
   {
    "duration": 10,
    "start_time": "2023-06-27T16:56:49.530Z"
   },
   {
    "duration": 17,
    "start_time": "2023-06-27T16:56:49.541Z"
   },
   {
    "duration": 142080,
    "start_time": "2023-06-27T16:56:49.560Z"
   },
   {
    "duration": 29,
    "start_time": "2023-06-27T16:59:11.641Z"
   },
   {
    "duration": 77,
    "start_time": "2023-06-27T16:59:11.671Z"
   },
   {
    "duration": 24,
    "start_time": "2023-06-27T16:59:11.750Z"
   },
   {
    "duration": 136,
    "start_time": "2023-06-27T16:59:11.776Z"
   },
   {
    "duration": 25,
    "start_time": "2023-06-27T16:59:11.914Z"
   },
   {
    "duration": 20,
    "start_time": "2023-06-27T16:59:11.940Z"
   },
   {
    "duration": 132,
    "start_time": "2023-06-27T16:59:11.961Z"
   },
   {
    "duration": 3,
    "start_time": "2023-06-27T16:59:12.094Z"
   },
   {
    "duration": 11,
    "start_time": "2023-06-27T16:59:12.098Z"
   },
   {
    "duration": 45,
    "start_time": "2023-06-27T16:59:12.111Z"
   },
   {
    "duration": 99,
    "start_time": "2023-06-27T16:59:12.158Z"
   },
   {
    "duration": 15,
    "start_time": "2023-06-27T16:59:12.258Z"
   },
   {
    "duration": 35,
    "start_time": "2023-06-27T16:59:12.274Z"
   },
   {
    "duration": 9,
    "start_time": "2023-06-27T16:59:12.310Z"
   },
   {
    "duration": 23,
    "start_time": "2023-06-27T16:59:12.320Z"
   },
   {
    "duration": 22,
    "start_time": "2023-06-27T16:59:12.344Z"
   },
   {
    "duration": 613,
    "start_time": "2023-06-27T16:59:12.368Z"
   },
   {
    "duration": 108,
    "start_time": "2023-06-27T16:59:12.985Z"
   },
   {
    "duration": 672201,
    "start_time": "2023-06-27T17:16:32.711Z"
   },
   {
    "duration": 217775,
    "start_time": "2023-06-27T17:27:44.914Z"
   },
   {
    "duration": 10,
    "start_time": "2023-06-27T17:32:51.047Z"
   },
   {
    "duration": 21,
    "start_time": "2023-06-27T17:33:22.168Z"
   },
   {
    "duration": 10,
    "start_time": "2023-06-27T17:33:23.128Z"
   },
   {
    "duration": 10,
    "start_time": "2023-06-27T17:33:59.826Z"
   },
   {
    "duration": 1785,
    "start_time": "2023-06-27T17:35:03.310Z"
   },
   {
    "duration": 1161,
    "start_time": "2023-06-27T17:35:05.097Z"
   },
   {
    "duration": 696,
    "start_time": "2023-06-27T17:35:06.260Z"
   },
   {
    "duration": 90,
    "start_time": "2023-06-27T17:35:06.957Z"
   },
   {
    "duration": 65,
    "start_time": "2023-06-27T17:35:07.048Z"
   },
   {
    "duration": 62,
    "start_time": "2023-06-27T17:35:07.114Z"
   },
   {
    "duration": 6,
    "start_time": "2023-06-27T17:35:07.177Z"
   },
   {
    "duration": 182,
    "start_time": "2023-06-27T17:35:07.185Z"
   },
   {
    "duration": 13,
    "start_time": "2023-06-27T17:35:07.368Z"
   },
   {
    "duration": 3,
    "start_time": "2023-06-27T17:35:07.383Z"
   },
   {
    "duration": 19,
    "start_time": "2023-06-27T17:35:07.388Z"
   },
   {
    "duration": 14,
    "start_time": "2023-06-27T17:35:07.408Z"
   },
   {
    "duration": 17,
    "start_time": "2023-06-27T17:35:07.423Z"
   },
   {
    "duration": 4,
    "start_time": "2023-06-27T17:35:07.442Z"
   },
   {
    "duration": 14,
    "start_time": "2023-06-27T17:35:07.447Z"
   },
   {
    "duration": 285728,
    "start_time": "2023-06-27T17:35:07.462Z"
   },
   {
    "duration": 16,
    "start_time": "2023-06-27T17:39:53.191Z"
   },
   {
    "duration": 36,
    "start_time": "2023-06-27T17:39:53.208Z"
   },
   {
    "duration": 134,
    "start_time": "2023-06-27T17:39:53.245Z"
   },
   {
    "duration": 8,
    "start_time": "2023-06-27T17:39:53.380Z"
   },
   {
    "duration": 41,
    "start_time": "2023-06-27T17:39:53.390Z"
   },
   {
    "duration": 156,
    "start_time": "2023-06-27T17:39:53.434Z"
   },
   {
    "duration": 15,
    "start_time": "2023-06-27T17:39:53.592Z"
   },
   {
    "duration": 20,
    "start_time": "2023-06-27T17:39:53.609Z"
   },
   {
    "duration": 138748,
    "start_time": "2023-06-27T17:39:53.630Z"
   },
   {
    "duration": 35,
    "start_time": "2023-06-27T17:42:12.379Z"
   },
   {
    "duration": 78,
    "start_time": "2023-06-27T17:42:12.416Z"
   },
   {
    "duration": 24,
    "start_time": "2023-06-27T17:42:12.509Z"
   },
   {
    "duration": 119,
    "start_time": "2023-06-27T17:42:12.534Z"
   },
   {
    "duration": 25,
    "start_time": "2023-06-27T17:42:12.655Z"
   },
   {
    "duration": 28,
    "start_time": "2023-06-27T17:42:12.681Z"
   },
   {
    "duration": 117,
    "start_time": "2023-06-27T17:42:12.711Z"
   },
   {
    "duration": 2,
    "start_time": "2023-06-27T17:42:12.830Z"
   },
   {
    "duration": 5,
    "start_time": "2023-06-27T17:42:12.833Z"
   },
   {
    "duration": 43,
    "start_time": "2023-06-27T17:42:12.840Z"
   },
   {
    "duration": 101,
    "start_time": "2023-06-27T17:42:12.885Z"
   },
   {
    "duration": 20,
    "start_time": "2023-06-27T17:42:12.987Z"
   },
   {
    "duration": 16,
    "start_time": "2023-06-27T17:42:13.008Z"
   },
   {
    "duration": 13,
    "start_time": "2023-06-27T17:42:13.025Z"
   },
   {
    "duration": 46,
    "start_time": "2023-06-27T17:42:13.039Z"
   },
   {
    "duration": 23,
    "start_time": "2023-06-27T17:42:13.086Z"
   },
   {
    "duration": 512,
    "start_time": "2023-06-27T17:42:13.111Z"
   },
   {
    "duration": 689583,
    "start_time": "2023-06-27T17:42:13.624Z"
   },
   {
    "duration": 107,
    "start_time": "2023-06-27T17:53:43.210Z"
   },
   {
    "duration": 0,
    "start_time": "2023-06-27T20:57:43.079Z"
   },
   {
    "duration": 0,
    "start_time": "2023-06-27T20:57:43.081Z"
   },
   {
    "duration": 0,
    "start_time": "2023-06-27T20:57:43.082Z"
   },
   {
    "duration": 1753,
    "start_time": "2023-06-28T04:22:01.095Z"
   },
   {
    "duration": 1125,
    "start_time": "2023-06-28T04:22:02.850Z"
   },
   {
    "duration": 706,
    "start_time": "2023-06-28T04:22:03.976Z"
   },
   {
    "duration": 108,
    "start_time": "2023-06-28T04:22:04.684Z"
   },
   {
    "duration": 73,
    "start_time": "2023-06-28T04:22:04.794Z"
   },
   {
    "duration": 73,
    "start_time": "2023-06-28T04:22:04.868Z"
   },
   {
    "duration": 6,
    "start_time": "2023-06-28T04:22:04.942Z"
   },
   {
    "duration": 172,
    "start_time": "2023-06-28T04:22:04.950Z"
   },
   {
    "duration": 13,
    "start_time": "2023-06-28T04:22:05.124Z"
   },
   {
    "duration": 3,
    "start_time": "2023-06-28T04:22:05.140Z"
   },
   {
    "duration": 7,
    "start_time": "2023-06-28T04:22:05.145Z"
   },
   {
    "duration": 18,
    "start_time": "2023-06-28T04:22:05.153Z"
   },
   {
    "duration": 44,
    "start_time": "2023-06-28T04:22:05.173Z"
   },
   {
    "duration": 5,
    "start_time": "2023-06-28T04:22:05.219Z"
   },
   {
    "duration": 28,
    "start_time": "2023-06-28T04:22:05.225Z"
   },
   {
    "duration": 278758,
    "start_time": "2023-06-28T04:22:05.255Z"
   },
   {
    "duration": 8,
    "start_time": "2023-06-28T04:26:44.014Z"
   },
   {
    "duration": 35,
    "start_time": "2023-06-28T04:26:44.023Z"
   },
   {
    "duration": 138,
    "start_time": "2023-06-28T04:26:44.060Z"
   },
   {
    "duration": 8,
    "start_time": "2023-06-28T04:26:44.206Z"
   },
   {
    "duration": 30,
    "start_time": "2023-06-28T04:26:44.216Z"
   },
   {
    "duration": 172,
    "start_time": "2023-06-28T04:26:44.248Z"
   },
   {
    "duration": 10,
    "start_time": "2023-06-28T04:26:44.421Z"
   },
   {
    "duration": 16,
    "start_time": "2023-06-28T04:26:44.432Z"
   },
   {
    "duration": 137393,
    "start_time": "2023-06-28T04:26:44.449Z"
   },
   {
    "duration": 27,
    "start_time": "2023-06-28T04:29:01.844Z"
   },
   {
    "duration": 75,
    "start_time": "2023-06-28T04:29:01.873Z"
   },
   {
    "duration": 24,
    "start_time": "2023-06-28T04:29:01.951Z"
   },
   {
    "duration": 120,
    "start_time": "2023-06-28T04:29:01.976Z"
   },
   {
    "duration": 26,
    "start_time": "2023-06-28T04:29:02.098Z"
   },
   {
    "duration": 23,
    "start_time": "2023-06-28T04:29:02.125Z"
   },
   {
    "duration": 128,
    "start_time": "2023-06-28T04:29:02.149Z"
   },
   {
    "duration": 2,
    "start_time": "2023-06-28T04:29:02.278Z"
   },
   {
    "duration": 14,
    "start_time": "2023-06-28T04:29:02.281Z"
   },
   {
    "duration": 57,
    "start_time": "2023-06-28T04:29:02.296Z"
   },
   {
    "duration": 92,
    "start_time": "2023-06-28T04:29:02.355Z"
   },
   {
    "duration": 14,
    "start_time": "2023-06-28T04:29:02.449Z"
   },
   {
    "duration": 19,
    "start_time": "2023-06-28T04:29:02.465Z"
   },
   {
    "duration": 21,
    "start_time": "2023-06-28T04:29:02.485Z"
   },
   {
    "duration": 22,
    "start_time": "2023-06-28T04:29:02.507Z"
   },
   {
    "duration": 22,
    "start_time": "2023-06-28T04:29:02.530Z"
   },
   {
    "duration": 531,
    "start_time": "2023-06-28T04:29:02.553Z"
   },
   {
    "duration": 689224,
    "start_time": "2023-06-28T04:29:03.085Z"
   },
   {
    "duration": 201,
    "start_time": "2023-06-28T04:40:32.311Z"
   },
   {
    "duration": 4,
    "start_time": "2023-06-28T04:40:32.513Z"
   },
   {
    "duration": 116,
    "start_time": "2023-06-28T04:40:32.518Z"
   },
   {
    "duration": 0,
    "start_time": "2023-06-28T04:40:32.636Z"
   },
   {
    "duration": 11393,
    "start_time": "2023-06-28T04:42:24.695Z"
   },
   {
    "duration": 0,
    "start_time": "2023-06-28T04:42:36.090Z"
   },
   {
    "duration": 0,
    "start_time": "2023-06-28T04:42:36.091Z"
   },
   {
    "duration": 11612,
    "start_time": "2023-06-28T04:43:52.128Z"
   },
   {
    "duration": 3,
    "start_time": "2023-06-28T04:50:50.739Z"
   },
   {
    "duration": 11967,
    "start_time": "2023-06-28T04:50:52.310Z"
   },
   {
    "duration": 15,
    "start_time": "2023-06-28T04:53:32.641Z"
   },
   {
    "duration": 5,
    "start_time": "2023-06-28T04:53:40.930Z"
   },
   {
    "duration": 11496,
    "start_time": "2023-06-28T04:55:56.793Z"
   },
   {
    "duration": 2,
    "start_time": "2023-06-28T04:59:12.149Z"
   },
   {
    "duration": 11439,
    "start_time": "2023-06-28T04:59:20.472Z"
   },
   {
    "duration": 1718,
    "start_time": "2023-06-28T05:03:41.645Z"
   },
   {
    "duration": 1752,
    "start_time": "2023-06-28T05:04:51.199Z"
   },
   {
    "duration": 1118,
    "start_time": "2023-06-28T05:04:52.953Z"
   },
   {
    "duration": 716,
    "start_time": "2023-06-28T05:04:54.072Z"
   },
   {
    "duration": 84,
    "start_time": "2023-06-28T05:04:54.790Z"
   },
   {
    "duration": 74,
    "start_time": "2023-06-28T05:04:54.876Z"
   },
   {
    "duration": 69,
    "start_time": "2023-06-28T05:04:54.952Z"
   },
   {
    "duration": 7,
    "start_time": "2023-06-28T05:04:55.023Z"
   },
   {
    "duration": 180,
    "start_time": "2023-06-28T05:04:55.032Z"
   },
   {
    "duration": 13,
    "start_time": "2023-06-28T05:04:55.214Z"
   },
   {
    "duration": 4,
    "start_time": "2023-06-28T05:04:55.230Z"
   },
   {
    "duration": 15,
    "start_time": "2023-06-28T05:04:55.236Z"
   },
   {
    "duration": 16,
    "start_time": "2023-06-28T05:04:55.252Z"
   },
   {
    "duration": 38,
    "start_time": "2023-06-28T05:04:55.269Z"
   },
   {
    "duration": 5,
    "start_time": "2023-06-28T05:04:55.309Z"
   },
   {
    "duration": 24,
    "start_time": "2023-06-28T05:04:55.315Z"
   },
   {
    "duration": 280570,
    "start_time": "2023-06-28T05:04:55.340Z"
   },
   {
    "duration": 8,
    "start_time": "2023-06-28T05:09:35.911Z"
   },
   {
    "duration": 27,
    "start_time": "2023-06-28T05:09:35.920Z"
   },
   {
    "duration": 149,
    "start_time": "2023-06-28T05:09:35.948Z"
   },
   {
    "duration": 11,
    "start_time": "2023-06-28T05:09:36.098Z"
   },
   {
    "duration": 37,
    "start_time": "2023-06-28T05:09:36.111Z"
   },
   {
    "duration": 165,
    "start_time": "2023-06-28T05:09:36.150Z"
   },
   {
    "duration": 9,
    "start_time": "2023-06-28T05:09:36.317Z"
   },
   {
    "duration": 19,
    "start_time": "2023-06-28T05:09:36.328Z"
   },
   {
    "duration": 139039,
    "start_time": "2023-06-28T05:09:36.348Z"
   },
   {
    "duration": 35,
    "start_time": "2023-06-28T05:11:55.388Z"
   },
   {
    "duration": 61,
    "start_time": "2023-06-28T05:11:55.425Z"
   },
   {
    "duration": 30,
    "start_time": "2023-06-28T05:11:55.490Z"
   },
   {
    "duration": 111,
    "start_time": "2023-06-28T05:11:55.521Z"
   },
   {
    "duration": 25,
    "start_time": "2023-06-28T05:11:55.633Z"
   },
   {
    "duration": 17,
    "start_time": "2023-06-28T05:11:55.659Z"
   },
   {
    "duration": 125,
    "start_time": "2023-06-28T05:11:55.677Z"
   },
   {
    "duration": 3,
    "start_time": "2023-06-28T05:11:55.805Z"
   },
   {
    "duration": 6,
    "start_time": "2023-06-28T05:11:55.809Z"
   },
   {
    "duration": 45,
    "start_time": "2023-06-28T05:11:55.817Z"
   },
   {
    "duration": 93,
    "start_time": "2023-06-28T05:11:55.863Z"
   },
   {
    "duration": 13,
    "start_time": "2023-06-28T05:11:55.958Z"
   },
   {
    "duration": 20,
    "start_time": "2023-06-28T05:11:55.973Z"
   },
   {
    "duration": 18,
    "start_time": "2023-06-28T05:11:55.995Z"
   },
   {
    "duration": 22,
    "start_time": "2023-06-28T05:11:56.015Z"
   },
   {
    "duration": 23,
    "start_time": "2023-06-28T05:11:56.038Z"
   },
   {
    "duration": 549,
    "start_time": "2023-06-28T05:11:56.062Z"
   },
   {
    "duration": 685897,
    "start_time": "2023-06-28T05:11:56.613Z"
   },
   {
    "duration": 203,
    "start_time": "2023-06-28T05:23:22.512Z"
   },
   {
    "duration": 4,
    "start_time": "2023-06-28T05:23:22.717Z"
   },
   {
    "duration": 1825,
    "start_time": "2023-06-28T05:23:22.722Z"
   },
   {
    "duration": 0,
    "start_time": "2023-06-28T05:23:24.548Z"
   },
   {
    "duration": 0,
    "start_time": "2023-06-28T05:23:24.550Z"
   },
   {
    "duration": 0,
    "start_time": "2023-06-28T05:23:24.551Z"
   },
   {
    "duration": 0,
    "start_time": "2023-06-28T05:23:24.552Z"
   },
   {
    "duration": 0,
    "start_time": "2023-06-28T05:23:24.553Z"
   },
   {
    "duration": 0,
    "start_time": "2023-06-28T05:23:24.554Z"
   },
   {
    "duration": 5,
    "start_time": "2023-06-28T05:56:39.300Z"
   },
   {
    "duration": 3,
    "start_time": "2023-06-28T05:56:40.228Z"
   },
   {
    "duration": 11440,
    "start_time": "2023-06-28T05:56:42.186Z"
   },
   {
    "duration": 1773,
    "start_time": "2023-06-28T05:57:21.416Z"
   },
   {
    "duration": 1785,
    "start_time": "2023-06-28T06:34:47.318Z"
   },
   {
    "duration": 1168,
    "start_time": "2023-06-28T06:34:49.105Z"
   },
   {
    "duration": 718,
    "start_time": "2023-06-28T06:34:50.275Z"
   },
   {
    "duration": 84,
    "start_time": "2023-06-28T06:34:50.995Z"
   },
   {
    "duration": 75,
    "start_time": "2023-06-28T06:34:51.080Z"
   },
   {
    "duration": 69,
    "start_time": "2023-06-28T06:34:51.156Z"
   },
   {
    "duration": 6,
    "start_time": "2023-06-28T06:34:51.226Z"
   },
   {
    "duration": 174,
    "start_time": "2023-06-28T06:34:51.234Z"
   },
   {
    "duration": 13,
    "start_time": "2023-06-28T06:34:51.409Z"
   },
   {
    "duration": 10,
    "start_time": "2023-06-28T06:34:51.424Z"
   },
   {
    "duration": 14,
    "start_time": "2023-06-28T06:34:51.435Z"
   },
   {
    "duration": 16,
    "start_time": "2023-06-28T06:34:51.450Z"
   },
   {
    "duration": 18,
    "start_time": "2023-06-28T06:34:51.467Z"
   },
   {
    "duration": 5,
    "start_time": "2023-06-28T06:34:51.486Z"
   },
   {
    "duration": 13,
    "start_time": "2023-06-28T06:34:51.506Z"
   },
   {
    "duration": 279745,
    "start_time": "2023-06-28T06:34:51.520Z"
   },
   {
    "duration": 7,
    "start_time": "2023-06-28T06:39:31.267Z"
   },
   {
    "duration": 52,
    "start_time": "2023-06-28T06:39:31.275Z"
   },
   {
    "duration": 146,
    "start_time": "2023-06-28T06:39:31.329Z"
   },
   {
    "duration": 7,
    "start_time": "2023-06-28T06:39:31.477Z"
   },
   {
    "duration": 47,
    "start_time": "2023-06-28T06:39:31.486Z"
   },
   {
    "duration": 158,
    "start_time": "2023-06-28T06:39:31.535Z"
   },
   {
    "duration": 16,
    "start_time": "2023-06-28T06:39:31.694Z"
   },
   {
    "duration": 45,
    "start_time": "2023-06-28T06:39:31.711Z"
   },
   {
    "duration": 137937,
    "start_time": "2023-06-28T06:39:31.757Z"
   },
   {
    "duration": 34,
    "start_time": "2023-06-28T06:41:49.695Z"
   },
   {
    "duration": 62,
    "start_time": "2023-06-28T06:41:49.731Z"
   },
   {
    "duration": 35,
    "start_time": "2023-06-28T06:41:49.796Z"
   },
   {
    "duration": 113,
    "start_time": "2023-06-28T06:41:49.832Z"
   },
   {
    "duration": 24,
    "start_time": "2023-06-28T06:41:49.947Z"
   },
   {
    "duration": 16,
    "start_time": "2023-06-28T06:41:49.973Z"
   },
   {
    "duration": 130,
    "start_time": "2023-06-28T06:41:49.991Z"
   },
   {
    "duration": 2,
    "start_time": "2023-06-28T06:41:50.123Z"
   },
   {
    "duration": 10,
    "start_time": "2023-06-28T06:41:50.126Z"
   },
   {
    "duration": 50,
    "start_time": "2023-06-28T06:41:50.138Z"
   },
   {
    "duration": 88,
    "start_time": "2023-06-28T06:41:50.189Z"
   },
   {
    "duration": 14,
    "start_time": "2023-06-28T06:41:50.279Z"
   },
   {
    "duration": 39,
    "start_time": "2023-06-28T06:41:50.294Z"
   },
   {
    "duration": 7,
    "start_time": "2023-06-28T06:41:50.335Z"
   },
   {
    "duration": 31,
    "start_time": "2023-06-28T06:41:50.343Z"
   },
   {
    "duration": 24,
    "start_time": "2023-06-28T06:41:50.376Z"
   },
   {
    "duration": 522,
    "start_time": "2023-06-28T06:41:50.401Z"
   },
   {
    "duration": 687183,
    "start_time": "2023-06-28T06:41:50.924Z"
   },
   {
    "duration": 112,
    "start_time": "2023-06-28T06:53:18.109Z"
   },
   {
    "duration": 4,
    "start_time": "2023-06-28T06:53:18.222Z"
   },
   {
    "duration": 448,
    "start_time": "2023-06-28T06:53:18.228Z"
   },
   {
    "duration": 5,
    "start_time": "2023-06-28T06:53:18.677Z"
   },
   {
    "duration": 6,
    "start_time": "2023-06-28T06:53:18.683Z"
   },
   {
    "duration": 35455,
    "start_time": "2023-06-28T06:53:18.690Z"
   },
   {
    "duration": 0,
    "start_time": "2023-06-28T06:53:54.147Z"
   },
   {
    "duration": 0,
    "start_time": "2023-06-28T06:53:54.148Z"
   },
   {
    "duration": 0,
    "start_time": "2023-06-28T06:53:54.149Z"
   },
   {
    "duration": 9,
    "start_time": "2023-06-28T07:03:02.356Z"
   },
   {
    "duration": 64,
    "start_time": "2023-06-28T07:04:24.793Z"
   },
   {
    "duration": 5,
    "start_time": "2023-06-28T07:04:31.893Z"
   },
   {
    "duration": 3,
    "start_time": "2023-06-28T07:04:32.990Z"
   },
   {
    "duration": 35517,
    "start_time": "2023-06-28T07:04:34.147Z"
   },
   {
    "duration": 6503,
    "start_time": "2023-06-28T07:52:13.846Z"
   },
   {
    "duration": 1422,
    "start_time": "2023-06-28T07:52:20.352Z"
   },
   {
    "duration": 1021,
    "start_time": "2023-06-28T07:52:21.776Z"
   },
   {
    "duration": 102,
    "start_time": "2023-06-28T07:52:22.799Z"
   },
   {
    "duration": 129,
    "start_time": "2023-06-28T07:52:22.902Z"
   },
   {
    "duration": 64,
    "start_time": "2023-06-28T07:52:23.033Z"
   },
   {
    "duration": 6,
    "start_time": "2023-06-28T07:52:23.099Z"
   },
   {
    "duration": 248,
    "start_time": "2023-06-28T07:52:23.107Z"
   },
   {
    "duration": 14,
    "start_time": "2023-06-28T07:52:23.357Z"
   },
   {
    "duration": 24,
    "start_time": "2023-06-28T07:52:23.374Z"
   },
   {
    "duration": 32,
    "start_time": "2023-06-28T07:52:23.399Z"
   },
   {
    "duration": 25,
    "start_time": "2023-06-28T07:52:23.432Z"
   },
   {
    "duration": 34,
    "start_time": "2023-06-28T07:52:23.458Z"
   },
   {
    "duration": 5,
    "start_time": "2023-06-28T07:52:23.493Z"
   },
   {
    "duration": 28,
    "start_time": "2023-06-28T07:52:23.500Z"
   },
   {
    "duration": 368982,
    "start_time": "2023-06-28T07:52:23.530Z"
   },
   {
    "duration": 17,
    "start_time": "2023-06-28T07:58:32.514Z"
   },
   {
    "duration": 58,
    "start_time": "2023-06-28T07:58:32.533Z"
   },
   {
    "duration": 159,
    "start_time": "2023-06-28T07:58:32.593Z"
   },
   {
    "duration": 9,
    "start_time": "2023-06-28T07:58:32.754Z"
   },
   {
    "duration": 36,
    "start_time": "2023-06-28T07:58:32.764Z"
   },
   {
    "duration": 176,
    "start_time": "2023-06-28T07:58:32.802Z"
   },
   {
    "duration": 9,
    "start_time": "2023-06-28T07:58:32.980Z"
   },
   {
    "duration": 44,
    "start_time": "2023-06-28T07:58:32.990Z"
   },
   {
    "duration": 166871,
    "start_time": "2023-06-28T07:58:33.036Z"
   },
   {
    "duration": 43,
    "start_time": "2023-06-28T08:01:19.908Z"
   },
   {
    "duration": 90,
    "start_time": "2023-06-28T08:01:19.955Z"
   },
   {
    "duration": 36,
    "start_time": "2023-06-28T08:01:20.046Z"
   },
   {
    "duration": 155,
    "start_time": "2023-06-28T08:01:20.084Z"
   },
   {
    "duration": 30,
    "start_time": "2023-06-28T08:01:20.241Z"
   },
   {
    "duration": 35,
    "start_time": "2023-06-28T08:01:20.272Z"
   },
   {
    "duration": 186,
    "start_time": "2023-06-28T08:01:20.308Z"
   },
   {
    "duration": 4,
    "start_time": "2023-06-28T08:01:20.496Z"
   },
   {
    "duration": 25,
    "start_time": "2023-06-28T08:01:20.501Z"
   },
   {
    "duration": 73,
    "start_time": "2023-06-28T08:01:20.528Z"
   },
   {
    "duration": 97,
    "start_time": "2023-06-28T08:01:20.603Z"
   },
   {
    "duration": 15,
    "start_time": "2023-06-28T08:01:20.702Z"
   },
   {
    "duration": 34,
    "start_time": "2023-06-28T08:01:20.719Z"
   },
   {
    "duration": 14,
    "start_time": "2023-06-28T08:01:20.755Z"
   },
   {
    "duration": 48,
    "start_time": "2023-06-28T08:01:20.771Z"
   },
   {
    "duration": 28,
    "start_time": "2023-06-28T08:01:20.821Z"
   },
   {
    "duration": 588,
    "start_time": "2023-06-28T08:01:20.851Z"
   },
   {
    "duration": 800094,
    "start_time": "2023-06-28T08:01:21.441Z"
   },
   {
    "duration": 205,
    "start_time": "2023-06-28T08:14:41.537Z"
   },
   {
    "duration": 4,
    "start_time": "2023-06-28T08:14:41.743Z"
   },
   {
    "duration": 19,
    "start_time": "2023-06-28T08:14:41.749Z"
   },
   {
    "duration": 4,
    "start_time": "2023-06-28T08:14:41.770Z"
   },
   {
    "duration": 4,
    "start_time": "2023-06-28T08:14:41.776Z"
   },
   {
    "duration": 134,
    "start_time": "2023-06-28T08:14:41.782Z"
   },
   {
    "duration": 0,
    "start_time": "2023-06-28T08:14:41.917Z"
   },
   {
    "duration": 2823,
    "start_time": "2023-06-28T10:38:42.419Z"
   },
   {
    "duration": 1569,
    "start_time": "2023-06-28T10:38:45.244Z"
   },
   {
    "duration": 1148,
    "start_time": "2023-06-28T10:38:46.815Z"
   },
   {
    "duration": 97,
    "start_time": "2023-06-28T10:38:47.968Z"
   },
   {
    "duration": 150,
    "start_time": "2023-06-28T10:38:48.067Z"
   },
   {
    "duration": 93,
    "start_time": "2023-06-28T10:38:48.219Z"
   },
   {
    "duration": 24,
    "start_time": "2023-06-28T10:38:48.314Z"
   },
   {
    "duration": 301,
    "start_time": "2023-06-28T10:38:48.339Z"
   },
   {
    "duration": 21,
    "start_time": "2023-06-28T10:38:48.642Z"
   },
   {
    "duration": 12,
    "start_time": "2023-06-28T10:38:48.667Z"
   },
   {
    "duration": 24,
    "start_time": "2023-06-28T10:38:48.681Z"
   },
   {
    "duration": 28,
    "start_time": "2023-06-28T10:38:48.707Z"
   },
   {
    "duration": 65,
    "start_time": "2023-06-28T10:38:48.737Z"
   },
   {
    "duration": 8,
    "start_time": "2023-06-28T10:38:48.804Z"
   },
   {
    "duration": 35,
    "start_time": "2023-06-28T10:38:48.814Z"
   },
   {
    "duration": 437573,
    "start_time": "2023-06-28T10:38:48.851Z"
   },
   {
    "duration": 27,
    "start_time": "2023-06-28T10:46:06.426Z"
   },
   {
    "duration": 33,
    "start_time": "2023-06-28T10:46:06.460Z"
   },
   {
    "duration": 183,
    "start_time": "2023-06-28T10:46:06.495Z"
   },
   {
    "duration": 9,
    "start_time": "2023-06-28T10:46:06.680Z"
   },
   {
    "duration": 56,
    "start_time": "2023-06-28T10:46:06.690Z"
   },
   {
    "duration": 196,
    "start_time": "2023-06-28T10:46:06.749Z"
   },
   {
    "duration": 15,
    "start_time": "2023-06-28T10:46:06.947Z"
   },
   {
    "duration": 38,
    "start_time": "2023-06-28T10:46:06.964Z"
   },
   {
    "duration": 207920,
    "start_time": "2023-06-28T10:46:07.004Z"
   },
   {
    "duration": 48,
    "start_time": "2023-06-28T10:49:34.925Z"
   },
   {
    "duration": 128,
    "start_time": "2023-06-28T10:49:34.975Z"
   },
   {
    "duration": 50,
    "start_time": "2023-06-28T10:49:35.107Z"
   },
   {
    "duration": 160,
    "start_time": "2023-06-28T10:49:35.158Z"
   },
   {
    "duration": 47,
    "start_time": "2023-06-28T10:49:35.319Z"
   },
   {
    "duration": 21,
    "start_time": "2023-06-28T10:49:35.368Z"
   },
   {
    "duration": 193,
    "start_time": "2023-06-28T10:49:35.390Z"
   },
   {
    "duration": 3,
    "start_time": "2023-06-28T10:49:35.584Z"
   },
   {
    "duration": 15,
    "start_time": "2023-06-28T10:49:35.589Z"
   },
   {
    "duration": 75,
    "start_time": "2023-06-28T10:49:35.605Z"
   },
   {
    "duration": 116,
    "start_time": "2023-06-28T10:49:35.682Z"
   },
   {
    "duration": 15,
    "start_time": "2023-06-28T10:49:35.800Z"
   },
   {
    "duration": 84,
    "start_time": "2023-06-28T10:49:35.817Z"
   },
   {
    "duration": 40,
    "start_time": "2023-06-28T10:49:35.903Z"
   },
   {
    "duration": 83,
    "start_time": "2023-06-28T10:49:35.945Z"
   },
   {
    "duration": 51,
    "start_time": "2023-06-28T10:49:36.029Z"
   },
   {
    "duration": 715,
    "start_time": "2023-06-28T10:49:36.081Z"
   },
   {
    "duration": 761141,
    "start_time": "2023-06-28T10:49:36.798Z"
   },
   {
    "duration": 94,
    "start_time": "2023-06-28T11:02:17.941Z"
   },
   {
    "duration": 36,
    "start_time": "2023-06-28T11:02:18.038Z"
   },
   {
    "duration": 49,
    "start_time": "2023-06-28T11:02:18.076Z"
   },
   {
    "duration": 28,
    "start_time": "2023-06-28T11:02:18.127Z"
   },
   {
    "duration": 22,
    "start_time": "2023-06-28T11:02:18.157Z"
   },
   {
    "duration": 2273198,
    "start_time": "2023-06-28T11:02:18.181Z"
   },
   {
    "duration": 3,
    "start_time": "2023-06-28T11:40:11.382Z"
   },
   {
    "duration": 112,
    "start_time": "2023-06-28T12:19:52.421Z"
   },
   {
    "duration": 4,
    "start_time": "2023-06-28T12:19:58.602Z"
   },
   {
    "duration": 2,
    "start_time": "2023-06-28T12:20:16.646Z"
   },
   {
    "duration": 8,
    "start_time": "2023-06-28T12:20:17.161Z"
   },
   {
    "duration": 1124,
    "start_time": "2023-06-28T12:20:23.740Z"
   },
   {
    "duration": 17,
    "start_time": "2023-06-29T04:11:23.828Z"
   },
   {
    "duration": 12739,
    "start_time": "2023-06-29T04:13:55.651Z"
   },
   {
    "duration": 2105,
    "start_time": "2023-06-29T04:14:08.393Z"
   },
   {
    "duration": 2717,
    "start_time": "2023-06-29T04:14:10.503Z"
   },
   {
    "duration": 139,
    "start_time": "2023-06-29T04:14:13.233Z"
   },
   {
    "duration": 103,
    "start_time": "2023-06-29T04:14:13.373Z"
   },
   {
    "duration": 102,
    "start_time": "2023-06-29T04:14:13.477Z"
   },
   {
    "duration": 7,
    "start_time": "2023-06-29T04:14:13.580Z"
   },
   {
    "duration": 234,
    "start_time": "2023-06-29T04:14:13.588Z"
   },
   {
    "duration": 34,
    "start_time": "2023-06-29T04:14:13.823Z"
   },
   {
    "duration": 21,
    "start_time": "2023-06-29T04:14:13.859Z"
   },
   {
    "duration": 9,
    "start_time": "2023-06-29T04:14:13.881Z"
   },
   {
    "duration": 53,
    "start_time": "2023-06-29T04:14:13.891Z"
   },
   {
    "duration": 48,
    "start_time": "2023-06-29T04:14:13.946Z"
   },
   {
    "duration": 26,
    "start_time": "2023-06-29T04:14:13.995Z"
   },
   {
    "duration": 75,
    "start_time": "2023-06-29T04:14:14.022Z"
   },
   {
    "duration": 521053,
    "start_time": "2023-06-29T04:14:14.099Z"
   },
   {
    "duration": 8,
    "start_time": "2023-06-29T04:22:55.154Z"
   },
   {
    "duration": 217,
    "start_time": "2023-06-29T04:22:55.164Z"
   },
   {
    "duration": 259,
    "start_time": "2023-06-29T04:22:55.389Z"
   },
   {
    "duration": 12,
    "start_time": "2023-06-29T04:22:55.649Z"
   },
   {
    "duration": 79,
    "start_time": "2023-06-29T04:22:55.662Z"
   },
   {
    "duration": 242,
    "start_time": "2023-06-29T04:22:55.743Z"
   },
   {
    "duration": 26,
    "start_time": "2023-06-29T04:22:55.989Z"
   },
   {
    "duration": 64,
    "start_time": "2023-06-29T04:22:56.019Z"
   },
   {
    "duration": 268818,
    "start_time": "2023-06-29T04:22:56.085Z"
   },
   {
    "duration": 55,
    "start_time": "2023-06-29T04:27:24.910Z"
   },
   {
    "duration": 318,
    "start_time": "2023-06-29T04:27:24.975Z"
   },
   {
    "duration": 175,
    "start_time": "2023-06-29T04:27:25.302Z"
   },
   {
    "duration": 365,
    "start_time": "2023-06-29T04:27:25.485Z"
   },
   {
    "duration": 88,
    "start_time": "2023-06-29T04:27:25.885Z"
   },
   {
    "duration": 108,
    "start_time": "2023-06-29T04:27:25.977Z"
   },
   {
    "duration": 461,
    "start_time": "2023-06-29T04:27:26.094Z"
   },
   {
    "duration": 11,
    "start_time": "2023-06-29T04:27:26.559Z"
   },
   {
    "duration": 109,
    "start_time": "2023-06-29T04:27:26.574Z"
   },
   {
    "duration": 185,
    "start_time": "2023-06-29T04:27:26.688Z"
   },
   {
    "duration": 164,
    "start_time": "2023-06-29T04:27:26.878Z"
   },
   {
    "duration": 50,
    "start_time": "2023-06-29T04:27:27.048Z"
   },
   {
    "duration": 62,
    "start_time": "2023-06-29T04:27:27.103Z"
   },
   {
    "duration": 47,
    "start_time": "2023-06-29T04:27:27.170Z"
   },
   {
    "duration": 261,
    "start_time": "2023-06-29T04:27:27.231Z"
   },
   {
    "duration": 104,
    "start_time": "2023-06-29T04:27:27.497Z"
   },
   {
    "duration": 1053,
    "start_time": "2023-06-29T04:27:27.602Z"
   },
   {
    "duration": 899908,
    "start_time": "2023-06-29T04:27:28.663Z"
   },
   {
    "duration": 57,
    "start_time": "2023-06-29T04:42:28.604Z"
   },
   {
    "duration": 56,
    "start_time": "2023-06-29T04:42:28.714Z"
   },
   {
    "duration": 91,
    "start_time": "2023-06-29T04:42:28.772Z"
   },
   {
    "duration": 126,
    "start_time": "2023-06-29T04:42:28.865Z"
   },
   {
    "duration": 112,
    "start_time": "2023-06-29T04:42:28.993Z"
   }
  ],
  "kernelspec": {
   "display_name": "Python 3 (ipykernel)",
   "language": "python",
   "name": "python3"
  },
  "language_info": {
   "codemirror_mode": {
    "name": "ipython",
    "version": 3
   },
   "file_extension": ".py",
   "mimetype": "text/x-python",
   "name": "python",
   "nbconvert_exporter": "python",
   "pygments_lexer": "ipython3",
   "version": "3.9.13"
  },
  "toc": {
   "base_numbering": 1,
   "nav_menu": {},
   "number_sections": true,
   "sideBar": true,
   "skip_h1_title": true,
   "title_cell": "Table of Contents",
   "title_sidebar": "Contents",
   "toc_cell": false,
   "toc_position": {},
   "toc_section_display": true,
   "toc_window_display": false
  }
 },
 "nbformat": 4,
 "nbformat_minor": 2
}
