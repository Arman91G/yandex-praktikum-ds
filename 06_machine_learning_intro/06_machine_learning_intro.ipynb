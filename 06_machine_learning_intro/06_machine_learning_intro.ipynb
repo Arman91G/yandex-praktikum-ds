{
 "cells": [
  {
   "cell_type": "markdown",
   "metadata": {},
   "source": [
    "# Рекомендация тарифов"
   ]
  },
  {
   "cell_type": "markdown",
   "metadata": {},
   "source": [
    "В вашем распоряжении данные о поведении клиентов, которые уже перешли на эти тарифы (из проекта курса «Статистический анализ данных»). Нужно построить модель для задачи классификации, которая выберет подходящий тариф. Предобработка данных не понадобится — вы её уже сделали.\n",
    "\n",
    "Постройте модель с максимально большим значением *accuracy*. Чтобы сдать проект успешно, нужно довести долю правильных ответов по крайней мере до 0.75. Проверьте *accuracy* на тестовой выборке самостоятельно."
   ]
  },
  {
   "cell_type": "markdown",
   "metadata": {},
   "source": [
    "### Содержание ###\n",
    "\n",
    "- **Описание данных**\n",
    "- **Задачи**\n",
    "- **Шаг 1. Открыть файл с данными и изучить его.**\n",
    "    - ***Вывод по первому шагу***\n",
    "- **Шаг 2. Разделение данных на выборки.**\n",
    "    - ***Вывод по второму шагу***\n",
    "- **Шаг 3. Исследование разных моделей.**\n",
    "    - ***Вывод по третьему шагу***\n",
    "- **Шаг 4. Проверка качество модели на тестовой выборке.**\n",
    "    - ***Вывод по четвертому шагу***\n",
    "- **Шаг 5. Проверка модели на адекватность.**\n",
    "    - ***Общий вывод***"
   ]
  },
  {
   "cell_type": "markdown",
   "metadata": {},
   "source": [
    "### Описание данных ###\n",
    "\n",
    "Каждый объект в наборе данных — это информация о поведении одного пользователя за месяц. Известно:\n",
    "\n",
    "- сalls — количество звонков,\n",
    "- minutes — суммарная длительность звонков в минутах,\n",
    "- messages — количество sms-сообщений,\n",
    "- mb_used — израсходованный интернет-трафик в Мб,\n",
    "- is_ultra — каким тарифом пользовался в течение месяца («Ультра» — 1, «Смарт» — 0)."
   ]
  },
  {
   "cell_type": "markdown",
   "metadata": {},
   "source": [
    "### Задачи ###\n",
    "\n",
    "- Шаг 1. Открыть файл с данными и изучить его.\n",
    "- Шаг 2. Разделение данных на обучающую, валидационную и тестовую выборки.\n",
    "- Шаг 3. Исследование качества разных моделей.\n",
    "- Шаг 4. Проверка качество модели на тестовой выборке.\n",
    "- Шаг 5. Проверка модели на вменяемость."
   ]
  },
  {
   "cell_type": "markdown",
   "metadata": {},
   "source": [
    "## Откройте и изучите файл"
   ]
  },
  {
   "cell_type": "code",
   "execution_count": 1,
   "metadata": {},
   "outputs": [
    {
     "name": "stdout",
     "output_type": "stream",
     "text": [
      "<class 'pandas.core.frame.DataFrame'>\n",
      "RangeIndex: 3214 entries, 0 to 3213\n",
      "Data columns (total 5 columns):\n",
      " #   Column    Non-Null Count  Dtype  \n",
      "---  ------    --------------  -----  \n",
      " 0   calls     3214 non-null   float64\n",
      " 1   minutes   3214 non-null   float64\n",
      " 2   messages  3214 non-null   float64\n",
      " 3   mb_used   3214 non-null   float64\n",
      " 4   is_ultra  3214 non-null   int64  \n",
      "dtypes: float64(4), int64(1)\n",
      "memory usage: 125.7 KB\n"
     ]
    },
    {
     "data": {
      "text/html": [
       "<div>\n",
       "<style scoped>\n",
       "    .dataframe tbody tr th:only-of-type {\n",
       "        vertical-align: middle;\n",
       "    }\n",
       "\n",
       "    .dataframe tbody tr th {\n",
       "        vertical-align: top;\n",
       "    }\n",
       "\n",
       "    .dataframe thead th {\n",
       "        text-align: right;\n",
       "    }\n",
       "</style>\n",
       "<table border=\"1\" class=\"dataframe\">\n",
       "  <thead>\n",
       "    <tr style=\"text-align: right;\">\n",
       "      <th></th>\n",
       "      <th>calls</th>\n",
       "      <th>minutes</th>\n",
       "      <th>messages</th>\n",
       "      <th>mb_used</th>\n",
       "      <th>is_ultra</th>\n",
       "    </tr>\n",
       "  </thead>\n",
       "  <tbody>\n",
       "    <tr>\n",
       "      <th>0</th>\n",
       "      <td>40.0</td>\n",
       "      <td>311.90</td>\n",
       "      <td>83.0</td>\n",
       "      <td>19915.42</td>\n",
       "      <td>0</td>\n",
       "    </tr>\n",
       "    <tr>\n",
       "      <th>1</th>\n",
       "      <td>85.0</td>\n",
       "      <td>516.75</td>\n",
       "      <td>56.0</td>\n",
       "      <td>22696.96</td>\n",
       "      <td>0</td>\n",
       "    </tr>\n",
       "    <tr>\n",
       "      <th>2</th>\n",
       "      <td>77.0</td>\n",
       "      <td>467.66</td>\n",
       "      <td>86.0</td>\n",
       "      <td>21060.45</td>\n",
       "      <td>0</td>\n",
       "    </tr>\n",
       "    <tr>\n",
       "      <th>3</th>\n",
       "      <td>106.0</td>\n",
       "      <td>745.53</td>\n",
       "      <td>81.0</td>\n",
       "      <td>8437.39</td>\n",
       "      <td>1</td>\n",
       "    </tr>\n",
       "    <tr>\n",
       "      <th>4</th>\n",
       "      <td>66.0</td>\n",
       "      <td>418.74</td>\n",
       "      <td>1.0</td>\n",
       "      <td>14502.75</td>\n",
       "      <td>0</td>\n",
       "    </tr>\n",
       "    <tr>\n",
       "      <th>5</th>\n",
       "      <td>58.0</td>\n",
       "      <td>344.56</td>\n",
       "      <td>21.0</td>\n",
       "      <td>15823.37</td>\n",
       "      <td>0</td>\n",
       "    </tr>\n",
       "    <tr>\n",
       "      <th>6</th>\n",
       "      <td>57.0</td>\n",
       "      <td>431.64</td>\n",
       "      <td>20.0</td>\n",
       "      <td>3738.90</td>\n",
       "      <td>1</td>\n",
       "    </tr>\n",
       "    <tr>\n",
       "      <th>7</th>\n",
       "      <td>15.0</td>\n",
       "      <td>132.40</td>\n",
       "      <td>6.0</td>\n",
       "      <td>21911.60</td>\n",
       "      <td>0</td>\n",
       "    </tr>\n",
       "    <tr>\n",
       "      <th>8</th>\n",
       "      <td>7.0</td>\n",
       "      <td>43.39</td>\n",
       "      <td>3.0</td>\n",
       "      <td>2538.67</td>\n",
       "      <td>1</td>\n",
       "    </tr>\n",
       "    <tr>\n",
       "      <th>9</th>\n",
       "      <td>90.0</td>\n",
       "      <td>665.41</td>\n",
       "      <td>38.0</td>\n",
       "      <td>17358.61</td>\n",
       "      <td>0</td>\n",
       "    </tr>\n",
       "  </tbody>\n",
       "</table>\n",
       "</div>"
      ],
      "text/plain": [
       "   calls  minutes  messages   mb_used  is_ultra\n",
       "0   40.0   311.90      83.0  19915.42         0\n",
       "1   85.0   516.75      56.0  22696.96         0\n",
       "2   77.0   467.66      86.0  21060.45         0\n",
       "3  106.0   745.53      81.0   8437.39         1\n",
       "4   66.0   418.74       1.0  14502.75         0\n",
       "5   58.0   344.56      21.0  15823.37         0\n",
       "6   57.0   431.64      20.0   3738.90         1\n",
       "7   15.0   132.40       6.0  21911.60         0\n",
       "8    7.0    43.39       3.0   2538.67         1\n",
       "9   90.0   665.41      38.0  17358.61         0"
      ]
     },
     "execution_count": 1,
     "metadata": {},
     "output_type": "execute_result"
    }
   ],
   "source": [
    "# Изначально импортируем библиотеки \n",
    "import pandas as pd \n",
    "from sklearn.tree import DecisionTreeClassifier\n",
    "from sklearn.linear_model import LogisticRegression\n",
    "from sklearn.ensemble import RandomForestClassifier\n",
    "from sklearn.model_selection import train_test_split\n",
    "from sklearn.metrics import accuracy_score\n",
    "# Откроем файл и изучем его\n",
    "df = pd.read_csv('/datasets/users_behavior.csv')\n",
    "df.info()\n",
    "df.head(10)"
   ]
  },
  {
   "cell_type": "code",
   "execution_count": 2,
   "metadata": {},
   "outputs": [],
   "source": [
    "# Видно что столбцы calls и messages не в правильном формате, изменим их \n",
    "df['calls']=df['calls'].astype('int')\n",
    "df['messages']=df['messages'].astype('int')"
   ]
  },
  {
   "cell_type": "code",
   "execution_count": 3,
   "metadata": {},
   "outputs": [
    {
     "name": "stdout",
     "output_type": "stream",
     "text": [
      "<class 'pandas.core.frame.DataFrame'>\n",
      "RangeIndex: 3214 entries, 0 to 3213\n",
      "Data columns (total 5 columns):\n",
      " #   Column    Non-Null Count  Dtype  \n",
      "---  ------    --------------  -----  \n",
      " 0   calls     3214 non-null   int64  \n",
      " 1   minutes   3214 non-null   float64\n",
      " 2   messages  3214 non-null   int64  \n",
      " 3   mb_used   3214 non-null   float64\n",
      " 4   is_ultra  3214 non-null   int64  \n",
      "dtypes: float64(2), int64(3)\n",
      "memory usage: 125.7 KB\n"
     ]
    }
   ],
   "source": [
    "df.info()"
   ]
  },
  {
   "cell_type": "markdown",
   "metadata": {},
   "source": [
    "***Вывод: с данными все хорошо по условию(пропусков нет), поменяли только типы данных в 2-х столбцах***"
   ]
  },
  {
   "cell_type": "markdown",
   "metadata": {},
   "source": [
    "## Разбейте данные на выборки"
   ]
  },
  {
   "cell_type": "code",
   "execution_count": 4,
   "metadata": {},
   "outputs": [
    {
     "data": {
      "text/plain": [
       "0    0.693528\n",
       "1    0.306472\n",
       "Name: is_ultra, dtype: float64"
      ]
     },
     "execution_count": 4,
     "metadata": {},
     "output_type": "execute_result"
    }
   ],
   "source": [
    "#Посмотрим как распределены классы в нашей выборке\n",
    "df.is_ultra.value_counts(normalize=True)"
   ]
  },
  {
   "cell_type": "markdown",
   "metadata": {},
   "source": [
    "*Видем что 70% составляет тариф \"Смарт\" и 30% тариф \"Ультра\""
   ]
  },
  {
   "cell_type": "code",
   "execution_count": 6,
   "metadata": {},
   "outputs": [],
   "source": [
    "#Определим наш random_state, который будем использовать для всех методов \n",
    "RANDOM_STATE = 125\n",
    "#т.к. нам нужны три выборки, разобьем их по % на 60-20-20\n",
    "df_train, df_valid_ant_test = train_test_split(df, test_size=0.4, random_state=RANDOM_STATE, stratify=df.is_ultra)\n",
    "# теперь разделим тестовую выборку от валидационной\n",
    "df_valid, df_test = train_test_split(df_valid_ant_test, test_size=0.5, random_state=RANDOM_STATE)\n",
    "del df_valid_ant_test"
   ]
  },
  {
   "cell_type": "code",
   "execution_count": 7,
   "metadata": {},
   "outputs": [
    {
     "name": "stdout",
     "output_type": "stream",
     "text": [
      "Размер обучающей выборки составляет: 60.0%\n",
      "Размер тестовой выборки составляет: 20.0%\n",
      "Размер валидационой выборки составляет: 20.0%\n"
     ]
    }
   ],
   "source": [
    "print(f'Размер обучающей выборки составляет: {df_train.shape[0] / len(df):.1%}')\n",
    "print(f'Размер тестовой выборки составляет: {df_test.shape[0] / len(df):.1%}')\n",
    "print(f'Размер валидационой выборки составляет: {df_valid.shape[0] / len(df):.1%}')"
   ]
  },
  {
   "cell_type": "markdown",
   "metadata": {},
   "source": [
    "**Вывод: Разделили на тестовую выборку и валидационую, переходим к выбору модели**"
   ]
  },
  {
   "cell_type": "markdown",
   "metadata": {},
   "source": [
    "## Исследуйте модели"
   ]
  },
  {
   "cell_type": "code",
   "execution_count": 8,
   "metadata": {},
   "outputs": [],
   "source": [
    "# Определим переменную для сохранения лучших параметров модели\n",
    "best_accuracy_dict = dict()\n",
    "\n",
    "# функция, чтобы меньше дублировать код в циклах\n",
    "def fill_best_accuracy_dict(model, modelName, accuracy):\n",
    "    best_accuracy_dict['model'] = model\n",
    "    best_accuracy_dict['modelName'] = modelName\n",
    "    best_accuracy_dict['accuracy'] = accuracy\n",
    "    return best_accuracy_dict\n",
    "\n",
    "# значения по умолчанию\n",
    "best_accuracy_dict = fill_best_accuracy_dict('Undefined', 'Undefined', 0)"
   ]
  },
  {
   "cell_type": "code",
   "execution_count": 9,
   "metadata": {},
   "outputs": [],
   "source": [
    "# Для начала определим наши признаки\n",
    "\n",
    "# тренировочные\n",
    "train_features = df_train.drop(['is_ultra'], axis=1)\n",
    "train_target = df_train['is_ultra']\n",
    "# валидационные\n",
    "valid_features = df_valid.drop(['is_ultra'], axis=1)\n",
    "valid_target = df_valid['is_ultra']\n",
    "# тестовые\n",
    "test_features = df_test.drop(['is_ultra'], axis=1)\n",
    "test_target = df_test['is_ultra']"
   ]
  },
  {
   "cell_type": "code",
   "execution_count": 10,
   "metadata": {},
   "outputs": [
    {
     "name": "stdout",
     "output_type": "stream",
     "text": [
      "Descision Tree; max_depth= 2 ; accuracy = 0.7667185069984448\n",
      "Descision Tree; max_depth= 3 ; accuracy = 0.776049766718507\n",
      "Descision Tree; max_depth= 4 ; accuracy = 0.7822706065318819\n",
      "Descision Tree; max_depth= 5 ; accuracy = 0.7838258164852255\n",
      "Descision Tree; max_depth= 6 ; accuracy = 0.7713841368584758\n",
      "Descision Tree; max_depth= 7 ; accuracy = 0.7807153965785381\n",
      "Descision Tree; max_depth= 8 ; accuracy = 0.7869362363919129\n",
      "Descision Tree; max_depth= 9 ; accuracy = 0.776049766718507\n",
      "Descision Tree; max_depth= 10 ; accuracy = 0.7698289269051322\n"
     ]
    }
   ],
   "source": [
    "# исследуем дерево решений\n",
    "for max_depth in range (2, 11, 1):\n",
    "    modelDecisionTree = DecisionTreeClassifier(max_depth=max_depth, random_state=RANDOM_STATE)\n",
    "    modelDecisionTree.fit(train_features, train_target)\n",
    "    valid_predicted = modelDecisionTree.predict(valid_features)\n",
    "    \n",
    "    accuracy = accuracy_score(valid_target, valid_predicted)\n",
    "    \n",
    "    modelName = 'Descision Tree; max_depth= ' + str(max_depth)\n",
    "    if (accuracy > best_accuracy_dict['accuracy']):\n",
    "        best_accuracy_dict = fill_best_accuracy_dict(modelDecisionTree, modelName, accuracy)\n",
    "    print(modelName,'; accuracy =', accuracy)"
   ]
  },
  {
   "cell_type": "code",
   "execution_count": 11,
   "metadata": {},
   "outputs": [
    {
     "name": "stdout",
     "output_type": "stream",
     "text": [
      "Random Forest; n_estimators = 5 ; max_depth= 5 ; accuracy = 0.7916018662519441\n",
      "Random Forest; n_estimators = 5 ; max_depth= 10 ; accuracy = 0.7884914463452566\n",
      "Random Forest; n_estimators = 5 ; max_depth= 15 ; accuracy = 0.7791601866251944\n",
      "Random Forest; n_estimators = 5 ; max_depth= 20 ; accuracy = 0.776049766718507\n",
      "Random Forest; n_estimators = 5 ; max_depth= 25 ; accuracy = 0.7651632970451011\n",
      "Random Forest; n_estimators = 5 ; max_depth= 30 ; accuracy = 0.749611197511664\n",
      "\n",
      "Random Forest; n_estimators = 10 ; max_depth= 5 ; accuracy = 0.7947122861586314\n",
      "Random Forest; n_estimators = 10 ; max_depth= 10 ; accuracy = 0.8009331259720062\n",
      "Random Forest; n_estimators = 10 ; max_depth= 15 ; accuracy = 0.7744945567651633\n",
      "Random Forest; n_estimators = 10 ; max_depth= 20 ; accuracy = 0.7838258164852255\n",
      "Random Forest; n_estimators = 10 ; max_depth= 25 ; accuracy = 0.7791601866251944\n",
      "Random Forest; n_estimators = 10 ; max_depth= 30 ; accuracy = 0.7791601866251944\n",
      "\n",
      "Random Forest; n_estimators = 15 ; max_depth= 5 ; accuracy = 0.7869362363919129\n",
      "Random Forest; n_estimators = 15 ; max_depth= 10 ; accuracy = 0.7978227060653188\n",
      "Random Forest; n_estimators = 15 ; max_depth= 15 ; accuracy = 0.7822706065318819\n",
      "Random Forest; n_estimators = 15 ; max_depth= 20 ; accuracy = 0.7931570762052877\n",
      "Random Forest; n_estimators = 15 ; max_depth= 25 ; accuracy = 0.7884914463452566\n",
      "Random Forest; n_estimators = 15 ; max_depth= 30 ; accuracy = 0.7807153965785381\n",
      "\n",
      "Random Forest; n_estimators = 20 ; max_depth= 5 ; accuracy = 0.7900466562986003\n",
      "Random Forest; n_estimators = 20 ; max_depth= 10 ; accuracy = 0.7993779160186625\n",
      "Random Forest; n_estimators = 20 ; max_depth= 15 ; accuracy = 0.7822706065318819\n",
      "Random Forest; n_estimators = 20 ; max_depth= 20 ; accuracy = 0.7884914463452566\n",
      "Random Forest; n_estimators = 20 ; max_depth= 25 ; accuracy = 0.7853810264385692\n",
      "Random Forest; n_estimators = 20 ; max_depth= 30 ; accuracy = 0.7791601866251944\n",
      "\n",
      "Random Forest; n_estimators = 25 ; max_depth= 5 ; accuracy = 0.7900466562986003\n",
      "Random Forest; n_estimators = 25 ; max_depth= 10 ; accuracy = 0.7962674961119751\n",
      "Random Forest; n_estimators = 25 ; max_depth= 15 ; accuracy = 0.776049766718507\n",
      "Random Forest; n_estimators = 25 ; max_depth= 20 ; accuracy = 0.7931570762052877\n",
      "Random Forest; n_estimators = 25 ; max_depth= 25 ; accuracy = 0.7853810264385692\n",
      "Random Forest; n_estimators = 25 ; max_depth= 30 ; accuracy = 0.7853810264385692\n",
      "\n",
      "Random Forest; n_estimators = 30 ; max_depth= 5 ; accuracy = 0.7931570762052877\n",
      "Random Forest; n_estimators = 30 ; max_depth= 10 ; accuracy = 0.7978227060653188\n",
      "Random Forest; n_estimators = 30 ; max_depth= 15 ; accuracy = 0.7807153965785381\n",
      "Random Forest; n_estimators = 30 ; max_depth= 20 ; accuracy = 0.7916018662519441\n",
      "Random Forest; n_estimators = 30 ; max_depth= 25 ; accuracy = 0.7869362363919129\n",
      "Random Forest; n_estimators = 30 ; max_depth= 30 ; accuracy = 0.7838258164852255\n",
      "\n",
      "Random Forest; n_estimators = 35 ; max_depth= 5 ; accuracy = 0.7931570762052877\n",
      "Random Forest; n_estimators = 35 ; max_depth= 10 ; accuracy = 0.7962674961119751\n",
      "Random Forest; n_estimators = 35 ; max_depth= 15 ; accuracy = 0.7869362363919129\n",
      "Random Forest; n_estimators = 35 ; max_depth= 20 ; accuracy = 0.7838258164852255\n",
      "Random Forest; n_estimators = 35 ; max_depth= 25 ; accuracy = 0.776049766718507\n",
      "Random Forest; n_estimators = 35 ; max_depth= 30 ; accuracy = 0.7822706065318819\n",
      "\n",
      "Random Forest; n_estimators = 40 ; max_depth= 5 ; accuracy = 0.7916018662519441\n",
      "Random Forest; n_estimators = 40 ; max_depth= 10 ; accuracy = 0.80248833592535\n",
      "Random Forest; n_estimators = 40 ; max_depth= 15 ; accuracy = 0.7884914463452566\n",
      "Random Forest; n_estimators = 40 ; max_depth= 20 ; accuracy = 0.7916018662519441\n",
      "Random Forest; n_estimators = 40 ; max_depth= 25 ; accuracy = 0.7822706065318819\n",
      "Random Forest; n_estimators = 40 ; max_depth= 30 ; accuracy = 0.7869362363919129\n",
      "\n",
      "Random Forest; n_estimators = 45 ; max_depth= 5 ; accuracy = 0.7931570762052877\n",
      "Random Forest; n_estimators = 45 ; max_depth= 10 ; accuracy = 0.8040435458786936\n",
      "Random Forest; n_estimators = 45 ; max_depth= 15 ; accuracy = 0.7884914463452566\n",
      "Random Forest; n_estimators = 45 ; max_depth= 20 ; accuracy = 0.7916018662519441\n",
      "Random Forest; n_estimators = 45 ; max_depth= 25 ; accuracy = 0.7869362363919129\n",
      "Random Forest; n_estimators = 45 ; max_depth= 30 ; accuracy = 0.7916018662519441\n",
      "\n",
      "Random Forest; n_estimators = 50 ; max_depth= 5 ; accuracy = 0.7900466562986003\n",
      "Random Forest; n_estimators = 50 ; max_depth= 10 ; accuracy = 0.8009331259720062\n",
      "Random Forest; n_estimators = 50 ; max_depth= 15 ; accuracy = 0.7900466562986003\n",
      "Random Forest; n_estimators = 50 ; max_depth= 20 ; accuracy = 0.7838258164852255\n",
      "Random Forest; n_estimators = 50 ; max_depth= 25 ; accuracy = 0.7807153965785381\n",
      "Random Forest; n_estimators = 50 ; max_depth= 30 ; accuracy = 0.7853810264385692\n",
      "\n"
     ]
    }
   ],
   "source": [
    "# исследуем случайный лес\n",
    "for estim in range(5, 51, 5):\n",
    "    for max_depth in range(5, 31, 5):\n",
    "        modelRandomForest = RandomForestClassifier(n_estimators=estim, max_depth=max_depth, random_state=RANDOM_STATE)\n",
    "        modelRandomForest.fit(train_features, train_target)\n",
    "        valid_predicted = modelRandomForest.predict(valid_features)\n",
    "        \n",
    "        accuracy = accuracy_score(valid_target, valid_predicted)\n",
    "        \n",
    "        modelName = \"Random Forest; n_estimators = \" + str(estim) + \" ; max_depth= \" + str(max_depth)\n",
    "        if (accuracy > best_accuracy_dict['accuracy']):\n",
    "            best_accuracy_dict = fill_best_accuracy_dict(modelRandomForest, modelName, accuracy)\n",
    "        print(modelName,'; accuracy =', accuracy)\n",
    "    print() # для разделения вывода"
   ]
  },
  {
   "cell_type": "code",
   "execution_count": 12,
   "metadata": {},
   "outputs": [
    {
     "name": "stdout",
     "output_type": "stream",
     "text": [
      "Logistic Regression ; accuracy = 0.7418351477449455\n"
     ]
    }
   ],
   "source": [
    "# уберем будущий ворнинг\n",
    "import warnings\n",
    "warnings.simplefilter(action='ignore', category=FutureWarning)\n",
    "\n",
    "# Ислледуем логистическую регрессию\n",
    "modelLogisticRegression = LogisticRegression(random_state=RANDOM_STATE)\n",
    "modelLogisticRegression.fit(train_features, train_target)\n",
    "valid_predicted = modelLogisticRegression.predict(valid_features)\n",
    "\n",
    "accuracy = accuracy_score(valid_target, valid_predicted)\n",
    "        \n",
    "modelName = 'Logistic Regression'\n",
    "if (accuracy > best_accuracy_dict['accuracy']):\n",
    "    best_accuracy_dict = fill_best_accuracy_dict(modelLogisticRegression, modelName, accuracy)\n",
    "print(modelName,'; accuracy =', accuracy)"
   ]
  },
  {
   "cell_type": "code",
   "execution_count": 13,
   "metadata": {},
   "outputs": [
    {
     "data": {
      "text/plain": [
       "{'model': RandomForestClassifier(max_depth=10, n_estimators=45, random_state=125),\n",
       " 'modelName': 'Random Forest; n_estimators = 45 ; max_depth= 10',\n",
       " 'accuracy': 0.8040435458786936}"
      ]
     },
     "execution_count": 13,
     "metadata": {},
     "output_type": "execute_result"
    }
   ],
   "source": [
    "# Посмотрим, какая модель оказалась лучше всего\n",
    "best_accuracy_dict"
   ]
  },
  {
   "cell_type": "markdown",
   "metadata": {},
   "source": [
    "**Вывод:** \n",
    "*Лучший результат в точности показал случайный лес с параметрами n_estimators = 45 ; max_depth= 10*\n",
    "\n",
    "*Худший результат в точночти показала логистическая регрессия*\n",
    "\n",
    "*Довольно неплохо показало себя решающее дерево, при чем глубины 3 было достаточно*\n",
    "\n",
    "*Из любопытного - независимо от числа деревьев, лучшие результаты показывал лес с глубиной 10*"
   ]
  },
  {
   "cell_type": "markdown",
   "metadata": {},
   "source": [
    "## Проверьте модель на тестовой выборке"
   ]
  },
  {
   "cell_type": "code",
   "execution_count": 16,
   "metadata": {},
   "outputs": [
    {
     "name": "stdout",
     "output_type": "stream",
     "text": [
      "Test accuracy = 0.8180404354587869\n"
     ]
    }
   ],
   "source": [
    "# проверим модель на тестовых данных\n",
    "model = best_accuracy_dict['model']\n",
    "test_predicted = model.predict(test_features)\n",
    "print('Test accuracy =', accuracy_score(test_target, test_predicted))"
   ]
  },
  {
   "cell_type": "code",
   "execution_count": 17,
   "metadata": {},
   "outputs": [
    {
     "name": "stdout",
     "output_type": "stream",
     "text": [
      "Train accuracy = 0.8952282157676349\n"
     ]
    }
   ],
   "source": [
    "# из интереса проверим точность модели на исходных данных\n",
    "train_predicted = model.predict(train_features)\n",
    "print('Train accuracy =', accuracy_score(train_target, train_predicted))"
   ]
  },
  {
   "cell_type": "markdown",
   "metadata": {},
   "source": [
    "**Вывод : получили хорошую точность модели, при этом точность не вышла за 90% на исходных данных, фактор переобучения не критичен для нашей модели**"
   ]
  },
  {
   "cell_type": "markdown",
   "metadata": {},
   "source": [
    "## (бонус) Проверьте модели на адекватность"
   ]
  },
  {
   "cell_type": "code",
   "execution_count": 18,
   "metadata": {},
   "outputs": [
    {
     "name": "stdout",
     "output_type": "stream",
     "text": [
      "Random predictions accuracy =  0.49144634525660963\n"
     ]
    }
   ],
   "source": [
    "# Проверим модель на адекватность\n",
    "import random\n",
    "random_predictions = pd.Series(test_target.apply(lambda x: round(random.random())), index=test_target.index)\n",
    "\n",
    "# оценим точность на этих данных\n",
    "print('Random predictions accuracy = ', accuracy_score(test_target, random_predictions))"
   ]
  },
  {
   "cell_type": "markdown",
   "metadata": {},
   "source": [
    "**Общий вывод: Мы провели отличную работу и выявили модель.** \n",
    "\n",
    "Мы изучили наши данные и привели типы к нужным значениям\n",
    "\n",
    "Создали три выборки по которым обучили и проверили нашу модель в пропорции 60% - 20% - 20%\n",
    "\n",
    "Мы исследовали три различные модели с разными значениями гиперпараметров (Дерево решений, Случайный лес, Логистическую регрессию)\n",
    "\n",
    "Мы определили лучшую модель и параметры для нее, измерив и сравнив точность наших предсказаний на валидационной выборке (в нашем случае лучший результат показал случайный лес с 25 деревьями и глубиной 10)\n",
    "\n",
    "Мы проверили нашу модель на тестовых данных и они оказались очень близко к данным на валидной выборке. При этом переобучение для нашей модели присутствует, но не критично.\n",
    "\n",
    "Дополнительно мы проверили модель на адекватность и наша модель показала хорошие результаты в сравнении со случайными предсказаниями."
   ]
  },
  {
   "cell_type": "markdown",
   "metadata": {},
   "source": [
    "## Чек-лист готовности проекта"
   ]
  },
  {
   "cell_type": "markdown",
   "metadata": {},
   "source": [
    "Поставьте 'x' в выполненных пунктах. Далее нажмите Shift+Enter."
   ]
  },
  {
   "cell_type": "markdown",
   "metadata": {},
   "source": [
    "- [x] Jupyter Notebook открыт\n",
    "- [ ] Весь код исполняется без ошибок\n",
    "- [ ] Ячейки с кодом расположены в порядке исполнения\n",
    "- [ ] Выполнено задание 1: данные загружены и изучены\n",
    "- [ ] Выполнено задание 2: данные разбиты на три выборки\n",
    "- [ ] Выполнено задание 3: проведено исследование моделей\n",
    "    - [ ] Рассмотрено больше одной модели\n",
    "    - [ ] Рассмотрено хотя бы 3 значения гипепараметров для какой-нибудь модели\n",
    "    - [ ] Написаны выводы по результатам исследования\n",
    "- [ ] Выполнено задание 3: Проведено тестирование\n",
    "- [ ] Удалось достичь accuracy не меньше 0.75\n"
   ]
  },
  {
   "cell_type": "code",
   "execution_count": null,
   "metadata": {},
   "outputs": [],
   "source": []
  }
 ],
 "metadata": {
  "ExecuteTimeLog": [
   {
    "duration": 1169,
    "start_time": "2023-04-04T07:07:27.289Z"
   },
   {
    "duration": 40,
    "start_time": "2023-04-04T07:08:53.358Z"
   },
   {
    "duration": 41,
    "start_time": "2023-04-04T07:08:59.750Z"
   },
   {
    "duration": 5,
    "start_time": "2023-04-04T07:11:27.857Z"
   },
   {
    "duration": 11,
    "start_time": "2023-04-04T07:11:51.513Z"
   },
   {
    "duration": 1403,
    "start_time": "2023-04-07T04:29:21.770Z"
   },
   {
    "duration": 14,
    "start_time": "2023-04-07T04:29:26.813Z"
   },
   {
    "duration": 10,
    "start_time": "2023-04-07T04:29:28.472Z"
   },
   {
    "duration": 7,
    "start_time": "2023-04-07T04:29:33.741Z"
   },
   {
    "duration": 10,
    "start_time": "2023-04-07T04:39:54.033Z"
   },
   {
    "duration": 7,
    "start_time": "2023-04-07T04:43:34.827Z"
   },
   {
    "duration": 74,
    "start_time": "2023-04-07T04:44:08.578Z"
   },
   {
    "duration": 9699,
    "start_time": "2023-04-07T04:51:22.591Z"
   },
   {
    "duration": 5873,
    "start_time": "2023-04-07T04:54:01.249Z"
   },
   {
    "duration": 56,
    "start_time": "2023-04-07T04:55:01.047Z"
   },
   {
    "duration": 53,
    "start_time": "2023-04-07T04:55:49.083Z"
   },
   {
    "duration": 6,
    "start_time": "2023-04-07T04:56:30.959Z"
   },
   {
    "duration": 12,
    "start_time": "2023-04-07T05:02:24.216Z"
   },
   {
    "duration": 14,
    "start_time": "2023-04-07T05:02:53.451Z"
   },
   {
    "duration": 8,
    "start_time": "2023-04-07T07:34:48.621Z"
   },
   {
    "duration": 3044,
    "start_time": "2023-04-07T08:38:45.874Z"
   },
   {
    "duration": 5,
    "start_time": "2023-04-07T08:38:48.920Z"
   },
   {
    "duration": 15,
    "start_time": "2023-04-07T08:38:48.927Z"
   },
   {
    "duration": 17,
    "start_time": "2023-04-07T08:38:48.944Z"
   },
   {
    "duration": 8,
    "start_time": "2023-04-07T08:38:48.963Z"
   },
   {
    "duration": 18,
    "start_time": "2023-04-07T08:38:48.987Z"
   },
   {
    "duration": 72,
    "start_time": "2023-04-07T08:38:49.007Z"
   },
   {
    "duration": 5430,
    "start_time": "2023-04-07T08:38:49.080Z"
   },
   {
    "duration": 38,
    "start_time": "2023-04-07T08:38:54.512Z"
   },
   {
    "duration": 6,
    "start_time": "2023-04-07T08:38:54.551Z"
   },
   {
    "duration": 38,
    "start_time": "2023-04-07T08:38:54.559Z"
   },
   {
    "duration": 17,
    "start_time": "2023-04-07T08:38:54.599Z"
   },
   {
    "duration": 6,
    "start_time": "2023-04-07T08:38:54.618Z"
   },
   {
    "duration": 1376,
    "start_time": "2023-04-09T08:28:58.701Z"
   },
   {
    "duration": 6,
    "start_time": "2023-04-09T08:29:00.802Z"
   },
   {
    "duration": 12,
    "start_time": "2023-04-09T08:29:01.652Z"
   },
   {
    "duration": 140,
    "start_time": "2023-04-09T08:29:05.451Z"
   },
   {
    "duration": 7,
    "start_time": "2023-04-09T08:29:50.559Z"
   },
   {
    "duration": 3,
    "start_time": "2023-04-09T08:30:27.268Z"
   },
   {
    "duration": 5,
    "start_time": "2023-04-09T08:31:03.506Z"
   },
   {
    "duration": 5,
    "start_time": "2023-04-09T08:32:02.825Z"
   },
   {
    "duration": 5,
    "start_time": "2023-04-09T08:32:14.274Z"
   },
   {
    "duration": 13,
    "start_time": "2023-04-09T08:32:14.995Z"
   },
   {
    "duration": 1619,
    "start_time": "2023-04-09T08:35:36.338Z"
   },
   {
    "duration": 4,
    "start_time": "2023-04-09T08:35:40.225Z"
   },
   {
    "duration": 12,
    "start_time": "2023-04-09T08:35:40.987Z"
   },
   {
    "duration": 10,
    "start_time": "2023-04-09T08:35:44.404Z"
   },
   {
    "duration": 8,
    "start_time": "2023-04-09T08:35:47.823Z"
   },
   {
    "duration": 4,
    "start_time": "2023-04-09T08:35:50.142Z"
   },
   {
    "duration": 1164,
    "start_time": "2023-04-09T08:39:22.338Z"
   },
   {
    "duration": 4,
    "start_time": "2023-04-09T08:39:23.504Z"
   },
   {
    "duration": 10,
    "start_time": "2023-04-09T08:39:23.748Z"
   },
   {
    "duration": 7,
    "start_time": "2023-04-09T08:39:25.862Z"
   },
   {
    "duration": 122,
    "start_time": "2023-04-09T08:39:27.968Z"
   },
   {
    "duration": 8,
    "start_time": "2023-04-09T08:39:35.474Z"
   },
   {
    "duration": 5,
    "start_time": "2023-04-09T08:39:37.490Z"
   },
   {
    "duration": 3,
    "start_time": "2023-04-09T08:40:14.246Z"
   },
   {
    "duration": 6,
    "start_time": "2023-04-09T08:40:15.338Z"
   },
   {
    "duration": 69,
    "start_time": "2023-04-09T08:40:17.507Z"
   },
   {
    "duration": 6229,
    "start_time": "2023-04-09T08:40:30.029Z"
   },
   {
    "duration": 36,
    "start_time": "2023-04-09T08:40:57.367Z"
   },
   {
    "duration": 6,
    "start_time": "2023-04-09T08:41:02.058Z"
   },
   {
    "duration": 15,
    "start_time": "2023-04-09T08:41:32.722Z"
   },
   {
    "duration": 19,
    "start_time": "2023-04-09T08:41:34.901Z"
   },
   {
    "duration": 14,
    "start_time": "2023-04-09T08:42:20.093Z"
   },
   {
    "duration": 22,
    "start_time": "2023-04-09T08:42:20.933Z"
   },
   {
    "duration": 7,
    "start_time": "2023-04-09T08:42:25.887Z"
   }
  ],
  "kernelspec": {
   "display_name": "Python 3 (ipykernel)",
   "language": "python",
   "name": "python3"
  },
  "language_info": {
   "codemirror_mode": {
    "name": "ipython",
    "version": 3
   },
   "file_extension": ".py",
   "mimetype": "text/x-python",
   "name": "python",
   "nbconvert_exporter": "python",
   "pygments_lexer": "ipython3",
   "version": "3.9.13"
  },
  "toc": {
   "base_numbering": 1,
   "nav_menu": {},
   "number_sections": true,
   "sideBar": true,
   "skip_h1_title": true,
   "title_cell": "Table of Contents",
   "title_sidebar": "Contents",
   "toc_cell": false,
   "toc_position": {},
   "toc_section_display": true,
   "toc_window_display": false
  }
 },
 "nbformat": 4,
 "nbformat_minor": 2
}
