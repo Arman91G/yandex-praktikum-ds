{
 "cells": [
  {
   "cell_type": "markdown",
   "metadata": {
    "toc": true
   },
   "source": [
    "<h1>Содержание<span class=\"tocSkip\"></span></h1>\n",
    "<div class=\"toc\"><ul class=\"toc-item\"><li><span><a href=\"#Подготовка-данных\" data-toc-modified-id=\"Подготовка-данных-1\"><span class=\"toc-item-num\">1&nbsp;&nbsp;</span>Подготовка данных</a></span></li><li><span><a href=\"#Исследование-задачи\" data-toc-modified-id=\"Исследование-задачи-2\"><span class=\"toc-item-num\">2&nbsp;&nbsp;</span>Исследование задачи</a></span></li><li><span><a href=\"#Борьба-с-дисбалансом\" data-toc-modified-id=\"Борьба-с-дисбалансом-3\"><span class=\"toc-item-num\">3&nbsp;&nbsp;</span>Борьба с дисбалансом</a></span></li><li><span><a href=\"#Тестирование-модели\" data-toc-modified-id=\"Тестирование-модели-4\"><span class=\"toc-item-num\">4&nbsp;&nbsp;</span>Тестирование модели</a></span></li><li><span><a href=\"#Чек-лист-готовности-проекта\" data-toc-modified-id=\"Чек-лист-готовности-проекта-5\"><span class=\"toc-item-num\">5&nbsp;&nbsp;</span>Чек-лист готовности проекта</a></span></li></ul></div>"
   ]
  },
  {
   "cell_type": "markdown",
   "metadata": {},
   "source": [
    "# Отток клиентов"
   ]
  },
  {
   "cell_type": "markdown",
   "metadata": {},
   "source": [
    "Из «Бета-Банка» стали уходить клиенты. Каждый месяц. Немного, но заметно. Банковские маркетологи посчитали: сохранять текущих клиентов дешевле, чем привлекать новых.\n",
    "\n",
    "Нужно спрогнозировать, уйдёт клиент из банка в ближайшее время или нет. Вам предоставлены исторические данные о поведении клиентов и расторжении договоров с банком. \n",
    "\n",
    "Постройте модель с предельно большим значением *F1*-меры. Чтобы сдать проект успешно, нужно довести метрику до 0.59. Проверьте *F1*-меру на тестовой выборке самостоятельно.\n",
    "\n",
    "Дополнительно измеряйте *AUC-ROC*, сравнивайте её значение с *F1*-мерой.\n",
    "\n",
    "Источник данных: [https://www.kaggle.com/barelydedicated/bank-customer-churn-modeling](https://www.kaggle.com/barelydedicated/bank-customer-churn-modeling)"
   ]
  },
  {
   "cell_type": "markdown",
   "metadata": {},
   "source": [
    "**Описание данных**\n",
    "\n",
    "Признаки\n",
    "\n",
    "RowNumber — индекс строки в данных\n",
    "CustomerId — уникальный идентификатор клиента\n",
    "Surname — фамилия\n",
    "CreditScore — кредитный рейтинг\n",
    "Geography — страна проживания\n",
    "Gender — пол\n",
    "Age — возраст\n",
    "Tenure — сколько лет человек является клиентом банка\n",
    "Balance — баланс на счёте\n",
    "NumOfProducts — количество продуктов банка, используемых клиентом\n",
    "HasCrCard — наличие кредитной карты (1 - есть, 0 - нет)\n",
    "IsActiveMember — активность клиента (1 - активный, 0 - нет)\n",
    "EstimatedSalary — предполагаемая зарплата\n",
    "Целевой признак\n",
    "\n",
    "Exited — факт ухода клиента\n",
    "Задачи \n",
    "\n",
    "Перед нами стоит задача классификации, а значит нам надо:\n",
    "\n",
    "Подготовить и исследовать данные, включая баланс классов\n",
    "Обучить разные модели и найти лучшую.\n",
    "Провести финальное тестирование.\n",
    "Общий вывод"
   ]
  },
  {
   "cell_type": "markdown",
   "metadata": {},
   "source": [
    "## Подготовка данных"
   ]
  },
  {
   "cell_type": "code",
   "execution_count": 1,
   "metadata": {},
   "outputs": [],
   "source": [
    "#импорт\n",
    "import pandas as pd\n",
    "import numpy as np\n",
    "import matplotlib.pyplot as plt\n",
    "from random import randrange\n",
    "from sklearn.preprocessing import StandardScaler\n",
    "from sklearn.model_selection import train_test_split\n",
    "from sklearn.utils import shuffle\n",
    "from sklearn.tree import DecisionTreeClassifier\n",
    "from sklearn.linear_model import LogisticRegression\n",
    "from sklearn.ensemble import RandomForestClassifier\n",
    "from sklearn.metrics import accuracy_score\n",
    "from sklearn.metrics import confusion_matrix\n",
    "from sklearn.metrics import recall_score\n",
    "from sklearn.metrics import precision_score\n",
    "from sklearn.metrics import f1_score\n",
    "from sklearn.metrics import roc_auc_score\n",
    "from sklearn.metrics import roc_curve"
   ]
  },
  {
   "cell_type": "code",
   "execution_count": 2,
   "metadata": {},
   "outputs": [
    {
     "name": "stdout",
     "output_type": "stream",
     "text": [
      "<class 'pandas.core.frame.DataFrame'>\n",
      "RangeIndex: 10000 entries, 0 to 9999\n",
      "Data columns (total 14 columns):\n",
      " #   Column           Non-Null Count  Dtype  \n",
      "---  ------           --------------  -----  \n",
      " 0   RowNumber        10000 non-null  int64  \n",
      " 1   CustomerId       10000 non-null  int64  \n",
      " 2   Surname          10000 non-null  object \n",
      " 3   CreditScore      10000 non-null  int64  \n",
      " 4   Geography        10000 non-null  object \n",
      " 5   Gender           10000 non-null  object \n",
      " 6   Age              10000 non-null  int64  \n",
      " 7   Tenure           9091 non-null   float64\n",
      " 8   Balance          10000 non-null  float64\n",
      " 9   NumOfProducts    10000 non-null  int64  \n",
      " 10  HasCrCard        10000 non-null  int64  \n",
      " 11  IsActiveMember   10000 non-null  int64  \n",
      " 12  EstimatedSalary  10000 non-null  float64\n",
      " 13  Exited           10000 non-null  int64  \n",
      "dtypes: float64(3), int64(8), object(3)\n",
      "memory usage: 1.1+ MB\n"
     ]
    }
   ],
   "source": [
    "# прочитаем данные файла\n",
    "df = pd.read_csv('/datasets/Churn.csv')\n",
    "\n",
    "# посмотрим общую информацию о данных\n",
    "df.info()"
   ]
  },
  {
   "cell_type": "code",
   "execution_count": 3,
   "metadata": {},
   "outputs": [
    {
     "data": {
      "text/html": [
       "<div>\n",
       "<style scoped>\n",
       "    .dataframe tbody tr th:only-of-type {\n",
       "        vertical-align: middle;\n",
       "    }\n",
       "\n",
       "    .dataframe tbody tr th {\n",
       "        vertical-align: top;\n",
       "    }\n",
       "\n",
       "    .dataframe thead th {\n",
       "        text-align: right;\n",
       "    }\n",
       "</style>\n",
       "<table border=\"1\" class=\"dataframe\">\n",
       "  <thead>\n",
       "    <tr style=\"text-align: right;\">\n",
       "      <th></th>\n",
       "      <th>RowNumber</th>\n",
       "      <th>CustomerId</th>\n",
       "      <th>Surname</th>\n",
       "      <th>CreditScore</th>\n",
       "      <th>Geography</th>\n",
       "      <th>Gender</th>\n",
       "      <th>Age</th>\n",
       "      <th>Tenure</th>\n",
       "      <th>Balance</th>\n",
       "      <th>NumOfProducts</th>\n",
       "      <th>HasCrCard</th>\n",
       "      <th>IsActiveMember</th>\n",
       "      <th>EstimatedSalary</th>\n",
       "      <th>Exited</th>\n",
       "    </tr>\n",
       "  </thead>\n",
       "  <tbody>\n",
       "    <tr>\n",
       "      <th>0</th>\n",
       "      <td>1</td>\n",
       "      <td>15634602</td>\n",
       "      <td>Hargrave</td>\n",
       "      <td>619</td>\n",
       "      <td>France</td>\n",
       "      <td>Female</td>\n",
       "      <td>42</td>\n",
       "      <td>2.0</td>\n",
       "      <td>0.00</td>\n",
       "      <td>1</td>\n",
       "      <td>1</td>\n",
       "      <td>1</td>\n",
       "      <td>101348.88</td>\n",
       "      <td>1</td>\n",
       "    </tr>\n",
       "    <tr>\n",
       "      <th>1</th>\n",
       "      <td>2</td>\n",
       "      <td>15647311</td>\n",
       "      <td>Hill</td>\n",
       "      <td>608</td>\n",
       "      <td>Spain</td>\n",
       "      <td>Female</td>\n",
       "      <td>41</td>\n",
       "      <td>1.0</td>\n",
       "      <td>83807.86</td>\n",
       "      <td>1</td>\n",
       "      <td>0</td>\n",
       "      <td>1</td>\n",
       "      <td>112542.58</td>\n",
       "      <td>0</td>\n",
       "    </tr>\n",
       "    <tr>\n",
       "      <th>2</th>\n",
       "      <td>3</td>\n",
       "      <td>15619304</td>\n",
       "      <td>Onio</td>\n",
       "      <td>502</td>\n",
       "      <td>France</td>\n",
       "      <td>Female</td>\n",
       "      <td>42</td>\n",
       "      <td>8.0</td>\n",
       "      <td>159660.80</td>\n",
       "      <td>3</td>\n",
       "      <td>1</td>\n",
       "      <td>0</td>\n",
       "      <td>113931.57</td>\n",
       "      <td>1</td>\n",
       "    </tr>\n",
       "    <tr>\n",
       "      <th>3</th>\n",
       "      <td>4</td>\n",
       "      <td>15701354</td>\n",
       "      <td>Boni</td>\n",
       "      <td>699</td>\n",
       "      <td>France</td>\n",
       "      <td>Female</td>\n",
       "      <td>39</td>\n",
       "      <td>1.0</td>\n",
       "      <td>0.00</td>\n",
       "      <td>2</td>\n",
       "      <td>0</td>\n",
       "      <td>0</td>\n",
       "      <td>93826.63</td>\n",
       "      <td>0</td>\n",
       "    </tr>\n",
       "    <tr>\n",
       "      <th>4</th>\n",
       "      <td>5</td>\n",
       "      <td>15737888</td>\n",
       "      <td>Mitchell</td>\n",
       "      <td>850</td>\n",
       "      <td>Spain</td>\n",
       "      <td>Female</td>\n",
       "      <td>43</td>\n",
       "      <td>2.0</td>\n",
       "      <td>125510.82</td>\n",
       "      <td>1</td>\n",
       "      <td>1</td>\n",
       "      <td>1</td>\n",
       "      <td>79084.10</td>\n",
       "      <td>0</td>\n",
       "    </tr>\n",
       "    <tr>\n",
       "      <th>...</th>\n",
       "      <td>...</td>\n",
       "      <td>...</td>\n",
       "      <td>...</td>\n",
       "      <td>...</td>\n",
       "      <td>...</td>\n",
       "      <td>...</td>\n",
       "      <td>...</td>\n",
       "      <td>...</td>\n",
       "      <td>...</td>\n",
       "      <td>...</td>\n",
       "      <td>...</td>\n",
       "      <td>...</td>\n",
       "      <td>...</td>\n",
       "      <td>...</td>\n",
       "    </tr>\n",
       "    <tr>\n",
       "      <th>9995</th>\n",
       "      <td>9996</td>\n",
       "      <td>15606229</td>\n",
       "      <td>Obijiaku</td>\n",
       "      <td>771</td>\n",
       "      <td>France</td>\n",
       "      <td>Male</td>\n",
       "      <td>39</td>\n",
       "      <td>5.0</td>\n",
       "      <td>0.00</td>\n",
       "      <td>2</td>\n",
       "      <td>1</td>\n",
       "      <td>0</td>\n",
       "      <td>96270.64</td>\n",
       "      <td>0</td>\n",
       "    </tr>\n",
       "    <tr>\n",
       "      <th>9996</th>\n",
       "      <td>9997</td>\n",
       "      <td>15569892</td>\n",
       "      <td>Johnstone</td>\n",
       "      <td>516</td>\n",
       "      <td>France</td>\n",
       "      <td>Male</td>\n",
       "      <td>35</td>\n",
       "      <td>10.0</td>\n",
       "      <td>57369.61</td>\n",
       "      <td>1</td>\n",
       "      <td>1</td>\n",
       "      <td>1</td>\n",
       "      <td>101699.77</td>\n",
       "      <td>0</td>\n",
       "    </tr>\n",
       "    <tr>\n",
       "      <th>9997</th>\n",
       "      <td>9998</td>\n",
       "      <td>15584532</td>\n",
       "      <td>Liu</td>\n",
       "      <td>709</td>\n",
       "      <td>France</td>\n",
       "      <td>Female</td>\n",
       "      <td>36</td>\n",
       "      <td>7.0</td>\n",
       "      <td>0.00</td>\n",
       "      <td>1</td>\n",
       "      <td>0</td>\n",
       "      <td>1</td>\n",
       "      <td>42085.58</td>\n",
       "      <td>1</td>\n",
       "    </tr>\n",
       "    <tr>\n",
       "      <th>9998</th>\n",
       "      <td>9999</td>\n",
       "      <td>15682355</td>\n",
       "      <td>Sabbatini</td>\n",
       "      <td>772</td>\n",
       "      <td>Germany</td>\n",
       "      <td>Male</td>\n",
       "      <td>42</td>\n",
       "      <td>3.0</td>\n",
       "      <td>75075.31</td>\n",
       "      <td>2</td>\n",
       "      <td>1</td>\n",
       "      <td>0</td>\n",
       "      <td>92888.52</td>\n",
       "      <td>1</td>\n",
       "    </tr>\n",
       "    <tr>\n",
       "      <th>9999</th>\n",
       "      <td>10000</td>\n",
       "      <td>15628319</td>\n",
       "      <td>Walker</td>\n",
       "      <td>792</td>\n",
       "      <td>France</td>\n",
       "      <td>Female</td>\n",
       "      <td>28</td>\n",
       "      <td>NaN</td>\n",
       "      <td>130142.79</td>\n",
       "      <td>1</td>\n",
       "      <td>1</td>\n",
       "      <td>0</td>\n",
       "      <td>38190.78</td>\n",
       "      <td>0</td>\n",
       "    </tr>\n",
       "  </tbody>\n",
       "</table>\n",
       "<p>10000 rows × 14 columns</p>\n",
       "</div>"
      ],
      "text/plain": [
       "      RowNumber  CustomerId    Surname  CreditScore Geography  Gender  Age  \\\n",
       "0             1    15634602   Hargrave          619    France  Female   42   \n",
       "1             2    15647311       Hill          608     Spain  Female   41   \n",
       "2             3    15619304       Onio          502    France  Female   42   \n",
       "3             4    15701354       Boni          699    France  Female   39   \n",
       "4             5    15737888   Mitchell          850     Spain  Female   43   \n",
       "...         ...         ...        ...          ...       ...     ...  ...   \n",
       "9995       9996    15606229   Obijiaku          771    France    Male   39   \n",
       "9996       9997    15569892  Johnstone          516    France    Male   35   \n",
       "9997       9998    15584532        Liu          709    France  Female   36   \n",
       "9998       9999    15682355  Sabbatini          772   Germany    Male   42   \n",
       "9999      10000    15628319     Walker          792    France  Female   28   \n",
       "\n",
       "      Tenure    Balance  NumOfProducts  HasCrCard  IsActiveMember  \\\n",
       "0        2.0       0.00              1          1               1   \n",
       "1        1.0   83807.86              1          0               1   \n",
       "2        8.0  159660.80              3          1               0   \n",
       "3        1.0       0.00              2          0               0   \n",
       "4        2.0  125510.82              1          1               1   \n",
       "...      ...        ...            ...        ...             ...   \n",
       "9995     5.0       0.00              2          1               0   \n",
       "9996    10.0   57369.61              1          1               1   \n",
       "9997     7.0       0.00              1          0               1   \n",
       "9998     3.0   75075.31              2          1               0   \n",
       "9999     NaN  130142.79              1          1               0   \n",
       "\n",
       "      EstimatedSalary  Exited  \n",
       "0           101348.88       1  \n",
       "1           112542.58       0  \n",
       "2           113931.57       1  \n",
       "3            93826.63       0  \n",
       "4            79084.10       0  \n",
       "...               ...     ...  \n",
       "9995         96270.64       0  \n",
       "9996        101699.77       0  \n",
       "9997         42085.58       1  \n",
       "9998         92888.52       1  \n",
       "9999         38190.78       0  \n",
       "\n",
       "[10000 rows x 14 columns]"
      ]
     },
     "execution_count": 3,
     "metadata": {},
     "output_type": "execute_result"
    }
   ],
   "source": [
    "df"
   ]
  },
  {
   "cell_type": "markdown",
   "metadata": {},
   "source": [
    "**Вывод по данным**\n",
    "- Пустые значения в количестве недвижимости у клиента Tenure (скорее всего, означает ее отсутствие)\n",
    "- Также Tenure стоит привести к целочисленному типу\n",
    "- Столбцы RowNumber и CustomerId нам точно не понадобятся. Фамилия тоже, хотя на будущее можно было бы попробовать поискать любопытные взаимосвязи (в духе, если фамилия типично европейская, то...). Сейчас просто удалим.\n",
    "- Количественные признаки Gender и Geography нужно будет преобразовать к числовым значениям"
   ]
  },
  {
   "cell_type": "code",
   "execution_count": 4,
   "metadata": {},
   "outputs": [],
   "source": [
    "# Удалим лишние признаки\n",
    "df.drop(['RowNumber', 'CustomerId', 'Surname'], axis='columns', inplace=True)"
   ]
  },
  {
   "cell_type": "markdown",
   "metadata": {},
   "source": [
    "Дополнительно исследовал Tenure, чтобы понять, корректно ли их заполнять нулями. Для этого\n",
    "- Посмотрел среднее значение признаков по выборке (только пустые значения) и по всем данным. Т.е. гипотеза, что эти люди меньше зарабатывают или отличаются по другим параметрам, не подтвердилась\n",
    "- Построил матрицу корреляции. Опять же, самая высокая корреляция с HasCrCard. С остальными признаками корреляция минимальна.\n",
    "\n",
    "Таким образом, мы не можем однозначно утверждать, что пропущенные значения в реальности нули, однако и каких-то дополнительных якорей, чтобы заполнить их приближено к реальности у нас нет.\n",
    "\n",
    "В связи с этим, в дальнейшем попробую заполнить нулями. Если результаты не будут устраивать, попробую удалить значения из выборки."
   ]
  },
  {
   "cell_type": "code",
   "execution_count": 5,
   "metadata": {},
   "outputs": [
    {
     "data": {
      "text/plain": [
       "1.0     952\n",
       "2.0     950\n",
       "8.0     933\n",
       "3.0     928\n",
       "5.0     927\n",
       "7.0     925\n",
       "4.0     885\n",
       "9.0     882\n",
       "6.0     881\n",
       "10.0    446\n",
       "0.0     382\n",
       "Name: Tenure, dtype: int64"
      ]
     },
     "execution_count": 5,
     "metadata": {},
     "output_type": "execute_result"
    }
   ],
   "source": [
    "df['Tenure'].value_counts()"
   ]
  },
  {
   "cell_type": "code",
   "execution_count": 6,
   "metadata": {},
   "outputs": [
    {
     "data": {
      "text/plain": [
       "909"
      ]
     },
     "execution_count": 6,
     "metadata": {},
     "output_type": "execute_result"
    }
   ],
   "source": [
    "df.Tenure.isnull().sum()"
   ]
  },
  {
   "cell_type": "code",
   "execution_count": 7,
   "metadata": {},
   "outputs": [
    {
     "data": {
      "text/plain": [
       "count    9091.000000\n",
       "mean        4.997690\n",
       "std         2.894723\n",
       "min         0.000000\n",
       "25%         2.000000\n",
       "50%         5.000000\n",
       "75%         7.000000\n",
       "max        10.000000\n",
       "Name: Tenure, dtype: float64"
      ]
     },
     "execution_count": 7,
     "metadata": {},
     "output_type": "execute_result"
    }
   ],
   "source": [
    "df['Tenure'].describe()"
   ]
  },
  {
   "cell_type": "markdown",
   "metadata": {},
   "source": [
    "**Меньше 10% можно и удалить**"
   ]
  },
  {
   "cell_type": "markdown",
   "metadata": {},
   "source": [
    "**Заменю пропуски значениями от 1 до 10, чтобы не так сильно испортить распределение**"
   ]
  },
  {
   "cell_type": "code",
   "execution_count": 8,
   "metadata": {},
   "outputs": [],
   "source": [
    "df = df.dropna(subset=['Tenure'])"
   ]
  },
  {
   "cell_type": "code",
   "execution_count": 9,
   "metadata": {},
   "outputs": [
    {
     "data": {
      "text/plain": [
       "0        2.0\n",
       "1        1.0\n",
       "2        8.0\n",
       "3        1.0\n",
       "4        2.0\n",
       "        ... \n",
       "9994     2.0\n",
       "9995     5.0\n",
       "9996    10.0\n",
       "9997     7.0\n",
       "9998     3.0\n",
       "Name: Tenure, Length: 9091, dtype: float64"
      ]
     },
     "execution_count": 9,
     "metadata": {},
     "output_type": "execute_result"
    }
   ],
   "source": [
    "df['Tenure']"
   ]
  },
  {
   "cell_type": "code",
   "execution_count": 10,
   "metadata": {},
   "outputs": [
    {
     "data": {
      "text/plain": [
       "0"
      ]
     },
     "execution_count": 10,
     "metadata": {},
     "output_type": "execute_result"
    }
   ],
   "source": [
    "df.Tenure.isnull().sum()"
   ]
  },
  {
   "cell_type": "markdown",
   "metadata": {},
   "source": [
    "**Разберемся с категориальными признаками**"
   ]
  },
  {
   "cell_type": "code",
   "execution_count": 11,
   "metadata": {},
   "outputs": [
    {
     "data": {
      "text/plain": [
       "Male      4974\n",
       "Female    4117\n",
       "Name: Gender, dtype: int64"
      ]
     },
     "execution_count": 11,
     "metadata": {},
     "output_type": "execute_result"
    }
   ],
   "source": [
    "# Проверим, что полов у нас всего два (на всякий случай)\n",
    "df['Gender'].value_counts()"
   ]
  },
  {
   "cell_type": "code",
   "execution_count": 12,
   "metadata": {},
   "outputs": [
    {
     "data": {
      "text/plain": [
       "France     4550\n",
       "Germany    2293\n",
       "Spain      2248\n",
       "Name: Geography, dtype: int64"
      ]
     },
     "execution_count": 12,
     "metadata": {},
     "output_type": "execute_result"
    }
   ],
   "source": [
    "# Посмотрим сколько у нас стран\n",
    "df['Geography'].value_counts()"
   ]
  },
  {
   "cell_type": "code",
   "execution_count": 13,
   "metadata": {},
   "outputs": [
    {
     "data": {
      "text/html": [
       "<div>\n",
       "<style scoped>\n",
       "    .dataframe tbody tr th:only-of-type {\n",
       "        vertical-align: middle;\n",
       "    }\n",
       "\n",
       "    .dataframe tbody tr th {\n",
       "        vertical-align: top;\n",
       "    }\n",
       "\n",
       "    .dataframe thead th {\n",
       "        text-align: right;\n",
       "    }\n",
       "</style>\n",
       "<table border=\"1\" class=\"dataframe\">\n",
       "  <thead>\n",
       "    <tr style=\"text-align: right;\">\n",
       "      <th></th>\n",
       "      <th>CreditScore</th>\n",
       "      <th>Age</th>\n",
       "      <th>Tenure</th>\n",
       "      <th>Balance</th>\n",
       "      <th>NumOfProducts</th>\n",
       "      <th>HasCrCard</th>\n",
       "      <th>IsActiveMember</th>\n",
       "      <th>EstimatedSalary</th>\n",
       "      <th>Exited</th>\n",
       "      <th>Geography_Germany</th>\n",
       "      <th>Geography_Spain</th>\n",
       "      <th>Gender_Male</th>\n",
       "    </tr>\n",
       "  </thead>\n",
       "  <tbody>\n",
       "    <tr>\n",
       "      <th>0</th>\n",
       "      <td>619</td>\n",
       "      <td>42</td>\n",
       "      <td>2.0</td>\n",
       "      <td>0.00</td>\n",
       "      <td>1</td>\n",
       "      <td>1</td>\n",
       "      <td>1</td>\n",
       "      <td>101348.88</td>\n",
       "      <td>1</td>\n",
       "      <td>0</td>\n",
       "      <td>0</td>\n",
       "      <td>0</td>\n",
       "    </tr>\n",
       "    <tr>\n",
       "      <th>1</th>\n",
       "      <td>608</td>\n",
       "      <td>41</td>\n",
       "      <td>1.0</td>\n",
       "      <td>83807.86</td>\n",
       "      <td>1</td>\n",
       "      <td>0</td>\n",
       "      <td>1</td>\n",
       "      <td>112542.58</td>\n",
       "      <td>0</td>\n",
       "      <td>0</td>\n",
       "      <td>1</td>\n",
       "      <td>0</td>\n",
       "    </tr>\n",
       "    <tr>\n",
       "      <th>2</th>\n",
       "      <td>502</td>\n",
       "      <td>42</td>\n",
       "      <td>8.0</td>\n",
       "      <td>159660.80</td>\n",
       "      <td>3</td>\n",
       "      <td>1</td>\n",
       "      <td>0</td>\n",
       "      <td>113931.57</td>\n",
       "      <td>1</td>\n",
       "      <td>0</td>\n",
       "      <td>0</td>\n",
       "      <td>0</td>\n",
       "    </tr>\n",
       "    <tr>\n",
       "      <th>3</th>\n",
       "      <td>699</td>\n",
       "      <td>39</td>\n",
       "      <td>1.0</td>\n",
       "      <td>0.00</td>\n",
       "      <td>2</td>\n",
       "      <td>0</td>\n",
       "      <td>0</td>\n",
       "      <td>93826.63</td>\n",
       "      <td>0</td>\n",
       "      <td>0</td>\n",
       "      <td>0</td>\n",
       "      <td>0</td>\n",
       "    </tr>\n",
       "    <tr>\n",
       "      <th>4</th>\n",
       "      <td>850</td>\n",
       "      <td>43</td>\n",
       "      <td>2.0</td>\n",
       "      <td>125510.82</td>\n",
       "      <td>1</td>\n",
       "      <td>1</td>\n",
       "      <td>1</td>\n",
       "      <td>79084.10</td>\n",
       "      <td>0</td>\n",
       "      <td>0</td>\n",
       "      <td>1</td>\n",
       "      <td>0</td>\n",
       "    </tr>\n",
       "    <tr>\n",
       "      <th>...</th>\n",
       "      <td>...</td>\n",
       "      <td>...</td>\n",
       "      <td>...</td>\n",
       "      <td>...</td>\n",
       "      <td>...</td>\n",
       "      <td>...</td>\n",
       "      <td>...</td>\n",
       "      <td>...</td>\n",
       "      <td>...</td>\n",
       "      <td>...</td>\n",
       "      <td>...</td>\n",
       "      <td>...</td>\n",
       "    </tr>\n",
       "    <tr>\n",
       "      <th>9994</th>\n",
       "      <td>800</td>\n",
       "      <td>29</td>\n",
       "      <td>2.0</td>\n",
       "      <td>0.00</td>\n",
       "      <td>2</td>\n",
       "      <td>0</td>\n",
       "      <td>0</td>\n",
       "      <td>167773.55</td>\n",
       "      <td>0</td>\n",
       "      <td>0</td>\n",
       "      <td>0</td>\n",
       "      <td>0</td>\n",
       "    </tr>\n",
       "    <tr>\n",
       "      <th>9995</th>\n",
       "      <td>771</td>\n",
       "      <td>39</td>\n",
       "      <td>5.0</td>\n",
       "      <td>0.00</td>\n",
       "      <td>2</td>\n",
       "      <td>1</td>\n",
       "      <td>0</td>\n",
       "      <td>96270.64</td>\n",
       "      <td>0</td>\n",
       "      <td>0</td>\n",
       "      <td>0</td>\n",
       "      <td>1</td>\n",
       "    </tr>\n",
       "    <tr>\n",
       "      <th>9996</th>\n",
       "      <td>516</td>\n",
       "      <td>35</td>\n",
       "      <td>10.0</td>\n",
       "      <td>57369.61</td>\n",
       "      <td>1</td>\n",
       "      <td>1</td>\n",
       "      <td>1</td>\n",
       "      <td>101699.77</td>\n",
       "      <td>0</td>\n",
       "      <td>0</td>\n",
       "      <td>0</td>\n",
       "      <td>1</td>\n",
       "    </tr>\n",
       "    <tr>\n",
       "      <th>9997</th>\n",
       "      <td>709</td>\n",
       "      <td>36</td>\n",
       "      <td>7.0</td>\n",
       "      <td>0.00</td>\n",
       "      <td>1</td>\n",
       "      <td>0</td>\n",
       "      <td>1</td>\n",
       "      <td>42085.58</td>\n",
       "      <td>1</td>\n",
       "      <td>0</td>\n",
       "      <td>0</td>\n",
       "      <td>0</td>\n",
       "    </tr>\n",
       "    <tr>\n",
       "      <th>9998</th>\n",
       "      <td>772</td>\n",
       "      <td>42</td>\n",
       "      <td>3.0</td>\n",
       "      <td>75075.31</td>\n",
       "      <td>2</td>\n",
       "      <td>1</td>\n",
       "      <td>0</td>\n",
       "      <td>92888.52</td>\n",
       "      <td>1</td>\n",
       "      <td>1</td>\n",
       "      <td>0</td>\n",
       "      <td>1</td>\n",
       "    </tr>\n",
       "  </tbody>\n",
       "</table>\n",
       "<p>9091 rows × 12 columns</p>\n",
       "</div>"
      ],
      "text/plain": [
       "      CreditScore  Age  Tenure    Balance  NumOfProducts  HasCrCard  \\\n",
       "0             619   42     2.0       0.00              1          1   \n",
       "1             608   41     1.0   83807.86              1          0   \n",
       "2             502   42     8.0  159660.80              3          1   \n",
       "3             699   39     1.0       0.00              2          0   \n",
       "4             850   43     2.0  125510.82              1          1   \n",
       "...           ...  ...     ...        ...            ...        ...   \n",
       "9994          800   29     2.0       0.00              2          0   \n",
       "9995          771   39     5.0       0.00              2          1   \n",
       "9996          516   35    10.0   57369.61              1          1   \n",
       "9997          709   36     7.0       0.00              1          0   \n",
       "9998          772   42     3.0   75075.31              2          1   \n",
       "\n",
       "      IsActiveMember  EstimatedSalary  Exited  Geography_Germany  \\\n",
       "0                  1        101348.88       1                  0   \n",
       "1                  1        112542.58       0                  0   \n",
       "2                  0        113931.57       1                  0   \n",
       "3                  0         93826.63       0                  0   \n",
       "4                  1         79084.10       0                  0   \n",
       "...              ...              ...     ...                ...   \n",
       "9994               0        167773.55       0                  0   \n",
       "9995               0         96270.64       0                  0   \n",
       "9996               1        101699.77       0                  0   \n",
       "9997               1         42085.58       1                  0   \n",
       "9998               0         92888.52       1                  1   \n",
       "\n",
       "      Geography_Spain  Gender_Male  \n",
       "0                   0            0  \n",
       "1                   1            0  \n",
       "2                   0            0  \n",
       "3                   0            0  \n",
       "4                   1            0  \n",
       "...               ...          ...  \n",
       "9994                0            0  \n",
       "9995                0            1  \n",
       "9996                0            1  \n",
       "9997                0            0  \n",
       "9998                0            1  \n",
       "\n",
       "[9091 rows x 12 columns]"
      ]
     },
     "execution_count": 13,
     "metadata": {},
     "output_type": "execute_result"
    }
   ],
   "source": [
    "# Т.к. полов всего два, достаточно заменить признак на 1-0,\n",
    "# но в целом OHE при удалении столбца даст тот же эффект, поэтому используем прямое кодирование\n",
    "# также малое количество стран позволяет им обойтись\n",
    "# к тому же OHE подойдет для всех трех моделей, поэтому остановимся на нем\n",
    "\n",
    "df_ohe = pd.get_dummies(df, drop_first=True)\n",
    "df_ohe"
   ]
  },
  {
   "cell_type": "code",
   "execution_count": 14,
   "metadata": {},
   "outputs": [
    {
     "name": "stdout",
     "output_type": "stream",
     "text": [
      "Target test count = 1819, Varget test count = 1818, Train test count = 5454\n"
     ]
    }
   ],
   "source": [
    "\n",
    "# Мы имеем явно большой масштаб числовых признаков, стандартизируем их\n",
    "\n",
    "# Поначалу пробовал делать сразу fit_transform на весь набор, но на консультации сказали, что так лучше не делать\n",
    "# поэтому сперва разобьем нашу выборку на тестовую и валидационную\n",
    "\n",
    "# Для начала отделим целевой признак\n",
    "\n",
    "target = df_ohe['Exited']\n",
    "features = df_ohe.drop('Exited', axis=1)\n",
    "\n",
    "# Определим random_state для всего проекта\n",
    "RANDOM_STATE = 12345\n",
    "\n",
    "# поскольку спрятанной тестовой выборки нет, поделим наш датасет на три в пропорции 60-20-20\n",
    "# сначала отделим набор на котором будем тренировать\n",
    "features_train, df_valid_ant_test_features, target_train, df_valid_ant_test_target = train_test_split(\n",
    "    features, target, test_size=0.4, random_state=RANDOM_STATE)\n",
    "\n",
    "# теперь разделим тестовую выборку от валидационной\n",
    "features_valid, features_test, target_valid, target_test = train_test_split(\n",
    "    df_valid_ant_test_features, df_valid_ant_test_target, test_size=0.5, random_state=RANDOM_STATE)\n",
    "\n",
    "del df_valid_ant_test_features, df_valid_ant_test_target\n",
    "\n",
    "# Проверим, что получилось\n",
    "print('Target test count = {}, Varget test count = {}, Train test count = {}'.format(target_test.count(), target_valid.count(), target_train.count()))"
   ]
  },
  {
   "cell_type": "code",
   "execution_count": 15,
   "metadata": {},
   "outputs": [
    {
     "data": {
      "text/html": [
       "<div>\n",
       "<style scoped>\n",
       "    .dataframe tbody tr th:only-of-type {\n",
       "        vertical-align: middle;\n",
       "    }\n",
       "\n",
       "    .dataframe tbody tr th {\n",
       "        vertical-align: top;\n",
       "    }\n",
       "\n",
       "    .dataframe thead th {\n",
       "        text-align: right;\n",
       "    }\n",
       "</style>\n",
       "<table border=\"1\" class=\"dataframe\">\n",
       "  <thead>\n",
       "    <tr style=\"text-align: right;\">\n",
       "      <th></th>\n",
       "      <th>CreditScore</th>\n",
       "      <th>Age</th>\n",
       "      <th>Tenure</th>\n",
       "      <th>Balance</th>\n",
       "      <th>NumOfProducts</th>\n",
       "      <th>HasCrCard</th>\n",
       "      <th>IsActiveMember</th>\n",
       "      <th>EstimatedSalary</th>\n",
       "      <th>Geography_Germany</th>\n",
       "      <th>Geography_Spain</th>\n",
       "      <th>Gender_Male</th>\n",
       "    </tr>\n",
       "  </thead>\n",
       "  <tbody>\n",
       "    <tr>\n",
       "      <th>9344</th>\n",
       "      <td>0.809075</td>\n",
       "      <td>-1.039327</td>\n",
       "      <td>-1.025995</td>\n",
       "      <td>0.554904</td>\n",
       "      <td>-0.908179</td>\n",
       "      <td>1</td>\n",
       "      <td>0</td>\n",
       "      <td>0.019508</td>\n",
       "      <td>0</td>\n",
       "      <td>0</td>\n",
       "      <td>0</td>\n",
       "    </tr>\n",
       "    <tr>\n",
       "      <th>3796</th>\n",
       "      <td>-1.152518</td>\n",
       "      <td>-1.227561</td>\n",
       "      <td>0.696524</td>\n",
       "      <td>0.480609</td>\n",
       "      <td>-0.908179</td>\n",
       "      <td>0</td>\n",
       "      <td>0</td>\n",
       "      <td>0.056167</td>\n",
       "      <td>0</td>\n",
       "      <td>0</td>\n",
       "      <td>1</td>\n",
       "    </tr>\n",
       "    <tr>\n",
       "      <th>7462</th>\n",
       "      <td>-0.398853</td>\n",
       "      <td>0.090079</td>\n",
       "      <td>1.385532</td>\n",
       "      <td>-1.237830</td>\n",
       "      <td>-0.908179</td>\n",
       "      <td>1</td>\n",
       "      <td>1</td>\n",
       "      <td>0.848738</td>\n",
       "      <td>0</td>\n",
       "      <td>0</td>\n",
       "      <td>1</td>\n",
       "    </tr>\n",
       "    <tr>\n",
       "      <th>1508</th>\n",
       "      <td>-0.749875</td>\n",
       "      <td>-0.286389</td>\n",
       "      <td>0.352020</td>\n",
       "      <td>-1.237830</td>\n",
       "      <td>0.809300</td>\n",
       "      <td>1</td>\n",
       "      <td>1</td>\n",
       "      <td>-0.894953</td>\n",
       "      <td>0</td>\n",
       "      <td>0</td>\n",
       "      <td>1</td>\n",
       "    </tr>\n",
       "    <tr>\n",
       "      <th>4478</th>\n",
       "      <td>-1.028628</td>\n",
       "      <td>-0.756975</td>\n",
       "      <td>-0.336987</td>\n",
       "      <td>-1.237830</td>\n",
       "      <td>0.809300</td>\n",
       "      <td>0</td>\n",
       "      <td>1</td>\n",
       "      <td>-1.284516</td>\n",
       "      <td>0</td>\n",
       "      <td>0</td>\n",
       "      <td>1</td>\n",
       "    </tr>\n",
       "    <tr>\n",
       "      <th>...</th>\n",
       "      <td>...</td>\n",
       "      <td>...</td>\n",
       "      <td>...</td>\n",
       "      <td>...</td>\n",
       "      <td>...</td>\n",
       "      <td>...</td>\n",
       "      <td>...</td>\n",
       "      <td>...</td>\n",
       "      <td>...</td>\n",
       "      <td>...</td>\n",
       "      <td>...</td>\n",
       "    </tr>\n",
       "    <tr>\n",
       "      <th>4938</th>\n",
       "      <td>1.283988</td>\n",
       "      <td>-0.474624</td>\n",
       "      <td>1.730036</td>\n",
       "      <td>0.813031</td>\n",
       "      <td>-0.908179</td>\n",
       "      <td>0</td>\n",
       "      <td>0</td>\n",
       "      <td>-1.092767</td>\n",
       "      <td>1</td>\n",
       "      <td>0</td>\n",
       "      <td>1</td>\n",
       "    </tr>\n",
       "    <tr>\n",
       "      <th>4529</th>\n",
       "      <td>0.158652</td>\n",
       "      <td>0.466548</td>\n",
       "      <td>1.041028</td>\n",
       "      <td>1.071609</td>\n",
       "      <td>-0.908179</td>\n",
       "      <td>1</td>\n",
       "      <td>1</td>\n",
       "      <td>0.260842</td>\n",
       "      <td>0</td>\n",
       "      <td>0</td>\n",
       "      <td>0</td>\n",
       "    </tr>\n",
       "    <tr>\n",
       "      <th>3866</th>\n",
       "      <td>-1.049276</td>\n",
       "      <td>-0.945210</td>\n",
       "      <td>0.352020</td>\n",
       "      <td>0.449165</td>\n",
       "      <td>-0.908179</td>\n",
       "      <td>1</td>\n",
       "      <td>1</td>\n",
       "      <td>-1.086965</td>\n",
       "      <td>0</td>\n",
       "      <td>0</td>\n",
       "      <td>0</td>\n",
       "    </tr>\n",
       "    <tr>\n",
       "      <th>2414</th>\n",
       "      <td>-0.956359</td>\n",
       "      <td>1.219485</td>\n",
       "      <td>1.385532</td>\n",
       "      <td>-1.237830</td>\n",
       "      <td>-0.908179</td>\n",
       "      <td>1</td>\n",
       "      <td>0</td>\n",
       "      <td>1.288527</td>\n",
       "      <td>0</td>\n",
       "      <td>0</td>\n",
       "      <td>0</td>\n",
       "    </tr>\n",
       "    <tr>\n",
       "      <th>5056</th>\n",
       "      <td>1.222043</td>\n",
       "      <td>-1.509912</td>\n",
       "      <td>-1.025995</td>\n",
       "      <td>1.015938</td>\n",
       "      <td>-0.908179</td>\n",
       "      <td>0</td>\n",
       "      <td>1</td>\n",
       "      <td>-1.244002</td>\n",
       "      <td>1</td>\n",
       "      <td>0</td>\n",
       "      <td>1</td>\n",
       "    </tr>\n",
       "  </tbody>\n",
       "</table>\n",
       "<p>5454 rows × 11 columns</p>\n",
       "</div>"
      ],
      "text/plain": [
       "      CreditScore       Age    Tenure   Balance  NumOfProducts  HasCrCard  \\\n",
       "9344     0.809075 -1.039327 -1.025995  0.554904      -0.908179          1   \n",
       "3796    -1.152518 -1.227561  0.696524  0.480609      -0.908179          0   \n",
       "7462    -0.398853  0.090079  1.385532 -1.237830      -0.908179          1   \n",
       "1508    -0.749875 -0.286389  0.352020 -1.237830       0.809300          1   \n",
       "4478    -1.028628 -0.756975 -0.336987 -1.237830       0.809300          0   \n",
       "...           ...       ...       ...       ...            ...        ...   \n",
       "4938     1.283988 -0.474624  1.730036  0.813031      -0.908179          0   \n",
       "4529     0.158652  0.466548  1.041028  1.071609      -0.908179          1   \n",
       "3866    -1.049276 -0.945210  0.352020  0.449165      -0.908179          1   \n",
       "2414    -0.956359  1.219485  1.385532 -1.237830      -0.908179          1   \n",
       "5056     1.222043 -1.509912 -1.025995  1.015938      -0.908179          0   \n",
       "\n",
       "      IsActiveMember  EstimatedSalary  Geography_Germany  Geography_Spain  \\\n",
       "9344               0         0.019508                  0                0   \n",
       "3796               0         0.056167                  0                0   \n",
       "7462               1         0.848738                  0                0   \n",
       "1508               1        -0.894953                  0                0   \n",
       "4478               1        -1.284516                  0                0   \n",
       "...              ...              ...                ...              ...   \n",
       "4938               0        -1.092767                  1                0   \n",
       "4529               1         0.260842                  0                0   \n",
       "3866               1        -1.086965                  0                0   \n",
       "2414               0         1.288527                  0                0   \n",
       "5056               1        -1.244002                  1                0   \n",
       "\n",
       "      Gender_Male  \n",
       "9344            0  \n",
       "3796            1  \n",
       "7462            1  \n",
       "1508            1  \n",
       "4478            1  \n",
       "...           ...  \n",
       "4938            1  \n",
       "4529            0  \n",
       "3866            0  \n",
       "2414            0  \n",
       "5056            1  \n",
       "\n",
       "[5454 rows x 11 columns]"
      ]
     },
     "execution_count": 15,
     "metadata": {},
     "output_type": "execute_result"
    }
   ],
   "source": [
    "# Стандартизируем признаки\n",
    "scaler = StandardScaler()\n",
    "numeric = ['CreditScore', 'Age', 'Tenure', 'Balance', 'NumOfProducts', 'EstimatedSalary']\n",
    "\n",
    "scaler.fit(features_train[numeric])\n",
    "\n",
    "pd.set_option('mode.chained_assignment', None)\n",
    "features_train[numeric] = scaler.transform(features_train[numeric])\n",
    "features_valid[numeric] = scaler.transform(features_valid[numeric])\n",
    "features_test[numeric] = scaler.transform(features_test[numeric])\n",
    "\n",
    "# посмотрим на тренировочной выборке что получилось\n",
    "features_train"
   ]
  },
  {
   "cell_type": "markdown",
   "metadata": {},
   "source": [
    "**Вывод**\n",
    "- Мы изучили данные, заполнили пропуски, привели типы к соответствующим значениям\n",
    "- Удалили признаки, которые нам вряд ли бы чем-то помогли\n",
    "- Посредством One-Hot Encoding преобразовали категориальные признаки в числовые\n",
    "- Привели числовые признаки к одному масштабу\n",
    "\n",
    "По итогу, мы подготовили данные для дальнейшего исследования"
   ]
  },
  {
   "cell_type": "markdown",
   "metadata": {},
   "source": [
    "## Исследование задачи"
   ]
  },
  {
   "cell_type": "code",
   "execution_count": 16,
   "metadata": {},
   "outputs": [
    {
     "data": {
      "text/plain": [
       "<AxesSubplot:title={'center':'Распределение целевого признака'}, xlabel='Значение признака', ylabel='Количество записей с соответствующим значением'>"
      ]
     },
     "execution_count": 16,
     "metadata": {},
     "output_type": "execute_result"
    },
    {
     "data": {
      "image/png": "[encoded data removed]",
      "text/plain": [
       "<Figure size 1152x576 with 1 Axes>"
      ]
     },
     "metadata": {
      "needs_background": "light"
     },
     "output_type": "display_data"
    }
   ],
   "source": [
    "# Посмотрим на распределение значений целевого признака\n",
    "fig, ax = plt.subplots(1)\n",
    "ax.set_title('Распределение целевого признака')\n",
    "ax.set_xlabel('Значение признака')\n",
    "ax.set_ylabel('Количество записей с соответствующим значением')\n",
    "target.value_counts().plot(kind='bar', figsize=(16,8), ax=ax)"
   ]
  },
  {
   "cell_type": "markdown",
   "metadata": {},
   "source": [
    "Очевидно, что имеем существенный перекос в данных в пользу тех, кто еще не прекратил отношения с банком. Для наших моделей это может быть плохо, но пока будем работать с тем, что есть."
   ]
  },
  {
   "cell_type": "code",
   "execution_count": 17,
   "metadata": {},
   "outputs": [],
   "source": [
    "# Поскольку мы все равно будем исследовать все метрики, а они имеют одинаковую сигнатуру,\n",
    "# имеет смысл объеденить вывод в одну функцию, чтобы сразу получать все интересующие данные\n",
    "\n",
    "def print_full_scrore_info_title():\n",
    "    print('|{: >9}|{: >9}|{: >9}|{: >9}|{: >7}|{: >7}|{: >7}|{: >7}|'.format('Accuracy', 'Recall', 'Precision', 'F1', 'TP', 'TN', 'FP', 'FN'))\n",
    "\n",
    "def print_full_score_info(predicted, target):\n",
    "    \n",
    "    accuracy = accuracy_score(target, predicted)\n",
    "    recall = recall_score(target, predicted)\n",
    "    precision = precision_score(target, predicted)\n",
    "    f1 = f1_score(target, predicted)\n",
    "    \n",
    "    confusion_m = confusion_matrix(target, predicted);\n",
    "    TN = confusion_m[0][0]\n",
    "    TP = confusion_m[1][1]\n",
    "    FN = confusion_m[1][0]\n",
    "    FP = confusion_m[0][1]\n",
    "    \n",
    "    print('|{: >9.7f}|{: >9.7f}|{: >9.7f}|{: >9.7f}|{: >7}|{: >7}|{: >7}|{: >7}|'.format(accuracy, recall, precision, f1, TP, TN, FP, FN))"
   ]
  },
  {
   "cell_type": "markdown",
   "metadata": {},
   "source": [
    "**Переделал код**"
   ]
  },
  {
   "cell_type": "code",
   "execution_count": 18,
   "metadata": {},
   "outputs": [],
   "source": [
    "# Изучим модели без учета дисбаланса\n",
    "# Начнем с дерева решений\n",
    "\n",
    "# определим глобальный массив, где будем сохранять наши лучшие результаты\n",
    "best_results = dict()\n",
    "best_results['decision_tree'] = dict()\n",
    "best_results['logistic_regression'] = dict()\n",
    "best_results['random_forest'] = dict()\n",
    "\n",
    "# напишем функцию по выводу информации по нашей модели\n",
    "def check_decision_tree(features_train, target_train, class_weight, train_type):\n",
    "    print('Decision tree')\n",
    "    print('|{: >9}'.format('max_depth'), end='')\n",
    "    print_full_scrore_info_title()\n",
    "    \n",
    "    # будем сразу считать лучшую меру и параметры, чтобы не искать глазами\n",
    "    best_f1 = 0\n",
    "    best_max_depth = 0\n",
    "    for max_depth in range(2, 11, 1):\n",
    "        model = DecisionTreeClassifier(max_depth=max_depth, random_state=RANDOM_STATE, class_weight=class_weight)\n",
    "        model.fit(features_train, target_train)\n",
    "        predicted_valid = model.predict(features_valid)\n",
    "        probabilities_valid = model.predict_proba(features_valid)\n",
    "        probabilities_one_valid = probabilities_valid[:, 1]\n",
    "        auc_roc = roc_auc_score(target_valid, probabilities_one_valid)\n",
    "        print('    Значение AUC-ROC: {:.2f}'.format(auc_roc))\n",
    "        print('|{: >9}'.format(max_depth), end='')\n",
    "        print_full_score_info(target_valid, predicted_valid)\n",
    "        \n",
    "        current_f1 = f1_score(target_valid, predicted_valid)\n",
    "        if (current_f1 > best_f1):\n",
    "            best_f1 = current_f1\n",
    "            best_max_depth = max_depth\n",
    "    \n",
    "    # воспользуемся тем, что питон будет искать наш словарь глобально\n",
    "    best_results['decision_tree'][train_type] = dict()\n",
    "    best_results['decision_tree'][train_type]['params'] = 'max_depth=' + str(best_max_depth)\n",
    "    best_results['decision_tree'][train_type]['f1'] = best_f1\n"
   ]
  },
  {
   "cell_type": "code",
   "execution_count": 19,
   "metadata": {},
   "outputs": [
    {
     "name": "stdout",
     "output_type": "stream",
     "text": [
      "Decision tree\n",
      "|max_depth| Accuracy|   Recall|Precision|       F1|     TP|     TN|     FP|     FN|\n",
      "    Значение AUC-ROC: 0.76\n",
      "|        2|0.8305831|0.6236559|0.4615385|0.5304878|    174|   1336|    203|    105|\n",
      "    Значение AUC-ROC: 0.80\n",
      "|        3|0.8333333|0.8490566|0.2387268|0.3726708|     90|   1425|    287|     16|\n",
      "    Значение AUC-ROC: 0.82\n",
      "|        4|0.8509351|0.7476636|0.4244032|0.5414552|    160|   1387|    217|     54|\n",
      "    Значение AUC-ROC: 0.85\n",
      "|        5|0.8575358|0.8782051|0.3633952|0.5140713|    137|   1422|    240|     19|\n",
      "    Значение AUC-ROC: 0.85\n",
      "|        6|0.8586359|0.7884615|0.4350133|0.5606838|    164|   1397|    213|     44|\n",
      "    Значение AUC-ROC: 0.83\n",
      "|        7|0.8536854|0.7211155|0.4801061|0.5764331|    181|   1371|    196|     70|\n",
      "    Значение AUC-ROC: 0.81\n",
      "|        8|0.8443344|0.6958333|0.4429708|0.5413290|    167|   1368|    210|     73|\n",
      "    Значение AUC-ROC: 0.79\n",
      "|        9|0.8371837|0.6483516|0.4694960|0.5446154|    177|   1345|    200|     96|\n",
      "    Значение AUC-ROC: 0.76\n",
      "|       10|0.8250825|0.6072727|0.4429708|0.5122699|    167|   1333|    210|    108|\n"
     ]
    }
   ],
   "source": [
    "# исследуем дерево решений\n",
    "\n",
    "check_decision_tree(features_train, target_train, None, 'default')"
   ]
  },
  {
   "cell_type": "code",
   "execution_count": 20,
   "metadata": {},
   "outputs": [
    {
     "name": "stdout",
     "output_type": "stream",
     "text": [
      "Logistic regression\n",
      "| Accuracy|   Recall|Precision|       F1|     TP|     TN|     FP|     FN|\n",
      "|0.8085809|0.6178862|0.2015915|0.3040000|     76|   1394|    301|     47|\n"
     ]
    }
   ],
   "source": [
    "# Посмотрим на регрессию\n",
    "\n",
    "def check_logistic_regression(features_train, target_train, class_weight, train_type):\n",
    "    print('Logistic regression')\n",
    "    print_full_scrore_info_title()\n",
    "    \n",
    "    model = LogisticRegression(solver='liblinear', random_state=RANDOM_STATE, class_weight=class_weight)\n",
    "    model.fit(features_train, target_train)\n",
    "    predicted_valid = model.predict(features_valid)\n",
    "    print_full_score_info(target_valid, predicted_valid)\n",
    "    \n",
    "    # воспользуемся тем, что питон будет искать наш словарь глобально\n",
    "    best_results['logistic_regression'][train_type] = dict()\n",
    "    best_results['logistic_regression'][train_type]['params'] = '-'\n",
    "    best_results['logistic_regression'][train_type]['f1'] = f1_score(target_valid, predicted_valid)\n",
    "    \n",
    "check_logistic_regression(features_train, target_train, None, 'default')"
   ]
  },
  {
   "cell_type": "code",
   "execution_count": 21,
   "metadata": {},
   "outputs": [
    {
     "name": "stdout",
     "output_type": "stream",
     "text": [
      "Decision tree\n",
      "|n_estimators|max_depth|| Accuracy|   Recall|Precision|       F1|     TP|     TN|     FP|     FN|\n",
      "\n",
      "    Значение AUC-ROC: 0.83\n",
      "|           5|        5||0.8514851|0.7988827|0.3793103|0.5143885|    143|   1405|    234|     36|\n",
      "    Значение AUC-ROC: 0.83\n",
      "|           5|       10||0.8509351|0.7264957|0.4509284|0.5564648|    170|   1377|    207|     64|\n",
      "    Значение AUC-ROC: 0.81\n",
      "|           5|       15||0.8520352|0.7014925|0.4986737|0.5829457|    188|   1361|    189|     80|\n",
      "    Значение AUC-ROC: 0.79\n",
      "|           5|       20||0.8371837|0.6516854|0.4615385|0.5403727|    174|   1348|    203|     93|\n",
      "    Значение AUC-ROC: 0.79\n",
      "|           5|       25||0.8278328|0.6081081|0.4774536|0.5349183|    180|   1325|    197|    116|\n",
      "\n",
      "    Значение AUC-ROC: 0.85\n",
      "|          10|        5||0.8542354|0.8500000|0.3607427|0.5065177|    136|   1417|    241|     24|\n",
      "    Значение AUC-ROC: 0.85\n",
      "|          10|       10||0.8536854|0.7511312|0.4403183|0.5551839|    166|   1386|    211|     55|\n",
      "    Значение AUC-ROC: 0.84\n",
      "|          10|       15||0.8525853|0.7319149|0.4562334|0.5620915|    172|   1378|    205|     63|\n",
      "    Значение AUC-ROC: 0.83\n",
      "|          10|       20||0.8558856|0.7555556|0.4509284|0.5647841|    170|   1386|    207|     55|\n",
      "    Значение AUC-ROC: 0.83\n",
      "|          10|       25||0.8509351|0.7431193|0.4297082|0.5445378|    162|   1385|    215|     56|\n",
      "\n",
      "    Значение AUC-ROC: 0.86\n",
      "|          15|        5||0.8542354|0.8500000|0.3607427|0.5065177|    136|   1417|    241|     24|\n",
      "    Значение AUC-ROC: 0.86\n",
      "|          15|       10||0.8586359|0.7857143|0.4376658|0.5621806|    165|   1396|    212|     45|\n",
      "    Значение AUC-ROC: 0.85\n",
      "|          15|       15||0.8542354|0.7372881|0.4615385|0.5676998|    174|   1379|    203|     62|\n",
      "    Значение AUC-ROC: 0.85\n",
      "|          15|       20||0.8558856|0.7272727|0.4880637|0.5841270|    184|   1372|    193|     69|\n",
      "    Значение AUC-ROC: 0.84\n",
      "|          15|       25||0.8591859|0.7372549|0.4986737|0.5949367|    188|   1374|    189|     67|\n",
      "\n",
      "    Значение AUC-ROC: 0.86\n",
      "|          20|        5||0.8553355|0.8433735|0.3713528|0.5156538|    140|   1415|    237|     26|\n",
      "    Значение AUC-ROC: 0.86\n",
      "|          20|       10||0.8630363|0.8047619|0.4482759|0.5758092|    169|   1400|    208|     41|\n",
      "    Значение AUC-ROC: 0.86\n",
      "|          20|       15||0.8608361|0.7672414|0.4721485|0.5845649|    178|   1387|    199|     54|\n",
      "    Значение AUC-ROC: 0.85\n",
      "|          20|       20||0.8580858|0.7598253|0.4615385|0.5742574|    174|   1386|    203|     55|\n",
      "    Значение AUC-ROC: 0.85\n",
      "|          20|       25||0.8553355|0.7435897|0.4615385|0.5695581|    174|   1381|    203|     60|\n",
      "\n",
      "    Значение AUC-ROC: 0.86\n",
      "|          25|        5||0.8542354|0.8456790|0.3633952|0.5083488|    137|   1416|    240|     25|\n",
      "    Значение AUC-ROC: 0.86\n",
      "|          25|       10||0.8624862|0.8038278|0.4456233|0.5733788|    168|   1400|    209|     41|\n",
      "    Значение AUC-ROC: 0.86\n",
      "|          25|       15||0.8575358|0.7500000|0.4694960|0.5774878|    177|   1382|    200|     59|\n",
      "    Значение AUC-ROC: 0.85\n",
      "|          25|       20||0.8641364|0.7663934|0.4960212|0.6022544|    187|   1384|    190|     57|\n",
      "    Значение AUC-ROC: 0.85\n",
      "|          25|       25||0.8569857|0.7387755|0.4801061|0.5819936|    181|   1377|    196|     64|\n",
      "\n"
     ]
    }
   ],
   "source": [
    "# исследуем случайный лес\n",
    "\n",
    "def check_random_forest(features_train, target_train, class_weight, train_type):\n",
    "    print('Decision tree')\n",
    "    print('|{: >12}|{: >9}|'.format('n_estimators', 'max_depth'), end='')\n",
    "    print_full_scrore_info_title()\n",
    "    print()\n",
    "    \n",
    "    # будем сразу считать лучшую меру и параметры, чтобы не искать глазами\n",
    "    best_f1 = 0\n",
    "    best_max_depth = 0\n",
    "    best_n_estimators = 0\n",
    "    \n",
    "    for estim in range(5, 26, 5):\n",
    "        for max_depth in range(5, 26, 5):\n",
    "            model = RandomForestClassifier(n_estimators=estim, max_depth=max_depth, random_state=RANDOM_STATE, class_weight=class_weight)\n",
    "            model.fit(features_train, target_train)\n",
    "            predicted_valid = model.predict(features_valid)\n",
    "            predicted_valid = model.predict(features_valid)\n",
    "            probabilities_valid = model.predict_proba(features_valid)\n",
    "            probabilities_one_valid = probabilities_valid[:, 1]\n",
    "            auc_roc = roc_auc_score(target_valid, probabilities_one_valid)\n",
    "            print('    Значение AUC-ROC: {:.2f}'.format(auc_roc))\n",
    "            print('|{: >12}|{: >9}|'.format(estim, max_depth), end='')\n",
    "            print_full_score_info(target_valid, predicted_valid)\n",
    "            \n",
    "            f1 = f1_score(target_valid, predicted_valid)\n",
    "            if (f1 > best_f1):\n",
    "                best_f1 = f1\n",
    "                best_max_depth = max_depth\n",
    "                best_n_estimators = estim\n",
    "        \n",
    "        print() # для разделения вывода по количеству деревьев\n",
    "    \n",
    "    # воспользуемся тем, что питон будет искать наш словарь глобально\n",
    "    best_results['random_forest'][train_type] = dict()\n",
    "    best_results['random_forest'][train_type]['params'] = 'estim=' + str(best_n_estimators) + '; max_depth=' + str(best_max_depth)\n",
    "    best_results['random_forest'][train_type]['f1'] = best_f1\n",
    "        \n",
    "check_random_forest(features_train, target_train, None, 'default')"
   ]
  },
  {
   "cell_type": "markdown",
   "metadata": {},
   "source": [
    "**Вывод**\n",
    "1. В текущем виде нам никак не удастся достигнуть F1-меры выше 0,59\n",
    "2. Все модели неплохо предсказывают негативные исходы, но ошибаются в половине или более случаев при предсказывании положительного исхода \n",
    "3. Лучший результат по F1 мере показал случайный лес\n",
    "4. В целом результат случайного леса сопоставим с деревом решений - имеем относительно высокую точность при полноте ниже среднего\n",
    "5. Худший результат показала регрессия, результат не был ни точным, ни полным.\n",
    "6. При этом да, accuracy во всех случаях выглядит очень аппетитно и не нужным"
   ]
  },
  {
   "cell_type": "markdown",
   "metadata": {},
   "source": [
    "## Борьба с дисбалансом"
   ]
  },
  {
   "cell_type": "markdown",
   "metadata": {},
   "source": [
    "**Взвешивание классов**"
   ]
  },
  {
   "cell_type": "code",
   "execution_count": 22,
   "metadata": {},
   "outputs": [
    {
     "name": "stdout",
     "output_type": "stream",
     "text": [
      "Decision tree\n",
      "|max_depth| Accuracy|   Recall|Precision|       F1|     TP|     TN|     FP|     FN|\n",
      "    Значение AUC-ROC: 0.76\n",
      "|        2|0.7392739|0.4231379|0.7082228|0.5297619|    267|   1077|    110|    364|\n",
      "    Значение AUC-ROC: 0.79\n",
      "|        3|0.7667767|0.4582593|0.6843501|0.5489362|    258|   1136|    119|    305|\n",
      "    Значение AUC-ROC: 0.82\n",
      "|        4|0.7266227|0.4164345|0.7931034|0.5461187|    299|   1022|     78|    419|\n",
      "    Значение AUC-ROC: 0.84\n",
      "|        5|0.7783278|0.4771127|0.7188329|0.5735450|    271|   1144|    106|    297|\n",
      "    Значение AUC-ROC: 0.83\n",
      "|        6|0.7447745|0.4364964|0.7931034|0.5630885|    299|   1055|     78|    386|\n",
      "    Значение AUC-ROC: 0.81\n",
      "|        7|0.7315732|0.4192140|0.7639257|0.5413534|    288|   1042|     89|    399|\n",
      "    Значение AUC-ROC: 0.79\n",
      "|        8|0.7744774|0.4700544|0.6870027|0.5581897|    259|   1149|    118|    292|\n",
      "    Значение AUC-ROC: 0.76\n",
      "|        9|0.7508251|0.4296296|0.6153846|0.5059978|    232|   1133|    145|    308|\n",
      "    Значение AUC-ROC: 0.73\n",
      "|       10|0.7568757|0.4394786|0.6259947|0.5164114|    236|   1140|    141|    301|\n"
     ]
    }
   ],
   "source": [
    "# Для начала проверим чего мы сможем добиться путем простого взвешивания классов\n",
    "# Начнем с дерева решений\n",
    "\n",
    "check_decision_tree(features_train, target_train, 'balanced', 'balanced')"
   ]
  },
  {
   "cell_type": "markdown",
   "metadata": {},
   "source": [
    "**Промежуточный вывод**\n",
    "\n",
    "- Нет просадки на уровне 3, что была до этого\n",
    "- Лучший F1 получили на 5м уровне (0.5735450) и уже удалось перейти порог\n",
    "- Мы улучшили F1, модель стала получше искать положительные ответы и нам даже удалось добиться порогового значения"
   ]
  },
  {
   "cell_type": "code",
   "execution_count": 23,
   "metadata": {},
   "outputs": [
    {
     "name": "stdout",
     "output_type": "stream",
     "text": [
      "Logistic regression\n",
      "| Accuracy|   Recall|Precision|       F1|     TP|     TN|     FP|     FN|\n",
      "|0.7090209|0.3917379|0.7294430|0.5097312|    275|   1014|    102|    427|\n"
     ]
    }
   ],
   "source": [
    "# Посмотрим, как дела с логистической регрессией\n",
    "\n",
    "check_logistic_regression(features_train, target_train, 'balanced', 'balanced')"
   ]
  },
  {
   "cell_type": "markdown",
   "metadata": {},
   "source": [
    "**Промежуточный вывод**\n",
    "\n",
    "- Ощутимо улучшилась полнота, но также ощутимо упала точность\n",
    "- F1 по прежнему имеет плохой результат и далеко от целевого признака"
   ]
  },
  {
   "cell_type": "code",
   "execution_count": 24,
   "metadata": {},
   "outputs": [
    {
     "name": "stdout",
     "output_type": "stream",
     "text": [
      "Decision tree\n",
      "|n_estimators|max_depth|| Accuracy|   Recall|Precision|       F1|     TP|     TN|     FP|     FN|\n",
      "\n",
      "    Значение AUC-ROC: 0.85\n",
      "|           5|        5||0.7832783|0.4852174|0.7400531|0.5861345|    279|   1145|     98|    296|\n",
      "    Значение AUC-ROC: 0.84\n",
      "|           5|       10||0.8151815|0.5446623|0.6631300|0.5980861|    250|   1232|    127|    209|\n",
      "    Значение AUC-ROC: 0.82\n",
      "|           5|       15||0.8421342|0.6323529|0.5702918|0.5997211|    215|   1316|    162|    125|\n",
      "    Значение AUC-ROC: 0.80\n",
      "|           5|       20||0.8492849|0.6973180|0.4827586|0.5705329|    182|   1362|    195|     79|\n",
      "    Значение AUC-ROC: 0.81\n",
      "|           5|       25||0.8498350|0.6984733|0.4854111|0.5727700|    183|   1362|    194|     79|\n",
      "\n",
      "    Значение AUC-ROC: 0.85\n",
      "|          10|        5||0.7893289|0.4945455|0.7214854|0.5868393|    272|   1163|    105|    278|\n",
      "    Значение AUC-ROC: 0.85\n",
      "|          10|       10||0.8184818|0.5569007|0.6100796|0.5822785|    230|   1258|    147|    183|\n",
      "    Значение AUC-ROC: 0.85\n",
      "|          10|       15||0.8509351|0.6977612|0.4960212|0.5798450|    187|   1360|    190|     81|\n",
      "    Значение AUC-ROC: 0.83\n",
      "|          10|       20||0.8542354|0.7692308|0.4244032|0.5470085|    160|   1393|    217|     48|\n",
      "    Значение AUC-ROC: 0.84\n",
      "|          10|       25||0.8509351|0.7598039|0.4111406|0.5335628|    155|   1392|    222|     49|\n",
      "\n",
      "    Значение AUC-ROC: 0.86\n",
      "|          15|        5||0.7937294|0.5018248|0.7294430|0.5945946|    275|   1168|    102|    273|\n",
      "    Значение AUC-ROC: 0.85\n",
      "|          15|       10||0.8388339|0.6076923|0.6286472|0.6179922|    237|   1288|    140|    153|\n",
      "    Значение AUC-ROC: 0.85\n",
      "|          15|       15||0.8520352|0.6985294|0.5039788|0.5855162|    190|   1359|    187|     82|\n",
      "    Значение AUC-ROC: 0.84\n",
      "|          15|       20||0.8597360|0.7652174|0.4668435|0.5799012|    176|   1387|    201|     54|\n",
      "    Значение AUC-ROC: 0.84\n",
      "|          15|       25||0.8531353|0.7391304|0.4509284|0.5601318|    170|   1381|    207|     60|\n",
      "\n",
      "    Значение AUC-ROC: 0.86\n",
      "|          20|        5||0.7970297|0.5074074|0.7267905|0.5976009|    274|   1175|    103|    266|\n",
      "    Значение AUC-ROC: 0.86\n",
      "|          20|       10||0.8344334|0.5945274|0.6339523|0.6136072|    239|   1278|    138|    163|\n",
      "    Значение AUC-ROC: 0.86\n",
      "|          20|       15||0.8531353|0.7148438|0.4854111|0.5781991|    183|   1368|    194|     73|\n",
      "    Значение AUC-ROC: 0.85\n",
      "|          20|       20||0.8580858|0.7644444|0.4562334|0.5714286|    172|   1388|    205|     53|\n",
      "    Значение AUC-ROC: 0.85\n",
      "|          20|       25||0.8531353|0.7546296|0.4323607|0.5497470|    163|   1388|    214|     53|\n",
      "\n",
      "    Значение AUC-ROC: 0.86\n",
      "|          25|        5||0.7981298|0.5093284|0.7241379|0.5980285|    273|   1178|    104|    263|\n",
      "    Значение AUC-ROC: 0.86\n",
      "|          25|       10||0.8327833|0.5905707|0.6312997|0.6102564|    238|   1276|    139|    165|\n",
      "    Значение AUC-ROC: 0.85\n",
      "|          25|       15||0.8564356|0.7196970|0.5039788|0.5928237|    190|   1367|    187|     74|\n",
      "    Значение AUC-ROC: 0.85\n",
      "|          25|       20||0.8547855|0.7383966|0.4641910|0.5700326|    175|   1379|    202|     62|\n",
      "    Значение AUC-ROC: 0.85\n",
      "|          25|       25||0.8547855|0.7344398|0.4694960|0.5728155|    177|   1377|    200|     64|\n",
      "\n"
     ]
    }
   ],
   "source": [
    "# Смотрим, как дела обстоят со случайным лесом\n",
    "\n",
    "check_random_forest(features_train, target_train, 'balanced', 'balanced')"
   ]
  },
  {
   "cell_type": "markdown",
   "metadata": {},
   "source": [
    "**Промежуточный вывод по взвешиванию классов**\n",
    "1. Имеем хорошую точность, но посредственную полноту (за редким исключением)\n",
    "2. Также добились нужного значения F1 меры, при чем, как в дереве решений, так и в случайном лесе. Случайный лес победил\n",
    "2. Что интересно, увеличение глубины деревьев повышает точность, но снижает полноту\n",
    "3. В целом сравнительный результат моделей с взвешиванием и без него неизменился - логистическая регрессия также на последнем месте, дерево решений показывает относительно неплохой, но недостаточный результат."
   ]
  },
  {
   "cell_type": "markdown",
   "metadata": {},
   "source": [
    "**Upsampling**"
   ]
  },
  {
   "cell_type": "code",
   "execution_count": 25,
   "metadata": {},
   "outputs": [
    {
     "data": {
      "text/plain": [
       "0.2561835014508774"
      ]
     },
     "execution_count": 25,
     "metadata": {},
     "output_type": "execute_result"
    }
   ],
   "source": [
    "# Не будем останавливаться на достигнутом, попробуем увелечение выборки\n",
    "\n",
    "# поскольку модели лучше учатся при соотношении 50 на 50, для начала вычислим коэффицент\n",
    "# насколько больше у нас отрицательных значений\n",
    "\n",
    "coef = target[target == 1].count() / target[target == 0].count()\n",
    "coef"
   ]
  },
  {
   "cell_type": "code",
   "execution_count": 26,
   "metadata": {},
   "outputs": [
    {
     "name": "stdout",
     "output_type": "stream",
     "text": [
      "(8832, 11)\n",
      "(8832,)\n"
     ]
    }
   ],
   "source": [
    "# напишем функцию, которая будет увеличивать нашу выборку с учетом коэффицента\n",
    "\n",
    "def upsample(features, target, repeat):\n",
    "\n",
    "    features_zeros = features[target == 0]\n",
    "    features_ones = features[target == 1]\n",
    "    target_zeros = target[target == 0]\n",
    "    target_ones = target[target == 1]\n",
    "\n",
    "    repeat = repeat\n",
    "    features_upsampled = pd.concat([features_zeros] + [features_ones] * repeat)\n",
    "    target_upsampled = pd.concat([target_zeros] + [target_ones] * repeat)\n",
    "    \n",
    "    features_upsampled, target_upsampled = shuffle(features_upsampled, target_upsampled, random_state=12345)\n",
    "    return features_upsampled, target_upsampled\n",
    "\n",
    "features_upsampled, target_upsampled = upsample(features_train, target_train, 4)\n",
    "\n",
    "print(features_upsampled.shape)\n",
    "print(target_upsampled.shape)"
   ]
  },
  {
   "cell_type": "code",
   "execution_count": 27,
   "metadata": {},
   "outputs": [
    {
     "data": {
      "text/plain": [
       "1    4504\n",
       "0    4328\n",
       "Name: Exited, dtype: int64"
      ]
     },
     "execution_count": 27,
     "metadata": {},
     "output_type": "execute_result"
    }
   ],
   "source": [
    "# Проверим, что выборки поменялись\n",
    "target_upsampled.value_counts()"
   ]
  },
  {
   "cell_type": "code",
   "execution_count": 28,
   "metadata": {},
   "outputs": [
    {
     "name": "stdout",
     "output_type": "stream",
     "text": [
      "Decision tree\n",
      "|max_depth| Accuracy|   Recall|Precision|       F1|     TP|     TN|     FP|     FN|\n",
      "    Значение AUC-ROC: 0.76\n",
      "|        2|0.7392739|0.4231379|0.7082228|0.5297619|    267|   1077|    110|    364|\n",
      "    Значение AUC-ROC: 0.79\n",
      "|        3|0.7667767|0.4582593|0.6843501|0.5489362|    258|   1136|    119|    305|\n",
      "    Значение AUC-ROC: 0.82\n",
      "|        4|0.7266227|0.4164345|0.7931034|0.5461187|    299|   1022|     78|    419|\n",
      "    Значение AUC-ROC: 0.84\n",
      "|        5|0.7783278|0.4771127|0.7188329|0.5735450|    271|   1144|    106|    297|\n",
      "    Значение AUC-ROC: 0.83\n",
      "|        6|0.7447745|0.4364964|0.7931034|0.5630885|    299|   1055|     78|    386|\n",
      "    Значение AUC-ROC: 0.81\n",
      "|        7|0.7315732|0.4192140|0.7639257|0.5413534|    288|   1042|     89|    399|\n",
      "    Значение AUC-ROC: 0.79\n",
      "|        8|0.7700770|0.4639719|0.7002653|0.5581395|    264|   1136|    113|    305|\n",
      "    Значение AUC-ROC: 0.77\n",
      "|        9|0.7574257|0.4400749|0.6233422|0.5159166|    235|   1142|    142|    299|\n",
      "    Значение AUC-ROC: 0.73\n",
      "|       10|0.7508251|0.4296296|0.6153846|0.5059978|    232|   1133|    145|    308|\n"
     ]
    }
   ],
   "source": [
    "# Проверим, что стало с деревом решений\n",
    "\n",
    "check_decision_tree(features_upsampled, target_upsampled, None, 'upsample')"
   ]
  },
  {
   "cell_type": "code",
   "execution_count": 29,
   "metadata": {},
   "outputs": [
    {
     "name": "stdout",
     "output_type": "stream",
     "text": [
      "Logistic regression\n",
      "| Accuracy|   Recall|Precision|       F1|     TP|     TN|     FP|     FN|\n",
      "|0.7013201|0.3859890|0.7453581|0.5085973|    281|    994|     96|    447|\n"
     ]
    }
   ],
   "source": [
    "# Проверим логистическую регрессию\n",
    "check_logistic_regression(features_upsampled, target_upsampled, None, 'upsample')"
   ]
  },
  {
   "cell_type": "markdown",
   "metadata": {},
   "source": [
    "*Удивительно, но мы получили почти те же результаты в двух случаях, что и при использовании class_weight='balanced'*"
   ]
  },
  {
   "cell_type": "code",
   "execution_count": 30,
   "metadata": {},
   "outputs": [
    {
     "name": "stdout",
     "output_type": "stream",
     "text": [
      "Decision tree\n",
      "|n_estimators|max_depth|| Accuracy|   Recall|Precision|       F1|     TP|     TN|     FP|     FN|\n",
      "\n",
      "    Значение AUC-ROC: 0.84\n",
      "|           5|        5||0.7645765|0.4585366|0.7480106|0.5685484|    282|   1108|     95|    333|\n",
      "    Значение AUC-ROC: 0.83\n",
      "|           5|       10||0.8047305|0.5237069|0.6445623|0.5778835|    243|   1220|    134|    221|\n",
      "    Значение AUC-ROC: 0.80\n",
      "|           5|       15||0.8184818|0.5630027|0.5570292|0.5600000|    210|   1278|    167|    163|\n",
      "    Значение AUC-ROC: 0.79\n",
      "|           5|       20||0.8272827|0.5877437|0.5596817|0.5733696|    211|   1293|    166|    148|\n",
      "    Значение AUC-ROC: 0.79\n",
      "|           5|       25||0.8223322|0.5737705|0.5570292|0.5652759|    210|   1285|    167|    156|\n",
      "\n",
      "    Значение AUC-ROC: 0.85\n",
      "|          10|        5||0.7942794|0.5026178|0.7639257|0.6063158|    288|   1156|     89|    285|\n",
      "    Значение AUC-ROC: 0.85\n",
      "|          10|       10||0.8140814|0.5421166|0.6657825|0.5976190|    251|   1229|    126|    212|\n",
      "    Значение AUC-ROC: 0.83\n",
      "|          10|       15||0.8327833|0.6028169|0.5676393|0.5846995|    214|   1300|    163|    141|\n",
      "    Значение AUC-ROC: 0.82\n",
      "|          10|       20||0.8443344|0.6598639|0.5145889|0.5782414|    194|   1341|    183|    100|\n",
      "    Значение AUC-ROC: 0.83\n",
      "|          10|       25||0.8410341|0.6428571|0.5251989|0.5781022|    198|   1331|    179|    110|\n",
      "\n",
      "    Значение AUC-ROC: 0.86\n",
      "|          15|        5||0.7920792|0.4991334|0.7639257|0.6037736|    288|   1152|     89|    289|\n",
      "    Значение AUC-ROC: 0.86\n",
      "|          15|       10||0.8195820|0.5526882|0.6816976|0.6104513|    257|   1233|    120|    208|\n",
      "    Значение AUC-ROC: 0.85\n",
      "|          15|       15||0.8371837|0.6121884|0.5862069|0.5989160|    221|   1301|    156|    140|\n",
      "    Значение AUC-ROC: 0.84\n",
      "|          15|       20||0.8459846|0.6492308|0.5596817|0.6011396|    211|   1327|    166|    114|\n",
      "    Значение AUC-ROC: 0.84\n",
      "|          15|       25||0.8459846|0.6492308|0.5596817|0.6011396|    211|   1327|    166|    114|\n",
      "\n",
      "    Значение AUC-ROC: 0.86\n",
      "|          20|        5||0.7975798|0.5080790|0.7506631|0.6059957|    283|   1167|     94|    274|\n",
      "    Значение AUC-ROC: 0.85\n",
      "|          20|       10||0.8162816|0.5458422|0.6790451|0.6052009|    256|   1228|    121|    213|\n",
      "    Значение AUC-ROC: 0.85\n",
      "|          20|       15||0.8432343|0.6299435|0.5915119|0.6101231|    223|   1310|    154|    131|\n",
      "    Значение AUC-ROC: 0.85\n",
      "|          20|       20||0.8498350|0.6780822|0.5251989|0.5919283|    198|   1347|    179|     94|\n",
      "    Значение AUC-ROC: 0.84\n",
      "|          20|       25||0.8514851|0.6890459|0.5172414|0.5909091|    195|   1353|    182|     88|\n",
      "\n",
      "    Значение AUC-ROC: 0.86\n",
      "|          25|        5||0.7904290|0.4964912|0.7506631|0.5976769|    283|   1154|     94|    287|\n",
      "    Значение AUC-ROC: 0.86\n",
      "|          25|       10||0.8228823|0.5601751|0.6790451|0.6139089|    256|   1240|    121|    201|\n",
      "    Значение AUC-ROC: 0.85\n",
      "|          25|       15||0.8426843|0.6274510|0.5941645|0.6103542|    224|   1308|    153|    133|\n",
      "    Значение AUC-ROC: 0.85\n",
      "|          25|       20||0.8487349|0.6645161|0.5464191|0.5997089|    206|   1337|    171|    104|\n",
      "    Значение AUC-ROC: 0.85\n",
      "|          25|       25||0.8492849|0.6655949|0.5490716|0.6017442|    207|   1337|    170|    104|\n",
      "\n"
     ]
    }
   ],
   "source": [
    "# Проверим случайный лес\n",
    "\n",
    "check_random_forest(features_upsampled, target_upsampled, None, 'upsample')"
   ]
  },
  {
   "cell_type": "markdown",
   "metadata": {},
   "source": [
    "А вот для случайного леса результат удалось неплохо улучшить\n",
    "\n",
    "**Промежуточный вывод**\n",
    "\n",
    "Применение апсемплинга не сказалось существенно на результате работы Дерева решений и логистической регресии.\n",
    "А вот для случайного леса эффект можно считать ощутимым - на этот раз снизилась точность, но мы имеем весьма неплохое значение полноты.\n",
    "При чем, если исходить из задачи - полнота для нас является более важным признаком."
   ]
  },
  {
   "cell_type": "markdown",
   "metadata": {},
   "source": [
    "**Downsampling**"
   ]
  },
  {
   "cell_type": "code",
   "execution_count": 31,
   "metadata": {},
   "outputs": [
    {
     "data": {
      "text/plain": [
       "1    1126\n",
       "0    1109\n",
       "Name: Exited, dtype: int64"
      ]
     },
     "execution_count": 31,
     "metadata": {},
     "output_type": "execute_result"
    }
   ],
   "source": [
    "# Попробуем уменьшение выборки\n",
    "\n",
    "def downsample(features, target, coef):\n",
    "    fraction = coef;\n",
    "    \n",
    "    features_zeros = features[target == 0]\n",
    "    features_ones = features[target == 1]\n",
    "    target_zeros = target[target == 0]\n",
    "    target_ones = target[target == 1]\n",
    "    \n",
    "    features_downsampled = pd.concat(\n",
    "        [features_zeros.sample(frac=fraction, random_state=RANDOM_STATE)] + [features_ones])\n",
    "    target_downsampled = pd.concat(\n",
    "        [target_zeros.sample(frac=fraction, random_state=RANDOM_STATE)] + [target_ones])\n",
    "    \n",
    "    features_downsampled, target_downsampled = shuffle(features_downsampled, target_downsampled, random_state=RANDOM_STATE)\n",
    "    \n",
    "    return features_downsampled, target_downsampled\n",
    "\n",
    "features_downsampled, target_downsampled = downsample(features_train, target_train, coef)\n",
    "\n",
    "# проверим, что выборки примерно совпадают\n",
    "target_downsampled.value_counts()"
   ]
  },
  {
   "cell_type": "code",
   "execution_count": 32,
   "metadata": {},
   "outputs": [
    {
     "name": "stdout",
     "output_type": "stream",
     "text": [
      "Decision tree\n",
      "|max_depth| Accuracy|   Recall|Precision|       F1|     TP|     TN|     FP|     FN|\n",
      "    Значение AUC-ROC: 0.76\n",
      "|        2|0.7392739|0.4231379|0.7082228|0.5297619|    267|   1077|    110|    364|\n",
      "    Значение AUC-ROC: 0.80\n",
      "|        3|0.7667767|0.4582593|0.6843501|0.5489362|    258|   1136|    119|    305|\n",
      "    Значение AUC-ROC: 0.82\n",
      "|        4|0.7585259|0.4486755|0.7188329|0.5524975|    271|   1108|    106|    333|\n",
      "    Значение AUC-ROC: 0.83\n",
      "|        5|0.7601760|0.4541213|0.7745358|0.5725490|    292|   1090|     85|    351|\n",
      "    Значение AUC-ROC: 0.82\n",
      "|        6|0.7546755|0.4479638|0.7877984|0.5711538|    297|   1075|     80|    366|\n",
      "    Значение AUC-ROC: 0.81\n",
      "|        7|0.7348735|0.4224520|0.7586207|0.5426945|    286|   1050|     91|    391|\n",
      "    Значение AUC-ROC: 0.79\n",
      "|        8|0.7244224|0.4106628|0.7559682|0.5322129|    285|   1032|     92|    409|\n",
      "    Значение AUC-ROC: 0.77\n",
      "|        9|0.7238724|0.4084919|0.7400531|0.5264151|    279|   1037|     98|    404|\n",
      "    Значение AUC-ROC: 0.72\n",
      "|       10|0.7073707|0.3858616|0.6949602|0.4962121|    262|   1024|    115|    417|\n"
     ]
    }
   ],
   "source": [
    "# Проверим решающее дерево\n",
    "\n",
    "check_decision_tree(features_downsampled, target_downsampled, None, 'downsample')"
   ]
  },
  {
   "cell_type": "code",
   "execution_count": 33,
   "metadata": {},
   "outputs": [
    {
     "name": "stdout",
     "output_type": "stream",
     "text": [
      "Logistic regression\n",
      "| Accuracy|   Recall|Precision|       F1|     TP|     TN|     FP|     FN|\n",
      "|0.6991199|0.3829201|0.7374005|0.5040798|    278|    993|     99|    448|\n"
     ]
    }
   ],
   "source": [
    "# Проверим линейную регрессию\n",
    "\n",
    "check_logistic_regression(features_downsampled, target_downsampled, None, 'downsample')"
   ]
  },
  {
   "cell_type": "markdown",
   "metadata": {},
   "source": [
    "- Логистическая регрессия по прежнему показывает худший результат"
   ]
  },
  {
   "cell_type": "code",
   "execution_count": 34,
   "metadata": {},
   "outputs": [
    {
     "name": "stdout",
     "output_type": "stream",
     "text": [
      "Decision tree\n",
      "|n_estimators|max_depth|| Accuracy|   Recall|Precision|       F1|     TP|     TN|     FP|     FN|\n",
      "\n",
      "    Значение AUC-ROC: 0.84\n",
      "|           5|        5||0.7750275|0.4736842|0.7639257|0.5847716|    288|   1121|     89|    320|\n",
      "    Значение AUC-ROC: 0.81\n",
      "|           5|       10||0.7524752|0.4427002|0.7480106|0.5562130|    282|   1086|     95|    355|\n",
      "    Значение AUC-ROC: 0.81\n",
      "|           5|       15||0.7491749|0.4381847|0.7427056|0.5511811|    280|   1082|     97|    359|\n",
      "    Значение AUC-ROC: 0.80\n",
      "|           5|       20||0.7387239|0.4243827|0.7294430|0.5365854|    275|   1068|    102|    373|\n",
      "    Значение AUC-ROC: 0.80\n",
      "|           5|       25||0.7398240|0.4256966|0.7294430|0.5376344|    275|   1070|    102|    371|\n",
      "\n",
      "    Значение AUC-ROC: 0.86\n",
      "|          10|        5||0.7876788|0.4924115|0.7745358|0.6020619|    292|   1140|     85|    301|\n",
      "    Значение AUC-ROC: 0.83\n",
      "|          10|       10||0.7546755|0.4465116|0.7639257|0.5636008|    288|   1084|     89|    357|\n",
      "    Значение AUC-ROC: 0.84\n",
      "|          10|       15||0.7739274|0.4706897|0.7241379|0.5705329|    273|   1134|    104|    307|\n",
      "    Значение AUC-ROC: 0.83\n",
      "|          10|       20||0.7821782|0.4826325|0.7002653|0.5714286|    264|   1158|    113|    283|\n",
      "    Значение AUC-ROC: 0.83\n",
      "|          10|       25||0.7766777|0.4738739|0.6976127|0.5643777|    263|   1149|    114|    292|\n",
      "\n",
      "    Значение AUC-ROC: 0.86\n",
      "|          15|        5||0.7788779|0.4792703|0.7665782|0.5897959|    289|   1127|     88|    314|\n",
      "    Значение AUC-ROC: 0.85\n",
      "|          15|       10||0.7607261|0.4555215|0.7877984|0.5772595|    297|   1086|     80|    355|\n",
      "    Значение AUC-ROC: 0.84\n",
      "|          15|       15||0.7629263|0.4572785|0.7665782|0.5728444|    289|   1098|     88|    343|\n",
      "    Значение AUC-ROC: 0.84\n",
      "|          15|       20||0.7640264|0.4591195|0.7745358|0.5765054|    292|   1097|     85|    344|\n",
      "    Значение AUC-ROC: 0.84\n",
      "|          15|       25||0.7645765|0.4599686|0.7771883|0.5779093|    293|   1097|     84|    344|\n",
      "\n",
      "    Значение AUC-ROC: 0.86\n",
      "|          20|        5||0.7794279|0.4804560|0.7824934|0.5953582|    295|   1122|     82|    319|\n",
      "    Значение AUC-ROC: 0.85\n",
      "|          20|       10||0.7678768|0.4650078|0.7931034|0.5862745|    299|   1097|     78|    344|\n",
      "    Значение AUC-ROC: 0.85\n",
      "|          20|       15||0.7662266|0.4616613|0.7665782|0.5762712|    289|   1104|     88|    337|\n",
      "    Значение AUC-ROC: 0.85\n",
      "|          20|       20||0.7766777|0.4757119|0.7533156|0.5831622|    284|   1128|     93|    313|\n",
      "    Значение AUC-ROC: 0.85\n",
      "|          20|       25||0.7772277|0.4763514|0.7480106|0.5820433|    282|   1131|     95|    310|\n",
      "\n",
      "    Значение AUC-ROC: 0.86\n",
      "|          25|        5||0.7761276|0.4754902|0.7718833|0.5884732|    291|   1120|     86|    321|\n",
      "    Значение AUC-ROC: 0.86\n",
      "|          25|       10||0.7607261|0.4560606|0.7984085|0.5805207|    301|   1082|     76|    359|\n",
      "    Значение AUC-ROC: 0.85\n",
      "|          25|       15||0.7618262|0.4565217|0.7798408|0.5759060|    294|   1091|     83|    350|\n",
      "    Значение AUC-ROC: 0.85\n",
      "|          25|       20||0.7640264|0.4581994|0.7559682|0.5705706|    285|   1104|     92|    337|\n",
      "    Значение AUC-ROC: 0.85\n",
      "|          25|       25||0.7618262|0.4558360|0.7665782|0.5717112|    289|   1096|     88|    345|\n",
      "\n"
     ]
    }
   ],
   "source": [
    "# Проверим случайный лес\n",
    "\n",
    "check_random_forest(features_downsampled, target_downsampled, None, 'downsample')"
   ]
  },
  {
   "cell_type": "markdown",
   "metadata": {},
   "source": [
    "Для случайного леса upsampling оказался гораздо лучше, хотя в рамках самой группы (среди всех моделей где применялся downsample), случайный лес по прежнему лидирует\n",
    "\n",
    "**Промежуточный вывод**\n",
    "\n",
    "Можно было бы много написать, но результат однозначен. Результаты downsampling'а и upsampling'a вполне сопоставимы, но upsampling показал лучшие результаты.\n",
    "Хотя именно для дерева решений downsample оказал лучшее влияние"
   ]
  },
  {
   "cell_type": "markdown",
   "metadata": {},
   "source": [
    "**Upsampling + Downsampling**\n",
    "\n",
    "Не сдадимся и попробуем применить комбинированную модель, смысл которой будет в том, чтобы уменьшить в два раза количество нулевых значений и увеличить в два раза количество положительных значений.\n",
    "Для наших данных подходит именно эта пропорция, т.к. это эксперимент, писать общую функцию через коэффиценты пока не будем."
   ]
  },
  {
   "cell_type": "code",
   "execution_count": 35,
   "metadata": {},
   "outputs": [
    {
     "data": {
      "text/plain": [
       "1    2252\n",
       "0    2164\n",
       "Name: Exited, dtype: int64"
      ]
     },
     "execution_count": 35,
     "metadata": {},
     "output_type": "execute_result"
    }
   ],
   "source": [
    "# напишем функцию, которая увеличит положительную выборку и уменьшит отрицательную, как нам нужно\n",
    "\n",
    "def upsample_and_downsample_combine(features, target):\n",
    "    features_zeros = features[target == 0]\n",
    "    features_ones = features[target == 1]\n",
    "    target_zeros = target[target == 0]\n",
    "    target_ones = target[target == 1]\n",
    "\n",
    "    repeat = round(1 / coef)\n",
    "    features_combined = pd.concat([features_zeros.sample(frac=0.5, random_state=RANDOM_STATE)] + [features_ones] * 2)\n",
    "    target_combined = pd.concat([target_zeros.sample(frac=0.5, random_state=RANDOM_STATE)] + [target_ones] * 2)\n",
    "    \n",
    "    features_combined, target_combined = shuffle(features_combined, target_combined, random_state=RANDOM_STATE)\n",
    "    \n",
    "    return features_combined, target_combined\n",
    "\n",
    "features_combined, target_combined = upsample_and_downsample_combine(features_train, target_train)\n",
    "\n",
    "# проверим, что данные сопоставимы\n",
    "target_combined.value_counts()"
   ]
  },
  {
   "cell_type": "code",
   "execution_count": 36,
   "metadata": {},
   "outputs": [
    {
     "name": "stdout",
     "output_type": "stream",
     "text": [
      "Decision tree\n",
      "|max_depth| Accuracy|   Recall|Precision|       F1|     TP|     TN|     FP|     FN|\n",
      "    Значение AUC-ROC: 0.76\n",
      "|        2|0.7392739|0.4231379|0.7082228|0.5297619|    267|   1077|    110|    364|\n",
      "    Значение AUC-ROC: 0.80\n",
      "|        3|0.7387239|0.4222222|0.7055703|0.5283019|    266|   1077|    111|    364|\n",
      "    Значение AUC-ROC: 0.82\n",
      "|        4|0.7574257|0.4496855|0.7586207|0.5646594|    286|   1091|     91|    350|\n",
      "    Значение AUC-ROC: 0.83\n",
      "|        5|0.7337734|0.4262069|0.8196286|0.5607985|    309|   1025|     68|    416|\n",
      "    Значение AUC-ROC: 0.83\n",
      "|        6|0.7376238|0.4289773|0.8010610|0.5587419|    302|   1039|     75|    402|\n",
      "    Значение AUC-ROC: 0.81\n",
      "|        7|0.7150715|0.4043419|0.7904509|0.5350090|    298|   1002|     79|    439|\n",
      "    Значение AUC-ROC: 0.78\n",
      "|        8|0.7392739|0.4252696|0.7320955|0.5380117|    276|   1068|    101|    373|\n",
      "    Значение AUC-ROC: 0.75\n",
      "|        9|0.7326733|0.4108020|0.6657825|0.5080972|    251|   1081|    126|    360|\n",
      "    Значение AUC-ROC: 0.74\n",
      "|       10|0.7326733|0.4119548|0.6763926|0.5120482|    255|   1077|    122|    364|\n"
     ]
    }
   ],
   "source": [
    "# проверим дерево решений\n",
    "check_decision_tree(features_combined, target_combined, None, 'combined')"
   ]
  },
  {
   "cell_type": "code",
   "execution_count": 37,
   "metadata": {},
   "outputs": [
    {
     "name": "stdout",
     "output_type": "stream",
     "text": [
      "Logistic regression\n",
      "| Accuracy|   Recall|Precision|       F1|     TP|     TN|     FP|     FN|\n",
      "|0.6963696|0.3812754|0.7453581|0.5044883|    281|    985|     96|    456|\n"
     ]
    }
   ],
   "source": [
    "# Проверим логистическую регрессию\n",
    "check_logistic_regression(features_combined, target_combined, None, 'combined')"
   ]
  },
  {
   "cell_type": "code",
   "execution_count": 38,
   "metadata": {},
   "outputs": [
    {
     "name": "stdout",
     "output_type": "stream",
     "text": [
      "Decision tree\n",
      "|n_estimators|max_depth|| Accuracy|   Recall|Precision|       F1|     TP|     TN|     FP|     FN|\n",
      "\n",
      "    Значение AUC-ROC: 0.84\n",
      "|           5|        5||0.7717272|0.4692557|0.7692308|0.5829146|    290|   1113|     87|    328|\n",
      "    Значение AUC-ROC: 0.83\n",
      "|           5|       10||0.7651265|0.4568966|0.7029178|0.5538140|    265|   1126|    112|    315|\n",
      "    Значение AUC-ROC: 0.80\n",
      "|           5|       15||0.7728273|0.4672727|0.6816976|0.5544768|    257|   1148|    120|    293|\n",
      "    Значение AUC-ROC: 0.82\n",
      "|           5|       20||0.7810781|0.4801512|0.6737401|0.5607064|    254|   1166|    123|    275|\n",
      "    Значение AUC-ROC: 0.80\n",
      "|           5|       25||0.7678768|0.4582560|0.6551724|0.5393013|    247|   1149|    130|    292|\n",
      "\n",
      "    Значение AUC-ROC: 0.86\n",
      "|          10|        5||0.7827283|0.4847973|0.7612732|0.5923633|    287|   1136|     90|    305|\n",
      "    Значение AUC-ROC: 0.85\n",
      "|          10|       10||0.7893289|0.4946237|0.7320955|0.5903743|    276|   1159|    101|    282|\n",
      "    Значение AUC-ROC: 0.83\n",
      "|          10|       15||0.7904290|0.4960000|0.6578249|0.5655644|    248|   1189|    129|    252|\n",
      "    Значение AUC-ROC: 0.84\n",
      "|          10|       20||0.8151815|0.5475638|0.6259947|0.5841584|    236|   1246|    141|    195|\n",
      "    Значение AUC-ROC: 0.83\n",
      "|          10|       25||0.8107811|0.5393795|0.5994695|0.5678392|    226|   1248|    151|    193|\n",
      "\n",
      "    Значение AUC-ROC: 0.86\n",
      "|          15|        5||0.7876788|0.4925865|0.7931034|0.6077236|    299|   1133|     78|    308|\n",
      "    Значение AUC-ROC: 0.86\n",
      "|          15|       10||0.8052805|0.5218216|0.7294430|0.6084071|    275|   1189|    102|    252|\n",
      "    Значение AUC-ROC: 0.84\n",
      "|          15|       15||0.7953795|0.5048924|0.6843501|0.5810811|    258|   1188|    119|    253|\n",
      "    Значение AUC-ROC: 0.84\n",
      "|          15|       20||0.8047305|0.5223577|0.6816976|0.5914845|    257|   1206|    120|    235|\n",
      "    Значение AUC-ROC: 0.84\n",
      "|          15|       25||0.8036304|0.5204918|0.6737401|0.5872832|    254|   1207|    123|    234|\n",
      "\n",
      "    Значение AUC-ROC: 0.86\n",
      "|          20|        5||0.7898790|0.4958403|0.7904509|0.6094070|    298|   1138|     79|    303|\n",
      "    Значение AUC-ROC: 0.86\n",
      "|          20|       10||0.8025303|0.5165441|0.7453581|0.6102063|    281|   1178|     96|    263|\n",
      "    Значение AUC-ROC: 0.84\n",
      "|          20|       15||0.7964796|0.5070707|0.6657825|0.5756881|    251|   1197|    126|    244|\n",
      "    Значение AUC-ROC: 0.85\n",
      "|          20|       20||0.8234323|0.5630631|0.6631300|0.6090134|    250|   1247|    127|    194|\n",
      "    Значение AUC-ROC: 0.85\n",
      "|          20|       25||0.8228823|0.5623583|0.6578249|0.6063570|    248|   1248|    129|    193|\n",
      "\n",
      "    Значение AUC-ROC: 0.86\n",
      "|          25|        5||0.7959296|0.5052083|0.7718833|0.6107030|    291|   1156|     86|    285|\n",
      "    Значение AUC-ROC: 0.86\n",
      "|          25|       10||0.8058306|0.5226415|0.7347480|0.6108049|    277|   1188|    100|    253|\n",
      "    Значение AUC-ROC: 0.85\n",
      "|          25|       15||0.8014301|0.5157480|0.6949602|0.5920904|    262|   1195|    115|    246|\n",
      "    Значение AUC-ROC: 0.85\n",
      "|          25|       20||0.8201320|0.5534188|0.6870027|0.6130178|    259|   1232|    118|    209|\n",
      "    Значение AUC-ROC: 0.85\n",
      "|          25|       25||0.8173817|0.5469729|0.6949602|0.6121495|    262|   1224|    115|    217|\n",
      "\n"
     ]
    }
   ],
   "source": [
    "# Проверим случайный лес\n",
    "check_random_forest(features_combined, target_combined, None, 'combined')"
   ]
  },
  {
   "cell_type": "markdown",
   "metadata": {},
   "source": [
    "**Промежуточный вывод**\n",
    "\n",
    "- Топ моделей по прежнему не меняется\n",
    "- Комбинированный вариант внезапно лучше отразился на логистической регрессии\n",
    "- Для дерева решений результат оказался чуть хуже как upsampling'a, так и downsampling'a\n",
    "- А вот случайный лес показал неплохой результат, но до upsample не дотянул"
   ]
  },
  {
   "cell_type": "markdown",
   "metadata": {},
   "source": [
    "**Примечание**\n",
    "\n",
    "Изменение порога классификации мы исследовать не будем, т.к. сама по себе F1 мера, к которой мы стремимся, подразумевает сбалансированное значение Recall + Precision. Однако мы помним, что в рамках нашей задачи лучше определить как можно больше потенциальных уходов, чтобы можно было их обработать. Поэтому на итоговой модели мы попробуем немного изменить значение"
   ]
  },
  {
   "cell_type": "code",
   "execution_count": 39,
   "metadata": {},
   "outputs": [
    {
     "name": "stdout",
     "output_type": "stream",
     "text": [
      "|          Model name|     Train type|                   Params|        F1|\n",
      "\n",
      "|       decision_tree|        default|              max_depth=7|   0.57643|\n",
      "|       decision_tree|       balanced|              max_depth=5|   0.57354|\n",
      "|       decision_tree|       upsample|              max_depth=5|   0.57354|\n",
      "|       decision_tree|     downsample|              max_depth=5|   0.57255|\n",
      "|       decision_tree|       combined|              max_depth=4|   0.56466|\n",
      "\n",
      "| logistic_regression|        default|                        -|   0.30400|\n",
      "| logistic_regression|       balanced|                        -|   0.50973|\n",
      "| logistic_regression|       upsample|                        -|   0.50860|\n",
      "| logistic_regression|     downsample|                        -|   0.50408|\n",
      "| logistic_regression|       combined|                        -|   0.50449|\n",
      "\n",
      "|       random_forest|        default|   estim=25; max_depth=20|   0.60225|\n",
      "|       random_forest|       balanced|   estim=15; max_depth=10|   0.61799|\n",
      "|       random_forest|       upsample|   estim=25; max_depth=10|   0.61391|\n",
      "|       random_forest|     downsample|    estim=10; max_depth=5|   0.60206|\n",
      "|       random_forest|       combined|   estim=25; max_depth=20|   0.61302|\n"
     ]
    }
   ],
   "source": [
    "# подведем итоги по полученным результатам\n",
    "\n",
    "print('|{: >20}|{: >15}|{: >25}|{: >10}|'.format('Model name', 'Train type', 'Params', 'F1'))\n",
    "for model_name in best_results:\n",
    "    print()\n",
    "    for train_type in best_results[model_name]:\n",
    "        print('|{: >20}|{: >15}|{: >25}|{: >10.5f}|'.format(\n",
    "            model_name, train_type, \n",
    "            best_results[model_name][train_type]['params'], best_results[model_name][train_type]['f1']))"
   ]
  },
  {
   "cell_type": "markdown",
   "metadata": {},
   "source": [
    "**Вывод**\n",
    "\n",
    "Мы попробовали разные подходы для решения проблемы дисбаланса и получили весьма любопытные результаты\n",
    "\n",
    "1. Лучший результат среди всех моделей во всех случаях показывает случайный лес\n",
    "2. Лучше всего на случайный лес влияют upsample и взвешивание классов\n",
    "3. На логистическую регрессию также оказал наибольшее влияние именно комбинированный подход\n",
    "4. Сама по себе логистическая регрессия по всех тестах показала худший результат\n",
    "5. А вот дерево решений показало завидное постоянство - при плюс-минус одинаковой глубине результат всегда был примерно одинаковым для всех ситуаций.\n",
    "\n",
    "Лучшей моделью в нашем случае оказался случайный лес с взвешиванием классов, его и будем тестировать"
   ]
  },
  {
   "cell_type": "markdown",
   "metadata": {},
   "source": [
    "## Тестирование модели"
   ]
  },
  {
   "cell_type": "code",
   "execution_count": 40,
   "metadata": {},
   "outputs": [
    {
     "name": "stdout",
     "output_type": "stream",
     "text": [
      "| Accuracy|   Recall|Precision|       F1|     TP|     TN|     FP|     FN|\n",
      "|0.8422210|0.5855615|0.6239316|0.6041379|    219|   1313|    132|    155|\n"
     ]
    }
   ],
   "source": [
    "model = RandomForestClassifier(n_estimators=20, max_depth=10, random_state=RANDOM_STATE, class_weight='balanced')\n",
    "model.fit(features_train, target_train)\n",
    "predicted_test = model.predict(features_test)\n",
    "print_full_scrore_info_title()\n",
    "print_full_score_info(target_test, predicted_test)"
   ]
  },
  {
   "cell_type": "code",
   "execution_count": 41,
   "metadata": {},
   "outputs": [
    {
     "name": "stdout",
     "output_type": "stream",
     "text": [
      "0.1 - 0.3894917190177042 - 0.9715099715099715\n",
      "0.15 - 0.4269230769230769 - 0.9487179487179487\n",
      "0.2 - 0.46086956521739125 - 0.905982905982906\n",
      "0.25 - 0.4926590538336052 - 0.8603988603988604\n",
      "0.3 - 0.5290909090909092 - 0.8290598290598291\n",
      "0.35 - 0.5482546201232033 - 0.7606837606837606\n",
      "0.4 - 0.572737686139748 - 0.7122507122507122\n",
      "0.45 - 0.5892634207240949 - 0.6723646723646723\n"
     ]
    }
   ],
   "source": [
    "# Хоть мы и добились неплохой полноты при хорошей точности, попробуем немного подкрутить полноту\n",
    "probabilities_test = model.predict_proba(features_test)\n",
    "probabilities_one_test = probabilities_test[:, 1]\n",
    "\n",
    "for threshold in np.arange(0.1, 0.5, 0.05):\n",
    "    predicted_test = probabilities_one_test > threshold\n",
    "    precision = precision_score(target_test, predicted_test)\n",
    "    recall = recall_score(target_test, predicted_test)\n",
    "    \n",
    "    print(str(round(threshold,2)) + ' - ' + str(f1_score(target_test, predicted_test)) + ' - ' + str(recall_score(target_test, predicted_test)))"
   ]
  },
  {
   "cell_type": "code",
   "execution_count": 42,
   "metadata": {},
   "outputs": [
    {
     "name": "stdout",
     "output_type": "stream",
     "text": [
      "| Accuracy|   Recall|Precision|       F1|     TP|     TN|     FP|     FN|\n",
      "|0.7949423|0.4789272|0.7122507|0.5727377|    250|   1196|    101|    272|\n"
     ]
    }
   ],
   "source": [
    "# Посмотрим на параметры при пороге классификации 0.4\n",
    "predicted_test = probabilities_one_test > 0.4\n",
    "print_full_scrore_info_title()\n",
    "print_full_score_info(target_test, predicted_test)"
   ]
  },
  {
   "cell_type": "code",
   "execution_count": 43,
   "metadata": {},
   "outputs": [
    {
     "data": {
      "image/png": "[encoded data removed]",
      "text/plain": [
       "<Figure size 432x288 with 1 Axes>"
      ]
     },
     "metadata": {
      "needs_background": "light"
     },
     "output_type": "display_data"
    }
   ],
   "source": [
    "# Посмотрим на ROC кривую\n",
    "\n",
    "fpr, tpr, thresholds = roc_curve(target_test, predicted_test)\n",
    "\n",
    "plt.figure()\n",
    "plt.plot(fpr, tpr)\n",
    "plt.plot([0, 1], [0, 1], linestyle='--')\n",
    "plt.xlim([0.0, 1.0])\n",
    "plt.ylim([0.0, 1.0])\n",
    "plt.xlabel('False Positive Rate')\n",
    "plt.ylabel('True Positive Rate')\n",
    "plt.title('ROC-кривая')\n",
    "plt.show()"
   ]
  },
  {
   "cell_type": "markdown",
   "metadata": {},
   "source": [
    "**Общий вывод**\n",
    "\n",
    "1. Мы исследовали наши данные, отбросили лишние признаки и заполнили пропуски\n",
    "2. Также были обработаны категориальные признаки и стандартизированы числовые\n",
    "3. Мы исследовали различные модели на имеющемся наборе и столкнулись с проблемой дисбаланса, которая не позволила нам добиться необходимой полноты и точности\n",
    "4. Для решения проблемы мы попробовали\n",
    "    - Выровнять вес классов\n",
    "    - Добавить данных положительного класса\n",
    "    - Убрать данные отрицательного класса\n",
    "    - Применить комбинированный подход\n",
    "5. На основании нашего исследования мы выбрали и обучили лучшую модель. Это оказался случайный лес с количеством деревьев 20 и глубиной 10.\n",
    "6. Нам удалось достичь необходимой F1-меры\n",
    "7. Однако, дополнительно исследовав модель и изменив порог классификации, нам удалось добиться еще более впечатляющих результатов за счет увеличения полноты ценой снижения точности.\n",
    "\n",
    "Однако, мы помним, что нашей изначальной целью было именно своевременное прогнозирование оттока клиента и для данной задачи важна именно полнота, чтобы банк имел возможность предотвратить уход клиента, чтобы сэкономить деньги.\n",
    "\n",
    "В итоге, наша модель полностью отвечает как формальным, так и бизнес-требованиям."
   ]
  },
  {
   "cell_type": "markdown",
   "metadata": {},
   "source": [
    "## Чек-лист готовности проекта"
   ]
  },
  {
   "cell_type": "markdown",
   "metadata": {},
   "source": [
    "Поставьте 'x' в выполненных пунктах. Далее нажмите Shift+Enter."
   ]
  },
  {
   "cell_type": "markdown",
   "metadata": {},
   "source": [
    "- [x]  Jupyter Notebook открыт\n",
    "- [х ]  Весь код выполняется без ошибок\n",
    "- [х ]  Ячейки с кодом расположены в порядке исполнения\n",
    "- [ х]  Выполнен шаг 1: данные подготовлены\n",
    "- [х ]  Выполнен шаг 2: задача исследована\n",
    "    - [ х]  Исследован баланс классов\n",
    "    - [х ]  Изучены модели без учёта дисбаланса\n",
    "    - [х ]  Написаны выводы по результатам исследования\n",
    "- [ х]  Выполнен шаг 3: учтён дисбаланс\n",
    "    - [х ]  Применено несколько способов борьбы с дисбалансом\n",
    "    - [х ]  Написаны выводы по результатам исследования\n",
    "- [х ]  Выполнен шаг 4: проведено тестирование\n",
    "- [ х]  Удалось достичь *F1*-меры не менее 0.59\n",
    "- [х ]  Исследована метрика *AUC-ROC*"
   ]
  }
 ],
 "metadata": {
  "ExecuteTimeLog": [
   {
    "duration": 1658,
    "start_time": "2023-04-21T15:27:43.305Z"
   },
   {
    "duration": 107,
    "start_time": "2023-04-21T15:28:00.063Z"
   },
   {
    "duration": 27,
    "start_time": "2023-04-21T15:28:15.336Z"
   },
   {
    "duration": 4,
    "start_time": "2023-04-21T16:24:21.948Z"
   },
   {
    "duration": 20,
    "start_time": "2023-04-21T16:25:00.227Z"
   },
   {
    "duration": 7,
    "start_time": "2023-04-21T16:25:27.526Z"
   },
   {
    "duration": 6,
    "start_time": "2023-04-21T16:25:38.449Z"
   },
   {
    "duration": 28,
    "start_time": "2023-04-21T16:26:16.766Z"
   },
   {
    "duration": 13,
    "start_time": "2023-04-21T16:28:56.101Z"
   },
   {
    "duration": 43,
    "start_time": "2023-04-21T16:29:08.976Z"
   },
   {
    "duration": 214,
    "start_time": "2023-04-21T16:30:32.607Z"
   },
   {
    "duration": 6,
    "start_time": "2023-04-21T16:31:53.399Z"
   },
   {
    "duration": 10,
    "start_time": "2023-04-21T16:32:31.419Z"
   },
   {
    "duration": 294,
    "start_time": "2023-04-21T16:32:32.164Z"
   },
   {
    "duration": 58,
    "start_time": "2023-04-21T16:32:51.354Z"
   },
   {
    "duration": 3174,
    "start_time": "2023-04-21T16:33:06.885Z"
   },
   {
    "duration": 271,
    "start_time": "2023-04-21T16:35:42.424Z"
   },
   {
    "duration": 77,
    "start_time": "2023-04-21T16:36:38.343Z"
   },
   {
    "duration": 147,
    "start_time": "2023-04-21T16:37:01.748Z"
   },
   {
    "duration": 2831,
    "start_time": "2023-04-21T16:37:40.972Z"
   },
   {
    "duration": 9,
    "start_time": "2023-04-21T16:40:28.878Z"
   },
   {
    "duration": 15,
    "start_time": "2023-04-21T16:40:48.847Z"
   },
   {
    "duration": 21,
    "start_time": "2023-04-21T16:40:57.742Z"
   },
   {
    "duration": 303,
    "start_time": "2023-04-21T16:41:07.769Z"
   },
   {
    "duration": 126,
    "start_time": "2023-04-21T16:42:19.462Z"
   },
   {
    "duration": 3890,
    "start_time": "2023-04-21T16:43:08.855Z"
   },
   {
    "duration": 16,
    "start_time": "2023-04-21T16:50:38.632Z"
   },
   {
    "duration": 180,
    "start_time": "2023-04-21T16:50:48.787Z"
   },
   {
    "duration": 209,
    "start_time": "2023-04-21T16:50:57.179Z"
   },
   {
    "duration": 1721,
    "start_time": "2023-04-21T16:51:24.695Z"
   },
   {
    "duration": 17,
    "start_time": "2023-04-21T16:53:15.671Z"
   },
   {
    "duration": 223,
    "start_time": "2023-04-21T16:53:24.532Z"
   },
   {
    "duration": 85,
    "start_time": "2023-04-21T16:53:35.205Z"
   },
   {
    "duration": 2400,
    "start_time": "2023-04-21T16:53:56.788Z"
   },
   {
    "duration": 8,
    "start_time": "2023-04-21T16:57:32.772Z"
   },
   {
    "duration": 143,
    "start_time": "2023-04-21T16:58:16.448Z"
   },
   {
    "duration": 65,
    "start_time": "2023-04-21T16:58:26.835Z"
   },
   {
    "duration": 15,
    "start_time": "2023-04-21T16:58:49.693Z"
   },
   {
    "duration": 127,
    "start_time": "2023-04-21T16:59:08.376Z"
   },
   {
    "duration": 118,
    "start_time": "2023-04-21T16:59:41.970Z"
   },
   {
    "duration": 3029,
    "start_time": "2023-04-22T14:20:54.547Z"
   },
   {
    "duration": 64,
    "start_time": "2023-04-22T14:20:57.578Z"
   },
   {
    "duration": 31,
    "start_time": "2023-04-22T14:20:57.643Z"
   },
   {
    "duration": 4,
    "start_time": "2023-04-22T14:20:57.676Z"
   },
   {
    "duration": 25,
    "start_time": "2023-04-22T14:20:57.683Z"
   },
   {
    "duration": 6,
    "start_time": "2023-04-22T14:20:57.710Z"
   },
   {
    "duration": 40,
    "start_time": "2023-04-22T14:20:57.723Z"
   },
   {
    "duration": 39,
    "start_time": "2023-04-22T14:20:57.765Z"
   },
   {
    "duration": 15,
    "start_time": "2023-04-22T14:20:57.806Z"
   },
   {
    "duration": 84,
    "start_time": "2023-04-22T14:20:57.823Z"
   },
   {
    "duration": 211,
    "start_time": "2023-04-22T14:20:57.909Z"
   },
   {
    "duration": 6,
    "start_time": "2023-04-22T14:20:58.121Z"
   },
   {
    "duration": 40,
    "start_time": "2023-04-22T14:20:58.129Z"
   },
   {
    "duration": 305,
    "start_time": "2023-04-22T14:20:58.172Z"
   },
   {
    "duration": 157,
    "start_time": "2023-04-22T14:20:58.479Z"
   },
   {
    "duration": 3403,
    "start_time": "2023-04-22T14:20:58.639Z"
   },
   {
    "duration": 358,
    "start_time": "2023-04-22T14:21:02.046Z"
   },
   {
    "duration": 114,
    "start_time": "2023-04-22T14:21:02.406Z"
   },
   {
    "duration": 3324,
    "start_time": "2023-04-22T14:21:02.527Z"
   },
   {
    "duration": 7,
    "start_time": "2023-04-22T14:21:05.853Z"
   },
   {
    "duration": 30,
    "start_time": "2023-04-22T14:21:05.862Z"
   },
   {
    "duration": 61,
    "start_time": "2023-04-22T14:21:05.894Z"
   },
   {
    "duration": 373,
    "start_time": "2023-04-22T14:21:05.957Z"
   },
   {
    "duration": 97,
    "start_time": "2023-04-22T14:21:06.333Z"
   },
   {
    "duration": 4545,
    "start_time": "2023-04-22T14:21:06.432Z"
   },
   {
    "duration": 15,
    "start_time": "2023-04-22T14:21:10.979Z"
   },
   {
    "duration": 242,
    "start_time": "2023-04-22T14:21:10.996Z"
   },
   {
    "duration": 196,
    "start_time": "2023-04-22T14:21:11.240Z"
   },
   {
    "duration": 2217,
    "start_time": "2023-04-22T14:21:11.445Z"
   },
   {
    "duration": 19,
    "start_time": "2023-04-22T14:21:13.664Z"
   },
   {
    "duration": 310,
    "start_time": "2023-04-22T14:21:13.685Z"
   },
   {
    "duration": 142,
    "start_time": "2023-04-22T14:21:13.998Z"
   },
   {
    "duration": 2825,
    "start_time": "2023-04-22T14:21:14.142Z"
   },
   {
    "duration": 7,
    "start_time": "2023-04-22T14:21:16.969Z"
   },
   {
    "duration": 193,
    "start_time": "2023-04-22T14:21:16.978Z"
   },
   {
    "duration": 100,
    "start_time": "2023-04-22T14:21:17.172Z"
   },
   {
    "duration": 18,
    "start_time": "2023-04-22T14:21:17.274Z"
   },
   {
    "duration": 167,
    "start_time": "2023-04-22T14:21:17.293Z"
   },
   {
    "duration": 1336,
    "start_time": "2023-04-24T05:56:07.288Z"
   },
   {
    "duration": 87,
    "start_time": "2023-04-24T05:56:08.626Z"
   },
   {
    "duration": 23,
    "start_time": "2023-04-24T05:56:10.987Z"
   },
   {
    "duration": 5,
    "start_time": "2023-04-24T05:56:13.697Z"
   },
   {
    "duration": 114,
    "start_time": "2023-04-24T05:56:41.258Z"
   },
   {
    "duration": 19,
    "start_time": "2023-04-24T05:56:45.949Z"
   },
   {
    "duration": 13,
    "start_time": "2023-04-24T05:56:50.162Z"
   },
   {
    "duration": 1309,
    "start_time": "2023-04-24T05:59:28.079Z"
   },
   {
    "duration": 52,
    "start_time": "2023-04-24T05:59:29.389Z"
   },
   {
    "duration": 21,
    "start_time": "2023-04-24T05:59:32.374Z"
   },
   {
    "duration": 5,
    "start_time": "2023-04-24T05:59:35.363Z"
   },
   {
    "duration": 6,
    "start_time": "2023-04-24T05:59:39.317Z"
   },
   {
    "duration": 6,
    "start_time": "2023-04-24T06:03:12.382Z"
   },
   {
    "duration": 39,
    "start_time": "2023-04-24T06:03:30.928Z"
   },
   {
    "duration": 5,
    "start_time": "2023-04-24T06:28:20.541Z"
   },
   {
    "duration": 13,
    "start_time": "2023-04-24T06:28:22.162Z"
   },
   {
    "duration": 5,
    "start_time": "2023-04-24T06:28:43.249Z"
   },
   {
    "duration": 1544,
    "start_time": "2023-04-26T04:29:31.350Z"
   },
   {
    "duration": 187,
    "start_time": "2023-04-26T04:29:32.896Z"
   },
   {
    "duration": 25,
    "start_time": "2023-04-26T04:29:36.007Z"
   },
   {
    "duration": 4,
    "start_time": "2023-04-26T04:29:38.640Z"
   },
   {
    "duration": 7,
    "start_time": "2023-04-26T04:29:55.957Z"
   },
   {
    "duration": 5,
    "start_time": "2023-04-26T04:29:57.436Z"
   },
   {
    "duration": 7,
    "start_time": "2023-04-26T04:30:35.417Z"
   },
   {
    "duration": 297,
    "start_time": "2023-04-26T04:30:37.414Z"
   },
   {
    "duration": 6,
    "start_time": "2023-04-26T04:30:49.105Z"
   },
   {
    "duration": 4,
    "start_time": "2023-04-26T04:30:56.364Z"
   },
   {
    "duration": 1330,
    "start_time": "2023-04-26T04:46:12.027Z"
   },
   {
    "duration": 51,
    "start_time": "2023-04-26T04:46:13.359Z"
   },
   {
    "duration": 26,
    "start_time": "2023-04-26T04:46:15.946Z"
   },
   {
    "duration": 5,
    "start_time": "2023-04-26T04:46:19.646Z"
   },
   {
    "duration": 7,
    "start_time": "2023-04-26T04:46:22.504Z"
   },
   {
    "duration": 5,
    "start_time": "2023-04-26T04:46:24.658Z"
   },
   {
    "duration": 5,
    "start_time": "2023-04-26T04:46:46.451Z"
   },
   {
    "duration": 1346,
    "start_time": "2023-04-26T04:47:00.863Z"
   },
   {
    "duration": 53,
    "start_time": "2023-04-26T04:47:02.211Z"
   },
   {
    "duration": 23,
    "start_time": "2023-04-26T04:47:02.800Z"
   },
   {
    "duration": 4,
    "start_time": "2023-04-26T04:47:04.541Z"
   },
   {
    "duration": 6,
    "start_time": "2023-04-26T04:47:06.723Z"
   },
   {
    "duration": 5,
    "start_time": "2023-04-26T04:47:07.807Z"
   },
   {
    "duration": 10,
    "start_time": "2023-04-26T04:47:09.636Z"
   },
   {
    "duration": 6,
    "start_time": "2023-04-26T04:47:19.915Z"
   },
   {
    "duration": 5,
    "start_time": "2023-04-26T05:28:59.755Z"
   },
   {
    "duration": 13,
    "start_time": "2023-04-26T05:29:12.292Z"
   },
   {
    "duration": 6,
    "start_time": "2023-04-26T05:29:25.430Z"
   },
   {
    "duration": 6,
    "start_time": "2023-04-26T05:29:27.733Z"
   },
   {
    "duration": 1352,
    "start_time": "2023-04-26T05:29:43.623Z"
   },
   {
    "duration": 51,
    "start_time": "2023-04-26T05:29:44.976Z"
   },
   {
    "duration": 23,
    "start_time": "2023-04-26T05:29:46.489Z"
   },
   {
    "duration": 5,
    "start_time": "2023-04-26T05:29:47.975Z"
   },
   {
    "duration": 7,
    "start_time": "2023-04-26T05:29:48.962Z"
   },
   {
    "duration": 5,
    "start_time": "2023-04-26T05:29:49.261Z"
   },
   {
    "duration": 9,
    "start_time": "2023-04-26T05:29:49.800Z"
   },
   {
    "duration": 6,
    "start_time": "2023-04-26T05:29:50.062Z"
   },
   {
    "duration": 4,
    "start_time": "2023-04-26T05:29:50.299Z"
   },
   {
    "duration": 6,
    "start_time": "2023-04-26T05:29:51.286Z"
   },
   {
    "duration": 20,
    "start_time": "2023-04-26T05:29:51.293Z"
   },
   {
    "duration": 25,
    "start_time": "2023-04-26T05:29:51.560Z"
   },
   {
    "duration": 10,
    "start_time": "2023-04-26T05:29:56.689Z"
   },
   {
    "duration": 38,
    "start_time": "2023-04-26T05:30:02.531Z"
   },
   {
    "duration": 171,
    "start_time": "2023-04-26T05:30:07.482Z"
   },
   {
    "duration": 5,
    "start_time": "2023-04-26T05:30:11.398Z"
   },
   {
    "duration": 6,
    "start_time": "2023-04-26T05:30:16.372Z"
   },
   {
    "duration": 129,
    "start_time": "2023-04-26T05:30:18.482Z"
   },
   {
    "duration": 5,
    "start_time": "2023-04-26T05:30:30.800Z"
   },
   {
    "duration": 5,
    "start_time": "2023-04-26T05:30:33.123Z"
   },
   {
    "duration": 6,
    "start_time": "2023-04-26T05:30:35.760Z"
   },
   {
    "duration": 29,
    "start_time": "2023-04-26T05:30:36.907Z"
   },
   {
    "duration": 5,
    "start_time": "2023-04-26T05:30:52.175Z"
   },
   {
    "duration": 6,
    "start_time": "2023-04-26T05:30:55.035Z"
   },
   {
    "duration": 31,
    "start_time": "2023-04-26T05:31:02.337Z"
   },
   {
    "duration": 212,
    "start_time": "2023-04-26T05:31:14.057Z"
   },
   {
    "duration": 1553,
    "start_time": "2023-04-27T02:30:54.061Z"
   },
   {
    "duration": 109,
    "start_time": "2023-04-27T02:30:55.616Z"
   },
   {
    "duration": 25,
    "start_time": "2023-04-27T02:30:56.004Z"
   },
   {
    "duration": 5,
    "start_time": "2023-04-27T02:30:57.588Z"
   },
   {
    "duration": 5,
    "start_time": "2023-04-27T02:30:58.910Z"
   },
   {
    "duration": 3,
    "start_time": "2023-04-27T02:30:59.507Z"
   },
   {
    "duration": 7,
    "start_time": "2023-04-27T02:31:00.382Z"
   },
   {
    "duration": 5,
    "start_time": "2023-04-27T02:31:01.021Z"
   },
   {
    "duration": 4,
    "start_time": "2023-04-27T02:31:01.844Z"
   },
   {
    "duration": 6,
    "start_time": "2023-04-27T02:31:03.327Z"
   },
   {
    "duration": 6,
    "start_time": "2023-04-27T02:31:03.843Z"
   },
   {
    "duration": 22,
    "start_time": "2023-04-27T02:31:05.299Z"
   },
   {
    "duration": 13,
    "start_time": "2023-04-27T02:31:11.183Z"
   },
   {
    "duration": 34,
    "start_time": "2023-04-27T02:31:21.011Z"
   },
   {
    "duration": 181,
    "start_time": "2023-04-27T02:31:42.817Z"
   },
   {
    "duration": 4,
    "start_time": "2023-04-27T02:31:48.903Z"
   },
   {
    "duration": 5,
    "start_time": "2023-04-27T02:31:54.497Z"
   },
   {
    "duration": 147,
    "start_time": "2023-04-27T02:31:56.064Z"
   },
   {
    "duration": 108,
    "start_time": "2023-04-27T02:34:06.435Z"
   },
   {
    "duration": 100,
    "start_time": "2023-04-27T02:34:16.919Z"
   },
   {
    "duration": 4,
    "start_time": "2023-04-27T02:34:21.257Z"
   },
   {
    "duration": 5,
    "start_time": "2023-04-27T02:34:27.950Z"
   },
   {
    "duration": 35,
    "start_time": "2023-04-27T02:34:28.911Z"
   },
   {
    "duration": 5,
    "start_time": "2023-04-27T02:34:54.160Z"
   },
   {
    "duration": 5,
    "start_time": "2023-04-27T02:34:56.214Z"
   },
   {
    "duration": 36,
    "start_time": "2023-04-27T02:34:57.747Z"
   },
   {
    "duration": 5,
    "start_time": "2023-04-27T03:03:44.226Z"
   },
   {
    "duration": 16,
    "start_time": "2023-04-27T03:03:47.167Z"
   },
   {
    "duration": 30,
    "start_time": "2023-04-27T03:03:48.108Z"
   },
   {
    "duration": 6,
    "start_time": "2023-04-27T03:18:39.088Z"
   },
   {
    "duration": 6,
    "start_time": "2023-04-27T03:18:41.421Z"
   },
   {
    "duration": 237,
    "start_time": "2023-04-27T03:18:42.359Z"
   },
   {
    "duration": 113,
    "start_time": "2023-04-27T03:19:06.469Z"
   },
   {
    "duration": 2653,
    "start_time": "2023-04-27T03:19:09.756Z"
   },
   {
    "duration": 256,
    "start_time": "2023-04-27T03:47:11.796Z"
   },
   {
    "duration": 99,
    "start_time": "2023-04-27T03:49:09.698Z"
   },
   {
    "duration": 3153,
    "start_time": "2023-04-27T03:49:39.455Z"
   },
   {
    "duration": 11,
    "start_time": "2023-04-27T03:50:56.218Z"
   },
   {
    "duration": 18,
    "start_time": "2023-04-27T03:51:41.110Z"
   },
   {
    "duration": 14,
    "start_time": "2023-04-27T03:56:48.906Z"
   },
   {
    "duration": 5,
    "start_time": "2023-04-27T03:56:57.919Z"
   },
   {
    "duration": 25,
    "start_time": "2023-04-27T04:05:54.268Z"
   },
   {
    "duration": 13,
    "start_time": "2023-04-27T04:07:35.561Z"
   },
   {
    "duration": 12,
    "start_time": "2023-04-27T04:08:27.737Z"
   },
   {
    "duration": 11,
    "start_time": "2023-04-27T04:09:17.955Z"
   },
   {
    "duration": 1510,
    "start_time": "2023-04-27T04:22:12.910Z"
   },
   {
    "duration": 67,
    "start_time": "2023-04-27T04:22:14.422Z"
   },
   {
    "duration": 23,
    "start_time": "2023-04-27T04:22:17.430Z"
   },
   {
    "duration": 5,
    "start_time": "2023-04-27T04:22:22.995Z"
   },
   {
    "duration": 6,
    "start_time": "2023-04-27T04:22:30.712Z"
   },
   {
    "duration": 5,
    "start_time": "2023-04-27T04:22:31.499Z"
   },
   {
    "duration": 2114,
    "start_time": "2023-04-27T04:22:33.538Z"
   },
   {
    "duration": 6,
    "start_time": "2023-04-27T04:22:42.218Z"
   },
   {
    "duration": 6,
    "start_time": "2023-04-27T04:22:44.092Z"
   },
   {
    "duration": 1956,
    "start_time": "2023-04-27T04:22:49.612Z"
   },
   {
    "duration": 3,
    "start_time": "2023-04-27T04:23:58.748Z"
   },
   {
    "duration": 1487,
    "start_time": "2023-04-27T04:24:09.807Z"
   },
   {
    "duration": 60,
    "start_time": "2023-04-27T04:24:13.365Z"
   },
   {
    "duration": 22,
    "start_time": "2023-04-27T04:24:15.301Z"
   },
   {
    "duration": 4,
    "start_time": "2023-04-27T04:24:18.028Z"
   },
   {
    "duration": 5,
    "start_time": "2023-04-27T04:24:20.719Z"
   },
   {
    "duration": 4,
    "start_time": "2023-04-27T04:24:21.432Z"
   },
   {
    "duration": 3,
    "start_time": "2023-04-27T04:24:22.841Z"
   },
   {
    "duration": 5,
    "start_time": "2023-04-27T04:24:24.131Z"
   },
   {
    "duration": 4,
    "start_time": "2023-04-27T04:24:28.201Z"
   },
   {
    "duration": 7,
    "start_time": "2023-04-27T04:24:30.699Z"
   },
   {
    "duration": 6,
    "start_time": "2023-04-27T04:24:31.828Z"
   },
   {
    "duration": 24,
    "start_time": "2023-04-27T04:24:33.892Z"
   },
   {
    "duration": 12,
    "start_time": "2023-04-27T04:24:36.640Z"
   },
   {
    "duration": 43,
    "start_time": "2023-04-27T04:24:45.039Z"
   },
   {
    "duration": 203,
    "start_time": "2023-04-27T04:24:48.727Z"
   },
   {
    "duration": 5,
    "start_time": "2023-04-27T04:24:54.819Z"
   },
   {
    "duration": 5,
    "start_time": "2023-04-27T04:25:32.760Z"
   },
   {
    "duration": 237,
    "start_time": "2023-04-27T04:25:34.194Z"
   },
   {
    "duration": 43,
    "start_time": "2023-04-27T04:25:37.742Z"
   },
   {
    "duration": 2833,
    "start_time": "2023-04-27T04:25:40.459Z"
   },
   {
    "duration": 293,
    "start_time": "2023-04-27T04:25:46.669Z"
   },
   {
    "duration": 162,
    "start_time": "2023-04-27T04:25:50.924Z"
   },
   {
    "duration": 2746,
    "start_time": "2023-04-27T04:25:55.538Z"
   },
   {
    "duration": 262,
    "start_time": "2023-04-27T04:26:31.530Z"
   },
   {
    "duration": 27,
    "start_time": "2023-04-27T04:26:35.996Z"
   },
   {
    "duration": 2687,
    "start_time": "2023-04-27T04:26:38.341Z"
   },
   {
    "duration": 9,
    "start_time": "2023-04-27T04:26:42.808Z"
   },
   {
    "duration": 12,
    "start_time": "2023-04-27T04:26:48.455Z"
   },
   {
    "duration": 9,
    "start_time": "2023-04-27T04:26:57.668Z"
   },
   {
    "duration": 4,
    "start_time": "2023-04-27T04:38:44.863Z"
   },
   {
    "duration": 11,
    "start_time": "2023-04-27T04:38:48.594Z"
   },
   {
    "duration": 306,
    "start_time": "2023-04-27T04:38:50.654Z"
   },
   {
    "duration": 78,
    "start_time": "2023-04-27T04:41:05.720Z"
   },
   {
    "duration": 3693,
    "start_time": "2023-04-27T04:42:00.284Z"
   },
   {
    "duration": 13,
    "start_time": "2023-04-27T04:42:28.196Z"
   },
   {
    "duration": 152,
    "start_time": "2023-04-27T04:42:41.018Z"
   },
   {
    "duration": 17,
    "start_time": "2023-04-27T04:42:49.400Z"
   },
   {
    "duration": 1626,
    "start_time": "2023-04-27T04:42:51.335Z"
   },
   {
    "duration": 14,
    "start_time": "2023-04-27T04:42:55.600Z"
   },
   {
    "duration": 205,
    "start_time": "2023-04-27T04:42:57.160Z"
   },
   {
    "duration": 130,
    "start_time": "2023-04-27T04:42:57.965Z"
   },
   {
    "duration": 2368,
    "start_time": "2023-04-27T04:42:58.591Z"
   },
   {
    "duration": 6,
    "start_time": "2023-04-27T04:43:05.695Z"
   },
   {
    "duration": 154,
    "start_time": "2023-04-27T04:43:13.003Z"
   },
   {
    "duration": 72,
    "start_time": "2023-04-27T04:43:13.669Z"
   },
   {
    "duration": 14,
    "start_time": "2023-04-27T04:43:14.109Z"
   },
   {
    "duration": 133,
    "start_time": "2023-04-27T04:43:14.544Z"
   },
   {
    "duration": 2584,
    "start_time": "2023-04-27T16:08:37.580Z"
   },
   {
    "duration": 55,
    "start_time": "2023-04-27T16:08:40.166Z"
   },
   {
    "duration": 27,
    "start_time": "2023-04-27T16:08:40.223Z"
   },
   {
    "duration": 11,
    "start_time": "2023-04-27T16:08:40.252Z"
   },
   {
    "duration": 14,
    "start_time": "2023-04-27T16:08:40.266Z"
   },
   {
    "duration": 7,
    "start_time": "2023-04-27T16:08:40.291Z"
   },
   {
    "duration": 16,
    "start_time": "2023-04-27T16:08:40.300Z"
   },
   {
    "duration": 9,
    "start_time": "2023-04-27T16:08:40.318Z"
   },
   {
    "duration": 5,
    "start_time": "2023-04-27T16:08:40.329Z"
   },
   {
    "duration": 25,
    "start_time": "2023-04-27T16:08:40.337Z"
   },
   {
    "duration": 21,
    "start_time": "2023-04-27T16:08:40.364Z"
   },
   {
    "duration": 40,
    "start_time": "2023-04-27T16:08:40.388Z"
   },
   {
    "duration": 11,
    "start_time": "2023-04-27T16:08:40.430Z"
   },
   {
    "duration": 49,
    "start_time": "2023-04-27T16:08:40.446Z"
   },
   {
    "duration": 196,
    "start_time": "2023-04-27T16:08:40.497Z"
   },
   {
    "duration": 7,
    "start_time": "2023-04-27T16:08:40.696Z"
   },
   {
    "duration": 7,
    "start_time": "2023-04-27T16:08:40.705Z"
   },
   {
    "duration": 239,
    "start_time": "2023-04-27T16:08:40.713Z"
   },
   {
    "duration": 39,
    "start_time": "2023-04-27T16:08:40.954Z"
   },
   {
    "duration": 2800,
    "start_time": "2023-04-27T16:08:40.994Z"
   },
   {
    "duration": 251,
    "start_time": "2023-04-27T16:08:43.795Z"
   },
   {
    "duration": 145,
    "start_time": "2023-04-27T16:08:44.047Z"
   },
   {
    "duration": 2754,
    "start_time": "2023-04-27T16:08:44.194Z"
   },
   {
    "duration": 6,
    "start_time": "2023-04-27T16:08:46.949Z"
   },
   {
    "duration": 14,
    "start_time": "2023-04-27T16:08:46.956Z"
   },
   {
    "duration": 189,
    "start_time": "2023-04-27T16:08:46.972Z"
   },
   {
    "duration": 0,
    "start_time": "2023-04-27T16:08:47.163Z"
   },
   {
    "duration": 0,
    "start_time": "2023-04-27T16:08:47.164Z"
   },
   {
    "duration": 0,
    "start_time": "2023-04-27T16:08:47.165Z"
   },
   {
    "duration": 0,
    "start_time": "2023-04-27T16:08:47.166Z"
   },
   {
    "duration": 0,
    "start_time": "2023-04-27T16:08:47.167Z"
   },
   {
    "duration": 0,
    "start_time": "2023-04-27T16:08:47.168Z"
   },
   {
    "duration": 0,
    "start_time": "2023-04-27T16:08:47.169Z"
   },
   {
    "duration": 0,
    "start_time": "2023-04-27T16:08:47.170Z"
   },
   {
    "duration": 0,
    "start_time": "2023-04-27T16:08:47.171Z"
   },
   {
    "duration": 1,
    "start_time": "2023-04-27T16:08:47.171Z"
   },
   {
    "duration": 0,
    "start_time": "2023-04-27T16:08:47.192Z"
   },
   {
    "duration": 0,
    "start_time": "2023-04-27T16:08:47.193Z"
   },
   {
    "duration": 0,
    "start_time": "2023-04-27T16:08:47.194Z"
   },
   {
    "duration": 0,
    "start_time": "2023-04-27T16:08:47.195Z"
   },
   {
    "duration": 0,
    "start_time": "2023-04-27T16:08:47.196Z"
   },
   {
    "duration": 0,
    "start_time": "2023-04-27T16:08:47.197Z"
   },
   {
    "duration": 9,
    "start_time": "2023-04-27T16:10:29.693Z"
   },
   {
    "duration": 9,
    "start_time": "2023-04-27T16:10:33.180Z"
   },
   {
    "duration": 1842,
    "start_time": "2023-04-28T02:15:12.366Z"
   },
   {
    "duration": 100,
    "start_time": "2023-04-28T02:15:14.211Z"
   },
   {
    "duration": 29,
    "start_time": "2023-04-28T02:15:16.363Z"
   },
   {
    "duration": 5,
    "start_time": "2023-04-28T02:15:18.953Z"
   },
   {
    "duration": 9,
    "start_time": "2023-04-28T02:15:20.540Z"
   },
   {
    "duration": 5,
    "start_time": "2023-04-28T02:15:20.946Z"
   },
   {
    "duration": 4,
    "start_time": "2023-04-28T02:15:21.871Z"
   },
   {
    "duration": 7,
    "start_time": "2023-04-28T02:15:22.324Z"
   },
   {
    "duration": 5,
    "start_time": "2023-04-28T02:15:22.797Z"
   },
   {
    "duration": 7,
    "start_time": "2023-04-28T02:15:24.369Z"
   },
   {
    "duration": 7,
    "start_time": "2023-04-28T02:15:24.827Z"
   },
   {
    "duration": 39,
    "start_time": "2023-04-28T02:15:25.835Z"
   },
   {
    "duration": 16,
    "start_time": "2023-04-28T02:15:30.849Z"
   },
   {
    "duration": 50,
    "start_time": "2023-04-28T02:15:34.226Z"
   },
   {
    "duration": 209,
    "start_time": "2023-04-28T02:15:40.463Z"
   },
   {
    "duration": 6,
    "start_time": "2023-04-28T02:15:43.314Z"
   },
   {
    "duration": 6,
    "start_time": "2023-04-28T02:15:47.044Z"
   },
   {
    "duration": 255,
    "start_time": "2023-04-28T02:15:49.168Z"
   },
   {
    "duration": 90,
    "start_time": "2023-04-28T02:15:51.255Z"
   },
   {
    "duration": 2985,
    "start_time": "2023-04-28T02:15:57.258Z"
   },
   {
    "duration": 274,
    "start_time": "2023-04-28T02:16:02.471Z"
   },
   {
    "duration": 61,
    "start_time": "2023-04-28T02:16:04.585Z"
   },
   {
    "duration": 2956,
    "start_time": "2023-04-28T02:16:06.945Z"
   },
   {
    "duration": 9,
    "start_time": "2023-04-28T02:16:10.314Z"
   },
   {
    "duration": 6,
    "start_time": "2023-04-28T02:16:11.900Z"
   },
   {
    "duration": 117,
    "start_time": "2023-04-28T02:16:17.447Z"
   },
   {
    "duration": 15,
    "start_time": "2023-04-28T02:17:21.176Z"
   },
   {
    "duration": 15,
    "start_time": "2023-04-28T02:17:50.664Z"
   },
   {
    "duration": 6,
    "start_time": "2023-04-28T02:18:08.014Z"
   },
   {
    "duration": 306,
    "start_time": "2023-04-28T02:18:38.437Z"
   },
   {
    "duration": 159,
    "start_time": "2023-04-28T02:18:40.183Z"
   },
   {
    "duration": 3896,
    "start_time": "2023-04-28T02:25:55.958Z"
   },
   {
    "duration": 17,
    "start_time": "2023-04-28T02:25:59.856Z"
   },
   {
    "duration": 196,
    "start_time": "2023-04-28T02:26:00.772Z"
   },
   {
    "duration": 69,
    "start_time": "2023-04-28T02:26:01.176Z"
   },
   {
    "duration": 1806,
    "start_time": "2023-04-28T02:26:01.945Z"
   },
   {
    "duration": 18,
    "start_time": "2023-04-28T02:26:03.754Z"
   },
   {
    "duration": 254,
    "start_time": "2023-04-28T02:26:03.775Z"
   },
   {
    "duration": 107,
    "start_time": "2023-04-28T02:26:04.040Z"
   },
   {
    "duration": 2708,
    "start_time": "2023-04-28T02:26:04.150Z"
   },
   {
    "duration": 6,
    "start_time": "2023-04-28T02:26:06.860Z"
   },
   {
    "duration": 166,
    "start_time": "2023-04-28T02:26:06.868Z"
   },
   {
    "duration": 70,
    "start_time": "2023-04-28T02:26:07.036Z"
   },
   {
    "duration": 35,
    "start_time": "2023-04-28T02:26:07.108Z"
   },
   {
    "duration": 148,
    "start_time": "2023-04-28T02:26:07.146Z"
   },
   {
    "duration": 1520,
    "start_time": "2023-04-28T02:39:55.035Z"
   },
   {
    "duration": 61,
    "start_time": "2023-04-28T02:39:56.558Z"
   },
   {
    "duration": 29,
    "start_time": "2023-04-28T02:39:57.605Z"
   },
   {
    "duration": 5,
    "start_time": "2023-04-28T02:39:59.018Z"
   },
   {
    "duration": 8,
    "start_time": "2023-04-28T02:40:00.775Z"
   },
   {
    "duration": 5,
    "start_time": "2023-04-28T02:40:01.266Z"
   },
   {
    "duration": 4,
    "start_time": "2023-04-28T02:40:02.177Z"
   },
   {
    "duration": 7,
    "start_time": "2023-04-28T02:40:02.731Z"
   },
   {
    "duration": 6,
    "start_time": "2023-04-28T02:40:03.284Z"
   },
   {
    "duration": 7,
    "start_time": "2023-04-28T02:40:04.689Z"
   },
   {
    "duration": 7,
    "start_time": "2023-04-28T02:40:05.132Z"
   },
   {
    "duration": 34,
    "start_time": "2023-04-28T02:40:05.744Z"
   },
   {
    "duration": 15,
    "start_time": "2023-04-28T02:40:07.626Z"
   },
   {
    "duration": 46,
    "start_time": "2023-04-28T02:40:10.297Z"
   },
   {
    "duration": 209,
    "start_time": "2023-04-28T02:40:13.757Z"
   },
   {
    "duration": 6,
    "start_time": "2023-04-28T02:40:16.111Z"
   },
   {
    "duration": 6,
    "start_time": "2023-04-28T02:40:18.154Z"
   },
   {
    "duration": 253,
    "start_time": "2023-04-28T02:40:19.378Z"
   },
   {
    "duration": 42,
    "start_time": "2023-04-28T02:40:20.706Z"
   },
   {
    "duration": 2900,
    "start_time": "2023-04-28T02:40:22.079Z"
   },
   {
    "duration": 281,
    "start_time": "2023-04-28T02:40:26.208Z"
   },
   {
    "duration": 49,
    "start_time": "2023-04-28T02:40:27.700Z"
   },
   {
    "duration": 2963,
    "start_time": "2023-04-28T02:40:29.202Z"
   },
   {
    "duration": 8,
    "start_time": "2023-04-28T02:40:32.167Z"
   },
   {
    "duration": 114,
    "start_time": "2023-04-28T02:40:33.551Z"
   },
   {
    "duration": 11,
    "start_time": "2023-04-28T02:40:36.059Z"
   },
   {
    "duration": 14,
    "start_time": "2023-04-28T02:42:17.416Z"
   },
   {
    "duration": 6,
    "start_time": "2023-04-28T02:42:24.537Z"
   },
   {
    "duration": 327,
    "start_time": "2023-04-28T02:42:27.122Z"
   },
   {
    "duration": 105,
    "start_time": "2023-04-28T02:42:29.340Z"
   },
   {
    "duration": 3819,
    "start_time": "2023-04-28T02:42:31.494Z"
   },
   {
    "duration": 17,
    "start_time": "2023-04-28T02:43:24.730Z"
   },
   {
    "duration": 186,
    "start_time": "2023-04-28T02:43:30.298Z"
   },
   {
    "duration": 51,
    "start_time": "2023-04-28T02:43:30.894Z"
   },
   {
    "duration": 1796,
    "start_time": "2023-04-28T02:43:32.391Z"
   },
   {
    "duration": 18,
    "start_time": "2023-04-28T02:43:35.260Z"
   },
   {
    "duration": 237,
    "start_time": "2023-04-28T02:43:35.952Z"
   },
   {
    "duration": 91,
    "start_time": "2023-04-28T02:43:36.851Z"
   },
   {
    "duration": 2548,
    "start_time": "2023-04-28T02:43:37.554Z"
   },
   {
    "duration": 6,
    "start_time": "2023-04-28T02:43:40.105Z"
   },
   {
    "duration": 150,
    "start_time": "2023-04-28T02:43:41.365Z"
   },
   {
    "duration": 68,
    "start_time": "2023-04-28T02:43:41.716Z"
   },
   {
    "duration": 18,
    "start_time": "2023-04-28T02:43:41.976Z"
   },
   {
    "duration": 133,
    "start_time": "2023-04-28T02:43:42.231Z"
   },
   {
    "duration": 3117,
    "start_time": "2023-04-28T08:37:32.399Z"
   },
   {
    "duration": 68,
    "start_time": "2023-04-28T08:37:35.519Z"
   },
   {
    "duration": 40,
    "start_time": "2023-04-28T08:37:35.589Z"
   },
   {
    "duration": 24,
    "start_time": "2023-04-28T08:37:35.632Z"
   },
   {
    "duration": 13,
    "start_time": "2023-04-28T08:37:35.659Z"
   },
   {
    "duration": 10,
    "start_time": "2023-04-28T08:37:35.674Z"
   },
   {
    "duration": 5,
    "start_time": "2023-04-28T08:37:35.686Z"
   },
   {
    "duration": 9,
    "start_time": "2023-04-28T08:37:35.693Z"
   },
   {
    "duration": 12,
    "start_time": "2023-04-28T08:37:35.704Z"
   },
   {
    "duration": 9,
    "start_time": "2023-04-28T08:37:35.755Z"
   },
   {
    "duration": 9,
    "start_time": "2023-04-28T08:37:35.766Z"
   },
   {
    "duration": 35,
    "start_time": "2023-04-28T08:37:35.780Z"
   },
   {
    "duration": 48,
    "start_time": "2023-04-28T08:37:35.817Z"
   },
   {
    "duration": 65,
    "start_time": "2023-04-28T08:37:35.867Z"
   },
   {
    "duration": 288,
    "start_time": "2023-04-28T08:37:35.935Z"
   },
   {
    "duration": 7,
    "start_time": "2023-04-28T08:37:36.226Z"
   },
   {
    "duration": 23,
    "start_time": "2023-04-28T08:37:36.235Z"
   },
   {
    "duration": 385,
    "start_time": "2023-04-28T08:37:36.261Z"
   },
   {
    "duration": 117,
    "start_time": "2023-04-28T08:37:36.648Z"
   },
   {
    "duration": 3413,
    "start_time": "2023-04-28T08:37:36.767Z"
   },
   {
    "duration": 286,
    "start_time": "2023-04-28T08:37:40.182Z"
   },
   {
    "duration": 192,
    "start_time": "2023-04-28T08:37:40.470Z"
   },
   {
    "duration": 2849,
    "start_time": "2023-04-28T08:37:40.664Z"
   },
   {
    "duration": 10,
    "start_time": "2023-04-28T08:37:43.515Z"
   },
   {
    "duration": 29,
    "start_time": "2023-04-28T08:37:43.527Z"
   },
   {
    "duration": 8,
    "start_time": "2023-04-28T08:37:43.558Z"
   },
   {
    "duration": 291,
    "start_time": "2023-04-28T08:37:43.568Z"
   },
   {
    "duration": 100,
    "start_time": "2023-04-28T08:37:43.862Z"
   },
   {
    "duration": 3699,
    "start_time": "2023-04-28T08:37:43.964Z"
   },
   {
    "duration": 17,
    "start_time": "2023-04-28T08:37:47.664Z"
   },
   {
    "duration": 204,
    "start_time": "2023-04-28T08:37:47.684Z"
   },
   {
    "duration": 166,
    "start_time": "2023-04-28T08:37:47.890Z"
   },
   {
    "duration": 1740,
    "start_time": "2023-04-28T08:37:48.059Z"
   },
   {
    "duration": 20,
    "start_time": "2023-04-28T08:37:49.801Z"
   },
   {
    "duration": 297,
    "start_time": "2023-04-28T08:37:49.823Z"
   },
   {
    "duration": 56,
    "start_time": "2023-04-28T08:37:50.122Z"
   },
   {
    "duration": 2671,
    "start_time": "2023-04-28T08:37:50.180Z"
   },
   {
    "duration": 10,
    "start_time": "2023-04-28T08:37:52.856Z"
   },
   {
    "duration": 203,
    "start_time": "2023-04-28T08:37:52.869Z"
   },
   {
    "duration": 89,
    "start_time": "2023-04-28T08:37:53.075Z"
   },
   {
    "duration": 19,
    "start_time": "2023-04-28T08:37:53.167Z"
   },
   {
    "duration": 192,
    "start_time": "2023-04-28T08:37:53.188Z"
   },
   {
    "duration": 1536,
    "start_time": "2023-04-28T16:37:26.029Z"
   },
   {
    "duration": 170,
    "start_time": "2023-04-28T16:37:27.568Z"
   },
   {
    "duration": 27,
    "start_time": "2023-04-28T16:37:28.294Z"
   },
   {
    "duration": 5,
    "start_time": "2023-04-28T16:37:29.955Z"
   },
   {
    "duration": 7,
    "start_time": "2023-04-28T16:37:32.163Z"
   },
   {
    "duration": 5,
    "start_time": "2023-04-28T16:37:32.886Z"
   },
   {
    "duration": 113,
    "start_time": "2023-04-28T16:37:38.404Z"
   },
   {
    "duration": 204,
    "start_time": "2023-04-28T16:38:06.092Z"
   },
   {
    "duration": 1404,
    "start_time": "2023-04-28T16:39:52.640Z"
   },
   {
    "duration": 55,
    "start_time": "2023-04-28T16:39:54.046Z"
   },
   {
    "duration": 27,
    "start_time": "2023-04-28T16:39:54.102Z"
   },
   {
    "duration": 5,
    "start_time": "2023-04-28T16:39:55.470Z"
   },
   {
    "duration": 7,
    "start_time": "2023-04-28T16:39:57.468Z"
   },
   {
    "duration": 5,
    "start_time": "2023-04-28T16:39:57.800Z"
   },
   {
    "duration": 9,
    "start_time": "2023-04-28T16:39:59.936Z"
   },
   {
    "duration": 6,
    "start_time": "2023-04-28T16:40:02.742Z"
   },
   {
    "duration": 4,
    "start_time": "2023-04-28T16:40:06.610Z"
   },
   {
    "duration": 6,
    "start_time": "2023-04-28T16:40:09.165Z"
   },
   {
    "duration": 7,
    "start_time": "2023-04-28T16:40:19.406Z"
   },
   {
    "duration": 31,
    "start_time": "2023-04-28T16:40:19.912Z"
   },
   {
    "duration": 13,
    "start_time": "2023-04-28T16:40:23.233Z"
   },
   {
    "duration": 43,
    "start_time": "2023-04-28T16:40:26.310Z"
   },
   {
    "duration": 195,
    "start_time": "2023-04-28T16:40:32.158Z"
   },
   {
    "duration": 7,
    "start_time": "2023-04-28T16:40:38.110Z"
   },
   {
    "duration": 6,
    "start_time": "2023-04-28T16:41:12.908Z"
   },
   {
    "duration": 136,
    "start_time": "2023-04-28T16:41:14.291Z"
   },
   {
    "duration": 6,
    "start_time": "2023-04-28T16:42:30.132Z"
   },
   {
    "duration": 25,
    "start_time": "2023-04-28T16:42:31.041Z"
   },
   {
    "duration": 7,
    "start_time": "2023-04-28T16:43:52.479Z"
   },
   {
    "duration": 46,
    "start_time": "2023-04-28T16:43:53.409Z"
   },
   {
    "duration": 6,
    "start_time": "2023-04-28T16:45:22.775Z"
   },
   {
    "duration": 24,
    "start_time": "2023-04-28T16:45:28.446Z"
   },
   {
    "duration": 6,
    "start_time": "2023-04-28T16:45:58.704Z"
   },
   {
    "duration": 26,
    "start_time": "2023-04-28T16:45:59.259Z"
   },
   {
    "duration": 7,
    "start_time": "2023-04-28T16:46:54.800Z"
   },
   {
    "duration": 29,
    "start_time": "2023-04-28T16:46:55.632Z"
   },
   {
    "duration": 6,
    "start_time": "2023-04-28T16:47:12.870Z"
   },
   {
    "duration": 42,
    "start_time": "2023-04-28T16:47:14.503Z"
   },
   {
    "duration": 1466,
    "start_time": "2023-04-28T16:50:11.463Z"
   },
   {
    "duration": 51,
    "start_time": "2023-04-28T16:50:12.931Z"
   },
   {
    "duration": 26,
    "start_time": "2023-04-28T16:50:15.028Z"
   },
   {
    "duration": 5,
    "start_time": "2023-04-28T16:50:22.752Z"
   },
   {
    "duration": 6,
    "start_time": "2023-04-28T16:50:25.206Z"
   },
   {
    "duration": 5,
    "start_time": "2023-04-28T16:50:25.779Z"
   },
   {
    "duration": 7,
    "start_time": "2023-04-28T16:50:44.940Z"
   },
   {
    "duration": 6,
    "start_time": "2023-04-28T16:50:45.542Z"
   },
   {
    "duration": 5,
    "start_time": "2023-04-28T16:50:47.162Z"
   },
   {
    "duration": 6,
    "start_time": "2023-04-28T16:50:49.969Z"
   },
   {
    "duration": 8,
    "start_time": "2023-04-28T16:50:50.419Z"
   },
   {
    "duration": 39,
    "start_time": "2023-04-28T16:50:51.749Z"
   },
   {
    "duration": 16,
    "start_time": "2023-04-28T16:50:55.182Z"
   },
   {
    "duration": 53,
    "start_time": "2023-04-28T16:50:57.441Z"
   },
   {
    "duration": 206,
    "start_time": "2023-04-28T16:51:06.889Z"
   },
   {
    "duration": 6,
    "start_time": "2023-04-28T16:51:10.604Z"
   },
   {
    "duration": 9,
    "start_time": "2023-04-28T16:51:14.662Z"
   },
   {
    "duration": 180,
    "start_time": "2023-04-28T16:51:15.848Z"
   },
   {
    "duration": 5,
    "start_time": "2023-04-28T16:53:23.425Z"
   },
   {
    "duration": 6,
    "start_time": "2023-04-28T16:53:26.018Z"
   },
   {
    "duration": 34,
    "start_time": "2023-04-28T16:53:26.544Z"
   },
   {
    "duration": 8,
    "start_time": "2023-04-28T16:56:31.902Z"
   },
   {
    "duration": 6,
    "start_time": "2023-04-28T16:56:34.684Z"
   },
   {
    "duration": 35,
    "start_time": "2023-04-28T16:56:35.410Z"
   },
   {
    "duration": 6,
    "start_time": "2023-04-28T17:00:55.017Z"
   },
   {
    "duration": 7,
    "start_time": "2023-04-28T17:00:58.601Z"
   },
   {
    "duration": 35,
    "start_time": "2023-04-28T17:00:59.248Z"
   },
   {
    "duration": 6,
    "start_time": "2023-04-28T17:01:54.370Z"
   },
   {
    "duration": 6,
    "start_time": "2023-04-28T17:01:56.911Z"
   },
   {
    "duration": 31,
    "start_time": "2023-04-28T17:01:57.651Z"
   },
   {
    "duration": 5,
    "start_time": "2023-04-28T17:02:59.173Z"
   },
   {
    "duration": 7,
    "start_time": "2023-04-28T17:03:01.386Z"
   },
   {
    "duration": 32,
    "start_time": "2023-04-28T17:03:01.828Z"
   },
   {
    "duration": 6,
    "start_time": "2023-04-28T17:03:42.365Z"
   },
   {
    "duration": 7,
    "start_time": "2023-04-28T17:03:44.594Z"
   },
   {
    "duration": 32,
    "start_time": "2023-04-28T17:03:45.220Z"
   },
   {
    "duration": 5,
    "start_time": "2023-04-28T17:03:58.422Z"
   },
   {
    "duration": 8,
    "start_time": "2023-04-28T17:04:00.640Z"
   },
   {
    "duration": 41,
    "start_time": "2023-04-28T17:04:01.097Z"
   },
   {
    "duration": 2,
    "start_time": "2023-04-28T17:12:17.475Z"
   },
   {
    "duration": 7,
    "start_time": "2023-04-28T17:12:19.614Z"
   },
   {
    "duration": 35,
    "start_time": "2023-04-28T17:12:20.502Z"
   },
   {
    "duration": 1415,
    "start_time": "2023-04-28T17:12:43.032Z"
   },
   {
    "duration": 60,
    "start_time": "2023-04-28T17:12:44.450Z"
   },
   {
    "duration": 35,
    "start_time": "2023-04-28T17:12:44.599Z"
   },
   {
    "duration": 5,
    "start_time": "2023-04-28T17:12:46.089Z"
   },
   {
    "duration": 7,
    "start_time": "2023-04-28T17:12:47.771Z"
   },
   {
    "duration": 5,
    "start_time": "2023-04-28T17:12:48.732Z"
   },
   {
    "duration": 8,
    "start_time": "2023-04-28T17:12:50.290Z"
   },
   {
    "duration": 7,
    "start_time": "2023-04-28T17:12:50.758Z"
   },
   {
    "duration": 5,
    "start_time": "2023-04-28T17:12:51.464Z"
   },
   {
    "duration": 7,
    "start_time": "2023-04-28T17:12:52.967Z"
   },
   {
    "duration": 7,
    "start_time": "2023-04-28T17:12:53.329Z"
   },
   {
    "duration": 27,
    "start_time": "2023-04-28T17:12:53.813Z"
   },
   {
    "duration": 12,
    "start_time": "2023-04-28T17:12:55.289Z"
   },
   {
    "duration": 43,
    "start_time": "2023-04-28T17:12:57.759Z"
   },
   {
    "duration": 217,
    "start_time": "2023-04-28T17:13:01.387Z"
   },
   {
    "duration": 2,
    "start_time": "2023-04-28T17:13:05.486Z"
   },
   {
    "duration": 6,
    "start_time": "2023-04-28T17:13:07.789Z"
   },
   {
    "duration": 118,
    "start_time": "2023-04-28T17:13:08.809Z"
   },
   {
    "duration": 6,
    "start_time": "2023-04-28T17:14:08.329Z"
   },
   {
    "duration": 9,
    "start_time": "2023-04-28T17:14:10.450Z"
   },
   {
    "duration": 35,
    "start_time": "2023-04-28T17:14:11.422Z"
   },
   {
    "duration": 6,
    "start_time": "2023-04-28T17:14:26.229Z"
   },
   {
    "duration": 7,
    "start_time": "2023-04-28T17:14:28.441Z"
   },
   {
    "duration": 46,
    "start_time": "2023-04-28T17:14:29.093Z"
   },
   {
    "duration": 57,
    "start_time": "2023-04-28T17:14:54.570Z"
   },
   {
    "duration": 8,
    "start_time": "2023-04-28T17:15:06.737Z"
   },
   {
    "duration": 7,
    "start_time": "2023-04-28T17:15:09.230Z"
   },
   {
    "duration": 53,
    "start_time": "2023-04-28T17:15:10.284Z"
   },
   {
    "duration": 6,
    "start_time": "2023-04-28T17:15:17.968Z"
   },
   {
    "duration": 10,
    "start_time": "2023-04-28T17:15:19.467Z"
   },
   {
    "duration": 342,
    "start_time": "2023-04-28T17:15:20.063Z"
   },
   {
    "duration": 7,
    "start_time": "2023-04-28T17:35:19.202Z"
   },
   {
    "duration": 6,
    "start_time": "2023-04-28T17:35:22.145Z"
   },
   {
    "duration": 25,
    "start_time": "2023-04-28T17:35:23.516Z"
   },
   {
    "duration": 15,
    "start_time": "2023-04-28T17:42:49.788Z"
   },
   {
    "duration": 6,
    "start_time": "2023-04-28T17:42:52.447Z"
   },
   {
    "duration": 1731,
    "start_time": "2023-04-28T17:42:53.159Z"
   },
   {
    "duration": 224,
    "start_time": "2023-04-28T17:42:57.006Z"
   },
   {
    "duration": 1494,
    "start_time": "2023-04-28T17:43:10.632Z"
   },
   {
    "duration": 55,
    "start_time": "2023-04-28T17:43:12.128Z"
   },
   {
    "duration": 27,
    "start_time": "2023-04-28T17:43:12.844Z"
   },
   {
    "duration": 5,
    "start_time": "2023-04-28T17:43:14.864Z"
   },
   {
    "duration": 7,
    "start_time": "2023-04-28T17:43:17.429Z"
   },
   {
    "duration": 5,
    "start_time": "2023-04-28T17:43:18.356Z"
   },
   {
    "duration": 10,
    "start_time": "2023-04-28T17:43:19.548Z"
   },
   {
    "duration": 6,
    "start_time": "2023-04-28T17:43:19.969Z"
   },
   {
    "duration": 6,
    "start_time": "2023-04-28T17:43:20.372Z"
   },
   {
    "duration": 9,
    "start_time": "2023-04-28T17:43:21.712Z"
   },
   {
    "duration": 12,
    "start_time": "2023-04-28T17:43:22.111Z"
   },
   {
    "duration": 34,
    "start_time": "2023-04-28T17:43:22.773Z"
   },
   {
    "duration": 13,
    "start_time": "2023-04-28T17:43:24.568Z"
   },
   {
    "duration": 64,
    "start_time": "2023-04-28T17:43:26.933Z"
   },
   {
    "duration": 260,
    "start_time": "2023-04-28T17:43:31.381Z"
   },
   {
    "duration": 7,
    "start_time": "2023-04-28T17:43:38.952Z"
   },
   {
    "duration": 9,
    "start_time": "2023-04-28T17:43:42.407Z"
   },
   {
    "duration": 2092,
    "start_time": "2023-04-28T17:43:46.604Z"
   },
   {
    "duration": 173,
    "start_time": "2023-04-28T17:43:54.819Z"
   },
   {
    "duration": 7656,
    "start_time": "2023-04-28T17:44:00.640Z"
   },
   {
    "duration": 1935,
    "start_time": "2023-04-28T17:44:30.856Z"
   },
   {
    "duration": 15,
    "start_time": "2023-04-28T17:45:47.210Z"
   },
   {
    "duration": 9,
    "start_time": "2023-04-28T17:45:49.973Z"
   },
   {
    "duration": 307,
    "start_time": "2023-04-28T17:45:50.618Z"
   },
   {
    "duration": 6,
    "start_time": "2023-04-28T17:46:18.718Z"
   },
   {
    "duration": 7,
    "start_time": "2023-04-28T17:46:21.235Z"
   },
   {
    "duration": 1680,
    "start_time": "2023-04-28T17:46:23.217Z"
   },
   {
    "duration": 1656,
    "start_time": "2023-04-28T18:03:55.194Z"
   },
   {
    "duration": 74,
    "start_time": "2023-04-28T18:03:56.853Z"
   },
   {
    "duration": 27,
    "start_time": "2023-04-28T18:03:56.930Z"
   },
   {
    "duration": 5,
    "start_time": "2023-04-28T18:03:58.766Z"
   },
   {
    "duration": 12,
    "start_time": "2023-04-28T18:04:00.522Z"
   },
   {
    "duration": 6,
    "start_time": "2023-04-28T18:04:01.208Z"
   },
   {
    "duration": 7,
    "start_time": "2023-04-28T18:04:02.825Z"
   },
   {
    "duration": 7,
    "start_time": "2023-04-28T18:04:03.147Z"
   },
   {
    "duration": 6,
    "start_time": "2023-04-28T18:04:04.158Z"
   },
   {
    "duration": 7,
    "start_time": "2023-04-28T18:04:05.866Z"
   },
   {
    "duration": 9,
    "start_time": "2023-04-28T18:04:06.364Z"
   },
   {
    "duration": 28,
    "start_time": "2023-04-28T18:04:07.221Z"
   },
   {
    "duration": 15,
    "start_time": "2023-04-28T18:04:09.565Z"
   },
   {
    "duration": 66,
    "start_time": "2023-04-28T18:04:12.954Z"
   },
   {
    "duration": 248,
    "start_time": "2023-04-28T18:04:17.667Z"
   },
   {
    "duration": 5,
    "start_time": "2023-04-28T18:04:23.082Z"
   },
   {
    "duration": 9,
    "start_time": "2023-04-28T18:04:27.383Z"
   },
   {
    "duration": 181,
    "start_time": "2023-04-28T18:04:28.386Z"
   },
   {
    "duration": 1666,
    "start_time": "2023-04-28T18:06:41.648Z"
   },
   {
    "duration": 52,
    "start_time": "2023-04-28T18:06:43.316Z"
   },
   {
    "duration": 30,
    "start_time": "2023-04-28T18:06:43.371Z"
   },
   {
    "duration": 6,
    "start_time": "2023-04-28T18:06:43.983Z"
   },
   {
    "duration": 16,
    "start_time": "2023-04-28T18:06:45.089Z"
   },
   {
    "duration": 6,
    "start_time": "2023-04-28T18:06:45.378Z"
   },
   {
    "duration": 14,
    "start_time": "2023-04-28T18:06:46.181Z"
   },
   {
    "duration": 8,
    "start_time": "2023-04-28T18:06:46.437Z"
   },
   {
    "duration": 7,
    "start_time": "2023-04-28T18:06:46.716Z"
   },
   {
    "duration": 9,
    "start_time": "2023-04-28T18:06:47.557Z"
   },
   {
    "duration": 10,
    "start_time": "2023-04-28T18:06:47.839Z"
   },
   {
    "duration": 45,
    "start_time": "2023-04-28T18:06:48.127Z"
   },
   {
    "duration": 23,
    "start_time": "2023-04-28T18:06:49.108Z"
   },
   {
    "duration": 49,
    "start_time": "2023-04-28T18:06:51.316Z"
   },
   {
    "duration": 6,
    "start_time": "2023-04-28T18:08:10.008Z"
   },
   {
    "duration": 69,
    "start_time": "2023-04-28T18:08:10.258Z"
   },
   {
    "duration": 34,
    "start_time": "2023-04-28T18:08:10.877Z"
   },
   {
    "duration": 10,
    "start_time": "2023-04-28T18:08:11.703Z"
   },
   {
    "duration": 8,
    "start_time": "2023-04-28T18:08:13.270Z"
   },
   {
    "duration": 5,
    "start_time": "2023-04-28T18:08:13.653Z"
   },
   {
    "duration": 7,
    "start_time": "2023-04-28T18:08:15.160Z"
   },
   {
    "duration": 6,
    "start_time": "2023-04-28T18:08:15.551Z"
   },
   {
    "duration": 6,
    "start_time": "2023-04-28T18:08:16.026Z"
   },
   {
    "duration": 9,
    "start_time": "2023-04-28T18:08:17.136Z"
   },
   {
    "duration": 7,
    "start_time": "2023-04-28T18:08:17.410Z"
   },
   {
    "duration": 35,
    "start_time": "2023-04-28T18:08:17.972Z"
   },
   {
    "duration": 14,
    "start_time": "2023-04-28T18:08:27.821Z"
   },
   {
    "duration": 68,
    "start_time": "2023-04-28T18:08:38.589Z"
   },
   {
    "duration": 193,
    "start_time": "2023-04-28T18:08:54.414Z"
   },
   {
    "duration": 6,
    "start_time": "2023-04-28T18:08:57.845Z"
   },
   {
    "duration": 9,
    "start_time": "2023-04-28T18:09:01.182Z"
   },
   {
    "duration": 260,
    "start_time": "2023-04-28T18:09:02.119Z"
   },
   {
    "duration": 4,
    "start_time": "2023-04-28T18:09:23.306Z"
   },
   {
    "duration": 1449,
    "start_time": "2023-04-28T18:09:34.311Z"
   },
   {
    "duration": 55,
    "start_time": "2023-04-28T18:09:36.368Z"
   },
   {
    "duration": 27,
    "start_time": "2023-04-28T18:09:37.157Z"
   },
   {
    "duration": 5,
    "start_time": "2023-04-28T18:09:38.206Z"
   },
   {
    "duration": 9,
    "start_time": "2023-04-28T18:09:39.283Z"
   },
   {
    "duration": 7,
    "start_time": "2023-04-28T18:09:40.334Z"
   },
   {
    "duration": 8,
    "start_time": "2023-04-28T18:09:42.888Z"
   },
   {
    "duration": 7,
    "start_time": "2023-04-28T18:09:43.106Z"
   },
   {
    "duration": 6,
    "start_time": "2023-04-28T18:09:43.348Z"
   },
   {
    "duration": 7,
    "start_time": "2023-04-28T18:09:44.677Z"
   },
   {
    "duration": 8,
    "start_time": "2023-04-28T18:09:44.873Z"
   },
   {
    "duration": 51,
    "start_time": "2023-04-28T18:09:47.540Z"
   },
   {
    "duration": 21,
    "start_time": "2023-04-28T18:09:52.436Z"
   },
   {
    "duration": 48,
    "start_time": "2023-04-28T18:09:56.198Z"
   },
   {
    "duration": 6,
    "start_time": "2023-04-28T18:20:30.969Z"
   },
   {
    "duration": 8,
    "start_time": "2023-04-28T18:20:33.471Z"
   },
   {
    "duration": 630,
    "start_time": "2023-04-28T18:20:34.130Z"
   },
   {
    "duration": 6,
    "start_time": "2023-04-28T18:20:51.870Z"
   },
   {
    "duration": 7,
    "start_time": "2023-04-28T18:20:53.948Z"
   },
   {
    "duration": 44,
    "start_time": "2023-04-28T18:20:55.777Z"
   },
   {
    "duration": 35,
    "start_time": "2023-04-28T18:21:04.727Z"
   },
   {
    "duration": 8,
    "start_time": "2023-04-28T18:31:30.586Z"
   },
   {
    "duration": 7,
    "start_time": "2023-04-28T18:31:34.422Z"
   },
   {
    "duration": 36,
    "start_time": "2023-04-28T18:31:37.423Z"
   },
   {
    "duration": 1537,
    "start_time": "2023-04-28T18:41:49.806Z"
   },
   {
    "duration": 63,
    "start_time": "2023-04-28T18:41:51.345Z"
   },
   {
    "duration": 26,
    "start_time": "2023-04-28T18:41:52.046Z"
   },
   {
    "duration": 7,
    "start_time": "2023-04-28T18:41:54.311Z"
   },
   {
    "duration": 7,
    "start_time": "2023-04-28T18:41:56.767Z"
   },
   {
    "duration": 5,
    "start_time": "2023-04-28T18:41:57.817Z"
   },
   {
    "duration": 7,
    "start_time": "2023-04-28T18:41:59.434Z"
   },
   {
    "duration": 7,
    "start_time": "2023-04-28T18:42:00.168Z"
   },
   {
    "duration": 7,
    "start_time": "2023-04-28T18:42:00.712Z"
   },
   {
    "duration": 8,
    "start_time": "2023-04-28T18:42:02.623Z"
   },
   {
    "duration": 9,
    "start_time": "2023-04-28T18:42:02.908Z"
   },
   {
    "duration": 34,
    "start_time": "2023-04-28T18:42:03.547Z"
   },
   {
    "duration": 12,
    "start_time": "2023-04-28T18:42:05.334Z"
   },
   {
    "duration": 51,
    "start_time": "2023-04-28T18:42:08.257Z"
   },
   {
    "duration": 227,
    "start_time": "2023-04-28T18:42:13.288Z"
   },
   {
    "duration": 6,
    "start_time": "2023-04-28T18:42:15.712Z"
   },
   {
    "duration": 11,
    "start_time": "2023-04-28T18:42:19.685Z"
   },
   {
    "duration": 149,
    "start_time": "2023-04-28T18:42:20.576Z"
   },
   {
    "duration": 6,
    "start_time": "2023-04-28T18:42:47.849Z"
   },
   {
    "duration": 9,
    "start_time": "2023-04-28T18:42:49.586Z"
   },
   {
    "duration": 27,
    "start_time": "2023-04-28T18:42:50.154Z"
   },
   {
    "duration": 6,
    "start_time": "2023-04-28T18:47:18.314Z"
   },
   {
    "duration": 8,
    "start_time": "2023-04-28T18:47:20.465Z"
   },
   {
    "duration": 28,
    "start_time": "2023-04-28T18:47:21.017Z"
   },
   {
    "duration": 9,
    "start_time": "2023-04-28T18:47:51.409Z"
   },
   {
    "duration": 6,
    "start_time": "2023-04-28T18:47:52.923Z"
   },
   {
    "duration": 32,
    "start_time": "2023-04-28T18:47:53.473Z"
   },
   {
    "duration": 8,
    "start_time": "2023-04-28T18:48:09.724Z"
   },
   {
    "duration": 6,
    "start_time": "2023-04-28T18:48:12.132Z"
   },
   {
    "duration": 26,
    "start_time": "2023-04-28T18:48:13.009Z"
   },
   {
    "duration": 1486,
    "start_time": "2023-04-28T18:49:50.227Z"
   },
   {
    "duration": 53,
    "start_time": "2023-04-28T18:49:51.715Z"
   },
   {
    "duration": 27,
    "start_time": "2023-04-28T18:49:52.613Z"
   },
   {
    "duration": 5,
    "start_time": "2023-04-28T18:49:54.366Z"
   },
   {
    "duration": 9,
    "start_time": "2023-04-28T18:49:56.287Z"
   },
   {
    "duration": 5,
    "start_time": "2023-04-28T18:49:56.719Z"
   },
   {
    "duration": 7,
    "start_time": "2023-04-28T18:49:58.112Z"
   },
   {
    "duration": 6,
    "start_time": "2023-04-28T18:49:58.541Z"
   },
   {
    "duration": 5,
    "start_time": "2023-04-28T18:49:59.164Z"
   },
   {
    "duration": 8,
    "start_time": "2023-04-28T18:50:00.753Z"
   },
   {
    "duration": 7,
    "start_time": "2023-04-28T18:50:01.276Z"
   },
   {
    "duration": 32,
    "start_time": "2023-04-28T18:50:01.778Z"
   },
   {
    "duration": 58,
    "start_time": "2023-04-28T18:50:03.670Z"
   },
   {
    "duration": 130,
    "start_time": "2023-04-28T18:50:16.850Z"
   },
   {
    "duration": 6,
    "start_time": "2023-04-28T18:59:54.227Z"
   },
   {
    "duration": 8,
    "start_time": "2023-04-28T18:59:55.703Z"
   },
   {
    "duration": 39,
    "start_time": "2023-04-28T18:59:56.609Z"
   },
   {
    "duration": 5,
    "start_time": "2023-04-28T19:05:32.337Z"
   },
   {
    "duration": 8,
    "start_time": "2023-04-28T19:05:33.907Z"
   },
   {
    "duration": 27,
    "start_time": "2023-04-28T19:05:34.643Z"
   },
   {
    "duration": 6,
    "start_time": "2023-04-28T19:07:56.031Z"
   },
   {
    "duration": 6,
    "start_time": "2023-04-28T19:07:57.749Z"
   },
   {
    "duration": 24,
    "start_time": "2023-04-28T19:07:58.535Z"
   },
   {
    "duration": 5,
    "start_time": "2023-04-28T19:13:46.337Z"
   },
   {
    "duration": 6,
    "start_time": "2023-04-28T19:13:48.818Z"
   },
   {
    "duration": 31,
    "start_time": "2023-04-28T19:13:49.682Z"
   },
   {
    "duration": 7,
    "start_time": "2023-04-28T19:18:24.419Z"
   },
   {
    "duration": 8,
    "start_time": "2023-04-28T19:18:26.163Z"
   },
   {
    "duration": 25,
    "start_time": "2023-04-28T19:18:27.310Z"
   },
   {
    "duration": 12,
    "start_time": "2023-04-28T19:18:42.393Z"
   },
   {
    "duration": 6,
    "start_time": "2023-04-28T19:18:44.053Z"
   },
   {
    "duration": 40,
    "start_time": "2023-04-28T19:18:44.479Z"
   },
   {
    "duration": 7,
    "start_time": "2023-04-28T19:18:56.006Z"
   },
   {
    "duration": 7,
    "start_time": "2023-04-28T19:18:57.573Z"
   },
   {
    "duration": 27,
    "start_time": "2023-04-28T19:18:58.221Z"
   },
   {
    "duration": 6,
    "start_time": "2023-04-28T19:22:05.013Z"
   },
   {
    "duration": 6,
    "start_time": "2023-04-28T19:22:06.622Z"
   },
   {
    "duration": 31,
    "start_time": "2023-04-28T19:22:07.412Z"
   },
   {
    "duration": 225,
    "start_time": "2023-04-28T19:22:08.175Z"
   },
   {
    "duration": 60,
    "start_time": "2023-04-28T19:22:08.845Z"
   },
   {
    "duration": 33,
    "start_time": "2023-04-28T19:22:11.825Z"
   },
   {
    "duration": 2649,
    "start_time": "2023-04-28T20:01:44.619Z"
   },
   {
    "duration": 73,
    "start_time": "2023-04-28T20:01:47.270Z"
   },
   {
    "duration": 26,
    "start_time": "2023-04-28T20:01:47.345Z"
   },
   {
    "duration": 4,
    "start_time": "2023-04-28T20:01:47.373Z"
   },
   {
    "duration": 18,
    "start_time": "2023-04-28T20:01:47.379Z"
   },
   {
    "duration": 11,
    "start_time": "2023-04-28T20:01:47.408Z"
   },
   {
    "duration": 10,
    "start_time": "2023-04-28T20:01:47.421Z"
   },
   {
    "duration": 13,
    "start_time": "2023-04-28T20:01:47.433Z"
   },
   {
    "duration": 15,
    "start_time": "2023-04-28T20:01:47.448Z"
   },
   {
    "duration": 14,
    "start_time": "2023-04-28T20:01:47.464Z"
   },
   {
    "duration": 10,
    "start_time": "2023-04-28T20:01:47.480Z"
   },
   {
    "duration": 49,
    "start_time": "2023-04-28T20:01:47.491Z"
   },
   {
    "duration": 127,
    "start_time": "2023-04-28T20:01:47.542Z"
   },
   {
    "duration": 0,
    "start_time": "2023-04-28T20:01:47.672Z"
   },
   {
    "duration": 0,
    "start_time": "2023-04-28T20:01:47.673Z"
   },
   {
    "duration": 0,
    "start_time": "2023-04-28T20:01:47.674Z"
   },
   {
    "duration": 0,
    "start_time": "2023-04-28T20:01:47.675Z"
   },
   {
    "duration": 0,
    "start_time": "2023-04-28T20:01:47.676Z"
   },
   {
    "duration": 0,
    "start_time": "2023-04-28T20:01:47.677Z"
   },
   {
    "duration": 0,
    "start_time": "2023-04-28T20:01:47.678Z"
   },
   {
    "duration": 0,
    "start_time": "2023-04-28T20:01:47.679Z"
   },
   {
    "duration": 0,
    "start_time": "2023-04-28T20:01:47.680Z"
   },
   {
    "duration": 0,
    "start_time": "2023-04-28T20:01:47.693Z"
   },
   {
    "duration": 0,
    "start_time": "2023-04-28T20:01:47.694Z"
   },
   {
    "duration": 0,
    "start_time": "2023-04-28T20:01:47.695Z"
   },
   {
    "duration": 0,
    "start_time": "2023-04-28T20:01:47.696Z"
   },
   {
    "duration": 0,
    "start_time": "2023-04-28T20:01:47.697Z"
   },
   {
    "duration": 0,
    "start_time": "2023-04-28T20:01:47.698Z"
   },
   {
    "duration": 0,
    "start_time": "2023-04-28T20:01:47.698Z"
   },
   {
    "duration": 0,
    "start_time": "2023-04-28T20:01:47.700Z"
   },
   {
    "duration": 0,
    "start_time": "2023-04-28T20:01:47.700Z"
   },
   {
    "duration": 0,
    "start_time": "2023-04-28T20:01:47.703Z"
   },
   {
    "duration": 0,
    "start_time": "2023-04-28T20:01:47.704Z"
   },
   {
    "duration": 0,
    "start_time": "2023-04-28T20:01:47.704Z"
   },
   {
    "duration": 0,
    "start_time": "2023-04-28T20:01:47.705Z"
   },
   {
    "duration": 0,
    "start_time": "2023-04-28T20:01:47.706Z"
   },
   {
    "duration": 0,
    "start_time": "2023-04-28T20:01:47.706Z"
   },
   {
    "duration": 0,
    "start_time": "2023-04-28T20:01:47.707Z"
   },
   {
    "duration": 0,
    "start_time": "2023-04-28T20:01:47.708Z"
   },
   {
    "duration": 0,
    "start_time": "2023-04-28T20:01:47.708Z"
   },
   {
    "duration": 0,
    "start_time": "2023-04-28T20:01:47.709Z"
   },
   {
    "duration": 0,
    "start_time": "2023-04-28T20:01:47.710Z"
   },
   {
    "duration": 1448,
    "start_time": "2023-04-30T09:27:09.539Z"
   },
   {
    "duration": 89,
    "start_time": "2023-04-30T09:27:10.989Z"
   },
   {
    "duration": 24,
    "start_time": "2023-04-30T09:27:12.204Z"
   },
   {
    "duration": 4,
    "start_time": "2023-04-30T09:27:14.999Z"
   },
   {
    "duration": 5,
    "start_time": "2023-04-30T09:27:21.463Z"
   },
   {
    "duration": 7,
    "start_time": "2023-04-30T09:27:24.135Z"
   },
   {
    "duration": 94,
    "start_time": "2023-04-30T09:32:06.003Z"
   },
   {
    "duration": 80,
    "start_time": "2023-04-30T09:32:59.799Z"
   },
   {
    "duration": 75,
    "start_time": "2023-04-30T09:33:10.594Z"
   },
   {
    "duration": 4,
    "start_time": "2023-04-30T09:33:49.397Z"
   },
   {
    "duration": 9,
    "start_time": "2023-04-30T09:33:55.403Z"
   },
   {
    "duration": 6,
    "start_time": "2023-04-30T09:34:08.461Z"
   },
   {
    "duration": 5,
    "start_time": "2023-04-30T09:34:10.795Z"
   },
   {
    "duration": 3,
    "start_time": "2023-04-30T09:34:12.095Z"
   },
   {
    "duration": 117,
    "start_time": "2023-04-30T09:34:46.113Z"
   },
   {
    "duration": 7,
    "start_time": "2023-04-30T09:34:55.260Z"
   },
   {
    "duration": 1237,
    "start_time": "2023-04-30T09:36:04.907Z"
   },
   {
    "duration": 44,
    "start_time": "2023-04-30T09:36:06.146Z"
   },
   {
    "duration": 23,
    "start_time": "2023-04-30T09:36:06.644Z"
   },
   {
    "duration": 4,
    "start_time": "2023-04-30T09:36:08.165Z"
   },
   {
    "duration": 5,
    "start_time": "2023-04-30T09:36:09.702Z"
   },
   {
    "duration": 5,
    "start_time": "2023-04-30T09:36:10.200Z"
   },
   {
    "duration": 7,
    "start_time": "2023-04-30T09:36:10.633Z"
   },
   {
    "duration": 5,
    "start_time": "2023-04-30T09:36:13.047Z"
   },
   {
    "duration": 6,
    "start_time": "2023-04-30T09:36:13.557Z"
   },
   {
    "duration": 5,
    "start_time": "2023-04-30T09:36:14.199Z"
   },
   {
    "duration": 5,
    "start_time": "2023-04-30T09:36:27.016Z"
   },
   {
    "duration": 5,
    "start_time": "2023-04-30T09:36:27.394Z"
   },
   {
    "duration": 21,
    "start_time": "2023-04-30T09:36:27.694Z"
   },
   {
    "duration": 108,
    "start_time": "2023-04-30T09:38:53.804Z"
   },
   {
    "duration": 86,
    "start_time": "2023-04-30T09:39:00.350Z"
   },
   {
    "duration": 11,
    "start_time": "2023-04-30T09:39:26.632Z"
   },
   {
    "duration": 31,
    "start_time": "2023-04-30T09:39:58.194Z"
   },
   {
    "duration": 1314,
    "start_time": "2023-04-30T09:40:15.443Z"
   },
   {
    "duration": 46,
    "start_time": "2023-04-30T09:40:16.759Z"
   },
   {
    "duration": 24,
    "start_time": "2023-04-30T09:40:16.807Z"
   },
   {
    "duration": 4,
    "start_time": "2023-04-30T09:40:17.753Z"
   },
   {
    "duration": 5,
    "start_time": "2023-04-30T09:40:19.269Z"
   },
   {
    "duration": 4,
    "start_time": "2023-04-30T09:40:19.818Z"
   },
   {
    "duration": 7,
    "start_time": "2023-04-30T09:40:20.446Z"
   },
   {
    "duration": 6,
    "start_time": "2023-04-30T09:40:22.922Z"
   },
   {
    "duration": 5,
    "start_time": "2023-04-30T09:40:23.290Z"
   },
   {
    "duration": 5,
    "start_time": "2023-04-30T09:40:23.752Z"
   },
   {
    "duration": 6,
    "start_time": "2023-04-30T09:40:25.510Z"
   },
   {
    "duration": 7,
    "start_time": "2023-04-30T09:40:26.229Z"
   },
   {
    "duration": 21,
    "start_time": "2023-04-30T09:40:27.432Z"
   },
   {
    "duration": 10,
    "start_time": "2023-04-30T09:40:29.056Z"
   },
   {
    "duration": 34,
    "start_time": "2023-04-30T09:40:31.890Z"
   },
   {
    "duration": 150,
    "start_time": "2023-04-30T09:40:35.477Z"
   },
   {
    "duration": 4,
    "start_time": "2023-04-30T09:41:43.107Z"
   },
   {
    "duration": 5,
    "start_time": "2023-04-30T09:41:53.742Z"
   },
   {
    "duration": 183,
    "start_time": "2023-04-30T09:41:56.895Z"
   },
   {
    "duration": 6,
    "start_time": "2023-04-30T09:49:27.374Z"
   },
   {
    "duration": 279,
    "start_time": "2023-04-30T09:49:32.394Z"
   },
   {
    "duration": 13,
    "start_time": "2023-04-30T09:49:54.164Z"
   },
   {
    "duration": 218,
    "start_time": "2023-04-30T09:49:55.554Z"
   },
   {
    "duration": 11,
    "start_time": "2023-04-30T09:52:30.694Z"
   },
   {
    "duration": 6,
    "start_time": "2023-04-30T09:53:49.429Z"
   },
   {
    "duration": 233,
    "start_time": "2023-04-30T09:53:51.556Z"
   },
   {
    "duration": 23,
    "start_time": "2023-04-30T09:54:10.893Z"
   },
   {
    "duration": 2858,
    "start_time": "2023-04-30T09:54:52.871Z"
   },
   {
    "duration": 216,
    "start_time": "2023-04-30T09:55:09.907Z"
   },
   {
    "duration": 23,
    "start_time": "2023-04-30T09:55:27.161Z"
   },
   {
    "duration": 2527,
    "start_time": "2023-04-30T09:55:28.263Z"
   },
   {
    "duration": 5,
    "start_time": "2023-04-30T09:55:37.453Z"
   },
   {
    "duration": 10,
    "start_time": "2023-04-30T09:55:38.845Z"
   },
   {
    "duration": 4,
    "start_time": "2023-04-30T09:56:22.421Z"
   },
   {
    "duration": 252,
    "start_time": "2023-04-30T09:56:22.830Z"
   },
   {
    "duration": 25,
    "start_time": "2023-04-30T09:56:23.356Z"
   },
   {
    "duration": 3413,
    "start_time": "2023-04-30T09:56:24.398Z"
   },
   {
    "duration": 12,
    "start_time": "2023-04-30T09:56:27.813Z"
   },
   {
    "duration": 153,
    "start_time": "2023-04-30T09:56:27.826Z"
   },
   {
    "duration": 43,
    "start_time": "2023-04-30T09:56:28.029Z"
   },
   {
    "duration": 1595,
    "start_time": "2023-04-30T09:56:28.947Z"
   },
   {
    "duration": 12,
    "start_time": "2023-04-30T09:56:31.833Z"
   },
   {
    "duration": 173,
    "start_time": "2023-04-30T09:56:35.436Z"
   },
   {
    "duration": 59,
    "start_time": "2023-04-30T09:56:35.817Z"
   },
   {
    "duration": 2160,
    "start_time": "2023-04-30T09:56:36.641Z"
   },
   {
    "duration": 4,
    "start_time": "2023-04-30T09:57:16.141Z"
   },
   {
    "duration": 131,
    "start_time": "2023-04-30T09:57:46.499Z"
   },
   {
    "duration": 43,
    "start_time": "2023-04-30T09:57:47.665Z"
   },
   {
    "duration": 12,
    "start_time": "2023-04-30T09:57:59.067Z"
   },
   {
    "duration": 93,
    "start_time": "2023-04-30T09:58:08.759Z"
   },
   {
    "duration": 2719,
    "start_time": "2023-04-30T10:21:23.966Z"
   },
   {
    "duration": 66,
    "start_time": "2023-04-30T10:21:26.689Z"
   },
   {
    "duration": 32,
    "start_time": "2023-04-30T10:21:26.757Z"
   },
   {
    "duration": 12,
    "start_time": "2023-04-30T10:21:26.791Z"
   },
   {
    "duration": 38,
    "start_time": "2023-04-30T10:21:26.805Z"
   },
   {
    "duration": 43,
    "start_time": "2023-04-30T10:21:26.849Z"
   },
   {
    "duration": 35,
    "start_time": "2023-04-30T10:21:26.894Z"
   },
   {
    "duration": 32,
    "start_time": "2023-04-30T10:21:26.932Z"
   },
   {
    "duration": 32,
    "start_time": "2023-04-30T10:21:26.966Z"
   },
   {
    "duration": 21,
    "start_time": "2023-04-30T10:21:27.000Z"
   },
   {
    "duration": 34,
    "start_time": "2023-04-30T10:21:27.023Z"
   },
   {
    "duration": 31,
    "start_time": "2023-04-30T10:21:27.059Z"
   },
   {
    "duration": 72,
    "start_time": "2023-04-30T10:21:27.092Z"
   },
   {
    "duration": 21,
    "start_time": "2023-04-30T10:21:27.169Z"
   },
   {
    "duration": 71,
    "start_time": "2023-04-30T10:21:27.193Z"
   },
   {
    "duration": 236,
    "start_time": "2023-04-30T10:21:27.266Z"
   },
   {
    "duration": 5,
    "start_time": "2023-04-30T10:21:27.504Z"
   },
   {
    "duration": 43,
    "start_time": "2023-04-30T10:21:27.511Z"
   },
   {
    "duration": 302,
    "start_time": "2023-04-30T10:21:27.556Z"
   },
   {
    "duration": 94,
    "start_time": "2023-04-30T10:21:27.860Z"
   },
   {
    "duration": 3501,
    "start_time": "2023-04-30T10:21:27.959Z"
   },
   {
    "duration": 300,
    "start_time": "2023-04-30T10:21:31.463Z"
   },
   {
    "duration": 92,
    "start_time": "2023-04-30T10:21:31.764Z"
   },
   {
    "duration": 3513,
    "start_time": "2023-04-30T10:21:31.857Z"
   },
   {
    "duration": 6,
    "start_time": "2023-04-30T10:21:35.371Z"
   },
   {
    "duration": 58,
    "start_time": "2023-04-30T10:21:35.379Z"
   },
   {
    "duration": 28,
    "start_time": "2023-04-30T10:21:35.439Z"
   },
   {
    "duration": 329,
    "start_time": "2023-04-30T10:21:35.469Z"
   },
   {
    "duration": 149,
    "start_time": "2023-04-30T10:21:35.800Z"
   },
   {
    "duration": 4324,
    "start_time": "2023-04-30T10:21:35.952Z"
   },
   {
    "duration": 16,
    "start_time": "2023-04-30T10:21:40.278Z"
   },
   {
    "duration": 220,
    "start_time": "2023-04-30T10:21:40.296Z"
   },
   {
    "duration": 37,
    "start_time": "2023-04-30T10:21:40.518Z"
   },
   {
    "duration": 2375,
    "start_time": "2023-04-30T10:21:40.557Z"
   },
   {
    "duration": 23,
    "start_time": "2023-04-30T10:21:42.934Z"
   },
   {
    "duration": 253,
    "start_time": "2023-04-30T10:21:42.959Z"
   },
   {
    "duration": 144,
    "start_time": "2023-04-30T10:21:43.214Z"
   },
   {
    "duration": 2989,
    "start_time": "2023-04-30T10:21:43.440Z"
   },
   {
    "duration": 24,
    "start_time": "2023-04-30T10:21:46.431Z"
   },
   {
    "duration": 154,
    "start_time": "2023-04-30T10:21:46.457Z"
   },
   {
    "duration": 84,
    "start_time": "2023-04-30T10:21:46.616Z"
   },
   {
    "duration": 21,
    "start_time": "2023-04-30T10:21:46.703Z"
   },
   {
    "duration": 165,
    "start_time": "2023-04-30T10:21:46.726Z"
   }
  ],
  "kernelspec": {
   "display_name": "Python 3 (ipykernel)",
   "language": "python",
   "name": "python3"
  },
  "language_info": {
   "codemirror_mode": {
    "name": "ipython",
    "version": 3
   },
   "file_extension": ".py",
   "mimetype": "text/x-python",
   "name": "python",
   "nbconvert_exporter": "python",
   "pygments_lexer": "ipython3",
   "version": "3.9.13"
  },
  "toc": {
   "base_numbering": 1,
   "nav_menu": {},
   "number_sections": true,
   "sideBar": true,
   "skip_h1_title": true,
   "title_cell": "Содержание",
   "title_sidebar": "Contents",
   "toc_cell": true,
   "toc_position": {},
   "toc_section_display": true,
   "toc_window_display": true
  }
 },
 "nbformat": 4,
 "nbformat_minor": 2
}
