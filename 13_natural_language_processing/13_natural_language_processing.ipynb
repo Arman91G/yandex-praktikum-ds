{
 "cells": [
  {
   "cell_type": "markdown",
   "metadata": {},
   "source": [
    "# Проект для «Викишоп»"
   ]
  },
  {
   "cell_type": "markdown",
   "metadata": {},
   "source": [
    "Интернет-магазин «Викишоп» запускает новый сервис. Теперь пользователи могут редактировать и дополнять описания товаров, как в вики-сообществах. То есть клиенты предлагают свои правки и комментируют изменения других. Магазину нужен инструмент, который будет искать токсичные комментарии и отправлять их на модерацию. \n",
    "\n",
    "Обучите модель классифицировать комментарии на позитивные и негативные. В вашем распоряжении набор данных с разметкой о токсичности правок.\n",
    "\n",
    "Постройте модель со значением метрики качества *F1* не меньше 0.75. \n",
    "\n",
    "**Инструкция по выполнению проекта**\n",
    "\n",
    "1. Загрузите и подготовьте данные.\n",
    "2. Обучите разные модели. \n",
    "3. Сделайте выводы.\n",
    "\n",
    "Для выполнения проекта применять *BERT* необязательно, но вы можете попробовать.\n",
    "\n",
    "**Описание данных**\n",
    "\n",
    "Данные находятся в файле `toxic_comments.csv`. Столбец *text* в нём содержит текст комментария, а *toxic* — целевой признак."
   ]
  },
  {
   "cell_type": "markdown",
   "metadata": {},
   "source": [
    "## Подготовка"
   ]
  },
  {
   "cell_type": "code",
   "execution_count": 1,
   "metadata": {},
   "outputs": [
    {
     "name": "stdout",
     "output_type": "stream",
     "text": [
      "Collecting en-core-web-sm==3.2.0\n",
      "  Downloading https://github.com/explosion/spacy-models/releases/download/en_core_web_sm-3.2.0/en_core_web_sm-3.2.0-py3-none-any.whl (13.9 MB)\n",
      "\u001b[K     |████████████████████████████████| 13.9 MB 1.4 MB/s eta 0:00:01\n",
      "\u001b[?25hRequirement already satisfied: spacy<3.3.0,>=3.2.0 in /opt/conda/lib/python3.9/site-packages (from en-core-web-sm==3.2.0) (3.2.0)\n",
      "Requirement already satisfied: srsly<3.0.0,>=2.4.1 in /opt/conda/lib/python3.9/site-packages (from spacy<3.3.0,>=3.2.0->en-core-web-sm==3.2.0) (2.4.4)\n",
      "Requirement already satisfied: requests<3.0.0,>=2.13.0 in /opt/conda/lib/python3.9/site-packages (from spacy<3.3.0,>=3.2.0->en-core-web-sm==3.2.0) (2.25.1)\n",
      "Requirement already satisfied: murmurhash<1.1.0,>=0.28.0 in /opt/conda/lib/python3.9/site-packages (from spacy<3.3.0,>=3.2.0->en-core-web-sm==3.2.0) (1.0.8)\n",
      "Requirement already satisfied: packaging>=20.0 in /opt/conda/lib/python3.9/site-packages (from spacy<3.3.0,>=3.2.0->en-core-web-sm==3.2.0) (21.3)\n",
      "Requirement already satisfied: typer<0.5.0,>=0.3.0 in /opt/conda/lib/python3.9/site-packages (from spacy<3.3.0,>=3.2.0->en-core-web-sm==3.2.0) (0.4.2)\n",
      "Requirement already satisfied: cymem<2.1.0,>=2.0.2 in /opt/conda/lib/python3.9/site-packages (from spacy<3.3.0,>=3.2.0->en-core-web-sm==3.2.0) (2.0.6)\n",
      "Requirement already satisfied: setuptools in /opt/conda/lib/python3.9/site-packages (from spacy<3.3.0,>=3.2.0->en-core-web-sm==3.2.0) (49.6.0.post20210108)\n",
      "Requirement already satisfied: tqdm<5.0.0,>=4.38.0 in /opt/conda/lib/python3.9/site-packages (from spacy<3.3.0,>=3.2.0->en-core-web-sm==3.2.0) (4.61.2)\n",
      "Requirement already satisfied: preshed<3.1.0,>=3.0.2 in /opt/conda/lib/python3.9/site-packages (from spacy<3.3.0,>=3.2.0->en-core-web-sm==3.2.0) (3.0.7)\n",
      "Requirement already satisfied: jinja2 in /opt/conda/lib/python3.9/site-packages (from spacy<3.3.0,>=3.2.0->en-core-web-sm==3.2.0) (3.0.1)\n",
      "Requirement already satisfied: spacy-legacy<3.1.0,>=3.0.8 in /opt/conda/lib/python3.9/site-packages (from spacy<3.3.0,>=3.2.0->en-core-web-sm==3.2.0) (3.0.10)\n",
      "Requirement already satisfied: spacy-loggers<2.0.0,>=1.0.0 in /opt/conda/lib/python3.9/site-packages (from spacy<3.3.0,>=3.2.0->en-core-web-sm==3.2.0) (1.0.3)\n",
      "Requirement already satisfied: pathy>=0.3.5 in /opt/conda/lib/python3.9/site-packages (from spacy<3.3.0,>=3.2.0->en-core-web-sm==3.2.0) (0.6.2)\n",
      "Requirement already satisfied: thinc<8.1.0,>=8.0.12 in /opt/conda/lib/python3.9/site-packages (from spacy<3.3.0,>=3.2.0->en-core-web-sm==3.2.0) (8.0.17)\n",
      "Requirement already satisfied: langcodes<4.0.0,>=3.2.0 in /opt/conda/lib/python3.9/site-packages (from spacy<3.3.0,>=3.2.0->en-core-web-sm==3.2.0) (3.3.0)\n",
      "Requirement already satisfied: pydantic!=1.8,!=1.8.1,<1.9.0,>=1.7.4 in /opt/conda/lib/python3.9/site-packages (from spacy<3.3.0,>=3.2.0->en-core-web-sm==3.2.0) (1.8.2)\n",
      "Requirement already satisfied: blis<0.8.0,>=0.4.0 in /opt/conda/lib/python3.9/site-packages (from spacy<3.3.0,>=3.2.0->en-core-web-sm==3.2.0) (0.7.8)\n",
      "Requirement already satisfied: catalogue<2.1.0,>=2.0.6 in /opt/conda/lib/python3.9/site-packages (from spacy<3.3.0,>=3.2.0->en-core-web-sm==3.2.0) (2.0.8)\n",
      "Requirement already satisfied: wasabi<1.1.0,>=0.8.1 in /opt/conda/lib/python3.9/site-packages (from spacy<3.3.0,>=3.2.0->en-core-web-sm==3.2.0) (0.10.1)\n",
      "Requirement already satisfied: numpy>=1.15.0 in /opt/conda/lib/python3.9/site-packages (from spacy<3.3.0,>=3.2.0->en-core-web-sm==3.2.0) (1.21.1)\n",
      "Requirement already satisfied: pyparsing!=3.0.5,>=2.0.2 in /opt/conda/lib/python3.9/site-packages (from packaging>=20.0->spacy<3.3.0,>=3.2.0->en-core-web-sm==3.2.0) (2.4.7)\n",
      "Requirement already satisfied: smart-open<6.0.0,>=5.2.1 in /opt/conda/lib/python3.9/site-packages (from pathy>=0.3.5->spacy<3.3.0,>=3.2.0->en-core-web-sm==3.2.0) (5.2.1)\n",
      "Requirement already satisfied: typing-extensions>=3.7.4.3 in /opt/conda/lib/python3.9/site-packages (from pydantic!=1.8,!=1.8.1,<1.9.0,>=1.7.4->spacy<3.3.0,>=3.2.0->en-core-web-sm==3.2.0) (4.3.0)\n",
      "Requirement already satisfied: certifi>=2017.4.17 in /opt/conda/lib/python3.9/site-packages (from requests<3.0.0,>=2.13.0->spacy<3.3.0,>=3.2.0->en-core-web-sm==3.2.0) (2022.6.15)\n",
      "Requirement already satisfied: chardet<5,>=3.0.2 in /opt/conda/lib/python3.9/site-packages (from requests<3.0.0,>=2.13.0->spacy<3.3.0,>=3.2.0->en-core-web-sm==3.2.0) (4.0.0)\n",
      "Requirement already satisfied: urllib3<1.27,>=1.21.1 in /opt/conda/lib/python3.9/site-packages (from requests<3.0.0,>=2.13.0->spacy<3.3.0,>=3.2.0->en-core-web-sm==3.2.0) (1.26.6)\n",
      "Requirement already satisfied: idna<3,>=2.5 in /opt/conda/lib/python3.9/site-packages (from requests<3.0.0,>=2.13.0->spacy<3.3.0,>=3.2.0->en-core-web-sm==3.2.0) (2.10)\n",
      "Requirement already satisfied: click<9.0.0,>=7.1.1 in /opt/conda/lib/python3.9/site-packages (from typer<0.5.0,>=0.3.0->spacy<3.3.0,>=3.2.0->en-core-web-sm==3.2.0) (8.1.3)\n",
      "Requirement already satisfied: MarkupSafe>=2.0 in /opt/conda/lib/python3.9/site-packages (from jinja2->spacy<3.3.0,>=3.2.0->en-core-web-sm==3.2.0) (2.1.1)\n",
      "\u001b[38;5;2m✔ Download and installation successful\u001b[0m\n",
      "You can now load the package via spacy.load('en_core_web_sm')\n"
     ]
    }
   ],
   "source": [
    "!python3 -m spacy download en_core_web_sm "
   ]
  },
  {
   "cell_type": "code",
   "execution_count": 2,
   "metadata": {},
   "outputs": [],
   "source": [
    "# Блок импорта\n",
    "import pandas as pd\n",
    "import re\n",
    "import math\n",
    "import numpy as np\n",
    "import matplotlib.pyplot as plt\n",
    "from pymystem3 import Mystem\n",
    "from sklearn.metrics import classification_report, confusion_matrix\n",
    "import seaborn as sns\n",
    "import spacy\n",
    "import en_core_web_sm\n",
    "\n",
    "from spacy.lookups import Lookups\n",
    "\n",
    "import re\n",
    "from nltk.corpus import stopwords\n",
    "from nltk.stem import WordNetLemmatizer\n",
    "from nltk.tokenize import TweetTokenizer\n",
    "from nltk.tag import pos_tag\n",
    "\n",
    "from sklearn.feature_extraction.text import TfidfVectorizer\n",
    "from sklearn.model_selection import train_test_split\n",
    "from sklearn.model_selection import GridSearchCV\n",
    "\n",
    "from sklearn.metrics import f1_score\n",
    "from sklearn.metrics import make_scorer\n",
    "from sklearn.linear_model import LogisticRegression\n",
    "from sklearn.linear_model import SGDClassifier, LogisticRegression\n",
    "from sklearn.utils import shuffle\n",
    "\n",
    "from tqdm import tqdm\n",
    "import torch\n",
    "from transformers import BertTokenizer\n",
    "from transformers import BertModel\n",
    "from transformers import BertForMaskedLM\n",
    "import transformers\n",
    "from tqdm import notebook\n",
    "\n",
    "from sklearn.svm import SVC\n",
    "from sklearn.dummy import DummyClassifier"
   ]
  },
  {
   "cell_type": "markdown",
   "metadata": {},
   "source": [
    "*Посмотрим на данные*"
   ]
  },
  {
   "cell_type": "code",
   "execution_count": 3,
   "metadata": {},
   "outputs": [],
   "source": [
    "df=pd.read_csv('/datasets/toxic_comments.csv')"
   ]
  },
  {
   "cell_type": "code",
   "execution_count": 4,
   "metadata": {},
   "outputs": [
    {
     "name": "stdout",
     "output_type": "stream",
     "text": [
      "<class 'pandas.core.frame.DataFrame'>\n",
      "RangeIndex: 159292 entries, 0 to 159291\n",
      "Data columns (total 3 columns):\n",
      " #   Column      Non-Null Count   Dtype \n",
      "---  ------      --------------   ----- \n",
      " 0   Unnamed: 0  159292 non-null  int64 \n",
      " 1   text        159292 non-null  object\n",
      " 2   toxic       159292 non-null  int64 \n",
      "dtypes: int64(2), object(1)\n",
      "memory usage: 3.6+ MB\n"
     ]
    }
   ],
   "source": [
    "df.info()"
   ]
  },
  {
   "cell_type": "code",
   "execution_count": 5,
   "metadata": {},
   "outputs": [
    {
     "name": "stderr",
     "output_type": "stream",
     "text": [
      "[nltk_data] Downloading package stopwords to /home/jovyan/nltk_data...\n",
      "[nltk_data]   Package stopwords is already up-to-date!\n"
     ]
    }
   ],
   "source": [
    "# Получим список стоп-слов\n",
    "import nltk\n",
    "nltk.download('stopwords')\n",
    "from nltk.corpus import stopwords\n",
    "stop_words = set(stopwords.words('english'))"
   ]
  },
  {
   "cell_type": "code",
   "execution_count": 6,
   "metadata": {},
   "outputs": [
    {
     "data": {
      "text/html": [
       "<div>\n",
       "<style scoped>\n",
       "    .dataframe tbody tr th:only-of-type {\n",
       "        vertical-align: middle;\n",
       "    }\n",
       "\n",
       "    .dataframe tbody tr th {\n",
       "        vertical-align: top;\n",
       "    }\n",
       "\n",
       "    .dataframe thead th {\n",
       "        text-align: right;\n",
       "    }\n",
       "</style>\n",
       "<table border=\"1\" class=\"dataframe\">\n",
       "  <thead>\n",
       "    <tr style=\"text-align: right;\">\n",
       "      <th></th>\n",
       "      <th>Unnamed: 0</th>\n",
       "      <th>text</th>\n",
       "      <th>toxic</th>\n",
       "    </tr>\n",
       "  </thead>\n",
       "  <tbody>\n",
       "    <tr>\n",
       "      <th>0</th>\n",
       "      <td>0</td>\n",
       "      <td>Explanation\\nWhy the edits made under my usern...</td>\n",
       "      <td>0</td>\n",
       "    </tr>\n",
       "    <tr>\n",
       "      <th>1</th>\n",
       "      <td>1</td>\n",
       "      <td>D'aww! He matches this background colour I'm s...</td>\n",
       "      <td>0</td>\n",
       "    </tr>\n",
       "    <tr>\n",
       "      <th>2</th>\n",
       "      <td>2</td>\n",
       "      <td>Hey man, I'm really not trying to edit war. It...</td>\n",
       "      <td>0</td>\n",
       "    </tr>\n",
       "    <tr>\n",
       "      <th>3</th>\n",
       "      <td>3</td>\n",
       "      <td>\"\\nMore\\nI can't make any real suggestions on ...</td>\n",
       "      <td>0</td>\n",
       "    </tr>\n",
       "    <tr>\n",
       "      <th>4</th>\n",
       "      <td>4</td>\n",
       "      <td>You, sir, are my hero. Any chance you remember...</td>\n",
       "      <td>0</td>\n",
       "    </tr>\n",
       "  </tbody>\n",
       "</table>\n",
       "</div>"
      ],
      "text/plain": [
       "   Unnamed: 0                                               text  toxic\n",
       "0           0  Explanation\\nWhy the edits made under my usern...      0\n",
       "1           1  D'aww! He matches this background colour I'm s...      0\n",
       "2           2  Hey man, I'm really not trying to edit war. It...      0\n",
       "3           3  \"\\nMore\\nI can't make any real suggestions on ...      0\n",
       "4           4  You, sir, are my hero. Any chance you remember...      0"
      ]
     },
     "execution_count": 6,
     "metadata": {},
     "output_type": "execute_result"
    }
   ],
   "source": [
    "df.head()"
   ]
  },
  {
   "cell_type": "markdown",
   "metadata": {},
   "source": [
    "*Видим, что в нашем датасете около 150 000+ строк. Посмотрим на распределение целевого признака.*"
   ]
  },
  {
   "cell_type": "markdown",
   "metadata": {},
   "source": [
    "***Первичная обработка данных***"
   ]
  },
  {
   "cell_type": "code",
   "execution_count": 7,
   "metadata": {},
   "outputs": [
    {
     "data": {
      "text/plain": [
       "(-1.25, 1.25, -1.25, 1.25)"
      ]
     },
     "execution_count": 7,
     "metadata": {},
     "output_type": "execute_result"
    },
    {
     "data": {
      "image/png": "[encoded data removed]",
      "text/plain": [
       "<Figure size 720x576 with 1 Axes>"
      ]
     },
     "metadata": {},
     "output_type": "display_data"
    }
   ],
   "source": [
    "df.toxic.value_counts().plot(kind='pie', autopct='%1.1f%%', shadow=True, figsize=(10,8))\n",
    "plt.legend(['Позитивный','токсичный'])\n",
    "plt.title('Распределение комментариев в выборке')\n",
    "plt.tight_layout()\n",
    "plt.axis('off')"
   ]
  },
  {
   "cell_type": "markdown",
   "metadata": {},
   "source": [
    "**Видим, что у нас дисбаланс выборки. Позитивных комментариев больше, чем токсичных. Так же помним, что комментарии были выгружены с какими-то спец.символами и числами. Очистим их с помощью регулярных выражений и лемматизируем**"
   ]
  },
  {
   "cell_type": "code",
   "execution_count": 8,
   "metadata": {},
   "outputs": [],
   "source": [
    "def clean_symbols(text):\n",
    "    text = re.sub(r\"[^a-zA-Z ]+\", \" \", text)\n",
    "    return text.strip().lower()"
   ]
  },
  {
   "cell_type": "code",
   "execution_count": 9,
   "metadata": {},
   "outputs": [],
   "source": [
    "df['text'] = df['text'].apply(clean_symbols)"
   ]
  },
  {
   "cell_type": "code",
   "execution_count": 10,
   "metadata": {},
   "outputs": [
    {
     "name": "stderr",
     "output_type": "stream",
     "text": [
      "[nltk_data] Downloading package averaged_perceptron_tagger to\n",
      "[nltk_data]     /home/jovyan/nltk_data...\n",
      "[nltk_data]   Unzipping taggers/averaged_perceptron_tagger.zip.\n",
      "[nltk_data] Downloading package wordnet to /home/jovyan/nltk_data...\n",
      "[nltk_data]   Package wordnet is already up-to-date!\n"
     ]
    }
   ],
   "source": [
    "#скачаем необходимые пакеты\n",
    "nltk.download('averaged_perceptron_tagger')\n",
    "nltk.download('wordnet')\n",
    "wnl = WordNetLemmatizer()\n",
    "tknzr = TweetTokenizer()\n",
    "def lemmatize(text, m=wnl):\n",
    "    word_list = tknzr.tokenize(text)\n",
    "    tagged_words = nltk.pos_tag(word_list)\n",
    "    lemmatized_words = []\n",
    "    for word, tag in tagged_words:\n",
    "        if tag.startswith('N'):\n",
    "            lemmatized_words.append(m.lemmatize(word, pos='n'))\n",
    "        elif tag.startswith('V'):\n",
    "            lemmatized_words.append(m.lemmatize(word, pos='v'))\n",
    "        elif tag.startswith('R'):\n",
    "            lemmatized_words.append(m.lemmatize(word, pos='r'))\n",
    "        elif tag.startswith('J'):\n",
    "            lemmatized_words.append(m.lemmatize(word, pos='a'))\n",
    "        else:\n",
    "            lemmatized_words.append(word)\n",
    "            \n",
    "    return ' '.join(lemmatized_words)"
   ]
  },
  {
   "cell_type": "code",
   "execution_count": 11,
   "metadata": {},
   "outputs": [],
   "source": [
    "df['text'] = df['text'].apply(lemmatize)"
   ]
  },
  {
   "cell_type": "markdown",
   "metadata": {},
   "source": [
    "## Обучение"
   ]
  },
  {
   "cell_type": "code",
   "execution_count": 12,
   "metadata": {},
   "outputs": [],
   "source": [
    "X_train, X_test, y_train, y_test = train_test_split(df['text'], df['toxic'],\n",
    "                                                    test_size=0.2, random_state=42, stratify=df.toxic)"
   ]
  },
  {
   "cell_type": "code",
   "execution_count": 13,
   "metadata": {},
   "outputs": [],
   "source": [
    "train_corpus = X_train\n",
    "corpus_test = X_test"
   ]
  },
  {
   "cell_type": "code",
   "execution_count": 14,
   "metadata": {},
   "outputs": [],
   "source": [
    "tfv = TfidfVectorizer(stop_words=stop_words, ngram_range=(1,2))"
   ]
  },
  {
   "cell_type": "code",
   "execution_count": 15,
   "metadata": {},
   "outputs": [],
   "source": [
    "X_vector_train = tfv.fit_transform(train_corpus)\n",
    "X_vector_test = tfv.transform(corpus_test)"
   ]
  },
  {
   "cell_type": "code",
   "execution_count": 16,
   "metadata": {},
   "outputs": [],
   "source": [
    "model_lr =LogisticRegression(random_state=42)\n",
    "model_sgd = SGDClassifier(random_state=42)\n",
    "\n",
    "params_lr = {\n",
    "          'class_weight':['balanced'],\n",
    "          'C':[3],\n",
    "          'max_iter':[500]}        \n",
    "\n",
    "params_sgd = {\n",
    "        'class_weight':['balanced', None],\n",
    "        'max_iter':[500,1000],\n",
    "        'loss':['log','squared_hinge'],\n",
    "        'shuffle':[True],\n",
    "        'penalty':['l1'],\n",
    "        'n_iter_no_change':[20,30]}"
   ]
  },
  {
   "cell_type": "code",
   "execution_count": 17,
   "metadata": {},
   "outputs": [],
   "source": [
    "grid_lr = GridSearchCV(model_lr, param_grid=params_lr, scoring='f1',verbose=3, cv=5, n_jobs=-1)"
   ]
  },
  {
   "cell_type": "code",
   "execution_count": null,
   "metadata": {},
   "outputs": [
    {
     "name": "stdout",
     "output_type": "stream",
     "text": [
      "Fitting 5 folds for each of 1 candidates, totalling 5 fits\n",
      "[CV 1/5] END .......C=3, class_weight=balanced, max_iter=500; total time= 2.7min\n",
      "[CV 2/5] END .......C=3, class_weight=balanced, max_iter=500; total time= 2.6min\n"
     ]
    }
   ],
   "source": [
    "grid_lr.fit(X_vector_train, y_train)"
   ]
  },
  {
   "cell_type": "code",
   "execution_count": null,
   "metadata": {},
   "outputs": [],
   "source": [
    "grid_lr.best_score_"
   ]
  },
  {
   "cell_type": "code",
   "execution_count": null,
   "metadata": {},
   "outputs": [],
   "source": [
    "grid_lr.best_params_"
   ]
  },
  {
   "cell_type": "code",
   "execution_count": null,
   "metadata": {},
   "outputs": [],
   "source": [
    "grid_sgd = GridSearchCV(model_sgd, param_grid=params_sgd, scoring='f1',verbose=3, cv=5, n_jobs=-1)"
   ]
  },
  {
   "cell_type": "code",
   "execution_count": null,
   "metadata": {},
   "outputs": [],
   "source": [
    "grid_sgd.fit(X_vector_train, y_train)"
   ]
  },
  {
   "cell_type": "code",
   "execution_count": null,
   "metadata": {},
   "outputs": [],
   "source": [
    "grid_sgd.best_score_"
   ]
  },
  {
   "cell_type": "code",
   "execution_count": null,
   "metadata": {},
   "outputs": [],
   "source": [
    "grid_sgd.best_params_"
   ]
  },
  {
   "cell_type": "markdown",
   "metadata": {},
   "source": [
    "**Итак, видим, что наилучшие показатели у логистической регрессии. Проверим на тесте.**"
   ]
  },
  {
   "cell_type": "code",
   "execution_count": null,
   "metadata": {},
   "outputs": [],
   "source": [
    "pred = grid_lr.predict(X_vector_test)"
   ]
  },
  {
   "cell_type": "code",
   "execution_count": null,
   "metadata": {},
   "outputs": [],
   "source": [
    "f1_score(y_test, pred)"
   ]
  },
  {
   "cell_type": "code",
   "execution_count": null,
   "metadata": {},
   "outputs": [],
   "source": [
    "print(classification_report(pred, y_test))"
   ]
  },
  {
   "cell_type": "code",
   "execution_count": null,
   "metadata": {},
   "outputs": [],
   "source": [
    "plt.figure(figsize=(10,8))\n",
    "sns.heatmap(confusion_matrix(y_test, pred, normalize='true'),annot=True,fmt='.0%',cmap=\"summer\")\n",
    "plt.title('Матрица ошибок', y=1.05, size=15)"
   ]
  },
  {
   "cell_type": "markdown",
   "metadata": {},
   "source": [
    "***Видим, что логистическая регрессия лучше справляется с задачей, хоть и время обучения дольше. Процент False Positive и False Negative различается, но удовлетворяет требования***"
   ]
  },
  {
   "cell_type": "markdown",
   "metadata": {},
   "source": [
    "## Выводы"
   ]
  },
  {
   "cell_type": "markdown",
   "metadata": {},
   "source": [
    "**Итак, можно сделать вывод, что исходя из данных лучше всего с предсказанием токсичных комментариев справиласть модель логистической регрессии. Что нам показывает как F1 оценка, так и матрица ошибок. Цель достигнута, модель обучена.**"
   ]
  },
  {
   "cell_type": "markdown",
   "metadata": {},
   "source": [
    "## Чек-лист проверки"
   ]
  },
  {
   "cell_type": "markdown",
   "metadata": {},
   "source": [
    "- [x]  Jupyter Notebook открыт\n",
    "- [x]  Весь код выполняется без ошибок\n",
    "- [x]  Ячейки с кодом расположены в порядке исполнения\n",
    "- [x]  Данные загружены и подготовлены\n",
    "- [x]  Модели обучены\n",
    "- [x]  Значение метрики *F1* не меньше 0.75\n",
    "- [x]  Выводы написаны"
   ]
  }
 ],
 "metadata": {
  "ExecuteTimeLog": [
   {
    "duration": 16143,
    "start_time": "2023-07-07T09:16:21.834Z"
   },
   {
    "duration": 4514,
    "start_time": "2023-07-07T09:26:14.416Z"
   },
   {
    "duration": 0,
    "start_time": "2023-07-07T09:26:18.932Z"
   },
   {
    "duration": 35,
    "start_time": "2023-07-07T09:29:49.116Z"
   },
   {
    "duration": 2434,
    "start_time": "2023-07-07T09:32:23.901Z"
   },
   {
    "duration": 2267,
    "start_time": "2023-07-07T09:32:27.101Z"
   },
   {
    "duration": 41,
    "start_time": "2023-07-07T09:32:46.283Z"
   },
   {
    "duration": 3,
    "start_time": "2023-07-07T09:37:19.006Z"
   },
   {
    "duration": 403,
    "start_time": "2023-07-07T09:37:31.956Z"
   },
   {
    "duration": 9,
    "start_time": "2023-07-07T09:37:48.881Z"
   },
   {
    "duration": 16,
    "start_time": "2023-07-07T09:38:00.866Z"
   },
   {
    "duration": 145,
    "start_time": "2023-07-07T09:38:11.371Z"
   },
   {
    "duration": 435,
    "start_time": "2023-07-07T09:47:28.058Z"
   },
   {
    "duration": 4,
    "start_time": "2023-07-07T09:48:44.983Z"
   },
   {
    "duration": 1817,
    "start_time": "2023-07-07T09:48:58.412Z"
   },
   {
    "duration": 25,
    "start_time": "2023-07-07T09:49:06.109Z"
   },
   {
    "duration": 8131,
    "start_time": "2023-07-07T09:49:40.351Z"
   },
   {
    "duration": 6227,
    "start_time": "2023-07-07T09:49:48.485Z"
   },
   {
    "duration": 879,
    "start_time": "2023-07-07T09:49:54.714Z"
   },
   {
    "duration": 48,
    "start_time": "2023-07-07T09:49:55.595Z"
   },
   {
    "duration": 15,
    "start_time": "2023-07-07T09:49:55.646Z"
   },
   {
    "duration": 216,
    "start_time": "2023-07-07T09:49:55.663Z"
   },
   {
    "duration": 3,
    "start_time": "2023-07-07T09:49:55.880Z"
   },
   {
    "duration": 34,
    "start_time": "2023-07-07T09:49:55.884Z"
   },
   {
    "duration": 4,
    "start_time": "2023-07-07T09:51:13.225Z"
   },
   {
    "duration": 11738,
    "start_time": "2023-07-07T09:51:31.142Z"
   },
   {
    "duration": 6539,
    "start_time": "2023-07-07T09:51:42.885Z"
   },
   {
    "duration": 845,
    "start_time": "2023-07-07T09:51:49.427Z"
   },
   {
    "duration": 48,
    "start_time": "2023-07-07T09:51:50.274Z"
   },
   {
    "duration": 192,
    "start_time": "2023-07-07T09:51:50.326Z"
   },
   {
    "duration": 16,
    "start_time": "2023-07-07T09:51:50.525Z"
   },
   {
    "duration": 451,
    "start_time": "2023-07-07T09:51:50.544Z"
   },
   {
    "duration": 7,
    "start_time": "2023-07-07T09:51:50.997Z"
   },
   {
    "duration": 1873,
    "start_time": "2023-07-07T09:51:51.007Z"
   },
   {
    "duration": 4,
    "start_time": "2023-07-07T09:51:52.883Z"
   },
   {
    "duration": 9447,
    "start_time": "2023-07-09T05:57:03.257Z"
   },
   {
    "duration": 5586,
    "start_time": "2023-07-09T05:57:12.707Z"
   },
   {
    "duration": 3416,
    "start_time": "2023-07-09T05:57:18.294Z"
   },
   {
    "duration": 35,
    "start_time": "2023-07-09T05:57:21.713Z"
   },
   {
    "duration": 241,
    "start_time": "2023-07-09T05:57:21.749Z"
   },
   {
    "duration": 11,
    "start_time": "2023-07-09T05:57:21.992Z"
   },
   {
    "duration": 492,
    "start_time": "2023-07-09T05:57:22.004Z"
   },
   {
    "duration": 4,
    "start_time": "2023-07-09T05:57:22.498Z"
   },
   {
    "duration": 2003,
    "start_time": "2023-07-09T05:57:22.504Z"
   },
   {
    "duration": 4,
    "start_time": "2023-07-09T05:57:24.511Z"
   },
   {
    "duration": 72999,
    "start_time": "2023-07-09T05:57:24.517Z"
   },
   {
    "duration": 66,
    "start_time": "2023-07-09T05:58:37.519Z"
   },
   {
    "duration": 24,
    "start_time": "2023-07-09T05:58:37.587Z"
   },
   {
    "duration": 8598,
    "start_time": "2023-07-09T05:59:23.902Z"
   },
   {
    "duration": 5314,
    "start_time": "2023-07-09T05:59:32.503Z"
   },
   {
    "duration": 811,
    "start_time": "2023-07-09T05:59:37.819Z"
   },
   {
    "duration": 48,
    "start_time": "2023-07-09T05:59:38.633Z"
   },
   {
    "duration": 163,
    "start_time": "2023-07-09T05:59:38.683Z"
   },
   {
    "duration": 13,
    "start_time": "2023-07-09T05:59:38.848Z"
   },
   {
    "duration": 474,
    "start_time": "2023-07-09T05:59:38.863Z"
   },
   {
    "duration": 4,
    "start_time": "2023-07-09T05:59:39.340Z"
   },
   {
    "duration": 1945,
    "start_time": "2023-07-09T05:59:39.360Z"
   },
   {
    "duration": 5,
    "start_time": "2023-07-09T05:59:41.309Z"
   },
   {
    "duration": 75327,
    "start_time": "2023-07-09T05:59:41.317Z"
   },
   {
    "duration": 66,
    "start_time": "2023-07-09T06:00:56.646Z"
   },
   {
    "duration": 23,
    "start_time": "2023-07-09T06:00:56.714Z"
   },
   {
    "duration": 25,
    "start_time": "2023-07-09T06:00:56.740Z"
   },
   {
    "duration": 25740,
    "start_time": "2023-07-09T06:00:56.767Z"
   },
   {
    "duration": 335,
    "start_time": "2023-07-09T06:01:22.509Z"
   },
   {
    "duration": 0,
    "start_time": "2023-07-09T06:01:22.846Z"
   },
   {
    "duration": 0,
    "start_time": "2023-07-09T06:01:22.848Z"
   },
   {
    "duration": 0,
    "start_time": "2023-07-09T06:01:22.849Z"
   },
   {
    "duration": 0,
    "start_time": "2023-07-09T06:01:22.850Z"
   },
   {
    "duration": 0,
    "start_time": "2023-07-09T06:01:22.851Z"
   },
   {
    "duration": 0,
    "start_time": "2023-07-09T06:01:22.858Z"
   },
   {
    "duration": 7859,
    "start_time": "2023-07-09T06:02:36.940Z"
   },
   {
    "duration": 5180,
    "start_time": "2023-07-09T06:02:44.803Z"
   },
   {
    "duration": 755,
    "start_time": "2023-07-09T06:02:49.985Z"
   },
   {
    "duration": 33,
    "start_time": "2023-07-09T06:02:50.743Z"
   },
   {
    "duration": 229,
    "start_time": "2023-07-09T06:02:50.778Z"
   },
   {
    "duration": 11,
    "start_time": "2023-07-09T06:02:51.009Z"
   },
   {
    "duration": 402,
    "start_time": "2023-07-09T06:02:51.022Z"
   },
   {
    "duration": 3,
    "start_time": "2023-07-09T06:02:51.427Z"
   },
   {
    "duration": 1800,
    "start_time": "2023-07-09T06:02:51.431Z"
   },
   {
    "duration": 3,
    "start_time": "2023-07-09T06:02:53.233Z"
   },
   {
    "duration": 68308,
    "start_time": "2023-07-09T06:02:53.238Z"
   },
   {
    "duration": 70,
    "start_time": "2023-07-09T06:04:01.547Z"
   },
   {
    "duration": 26,
    "start_time": "2023-07-09T06:04:01.620Z"
   },
   {
    "duration": 42,
    "start_time": "2023-07-09T06:04:01.658Z"
   },
   {
    "duration": 25544,
    "start_time": "2023-07-09T06:04:01.701Z"
   },
   {
    "duration": 4,
    "start_time": "2023-07-09T06:04:27.247Z"
   },
   {
    "duration": 7,
    "start_time": "2023-07-09T06:04:27.252Z"
   },
   {
    "duration": 1272254,
    "start_time": "2023-07-09T06:04:27.260Z"
   },
   {
    "duration": 4,
    "start_time": "2023-07-09T06:25:39.516Z"
   },
   {
    "duration": 6,
    "start_time": "2023-07-09T06:25:39.522Z"
   },
   {
    "duration": 4,
    "start_time": "2023-07-09T06:25:39.530Z"
   },
   {
    "duration": 8087,
    "start_time": "2023-07-09T07:39:08.024Z"
   },
   {
    "duration": 5143,
    "start_time": "2023-07-09T07:39:16.114Z"
   },
   {
    "duration": 783,
    "start_time": "2023-07-09T07:39:21.262Z"
   },
   {
    "duration": 40,
    "start_time": "2023-07-09T07:39:22.047Z"
   },
   {
    "duration": 177,
    "start_time": "2023-07-09T07:39:22.088Z"
   },
   {
    "duration": 12,
    "start_time": "2023-07-09T07:39:22.267Z"
   },
   {
    "duration": 429,
    "start_time": "2023-07-09T07:39:22.281Z"
   },
   {
    "duration": 3,
    "start_time": "2023-07-09T07:39:22.711Z"
   },
   {
    "duration": 1865,
    "start_time": "2023-07-09T07:39:22.716Z"
   },
   {
    "duration": 4,
    "start_time": "2023-07-09T07:39:24.583Z"
   },
   {
    "duration": 69452,
    "start_time": "2023-07-09T07:39:24.588Z"
   },
   {
    "duration": 93,
    "start_time": "2023-07-09T07:40:34.042Z"
   },
   {
    "duration": 32,
    "start_time": "2023-07-09T07:40:34.139Z"
   },
   {
    "duration": 13,
    "start_time": "2023-07-09T07:40:34.174Z"
   },
   {
    "duration": 26788,
    "start_time": "2023-07-09T07:40:34.189Z"
   },
   {
    "duration": 5,
    "start_time": "2023-07-09T07:41:00.979Z"
   },
   {
    "duration": 23,
    "start_time": "2023-07-09T07:41:00.986Z"
   },
   {
    "duration": 1367736,
    "start_time": "2023-07-09T07:41:01.011Z"
   },
   {
    "duration": 5,
    "start_time": "2023-07-09T08:03:48.749Z"
   },
   {
    "duration": 10,
    "start_time": "2023-07-09T08:03:48.756Z"
   },
   {
    "duration": 18,
    "start_time": "2023-07-09T08:03:48.768Z"
   },
   {
    "duration": 3231287,
    "start_time": "2023-07-09T08:03:48.788Z"
   },
   {
    "duration": 5,
    "start_time": "2023-07-09T08:57:40.077Z"
   },
   {
    "duration": 14,
    "start_time": "2023-07-09T08:57:40.084Z"
   },
   {
    "duration": 18,
    "start_time": "2023-07-09T08:57:40.100Z"
   },
   {
    "duration": 15,
    "start_time": "2023-07-09T08:57:40.120Z"
   },
   {
    "duration": 374,
    "start_time": "2023-07-09T08:57:40.158Z"
   },
   {
    "duration": 0,
    "start_time": "2023-07-09T08:57:40.536Z"
   },
   {
    "duration": 3,
    "start_time": "2023-07-09T09:06:35.112Z"
   },
   {
    "duration": 39,
    "start_time": "2023-07-09T09:06:35.790Z"
   },
   {
    "duration": 30,
    "start_time": "2023-07-09T09:06:46.176Z"
   },
   {
    "duration": 29,
    "start_time": "2023-07-09T09:07:07.341Z"
   },
   {
    "duration": 38,
    "start_time": "2023-07-09T09:07:07.898Z"
   },
   {
    "duration": 35,
    "start_time": "2023-07-09T09:07:08.322Z"
   },
   {
    "duration": 3,
    "start_time": "2023-07-09T09:07:32.974Z"
   },
   {
    "duration": 45,
    "start_time": "2023-07-09T09:07:33.407Z"
   },
   {
    "duration": 333,
    "start_time": "2023-07-09T09:07:35.896Z"
   },
   {
    "duration": 11622,
    "start_time": "2023-07-09T17:15:00.154Z"
   },
   {
    "duration": 5902,
    "start_time": "2023-07-09T17:15:11.778Z"
   },
   {
    "duration": 2450,
    "start_time": "2023-07-09T17:15:17.682Z"
   },
   {
    "duration": 39,
    "start_time": "2023-07-09T17:15:20.134Z"
   },
   {
    "duration": 140,
    "start_time": "2023-07-09T17:15:20.175Z"
   },
   {
    "duration": 13,
    "start_time": "2023-07-09T17:15:20.317Z"
   },
   {
    "duration": 490,
    "start_time": "2023-07-09T17:15:20.332Z"
   },
   {
    "duration": 3,
    "start_time": "2023-07-09T17:15:20.824Z"
   },
   {
    "duration": 1710,
    "start_time": "2023-07-09T17:15:20.829Z"
   },
   {
    "duration": 6,
    "start_time": "2023-07-09T17:22:20.499Z"
   },
   {
    "duration": 812,
    "start_time": "2023-07-09T17:22:24.162Z"
   },
   {
    "duration": 8058,
    "start_time": "2023-07-09T17:23:23.581Z"
   },
   {
    "duration": 5083,
    "start_time": "2023-07-09T17:23:31.642Z"
   },
   {
    "duration": 743,
    "start_time": "2023-07-09T17:23:36.726Z"
   },
   {
    "duration": 32,
    "start_time": "2023-07-09T17:23:37.472Z"
   },
   {
    "duration": 219,
    "start_time": "2023-07-09T17:23:37.506Z"
   },
   {
    "duration": 11,
    "start_time": "2023-07-09T17:23:37.727Z"
   },
   {
    "duration": 416,
    "start_time": "2023-07-09T17:23:37.739Z"
   },
   {
    "duration": 3,
    "start_time": "2023-07-09T17:23:38.157Z"
   },
   {
    "duration": 1765,
    "start_time": "2023-07-09T17:23:38.162Z"
   },
   {
    "duration": 739,
    "start_time": "2023-07-09T17:23:39.930Z"
   },
   {
    "duration": 481953,
    "start_time": "2023-07-09T17:23:40.670Z"
   },
   {
    "duration": 65,
    "start_time": "2023-07-09T17:31:42.625Z"
   },
   {
    "duration": 3,
    "start_time": "2023-07-09T17:31:42.691Z"
   },
   {
    "duration": 33,
    "start_time": "2023-07-09T17:31:42.696Z"
   },
   {
    "duration": 27424,
    "start_time": "2023-07-09T17:31:42.730Z"
   },
   {
    "duration": 4,
    "start_time": "2023-07-09T17:32:29.713Z"
   },
   {
    "duration": 3,
    "start_time": "2023-07-09T17:32:30.190Z"
   }
  ],
  "kernelspec": {
   "display_name": "Python 3 (ipykernel)",
   "language": "python",
   "name": "python3"
  },
  "language_info": {
   "codemirror_mode": {
    "name": "ipython",
    "version": 3
   },
   "file_extension": ".py",
   "mimetype": "text/x-python",
   "name": "python",
   "nbconvert_exporter": "python",
   "pygments_lexer": "ipython3",
   "version": "3.9.13"
  },
  "toc": {
   "base_numbering": 1,
   "nav_menu": {},
   "number_sections": true,
   "sideBar": true,
   "skip_h1_title": true,
   "title_cell": "Содержание",
   "title_sidebar": "Contents",
   "toc_cell": true,
   "toc_position": {
    "height": "calc(100% - 180px)",
    "left": "10px",
    "top": "150px",
    "width": "302.391px"
   },
   "toc_section_display": true,
   "toc_window_display": false
  }
 },
 "nbformat": 4,
 "nbformat_minor": 2
}
