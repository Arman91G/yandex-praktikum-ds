{
 "cells": [
  {
   "cell_type": "markdown",
   "metadata": {},
   "source": [
    "**Анализ рынка видеоигр**\n",
    "\n",
    "Содержание\n",
    "\n",
    "Описание проекта\n",
    "\n",
    "- Шаг 1. Открыть\n",
    "\n",
    "Вывод по первому шагу\n",
    "\n",
    "- Шаг 2. Подготовить данные\n",
    "\n",
    "Вывод по второму шагу\n",
    "\n",
    "- Шаг 3. Проведём исследовательский анализ данных\n",
    "\n",
    "Вывод по третьему шагу\n",
    "\n",
    "- Шаг 4. Составим портрет пользователя каждого региона\n",
    "\n",
    "Вывод по четвертому шагу\n",
    "\n",
    "- Шаг 5. Проверим гипотезы\n",
    "\n",
    "Вывод по пятому шагу\n",
    "\n",
    "- Шаг 6. Общий вывод\n",
    "\n",
    "Реккомендации бизнесу\n",
    "\n",
    "\n",
    "   **О проекте**\n",
    "   \n",
    "Задача: найти из открытых источников исторические данные о продажах игр, оценки пользователей и экспертов, жанры и платформы и выявить определяющие успешность игры закономерности, чтобы сделать ставку на потенциально популярный продукт и спланировать рекламные кампании.\n",
    "\n",
    "\n",
    "\n",
    "**Описание данных**\n",
    "\n",
    "Name — название игры\n",
    "\n",
    "Platform — платформа\n",
    "\n",
    "Year_of_Release — год выпуска\n",
    "\n",
    "Genre — жанр игры\n",
    "\n",
    "NA_sales — продажи в Северной Америке (миллионы проданных копий)\n",
    "\n",
    "EU_sales — продажи в Европе (миллионы проданных копий)\n",
    "\n",
    "JP_sales — продажи в Японии (миллионы проданных копий)\n",
    "\n",
    "Other_sales — продажи в других странах (миллионы проданных копий)\n",
    "\n",
    "Critic_Score — оценка критиков (максимум 100)\n",
    "\n",
    "User_Score — оценка пользователей (максимум 10)\n",
    "\n",
    "Rating — рейтинг от организации ESRB (англ. Entertainment Software Rating Board). Эта ассоциация определяет рейтинг компьютерных игр и присваивает им подходящую возрастную категорию.\n",
    "\n",
    "Что предстоит сделать?\n",
    "\n",
    "Шаг 1. Открыть файл\n",
    "\n",
    "Ознакомиться с данными.\n",
    "\n",
    "Шаг 2. Подготовить данные\n",
    "\n",
    "Подготовить таблицу для дальнейшего исследования, а именно:\n",
    "\n",
    "- Найти и понять природу пропусков. При необходимости, заменить.\n",
    "\n",
    "- Преобразовать данные к нужным типам для дальнейшей работы с ними.\n",
    "\n",
    "- Посчитать суммарные продажи во всех регионах\n",
    "\n",
    "Шаг 3. Провести исследовательский анализ данных\n",
    "\n",
    "Определить, сколько игр выпускалось в разные годы и важны ли данные за все периоды.\n",
    "\n",
    "Посмотреть, как менялись продажи по платформам.\n",
    "\n",
    "Определить какие платформы лидируют по продажам.\n",
    "\n",
    "Определить, как влияют на продажи внутри одной популярной платформы отзывы пользователей и критиков. Соотнести выводы с продажами игр на других платформах.\n",
    "\n",
    "Узнать какой жанр наиболее прибыльный.\n",
    "\n",
    "Шаг 4. Составить портрет пользователя каждого региона\n",
    "\n",
    "Самые популярные платформы (топ-5)\n",
    "\n",
    "Самые популярные жанры (топ-5)\n",
    "\n",
    "Узнать влияет ли рейтинг ESRB на продажи в отдельном регионе\n",
    "\n",
    "Шаг 5. Проверить гипотезы\n",
    "\n",
    "Средние пользовательские рейтинги платформ Xbox One и PC одинаковые;\n",
    "\n",
    "Средние пользовательские рейтинги жанров Action (англ. «действие», экшен-игры) и Sports (англ. «спортивные соревнования») разные.\n",
    "\n",
    "Шаг 6. Общий вывод. \n",
    "\n",
    "Рекомендации бизнесу\n"
   ]
  },
  {
   "cell_type": "markdown",
   "metadata": {},
   "source": [
    "### **Шаг 1. Откройте файл с данными и изучите общую информацию**"
   ]
  },
  {
   "cell_type": "markdown",
   "metadata": {},
   "source": [
    "***Загрузим предполагаемые библиотеки и изучим данные датасета***"
   ]
  },
  {
   "cell_type": "code",
   "execution_count": 1,
   "metadata": {},
   "outputs": [],
   "source": [
    "import pandas as pd\n",
    "import matplotlib.pyplot as plt\n",
    "import seaborn as sns\n",
    "import numpy as np\n",
    "from scipy import stats as st\n",
    "import math "
   ]
  },
  {
   "cell_type": "code",
   "execution_count": 2,
   "metadata": {},
   "outputs": [],
   "source": [
    "df=pd.read_csv('/datasets/games.csv')"
   ]
  },
  {
   "cell_type": "code",
   "execution_count": 3,
   "metadata": {},
   "outputs": [
    {
     "data": {
      "text/html": [
       "<div>\n",
       "<style scoped>\n",
       "    .dataframe tbody tr th:only-of-type {\n",
       "        vertical-align: middle;\n",
       "    }\n",
       "\n",
       "    .dataframe tbody tr th {\n",
       "        vertical-align: top;\n",
       "    }\n",
       "\n",
       "    .dataframe thead th {\n",
       "        text-align: right;\n",
       "    }\n",
       "</style>\n",
       "<table border=\"1\" class=\"dataframe\">\n",
       "  <thead>\n",
       "    <tr style=\"text-align: right;\">\n",
       "      <th></th>\n",
       "      <th>Name</th>\n",
       "      <th>Platform</th>\n",
       "      <th>Year_of_Release</th>\n",
       "      <th>Genre</th>\n",
       "      <th>NA_sales</th>\n",
       "      <th>EU_sales</th>\n",
       "      <th>JP_sales</th>\n",
       "      <th>Other_sales</th>\n",
       "      <th>Critic_Score</th>\n",
       "      <th>User_Score</th>\n",
       "      <th>Rating</th>\n",
       "    </tr>\n",
       "  </thead>\n",
       "  <tbody>\n",
       "    <tr>\n",
       "      <th>0</th>\n",
       "      <td>Wii Sports</td>\n",
       "      <td>Wii</td>\n",
       "      <td>2006.0</td>\n",
       "      <td>Sports</td>\n",
       "      <td>41.36</td>\n",
       "      <td>28.96</td>\n",
       "      <td>3.77</td>\n",
       "      <td>8.45</td>\n",
       "      <td>76.0</td>\n",
       "      <td>8</td>\n",
       "      <td>E</td>\n",
       "    </tr>\n",
       "    <tr>\n",
       "      <th>1</th>\n",
       "      <td>Super Mario Bros.</td>\n",
       "      <td>NES</td>\n",
       "      <td>1985.0</td>\n",
       "      <td>Platform</td>\n",
       "      <td>29.08</td>\n",
       "      <td>3.58</td>\n",
       "      <td>6.81</td>\n",
       "      <td>0.77</td>\n",
       "      <td>NaN</td>\n",
       "      <td>NaN</td>\n",
       "      <td>NaN</td>\n",
       "    </tr>\n",
       "    <tr>\n",
       "      <th>2</th>\n",
       "      <td>Mario Kart Wii</td>\n",
       "      <td>Wii</td>\n",
       "      <td>2008.0</td>\n",
       "      <td>Racing</td>\n",
       "      <td>15.68</td>\n",
       "      <td>12.76</td>\n",
       "      <td>3.79</td>\n",
       "      <td>3.29</td>\n",
       "      <td>82.0</td>\n",
       "      <td>8.3</td>\n",
       "      <td>E</td>\n",
       "    </tr>\n",
       "    <tr>\n",
       "      <th>3</th>\n",
       "      <td>Wii Sports Resort</td>\n",
       "      <td>Wii</td>\n",
       "      <td>2009.0</td>\n",
       "      <td>Sports</td>\n",
       "      <td>15.61</td>\n",
       "      <td>10.93</td>\n",
       "      <td>3.28</td>\n",
       "      <td>2.95</td>\n",
       "      <td>80.0</td>\n",
       "      <td>8</td>\n",
       "      <td>E</td>\n",
       "    </tr>\n",
       "    <tr>\n",
       "      <th>4</th>\n",
       "      <td>Pokemon Red/Pokemon Blue</td>\n",
       "      <td>GB</td>\n",
       "      <td>1996.0</td>\n",
       "      <td>Role-Playing</td>\n",
       "      <td>11.27</td>\n",
       "      <td>8.89</td>\n",
       "      <td>10.22</td>\n",
       "      <td>1.00</td>\n",
       "      <td>NaN</td>\n",
       "      <td>NaN</td>\n",
       "      <td>NaN</td>\n",
       "    </tr>\n",
       "    <tr>\n",
       "      <th>...</th>\n",
       "      <td>...</td>\n",
       "      <td>...</td>\n",
       "      <td>...</td>\n",
       "      <td>...</td>\n",
       "      <td>...</td>\n",
       "      <td>...</td>\n",
       "      <td>...</td>\n",
       "      <td>...</td>\n",
       "      <td>...</td>\n",
       "      <td>...</td>\n",
       "      <td>...</td>\n",
       "    </tr>\n",
       "    <tr>\n",
       "      <th>16710</th>\n",
       "      <td>Samurai Warriors: Sanada Maru</td>\n",
       "      <td>PS3</td>\n",
       "      <td>2016.0</td>\n",
       "      <td>Action</td>\n",
       "      <td>0.00</td>\n",
       "      <td>0.00</td>\n",
       "      <td>0.01</td>\n",
       "      <td>0.00</td>\n",
       "      <td>NaN</td>\n",
       "      <td>NaN</td>\n",
       "      <td>NaN</td>\n",
       "    </tr>\n",
       "    <tr>\n",
       "      <th>16711</th>\n",
       "      <td>LMA Manager 2007</td>\n",
       "      <td>X360</td>\n",
       "      <td>2006.0</td>\n",
       "      <td>Sports</td>\n",
       "      <td>0.00</td>\n",
       "      <td>0.01</td>\n",
       "      <td>0.00</td>\n",
       "      <td>0.00</td>\n",
       "      <td>NaN</td>\n",
       "      <td>NaN</td>\n",
       "      <td>NaN</td>\n",
       "    </tr>\n",
       "    <tr>\n",
       "      <th>16712</th>\n",
       "      <td>Haitaka no Psychedelica</td>\n",
       "      <td>PSV</td>\n",
       "      <td>2016.0</td>\n",
       "      <td>Adventure</td>\n",
       "      <td>0.00</td>\n",
       "      <td>0.00</td>\n",
       "      <td>0.01</td>\n",
       "      <td>0.00</td>\n",
       "      <td>NaN</td>\n",
       "      <td>NaN</td>\n",
       "      <td>NaN</td>\n",
       "    </tr>\n",
       "    <tr>\n",
       "      <th>16713</th>\n",
       "      <td>Spirits &amp; Spells</td>\n",
       "      <td>GBA</td>\n",
       "      <td>2003.0</td>\n",
       "      <td>Platform</td>\n",
       "      <td>0.01</td>\n",
       "      <td>0.00</td>\n",
       "      <td>0.00</td>\n",
       "      <td>0.00</td>\n",
       "      <td>NaN</td>\n",
       "      <td>NaN</td>\n",
       "      <td>NaN</td>\n",
       "    </tr>\n",
       "    <tr>\n",
       "      <th>16714</th>\n",
       "      <td>Winning Post 8 2016</td>\n",
       "      <td>PSV</td>\n",
       "      <td>2016.0</td>\n",
       "      <td>Simulation</td>\n",
       "      <td>0.00</td>\n",
       "      <td>0.00</td>\n",
       "      <td>0.01</td>\n",
       "      <td>0.00</td>\n",
       "      <td>NaN</td>\n",
       "      <td>NaN</td>\n",
       "      <td>NaN</td>\n",
       "    </tr>\n",
       "  </tbody>\n",
       "</table>\n",
       "<p>16715 rows × 11 columns</p>\n",
       "</div>"
      ],
      "text/plain": [
       "                                Name Platform  Year_of_Release         Genre  \\\n",
       "0                         Wii Sports      Wii           2006.0        Sports   \n",
       "1                  Super Mario Bros.      NES           1985.0      Platform   \n",
       "2                     Mario Kart Wii      Wii           2008.0        Racing   \n",
       "3                  Wii Sports Resort      Wii           2009.0        Sports   \n",
       "4           Pokemon Red/Pokemon Blue       GB           1996.0  Role-Playing   \n",
       "...                              ...      ...              ...           ...   \n",
       "16710  Samurai Warriors: Sanada Maru      PS3           2016.0        Action   \n",
       "16711               LMA Manager 2007     X360           2006.0        Sports   \n",
       "16712        Haitaka no Psychedelica      PSV           2016.0     Adventure   \n",
       "16713               Spirits & Spells      GBA           2003.0      Platform   \n",
       "16714            Winning Post 8 2016      PSV           2016.0    Simulation   \n",
       "\n",
       "       NA_sales  EU_sales  JP_sales  Other_sales  Critic_Score User_Score  \\\n",
       "0         41.36     28.96      3.77         8.45          76.0          8   \n",
       "1         29.08      3.58      6.81         0.77           NaN        NaN   \n",
       "2         15.68     12.76      3.79         3.29          82.0        8.3   \n",
       "3         15.61     10.93      3.28         2.95          80.0          8   \n",
       "4         11.27      8.89     10.22         1.00           NaN        NaN   \n",
       "...         ...       ...       ...          ...           ...        ...   \n",
       "16710      0.00      0.00      0.01         0.00           NaN        NaN   \n",
       "16711      0.00      0.01      0.00         0.00           NaN        NaN   \n",
       "16712      0.00      0.00      0.01         0.00           NaN        NaN   \n",
       "16713      0.01      0.00      0.00         0.00           NaN        NaN   \n",
       "16714      0.00      0.00      0.01         0.00           NaN        NaN   \n",
       "\n",
       "      Rating  \n",
       "0          E  \n",
       "1        NaN  \n",
       "2          E  \n",
       "3          E  \n",
       "4        NaN  \n",
       "...      ...  \n",
       "16710    NaN  \n",
       "16711    NaN  \n",
       "16712    NaN  \n",
       "16713    NaN  \n",
       "16714    NaN  \n",
       "\n",
       "[16715 rows x 11 columns]"
      ]
     },
     "execution_count": 3,
     "metadata": {},
     "output_type": "execute_result"
    }
   ],
   "source": [
    "df"
   ]
  },
  {
   "cell_type": "markdown",
   "metadata": {},
   "source": [
    "**Вывод по первому шагу**\n",
    "\n",
    "Видно что очень много пропусков в столбцах Critic_Score, User_Score, Rating"
   ]
  },
  {
   "cell_type": "markdown",
   "metadata": {},
   "source": [
    "### Шаг 2 Переработка данных"
   ]
  },
  {
   "cell_type": "code",
   "execution_count": 4,
   "metadata": {},
   "outputs": [
    {
     "name": "stdout",
     "output_type": "stream",
     "text": [
      "<class 'pandas.core.frame.DataFrame'>\n",
      "RangeIndex: 16715 entries, 0 to 16714\n",
      "Data columns (total 11 columns):\n",
      " #   Column           Non-Null Count  Dtype  \n",
      "---  ------           --------------  -----  \n",
      " 0   Name             16713 non-null  object \n",
      " 1   Platform         16715 non-null  object \n",
      " 2   Year_of_Release  16446 non-null  float64\n",
      " 3   Genre            16713 non-null  object \n",
      " 4   NA_sales         16715 non-null  float64\n",
      " 5   EU_sales         16715 non-null  float64\n",
      " 6   JP_sales         16715 non-null  float64\n",
      " 7   Other_sales      16715 non-null  float64\n",
      " 8   Critic_Score     8137 non-null   float64\n",
      " 9   User_Score       10014 non-null  object \n",
      " 10  Rating           9949 non-null   object \n",
      "dtypes: float64(6), object(5)\n",
      "memory usage: 1.4+ MB\n"
     ]
    }
   ],
   "source": [
    "df.info()"
   ]
  },
  {
   "cell_type": "code",
   "execution_count": 5,
   "metadata": {},
   "outputs": [
    {
     "data": {
      "text/plain": [
       "Name                  2\n",
       "Platform              0\n",
       "Year_of_Release     269\n",
       "Genre                 2\n",
       "NA_sales              0\n",
       "EU_sales              0\n",
       "JP_sales              0\n",
       "Other_sales           0\n",
       "Critic_Score       8578\n",
       "User_Score         6701\n",
       "Rating             6766\n",
       "dtype: int64"
      ]
     },
     "execution_count": 5,
     "metadata": {},
     "output_type": "execute_result"
    }
   ],
   "source": [
    "df.isnull().sum()"
   ]
  },
  {
   "cell_type": "code",
   "execution_count": 6,
   "metadata": {},
   "outputs": [
    {
     "data": {
      "text/html": [
       "<style  type=\"text/css\" >\n",
       "#T_65868_row0_col0,#T_65868_row1_col0,#T_65868_row3_col0,#T_65868_row4_col0,#T_65868_row5_col0,#T_65868_row6_col0,#T_65868_row7_col0{\n",
       "            background-color:  #f7fcfd;\n",
       "            color:  #000000;\n",
       "        }#T_65868_row2_col0{\n",
       "            background-color:  #f0f7fa;\n",
       "            color:  #000000;\n",
       "        }#T_65868_row8_col0{\n",
       "            background-color:  #4d004b;\n",
       "            color:  #f1f1f1;\n",
       "        }#T_65868_row9_col0,#T_65868_row10_col0{\n",
       "            background-color:  #863394;\n",
       "            color:  #f1f1f1;\n",
       "        }</style><table id=\"T_65868_\" ><thead>    <tr>        <th class=\"blank level0\" ></th>        <th class=\"col_heading level0 col0\" >0</th>    </tr></thead><tbody>\n",
       "                <tr>\n",
       "                        <th id=\"T_65868_level0_row0\" class=\"row_heading level0 row0\" >Name</th>\n",
       "                        <td id=\"T_65868_row0_col0\" class=\"data row0 col0\" >0.000000</td>\n",
       "            </tr>\n",
       "            <tr>\n",
       "                        <th id=\"T_65868_level0_row1\" class=\"row_heading level0 row1\" >Platform</th>\n",
       "                        <td id=\"T_65868_row1_col0\" class=\"data row1 col0\" >0.000000</td>\n",
       "            </tr>\n",
       "            <tr>\n",
       "                        <th id=\"T_65868_level0_row2\" class=\"row_heading level0 row2\" >Year_of_Release</th>\n",
       "                        <td id=\"T_65868_row2_col0\" class=\"data row2 col0\" >2.000000</td>\n",
       "            </tr>\n",
       "            <tr>\n",
       "                        <th id=\"T_65868_level0_row3\" class=\"row_heading level0 row3\" >Genre</th>\n",
       "                        <td id=\"T_65868_row3_col0\" class=\"data row3 col0\" >0.000000</td>\n",
       "            </tr>\n",
       "            <tr>\n",
       "                        <th id=\"T_65868_level0_row4\" class=\"row_heading level0 row4\" >NA_sales</th>\n",
       "                        <td id=\"T_65868_row4_col0\" class=\"data row4 col0\" >0.000000</td>\n",
       "            </tr>\n",
       "            <tr>\n",
       "                        <th id=\"T_65868_level0_row5\" class=\"row_heading level0 row5\" >EU_sales</th>\n",
       "                        <td id=\"T_65868_row5_col0\" class=\"data row5 col0\" >0.000000</td>\n",
       "            </tr>\n",
       "            <tr>\n",
       "                        <th id=\"T_65868_level0_row6\" class=\"row_heading level0 row6\" >JP_sales</th>\n",
       "                        <td id=\"T_65868_row6_col0\" class=\"data row6 col0\" >0.000000</td>\n",
       "            </tr>\n",
       "            <tr>\n",
       "                        <th id=\"T_65868_level0_row7\" class=\"row_heading level0 row7\" >Other_sales</th>\n",
       "                        <td id=\"T_65868_row7_col0\" class=\"data row7 col0\" >0.000000</td>\n",
       "            </tr>\n",
       "            <tr>\n",
       "                        <th id=\"T_65868_level0_row8\" class=\"row_heading level0 row8\" >Critic_Score</th>\n",
       "                        <td id=\"T_65868_row8_col0\" class=\"data row8 col0\" >51.000000</td>\n",
       "            </tr>\n",
       "            <tr>\n",
       "                        <th id=\"T_65868_level0_row9\" class=\"row_heading level0 row9\" >User_Score</th>\n",
       "                        <td id=\"T_65868_row9_col0\" class=\"data row9 col0\" >40.000000</td>\n",
       "            </tr>\n",
       "            <tr>\n",
       "                        <th id=\"T_65868_level0_row10\" class=\"row_heading level0 row10\" >Rating</th>\n",
       "                        <td id=\"T_65868_row10_col0\" class=\"data row10 col0\" >40.000000</td>\n",
       "            </tr>\n",
       "    </tbody></table>"
      ],
      "text/plain": [
       "<pandas.io.formats.style.Styler at 0x7f331c359fa0>"
      ]
     },
     "execution_count": 6,
     "metadata": {},
     "output_type": "execute_result"
    }
   ],
   "source": [
    "pd.DataFrame(round(df.isna().mean()*100,)).style.background_gradient('BuPu')"
   ]
  },
  {
   "cell_type": "code",
   "execution_count": 7,
   "metadata": {},
   "outputs": [],
   "source": [
    "def pass_value_barh(df):\n",
    "    try:\n",
    "        (\n",
    "            (df.isna().mean()*100)\n",
    "            .to_frame()\n",
    "            .rename(columns = {0:'space'})\n",
    "            .query('space > 0')\n",
    "            .sort_values(by = 'space', ascending = True)\n",
    "            .plot(kind= 'barh', figsize=(19,6), rot = -5, legend = False, fontsize = 16)\n",
    "            .set_title('Пропуски' + \"\\n\", fontsize = 22, color = 'SteelBlue')    \n",
    "        );    \n",
    "    except:\n",
    "        print('пропусков не осталось :) ')"
   ]
  },
  {
   "cell_type": "code",
   "execution_count": 8,
   "metadata": {
    "scrolled": true
   },
   "outputs": [
    {
     "data": {
      "image/png": "[encoded data removed]",
      "text/plain": [
       "<Figure size 1368x432 with 1 Axes>"
      ]
     },
     "metadata": {
      "needs_background": "light"
     },
     "output_type": "display_data"
    }
   ],
   "source": [
    "pass_value_barh(df)"
   ]
  },
  {
   "cell_type": "markdown",
   "metadata": {},
   "source": [
    "**Видем что есть всего два пропуска в столбцах имя и жанр, так же всего 2 % пропусков в сталбце год выпуска их можно убрать** "
   ]
  },
  {
   "cell_type": "code",
   "execution_count": 9,
   "metadata": {},
   "outputs": [
    {
     "data": {
      "text/plain": [
       "Index(['name', 'platform', 'year_of_release', 'genre', 'na_sales', 'eu_sales',\n",
       "       'jp_sales', 'other_sales', 'critic_score', 'user_score', 'rating'],\n",
       "      dtype='object')"
      ]
     },
     "execution_count": 9,
     "metadata": {},
     "output_type": "execute_result"
    }
   ],
   "source": [
    "df.columns=df.columns.str.lower()#сделаем все столбцы в нижнем регистре\n",
    "df.columns #проверим что все стало в нижнем регистре "
   ]
  },
  {
   "cell_type": "markdown",
   "metadata": {},
   "source": [
    "*Проверим отдельные столбцы*  "
   ]
  },
  {
   "cell_type": "code",
   "execution_count": 10,
   "metadata": {},
   "outputs": [
    {
     "data": {
      "text/plain": [
       "array(['Sports', 'Platform', 'Racing', 'Role-Playing', 'Puzzle', 'Misc',\n",
       "       'Shooter', 'Simulation', 'Action', 'Fighting', 'Adventure',\n",
       "       'Strategy', nan], dtype=object)"
      ]
     },
     "execution_count": 10,
     "metadata": {},
     "output_type": "execute_result"
    }
   ],
   "source": [
    "df['genre'].unique()#проверяем уникальные значения"
   ]
  },
  {
   "cell_type": "code",
   "execution_count": 11,
   "metadata": {},
   "outputs": [
    {
     "data": {
      "text/html": [
       "<div>\n",
       "<style scoped>\n",
       "    .dataframe tbody tr th:only-of-type {\n",
       "        vertical-align: middle;\n",
       "    }\n",
       "\n",
       "    .dataframe tbody tr th {\n",
       "        vertical-align: top;\n",
       "    }\n",
       "\n",
       "    .dataframe thead th {\n",
       "        text-align: right;\n",
       "    }\n",
       "</style>\n",
       "<table border=\"1\" class=\"dataframe\">\n",
       "  <thead>\n",
       "    <tr style=\"text-align: right;\">\n",
       "      <th></th>\n",
       "      <th>name</th>\n",
       "      <th>platform</th>\n",
       "      <th>year_of_release</th>\n",
       "      <th>genre</th>\n",
       "      <th>na_sales</th>\n",
       "      <th>eu_sales</th>\n",
       "      <th>jp_sales</th>\n",
       "      <th>other_sales</th>\n",
       "      <th>critic_score</th>\n",
       "      <th>user_score</th>\n",
       "      <th>rating</th>\n",
       "    </tr>\n",
       "  </thead>\n",
       "  <tbody>\n",
       "    <tr>\n",
       "      <th>659</th>\n",
       "      <td>NaN</td>\n",
       "      <td>GEN</td>\n",
       "      <td>1993.0</td>\n",
       "      <td>NaN</td>\n",
       "      <td>1.78</td>\n",
       "      <td>0.53</td>\n",
       "      <td>0.00</td>\n",
       "      <td>0.08</td>\n",
       "      <td>NaN</td>\n",
       "      <td>NaN</td>\n",
       "      <td>NaN</td>\n",
       "    </tr>\n",
       "    <tr>\n",
       "      <th>14244</th>\n",
       "      <td>NaN</td>\n",
       "      <td>GEN</td>\n",
       "      <td>1993.0</td>\n",
       "      <td>NaN</td>\n",
       "      <td>0.00</td>\n",
       "      <td>0.00</td>\n",
       "      <td>0.03</td>\n",
       "      <td>0.00</td>\n",
       "      <td>NaN</td>\n",
       "      <td>NaN</td>\n",
       "      <td>NaN</td>\n",
       "    </tr>\n",
       "  </tbody>\n",
       "</table>\n",
       "</div>"
      ],
      "text/plain": [
       "      name platform  year_of_release genre  na_sales  eu_sales  jp_sales  \\\n",
       "659    NaN      GEN           1993.0   NaN      1.78      0.53      0.00   \n",
       "14244  NaN      GEN           1993.0   NaN      0.00      0.00      0.03   \n",
       "\n",
       "       other_sales  critic_score user_score rating  \n",
       "659           0.08           NaN        NaN    NaN  \n",
       "14244         0.00           NaN        NaN    NaN  "
      ]
     },
     "execution_count": 11,
     "metadata": {},
     "output_type": "execute_result"
    }
   ],
   "source": [
    "df[df['genre'].isnull()]"
   ]
  },
  {
   "cell_type": "code",
   "execution_count": 12,
   "metadata": {},
   "outputs": [],
   "source": [
    "df.dropna(subset=['genre'], inplace=True)#Так как пропусков мало и они связаны со старой игрой по которой нет данных, смело удаляем"
   ]
  },
  {
   "cell_type": "code",
   "execution_count": 13,
   "metadata": {},
   "outputs": [
    {
     "data": {
      "text/plain": [
       "array([2006., 1985., 2008., 2009., 1996., 1989., 1984., 2005., 1999.,\n",
       "       2007., 2010., 2013., 2004., 1990., 1988., 2002., 2001., 2011.,\n",
       "       1998., 2015., 2012., 2014., 1992., 1997., 1993., 1994., 1982.,\n",
       "       2016., 2003., 1986., 2000.,   nan, 1995., 1991., 1981., 1987.,\n",
       "       1980., 1983.])"
      ]
     },
     "execution_count": 13,
     "metadata": {},
     "output_type": "execute_result"
    }
   ],
   "source": [
    "df['year_of_release'].unique()"
   ]
  },
  {
   "cell_type": "code",
   "execution_count": 14,
   "metadata": {},
   "outputs": [
    {
     "data": {
      "text/html": [
       "<div>\n",
       "<style scoped>\n",
       "    .dataframe tbody tr th:only-of-type {\n",
       "        vertical-align: middle;\n",
       "    }\n",
       "\n",
       "    .dataframe tbody tr th {\n",
       "        vertical-align: top;\n",
       "    }\n",
       "\n",
       "    .dataframe thead th {\n",
       "        text-align: right;\n",
       "    }\n",
       "</style>\n",
       "<table border=\"1\" class=\"dataframe\">\n",
       "  <thead>\n",
       "    <tr style=\"text-align: right;\">\n",
       "      <th></th>\n",
       "      <th>name</th>\n",
       "      <th>platform</th>\n",
       "      <th>year_of_release</th>\n",
       "      <th>genre</th>\n",
       "      <th>na_sales</th>\n",
       "      <th>eu_sales</th>\n",
       "      <th>jp_sales</th>\n",
       "      <th>other_sales</th>\n",
       "      <th>critic_score</th>\n",
       "      <th>user_score</th>\n",
       "      <th>rating</th>\n",
       "    </tr>\n",
       "  </thead>\n",
       "  <tbody>\n",
       "    <tr>\n",
       "      <th>183</th>\n",
       "      <td>Madden NFL 2004</td>\n",
       "      <td>PS2</td>\n",
       "      <td>NaN</td>\n",
       "      <td>Sports</td>\n",
       "      <td>4.26</td>\n",
       "      <td>0.26</td>\n",
       "      <td>0.01</td>\n",
       "      <td>0.71</td>\n",
       "      <td>94.0</td>\n",
       "      <td>8.5</td>\n",
       "      <td>E</td>\n",
       "    </tr>\n",
       "    <tr>\n",
       "      <th>377</th>\n",
       "      <td>FIFA Soccer 2004</td>\n",
       "      <td>PS2</td>\n",
       "      <td>NaN</td>\n",
       "      <td>Sports</td>\n",
       "      <td>0.59</td>\n",
       "      <td>2.36</td>\n",
       "      <td>0.04</td>\n",
       "      <td>0.51</td>\n",
       "      <td>84.0</td>\n",
       "      <td>6.4</td>\n",
       "      <td>E</td>\n",
       "    </tr>\n",
       "    <tr>\n",
       "      <th>456</th>\n",
       "      <td>LEGO Batman: The Videogame</td>\n",
       "      <td>Wii</td>\n",
       "      <td>NaN</td>\n",
       "      <td>Action</td>\n",
       "      <td>1.80</td>\n",
       "      <td>0.97</td>\n",
       "      <td>0.00</td>\n",
       "      <td>0.29</td>\n",
       "      <td>74.0</td>\n",
       "      <td>7.9</td>\n",
       "      <td>E10+</td>\n",
       "    </tr>\n",
       "    <tr>\n",
       "      <th>475</th>\n",
       "      <td>wwe Smackdown vs. Raw 2006</td>\n",
       "      <td>PS2</td>\n",
       "      <td>NaN</td>\n",
       "      <td>Fighting</td>\n",
       "      <td>1.57</td>\n",
       "      <td>1.02</td>\n",
       "      <td>0.00</td>\n",
       "      <td>0.41</td>\n",
       "      <td>NaN</td>\n",
       "      <td>NaN</td>\n",
       "      <td>NaN</td>\n",
       "    </tr>\n",
       "    <tr>\n",
       "      <th>609</th>\n",
       "      <td>Space Invaders</td>\n",
       "      <td>2600</td>\n",
       "      <td>NaN</td>\n",
       "      <td>Shooter</td>\n",
       "      <td>2.36</td>\n",
       "      <td>0.14</td>\n",
       "      <td>0.00</td>\n",
       "      <td>0.03</td>\n",
       "      <td>NaN</td>\n",
       "      <td>NaN</td>\n",
       "      <td>NaN</td>\n",
       "    </tr>\n",
       "    <tr>\n",
       "      <th>...</th>\n",
       "      <td>...</td>\n",
       "      <td>...</td>\n",
       "      <td>...</td>\n",
       "      <td>...</td>\n",
       "      <td>...</td>\n",
       "      <td>...</td>\n",
       "      <td>...</td>\n",
       "      <td>...</td>\n",
       "      <td>...</td>\n",
       "      <td>...</td>\n",
       "      <td>...</td>\n",
       "    </tr>\n",
       "    <tr>\n",
       "      <th>16373</th>\n",
       "      <td>PDC World Championship Darts 2008</td>\n",
       "      <td>PSP</td>\n",
       "      <td>NaN</td>\n",
       "      <td>Sports</td>\n",
       "      <td>0.01</td>\n",
       "      <td>0.00</td>\n",
       "      <td>0.00</td>\n",
       "      <td>0.00</td>\n",
       "      <td>43.0</td>\n",
       "      <td>tbd</td>\n",
       "      <td>E10+</td>\n",
       "    </tr>\n",
       "    <tr>\n",
       "      <th>16405</th>\n",
       "      <td>Freaky Flyers</td>\n",
       "      <td>GC</td>\n",
       "      <td>NaN</td>\n",
       "      <td>Racing</td>\n",
       "      <td>0.01</td>\n",
       "      <td>0.00</td>\n",
       "      <td>0.00</td>\n",
       "      <td>0.00</td>\n",
       "      <td>69.0</td>\n",
       "      <td>6.5</td>\n",
       "      <td>T</td>\n",
       "    </tr>\n",
       "    <tr>\n",
       "      <th>16448</th>\n",
       "      <td>Inversion</td>\n",
       "      <td>PC</td>\n",
       "      <td>NaN</td>\n",
       "      <td>Shooter</td>\n",
       "      <td>0.01</td>\n",
       "      <td>0.00</td>\n",
       "      <td>0.00</td>\n",
       "      <td>0.00</td>\n",
       "      <td>59.0</td>\n",
       "      <td>6.7</td>\n",
       "      <td>M</td>\n",
       "    </tr>\n",
       "    <tr>\n",
       "      <th>16458</th>\n",
       "      <td>Hakuouki: Shinsengumi Kitan</td>\n",
       "      <td>PS3</td>\n",
       "      <td>NaN</td>\n",
       "      <td>Adventure</td>\n",
       "      <td>0.01</td>\n",
       "      <td>0.00</td>\n",
       "      <td>0.00</td>\n",
       "      <td>0.00</td>\n",
       "      <td>NaN</td>\n",
       "      <td>NaN</td>\n",
       "      <td>NaN</td>\n",
       "    </tr>\n",
       "    <tr>\n",
       "      <th>16522</th>\n",
       "      <td>Virtua Quest</td>\n",
       "      <td>GC</td>\n",
       "      <td>NaN</td>\n",
       "      <td>Role-Playing</td>\n",
       "      <td>0.01</td>\n",
       "      <td>0.00</td>\n",
       "      <td>0.00</td>\n",
       "      <td>0.00</td>\n",
       "      <td>55.0</td>\n",
       "      <td>5.5</td>\n",
       "      <td>T</td>\n",
       "    </tr>\n",
       "  </tbody>\n",
       "</table>\n",
       "<p>269 rows × 11 columns</p>\n",
       "</div>"
      ],
      "text/plain": [
       "                                    name platform  year_of_release  \\\n",
       "183                      Madden NFL 2004      PS2              NaN   \n",
       "377                     FIFA Soccer 2004      PS2              NaN   \n",
       "456           LEGO Batman: The Videogame      Wii              NaN   \n",
       "475           wwe Smackdown vs. Raw 2006      PS2              NaN   \n",
       "609                       Space Invaders     2600              NaN   \n",
       "...                                  ...      ...              ...   \n",
       "16373  PDC World Championship Darts 2008      PSP              NaN   \n",
       "16405                      Freaky Flyers       GC              NaN   \n",
       "16448                          Inversion       PC              NaN   \n",
       "16458        Hakuouki: Shinsengumi Kitan      PS3              NaN   \n",
       "16522                       Virtua Quest       GC              NaN   \n",
       "\n",
       "              genre  na_sales  eu_sales  jp_sales  other_sales  critic_score  \\\n",
       "183          Sports      4.26      0.26      0.01         0.71          94.0   \n",
       "377          Sports      0.59      2.36      0.04         0.51          84.0   \n",
       "456          Action      1.80      0.97      0.00         0.29          74.0   \n",
       "475        Fighting      1.57      1.02      0.00         0.41           NaN   \n",
       "609         Shooter      2.36      0.14      0.00         0.03           NaN   \n",
       "...             ...       ...       ...       ...          ...           ...   \n",
       "16373        Sports      0.01      0.00      0.00         0.00          43.0   \n",
       "16405        Racing      0.01      0.00      0.00         0.00          69.0   \n",
       "16448       Shooter      0.01      0.00      0.00         0.00          59.0   \n",
       "16458     Adventure      0.01      0.00      0.00         0.00           NaN   \n",
       "16522  Role-Playing      0.01      0.00      0.00         0.00          55.0   \n",
       "\n",
       "      user_score rating  \n",
       "183          8.5      E  \n",
       "377          6.4      E  \n",
       "456          7.9   E10+  \n",
       "475          NaN    NaN  \n",
       "609          NaN    NaN  \n",
       "...          ...    ...  \n",
       "16373        tbd   E10+  \n",
       "16405        6.5      T  \n",
       "16448        6.7      M  \n",
       "16458        NaN    NaN  \n",
       "16522        5.5      T  \n",
       "\n",
       "[269 rows x 11 columns]"
      ]
     },
     "execution_count": 14,
     "metadata": {},
     "output_type": "execute_result"
    }
   ],
   "source": [
    "df[df['year_of_release'].isnull()]"
   ]
  },
  {
   "cell_type": "code",
   "execution_count": 15,
   "metadata": {},
   "outputs": [],
   "source": [
    "df.dropna(subset=['year_of_release'], inplace=True)#Уберём и их так как выписывать каждую игру и узнавать дату выпуска слишком долгий процесс и пропусков всего 2%   "
   ]
  },
  {
   "cell_type": "code",
   "execution_count": 16,
   "metadata": {},
   "outputs": [
    {
     "data": {
      "text/plain": [
       "array([76., nan, 82., 80., 89., 58., 87., 91., 61., 97., 95., 77., 88.,\n",
       "       83., 94., 93., 85., 86., 98., 96., 90., 84., 73., 74., 78., 92.,\n",
       "       71., 72., 68., 62., 49., 67., 81., 66., 56., 79., 70., 59., 64.,\n",
       "       75., 60., 63., 69., 50., 25., 42., 44., 55., 48., 57., 29., 47.,\n",
       "       65., 54., 20., 53., 37., 38., 33., 52., 30., 32., 43., 45., 51.,\n",
       "       40., 46., 39., 34., 41., 36., 31., 27., 35., 26., 19., 28., 23.,\n",
       "       24., 21., 17., 13.])"
      ]
     },
     "execution_count": 16,
     "metadata": {},
     "output_type": "execute_result"
    }
   ],
   "source": [
    "df['critic_score'].unique()"
   ]
  },
  {
   "cell_type": "code",
   "execution_count": 17,
   "metadata": {},
   "outputs": [
    {
     "data": {
      "text/plain": [
       "array(['8', nan, '8.3', '8.5', '6.6', '8.4', '8.6', '7.7', '6.3', '7.4',\n",
       "       '8.2', '9', '7.9', '8.1', '8.7', '7.1', '3.4', '5.3', '4.8', '3.2',\n",
       "       '8.9', '6.4', '7.8', '7.5', '2.6', '7.2', '9.2', '7', '7.3', '4.3',\n",
       "       '7.6', '5.7', '5', '9.1', '6.5', 'tbd', '8.8', '6.9', '9.4', '6.8',\n",
       "       '6.1', '6.7', '5.4', '4', '4.9', '4.5', '9.3', '6.2', '4.2', '6',\n",
       "       '3.7', '4.1', '5.8', '5.6', '5.5', '4.4', '4.6', '5.9', '3.9',\n",
       "       '3.1', '2.9', '5.2', '3.3', '4.7', '5.1', '3.5', '2.5', '1.9', '3',\n",
       "       '2.7', '2.2', '2', '9.5', '2.1', '3.6', '2.8', '1.8', '3.8', '0',\n",
       "       '1.6', '9.6', '2.4', '1.7', '1.1', '0.3', '1.5', '0.7', '1.2',\n",
       "       '2.3', '0.5', '1.3', '0.2', '0.6', '1.4', '0.9', '1', '9.7'],\n",
       "      dtype=object)"
      ]
     },
     "execution_count": 17,
     "metadata": {},
     "output_type": "execute_result"
    }
   ],
   "source": [
    "df['user_score'].unique()"
   ]
  },
  {
   "cell_type": "code",
   "execution_count": 18,
   "metadata": {},
   "outputs": [
    {
     "data": {
      "text/plain": [
       "array(['E', nan, 'M', 'T', 'E10+', 'K-A', 'AO', 'EC', 'RP'], dtype=object)"
      ]
     },
     "execution_count": 18,
     "metadata": {},
     "output_type": "execute_result"
    }
   ],
   "source": [
    "df['rating'].unique()"
   ]
  },
  {
   "cell_type": "code",
   "execution_count": 19,
   "metadata": {},
   "outputs": [
    {
     "data": {
      "text/plain": [
       "array([8.450e+00, 7.700e-01, 3.290e+00, 2.950e+00, 1.000e+00, 5.800e-01,\n",
       "       2.880e+00, 2.840e+00, 2.240e+00, 4.700e-01, 2.740e+00, 1.900e+00,\n",
       "       7.100e-01, 2.150e+00, 1.690e+00, 1.770e+00, 3.960e+00, 1.057e+01,\n",
       "       5.500e-01, 2.040e+00, 1.360e+00, 4.200e-01, 4.600e-01, 1.410e+00,\n",
       "       1.780e+00, 5.000e-01, 1.180e+00, 8.000e-01, 1.160e+00, 1.320e+00,\n",
       "       5.900e-01, 2.380e+00, 1.130e+00, 7.800e-01, 2.420e+00, 1.120e+00,\n",
       "       1.280e+00, 1.570e+00, 1.300e+00, 1.010e+00, 9.100e-01, 1.790e+00,\n",
       "       1.970e+00, 8.600e-01, 1.210e+00, 2.300e-01, 7.600e-01, 7.400e-01,\n",
       "       7.530e+00, 2.900e-01, 1.030e+00, 5.200e-01, 2.110e+00, 1.600e+00,\n",
       "       1.610e+00, 3.500e-01, 9.700e-01, 1.060e+00, 6.300e-01, 1.500e-01,\n",
       "       7.900e-01, 9.600e-01, 1.250e+00, 9.000e-01, 8.100e-01, 3.900e-01,\n",
       "       6.800e-01, 8.500e-01, 1.800e-01, 8.000e-02, 6.700e-01, 7.000e-01,\n",
       "       4.100e-01, 3.300e-01, 6.000e-01, 5.400e-01, 1.730e+00, 1.230e+00,\n",
       "       1.600e-01, 1.110e+00, 3.100e-01, 4.800e-01, 6.200e-01, 1.900e-01,\n",
       "       6.900e-01, 1.020e+00, 7.300e-01, 1.080e+00, 4.500e-01, 2.800e-01,\n",
       "       5.100e-01, 2.200e-01, 1.090e+00, 9.900e-01, 3.000e-01, 6.400e-01,\n",
       "       6.600e-01, 9.800e-01, 1.390e+00, 1.400e-01, 1.370e+00, 7.000e-02,\n",
       "       2.100e-01, 6.100e-01, 1.700e-01, 1.200e-01, 0.000e+00, 7.200e-01,\n",
       "       2.400e-01, 8.200e-01, 1.740e+00, 8.700e-01, 9.200e-01, 5.700e-01,\n",
       "       1.100e-01, 4.000e-02, 5.600e-01, 2.000e-01, 3.400e-01, 9.000e-02,\n",
       "       8.300e-01, 4.400e-01, 6.000e-02, 3.200e-01, 3.800e-01, 1.480e+00,\n",
       "       3.700e-01, 1.000e-01, 2.500e-01, 3.600e-01, 1.300e-01, 4.300e-01,\n",
       "       5.000e-02, 2.000e-02, 2.600e-01, 4.000e-01, 7.500e-01, 1.930e+00,\n",
       "       8.400e-01, 5.300e-01, 8.900e-01, 1.670e+00, 2.700e-01, 2.930e+00,\n",
       "       4.900e-01, 1.000e-02, 2.460e+00, 3.000e-02, 1.510e+00, 2.050e+00,\n",
       "       1.680e+00, 1.820e+00, 1.330e+00, 9.400e-01, 9.300e-01])"
      ]
     },
     "execution_count": 19,
     "metadata": {},
     "output_type": "execute_result"
    }
   ],
   "source": [
    "df['other_sales'].unique()"
   ]
  },
  {
   "cell_type": "code",
   "execution_count": 20,
   "metadata": {},
   "outputs": [
    {
     "data": {
      "text/plain": [
       "array(['Wii', 'NES', 'GB', 'DS', 'X360', 'PS3', 'PS2', 'SNES', 'GBA',\n",
       "       'PS4', '3DS', 'N64', 'PS', 'XB', 'PC', '2600', 'PSP', 'XOne',\n",
       "       'WiiU', 'GC', 'GEN', 'DC', 'PSV', 'SAT', 'SCD', 'WS', 'NG', 'TG16',\n",
       "       '3DO', 'GG', 'PCFX'], dtype=object)"
      ]
     },
     "execution_count": 20,
     "metadata": {},
     "output_type": "execute_result"
    }
   ],
   "source": [
    "df['platform'].unique()#проверяем уникальные значения"
   ]
  },
  {
   "cell_type": "code",
   "execution_count": 21,
   "metadata": {},
   "outputs": [
    {
     "data": {
      "text/html": [
       "<div>\n",
       "<style scoped>\n",
       "    .dataframe tbody tr th:only-of-type {\n",
       "        vertical-align: middle;\n",
       "    }\n",
       "\n",
       "    .dataframe tbody tr th {\n",
       "        vertical-align: top;\n",
       "    }\n",
       "\n",
       "    .dataframe thead th {\n",
       "        text-align: right;\n",
       "    }\n",
       "</style>\n",
       "<table border=\"1\" class=\"dataframe\">\n",
       "  <thead>\n",
       "    <tr style=\"text-align: right;\">\n",
       "      <th></th>\n",
       "      <th>name</th>\n",
       "      <th>platform</th>\n",
       "      <th>year_of_release</th>\n",
       "      <th>genre</th>\n",
       "      <th>na_sales</th>\n",
       "      <th>eu_sales</th>\n",
       "      <th>jp_sales</th>\n",
       "      <th>other_sales</th>\n",
       "      <th>critic_score</th>\n",
       "      <th>user_score</th>\n",
       "      <th>rating</th>\n",
       "    </tr>\n",
       "  </thead>\n",
       "  <tbody>\n",
       "    <tr>\n",
       "      <th>119</th>\n",
       "      <td>Zumba Fitness</td>\n",
       "      <td>Wii</td>\n",
       "      <td>2010.0</td>\n",
       "      <td>Sports</td>\n",
       "      <td>3.45</td>\n",
       "      <td>2.59</td>\n",
       "      <td>0.0</td>\n",
       "      <td>0.66</td>\n",
       "      <td>NaN</td>\n",
       "      <td>tbd</td>\n",
       "      <td>E</td>\n",
       "    </tr>\n",
       "    <tr>\n",
       "      <th>301</th>\n",
       "      <td>Namco Museum: 50th Anniversary</td>\n",
       "      <td>PS2</td>\n",
       "      <td>2005.0</td>\n",
       "      <td>Misc</td>\n",
       "      <td>2.08</td>\n",
       "      <td>1.35</td>\n",
       "      <td>0.0</td>\n",
       "      <td>0.54</td>\n",
       "      <td>61.0</td>\n",
       "      <td>tbd</td>\n",
       "      <td>E10+</td>\n",
       "    </tr>\n",
       "    <tr>\n",
       "      <th>520</th>\n",
       "      <td>Zumba Fitness 2</td>\n",
       "      <td>Wii</td>\n",
       "      <td>2011.0</td>\n",
       "      <td>Sports</td>\n",
       "      <td>1.51</td>\n",
       "      <td>1.03</td>\n",
       "      <td>0.0</td>\n",
       "      <td>0.27</td>\n",
       "      <td>NaN</td>\n",
       "      <td>tbd</td>\n",
       "      <td>T</td>\n",
       "    </tr>\n",
       "    <tr>\n",
       "      <th>645</th>\n",
       "      <td>uDraw Studio</td>\n",
       "      <td>Wii</td>\n",
       "      <td>2010.0</td>\n",
       "      <td>Misc</td>\n",
       "      <td>1.65</td>\n",
       "      <td>0.57</td>\n",
       "      <td>0.0</td>\n",
       "      <td>0.20</td>\n",
       "      <td>71.0</td>\n",
       "      <td>tbd</td>\n",
       "      <td>E</td>\n",
       "    </tr>\n",
       "    <tr>\n",
       "      <th>718</th>\n",
       "      <td>Just Dance Kids</td>\n",
       "      <td>Wii</td>\n",
       "      <td>2010.0</td>\n",
       "      <td>Misc</td>\n",
       "      <td>1.52</td>\n",
       "      <td>0.54</td>\n",
       "      <td>0.0</td>\n",
       "      <td>0.18</td>\n",
       "      <td>NaN</td>\n",
       "      <td>tbd</td>\n",
       "      <td>E</td>\n",
       "    </tr>\n",
       "    <tr>\n",
       "      <th>...</th>\n",
       "      <td>...</td>\n",
       "      <td>...</td>\n",
       "      <td>...</td>\n",
       "      <td>...</td>\n",
       "      <td>...</td>\n",
       "      <td>...</td>\n",
       "      <td>...</td>\n",
       "      <td>...</td>\n",
       "      <td>...</td>\n",
       "      <td>...</td>\n",
       "      <td>...</td>\n",
       "    </tr>\n",
       "    <tr>\n",
       "      <th>16695</th>\n",
       "      <td>Planet Monsters</td>\n",
       "      <td>GBA</td>\n",
       "      <td>2001.0</td>\n",
       "      <td>Action</td>\n",
       "      <td>0.01</td>\n",
       "      <td>0.00</td>\n",
       "      <td>0.0</td>\n",
       "      <td>0.00</td>\n",
       "      <td>67.0</td>\n",
       "      <td>tbd</td>\n",
       "      <td>E</td>\n",
       "    </tr>\n",
       "    <tr>\n",
       "      <th>16697</th>\n",
       "      <td>Bust-A-Move 3000</td>\n",
       "      <td>GC</td>\n",
       "      <td>2003.0</td>\n",
       "      <td>Puzzle</td>\n",
       "      <td>0.01</td>\n",
       "      <td>0.00</td>\n",
       "      <td>0.0</td>\n",
       "      <td>0.00</td>\n",
       "      <td>53.0</td>\n",
       "      <td>tbd</td>\n",
       "      <td>E</td>\n",
       "    </tr>\n",
       "    <tr>\n",
       "      <th>16698</th>\n",
       "      <td>Mega Brain Boost</td>\n",
       "      <td>DS</td>\n",
       "      <td>2008.0</td>\n",
       "      <td>Puzzle</td>\n",
       "      <td>0.01</td>\n",
       "      <td>0.00</td>\n",
       "      <td>0.0</td>\n",
       "      <td>0.00</td>\n",
       "      <td>48.0</td>\n",
       "      <td>tbd</td>\n",
       "      <td>E</td>\n",
       "    </tr>\n",
       "    <tr>\n",
       "      <th>16704</th>\n",
       "      <td>Plushees</td>\n",
       "      <td>DS</td>\n",
       "      <td>2008.0</td>\n",
       "      <td>Simulation</td>\n",
       "      <td>0.01</td>\n",
       "      <td>0.00</td>\n",
       "      <td>0.0</td>\n",
       "      <td>0.00</td>\n",
       "      <td>NaN</td>\n",
       "      <td>tbd</td>\n",
       "      <td>E</td>\n",
       "    </tr>\n",
       "    <tr>\n",
       "      <th>16706</th>\n",
       "      <td>Men in Black II: Alien Escape</td>\n",
       "      <td>GC</td>\n",
       "      <td>2003.0</td>\n",
       "      <td>Shooter</td>\n",
       "      <td>0.01</td>\n",
       "      <td>0.00</td>\n",
       "      <td>0.0</td>\n",
       "      <td>0.00</td>\n",
       "      <td>NaN</td>\n",
       "      <td>tbd</td>\n",
       "      <td>T</td>\n",
       "    </tr>\n",
       "  </tbody>\n",
       "</table>\n",
       "<p>2376 rows × 11 columns</p>\n",
       "</div>"
      ],
      "text/plain": [
       "                                 name platform  year_of_release       genre  \\\n",
       "119                     Zumba Fitness      Wii           2010.0      Sports   \n",
       "301    Namco Museum: 50th Anniversary      PS2           2005.0        Misc   \n",
       "520                   Zumba Fitness 2      Wii           2011.0      Sports   \n",
       "645                      uDraw Studio      Wii           2010.0        Misc   \n",
       "718                   Just Dance Kids      Wii           2010.0        Misc   \n",
       "...                               ...      ...              ...         ...   \n",
       "16695                 Planet Monsters      GBA           2001.0      Action   \n",
       "16697                Bust-A-Move 3000       GC           2003.0      Puzzle   \n",
       "16698                Mega Brain Boost       DS           2008.0      Puzzle   \n",
       "16704                        Plushees       DS           2008.0  Simulation   \n",
       "16706   Men in Black II: Alien Escape       GC           2003.0     Shooter   \n",
       "\n",
       "       na_sales  eu_sales  jp_sales  other_sales  critic_score user_score  \\\n",
       "119        3.45      2.59       0.0         0.66           NaN        tbd   \n",
       "301        2.08      1.35       0.0         0.54          61.0        tbd   \n",
       "520        1.51      1.03       0.0         0.27           NaN        tbd   \n",
       "645        1.65      0.57       0.0         0.20          71.0        tbd   \n",
       "718        1.52      0.54       0.0         0.18           NaN        tbd   \n",
       "...         ...       ...       ...          ...           ...        ...   \n",
       "16695      0.01      0.00       0.0         0.00          67.0        tbd   \n",
       "16697      0.01      0.00       0.0         0.00          53.0        tbd   \n",
       "16698      0.01      0.00       0.0         0.00          48.0        tbd   \n",
       "16704      0.01      0.00       0.0         0.00           NaN        tbd   \n",
       "16706      0.01      0.00       0.0         0.00           NaN        tbd   \n",
       "\n",
       "      rating  \n",
       "119        E  \n",
       "301     E10+  \n",
       "520        T  \n",
       "645        E  \n",
       "718        E  \n",
       "...      ...  \n",
       "16695      E  \n",
       "16697      E  \n",
       "16698      E  \n",
       "16704      E  \n",
       "16706      T  \n",
       "\n",
       "[2376 rows x 11 columns]"
      ]
     },
     "execution_count": 21,
     "metadata": {},
     "output_type": "execute_result"
    }
   ],
   "source": [
    "df[df['user_score']=='tbd']#проверяем значение tbd "
   ]
  },
  {
   "cell_type": "markdown",
   "metadata": {},
   "source": [
    "**Видим что у tbd нет определенной логики назначения ни по годам ни по платформе, заменим в будущем на пропуски**"
   ]
  },
  {
   "cell_type": "code",
   "execution_count": 22,
   "metadata": {},
   "outputs": [],
   "source": [
    "df['year_of_release'] = df['year_of_release'].astype('int')#переведем в int \n",
    "df['critic_score'] = df['critic_score'].fillna(0).astype('int')#что бы перевести в int пришлось заполнить 0 но в расчет брать их не будем\n",
    "df['rating']=df['rating'].fillna('o')#заменим рейтинг с пропусками на o чтоб потом их можно было бы учитывать"
   ]
  },
  {
   "cell_type": "code",
   "execution_count": 23,
   "metadata": {},
   "outputs": [],
   "source": [
    "df.loc[df['user_score'] == 'tbd', 'user_score'] = np.nan"
   ]
  },
  {
   "cell_type": "code",
   "execution_count": 24,
   "metadata": {},
   "outputs": [],
   "source": [
    "df['user_score']=df['user_score'].astype('float')"
   ]
  },
  {
   "cell_type": "code",
   "execution_count": 25,
   "metadata": {},
   "outputs": [
    {
     "name": "stdout",
     "output_type": "stream",
     "text": [
      "<class 'pandas.core.frame.DataFrame'>\n",
      "Int64Index: 16444 entries, 0 to 16714\n",
      "Data columns (total 11 columns):\n",
      " #   Column           Non-Null Count  Dtype  \n",
      "---  ------           --------------  -----  \n",
      " 0   name             16444 non-null  object \n",
      " 1   platform         16444 non-null  object \n",
      " 2   year_of_release  16444 non-null  int64  \n",
      " 3   genre            16444 non-null  object \n",
      " 4   na_sales         16444 non-null  float64\n",
      " 5   eu_sales         16444 non-null  float64\n",
      " 6   jp_sales         16444 non-null  float64\n",
      " 7   other_sales      16444 non-null  float64\n",
      " 8   critic_score     16444 non-null  int64  \n",
      " 9   user_score       7463 non-null   float64\n",
      " 10  rating           16444 non-null  object \n",
      "dtypes: float64(5), int64(2), object(4)\n",
      "memory usage: 1.5+ MB\n"
     ]
    }
   ],
   "source": [
    "df.info()"
   ]
  },
  {
   "cell_type": "markdown",
   "metadata": {},
   "source": [
    "**Перевели данные в нужный нам формат и убрали часть пропусков** "
   ]
  },
  {
   "cell_type": "markdown",
   "metadata": {},
   "source": [
    "***Считаем суммарные продажи во всех регионах***"
   ]
  },
  {
   "cell_type": "code",
   "execution_count": 26,
   "metadata": {},
   "outputs": [],
   "source": [
    "df['total_sales']=df['na_sales']+df['eu_sales']+df['jp_sales']+df['other_sales']"
   ]
  },
  {
   "cell_type": "code",
   "execution_count": 27,
   "metadata": {},
   "outputs": [
    {
     "data": {
      "text/html": [
       "<div>\n",
       "<style scoped>\n",
       "    .dataframe tbody tr th:only-of-type {\n",
       "        vertical-align: middle;\n",
       "    }\n",
       "\n",
       "    .dataframe tbody tr th {\n",
       "        vertical-align: top;\n",
       "    }\n",
       "\n",
       "    .dataframe thead th {\n",
       "        text-align: right;\n",
       "    }\n",
       "</style>\n",
       "<table border=\"1\" class=\"dataframe\">\n",
       "  <thead>\n",
       "    <tr style=\"text-align: right;\">\n",
       "      <th></th>\n",
       "      <th>name</th>\n",
       "      <th>platform</th>\n",
       "      <th>year_of_release</th>\n",
       "      <th>genre</th>\n",
       "      <th>na_sales</th>\n",
       "      <th>eu_sales</th>\n",
       "      <th>jp_sales</th>\n",
       "      <th>other_sales</th>\n",
       "      <th>critic_score</th>\n",
       "      <th>user_score</th>\n",
       "      <th>rating</th>\n",
       "      <th>total_sales</th>\n",
       "    </tr>\n",
       "  </thead>\n",
       "  <tbody>\n",
       "    <tr>\n",
       "      <th>0</th>\n",
       "      <td>Wii Sports</td>\n",
       "      <td>Wii</td>\n",
       "      <td>2006</td>\n",
       "      <td>Sports</td>\n",
       "      <td>41.36</td>\n",
       "      <td>28.96</td>\n",
       "      <td>3.77</td>\n",
       "      <td>8.45</td>\n",
       "      <td>76</td>\n",
       "      <td>8.0</td>\n",
       "      <td>E</td>\n",
       "      <td>82.54</td>\n",
       "    </tr>\n",
       "    <tr>\n",
       "      <th>1</th>\n",
       "      <td>Super Mario Bros.</td>\n",
       "      <td>NES</td>\n",
       "      <td>1985</td>\n",
       "      <td>Platform</td>\n",
       "      <td>29.08</td>\n",
       "      <td>3.58</td>\n",
       "      <td>6.81</td>\n",
       "      <td>0.77</td>\n",
       "      <td>0</td>\n",
       "      <td>NaN</td>\n",
       "      <td>o</td>\n",
       "      <td>40.24</td>\n",
       "    </tr>\n",
       "    <tr>\n",
       "      <th>2</th>\n",
       "      <td>Mario Kart Wii</td>\n",
       "      <td>Wii</td>\n",
       "      <td>2008</td>\n",
       "      <td>Racing</td>\n",
       "      <td>15.68</td>\n",
       "      <td>12.76</td>\n",
       "      <td>3.79</td>\n",
       "      <td>3.29</td>\n",
       "      <td>82</td>\n",
       "      <td>8.3</td>\n",
       "      <td>E</td>\n",
       "      <td>35.52</td>\n",
       "    </tr>\n",
       "    <tr>\n",
       "      <th>3</th>\n",
       "      <td>Wii Sports Resort</td>\n",
       "      <td>Wii</td>\n",
       "      <td>2009</td>\n",
       "      <td>Sports</td>\n",
       "      <td>15.61</td>\n",
       "      <td>10.93</td>\n",
       "      <td>3.28</td>\n",
       "      <td>2.95</td>\n",
       "      <td>80</td>\n",
       "      <td>8.0</td>\n",
       "      <td>E</td>\n",
       "      <td>32.77</td>\n",
       "    </tr>\n",
       "    <tr>\n",
       "      <th>4</th>\n",
       "      <td>Pokemon Red/Pokemon Blue</td>\n",
       "      <td>GB</td>\n",
       "      <td>1996</td>\n",
       "      <td>Role-Playing</td>\n",
       "      <td>11.27</td>\n",
       "      <td>8.89</td>\n",
       "      <td>10.22</td>\n",
       "      <td>1.00</td>\n",
       "      <td>0</td>\n",
       "      <td>NaN</td>\n",
       "      <td>o</td>\n",
       "      <td>31.38</td>\n",
       "    </tr>\n",
       "    <tr>\n",
       "      <th>...</th>\n",
       "      <td>...</td>\n",
       "      <td>...</td>\n",
       "      <td>...</td>\n",
       "      <td>...</td>\n",
       "      <td>...</td>\n",
       "      <td>...</td>\n",
       "      <td>...</td>\n",
       "      <td>...</td>\n",
       "      <td>...</td>\n",
       "      <td>...</td>\n",
       "      <td>...</td>\n",
       "      <td>...</td>\n",
       "    </tr>\n",
       "    <tr>\n",
       "      <th>16710</th>\n",
       "      <td>Samurai Warriors: Sanada Maru</td>\n",
       "      <td>PS3</td>\n",
       "      <td>2016</td>\n",
       "      <td>Action</td>\n",
       "      <td>0.00</td>\n",
       "      <td>0.00</td>\n",
       "      <td>0.01</td>\n",
       "      <td>0.00</td>\n",
       "      <td>0</td>\n",
       "      <td>NaN</td>\n",
       "      <td>o</td>\n",
       "      <td>0.01</td>\n",
       "    </tr>\n",
       "    <tr>\n",
       "      <th>16711</th>\n",
       "      <td>LMA Manager 2007</td>\n",
       "      <td>X360</td>\n",
       "      <td>2006</td>\n",
       "      <td>Sports</td>\n",
       "      <td>0.00</td>\n",
       "      <td>0.01</td>\n",
       "      <td>0.00</td>\n",
       "      <td>0.00</td>\n",
       "      <td>0</td>\n",
       "      <td>NaN</td>\n",
       "      <td>o</td>\n",
       "      <td>0.01</td>\n",
       "    </tr>\n",
       "    <tr>\n",
       "      <th>16712</th>\n",
       "      <td>Haitaka no Psychedelica</td>\n",
       "      <td>PSV</td>\n",
       "      <td>2016</td>\n",
       "      <td>Adventure</td>\n",
       "      <td>0.00</td>\n",
       "      <td>0.00</td>\n",
       "      <td>0.01</td>\n",
       "      <td>0.00</td>\n",
       "      <td>0</td>\n",
       "      <td>NaN</td>\n",
       "      <td>o</td>\n",
       "      <td>0.01</td>\n",
       "    </tr>\n",
       "    <tr>\n",
       "      <th>16713</th>\n",
       "      <td>Spirits &amp; Spells</td>\n",
       "      <td>GBA</td>\n",
       "      <td>2003</td>\n",
       "      <td>Platform</td>\n",
       "      <td>0.01</td>\n",
       "      <td>0.00</td>\n",
       "      <td>0.00</td>\n",
       "      <td>0.00</td>\n",
       "      <td>0</td>\n",
       "      <td>NaN</td>\n",
       "      <td>o</td>\n",
       "      <td>0.01</td>\n",
       "    </tr>\n",
       "    <tr>\n",
       "      <th>16714</th>\n",
       "      <td>Winning Post 8 2016</td>\n",
       "      <td>PSV</td>\n",
       "      <td>2016</td>\n",
       "      <td>Simulation</td>\n",
       "      <td>0.00</td>\n",
       "      <td>0.00</td>\n",
       "      <td>0.01</td>\n",
       "      <td>0.00</td>\n",
       "      <td>0</td>\n",
       "      <td>NaN</td>\n",
       "      <td>o</td>\n",
       "      <td>0.01</td>\n",
       "    </tr>\n",
       "  </tbody>\n",
       "</table>\n",
       "<p>16444 rows × 12 columns</p>\n",
       "</div>"
      ],
      "text/plain": [
       "                                name platform  year_of_release         genre  \\\n",
       "0                         Wii Sports      Wii             2006        Sports   \n",
       "1                  Super Mario Bros.      NES             1985      Platform   \n",
       "2                     Mario Kart Wii      Wii             2008        Racing   \n",
       "3                  Wii Sports Resort      Wii             2009        Sports   \n",
       "4           Pokemon Red/Pokemon Blue       GB             1996  Role-Playing   \n",
       "...                              ...      ...              ...           ...   \n",
       "16710  Samurai Warriors: Sanada Maru      PS3             2016        Action   \n",
       "16711               LMA Manager 2007     X360             2006        Sports   \n",
       "16712        Haitaka no Psychedelica      PSV             2016     Adventure   \n",
       "16713               Spirits & Spells      GBA             2003      Platform   \n",
       "16714            Winning Post 8 2016      PSV             2016    Simulation   \n",
       "\n",
       "       na_sales  eu_sales  jp_sales  other_sales  critic_score  user_score  \\\n",
       "0         41.36     28.96      3.77         8.45            76         8.0   \n",
       "1         29.08      3.58      6.81         0.77             0         NaN   \n",
       "2         15.68     12.76      3.79         3.29            82         8.3   \n",
       "3         15.61     10.93      3.28         2.95            80         8.0   \n",
       "4         11.27      8.89     10.22         1.00             0         NaN   \n",
       "...         ...       ...       ...          ...           ...         ...   \n",
       "16710      0.00      0.00      0.01         0.00             0         NaN   \n",
       "16711      0.00      0.01      0.00         0.00             0         NaN   \n",
       "16712      0.00      0.00      0.01         0.00             0         NaN   \n",
       "16713      0.01      0.00      0.00         0.00             0         NaN   \n",
       "16714      0.00      0.00      0.01         0.00             0         NaN   \n",
       "\n",
       "      rating  total_sales  \n",
       "0          E        82.54  \n",
       "1          o        40.24  \n",
       "2          E        35.52  \n",
       "3          E        32.77  \n",
       "4          o        31.38  \n",
       "...      ...          ...  \n",
       "16710      o         0.01  \n",
       "16711      o         0.01  \n",
       "16712      o         0.01  \n",
       "16713      o         0.01  \n",
       "16714      o         0.01  \n",
       "\n",
       "[16444 rows x 12 columns]"
      ]
     },
     "execution_count": 27,
     "metadata": {},
     "output_type": "execute_result"
    }
   ],
   "source": [
    "df#проверим что все работает "
   ]
  },
  {
   "cell_type": "code",
   "execution_count": 28,
   "metadata": {},
   "outputs": [
    {
     "data": {
      "text/plain": [
       "0"
      ]
     },
     "execution_count": 28,
     "metadata": {},
     "output_type": "execute_result"
    }
   ],
   "source": [
    "df.duplicated() \n",
    "# подсчёт количества дубликатов\n",
    "df.duplicated().sum()"
   ]
  },
  {
   "cell_type": "markdown",
   "metadata": {},
   "source": [
    "\n",
    "<b>Мое исправление</b> \n",
    "\n",
    "Добавил код на поиски дубликатов, дубликатов нет\n",
    "\n",
    "По природе происхождения  пропусков думаю скорее всего отсутствие рейтинга (оценок) означает либо\n",
    "\n",
    "Игра слишком старая\n",
    "\n",
    "Игра непопулярна\n",
    "\n",
    "Игра еще не успела получить рейтинг в силу новизны\n",
    "\n",
    "Прочие причины (не выгрузили и тд)\n",
    "\n",
    "Это касается как рейтинга критиков, так и рейтинга пользователей.\n",
    "\n",
    "Повлиять на оценки мы никак не можем, взять среднию или медиану будет неправильно \n",
    "</div>"
   ]
  },
  {
   "cell_type": "markdown",
   "metadata": {},
   "source": [
    "**Приступаем к Иследовательскому анализу**"
   ]
  },
  {
   "cell_type": "code",
   "execution_count": 29,
   "metadata": {},
   "outputs": [
    {
     "data": {
      "text/html": [
       "<style  type=\"text/css\" >\n",
       "#T_30585_row0_col0{\n",
       "            width:  10em;\n",
       "             height:  80%;\n",
       "        }#T_30585_row1_col0{\n",
       "            width:  10em;\n",
       "             height:  80%;\n",
       "            background:  linear-gradient(90deg,#d65f5f 2.6%, transparent 2.6%);\n",
       "        }#T_30585_row2_col0{\n",
       "            width:  10em;\n",
       "             height:  80%;\n",
       "            background:  linear-gradient(90deg,#d65f5f 1.9%, transparent 1.9%);\n",
       "        }#T_30585_row3_col0,#T_30585_row9_col0{\n",
       "            width:  10em;\n",
       "             height:  80%;\n",
       "            background:  linear-gradient(90deg,#d65f5f 0.6%, transparent 0.6%);\n",
       "        }#T_30585_row4_col0,#T_30585_row5_col0,#T_30585_row8_col0{\n",
       "            width:  10em;\n",
       "             height:  80%;\n",
       "            background:  linear-gradient(90deg,#d65f5f 0.4%, transparent 0.4%);\n",
       "        }#T_30585_row6_col0{\n",
       "            width:  10em;\n",
       "             height:  80%;\n",
       "            background:  linear-gradient(90deg,#d65f5f 0.8%, transparent 0.8%);\n",
       "        }#T_30585_row7_col0,#T_30585_row10_col0{\n",
       "            width:  10em;\n",
       "             height:  80%;\n",
       "            background:  linear-gradient(90deg,#d65f5f 0.5%, transparent 0.5%);\n",
       "        }#T_30585_row11_col0{\n",
       "            width:  10em;\n",
       "             height:  80%;\n",
       "            background:  linear-gradient(90deg,#d65f5f 2.3%, transparent 2.3%);\n",
       "        }#T_30585_row12_col0{\n",
       "            width:  10em;\n",
       "             height:  80%;\n",
       "            background:  linear-gradient(90deg,#d65f5f 2.4%, transparent 2.4%);\n",
       "        }#T_30585_row13_col0{\n",
       "            width:  10em;\n",
       "             height:  80%;\n",
       "            background:  linear-gradient(90deg,#d65f5f 3.6%, transparent 3.6%);\n",
       "        }#T_30585_row14_col0{\n",
       "            width:  10em;\n",
       "             height:  80%;\n",
       "            background:  linear-gradient(90deg,#d65f5f 7.9%, transparent 7.9%);\n",
       "        }#T_30585_row15_col0{\n",
       "            width:  10em;\n",
       "             height:  80%;\n",
       "            background:  linear-gradient(90deg,#d65f5f 14.8%, transparent 14.8%);\n",
       "        }#T_30585_row16_col0{\n",
       "            width:  10em;\n",
       "             height:  80%;\n",
       "            background:  linear-gradient(90deg,#d65f5f 17.9%, transparent 17.9%);\n",
       "        }#T_30585_row17_col0{\n",
       "            width:  10em;\n",
       "             height:  80%;\n",
       "            background:  linear-gradient(90deg,#d65f5f 19.7%, transparent 19.7%);\n",
       "        }#T_30585_row18_col0{\n",
       "            width:  10em;\n",
       "             height:  80%;\n",
       "            background:  linear-gradient(90deg,#d65f5f 26.1%, transparent 26.1%);\n",
       "        }#T_30585_row19_col0{\n",
       "            width:  10em;\n",
       "             height:  80%;\n",
       "            background:  linear-gradient(90deg,#d65f5f 23.2%, transparent 23.2%);\n",
       "        }#T_30585_row20_col0{\n",
       "            width:  10em;\n",
       "             height:  80%;\n",
       "            background:  linear-gradient(90deg,#d65f5f 24.0%, transparent 24.0%);\n",
       "        }#T_30585_row21_col0{\n",
       "            width:  10em;\n",
       "             height:  80%;\n",
       "            background:  linear-gradient(90deg,#d65f5f 33.4%, transparent 33.4%);\n",
       "        }#T_30585_row22_col0{\n",
       "            width:  10em;\n",
       "             height:  80%;\n",
       "            background:  linear-gradient(90deg,#d65f5f 57.8%, transparent 57.8%);\n",
       "        }#T_30585_row23_col0{\n",
       "            width:  10em;\n",
       "             height:  80%;\n",
       "            background:  linear-gradient(90deg,#d65f5f 54.0%, transparent 54.0%);\n",
       "        }#T_30585_row24_col0{\n",
       "            width:  10em;\n",
       "             height:  80%;\n",
       "            background:  linear-gradient(90deg,#d65f5f 53.1%, transparent 53.1%);\n",
       "        }#T_30585_row25_col0{\n",
       "            width:  10em;\n",
       "             height:  80%;\n",
       "            background:  linear-gradient(90deg,#d65f5f 65.6%, transparent 65.6%);\n",
       "        }#T_30585_row26_col0{\n",
       "            width:  10em;\n",
       "             height:  80%;\n",
       "            background:  linear-gradient(90deg,#d65f5f 70.3%, transparent 70.3%);\n",
       "        }#T_30585_row27_col0{\n",
       "            width:  10em;\n",
       "             height:  80%;\n",
       "            background:  linear-gradient(90deg,#d65f5f 83.8%, transparent 83.8%);\n",
       "        }#T_30585_row28_col0{\n",
       "            width:  10em;\n",
       "             height:  80%;\n",
       "            background:  linear-gradient(90deg,#d65f5f 100.0%, transparent 100.0%);\n",
       "        }#T_30585_row29_col0{\n",
       "            width:  10em;\n",
       "             height:  80%;\n",
       "            background:  linear-gradient(90deg,#d65f5f 99.9%, transparent 99.9%);\n",
       "        }#T_30585_row30_col0{\n",
       "            width:  10em;\n",
       "             height:  80%;\n",
       "            background:  linear-gradient(90deg,#d65f5f 87.9%, transparent 87.9%);\n",
       "        }#T_30585_row31_col0{\n",
       "            width:  10em;\n",
       "             height:  80%;\n",
       "            background:  linear-gradient(90deg,#d65f5f 79.5%, transparent 79.5%);\n",
       "        }#T_30585_row32_col0{\n",
       "            width:  10em;\n",
       "             height:  80%;\n",
       "            background:  linear-gradient(90deg,#d65f5f 45.4%, transparent 45.4%);\n",
       "        }#T_30585_row33_col0{\n",
       "            width:  10em;\n",
       "             height:  80%;\n",
       "            background:  linear-gradient(90deg,#d65f5f 37.7%, transparent 37.7%);\n",
       "        }#T_30585_row34_col0{\n",
       "            width:  10em;\n",
       "             height:  80%;\n",
       "            background:  linear-gradient(90deg,#d65f5f 40.3%, transparent 40.3%);\n",
       "        }#T_30585_row35_col0{\n",
       "            width:  10em;\n",
       "             height:  80%;\n",
       "            background:  linear-gradient(90deg,#d65f5f 42.1%, transparent 42.1%);\n",
       "        }#T_30585_row36_col0{\n",
       "            width:  10em;\n",
       "             height:  80%;\n",
       "            background:  linear-gradient(90deg,#d65f5f 34.8%, transparent 34.8%);\n",
       "        }</style><table id=\"T_30585_\" ><thead>    <tr>        <th class=\"blank level0\" ></th>        <th class=\"col_heading level0 col0\" >name</th>    </tr>    <tr>        <th class=\"index_name level0\" >year_of_release</th>        <th class=\"blank\" ></th>    </tr></thead><tbody>\n",
       "                <tr>\n",
       "                        <th id=\"T_30585_level0_row0\" class=\"row_heading level0 row0\" >1980</th>\n",
       "                        <td id=\"T_30585_row0_col0\" class=\"data row0 col0\" >9</td>\n",
       "            </tr>\n",
       "            <tr>\n",
       "                        <th id=\"T_30585_level0_row1\" class=\"row_heading level0 row1\" >1981</th>\n",
       "                        <td id=\"T_30585_row1_col0\" class=\"data row1 col0\" >46</td>\n",
       "            </tr>\n",
       "            <tr>\n",
       "                        <th id=\"T_30585_level0_row2\" class=\"row_heading level0 row2\" >1982</th>\n",
       "                        <td id=\"T_30585_row2_col0\" class=\"data row2 col0\" >36</td>\n",
       "            </tr>\n",
       "            <tr>\n",
       "                        <th id=\"T_30585_level0_row3\" class=\"row_heading level0 row3\" >1983</th>\n",
       "                        <td id=\"T_30585_row3_col0\" class=\"data row3 col0\" >17</td>\n",
       "            </tr>\n",
       "            <tr>\n",
       "                        <th id=\"T_30585_level0_row4\" class=\"row_heading level0 row4\" >1984</th>\n",
       "                        <td id=\"T_30585_row4_col0\" class=\"data row4 col0\" >14</td>\n",
       "            </tr>\n",
       "            <tr>\n",
       "                        <th id=\"T_30585_level0_row5\" class=\"row_heading level0 row5\" >1985</th>\n",
       "                        <td id=\"T_30585_row5_col0\" class=\"data row5 col0\" >14</td>\n",
       "            </tr>\n",
       "            <tr>\n",
       "                        <th id=\"T_30585_level0_row6\" class=\"row_heading level0 row6\" >1986</th>\n",
       "                        <td id=\"T_30585_row6_col0\" class=\"data row6 col0\" >21</td>\n",
       "            </tr>\n",
       "            <tr>\n",
       "                        <th id=\"T_30585_level0_row7\" class=\"row_heading level0 row7\" >1987</th>\n",
       "                        <td id=\"T_30585_row7_col0\" class=\"data row7 col0\" >16</td>\n",
       "            </tr>\n",
       "            <tr>\n",
       "                        <th id=\"T_30585_level0_row8\" class=\"row_heading level0 row8\" >1988</th>\n",
       "                        <td id=\"T_30585_row8_col0\" class=\"data row8 col0\" >15</td>\n",
       "            </tr>\n",
       "            <tr>\n",
       "                        <th id=\"T_30585_level0_row9\" class=\"row_heading level0 row9\" >1989</th>\n",
       "                        <td id=\"T_30585_row9_col0\" class=\"data row9 col0\" >17</td>\n",
       "            </tr>\n",
       "            <tr>\n",
       "                        <th id=\"T_30585_level0_row10\" class=\"row_heading level0 row10\" >1990</th>\n",
       "                        <td id=\"T_30585_row10_col0\" class=\"data row10 col0\" >16</td>\n",
       "            </tr>\n",
       "            <tr>\n",
       "                        <th id=\"T_30585_level0_row11\" class=\"row_heading level0 row11\" >1991</th>\n",
       "                        <td id=\"T_30585_row11_col0\" class=\"data row11 col0\" >41</td>\n",
       "            </tr>\n",
       "            <tr>\n",
       "                        <th id=\"T_30585_level0_row12\" class=\"row_heading level0 row12\" >1992</th>\n",
       "                        <td id=\"T_30585_row12_col0\" class=\"data row12 col0\" >43</td>\n",
       "            </tr>\n",
       "            <tr>\n",
       "                        <th id=\"T_30585_level0_row13\" class=\"row_heading level0 row13\" >1993</th>\n",
       "                        <td id=\"T_30585_row13_col0\" class=\"data row13 col0\" >60</td>\n",
       "            </tr>\n",
       "            <tr>\n",
       "                        <th id=\"T_30585_level0_row14\" class=\"row_heading level0 row14\" >1994</th>\n",
       "                        <td id=\"T_30585_row14_col0\" class=\"data row14 col0\" >121</td>\n",
       "            </tr>\n",
       "            <tr>\n",
       "                        <th id=\"T_30585_level0_row15\" class=\"row_heading level0 row15\" >1995</th>\n",
       "                        <td id=\"T_30585_row15_col0\" class=\"data row15 col0\" >219</td>\n",
       "            </tr>\n",
       "            <tr>\n",
       "                        <th id=\"T_30585_level0_row16\" class=\"row_heading level0 row16\" >1996</th>\n",
       "                        <td id=\"T_30585_row16_col0\" class=\"data row16 col0\" >263</td>\n",
       "            </tr>\n",
       "            <tr>\n",
       "                        <th id=\"T_30585_level0_row17\" class=\"row_heading level0 row17\" >1997</th>\n",
       "                        <td id=\"T_30585_row17_col0\" class=\"data row17 col0\" >289</td>\n",
       "            </tr>\n",
       "            <tr>\n",
       "                        <th id=\"T_30585_level0_row18\" class=\"row_heading level0 row18\" >1998</th>\n",
       "                        <td id=\"T_30585_row18_col0\" class=\"data row18 col0\" >379</td>\n",
       "            </tr>\n",
       "            <tr>\n",
       "                        <th id=\"T_30585_level0_row19\" class=\"row_heading level0 row19\" >1999</th>\n",
       "                        <td id=\"T_30585_row19_col0\" class=\"data row19 col0\" >338</td>\n",
       "            </tr>\n",
       "            <tr>\n",
       "                        <th id=\"T_30585_level0_row20\" class=\"row_heading level0 row20\" >2000</th>\n",
       "                        <td id=\"T_30585_row20_col0\" class=\"data row20 col0\" >350</td>\n",
       "            </tr>\n",
       "            <tr>\n",
       "                        <th id=\"T_30585_level0_row21\" class=\"row_heading level0 row21\" >2001</th>\n",
       "                        <td id=\"T_30585_row21_col0\" class=\"data row21 col0\" >482</td>\n",
       "            </tr>\n",
       "            <tr>\n",
       "                        <th id=\"T_30585_level0_row22\" class=\"row_heading level0 row22\" >2002</th>\n",
       "                        <td id=\"T_30585_row22_col0\" class=\"data row22 col0\" >829</td>\n",
       "            </tr>\n",
       "            <tr>\n",
       "                        <th id=\"T_30585_level0_row23\" class=\"row_heading level0 row23\" >2003</th>\n",
       "                        <td id=\"T_30585_row23_col0\" class=\"data row23 col0\" >775</td>\n",
       "            </tr>\n",
       "            <tr>\n",
       "                        <th id=\"T_30585_level0_row24\" class=\"row_heading level0 row24\" >2004</th>\n",
       "                        <td id=\"T_30585_row24_col0\" class=\"data row24 col0\" >762</td>\n",
       "            </tr>\n",
       "            <tr>\n",
       "                        <th id=\"T_30585_level0_row25\" class=\"row_heading level0 row25\" >2005</th>\n",
       "                        <td id=\"T_30585_row25_col0\" class=\"data row25 col0\" >939</td>\n",
       "            </tr>\n",
       "            <tr>\n",
       "                        <th id=\"T_30585_level0_row26\" class=\"row_heading level0 row26\" >2006</th>\n",
       "                        <td id=\"T_30585_row26_col0\" class=\"data row26 col0\" >1006</td>\n",
       "            </tr>\n",
       "            <tr>\n",
       "                        <th id=\"T_30585_level0_row27\" class=\"row_heading level0 row27\" >2007</th>\n",
       "                        <td id=\"T_30585_row27_col0\" class=\"data row27 col0\" >1197</td>\n",
       "            </tr>\n",
       "            <tr>\n",
       "                        <th id=\"T_30585_level0_row28\" class=\"row_heading level0 row28\" >2008</th>\n",
       "                        <td id=\"T_30585_row28_col0\" class=\"data row28 col0\" >1427</td>\n",
       "            </tr>\n",
       "            <tr>\n",
       "                        <th id=\"T_30585_level0_row29\" class=\"row_heading level0 row29\" >2009</th>\n",
       "                        <td id=\"T_30585_row29_col0\" class=\"data row29 col0\" >1426</td>\n",
       "            </tr>\n",
       "            <tr>\n",
       "                        <th id=\"T_30585_level0_row30\" class=\"row_heading level0 row30\" >2010</th>\n",
       "                        <td id=\"T_30585_row30_col0\" class=\"data row30 col0\" >1255</td>\n",
       "            </tr>\n",
       "            <tr>\n",
       "                        <th id=\"T_30585_level0_row31\" class=\"row_heading level0 row31\" >2011</th>\n",
       "                        <td id=\"T_30585_row31_col0\" class=\"data row31 col0\" >1136</td>\n",
       "            </tr>\n",
       "            <tr>\n",
       "                        <th id=\"T_30585_level0_row32\" class=\"row_heading level0 row32\" >2012</th>\n",
       "                        <td id=\"T_30585_row32_col0\" class=\"data row32 col0\" >653</td>\n",
       "            </tr>\n",
       "            <tr>\n",
       "                        <th id=\"T_30585_level0_row33\" class=\"row_heading level0 row33\" >2013</th>\n",
       "                        <td id=\"T_30585_row33_col0\" class=\"data row33 col0\" >544</td>\n",
       "            </tr>\n",
       "            <tr>\n",
       "                        <th id=\"T_30585_level0_row34\" class=\"row_heading level0 row34\" >2014</th>\n",
       "                        <td id=\"T_30585_row34_col0\" class=\"data row34 col0\" >581</td>\n",
       "            </tr>\n",
       "            <tr>\n",
       "                        <th id=\"T_30585_level0_row35\" class=\"row_heading level0 row35\" >2015</th>\n",
       "                        <td id=\"T_30585_row35_col0\" class=\"data row35 col0\" >606</td>\n",
       "            </tr>\n",
       "            <tr>\n",
       "                        <th id=\"T_30585_level0_row36\" class=\"row_heading level0 row36\" >2016</th>\n",
       "                        <td id=\"T_30585_row36_col0\" class=\"data row36 col0\" >502</td>\n",
       "            </tr>\n",
       "    </tbody></table>"
      ],
      "text/plain": [
       "<pandas.io.formats.style.Styler at 0x7f3299d4af10>"
      ]
     },
     "execution_count": 29,
     "metadata": {},
     "output_type": "execute_result"
    }
   ],
   "source": [
    "# Посмотрим сколько игр выпускалось в разные годы\n",
    "df.groupby('year_of_release').agg({'name':'count'}).style.bar()"
   ]
  },
  {
   "cell_type": "markdown",
   "metadata": {},
   "source": [
    "*Скорее всего данные до 1995 года нас интересовать не будут*"
   ]
  },
  {
   "cell_type": "code",
   "execution_count": 30,
   "metadata": {},
   "outputs": [
    {
     "data": {
      "text/plain": [
       "<AxesSubplot:xlabel='platform'>"
      ]
     },
     "execution_count": 30,
     "metadata": {},
     "output_type": "execute_result"
    },
    {
     "data": {
      "image/png": "[encoded data removed]",
      "text/plain": [
       "<Figure size 720x720 with 1 Axes>"
      ]
     },
     "metadata": {
      "needs_background": "light"
     },
     "output_type": "display_data"
    }
   ],
   "source": [
    "df.groupby('platform').agg({'total_sales':'sum'})\\\n",
    "    .sort_values(by='total_sales', ascending=False)\\\n",
    "    .plot(kind='bar', figsize=(10,10), color='r')#по гистрограмме определим самые прибыльные платформы"
   ]
  },
  {
   "cell_type": "markdown",
   "metadata": {},
   "source": [
    "Семейство PS в лидерах, потом идут Xbox, посмотрим на лидеров внимательней"
   ]
  },
  {
   "cell_type": "code",
   "execution_count": 31,
   "metadata": {},
   "outputs": [],
   "source": [
    "def hist_of_platform(Model, title):\n",
    "    df[df['platform'] == Model]\\\n",
    "        .groupby('year_of_release')\\\n",
    "        .agg({'total_sales':'sum'})\\\n",
    "        .plot(kind='bar', figsize=(6,8), color='g')\n",
    "    plt.xlabel('Год')\n",
    "    plt.ylabel('Суммарные продажи (млн.)')\n",
    "    plt.title(title)\n",
    "    plt.legend(['Общие продажи'])"
   ]
  },
  {
   "cell_type": "code",
   "execution_count": 32,
   "metadata": {},
   "outputs": [
    {
     "data": {
      "image/png": "[encoded data removed]",
      "text/plain": [
       "<Figure size 432x576 with 1 Axes>"
      ]
     },
     "metadata": {
      "needs_background": "light"
     },
     "output_type": "display_data"
    },
    {
     "data": {
      "image/png": "[encoded data removed]",
      "text/plain": [
       "<Figure size 432x576 with 1 Axes>"
      ]
     },
     "metadata": {
      "needs_background": "light"
     },
     "output_type": "display_data"
    },
    {
     "data": {
      "image/png": "[encoded data removed]",
      "text/plain": [
       "<Figure size 432x576 with 1 Axes>"
      ]
     },
     "metadata": {
      "needs_background": "light"
     },
     "output_type": "display_data"
    },
    {
     "data": {
      "image/png": "[encoded data removed]",
      "text/plain": [
       "<Figure size 432x576 with 1 Axes>"
      ]
     },
     "metadata": {
      "needs_background": "light"
     },
     "output_type": "display_data"
    },
    {
     "data": {
      "image/png": "[encoded data removed]",
      "text/plain": [
       "<Figure size 432x576 with 1 Axes>"
      ]
     },
     "metadata": {
      "needs_background": "light"
     },
     "output_type": "display_data"
    },
    {
     "data": {
      "image/png": "[encoded data removed]",
      "text/plain": [
       "<Figure size 432x576 with 1 Axes>"
      ]
     },
     "metadata": {
      "needs_background": "light"
     },
     "output_type": "display_data"
    }
   ],
   "source": [
    "hist_of_platform('PS', 'PS')\n",
    "hist_of_platform('PS2', 'PS2')\n",
    "hist_of_platform('PS3', 'PS3')\n",
    "hist_of_platform('X360', 'X360')\n",
    "hist_of_platform('Wii', 'Wii')\n",
    "hist_of_platform('DS', 'DS')"
   ]
  },
  {
   "cell_type": "markdown",
   "metadata": {},
   "source": [
    "***Пик продаж на платформе приходится в среднем на 4-й - 5-й год выпуска, каждая платформа в среднем существует 10 лет(кроме PC и DS, они живут вечно), у семейства PS как только после пика продаж происходит спад продаж они выпускают новую консоль***"
   ]
  },
  {
   "cell_type": "markdown",
   "metadata": {},
   "source": [
    "Возьмем два семейства (PS,Xbox) для определения актуального периода"
   ]
  },
  {
   "cell_type": "code",
   "execution_count": 33,
   "metadata": {},
   "outputs": [],
   "source": [
    "PS = df[df['platform']== 'PS']\\\n",
    "    .groupby('year_of_release')\\\n",
    "    .agg({'total_sales':'sum'})\n",
    "PS2 = df[df['platform']== 'PS2']\\\n",
    "    .groupby('year_of_release')\\\n",
    "    .agg({'total_sales':'sum'})\n",
    "PS3 = df[df['platform']== 'PS3']\\\n",
    "    .groupby('year_of_release')\\\n",
    "    .agg({'total_sales':'sum'})\n",
    "PS4 = df[df['platform']== 'PS4']\\\n",
    "    .groupby('year_of_release')\\\n",
    "    .agg({'total_sales':'sum'})"
   ]
  },
  {
   "cell_type": "code",
   "execution_count": 34,
   "metadata": {},
   "outputs": [
    {
     "data": {
      "text/html": [
       "<div>\n",
       "<style scoped>\n",
       "    .dataframe tbody tr th:only-of-type {\n",
       "        vertical-align: middle;\n",
       "    }\n",
       "\n",
       "    .dataframe tbody tr th {\n",
       "        vertical-align: top;\n",
       "    }\n",
       "\n",
       "    .dataframe thead th {\n",
       "        text-align: right;\n",
       "    }\n",
       "</style>\n",
       "<table border=\"1\" class=\"dataframe\">\n",
       "  <thead>\n",
       "    <tr style=\"text-align: right;\">\n",
       "      <th></th>\n",
       "      <th>total_sales</th>\n",
       "    </tr>\n",
       "    <tr>\n",
       "      <th>year_of_release</th>\n",
       "      <th></th>\n",
       "    </tr>\n",
       "  </thead>\n",
       "  <tbody>\n",
       "    <tr>\n",
       "      <th>1994</th>\n",
       "      <td>6.03</td>\n",
       "    </tr>\n",
       "    <tr>\n",
       "      <th>1995</th>\n",
       "      <td>35.96</td>\n",
       "    </tr>\n",
       "    <tr>\n",
       "      <th>1996</th>\n",
       "      <td>94.70</td>\n",
       "    </tr>\n",
       "    <tr>\n",
       "      <th>1997</th>\n",
       "      <td>136.17</td>\n",
       "    </tr>\n",
       "    <tr>\n",
       "      <th>1998</th>\n",
       "      <td>169.49</td>\n",
       "    </tr>\n",
       "    <tr>\n",
       "      <th>1999</th>\n",
       "      <td>144.53</td>\n",
       "    </tr>\n",
       "    <tr>\n",
       "      <th>2000</th>\n",
       "      <td>96.37</td>\n",
       "    </tr>\n",
       "    <tr>\n",
       "      <th>2001</th>\n",
       "      <td>35.59</td>\n",
       "    </tr>\n",
       "    <tr>\n",
       "      <th>2002</th>\n",
       "      <td>6.67</td>\n",
       "    </tr>\n",
       "    <tr>\n",
       "      <th>2003</th>\n",
       "      <td>2.07</td>\n",
       "    </tr>\n",
       "  </tbody>\n",
       "</table>\n",
       "</div>"
      ],
      "text/plain": [
       "                 total_sales\n",
       "year_of_release             \n",
       "1994                    6.03\n",
       "1995                   35.96\n",
       "1996                   94.70\n",
       "1997                  136.17\n",
       "1998                  169.49\n",
       "1999                  144.53\n",
       "2000                   96.37\n",
       "2001                   35.59\n",
       "2002                    6.67\n",
       "2003                    2.07"
      ]
     },
     "execution_count": 34,
     "metadata": {},
     "output_type": "execute_result"
    }
   ],
   "source": [
    "PS"
   ]
  },
  {
   "cell_type": "code",
   "execution_count": 35,
   "metadata": {},
   "outputs": [
    {
     "data": {
      "text/plain": [
       "<matplotlib.legend.Legend at 0x7f3291380940>"
      ]
     },
     "execution_count": 35,
     "metadata": {},
     "output_type": "execute_result"
    },
    {
     "data": {
      "image/png": "[encoded data removed]",
      "text/plain": [
       "<Figure size 720x720 with 1 Axes>"
      ]
     },
     "metadata": {
      "needs_background": "light"
     },
     "output_type": "display_data"
    }
   ],
   "source": [
    "ax = plt.figure( figsize=(10, 10))\n",
    "plt.plot(PS, 'r',\n",
    "        PS2, 'g',\n",
    "        PS3, 'b',\n",
    "        PS4)\n",
    "plt.xlabel('Год релиза')\n",
    "plt.ylabel('Суммарная выручка (млн.)')\n",
    "plt.title('Таблица семейства Play Station')\n",
    "plt.legend(['PS','PS2', 'PS3', 'PS4'], fontsize=14, shadow=True, facecolor='w', edgecolor='b', title='Платформа')"
   ]
  },
  {
   "cell_type": "code",
   "execution_count": 36,
   "metadata": {},
   "outputs": [],
   "source": [
    "XB = df[df['platform']== 'XB']\\\n",
    "    .groupby('year_of_release')\\\n",
    "    .agg({'total_sales':'sum'})\n",
    "X360 = df[df['platform']== 'X360']\\\n",
    "    .groupby('year_of_release')\\\n",
    "    .agg({'total_sales':'sum'})\n",
    "XOne = df[df['platform']== 'XOne']\\\n",
    "    .groupby('year_of_release')\\\n",
    "    .agg({'total_sales':'sum'})"
   ]
  },
  {
   "cell_type": "code",
   "execution_count": 37,
   "metadata": {},
   "outputs": [
    {
     "data": {
      "text/plain": [
       "<matplotlib.legend.Legend at 0x7f32914f5a60>"
      ]
     },
     "execution_count": 37,
     "metadata": {},
     "output_type": "execute_result"
    },
    {
     "data": {
      "image/png": "[encoded data removed]",
      "text/plain": [
       "<Figure size 720x720 with 1 Axes>"
      ]
     },
     "metadata": {
      "needs_background": "light"
     },
     "output_type": "display_data"
    }
   ],
   "source": [
    "ax = plt.figure( figsize=(10, 10))\n",
    "plt.plot(XB, 'r',\n",
    "        X360, 'g',\n",
    "       XOne, 'b',)\n",
    "plt.xlabel('Год релиза')\n",
    "plt.ylabel('Суммарная выручка (млн.)')\n",
    "plt.title('Таблица семейства XBOX')\n",
    "plt.legend(['XB','X360', 'XOne', ], fontsize=14, shadow=True, facecolor='w', edgecolor='b', title='Платформа')"
   ]
  },
  {
   "cell_type": "markdown",
   "metadata": {},
   "source": [
    "***Видно что на PS и XBOX идет последний подъем с 2014 года, актуально взять данные именно от туда***    "
   ]
  },
  {
   "cell_type": "markdown",
   "metadata": {},
   "source": [
    "<div class=\"alert alert-success\">\n",
    "<b>Комментарий ревьюера (ОК)</b>\n",
    "\n",
    "Мне нравится, что ты решил посмотреть динамику цен по каждой из платформ — это дает более полную информацию для анализа и определения периода для прогноза. Корректно было выбрано начла актуального периода с 2014 года - для построения прогноза продаж на следующий год даже в традиционных бизнесах редко берут данные более чем за 3-5 лет, а в такой динамично меняющейся индустрии, как компьютерные игры, и вовсе не стоит брать слишком большой временной интервал, можно случайно захватить уже неактуальные тренды.\n",
    "</div>"
   ]
  },
  {
   "cell_type": "code",
   "execution_count": 38,
   "metadata": {},
   "outputs": [],
   "source": [
    "new_df = df[df['year_of_release'] >= 2014]#построим новый датафрейм с актуальными данными"
   ]
  },
  {
   "cell_type": "markdown",
   "metadata": {},
   "source": [
    "Посмотрим лидеров на этом периоде"
   ]
  },
  {
   "cell_type": "code",
   "execution_count": 39,
   "metadata": {},
   "outputs": [],
   "source": [
    "df_new=new_df.groupby(['year_of_release', 'platform'], as_index=False)\\\n",
    "    .agg({'total_sales':'sum'})\\\n",
    "    .sort_values(by='year_of_release')"
   ]
  },
  {
   "cell_type": "code",
   "execution_count": 40,
   "metadata": {},
   "outputs": [
    {
     "data": {
      "text/plain": [
       "<matplotlib.legend.Legend at 0x7f32918c0670>"
      ]
     },
     "execution_count": 40,
     "metadata": {},
     "output_type": "execute_result"
    },
    {
     "data": {
      "image/png": "[encoded data removed]",
      "text/plain": [
       "<Figure size 864x576 with 1 Axes>"
      ]
     },
     "metadata": {
      "needs_background": "light"
     },
     "output_type": "display_data"
    }
   ],
   "source": [
    "fig, ax = plt.subplots(figsize=(12,8))\n",
    "sns.barplot(ax=ax, x = \"year_of_release\", y = \"total_sales\", hue = \"platform\", data = df_new)\n",
    "plt.xlabel('Год релиза')\n",
    "plt.ylabel('Суммарная выручка (млн.)')\n",
    "plt.title('Актуальный период')\n",
    "plt.legend(fontsize=10, shadow=True, facecolor='w', edgecolor='b', title='Платформа')"
   ]
  },
  {
   "cell_type": "markdown",
   "metadata": {},
   "source": [
    "**По графикам видно что все платформы в наш период идут на спад, кроме PS4, XOne(они тоже иду на спад но уже в 2016 году), так же можно уже определить потенциально прибыльные платформы**"
   ]
  },
  {
   "cell_type": "code",
   "execution_count": 41,
   "metadata": {},
   "outputs": [
    {
     "data": {
      "text/plain": [
       "(0.0, 4.0)"
      ]
     },
     "execution_count": 41,
     "metadata": {},
     "output_type": "execute_result"
    },
    {
     "data": {
      "image/png": "[encoded data removed]",
      "text/plain": [
       "<Figure size 1200x800 with 1 Axes>"
      ]
     },
     "metadata": {
      "needs_background": "light"
     },
     "output_type": "display_data"
    }
   ],
   "source": [
    "plt.figure(figsize=(15,10), dpi=80)#Рассмотрим ящик с усами для точного определения потенциально прибыльных платформ\n",
    "sns.boxplot(x='platform', y='total_sales', data=new_df)\n",
    "plt.xlabel('платформа')\n",
    "plt.ylabel('Суммарные продажи (млн.)')\n",
    "plt.title('Актуальный период')\n",
    "plt.ylim([0, 4])"
   ]
  },
  {
   "cell_type": "markdown",
   "metadata": {},
   "source": [
    "**Выбросы это скорее всего популярные игры на платформе которые принесли большие продажи!**"
   ]
  },
  {
   "cell_type": "markdown",
   "metadata": {},
   "source": [
    "**При глобальном графике видно что самые прибыльные являются PS4, XOne, X360, WiiU, Wii. Худшие результаты показали старые приставки, что не странно.**\n",
    "\n",
    "Теперь посмотрим если связь между количеством продаж с оценками пользователей и критиков."
   ]
  },
  {
   "cell_type": "code",
   "execution_count": 42,
   "metadata": {},
   "outputs": [
    {
     "data": {
      "text/plain": [
       "Text(0, 0.5, 'Сумма продаж')"
      ]
     },
     "execution_count": 42,
     "metadata": {},
     "output_type": "execute_result"
    },
    {
     "data": {
      "image/png": "[encoded data removed]",
      "text/plain": [
       "<Figure size 1152x576 with 2 Axes>"
      ]
     },
     "metadata": {
      "needs_background": "light"
     },
     "output_type": "display_data"
    }
   ],
   "source": [
    "# Возьмем за основу данные по PS4, как популярной платформы \n",
    "df_ps4 = new_df.query('platform == \"PS4\"')\n",
    "\n",
    "# Построим диаграмму рассеяния\n",
    "\n",
    "fig, ax = plt.subplots(1, 2)\n",
    "df_ps4.plot(x='user_score', y='total_sales', kind='scatter', ax=ax[0], figsize=(16,8))\n",
    "df_ps4.plot(x='critic_score', y='total_sales', kind='scatter', ax=ax[1], figsize=(16,8))\n",
    "\n",
    "ax[0].set_title('Влияние оценок пользователей на продажи')\n",
    "ax[0].set_xlabel('Оценка пользователей')\n",
    "ax[0].set_ylabel('Сумма продаж')\n",
    "ax[1].set_title('Влияние оценок критиков на продажи')\n",
    "ax[1].set_xlabel('Оценка критиков')\n",
    "ax[1].set_ylabel('Сумма продаж')"
   ]
  },
  {
   "cell_type": "code",
   "execution_count": 43,
   "metadata": {},
   "outputs": [
    {
     "data": {
      "text/html": [
       "<div>\n",
       "<style scoped>\n",
       "    .dataframe tbody tr th:only-of-type {\n",
       "        vertical-align: middle;\n",
       "    }\n",
       "\n",
       "    .dataframe tbody tr th {\n",
       "        vertical-align: top;\n",
       "    }\n",
       "\n",
       "    .dataframe thead th {\n",
       "        text-align: right;\n",
       "    }\n",
       "</style>\n",
       "<table border=\"1\" class=\"dataframe\">\n",
       "  <thead>\n",
       "    <tr style=\"text-align: right;\">\n",
       "      <th></th>\n",
       "      <th>user_score</th>\n",
       "      <th>critic_score</th>\n",
       "      <th>total_sales</th>\n",
       "    </tr>\n",
       "  </thead>\n",
       "  <tbody>\n",
       "    <tr>\n",
       "      <th>user_score</th>\n",
       "      <td>1.000000</td>\n",
       "      <td>0.377326</td>\n",
       "      <td>-0.040132</td>\n",
       "    </tr>\n",
       "    <tr>\n",
       "      <th>critic_score</th>\n",
       "      <td>0.377326</td>\n",
       "      <td>1.000000</td>\n",
       "      <td>0.211837</td>\n",
       "    </tr>\n",
       "    <tr>\n",
       "      <th>total_sales</th>\n",
       "      <td>-0.040132</td>\n",
       "      <td>0.211837</td>\n",
       "      <td>1.000000</td>\n",
       "    </tr>\n",
       "  </tbody>\n",
       "</table>\n",
       "</div>"
      ],
      "text/plain": [
       "              user_score  critic_score  total_sales\n",
       "user_score      1.000000      0.377326    -0.040132\n",
       "critic_score    0.377326      1.000000     0.211837\n",
       "total_sales    -0.040132      0.211837     1.000000"
      ]
     },
     "execution_count": 43,
     "metadata": {},
     "output_type": "execute_result"
    }
   ],
   "source": [
    "# Посчитаем корреляцию между отзывами и продажами\n",
    "df_ps4[['user_score', 'critic_score', 'total_sales']].corr()"
   ]
  },
  {
   "cell_type": "code",
   "execution_count": 44,
   "metadata": {},
   "outputs": [
    {
     "name": "stdout",
     "output_type": "stream",
     "text": [
      "<class 'pandas.core.frame.DataFrame'>\n",
      "Int64Index: 376 entries, 31 to 16585\n",
      "Data columns (total 12 columns):\n",
      " #   Column           Non-Null Count  Dtype  \n",
      "---  ------           --------------  -----  \n",
      " 0   name             376 non-null    object \n",
      " 1   platform         376 non-null    object \n",
      " 2   year_of_release  376 non-null    int64  \n",
      " 3   genre            376 non-null    object \n",
      " 4   na_sales         376 non-null    float64\n",
      " 5   eu_sales         376 non-null    float64\n",
      " 6   jp_sales         376 non-null    float64\n",
      " 7   other_sales      376 non-null    float64\n",
      " 8   critic_score     376 non-null    int64  \n",
      " 9   user_score       242 non-null    float64\n",
      " 10  rating           376 non-null    object \n",
      " 11  total_sales      376 non-null    float64\n",
      "dtypes: float64(6), int64(2), object(4)\n",
      "memory usage: 38.2+ KB\n"
     ]
    }
   ],
   "source": [
    "df_ps4.info()"
   ]
  },
  {
   "cell_type": "markdown",
   "metadata": {},
   "source": [
    "Видно что оценка критиков имеет небольшую роль, а оценка зрителей не важна"
   ]
  },
  {
   "cell_type": "code",
   "execution_count": 45,
   "metadata": {},
   "outputs": [
    {
     "data": {
      "text/plain": [
       "Text(0, 0.5, 'Сумма продаж')"
      ]
     },
     "execution_count": 45,
     "metadata": {},
     "output_type": "execute_result"
    },
    {
     "data": {
      "image/png": "[encoded data removed]",
      "text/plain": [
       "<Figure size 1152x576 with 2 Axes>"
      ]
     },
     "metadata": {
      "needs_background": "light"
     },
     "output_type": "display_data"
    }
   ],
   "source": [
    "# Возьмем за основу данные по XOne консоли, как другой платформы \n",
    "df_xone = new_df.query('platform == \"XOne\"')\n",
    "\n",
    "# Построим диаграмму рассеяния\n",
    "\n",
    "fig, ax = plt.subplots(1, 2)\n",
    "df_xone.plot(x='user_score', y='total_sales', kind='scatter', ax=ax[0], figsize=(16,8))\n",
    "df_xone.plot(x='critic_score', y='total_sales', kind='scatter', ax=ax[1], figsize=(16,8))\n",
    "\n",
    "ax[0].set_title('Влияние оценок пользователей на продажи')\n",
    "ax[0].set_xlabel('Оценка пользователей')\n",
    "ax[0].set_ylabel('Сумма продаж')\n",
    "ax[1].set_title('Влияние оценок критиков на продажи')\n",
    "ax[1].set_xlabel('Оценка критиков')\n",
    "ax[1].set_ylabel('Сумма продаж')"
   ]
  },
  {
   "cell_type": "code",
   "execution_count": 46,
   "metadata": {},
   "outputs": [
    {
     "data": {
      "text/html": [
       "<div>\n",
       "<style scoped>\n",
       "    .dataframe tbody tr th:only-of-type {\n",
       "        vertical-align: middle;\n",
       "    }\n",
       "\n",
       "    .dataframe tbody tr th {\n",
       "        vertical-align: top;\n",
       "    }\n",
       "\n",
       "    .dataframe thead th {\n",
       "        text-align: right;\n",
       "    }\n",
       "</style>\n",
       "<table border=\"1\" class=\"dataframe\">\n",
       "  <thead>\n",
       "    <tr style=\"text-align: right;\">\n",
       "      <th></th>\n",
       "      <th>user_score</th>\n",
       "      <th>critic_score</th>\n",
       "      <th>total_sales</th>\n",
       "    </tr>\n",
       "  </thead>\n",
       "  <tbody>\n",
       "    <tr>\n",
       "      <th>user_score</th>\n",
       "      <td>1.000000</td>\n",
       "      <td>0.252023</td>\n",
       "      <td>-0.070384</td>\n",
       "    </tr>\n",
       "    <tr>\n",
       "      <th>critic_score</th>\n",
       "      <td>0.252023</td>\n",
       "      <td>1.000000</td>\n",
       "      <td>0.272518</td>\n",
       "    </tr>\n",
       "    <tr>\n",
       "      <th>total_sales</th>\n",
       "      <td>-0.070384</td>\n",
       "      <td>0.272518</td>\n",
       "      <td>1.000000</td>\n",
       "    </tr>\n",
       "  </tbody>\n",
       "</table>\n",
       "</div>"
      ],
      "text/plain": [
       "              user_score  critic_score  total_sales\n",
       "user_score      1.000000      0.252023    -0.070384\n",
       "critic_score    0.252023      1.000000     0.272518\n",
       "total_sales    -0.070384      0.272518     1.000000"
      ]
     },
     "execution_count": 46,
     "metadata": {},
     "output_type": "execute_result"
    }
   ],
   "source": [
    "# посмотрим для остальных платформ\n",
    "df_xone[['user_score', 'critic_score', 'total_sales']].corr()"
   ]
  },
  {
   "cell_type": "code",
   "execution_count": 47,
   "metadata": {},
   "outputs": [
    {
     "data": {
      "text/plain": [
       "Text(0, 0.5, 'Сумма продаж')"
      ]
     },
     "execution_count": 47,
     "metadata": {},
     "output_type": "execute_result"
    },
    {
     "data": {
      "image/png": "[encoded data removed]",
      "text/plain": [
       "<Figure size 1152x576 with 2 Axes>"
      ]
     },
     "metadata": {
      "needs_background": "light"
     },
     "output_type": "display_data"
    }
   ],
   "source": [
    "# Возьмем за основу данные по X360 консоли, как другой платформы \n",
    "df_pc = new_df.query('platform == \"PC\"')\n",
    "\n",
    "# Построим диаграмму рассеяния\n",
    "\n",
    "fig, ax = plt.subplots(1, 2)\n",
    "df_pc.plot(x='user_score', y='total_sales', kind='scatter', ax=ax[0], figsize=(16,8))\n",
    "df_pc.plot(x='critic_score', y='total_sales', kind='scatter', ax=ax[1], figsize=(16,8))\n",
    "\n",
    "ax[0].set_title('Влияние оценок пользователей на продажи')\n",
    "ax[0].set_xlabel('Оценка пользователей')\n",
    "ax[0].set_ylabel('Сумма продаж')\n",
    "ax[1].set_title('Влияние оценок критиков на продажи')\n",
    "ax[1].set_xlabel('Оценка критиков')\n",
    "ax[1].set_ylabel('Сумма продаж')"
   ]
  },
  {
   "cell_type": "code",
   "execution_count": 48,
   "metadata": {},
   "outputs": [
    {
     "data": {
      "text/html": [
       "<div>\n",
       "<style scoped>\n",
       "    .dataframe tbody tr th:only-of-type {\n",
       "        vertical-align: middle;\n",
       "    }\n",
       "\n",
       "    .dataframe tbody tr th {\n",
       "        vertical-align: top;\n",
       "    }\n",
       "\n",
       "    .dataframe thead th {\n",
       "        text-align: right;\n",
       "    }\n",
       "</style>\n",
       "<table border=\"1\" class=\"dataframe\">\n",
       "  <thead>\n",
       "    <tr style=\"text-align: right;\">\n",
       "      <th></th>\n",
       "      <th>user_score</th>\n",
       "      <th>critic_score</th>\n",
       "      <th>total_sales</th>\n",
       "    </tr>\n",
       "  </thead>\n",
       "  <tbody>\n",
       "    <tr>\n",
       "      <th>user_score</th>\n",
       "      <td>1.000000</td>\n",
       "      <td>0.298884</td>\n",
       "      <td>-0.071597</td>\n",
       "    </tr>\n",
       "    <tr>\n",
       "      <th>critic_score</th>\n",
       "      <td>0.298884</td>\n",
       "      <td>1.000000</td>\n",
       "      <td>0.184312</td>\n",
       "    </tr>\n",
       "    <tr>\n",
       "      <th>total_sales</th>\n",
       "      <td>-0.071597</td>\n",
       "      <td>0.184312</td>\n",
       "      <td>1.000000</td>\n",
       "    </tr>\n",
       "  </tbody>\n",
       "</table>\n",
       "</div>"
      ],
      "text/plain": [
       "              user_score  critic_score  total_sales\n",
       "user_score      1.000000      0.298884    -0.071597\n",
       "critic_score    0.298884      1.000000     0.184312\n",
       "total_sales    -0.071597      0.184312     1.000000"
      ]
     },
     "execution_count": 48,
     "metadata": {},
     "output_type": "execute_result"
    }
   ],
   "source": [
    "df_pc[['user_score', 'critic_score', 'total_sales']].corr()"
   ]
  },
  {
   "cell_type": "markdown",
   "metadata": {},
   "source": [
    "**Вывод остаётся таким же оценка критиков немного влияет на продажи, а оценка пользователей нет** "
   ]
  },
  {
   "cell_type": "markdown",
   "metadata": {},
   "source": [
    "***Результаты вывода не изменились***"
   ]
  },
  {
   "cell_type": "markdown",
   "metadata": {},
   "source": [
    "***Сравнивая самую популярную платформу PS4 с XOne и PC можно сказать что большой разницы нет, что у самой популярной консоли что у остальных есть слабо средняя зависимость от оценки критиков, а вот от оценки пользователей зависимости нет!***  "
   ]
  },
  {
   "cell_type": "markdown",
   "metadata": {},
   "source": [
    "*Теперь посмотрим на жанры игр*"
   ]
  },
  {
   "cell_type": "code",
   "execution_count": 49,
   "metadata": {},
   "outputs": [],
   "source": [
    "popular_genre = new_df.groupby('genre', as_index=False)\\\n",
    "    .agg({'total_sales':'sum'}).sort_values('total_sales', ascending=False)"
   ]
  },
  {
   "cell_type": "code",
   "execution_count": 50,
   "metadata": {},
   "outputs": [
    {
     "data": {
      "image/png": "[encoded data removed]",
      "text/plain": [
       "<Figure size 864x576 with 1 Axes>"
      ]
     },
     "metadata": {
      "needs_background": "light"
     },
     "output_type": "display_data"
    }
   ],
   "source": [
    "fig, ax = plt.subplots(figsize=(12,8))\n",
    "sns.barplot(ax=ax, x = 'genre', y = \"total_sales\", data = popular_genre)\n",
    "plt.xlabel('Год релиза')\n",
    "plt.ylabel('Средние продажи')\n",
    "plt.title('Актуальный период')\n",
    "plt.xticks(rotation=45)\n",
    "plt.show()"
   ]
  },
  {
   "cell_type": "code",
   "execution_count": 51,
   "metadata": {},
   "outputs": [
    {
     "data": {
      "image/png": "[encoded data removed]",
      "text/plain": [
       "<Figure size 864x576 with 1 Axes>"
      ]
     },
     "metadata": {
      "needs_background": "light"
     },
     "output_type": "display_data"
    }
   ],
   "source": [
    "plt.figure(figsize=(12,8))\n",
    "sns.boxplot(x='genre', y='total_sales', data=new_df)\n",
    "plt.xlabel('Жанры')\n",
    "plt.ylabel('Суммарная выручка (млн.)')\n",
    "plt.title('Актуальный период')\n",
    "plt.ylim([0, 4])\n",
    "plt.xticks(rotation=45)\n",
    "plt.show()"
   ]
  },
  {
   "cell_type": "markdown",
   "metadata": {},
   "source": [
    "**Среди высоких продаж по графикам выделяются Shooter, Action, Sports, среди низких продаж идут интеллектуальные игры такие как стратегии и пазлы**  "
   ]
  },
  {
   "cell_type": "markdown",
   "metadata": {},
   "source": [
    "### Обший вывод по шагу 3\n",
    "**На пике популярности консоли PS4 и XOne**\n",
    "\n",
    "**Люди играют в легкие развлекательные игры такие как шуторы и экшн**\n",
    "\n",
    "**Обычно период консолей длится 10 лет**\n",
    "\n",
    "**Пик продаж идет на 4-й и 5-й год от выпуска консоли**\n",
    "\n",
    "**Игры на ПК все так же выпускаются но их мало кто берет**"
   ]
  },
  {
   "cell_type": "markdown",
   "metadata": {},
   "source": [
    "### ШАГ 4 ***Составим портрет пользователя каждого региона***"
   ]
  },
  {
   "cell_type": "code",
   "execution_count": 52,
   "metadata": {},
   "outputs": [],
   "source": [
    "#Начнем с подбора популярных платформ для региона\n",
    "def top_region(how_group, region, xlabel, title):\n",
    "    data = new_df.groupby(how_group, as_index=False).agg({region:'sum'}).sort_values(by=region, ascending=False)\n",
    "    data['ratio'] = data[region] / data[region].sum()\n",
    "    print(data.head())\n",
    "    fig, ax = plt.subplots(figsize=(12,8))\n",
    "    sns.barplot(ax=ax, x = how_group, y = data['ratio'], data = data.head())\n",
    "    plt.xlabel(xlabel)\n",
    "    plt.ylabel('Доля рынка')\n",
    "    plt.title(title)"
   ]
  },
  {
   "cell_type": "code",
   "execution_count": 53,
   "metadata": {},
   "outputs": [
    {
     "name": "stdout",
     "output_type": "stream",
     "text": [
      "  platform  na_sales     ratio\n",
      "3      PS4     98.61  0.347145\n",
      "9     XOne     81.27  0.286102\n",
      "8     X360     28.30  0.099627\n",
      "0      3DS     22.64  0.079701\n",
      "2      PS3     22.05  0.077624\n"
     ]
    },
    {
     "data": {
      "image/png": "[encoded data removed]",
      "text/plain": [
       "<Figure size 864x576 with 1 Axes>"
      ]
     },
     "metadata": {
      "needs_background": "light"
     },
     "output_type": "display_data"
    }
   ],
   "source": [
    "top_region('platform', 'na_sales', 'Платформа', 'Северная Америка')"
   ]
  },
  {
   "cell_type": "markdown",
   "metadata": {},
   "source": [
    "**В Северной Америке лидирует PS4 и XOne**"
   ]
  },
  {
   "cell_type": "code",
   "execution_count": 54,
   "metadata": {},
   "outputs": [
    {
     "name": "stdout",
     "output_type": "stream",
     "text": [
      "  platform  eu_sales     ratio\n",
      "3      PS4    130.04  0.480420\n",
      "9     XOne     46.25  0.170866\n",
      "2      PS3     25.54  0.094355\n",
      "1       PC     17.97  0.066388\n",
      "0      3DS     16.12  0.059554\n"
     ]
    },
    {
     "data": {
      "image/png": "[encoded data removed]",
      "text/plain": [
       "<Figure size 864x576 with 1 Axes>"
      ]
     },
     "metadata": {
      "needs_background": "light"
     },
     "output_type": "display_data"
    }
   ],
   "source": [
    "top_region('platform', 'eu_sales', 'Платформа', 'Европа')"
   ]
  },
  {
   "cell_type": "markdown",
   "metadata": {},
   "source": [
    "**В лидерах все так же, а вот 3-5 место консоли поменялись** "
   ]
  },
  {
   "cell_type": "code",
   "execution_count": 55,
   "metadata": {},
   "outputs": [
    {
     "name": "stdout",
     "output_type": "stream",
     "text": [
      "  platform  jp_sales     ratio\n",
      "0      3DS     44.24  0.475239\n",
      "3      PS4     15.02  0.161349\n",
      "5      PSV     14.54  0.156193\n",
      "2      PS3     11.22  0.120529\n",
      "7     WiiU      7.31  0.078526\n"
     ]
    },
    {
     "data": {
      "image/png": "[encoded data removed]",
      "text/plain": [
       "<Figure size 864x576 with 1 Axes>"
      ]
     },
     "metadata": {
      "needs_background": "light"
     },
     "output_type": "display_data"
    }
   ],
   "source": [
    "top_region('platform', 'jp_sales', 'Платформа', 'Япония')"
   ]
  },
  {
   "cell_type": "markdown",
   "metadata": {},
   "source": [
    "**В Японии в лидерах 3DS от Нитендо, а второе место уже PS4**"
   ]
  },
  {
   "cell_type": "markdown",
   "metadata": {},
   "source": [
    "#### **Выясним популярные жанры**"
   ]
  },
  {
   "cell_type": "code",
   "execution_count": 56,
   "metadata": {},
   "outputs": [
    {
     "name": "stdout",
     "output_type": "stream",
     "text": [
      "           genre  na_sales     ratio\n",
      "8        Shooter     79.02  0.278181\n",
      "0         Action     72.53  0.255333\n",
      "10        Sports     46.13  0.162395\n",
      "7   Role-Playing     33.47  0.117827\n",
      "3           Misc     15.05  0.052982\n"
     ]
    },
    {
     "data": {
      "image/png": "[encoded data removed]",
      "text/plain": [
       "<Figure size 864x576 with 1 Axes>"
      ]
     },
     "metadata": {
      "needs_background": "light"
     },
     "output_type": "display_data"
    }
   ],
   "source": [
    "top_region('genre', 'na_sales', 'Жанр', 'Северная Америка')"
   ]
  },
  {
   "cell_type": "code",
   "execution_count": 57,
   "metadata": {},
   "outputs": [
    {
     "name": "stdout",
     "output_type": "stream",
     "text": [
      "           genre  eu_sales     ratio\n",
      "0         Action     74.68  0.275898\n",
      "8        Shooter     65.52  0.242057\n",
      "10        Sports     45.73  0.168945\n",
      "7   Role-Playing     28.17  0.104071\n",
      "6         Racing     14.13  0.052202\n"
     ]
    },
    {
     "data": {
      "image/png": "[encoded data removed]",
      "text/plain": [
       "<Figure size 864x576 with 1 Axes>"
      ]
     },
     "metadata": {
      "needs_background": "light"
     },
     "output_type": "display_data"
    }
   ],
   "source": [
    "top_region('genre', 'eu_sales', 'Жанр', 'Европа')"
   ]
  },
  {
   "cell_type": "code",
   "execution_count": 58,
   "metadata": {},
   "outputs": [
    {
     "name": "stdout",
     "output_type": "stream",
     "text": [
      "          genre  jp_sales     ratio\n",
      "7  Role-Playing     31.16  0.334730\n",
      "0        Action     29.58  0.317757\n",
      "2      Fighting      6.37  0.068428\n",
      "3          Misc      5.61  0.060264\n",
      "8       Shooter      4.87  0.052315\n"
     ]
    },
    {
     "data": {
      "image/png": "[encoded data removed]",
      "text/plain": [
       "<Figure size 864x576 with 1 Axes>"
      ]
     },
     "metadata": {
      "needs_background": "light"
     },
     "output_type": "display_data"
    }
   ],
   "source": [
    "top_region('genre', 'jp_sales', 'Жанр', 'Япония')"
   ]
  },
  {
   "cell_type": "markdown",
   "metadata": {},
   "source": [
    "**В Северной Америке и Европе лидеруют шутр и экшн, а вот в Японии ролевые игры лидируют**"
   ]
  },
  {
   "cell_type": "markdown",
   "metadata": {},
   "source": [
    "#### Выясним влияют ли категории ESRB на продажи в отдельном регионе? "
   ]
  },
  {
   "cell_type": "markdown",
   "metadata": {},
   "source": [
    "***Итак, как мы помним, что в столбце rating лежат оценки согласно организации ESRB:***\n",
    "\n",
    "- E - для всех возрастов (все)\n",
    "- T - для лиц от 13 лет и старше (младший подросток)\n",
    "- M - от 17 лет и старше (старший подросток)\n",
    "- E10+ - от 10 лет и старше (ребёнок)\n",
    "- EC - для всех возрастов (все), тоже самое, что и Е\n",
    "- RP - оценка ещё не присвоена\n",
    "- K-A - для всех возрастов (все), тоже самое, что и Е\n",
    "- AO - для лиц старше 18 лет (взрослый)\n",
    "\n",
    "Преобразуем их(уберем повторяющие значения категории).\n",
    "\n",
    "Тогда останется:\n",
    "\n",
    "- E - для всех возрастов (все)\n",
    "- T - для лиц от 13 лет и старше (младший подросток)\n",
    "- M - от 17 лет и старше (старший подросток)\n",
    "- E10+ - от 10 лет и старше (ребёнок)\n",
    "- RP - оценка ещё не присвоена\n",
    "- AO - для лиц старше 18 лет (взрослый)\n",
    "- O - игры без рейтинга"
   ]
  },
  {
   "cell_type": "code",
   "execution_count": 59,
   "metadata": {},
   "outputs": [],
   "source": [
    "def top_rating(df, how_group, region, title):\n",
    "    data = df.groupby(how_group, as_index=False).agg({region:'sum'}).sort_values(by=region, ascending=False)\n",
    "    fig, ax = plt.subplots(figsize=(12,8))\n",
    "    sns.barplot(ax=ax, x = how_group, y = region, data = data)\n",
    "    plt.xlabel('Рейтинг')\n",
    "    plt.ylabel('Суммарные продажи (млн)')\n",
    "    plt.title(title)"
   ]
  },
  {
   "cell_type": "code",
   "execution_count": 60,
   "metadata": {},
   "outputs": [
    {
     "data": {
      "image/png": "[encoded data removed]",
      "text/plain": [
       "<Figure size 864x576 with 1 Axes>"
      ]
     },
     "metadata": {
      "needs_background": "light"
     },
     "output_type": "display_data"
    }
   ],
   "source": [
    "top_rating(new_df, 'rating', 'na_sales', 'Северная Америка')"
   ]
  },
  {
   "cell_type": "code",
   "execution_count": 61,
   "metadata": {},
   "outputs": [
    {
     "data": {
      "image/png": "[encoded data removed]",
      "text/plain": [
       "<Figure size 864x576 with 1 Axes>"
      ]
     },
     "metadata": {
      "needs_background": "light"
     },
     "output_type": "display_data"
    }
   ],
   "source": [
    "top_rating(new_df, 'rating', 'eu_sales', 'Европа')"
   ]
  },
  {
   "cell_type": "code",
   "execution_count": 62,
   "metadata": {},
   "outputs": [
    {
     "data": {
      "image/png": "[encoded data removed]",
      "text/plain": [
       "<Figure size 864x576 with 1 Axes>"
      ]
     },
     "metadata": {
      "needs_background": "light"
     },
     "output_type": "display_data"
    }
   ],
   "source": [
    "top_rating(new_df, 'rating', 'jp_sales', 'Япония')"
   ]
  },
  {
   "cell_type": "markdown",
   "metadata": {},
   "source": [
    "**Япония выделилась среди всех и у нее в лидерах игры категори 13 лет и старше, а на втором месте игры для всех, а у Северной Америки и Европы в лидерах игры зи категории 17 лет и старше** "
   ]
  },
  {
   "cell_type": "markdown",
   "metadata": {},
   "source": [
    "***При добавление заглушки особого смешения у лидеров не случилось кроме Японии (я думаю что пропуски в Японии могли возникнуть из за нестандартной градации по возрасту или может быть написаны иероглифами) в общем пропусков везде много***"
   ]
  },
  {
   "cell_type": "markdown",
   "metadata": {},
   "source": [
    "#### Вывод по 4 шагу\n",
    "\n",
    "**Япония:**\n",
    "\n",
    "- В лидерах игровые платформы в Японии - японские платформы (топ-5): 3DS, PS4, PSV, PS3, WiiU\n",
    "- В лидерах жанры в Японии (топ - 5 по убыванию): Role-Playing, Action, Fighting, Misc, Shooter\n",
    "- Самый предпочитаемый рейтинг в Японии по убыванию: игры от 13 лет, игры для всех, игры от 17 лет, игры от 10 лет.\n",
    "\n",
    "**Северная Америка:**\n",
    "\n",
    "- В лидерах игровые платформы в Северной Америке (топ-5): PS4, XOne, X360, 3DS, PS3\n",
    "- В лидерах жанры в Северной Америке (топ - 5 по убыванию): Shooter, Action, Sports, Role-Playing, Misc\n",
    "- Самый предпочитаемый рейтинг в Северной Америке по убыванию: игры от 17 лет, игры для всех, игры от 13 лет, от 10 лет.\n",
    "\n",
    "**Европа:**\n",
    "\n",
    "- В лидерах игровые платформы Европе (топ-5): PS4, XOne, PS3, PC, 3DS\n",
    "- В лидерах жанры в Европе (топ - 5 по убыванию): Action, Shooter, Sports, Role-Playing, Racing\n",
    "- Самый предпочитаемый рейтинг в Европе по убыванию: игры от 17 лет, игры для всех, игры от 13 лет, от 10 лет."
   ]
  },
  {
   "cell_type": "markdown",
   "metadata": {},
   "source": [
    "### Шаг 5. Проверьте гипотезы"
   ]
  },
  {
   "cell_type": "markdown",
   "metadata": {},
   "source": [
    "#### Гипотезы \n",
    "**- Средние пользовательские рейтинги платформ Xbox One и PC одинаковые**\n",
    "\n",
    "**- Средние пользовательские рейтинги жанров Action (англ. «действие», экшен-игры) и Sports (англ. «спортивные соревнования») разные**"
   ]
  },
  {
   "cell_type": "markdown",
   "metadata": {},
   "source": [
    "*Сформулируем первую гипотезу.*\n",
    "\n",
    "(H0) - Нулевая гипотеза говорит нам о том, что средние пользовательские рейтинги платформ Xbox One и PC одинаковые.\n",
    "\n",
    "(H1) - Альтернативная гипотеза говорит нам о том, что средние пользовательские рейтинги платформ Xbox One и PC различаются."
   ]
  },
  {
   "cell_type": "code",
   "execution_count": 63,
   "metadata": {},
   "outputs": [],
   "source": [
    "# Перенесем гипотезы в код\n",
    "H0 = 'Не можем отвергнуть гипотизу - средние пользовательские рейтинги платформ Xbox One и PC одинаковы'\n",
    "H1 = 'Отвергаем нулевую гипотезу, средние пользовательские рейтинги платформ Xbox One и PC различаются'\n",
    "\n",
    "# Зададим критический уровень статистической значимости в 5%\n",
    "# Почему именно в 5 - как одно из широко применяемых значений, точность в 1% в наших вопросах нам не нужна\n",
    "alpha = 0.05 \n",
    "\n",
    "# Подготовим выборки\n",
    "df_xbox_one = new_df.query('platform == \"XOne\"')\n",
    "df_pc = new_df.query('platform == \"PC\"')"
   ]
  },
  {
   "cell_type": "markdown",
   "metadata": {},
   "source": [
    "Проверим Т-криттерий стьюдента"
   ]
  },
  {
   "cell_type": "code",
   "execution_count": 64,
   "metadata": {},
   "outputs": [
    {
     "data": {
      "text/plain": [
       "<AxesSubplot:>"
      ]
     },
     "execution_count": 64,
     "metadata": {},
     "output_type": "execute_result"
    },
    {
     "data": {
      "image/png": "[encoded data removed]",
      "text/plain": [
       "<Figure size 1152x576 with 1 Axes>"
      ]
     },
     "metadata": {
      "needs_background": "light"
     },
     "output_type": "display_data"
    }
   ],
   "source": [
    "# Посмотрим на распределение оценок\n",
    "df_xbox_one['user_score'].hist(bins=17, alpha=0.9, figsize=(16,8))\n",
    "df_pc['user_score'].hist(bins=20, alpha=0.4, figsize=(16,8))"
   ]
  },
  {
   "cell_type": "code",
   "execution_count": 65,
   "metadata": {},
   "outputs": [
    {
     "name": "stdout",
     "output_type": "stream",
     "text": [
      "PC count = 122\n",
      "Xbox count = 165\n"
     ]
    }
   ],
   "source": [
    "# Посмотрим на общее количество данных\n",
    "print('PC count =', df_pc['user_score'].count())\n",
    "print('Xbox count =', df_xbox_one['user_score'].count())"
   ]
  },
  {
   "cell_type": "markdown",
   "metadata": {},
   "source": [
    "В нашем случае мы имеем количественные данные в двух независимых группах, которые распределены нормально. При этом наши выборки не сверхмалы и не содержат явных выбросов. Поэтому Т-криттерий Стьюдента нам подходит для использования."
   ]
  },
  {
   "cell_type": "code",
   "execution_count": 66,
   "metadata": {},
   "outputs": [
    {
     "name": "stdout",
     "output_type": "stream",
     "text": [
      "Не можем отвергнуть гипотизу - средние пользовательские рейтинги платформ Xbox One и PC одинаковы\n"
     ]
    }
   ],
   "source": [
    "# equal_var = False, т.к. различаются дисперсии выборок\n",
    "results = st.ttest_ind(df_xbox_one['user_score'], df_pc['user_score'], equal_var = False)\n",
    "\n",
    "if results.pvalue < alpha:\n",
    "    print(H1)\n",
    "else:\n",
    "    print(H0)"
   ]
  },
  {
   "cell_type": "code",
   "execution_count": 67,
   "metadata": {},
   "outputs": [
    {
     "name": "stdout",
     "output_type": "stream",
     "text": [
      "XBOX user score mean =  6.594545454545454\n",
      "PC user score mean =  6.298360655737704\n"
     ]
    }
   ],
   "source": [
    "#Посмотрим какие вообще средние оценки\n",
    "print('XBOX user score mean = ', df_xbox_one['user_score'].mean())\n",
    "print('PC user score mean = ', df_pc['user_score'].mean())"
   ]
  },
  {
   "cell_type": "markdown",
   "metadata": {},
   "source": [
    "#### Проверим другую гипотезу\n",
    "**Для начала сформулируем гипотезы H0 и H1.**\n",
    "\n",
    "*Гипотеза H0: Средние пользовательские рейтинги жанров Action и Sports одинаковы (т.е. жанры получают примерно равные оценки)*\n",
    "\n",
    "*Гипотеза H1: Средние пользовательские рейтинги жанров Action и Sports различаются (т.е. данные жанры в среднем получают разные оценки)*"
   ]
  },
  {
   "cell_type": "code",
   "execution_count": 68,
   "metadata": {},
   "outputs": [],
   "source": [
    "# Перенесем гипотезы в код\n",
    "H0 = 'Не можем отвергнуть гипотизу - cредние пользовательские рейтинги жанров Action и Sports одинаковы'\n",
    "H1 = 'Отвергаем нулевую гипотезу, cредние пользовательские рейтинги жанров Action и Sports различаются'\n",
    "\n",
    "# Подготовим выборки\n",
    "df_action = new_df.query('genre == \"Action\" and user_score > 0')\n",
    "df_sports = new_df.query('genre == \"Sports\" and user_score > 0')\n"
   ]
  },
  {
   "cell_type": "markdown",
   "metadata": {},
   "source": [
    "Также проверим распределение величин"
   ]
  },
  {
   "cell_type": "code",
   "execution_count": 69,
   "metadata": {},
   "outputs": [
    {
     "data": {
      "text/plain": [
       "<AxesSubplot:>"
      ]
     },
     "execution_count": 69,
     "metadata": {},
     "output_type": "execute_result"
    },
    {
     "data": {
      "image/png": "[encoded data removed]",
      "text/plain": [
       "<Figure size 1152x576 with 1 Axes>"
      ]
     },
     "metadata": {
      "needs_background": "light"
     },
     "output_type": "display_data"
    }
   ],
   "source": [
    "# Посмотрим на распределение оценок\n",
    "df_action['user_score'].hist(bins=30, alpha=0.9, figsize=(16,8))\n",
    "df_sports['user_score'].hist(bins=7, alpha=0.4, figsize=(16,8))"
   ]
  },
  {
   "cell_type": "code",
   "execution_count": 70,
   "metadata": {},
   "outputs": [
    {
     "name": "stdout",
     "output_type": "stream",
     "text": [
      "PC count = 297\n",
      "Xbox count = 127\n"
     ]
    }
   ],
   "source": [
    "# Посмотрим на общее количество данных\n",
    "print('PC count =', df_action['user_score'].count())\n",
    "print('Xbox count =', df_sports['user_score'].count())"
   ]
  },
  {
   "cell_type": "markdown",
   "metadata": {},
   "source": [
    "**используем Т-криттерий стьюдента**"
   ]
  },
  {
   "cell_type": "code",
   "execution_count": 71,
   "metadata": {},
   "outputs": [
    {
     "name": "stdout",
     "output_type": "stream",
     "text": [
      "Отвергаем нулевую гипотезу, cредние пользовательские рейтинги жанров Action и Sports различаются\n"
     ]
    }
   ],
   "source": [
    "# equal_var = true, т.к. совокупности по параметрам не различаются\n",
    "# критический уровень не переопределяем, оставим также 5 процентов\n",
    "results = st.ttest_ind(df_action['user_score'], df_sports['user_score'], equal_var = False)\n",
    "\n",
    "if results.pvalue < alpha:\n",
    "    print(H1)\n",
    "else:\n",
    "    print(H0)"
   ]
  },
  {
   "cell_type": "code",
   "execution_count": 72,
   "metadata": {},
   "outputs": [
    {
     "name": "stdout",
     "output_type": "stream",
     "text": [
      "Action user score mean =  6.760606060606061\n",
      "Sports user score mean =  5.2251968503937\n"
     ]
    }
   ],
   "source": [
    "# Ради интереса посмотрим какие вообще средние оценки\n",
    "print('Action user score mean = ', df_action['user_score'].mean())\n",
    "print('Sports user score mean = ', df_sports['user_score'].mean())"
   ]
  },
  {
   "cell_type": "markdown",
   "metadata": {},
   "source": [
    "### Шаг 6 Общий вывод "
   ]
  },
  {
   "cell_type": "markdown",
   "metadata": {},
   "source": [
    "**Общий вывод**\n",
    "***Мы провели качественную работу, чтобы выявить закономерности, определяющие успех наших игр.***\n",
    "\n",
    "Для этого мы:\n",
    "\n",
    "1. Изучили наши данные. \n",
    "2. Провели небольшую подготовку, заполнили недостающие значения, удалили дубликаты и избавились от ненужных значений (TBD)\n",
    "3. Провели небольшое исследование наших данных:\n",
    "- Выяснили, что средний срок жизни платформы 10 лет \n",
    "- Выделили три платформы, на которые стоит отдельно обратить внимание - PS4, Xbox One, PC\n",
    "- Обратили внимание, что в целом за весь период хорошо себя показывают консоли семейста PS (2, 3, 4)\n",
    "- Обнаружили, что оценки критиков оказывают более весомое влияние на продажи, чем оценки пользователей\n",
    "- Выяснили, что самыми прибыльными жанрами являются шутеры, платформеры, спортивные игры\n",
    "4. Отдельно исследовали предпочтения каждого из трех представленных регионов (Северной Америки, Европы и Японии)\n",
    "а) Обнаружили, что самым прибыльным регионом является Северная Америка, а Япония приносит меньше всего денег\n",
    "б) При этом в каждом регионе свои лидеры среди платформ по продажам\n",
    "- В Северной Америке это X360\n",
    "- В Японии - Nintendo DS\n",
    "- В Европе - PS4\n",
    "в) Самой прогрессивной по отношению к новым платформам можно считать Европу\n",
    "г) Наиболее универсальной платформой для всех является PS3\n",
    "д) Также, мы увидели, что предпочтения в самих играх у Европы и Америки, в целом, схожи, а вот в Японии явно выделяется любовь к ролевым и приключенческим играм.\n",
    "е) И шутеры в Японии ценятся не особо, хотя их очень любят в Европе и Америке\n",
    "ж) Общим по популярности жанром для каждого региона можно считать Action\n",
    "з) Также мы обнаружили, что в Японии пользователи более консервативны в выборе игр и предпочитают игры с менее взрослым рейтингом, в то время как в Европе и Америке, чуть больше предпочтения отдается играм со взрослым рейтингом.\n",
    "5. Кроме этого, мы проверили наши гипотезы и выяснили, что\n",
    "а) Средние пользовательские рейтинги платформ Xbox One и PC различаются\n",
    "б) Также как и cредние пользовательские рейтинги жанров Action и Sports различаются\n",
    "\n",
    "**Общий итог**\n",
    "\n",
    "Целью нашего исследования было выявление закономерностей, определяющих успех игр, что в дальнейшем будет использоваться при планировании рекламных кампаний.\n",
    "\n",
    "Исходя из нашего исследования, стоит сделать ставку на:\n",
    "\n",
    "1. Игры жанра шутеры, платформеры и спортивные игры. Также стоит обратить внимание на жанр Action как наиболее универсальный для всех регионов\n",
    "2. Больше всего денег тратят на игры жители Северной Америке - поэтому в целом, стоит ориентироваться на этот рынок, как наиболее прибыльный.\n",
    "- Однако стоит не забывать, что общие предпочтения схожи с Европой, поэтому рекламные кампании для этих двух регионов могут быть схожи. Т.е. можно попытаться сразу задействовать оба рынка.\n",
    "3. Япония слишком специфичный рынок, со своими предпочтениями, приносящий мало денег на общем фоне. Возможно, стоит исключить его из рекламных кампаний.\n",
    "4. Если говорить про платформу, на которую делать ставку в ближайшее время, то это явно PS4, т.к. она показывает хороший рост и вышла относительно недавно. К тому же, ее предшественники PS2 и PS3 продемонстрировали отличный финансовый результат и лидерство.\n",
    "- Кроме того, не следует забывать, что в Северной Америке предпочитают X360, а значит потенциально там может чуть лучше выстрелить XOne. Т.е. если ориентироваться именно на рынок Америки, стоит сделать акцент сразу на две платформы - XOne и PS4.\n",
    "- PC и Nintendo показывают хорошие сроки жизни, но низкую прибыль. Однако за их постоянство, стоит также выделить им определенный рекламный бюджет для страховки (чтобы не класть все яйца в одну корзину)\n",
    "- Оставшиеся платформы или не приносят столько денег, или уже отживают свой срок жизни"
   ]
  }
 ],
 "metadata": {
  "ExecuteTimeLog": [
   {
    "duration": 1385,
    "start_time": "2023-03-19T09:42:54.569Z"
   },
   {
    "duration": 193,
    "start_time": "2023-03-19T09:43:52.649Z"
   },
   {
    "duration": 17,
    "start_time": "2023-03-19T09:44:27.024Z"
   },
   {
    "duration": 37,
    "start_time": "2023-03-19T09:45:05.441Z"
   },
   {
    "duration": 5,
    "start_time": "2023-03-19T12:04:38.834Z"
   },
   {
    "duration": 7,
    "start_time": "2023-03-19T12:05:40.278Z"
   },
   {
    "duration": 6,
    "start_time": "2023-03-19T12:06:28.610Z"
   },
   {
    "duration": 5,
    "start_time": "2023-03-19T12:20:27.876Z"
   },
   {
    "duration": 115,
    "start_time": "2023-03-19T12:25:23.207Z"
   },
   {
    "duration": 13,
    "start_time": "2023-03-19T12:27:20.632Z"
   },
   {
    "duration": 3,
    "start_time": "2023-03-19T12:28:58.819Z"
   },
   {
    "duration": 51,
    "start_time": "2023-03-19T12:29:00.981Z"
   },
   {
    "duration": 16,
    "start_time": "2023-03-19T12:29:02.201Z"
   },
   {
    "duration": 22,
    "start_time": "2023-03-19T12:29:03.079Z"
   },
   {
    "duration": 5,
    "start_time": "2023-03-19T12:29:07.481Z"
   },
   {
    "duration": 6,
    "start_time": "2023-03-19T12:29:08.326Z"
   },
   {
    "duration": 6,
    "start_time": "2023-03-19T12:29:09.040Z"
   },
   {
    "duration": 5,
    "start_time": "2023-03-19T12:29:13.382Z"
   },
   {
    "duration": 13,
    "start_time": "2023-03-19T12:29:16.277Z"
   },
   {
    "duration": 18,
    "start_time": "2023-03-19T12:37:53.801Z"
   },
   {
    "duration": 13,
    "start_time": "2023-03-19T12:38:07.181Z"
   },
   {
    "duration": 20,
    "start_time": "2023-03-19T12:38:32.865Z"
   },
   {
    "duration": 15,
    "start_time": "2023-03-19T12:39:48.436Z"
   },
   {
    "duration": 14,
    "start_time": "2023-03-19T12:40:07.031Z"
   },
   {
    "duration": 15,
    "start_time": "2023-03-19T12:40:39.960Z"
   },
   {
    "duration": 13,
    "start_time": "2023-03-19T12:40:45.086Z"
   },
   {
    "duration": 12,
    "start_time": "2023-03-19T12:46:21.310Z"
   },
   {
    "duration": 7,
    "start_time": "2023-03-19T12:46:41.304Z"
   },
   {
    "duration": 5,
    "start_time": "2023-03-19T12:49:32.491Z"
   },
   {
    "duration": 5,
    "start_time": "2023-03-19T12:58:42.418Z"
   },
   {
    "duration": 6,
    "start_time": "2023-03-19T12:58:57.816Z"
   },
   {
    "duration": 6,
    "start_time": "2023-03-19T12:59:07.183Z"
   },
   {
    "duration": 13,
    "start_time": "2023-03-19T13:03:17.798Z"
   },
   {
    "duration": 11,
    "start_time": "2023-03-19T13:06:21.086Z"
   },
   {
    "duration": 9,
    "start_time": "2023-03-19T13:09:11.603Z"
   },
   {
    "duration": 6,
    "start_time": "2023-03-19T13:09:48.585Z"
   },
   {
    "duration": 5,
    "start_time": "2023-03-19T13:14:13.553Z"
   },
   {
    "duration": 6,
    "start_time": "2023-03-19T13:15:05.478Z"
   },
   {
    "duration": 7,
    "start_time": "2023-03-19T13:15:23.218Z"
   },
   {
    "duration": 22,
    "start_time": "2023-03-19T13:15:52.275Z"
   },
   {
    "duration": 12,
    "start_time": "2023-03-19T13:16:49.241Z"
   },
   {
    "duration": 25,
    "start_time": "2023-03-19T13:17:45.002Z"
   },
   {
    "duration": 23,
    "start_time": "2023-03-19T13:18:10.886Z"
   },
   {
    "duration": 551,
    "start_time": "2023-03-19T13:18:40.285Z"
   },
   {
    "duration": 20,
    "start_time": "2023-03-19T13:19:40.936Z"
   },
   {
    "duration": 16,
    "start_time": "2023-03-19T13:20:17.985Z"
   },
   {
    "duration": 23,
    "start_time": "2023-03-19T13:20:24.182Z"
   },
   {
    "duration": 33,
    "start_time": "2023-03-19T13:36:27.400Z"
   },
   {
    "duration": 1443,
    "start_time": "2023-03-20T02:30:40.716Z"
   },
   {
    "duration": 124,
    "start_time": "2023-03-20T02:30:43.265Z"
   },
   {
    "duration": 17,
    "start_time": "2023-03-20T02:30:44.792Z"
   },
   {
    "duration": 12,
    "start_time": "2023-03-20T02:30:48.016Z"
   },
   {
    "duration": 26,
    "start_time": "2023-03-20T02:30:51.392Z"
   },
   {
    "duration": 1442,
    "start_time": "2023-03-20T02:31:29.417Z"
   },
   {
    "duration": 1302,
    "start_time": "2023-03-20T02:32:05.504Z"
   },
   {
    "duration": 6,
    "start_time": "2023-03-20T02:33:09.402Z"
   },
   {
    "duration": 27,
    "start_time": "2023-03-20T02:33:11.382Z"
   },
   {
    "duration": 5,
    "start_time": "2023-03-20T02:33:18.538Z"
   },
   {
    "duration": 14,
    "start_time": "2023-03-20T02:33:22.591Z"
   },
   {
    "duration": 10,
    "start_time": "2023-03-20T02:34:02.409Z"
   },
   {
    "duration": 1466,
    "start_time": "2023-03-20T02:37:58.123Z"
   },
   {
    "duration": 6,
    "start_time": "2023-03-20T02:38:18.055Z"
   },
   {
    "duration": 10,
    "start_time": "2023-03-20T02:38:22.525Z"
   },
   {
    "duration": 27,
    "start_time": "2023-03-20T02:38:29.469Z"
   },
   {
    "duration": 61,
    "start_time": "2023-03-20T02:41:16.627Z"
   },
   {
    "duration": 5,
    "start_time": "2023-03-20T02:42:30.139Z"
   },
   {
    "duration": 4,
    "start_time": "2023-03-20T02:42:46.604Z"
   },
   {
    "duration": 257,
    "start_time": "2023-03-20T02:43:06.548Z"
   },
   {
    "duration": 6,
    "start_time": "2023-03-20T02:43:28.462Z"
   },
   {
    "duration": 242,
    "start_time": "2023-03-20T02:43:30.244Z"
   },
   {
    "duration": 1220,
    "start_time": "2023-03-20T02:46:49.257Z"
   },
   {
    "duration": 70,
    "start_time": "2023-03-20T02:46:50.494Z"
   },
   {
    "duration": 34,
    "start_time": "2023-03-20T02:46:50.566Z"
   },
   {
    "duration": 25,
    "start_time": "2023-03-20T02:46:50.602Z"
   },
   {
    "duration": 77,
    "start_time": "2023-03-20T02:46:50.631Z"
   },
   {
    "duration": 5,
    "start_time": "2023-03-20T02:46:50.709Z"
   },
   {
    "duration": 216,
    "start_time": "2023-03-20T02:46:50.716Z"
   },
   {
    "duration": 6,
    "start_time": "2023-03-20T02:46:50.934Z"
   },
   {
    "duration": 47,
    "start_time": "2023-03-20T02:46:50.942Z"
   },
   {
    "duration": 5,
    "start_time": "2023-03-20T02:46:50.992Z"
   },
   {
    "duration": 16,
    "start_time": "2023-03-20T02:46:50.999Z"
   },
   {
    "duration": 21,
    "start_time": "2023-03-20T02:46:51.017Z"
   },
   {
    "duration": 7,
    "start_time": "2023-03-20T02:46:51.040Z"
   },
   {
    "duration": 42,
    "start_time": "2023-03-20T02:46:51.050Z"
   },
   {
    "duration": 1264,
    "start_time": "2023-03-20T02:46:51.094Z"
   },
   {
    "duration": 0,
    "start_time": "2023-03-20T02:46:52.360Z"
   },
   {
    "duration": 0,
    "start_time": "2023-03-20T02:46:52.362Z"
   },
   {
    "duration": 0,
    "start_time": "2023-03-20T02:46:52.363Z"
   },
   {
    "duration": 0,
    "start_time": "2023-03-20T02:46:52.364Z"
   },
   {
    "duration": 0,
    "start_time": "2023-03-20T02:46:52.366Z"
   },
   {
    "duration": 0,
    "start_time": "2023-03-20T02:46:52.367Z"
   },
   {
    "duration": 0,
    "start_time": "2023-03-20T02:46:52.368Z"
   },
   {
    "duration": 0,
    "start_time": "2023-03-20T02:46:52.369Z"
   },
   {
    "duration": 1228,
    "start_time": "2023-03-20T02:48:18.102Z"
   },
   {
    "duration": 83,
    "start_time": "2023-03-20T02:48:20.157Z"
   },
   {
    "duration": 23,
    "start_time": "2023-03-20T02:48:22.111Z"
   },
   {
    "duration": 14,
    "start_time": "2023-03-20T02:48:24.493Z"
   },
   {
    "duration": 77,
    "start_time": "2023-03-20T02:48:28.967Z"
   },
   {
    "duration": 6,
    "start_time": "2023-03-20T02:49:00.870Z"
   },
   {
    "duration": 202,
    "start_time": "2023-03-20T02:49:02.743Z"
   },
   {
    "duration": 80,
    "start_time": "2023-03-20T02:50:54.451Z"
   },
   {
    "duration": 7,
    "start_time": "2023-03-20T02:52:15.991Z"
   },
   {
    "duration": 9,
    "start_time": "2023-03-20T02:52:40.987Z"
   },
   {
    "duration": 17,
    "start_time": "2023-03-20T02:52:42.343Z"
   },
   {
    "duration": 11,
    "start_time": "2023-03-20T02:53:04.506Z"
   },
   {
    "duration": 6,
    "start_time": "2023-03-20T02:53:12.793Z"
   },
   {
    "duration": 33,
    "start_time": "2023-03-20T02:53:15.233Z"
   },
   {
    "duration": 9,
    "start_time": "2023-03-20T02:57:06.988Z"
   },
   {
    "duration": 6,
    "start_time": "2023-03-20T02:57:33.644Z"
   },
   {
    "duration": 13,
    "start_time": "2023-03-20T02:57:42.179Z"
   },
   {
    "duration": 5,
    "start_time": "2023-03-20T03:12:12.260Z"
   },
   {
    "duration": 9,
    "start_time": "2023-03-20T03:13:18.828Z"
   },
   {
    "duration": 9,
    "start_time": "2023-03-20T03:13:25.860Z"
   },
   {
    "duration": 27,
    "start_time": "2023-03-20T03:13:49.879Z"
   },
   {
    "duration": 122,
    "start_time": "2023-03-20T03:14:34.631Z"
   },
   {
    "duration": 28,
    "start_time": "2023-03-20T03:15:19.707Z"
   },
   {
    "duration": 26,
    "start_time": "2023-03-20T03:16:59.186Z"
   },
   {
    "duration": 25,
    "start_time": "2023-03-20T03:17:45.688Z"
   },
   {
    "duration": 46,
    "start_time": "2023-03-20T03:18:38.469Z"
   },
   {
    "duration": 46,
    "start_time": "2023-03-20T03:19:44.947Z"
   },
   {
    "duration": 8,
    "start_time": "2023-03-20T03:26:16.100Z"
   },
   {
    "duration": 1215,
    "start_time": "2023-03-20T03:28:54.255Z"
   },
   {
    "duration": 63,
    "start_time": "2023-03-20T03:28:55.479Z"
   },
   {
    "duration": 18,
    "start_time": "2023-03-20T03:28:55.544Z"
   },
   {
    "duration": 28,
    "start_time": "2023-03-20T03:28:55.564Z"
   },
   {
    "duration": 66,
    "start_time": "2023-03-20T03:28:55.753Z"
   },
   {
    "duration": 4,
    "start_time": "2023-03-20T03:28:56.256Z"
   },
   {
    "duration": 219,
    "start_time": "2023-03-20T03:28:57.610Z"
   },
   {
    "duration": 7,
    "start_time": "2023-03-20T03:28:59.705Z"
   },
   {
    "duration": 8,
    "start_time": "2023-03-20T03:29:02.356Z"
   },
   {
    "duration": 21,
    "start_time": "2023-03-20T03:29:03.147Z"
   },
   {
    "duration": 8,
    "start_time": "2023-03-20T03:29:04.129Z"
   },
   {
    "duration": 6,
    "start_time": "2023-03-20T03:29:06.185Z"
   },
   {
    "duration": 28,
    "start_time": "2023-03-20T03:29:07.208Z"
   },
   {
    "duration": 7,
    "start_time": "2023-03-20T03:29:09.014Z"
   },
   {
    "duration": 6,
    "start_time": "2023-03-20T03:29:11.246Z"
   },
   {
    "duration": 6,
    "start_time": "2023-03-20T03:29:12.467Z"
   },
   {
    "duration": 5,
    "start_time": "2023-03-20T03:29:13.765Z"
   },
   {
    "duration": 9,
    "start_time": "2023-03-20T03:29:14.807Z"
   },
   {
    "duration": 6,
    "start_time": "2023-03-20T03:29:15.943Z"
   },
   {
    "duration": 26,
    "start_time": "2023-03-20T03:29:17.397Z"
   },
   {
    "duration": 5,
    "start_time": "2023-03-20T03:29:20.950Z"
   },
   {
    "duration": 126,
    "start_time": "2023-03-20T03:32:59.468Z"
   },
   {
    "duration": 640,
    "start_time": "2023-03-20T03:33:10.614Z"
   },
   {
    "duration": 16,
    "start_time": "2023-03-20T03:33:11.542Z"
   },
   {
    "duration": 16,
    "start_time": "2023-03-20T03:33:44.342Z"
   },
   {
    "duration": 17,
    "start_time": "2023-03-20T03:33:45.779Z"
   },
   {
    "duration": 5,
    "start_time": "2023-03-20T03:34:32.153Z"
   },
   {
    "duration": 5,
    "start_time": "2023-03-20T03:34:36.702Z"
   },
   {
    "duration": 23,
    "start_time": "2023-03-20T03:34:46.721Z"
   },
   {
    "duration": 5,
    "start_time": "2023-03-20T03:39:52.913Z"
   },
   {
    "duration": 6,
    "start_time": "2023-03-20T03:40:47.713Z"
   },
   {
    "duration": 162,
    "start_time": "2023-03-20T03:41:12.623Z"
   },
   {
    "duration": 7,
    "start_time": "2023-03-20T03:41:40.334Z"
   },
   {
    "duration": 6,
    "start_time": "2023-03-20T03:42:13.804Z"
   },
   {
    "duration": 33,
    "start_time": "2023-03-20T03:45:46.361Z"
   },
   {
    "duration": 36,
    "start_time": "2023-03-20T03:45:56.700Z"
   },
   {
    "duration": 7,
    "start_time": "2023-03-20T03:50:34.499Z"
   },
   {
    "duration": 10,
    "start_time": "2023-03-20T03:51:32.600Z"
   },
   {
    "duration": 11,
    "start_time": "2023-03-20T03:51:41.641Z"
   },
   {
    "duration": 11,
    "start_time": "2023-03-20T03:52:05.786Z"
   },
   {
    "duration": 7,
    "start_time": "2023-03-20T03:52:44.918Z"
   },
   {
    "duration": 343,
    "start_time": "2023-03-20T04:03:37.170Z"
   },
   {
    "duration": 4,
    "start_time": "2023-03-20T04:08:26.345Z"
   },
   {
    "duration": 1305,
    "start_time": "2023-03-20T04:08:27.523Z"
   },
   {
    "duration": 27,
    "start_time": "2023-03-20T04:30:30.541Z"
   },
   {
    "duration": 5,
    "start_time": "2023-03-20T04:33:22.326Z"
   },
   {
    "duration": 15,
    "start_time": "2023-03-20T04:34:43.803Z"
   },
   {
    "duration": 78,
    "start_time": "2023-03-20T04:35:25.317Z"
   },
   {
    "duration": 83,
    "start_time": "2023-03-20T04:35:49.893Z"
   },
   {
    "duration": 1139,
    "start_time": "2023-03-20T04:36:11.872Z"
   },
   {
    "duration": 1244,
    "start_time": "2023-03-20T04:37:03.856Z"
   },
   {
    "duration": 7,
    "start_time": "2023-03-20T04:37:37.878Z"
   },
   {
    "duration": 1602,
    "start_time": "2023-03-20T04:37:59.027Z"
   },
   {
    "duration": 1136,
    "start_time": "2023-03-20T04:38:18.794Z"
   },
   {
    "duration": 1158,
    "start_time": "2023-03-20T04:39:09.229Z"
   },
   {
    "duration": 1692,
    "start_time": "2023-03-20T04:41:29.430Z"
   },
   {
    "duration": 14,
    "start_time": "2023-03-20T04:42:00.174Z"
   },
   {
    "duration": 1191,
    "start_time": "2023-03-20T04:47:02.509Z"
   },
   {
    "duration": 159,
    "start_time": "2023-03-20T04:53:51.761Z"
   },
   {
    "duration": 158,
    "start_time": "2023-03-20T04:54:03.389Z"
   },
   {
    "duration": 168,
    "start_time": "2023-03-20T04:56:10.769Z"
   },
   {
    "duration": 1561,
    "start_time": "2023-03-20T04:57:20.510Z"
   },
   {
    "duration": 206,
    "start_time": "2023-03-20T04:59:19.239Z"
   },
   {
    "duration": 17,
    "start_time": "2023-03-20T05:01:54.541Z"
   },
   {
    "duration": 231,
    "start_time": "2023-03-20T05:03:23.076Z"
   },
   {
    "duration": 15,
    "start_time": "2023-03-20T05:04:17.616Z"
   },
   {
    "duration": 385,
    "start_time": "2023-03-20T05:04:20.277Z"
   },
   {
    "duration": 218,
    "start_time": "2023-03-20T05:05:17.037Z"
   },
   {
    "duration": 6,
    "start_time": "2023-03-20T05:16:06.318Z"
   },
   {
    "duration": 9,
    "start_time": "2023-03-20T05:17:19.685Z"
   },
   {
    "duration": 1517,
    "start_time": "2023-03-20T09:56:14.770Z"
   },
   {
    "duration": 114,
    "start_time": "2023-03-20T09:56:16.289Z"
   },
   {
    "duration": 19,
    "start_time": "2023-03-20T09:56:16.405Z"
   },
   {
    "duration": 13,
    "start_time": "2023-03-20T09:56:18.276Z"
   },
   {
    "duration": 62,
    "start_time": "2023-03-20T09:56:18.915Z"
   },
   {
    "duration": 5,
    "start_time": "2023-03-20T09:56:19.951Z"
   },
   {
    "duration": 194,
    "start_time": "2023-03-20T09:56:20.794Z"
   },
   {
    "duration": 6,
    "start_time": "2023-03-20T09:56:22.325Z"
   },
   {
    "duration": 6,
    "start_time": "2023-03-20T09:56:23.535Z"
   },
   {
    "duration": 18,
    "start_time": "2023-03-20T09:56:24.055Z"
   },
   {
    "duration": 10,
    "start_time": "2023-03-20T09:56:24.513Z"
   },
   {
    "duration": 6,
    "start_time": "2023-03-20T09:56:25.865Z"
   },
   {
    "duration": 25,
    "start_time": "2023-03-20T09:56:26.760Z"
   },
   {
    "duration": 7,
    "start_time": "2023-03-20T09:56:27.480Z"
   },
   {
    "duration": 8,
    "start_time": "2023-03-20T09:56:30.516Z"
   },
   {
    "duration": 6,
    "start_time": "2023-03-20T09:56:31.038Z"
   },
   {
    "duration": 6,
    "start_time": "2023-03-20T09:56:31.568Z"
   },
   {
    "duration": 7,
    "start_time": "2023-03-20T09:56:32.684Z"
   },
   {
    "duration": 6,
    "start_time": "2023-03-20T09:56:34.318Z"
   },
   {
    "duration": 23,
    "start_time": "2023-03-20T09:56:39.168Z"
   },
   {
    "duration": 9,
    "start_time": "2023-03-20T09:56:43.134Z"
   },
   {
    "duration": 5,
    "start_time": "2023-03-20T09:56:52.300Z"
   },
   {
    "duration": 5,
    "start_time": "2023-03-20T09:56:53.612Z"
   },
   {
    "duration": 14,
    "start_time": "2023-03-20T09:56:54.593Z"
   },
   {
    "duration": 5,
    "start_time": "2023-03-20T09:56:56.725Z"
   },
   {
    "duration": 27,
    "start_time": "2023-03-20T09:56:57.509Z"
   },
   {
    "duration": 6,
    "start_time": "2023-03-20T09:57:05.415Z"
   },
   {
    "duration": 344,
    "start_time": "2023-03-20T09:57:07.259Z"
   },
   {
    "duration": 5,
    "start_time": "2023-03-20T09:57:09.357Z"
   },
   {
    "duration": 1201,
    "start_time": "2023-03-20T09:57:10.872Z"
   },
   {
    "duration": 26,
    "start_time": "2023-03-20T09:57:14.425Z"
   },
   {
    "duration": 10,
    "start_time": "2023-03-20T09:57:15.406Z"
   },
   {
    "duration": 217,
    "start_time": "2023-03-20T09:57:16.296Z"
   },
   {
    "duration": 17,
    "start_time": "2023-03-20T09:57:17.240Z"
   },
   {
    "duration": 341,
    "start_time": "2023-03-20T09:57:17.860Z"
   },
   {
    "duration": 6,
    "start_time": "2023-03-20T09:57:19.658Z"
   },
   {
    "duration": 11,
    "start_time": "2023-03-20T09:57:21.921Z"
   },
   {
    "duration": 236,
    "start_time": "2023-03-20T09:58:53.656Z"
   },
   {
    "duration": 1506,
    "start_time": "2023-03-20T10:00:23.941Z"
   },
   {
    "duration": 65,
    "start_time": "2023-03-20T10:00:25.449Z"
   },
   {
    "duration": 19,
    "start_time": "2023-03-20T10:00:25.516Z"
   },
   {
    "duration": 50,
    "start_time": "2023-03-20T10:00:25.538Z"
   },
   {
    "duration": 71,
    "start_time": "2023-03-20T10:00:25.590Z"
   },
   {
    "duration": 4,
    "start_time": "2023-03-20T10:00:25.663Z"
   },
   {
    "duration": 260,
    "start_time": "2023-03-20T10:00:25.868Z"
   },
   {
    "duration": 6,
    "start_time": "2023-03-20T10:00:26.300Z"
   },
   {
    "duration": 6,
    "start_time": "2023-03-20T10:00:31.199Z"
   },
   {
    "duration": 20,
    "start_time": "2023-03-20T10:00:31.448Z"
   },
   {
    "duration": 10,
    "start_time": "2023-03-20T10:00:31.681Z"
   },
   {
    "duration": 6,
    "start_time": "2023-03-20T10:00:31.898Z"
   },
   {
    "duration": 26,
    "start_time": "2023-03-20T10:00:32.106Z"
   },
   {
    "duration": 8,
    "start_time": "2023-03-20T10:00:32.296Z"
   },
   {
    "duration": 7,
    "start_time": "2023-03-20T10:00:32.498Z"
   },
   {
    "duration": 7,
    "start_time": "2023-03-20T10:00:32.698Z"
   },
   {
    "duration": 7,
    "start_time": "2023-03-20T10:00:32.894Z"
   },
   {
    "duration": 6,
    "start_time": "2023-03-20T10:00:33.095Z"
   },
   {
    "duration": 6,
    "start_time": "2023-03-20T10:00:33.297Z"
   },
   {
    "duration": 30,
    "start_time": "2023-03-20T10:00:33.500Z"
   },
   {
    "duration": 6,
    "start_time": "2023-03-20T10:00:34.365Z"
   },
   {
    "duration": 5,
    "start_time": "2023-03-20T10:00:34.610Z"
   },
   {
    "duration": 6,
    "start_time": "2023-03-20T10:00:34.817Z"
   },
   {
    "duration": 15,
    "start_time": "2023-03-20T10:00:35.007Z"
   },
   {
    "duration": 6,
    "start_time": "2023-03-20T10:00:36.372Z"
   },
   {
    "duration": 26,
    "start_time": "2023-03-20T10:00:37.155Z"
   },
   {
    "duration": 8,
    "start_time": "2023-03-20T10:00:37.679Z"
   },
   {
    "duration": 335,
    "start_time": "2023-03-20T10:00:38.814Z"
   },
   {
    "duration": 5,
    "start_time": "2023-03-20T10:00:40.394Z"
   },
   {
    "duration": 1225,
    "start_time": "2023-03-20T10:00:41.125Z"
   },
   {
    "duration": 25,
    "start_time": "2023-03-20T10:00:43.210Z"
   },
   {
    "duration": 9,
    "start_time": "2023-03-20T10:00:43.611Z"
   },
   {
    "duration": 346,
    "start_time": "2023-03-20T10:00:44.300Z"
   },
   {
    "duration": 16,
    "start_time": "2023-03-20T10:00:44.705Z"
   },
   {
    "duration": 250,
    "start_time": "2023-03-20T10:00:45.604Z"
   },
   {
    "duration": 5,
    "start_time": "2023-03-20T10:00:47.512Z"
   },
   {
    "duration": 11,
    "start_time": "2023-03-20T10:00:49.143Z"
   },
   {
    "duration": 370,
    "start_time": "2023-03-20T10:00:50.478Z"
   },
   {
    "duration": 315,
    "start_time": "2023-03-20T10:02:47.537Z"
   },
   {
    "duration": 311,
    "start_time": "2023-03-20T10:03:07.586Z"
   },
   {
    "duration": 337,
    "start_time": "2023-03-20T10:03:16.307Z"
   },
   {
    "duration": 431,
    "start_time": "2023-03-20T10:15:14.913Z"
   },
   {
    "duration": 2136,
    "start_time": "2023-03-20T10:28:14.234Z"
   },
   {
    "duration": 13,
    "start_time": "2023-03-20T10:29:01.972Z"
   },
   {
    "duration": 314,
    "start_time": "2023-03-20T10:29:44.164Z"
   },
   {
    "duration": 12,
    "start_time": "2023-03-20T10:30:21.274Z"
   },
   {
    "duration": 47,
    "start_time": "2023-03-20T10:33:05.969Z"
   },
   {
    "duration": 87,
    "start_time": "2023-03-20T10:34:34.301Z"
   },
   {
    "duration": 87,
    "start_time": "2023-03-20T10:36:04.006Z"
   },
   {
    "duration": 83,
    "start_time": "2023-03-20T10:37:24.861Z"
   },
   {
    "duration": 88,
    "start_time": "2023-03-20T10:38:08.334Z"
   },
   {
    "duration": 318,
    "start_time": "2023-03-20T10:38:36.229Z"
   },
   {
    "duration": 79,
    "start_time": "2023-03-20T10:38:49.613Z"
   },
   {
    "duration": 73,
    "start_time": "2023-03-20T10:39:29.534Z"
   },
   {
    "duration": 75,
    "start_time": "2023-03-20T10:39:34.626Z"
   },
   {
    "duration": 25,
    "start_time": "2023-03-20T10:40:36.018Z"
   },
   {
    "duration": 20,
    "start_time": "2023-03-20T10:40:41.004Z"
   },
   {
    "duration": 72,
    "start_time": "2023-03-20T10:41:20.903Z"
   },
   {
    "duration": 13,
    "start_time": "2023-03-20T10:41:59.590Z"
   },
   {
    "duration": 14,
    "start_time": "2023-03-20T10:44:19.668Z"
   },
   {
    "duration": 1797,
    "start_time": "2023-03-20T11:16:08.109Z"
   },
   {
    "duration": 17,
    "start_time": "2023-03-20T11:16:50.554Z"
   },
   {
    "duration": 15,
    "start_time": "2023-03-20T11:17:18.129Z"
   },
   {
    "duration": 14,
    "start_time": "2023-03-20T13:34:40.754Z"
   },
   {
    "duration": 21,
    "start_time": "2023-03-20T13:35:20.056Z"
   },
   {
    "duration": 21,
    "start_time": "2023-03-20T13:35:42.667Z"
   },
   {
    "duration": 20,
    "start_time": "2023-03-20T13:35:45.598Z"
   },
   {
    "duration": 3969,
    "start_time": "2023-03-20T13:35:54.377Z"
   },
   {
    "duration": 21,
    "start_time": "2023-03-20T13:36:03.610Z"
   },
   {
    "duration": 18,
    "start_time": "2023-03-20T13:36:11.332Z"
   },
   {
    "duration": 13,
    "start_time": "2023-03-20T13:43:23.009Z"
   },
   {
    "duration": 11,
    "start_time": "2023-03-20T13:43:56.296Z"
   },
   {
    "duration": 7,
    "start_time": "2023-03-20T13:44:22.355Z"
   },
   {
    "duration": 40,
    "start_time": "2023-03-20T13:45:09.673Z"
   },
   {
    "duration": 26,
    "start_time": "2023-03-20T13:45:24.569Z"
   },
   {
    "duration": 22,
    "start_time": "2023-03-20T13:46:54.700Z"
   },
   {
    "duration": 28,
    "start_time": "2023-03-20T13:48:33.573Z"
   },
   {
    "duration": 36,
    "start_time": "2023-03-20T13:49:04.872Z"
   },
   {
    "duration": 20,
    "start_time": "2023-03-20T13:50:41.742Z"
   },
   {
    "duration": 22,
    "start_time": "2023-03-20T13:52:27.220Z"
   },
   {
    "duration": 136,
    "start_time": "2023-03-20T14:05:34.159Z"
   },
   {
    "duration": 115,
    "start_time": "2023-03-20T14:06:48.549Z"
   },
   {
    "duration": 7,
    "start_time": "2023-03-20T14:08:58.948Z"
   },
   {
    "duration": 8,
    "start_time": "2023-03-20T14:10:52.696Z"
   },
   {
    "duration": 19,
    "start_time": "2023-03-20T14:11:00.338Z"
   },
   {
    "duration": 42,
    "start_time": "2023-03-20T14:11:03.356Z"
   },
   {
    "duration": 88,
    "start_time": "2023-03-20T14:13:29.128Z"
   },
   {
    "duration": 42,
    "start_time": "2023-03-20T14:13:40.600Z"
   },
   {
    "duration": 14,
    "start_time": "2023-03-20T14:14:03.395Z"
   },
   {
    "duration": 4,
    "start_time": "2023-03-20T14:14:08.463Z"
   },
   {
    "duration": 3,
    "start_time": "2023-03-20T14:14:20.668Z"
   },
   {
    "duration": 12,
    "start_time": "2023-03-20T14:14:28.720Z"
   },
   {
    "duration": 26,
    "start_time": "2023-03-20T14:15:01.667Z"
   },
   {
    "duration": 16,
    "start_time": "2023-03-20T14:19:42.147Z"
   },
   {
    "duration": 13,
    "start_time": "2023-03-20T14:22:10.940Z"
   },
   {
    "duration": 20,
    "start_time": "2023-03-20T14:22:11.806Z"
   },
   {
    "duration": 43,
    "start_time": "2023-03-20T14:23:37.436Z"
   },
   {
    "duration": 24,
    "start_time": "2023-03-20T14:23:53.199Z"
   },
   {
    "duration": 25,
    "start_time": "2023-03-20T14:24:22.179Z"
   },
   {
    "duration": 15,
    "start_time": "2023-03-20T14:29:02.565Z"
   },
   {
    "duration": 9,
    "start_time": "2023-03-20T14:29:11.508Z"
   },
   {
    "duration": 21,
    "start_time": "2023-03-20T14:29:13.140Z"
   },
   {
    "duration": 4,
    "start_time": "2023-03-20T14:29:33.490Z"
   },
   {
    "duration": 5,
    "start_time": "2023-03-20T14:29:46.464Z"
   },
   {
    "duration": 5,
    "start_time": "2023-03-20T14:30:05.225Z"
   },
   {
    "duration": 12,
    "start_time": "2023-03-20T14:30:22.608Z"
   },
   {
    "duration": 9,
    "start_time": "2023-03-20T14:30:29.677Z"
   },
   {
    "duration": 16,
    "start_time": "2023-03-20T14:30:56.464Z"
   },
   {
    "duration": 13,
    "start_time": "2023-03-20T14:31:17.091Z"
   },
   {
    "duration": 104,
    "start_time": "2023-03-20T14:32:35.013Z"
   },
   {
    "duration": 133,
    "start_time": "2023-03-20T14:33:01.885Z"
   },
   {
    "duration": 108,
    "start_time": "2023-03-20T14:34:10.915Z"
   },
   {
    "duration": 37,
    "start_time": "2023-03-20T14:35:20.735Z"
   },
   {
    "duration": 14,
    "start_time": "2023-03-20T14:37:52.810Z"
   },
   {
    "duration": 1499,
    "start_time": "2023-03-20T14:39:28.360Z"
   },
   {
    "duration": 95,
    "start_time": "2023-03-20T14:39:29.870Z"
   },
   {
    "duration": 32,
    "start_time": "2023-03-20T14:39:29.976Z"
   },
   {
    "duration": 42,
    "start_time": "2023-03-20T14:39:30.016Z"
   },
   {
    "duration": 151,
    "start_time": "2023-03-20T14:39:30.061Z"
   },
   {
    "duration": 5,
    "start_time": "2023-03-20T14:39:30.214Z"
   },
   {
    "duration": 283,
    "start_time": "2023-03-20T14:39:30.221Z"
   },
   {
    "duration": 7,
    "start_time": "2023-03-20T14:39:33.585Z"
   },
   {
    "duration": 7,
    "start_time": "2023-03-20T14:39:34.230Z"
   },
   {
    "duration": 21,
    "start_time": "2023-03-20T14:39:34.490Z"
   },
   {
    "duration": 16,
    "start_time": "2023-03-20T14:39:34.770Z"
   },
   {
    "duration": 9,
    "start_time": "2023-03-20T14:39:34.999Z"
   },
   {
    "duration": 54,
    "start_time": "2023-03-20T14:39:35.253Z"
   },
   {
    "duration": 13,
    "start_time": "2023-03-20T14:39:35.479Z"
   },
   {
    "duration": 9,
    "start_time": "2023-03-20T14:39:35.712Z"
   },
   {
    "duration": 15,
    "start_time": "2023-03-20T14:39:35.932Z"
   },
   {
    "duration": 10,
    "start_time": "2023-03-20T14:39:36.167Z"
   },
   {
    "duration": 9,
    "start_time": "2023-03-20T14:39:36.390Z"
   },
   {
    "duration": 8,
    "start_time": "2023-03-20T14:39:36.597Z"
   },
   {
    "duration": 43,
    "start_time": "2023-03-20T14:39:36.813Z"
   },
   {
    "duration": 16,
    "start_time": "2023-03-20T14:39:37.273Z"
   },
   {
    "duration": 7,
    "start_time": "2023-03-20T14:39:37.488Z"
   },
   {
    "duration": 6,
    "start_time": "2023-03-20T14:39:37.728Z"
   },
   {
    "duration": 17,
    "start_time": "2023-03-20T14:39:37.984Z"
   },
   {
    "duration": 10,
    "start_time": "2023-03-20T14:39:38.639Z"
   },
   {
    "duration": 30,
    "start_time": "2023-03-20T14:39:38.870Z"
   },
   {
    "duration": 9,
    "start_time": "2023-03-20T14:39:39.306Z"
   },
   {
    "duration": 384,
    "start_time": "2023-03-20T14:39:39.779Z"
   },
   {
    "duration": 5,
    "start_time": "2023-03-20T14:39:40.218Z"
   },
   {
    "duration": 1773,
    "start_time": "2023-03-20T14:39:40.446Z"
   },
   {
    "duration": 49,
    "start_time": "2023-03-20T14:39:42.223Z"
   },
   {
    "duration": 34,
    "start_time": "2023-03-20T14:39:42.276Z"
   },
   {
    "duration": 411,
    "start_time": "2023-03-20T14:39:42.312Z"
   },
   {
    "duration": 44,
    "start_time": "2023-03-20T14:39:42.725Z"
   },
   {
    "duration": 367,
    "start_time": "2023-03-20T14:39:42.771Z"
   },
   {
    "duration": 20,
    "start_time": "2023-03-20T14:39:43.142Z"
   },
   {
    "duration": 14,
    "start_time": "2023-03-20T14:39:43.311Z"
   },
   {
    "duration": 479,
    "start_time": "2023-03-20T14:39:43.537Z"
   },
   {
    "duration": 536,
    "start_time": "2023-03-20T14:39:46.312Z"
   },
   {
    "duration": 484,
    "start_time": "2023-03-20T14:39:49.074Z"
   },
   {
    "duration": 16,
    "start_time": "2023-03-20T14:39:53.020Z"
   },
   {
    "duration": 26,
    "start_time": "2023-03-20T14:39:57.426Z"
   },
   {
    "duration": 9,
    "start_time": "2023-03-20T14:40:01.091Z"
   },
   {
    "duration": 490,
    "start_time": "2023-03-20T14:40:02.117Z"
   },
   {
    "duration": 15,
    "start_time": "2023-03-20T14:40:09.785Z"
   },
   {
    "duration": 163,
    "start_time": "2023-03-20T14:41:33.690Z"
   },
   {
    "duration": 2489,
    "start_time": "2023-03-20T14:41:55.750Z"
   },
   {
    "duration": 116,
    "start_time": "2023-03-20T14:43:53.206Z"
   },
   {
    "duration": 128,
    "start_time": "2023-03-20T14:44:03.770Z"
   },
   {
    "duration": 9,
    "start_time": "2023-03-20T14:44:12.198Z"
   },
   {
    "duration": 21,
    "start_time": "2023-03-20T14:44:20.391Z"
   },
   {
    "duration": 16,
    "start_time": "2023-03-20T14:44:39.070Z"
   },
   {
    "duration": 8,
    "start_time": "2023-03-20T14:44:50.210Z"
   },
   {
    "duration": 15,
    "start_time": "2023-03-20T14:44:55.393Z"
   },
   {
    "duration": 16,
    "start_time": "2023-03-20T14:50:58.302Z"
   },
   {
    "duration": 285,
    "start_time": "2023-03-20T14:51:07.977Z"
   },
   {
    "duration": 514,
    "start_time": "2023-03-20T15:26:16.383Z"
   },
   {
    "duration": 7,
    "start_time": "2023-03-20T15:48:16.540Z"
   },
   {
    "duration": 195,
    "start_time": "2023-03-20T15:48:30.070Z"
   },
   {
    "duration": 330,
    "start_time": "2023-03-20T15:50:17.394Z"
   },
   {
    "duration": 200,
    "start_time": "2023-03-20T15:53:06.330Z"
   },
   {
    "duration": 177,
    "start_time": "2023-03-20T16:05:40.505Z"
   },
   {
    "duration": 245,
    "start_time": "2023-03-20T16:06:05.050Z"
   },
   {
    "duration": 198,
    "start_time": "2023-03-20T16:06:17.711Z"
   },
   {
    "duration": 5,
    "start_time": "2023-03-20T16:18:17.035Z"
   },
   {
    "duration": 174,
    "start_time": "2023-03-20T16:18:23.741Z"
   },
   {
    "duration": 155,
    "start_time": "2023-03-20T16:18:36.085Z"
   },
   {
    "duration": 188,
    "start_time": "2023-03-20T16:18:47.989Z"
   },
   {
    "duration": 11,
    "start_time": "2023-03-20T16:47:21.940Z"
   },
   {
    "duration": 11,
    "start_time": "2023-03-20T16:54:16.527Z"
   },
   {
    "duration": 10,
    "start_time": "2023-03-20T16:55:28.202Z"
   },
   {
    "duration": 201,
    "start_time": "2023-03-20T16:57:15.598Z"
   },
   {
    "duration": 5,
    "start_time": "2023-03-20T16:58:22.631Z"
   },
   {
    "duration": 48,
    "start_time": "2023-03-20T16:59:59.632Z"
   },
   {
    "duration": 11,
    "start_time": "2023-03-20T17:00:21.810Z"
   },
   {
    "duration": 32,
    "start_time": "2023-03-20T17:00:33.743Z"
   },
   {
    "duration": 9,
    "start_time": "2023-03-20T17:01:10.696Z"
   },
   {
    "duration": 198,
    "start_time": "2023-03-20T17:01:13.486Z"
   },
   {
    "duration": 13,
    "start_time": "2023-03-20T17:02:13.405Z"
   },
   {
    "duration": 8,
    "start_time": "2023-03-20T17:02:30.484Z"
   },
   {
    "duration": 301,
    "start_time": "2023-03-20T17:17:37.120Z"
   },
   {
    "duration": 5,
    "start_time": "2023-03-20T17:18:36.478Z"
   },
   {
    "duration": 7,
    "start_time": "2023-03-20T17:20:34.379Z"
   },
   {
    "duration": 6,
    "start_time": "2023-03-20T17:21:19.626Z"
   },
   {
    "duration": 13,
    "start_time": "2023-03-20T17:23:50.899Z"
   },
   {
    "duration": 13,
    "start_time": "2023-03-20T17:24:16.504Z"
   },
   {
    "duration": 250,
    "start_time": "2023-03-20T17:24:35.838Z"
   },
   {
    "duration": 606,
    "start_time": "2023-03-20T17:25:16.887Z"
   },
   {
    "duration": 628,
    "start_time": "2023-03-20T17:25:25.491Z"
   },
   {
    "duration": 283,
    "start_time": "2023-03-20T17:25:44.705Z"
   },
   {
    "duration": 263,
    "start_time": "2023-03-20T17:25:58.127Z"
   },
   {
    "duration": 262,
    "start_time": "2023-03-20T17:26:03.587Z"
   },
   {
    "duration": 278,
    "start_time": "2023-03-20T17:26:13.539Z"
   },
   {
    "duration": 5,
    "start_time": "2023-03-20T17:27:37.860Z"
   },
   {
    "duration": 5,
    "start_time": "2023-03-20T17:28:39.470Z"
   },
   {
    "duration": 6,
    "start_time": "2023-03-20T17:29:02.597Z"
   },
   {
    "duration": 12,
    "start_time": "2023-03-20T17:35:31.069Z"
   },
   {
    "duration": 5,
    "start_time": "2023-03-20T17:36:52.135Z"
   },
   {
    "duration": 6,
    "start_time": "2023-03-20T17:36:52.884Z"
   },
   {
    "duration": 5,
    "start_time": "2023-03-20T17:37:08.481Z"
   },
   {
    "duration": 6,
    "start_time": "2023-03-20T17:37:13.581Z"
   },
   {
    "duration": 6,
    "start_time": "2023-03-20T17:37:46.675Z"
   },
   {
    "duration": 13,
    "start_time": "2023-03-20T17:38:06.658Z"
   },
   {
    "duration": 7,
    "start_time": "2023-03-20T17:38:17.116Z"
   },
   {
    "duration": 8,
    "start_time": "2023-03-20T17:39:02.202Z"
   },
   {
    "duration": 6,
    "start_time": "2023-03-20T17:39:11.091Z"
   },
   {
    "duration": 5,
    "start_time": "2023-03-20T17:39:18.821Z"
   },
   {
    "duration": 7,
    "start_time": "2023-03-20T17:47:33.570Z"
   },
   {
    "duration": 10,
    "start_time": "2023-03-20T17:47:40.166Z"
   },
   {
    "duration": 4,
    "start_time": "2023-03-20T17:47:43.128Z"
   },
   {
    "duration": 1299,
    "start_time": "2023-03-20T17:48:17.313Z"
   },
   {
    "duration": 55,
    "start_time": "2023-03-20T17:48:19.381Z"
   },
   {
    "duration": 17,
    "start_time": "2023-03-20T17:48:20.184Z"
   },
   {
    "duration": 16,
    "start_time": "2023-03-20T17:48:20.532Z"
   },
   {
    "duration": 54,
    "start_time": "2023-03-20T17:48:20.970Z"
   },
   {
    "duration": 4,
    "start_time": "2023-03-20T17:48:21.304Z"
   },
   {
    "duration": 209,
    "start_time": "2023-03-20T17:48:21.591Z"
   },
   {
    "duration": 5,
    "start_time": "2023-03-20T17:48:22.576Z"
   },
   {
    "duration": 10,
    "start_time": "2023-03-20T17:48:23.188Z"
   },
   {
    "duration": 16,
    "start_time": "2023-03-20T17:48:23.472Z"
   },
   {
    "duration": 8,
    "start_time": "2023-03-20T17:48:23.732Z"
   },
   {
    "duration": 6,
    "start_time": "2023-03-20T17:48:24.005Z"
   },
   {
    "duration": 28,
    "start_time": "2023-03-20T17:48:24.278Z"
   },
   {
    "duration": 10,
    "start_time": "2023-03-20T17:48:24.535Z"
   },
   {
    "duration": 5,
    "start_time": "2023-03-20T17:48:24.805Z"
   },
   {
    "duration": 5,
    "start_time": "2023-03-20T17:48:25.100Z"
   },
   {
    "duration": 6,
    "start_time": "2023-03-20T17:48:25.366Z"
   },
   {
    "duration": 6,
    "start_time": "2023-03-20T17:48:25.614Z"
   },
   {
    "duration": 6,
    "start_time": "2023-03-20T17:48:25.883Z"
   },
   {
    "duration": 35,
    "start_time": "2023-03-20T17:48:26.168Z"
   },
   {
    "duration": 11,
    "start_time": "2023-03-20T17:48:26.740Z"
   },
   {
    "duration": 8,
    "start_time": "2023-03-20T17:48:27.005Z"
   },
   {
    "duration": 8,
    "start_time": "2023-03-20T17:48:27.285Z"
   },
   {
    "duration": 22,
    "start_time": "2023-03-20T17:48:27.533Z"
   },
   {
    "duration": 8,
    "start_time": "2023-03-20T17:48:28.336Z"
   },
   {
    "duration": 24,
    "start_time": "2023-03-20T17:48:28.586Z"
   },
   {
    "duration": 6,
    "start_time": "2023-03-20T17:48:29.169Z"
   },
   {
    "duration": 379,
    "start_time": "2023-03-20T17:48:29.768Z"
   },
   {
    "duration": 4,
    "start_time": "2023-03-20T17:48:30.325Z"
   },
   {
    "duration": 1482,
    "start_time": "2023-03-20T17:48:30.603Z"
   },
   {
    "duration": 27,
    "start_time": "2023-03-20T17:48:32.088Z"
   },
   {
    "duration": 35,
    "start_time": "2023-03-20T17:48:32.116Z"
   },
   {
    "duration": 419,
    "start_time": "2023-03-20T17:48:32.153Z"
   },
   {
    "duration": 16,
    "start_time": "2023-03-20T17:48:32.574Z"
   },
   {
    "duration": 301,
    "start_time": "2023-03-20T17:48:32.592Z"
   },
   {
    "duration": 7,
    "start_time": "2023-03-20T17:48:32.983Z"
   },
   {
    "duration": 14,
    "start_time": "2023-03-20T17:48:33.521Z"
   },
   {
    "duration": 391,
    "start_time": "2023-03-20T17:48:33.780Z"
   },
   {
    "duration": 376,
    "start_time": "2023-03-20T17:48:34.335Z"
   },
   {
    "duration": 424,
    "start_time": "2023-03-20T17:48:34.880Z"
   },
   {
    "duration": 15,
    "start_time": "2023-03-20T17:48:35.307Z"
   },
   {
    "duration": 21,
    "start_time": "2023-03-20T17:48:35.346Z"
   },
   {
    "duration": 29,
    "start_time": "2023-03-20T17:48:35.836Z"
   },
   {
    "duration": 17,
    "start_time": "2023-03-20T17:48:36.085Z"
   },
   {
    "duration": 16,
    "start_time": "2023-03-20T17:48:36.750Z"
   },
   {
    "duration": 281,
    "start_time": "2023-03-20T17:48:36.972Z"
   },
   {
    "duration": 366,
    "start_time": "2023-03-20T17:48:37.256Z"
   },
   {
    "duration": 6,
    "start_time": "2023-03-20T17:48:38.176Z"
   },
   {
    "duration": 190,
    "start_time": "2023-03-20T17:48:38.399Z"
   },
   {
    "duration": 298,
    "start_time": "2023-03-20T17:48:38.878Z"
   },
   {
    "duration": 157,
    "start_time": "2023-03-20T17:48:39.377Z"
   },
   {
    "duration": 188,
    "start_time": "2023-03-20T17:48:40.166Z"
   },
   {
    "duration": 181,
    "start_time": "2023-03-20T17:48:40.423Z"
   },
   {
    "duration": 185,
    "start_time": "2023-03-20T17:48:40.666Z"
   },
   {
    "duration": 5,
    "start_time": "2023-03-20T17:48:42.826Z"
   },
   {
    "duration": 188,
    "start_time": "2023-03-20T17:48:43.685Z"
   },
   {
    "duration": 148,
    "start_time": "2023-03-20T17:48:44.171Z"
   },
   {
    "duration": 179,
    "start_time": "2023-03-20T17:48:44.679Z"
   },
   {
    "duration": 11,
    "start_time": "2023-03-20T17:48:50.909Z"
   },
   {
    "duration": 342,
    "start_time": "2023-03-20T17:48:53.440Z"
   },
   {
    "duration": 9,
    "start_time": "2023-03-20T17:49:01.836Z"
   },
   {
    "duration": 18,
    "start_time": "2023-03-20T17:49:06.582Z"
   },
   {
    "duration": 7,
    "start_time": "2023-03-20T17:49:07.562Z"
   },
   {
    "duration": 8,
    "start_time": "2023-03-20T17:49:12.226Z"
   },
   {
    "duration": 304,
    "start_time": "2023-03-20T17:49:14.805Z"
   },
   {
    "duration": 17,
    "start_time": "2023-03-20T17:49:17.496Z"
   },
   {
    "duration": 16,
    "start_time": "2023-03-20T17:49:21.296Z"
   },
   {
    "duration": 9,
    "start_time": "2023-03-20T17:49:24.676Z"
   },
   {
    "duration": 7,
    "start_time": "2023-03-20T17:49:28.472Z"
   },
   {
    "duration": 5,
    "start_time": "2023-03-20T17:49:58.996Z"
   },
   {
    "duration": 6,
    "start_time": "2023-03-20T17:49:59.986Z"
   },
   {
    "duration": 7,
    "start_time": "2023-03-20T17:50:02.786Z"
   },
   {
    "duration": 6,
    "start_time": "2023-03-20T17:50:04.982Z"
   },
   {
    "duration": 152,
    "start_time": "2023-03-20T17:50:18.642Z"
   },
   {
    "duration": 14,
    "start_time": "2023-03-20T17:50:32.194Z"
   },
   {
    "duration": 7,
    "start_time": "2023-03-20T17:51:38.122Z"
   },
   {
    "duration": 7,
    "start_time": "2023-03-20T17:52:11.121Z"
   },
   {
    "duration": 12,
    "start_time": "2023-03-20T17:52:14.245Z"
   },
   {
    "duration": 9,
    "start_time": "2023-03-20T17:52:16.368Z"
   },
   {
    "duration": 7,
    "start_time": "2023-03-20T17:54:30.079Z"
   },
   {
    "duration": 6,
    "start_time": "2023-03-20T17:54:33.311Z"
   },
   {
    "duration": 5,
    "start_time": "2023-03-20T17:55:29.007Z"
   },
   {
    "duration": 14,
    "start_time": "2023-03-20T17:55:37.582Z"
   },
   {
    "duration": 4,
    "start_time": "2023-03-20T17:55:46.491Z"
   },
   {
    "duration": 4,
    "start_time": "2023-03-20T17:56:13.025Z"
   },
   {
    "duration": 9,
    "start_time": "2023-03-20T17:58:25.297Z"
   },
   {
    "duration": 11,
    "start_time": "2023-03-20T17:58:41.688Z"
   },
   {
    "duration": 9,
    "start_time": "2023-03-20T18:04:42.782Z"
   },
   {
    "duration": 240,
    "start_time": "2023-03-20T18:04:46.847Z"
   },
   {
    "duration": 5,
    "start_time": "2023-03-20T18:04:54.987Z"
   },
   {
    "duration": 5,
    "start_time": "2023-03-20T18:05:02.204Z"
   },
   {
    "duration": 10,
    "start_time": "2023-03-20T18:05:07.758Z"
   },
   {
    "duration": 7,
    "start_time": "2023-03-20T18:05:26.876Z"
   },
   {
    "duration": 1515,
    "start_time": "2023-03-20T18:07:15.091Z"
   },
   {
    "duration": 69,
    "start_time": "2023-03-20T18:07:16.609Z"
   },
   {
    "duration": 21,
    "start_time": "2023-03-20T18:07:16.683Z"
   },
   {
    "duration": 21,
    "start_time": "2023-03-20T18:07:16.707Z"
   },
   {
    "duration": 79,
    "start_time": "2023-03-20T18:07:16.730Z"
   },
   {
    "duration": 6,
    "start_time": "2023-03-20T18:07:16.812Z"
   },
   {
    "duration": 297,
    "start_time": "2023-03-20T18:07:16.922Z"
   },
   {
    "duration": 6,
    "start_time": "2023-03-20T18:07:17.423Z"
   },
   {
    "duration": 6,
    "start_time": "2023-03-20T18:07:17.891Z"
   },
   {
    "duration": 29,
    "start_time": "2023-03-20T18:07:18.136Z"
   },
   {
    "duration": 11,
    "start_time": "2023-03-20T18:07:18.391Z"
   },
   {
    "duration": 7,
    "start_time": "2023-03-20T18:07:18.617Z"
   },
   {
    "duration": 30,
    "start_time": "2023-03-20T18:07:18.877Z"
   },
   {
    "duration": 8,
    "start_time": "2023-03-20T18:07:19.092Z"
   },
   {
    "duration": 6,
    "start_time": "2023-03-20T18:07:19.306Z"
   },
   {
    "duration": 13,
    "start_time": "2023-03-20T18:07:19.533Z"
   },
   {
    "duration": 6,
    "start_time": "2023-03-20T18:07:19.784Z"
   },
   {
    "duration": 10,
    "start_time": "2023-03-20T18:07:20.012Z"
   },
   {
    "duration": 7,
    "start_time": "2023-03-20T18:07:20.270Z"
   },
   {
    "duration": 26,
    "start_time": "2023-03-20T18:07:20.483Z"
   },
   {
    "duration": 11,
    "start_time": "2023-03-20T18:07:20.907Z"
   },
   {
    "duration": 7,
    "start_time": "2023-03-20T18:07:21.127Z"
   },
   {
    "duration": 15,
    "start_time": "2023-03-20T18:07:21.336Z"
   },
   {
    "duration": 22,
    "start_time": "2023-03-20T18:07:21.570Z"
   },
   {
    "duration": 7,
    "start_time": "2023-03-20T18:07:22.216Z"
   },
   {
    "duration": 29,
    "start_time": "2023-03-20T18:07:22.470Z"
   },
   {
    "duration": 8,
    "start_time": "2023-03-20T18:07:22.915Z"
   },
   {
    "duration": 407,
    "start_time": "2023-03-20T18:07:23.390Z"
   },
   {
    "duration": 5,
    "start_time": "2023-03-20T18:07:23.868Z"
   },
   {
    "duration": 1524,
    "start_time": "2023-03-20T18:07:24.098Z"
   },
   {
    "duration": 40,
    "start_time": "2023-03-20T18:07:25.627Z"
   },
   {
    "duration": 35,
    "start_time": "2023-03-20T18:07:25.669Z"
   },
   {
    "duration": 393,
    "start_time": "2023-03-20T18:07:25.707Z"
   },
   {
    "duration": 22,
    "start_time": "2023-03-20T18:07:26.103Z"
   },
   {
    "duration": 403,
    "start_time": "2023-03-20T18:07:26.128Z"
   },
   {
    "duration": 11,
    "start_time": "2023-03-20T18:07:26.533Z"
   },
   {
    "duration": 18,
    "start_time": "2023-03-20T18:07:26.718Z"
   },
   {
    "duration": 392,
    "start_time": "2023-03-20T18:07:26.923Z"
   },
   {
    "duration": 361,
    "start_time": "2023-03-20T18:07:27.399Z"
   },
   {
    "duration": 419,
    "start_time": "2023-03-20T18:07:27.878Z"
   },
   {
    "duration": 12,
    "start_time": "2023-03-20T18:07:28.300Z"
   },
   {
    "duration": 29,
    "start_time": "2023-03-20T18:07:28.351Z"
   },
   {
    "duration": 6,
    "start_time": "2023-03-20T18:07:28.826Z"
   },
   {
    "duration": 13,
    "start_time": "2023-03-20T18:07:29.072Z"
   },
   {
    "duration": 9,
    "start_time": "2023-03-20T18:07:30.531Z"
   },
   {
    "duration": 286,
    "start_time": "2023-03-20T18:07:30.916Z"
   },
   {
    "duration": 372,
    "start_time": "2023-03-20T18:07:31.291Z"
   },
   {
    "duration": 6,
    "start_time": "2023-03-20T18:07:33.494Z"
   },
   {
    "duration": 225,
    "start_time": "2023-03-20T18:07:34.507Z"
   },
   {
    "duration": 383,
    "start_time": "2023-03-20T18:07:35.536Z"
   },
   {
    "duration": 191,
    "start_time": "2023-03-20T18:07:36.375Z"
   },
   {
    "duration": 170,
    "start_time": "2023-03-20T18:07:38.291Z"
   },
   {
    "duration": 183,
    "start_time": "2023-03-20T18:07:38.692Z"
   },
   {
    "duration": 272,
    "start_time": "2023-03-20T18:07:39.175Z"
   },
   {
    "duration": 5,
    "start_time": "2023-03-20T18:07:41.306Z"
   },
   {
    "duration": 183,
    "start_time": "2023-03-20T18:07:41.940Z"
   },
   {
    "duration": 174,
    "start_time": "2023-03-20T18:07:42.291Z"
   },
   {
    "duration": 233,
    "start_time": "2023-03-20T18:07:42.729Z"
   },
   {
    "duration": 9,
    "start_time": "2023-03-20T18:07:46.918Z"
   },
   {
    "duration": 244,
    "start_time": "2023-03-20T18:07:49.118Z"
   },
   {
    "duration": 6,
    "start_time": "2023-03-20T18:07:50.470Z"
   },
   {
    "duration": 8,
    "start_time": "2023-03-20T18:07:53.121Z"
   },
   {
    "duration": 7,
    "start_time": "2023-03-20T18:07:55.650Z"
   },
   {
    "duration": 9,
    "start_time": "2023-03-20T18:07:59.624Z"
   },
   {
    "duration": 315,
    "start_time": "2023-03-20T18:08:02.813Z"
   },
   {
    "duration": 7,
    "start_time": "2023-03-20T18:08:20.374Z"
   },
   {
    "duration": 7,
    "start_time": "2023-03-20T18:08:23.180Z"
   },
   {
    "duration": 5,
    "start_time": "2023-03-20T18:08:25.916Z"
   },
   {
    "duration": 1168,
    "start_time": "2023-03-20T18:41:03.390Z"
   },
   {
    "duration": 65,
    "start_time": "2023-03-20T18:41:04.563Z"
   },
   {
    "duration": 25,
    "start_time": "2023-03-20T18:41:04.630Z"
   },
   {
    "duration": 15,
    "start_time": "2023-03-20T18:41:04.658Z"
   },
   {
    "duration": 55,
    "start_time": "2023-03-20T18:41:04.675Z"
   },
   {
    "duration": 4,
    "start_time": "2023-03-20T18:41:04.821Z"
   },
   {
    "duration": 219,
    "start_time": "2023-03-20T18:41:05.013Z"
   },
   {
    "duration": 5,
    "start_time": "2023-03-20T18:41:05.455Z"
   },
   {
    "duration": 7,
    "start_time": "2023-03-20T18:41:05.872Z"
   },
   {
    "duration": 23,
    "start_time": "2023-03-20T18:41:06.115Z"
   },
   {
    "duration": 11,
    "start_time": "2023-03-20T18:41:06.323Z"
   },
   {
    "duration": 6,
    "start_time": "2023-03-20T18:41:06.532Z"
   },
   {
    "duration": 29,
    "start_time": "2023-03-20T18:41:06.768Z"
   },
   {
    "duration": 9,
    "start_time": "2023-03-20T18:41:06.970Z"
   },
   {
    "duration": 7,
    "start_time": "2023-03-20T18:41:07.184Z"
   },
   {
    "duration": 7,
    "start_time": "2023-03-20T18:41:07.425Z"
   },
   {
    "duration": 7,
    "start_time": "2023-03-20T18:41:07.631Z"
   },
   {
    "duration": 7,
    "start_time": "2023-03-20T18:41:07.848Z"
   },
   {
    "duration": 5,
    "start_time": "2023-03-20T18:41:08.075Z"
   },
   {
    "duration": 24,
    "start_time": "2023-03-20T18:41:08.316Z"
   },
   {
    "duration": 7,
    "start_time": "2023-03-20T18:41:08.758Z"
   },
   {
    "duration": 5,
    "start_time": "2023-03-20T18:41:09.016Z"
   },
   {
    "duration": 8,
    "start_time": "2023-03-20T18:41:09.226Z"
   },
   {
    "duration": 21,
    "start_time": "2023-03-20T18:41:09.448Z"
   },
   {
    "duration": 4,
    "start_time": "2023-03-20T18:41:10.160Z"
   },
   {
    "duration": 25,
    "start_time": "2023-03-20T18:41:10.389Z"
   },
   {
    "duration": 7,
    "start_time": "2023-03-20T18:41:10.859Z"
   },
   {
    "duration": 351,
    "start_time": "2023-03-20T18:41:11.334Z"
   },
   {
    "duration": 6,
    "start_time": "2023-03-20T18:41:11.822Z"
   },
   {
    "duration": 1271,
    "start_time": "2023-03-20T18:41:12.052Z"
   },
   {
    "duration": 36,
    "start_time": "2023-03-20T18:41:13.326Z"
   },
   {
    "duration": 12,
    "start_time": "2023-03-20T18:41:13.364Z"
   },
   {
    "duration": 342,
    "start_time": "2023-03-20T18:41:13.379Z"
   },
   {
    "duration": 31,
    "start_time": "2023-03-20T18:41:13.723Z"
   },
   {
    "duration": 229,
    "start_time": "2023-03-20T18:41:13.759Z"
   },
   {
    "duration": 6,
    "start_time": "2023-03-20T18:41:14.175Z"
   },
   {
    "duration": 10,
    "start_time": "2023-03-20T18:41:14.634Z"
   },
   {
    "duration": 353,
    "start_time": "2023-03-20T18:41:14.864Z"
   },
   {
    "duration": 338,
    "start_time": "2023-03-20T18:41:15.357Z"
   },
   {
    "duration": 464,
    "start_time": "2023-03-20T18:41:15.869Z"
   },
   {
    "duration": 26,
    "start_time": "2023-03-20T18:41:16.336Z"
   },
   {
    "duration": 42,
    "start_time": "2023-03-20T18:41:16.365Z"
   },
   {
    "duration": 8,
    "start_time": "2023-03-20T18:41:16.835Z"
   },
   {
    "duration": 16,
    "start_time": "2023-03-20T18:41:17.068Z"
   },
   {
    "duration": 13,
    "start_time": "2023-03-20T18:41:17.834Z"
   },
   {
    "duration": 327,
    "start_time": "2023-03-20T18:41:18.076Z"
   },
   {
    "duration": 382,
    "start_time": "2023-03-20T18:41:18.405Z"
   },
   {
    "duration": 4,
    "start_time": "2023-03-20T18:41:20.323Z"
   },
   {
    "duration": 183,
    "start_time": "2023-03-20T18:41:20.840Z"
   },
   {
    "duration": 262,
    "start_time": "2023-03-20T18:41:22.042Z"
   },
   {
    "duration": 182,
    "start_time": "2023-03-20T18:41:23.376Z"
   },
   {
    "duration": 261,
    "start_time": "2023-03-20T18:41:25.431Z"
   },
   {
    "duration": 199,
    "start_time": "2023-03-20T18:41:25.829Z"
   },
   {
    "duration": 231,
    "start_time": "2023-03-20T18:41:26.322Z"
   },
   {
    "duration": 5,
    "start_time": "2023-03-20T18:41:29.385Z"
   },
   {
    "duration": 158,
    "start_time": "2023-03-20T18:41:30.164Z"
   },
   {
    "duration": 153,
    "start_time": "2023-03-20T18:41:30.860Z"
   },
   {
    "duration": 169,
    "start_time": "2023-03-20T18:41:31.429Z"
   },
   {
    "duration": 11,
    "start_time": "2023-03-20T18:41:35.818Z"
   },
   {
    "duration": 301,
    "start_time": "2023-03-20T18:41:37.131Z"
   },
   {
    "duration": 5,
    "start_time": "2023-03-20T18:41:38.116Z"
   },
   {
    "duration": 5,
    "start_time": "2023-03-20T18:41:42.822Z"
   },
   {
    "duration": 5,
    "start_time": "2023-03-20T18:41:43.481Z"
   },
   {
    "duration": 12,
    "start_time": "2023-03-20T18:41:54.253Z"
   },
   {
    "duration": 209,
    "start_time": "2023-03-20T18:41:55.473Z"
   },
   {
    "duration": 7,
    "start_time": "2023-03-20T18:41:56.764Z"
   },
   {
    "duration": 6,
    "start_time": "2023-03-20T18:41:59.794Z"
   },
   {
    "duration": 6,
    "start_time": "2023-03-20T18:42:00.972Z"
   },
   {
    "duration": 123,
    "start_time": "2023-03-21T04:37:29.347Z"
   },
   {
    "duration": 145,
    "start_time": "2023-03-21T04:42:59.503Z"
   },
   {
    "duration": 141,
    "start_time": "2023-03-21T12:22:12.647Z"
   },
   {
    "duration": 51,
    "start_time": "2023-03-22T03:14:11.698Z"
   },
   {
    "duration": 1454,
    "start_time": "2023-03-22T03:14:20.096Z"
   },
   {
    "duration": 109,
    "start_time": "2023-03-22T03:14:21.552Z"
   },
   {
    "duration": 26,
    "start_time": "2023-03-22T03:14:21.663Z"
   },
   {
    "duration": 17,
    "start_time": "2023-03-22T03:16:40.259Z"
   },
   {
    "duration": 11,
    "start_time": "2023-03-22T03:16:45.250Z"
   },
   {
    "duration": 58,
    "start_time": "2023-03-22T03:16:46.930Z"
   },
   {
    "duration": 6,
    "start_time": "2023-03-22T03:16:49.933Z"
   },
   {
    "duration": 200,
    "start_time": "2023-03-22T03:16:51.511Z"
   },
   {
    "duration": 5,
    "start_time": "2023-03-22T03:17:34.669Z"
   },
   {
    "duration": 6,
    "start_time": "2023-03-22T03:18:13.713Z"
   },
   {
    "duration": 21,
    "start_time": "2023-03-22T03:18:15.449Z"
   },
   {
    "duration": 12,
    "start_time": "2023-03-22T03:18:17.595Z"
   },
   {
    "duration": 5,
    "start_time": "2023-03-22T03:18:18.378Z"
   },
   {
    "duration": 24,
    "start_time": "2023-03-22T03:18:24.573Z"
   },
   {
    "duration": 9,
    "start_time": "2023-03-22T03:18:25.313Z"
   },
   {
    "duration": 6,
    "start_time": "2023-03-22T03:18:26.097Z"
   },
   {
    "duration": 7,
    "start_time": "2023-03-22T03:18:27.219Z"
   },
   {
    "duration": 7,
    "start_time": "2023-03-22T03:18:29.052Z"
   },
   {
    "duration": 7,
    "start_time": "2023-03-22T03:18:31.995Z"
   },
   {
    "duration": 6,
    "start_time": "2023-03-22T03:18:33.782Z"
   },
   {
    "duration": 24,
    "start_time": "2023-03-22T03:18:35.856Z"
   },
   {
    "duration": 8,
    "start_time": "2023-03-22T03:21:27.605Z"
   },
   {
    "duration": 11,
    "start_time": "2023-03-22T03:22:08.818Z"
   },
   {
    "duration": 8,
    "start_time": "2023-03-22T03:22:09.789Z"
   },
   {
    "duration": 5,
    "start_time": "2023-03-22T03:22:10.610Z"
   },
   {
    "duration": 16,
    "start_time": "2023-03-22T03:22:13.575Z"
   },
   {
    "duration": 5,
    "start_time": "2023-03-22T03:22:23.025Z"
   },
   {
    "duration": 25,
    "start_time": "2023-03-22T03:22:26.438Z"
   },
   {
    "duration": 36,
    "start_time": "2023-03-22T03:25:16.985Z"
   },
   {
    "duration": 23,
    "start_time": "2023-03-22T05:20:30.602Z"
   },
   {
    "duration": 323,
    "start_time": "2023-03-22T05:22:34.760Z"
   },
   {
    "duration": 5,
    "start_time": "2023-03-22T05:22:37.489Z"
   },
   {
    "duration": 1256,
    "start_time": "2023-03-22T05:22:38.014Z"
   },
   {
    "duration": 5,
    "start_time": "2023-03-22T05:23:17.486Z"
   },
   {
    "duration": 1326,
    "start_time": "2023-03-22T05:23:18.602Z"
   },
   {
    "duration": 5,
    "start_time": "2023-03-22T05:23:34.513Z"
   },
   {
    "duration": 1277,
    "start_time": "2023-03-22T05:23:34.886Z"
   },
   {
    "duration": 22,
    "start_time": "2023-03-22T05:24:13.224Z"
   },
   {
    "duration": 10,
    "start_time": "2023-03-22T05:24:14.125Z"
   },
   {
    "duration": 222,
    "start_time": "2023-03-22T05:24:15.412Z"
   },
   {
    "duration": 19,
    "start_time": "2023-03-22T05:24:19.480Z"
   },
   {
    "duration": 232,
    "start_time": "2023-03-22T05:24:20.083Z"
   },
   {
    "duration": 5,
    "start_time": "2023-03-22T05:24:28.857Z"
   },
   {
    "duration": 9,
    "start_time": "2023-03-22T05:24:30.739Z"
   },
   {
    "duration": 456,
    "start_time": "2023-03-22T05:24:33.476Z"
   },
   {
    "duration": 360,
    "start_time": "2023-03-22T05:24:39.077Z"
   },
   {
    "duration": 314,
    "start_time": "2023-03-22T05:59:38.812Z"
   },
   {
    "duration": 329,
    "start_time": "2023-03-22T06:04:04.061Z"
   },
   {
    "duration": 11,
    "start_time": "2023-03-22T06:04:09.441Z"
   },
   {
    "duration": 12,
    "start_time": "2023-03-22T06:04:14.613Z"
   },
   {
    "duration": 7,
    "start_time": "2023-03-22T06:04:22.420Z"
   },
   {
    "duration": 11,
    "start_time": "2023-03-22T06:04:23.684Z"
   },
   {
    "duration": 5,
    "start_time": "2023-03-22T06:07:47.142Z"
   },
   {
    "duration": 12,
    "start_time": "2023-03-22T06:07:48.253Z"
   },
   {
    "duration": 7,
    "start_time": "2023-03-22T06:08:04.909Z"
   },
   {
    "duration": 11,
    "start_time": "2023-03-22T06:08:09.486Z"
   },
   {
    "duration": 11,
    "start_time": "2023-03-22T06:08:56.740Z"
   },
   {
    "duration": 10,
    "start_time": "2023-03-22T06:09:17.074Z"
   },
   {
    "duration": 11,
    "start_time": "2023-03-22T06:09:26.522Z"
   },
   {
    "duration": 8,
    "start_time": "2023-03-22T06:11:29.277Z"
   },
   {
    "duration": 240,
    "start_time": "2023-03-22T06:11:29.992Z"
   },
   {
    "duration": 319,
    "start_time": "2023-03-22T06:11:36.954Z"
   },
   {
    "duration": 4,
    "start_time": "2023-03-22T06:12:09.327Z"
   },
   {
    "duration": 172,
    "start_time": "2023-03-22T06:12:10.113Z"
   },
   {
    "duration": 164,
    "start_time": "2023-03-22T06:12:21.737Z"
   },
   {
    "duration": 271,
    "start_time": "2023-03-22T06:12:22.998Z"
   },
   {
    "duration": 173,
    "start_time": "2023-03-22T06:12:26.777Z"
   },
   {
    "duration": 163,
    "start_time": "2023-03-22T06:12:27.924Z"
   },
   {
    "duration": 175,
    "start_time": "2023-03-22T06:12:28.385Z"
   },
   {
    "duration": 4,
    "start_time": "2023-03-22T06:12:39.546Z"
   },
   {
    "duration": 166,
    "start_time": "2023-03-22T06:12:40.216Z"
   },
   {
    "duration": 151,
    "start_time": "2023-03-22T06:12:40.710Z"
   },
   {
    "duration": 155,
    "start_time": "2023-03-22T06:12:41.264Z"
   },
   {
    "duration": 4,
    "start_time": "2023-03-22T06:14:02.640Z"
   },
   {
    "duration": 154,
    "start_time": "2023-03-22T06:14:04.722Z"
   },
   {
    "duration": 154,
    "start_time": "2023-03-22T06:15:42.442Z"
   },
   {
    "duration": 171,
    "start_time": "2023-03-22T06:15:43.507Z"
   },
   {
    "duration": 9,
    "start_time": "2023-03-22T06:22:50.377Z"
   },
   {
    "duration": 224,
    "start_time": "2023-03-22T06:22:51.911Z"
   },
   {
    "duration": 5,
    "start_time": "2023-03-22T06:22:53.136Z"
   },
   {
    "duration": 5,
    "start_time": "2023-03-22T06:22:54.754Z"
   },
   {
    "duration": 6,
    "start_time": "2023-03-22T06:23:00.010Z"
   },
   {
    "duration": 9,
    "start_time": "2023-03-22T06:23:05.175Z"
   },
   {
    "duration": 232,
    "start_time": "2023-03-22T06:23:07.540Z"
   },
   {
    "duration": 5,
    "start_time": "2023-03-22T06:23:11.348Z"
   },
   {
    "duration": 6,
    "start_time": "2023-03-22T06:23:14.958Z"
   },
   {
    "duration": 4,
    "start_time": "2023-03-22T06:23:17.609Z"
   },
   {
    "duration": 3,
    "start_time": "2023-03-22T06:29:04.634Z"
   },
   {
    "duration": 12,
    "start_time": "2023-03-22T06:29:06.594Z"
   },
   {
    "duration": 5,
    "start_time": "2023-03-22T06:33:00.004Z"
   },
   {
    "duration": 13,
    "start_time": "2023-03-22T06:33:00.645Z"
   },
   {
    "duration": 3,
    "start_time": "2023-03-22T06:35:49.772Z"
   },
   {
    "duration": 11,
    "start_time": "2023-03-22T06:35:52.175Z"
   },
   {
    "duration": 5,
    "start_time": "2023-03-22T06:37:17.147Z"
   },
   {
    "duration": 11,
    "start_time": "2023-03-22T06:37:18.241Z"
   },
   {
    "duration": 3,
    "start_time": "2023-03-22T06:37:41.911Z"
   },
   {
    "duration": 15,
    "start_time": "2023-03-22T06:37:42.430Z"
   },
   {
    "duration": 3,
    "start_time": "2023-03-22T07:19:16.197Z"
   },
   {
    "duration": 14,
    "start_time": "2023-03-22T07:19:16.588Z"
   },
   {
    "duration": 1589,
    "start_time": "2023-03-22T07:25:30.889Z"
   },
   {
    "duration": 60,
    "start_time": "2023-03-22T07:25:32.480Z"
   },
   {
    "duration": 27,
    "start_time": "2023-03-22T07:25:32.542Z"
   },
   {
    "duration": 25,
    "start_time": "2023-03-22T07:25:35.084Z"
   },
   {
    "duration": 10,
    "start_time": "2023-03-22T07:25:37.210Z"
   },
   {
    "duration": 69,
    "start_time": "2023-03-22T07:25:37.614Z"
   },
   {
    "duration": 5,
    "start_time": "2023-03-22T07:25:37.965Z"
   },
   {
    "duration": 210,
    "start_time": "2023-03-22T07:25:38.313Z"
   },
   {
    "duration": 6,
    "start_time": "2023-03-22T07:25:39.472Z"
   },
   {
    "duration": 5,
    "start_time": "2023-03-22T07:25:40.348Z"
   },
   {
    "duration": 20,
    "start_time": "2023-03-22T07:25:40.653Z"
   },
   {
    "duration": 9,
    "start_time": "2023-03-22T07:25:40.883Z"
   },
   {
    "duration": 6,
    "start_time": "2023-03-22T07:25:41.155Z"
   },
   {
    "duration": 24,
    "start_time": "2023-03-22T07:25:41.430Z"
   },
   {
    "duration": 9,
    "start_time": "2023-03-22T07:25:41.684Z"
   },
   {
    "duration": 7,
    "start_time": "2023-03-22T07:25:41.950Z"
   },
   {
    "duration": 7,
    "start_time": "2023-03-22T07:25:42.211Z"
   },
   {
    "duration": 6,
    "start_time": "2023-03-22T07:25:42.461Z"
   },
   {
    "duration": 6,
    "start_time": "2023-03-22T07:25:42.722Z"
   },
   {
    "duration": 6,
    "start_time": "2023-03-22T07:25:42.982Z"
   },
   {
    "duration": 26,
    "start_time": "2023-03-22T07:25:43.237Z"
   },
   {
    "duration": 9,
    "start_time": "2023-03-22T07:25:44.009Z"
   },
   {
    "duration": 7,
    "start_time": "2023-03-22T07:25:44.284Z"
   },
   {
    "duration": 6,
    "start_time": "2023-03-22T07:25:44.523Z"
   },
   {
    "duration": 15,
    "start_time": "2023-03-22T07:25:44.818Z"
   },
   {
    "duration": 5,
    "start_time": "2023-03-22T07:25:45.930Z"
   },
   {
    "duration": 24,
    "start_time": "2023-03-22T07:25:46.169Z"
   },
   {
    "duration": 27,
    "start_time": "2023-03-22T07:25:46.421Z"
   },
   {
    "duration": 22,
    "start_time": "2023-03-22T07:25:47.716Z"
   },
   {
    "duration": 378,
    "start_time": "2023-03-22T07:25:50.512Z"
   },
   {
    "duration": 5,
    "start_time": "2023-03-22T07:25:51.620Z"
   },
   {
    "duration": 1294,
    "start_time": "2023-03-22T07:25:51.951Z"
   },
   {
    "duration": 22,
    "start_time": "2023-03-22T07:25:55.512Z"
   },
   {
    "duration": 8,
    "start_time": "2023-03-22T07:25:55.950Z"
   },
   {
    "duration": 306,
    "start_time": "2023-03-22T07:25:56.385Z"
   },
   {
    "duration": 18,
    "start_time": "2023-03-22T07:25:58.049Z"
   },
   {
    "duration": 239,
    "start_time": "2023-03-22T07:25:58.531Z"
   },
   {
    "duration": 5,
    "start_time": "2023-03-22T07:26:00.932Z"
   },
   {
    "duration": 10,
    "start_time": "2023-03-22T07:26:02.676Z"
   },
   {
    "duration": 382,
    "start_time": "2023-03-22T07:26:03.414Z"
   },
   {
    "duration": 335,
    "start_time": "2023-03-22T07:26:05.521Z"
   },
   {
    "duration": 361,
    "start_time": "2023-03-22T07:26:09.604Z"
   },
   {
    "duration": 12,
    "start_time": "2023-03-22T07:26:10.137Z"
   },
   {
    "duration": 16,
    "start_time": "2023-03-22T07:26:15.487Z"
   },
   {
    "duration": 3,
    "start_time": "2023-03-22T07:26:17.075Z"
   },
   {
    "duration": 11,
    "start_time": "2023-03-22T07:26:17.923Z"
   },
   {
    "duration": 7,
    "start_time": "2023-03-22T07:26:20.691Z"
   },
   {
    "duration": 253,
    "start_time": "2023-03-22T07:26:21.089Z"
   },
   {
    "duration": 350,
    "start_time": "2023-03-22T07:26:21.757Z"
   },
   {
    "duration": 5,
    "start_time": "2023-03-22T07:26:26.038Z"
   },
   {
    "duration": 188,
    "start_time": "2023-03-22T07:26:27.081Z"
   },
   {
    "duration": 267,
    "start_time": "2023-03-22T07:26:28.222Z"
   },
   {
    "duration": 157,
    "start_time": "2023-03-22T07:26:28.935Z"
   },
   {
    "duration": 206,
    "start_time": "2023-03-22T07:26:30.349Z"
   },
   {
    "duration": 169,
    "start_time": "2023-03-22T07:26:30.720Z"
   },
   {
    "duration": 178,
    "start_time": "2023-03-22T07:26:31.763Z"
   },
   {
    "duration": 4,
    "start_time": "2023-03-22T07:26:34.075Z"
   },
   {
    "duration": 168,
    "start_time": "2023-03-22T07:26:34.447Z"
   },
   {
    "duration": 174,
    "start_time": "2023-03-22T07:26:36.765Z"
   },
   {
    "duration": 184,
    "start_time": "2023-03-22T07:26:38.961Z"
   },
   {
    "duration": 8,
    "start_time": "2023-03-22T07:26:44.067Z"
   },
   {
    "duration": 228,
    "start_time": "2023-03-22T07:26:44.864Z"
   },
   {
    "duration": 4,
    "start_time": "2023-03-22T07:26:46.946Z"
   },
   {
    "duration": 4,
    "start_time": "2023-03-22T07:26:47.727Z"
   },
   {
    "duration": 5,
    "start_time": "2023-03-22T07:26:48.191Z"
   },
   {
    "duration": 11,
    "start_time": "2023-03-22T07:26:49.572Z"
   },
   {
    "duration": 233,
    "start_time": "2023-03-22T07:26:53.209Z"
   },
   {
    "duration": 5,
    "start_time": "2023-03-22T07:26:53.878Z"
   },
   {
    "duration": 6,
    "start_time": "2023-03-22T07:26:54.864Z"
   },
   {
    "duration": 7,
    "start_time": "2023-03-22T07:26:55.255Z"
   },
   {
    "duration": 1330,
    "start_time": "2023-03-22T12:21:55.775Z"
   },
   {
    "duration": 192,
    "start_time": "2023-03-22T12:21:57.108Z"
   },
   {
    "duration": 28,
    "start_time": "2023-03-22T12:22:01.437Z"
   },
   {
    "duration": 16,
    "start_time": "2023-03-22T12:22:05.995Z"
   },
   {
    "duration": 10,
    "start_time": "2023-03-22T12:22:07.450Z"
   },
   {
    "duration": 59,
    "start_time": "2023-03-22T12:22:08.118Z"
   },
   {
    "duration": 6,
    "start_time": "2023-03-22T12:22:08.714Z"
   },
   {
    "duration": 177,
    "start_time": "2023-03-22T12:22:09.341Z"
   },
   {
    "duration": 6,
    "start_time": "2023-03-22T12:22:11.355Z"
   },
   {
    "duration": 4,
    "start_time": "2023-03-22T12:22:13.075Z"
   },
   {
    "duration": 14,
    "start_time": "2023-03-22T12:22:13.723Z"
   },
   {
    "duration": 7,
    "start_time": "2023-03-22T12:22:17.747Z"
   },
   {
    "duration": 6,
    "start_time": "2023-03-22T12:22:18.651Z"
   },
   {
    "duration": 23,
    "start_time": "2023-03-22T12:22:19.413Z"
   },
   {
    "duration": 7,
    "start_time": "2023-03-22T12:22:20.298Z"
   },
   {
    "duration": 6,
    "start_time": "2023-03-22T12:22:20.990Z"
   },
   {
    "duration": 5,
    "start_time": "2023-03-22T12:22:21.526Z"
   },
   {
    "duration": 5,
    "start_time": "2023-03-22T12:22:22.093Z"
   },
   {
    "duration": 6,
    "start_time": "2023-03-22T12:22:22.655Z"
   },
   {
    "duration": 6,
    "start_time": "2023-03-22T12:22:35.451Z"
   },
   {
    "duration": 23,
    "start_time": "2023-03-22T12:22:35.459Z"
   },
   {
    "duration": 7,
    "start_time": "2023-03-22T12:25:54.499Z"
   },
   {
    "duration": 5,
    "start_time": "2023-03-22T12:25:55.653Z"
   },
   {
    "duration": 6,
    "start_time": "2023-03-22T12:25:56.220Z"
   },
   {
    "duration": 15,
    "start_time": "2023-03-22T12:25:56.693Z"
   },
   {
    "duration": 5,
    "start_time": "2023-03-22T12:25:59.295Z"
   },
   {
    "duration": 23,
    "start_time": "2023-03-22T12:25:59.797Z"
   },
   {
    "duration": 23,
    "start_time": "2023-03-22T12:26:03.713Z"
   },
   {
    "duration": 15,
    "start_time": "2023-03-22T12:26:08.517Z"
   },
   {
    "duration": 303,
    "start_time": "2023-03-22T12:26:17.896Z"
   },
   {
    "duration": 3,
    "start_time": "2023-03-22T12:26:28.478Z"
   },
   {
    "duration": 1149,
    "start_time": "2023-03-22T12:26:29.137Z"
   },
   {
    "duration": 20,
    "start_time": "2023-03-22T12:26:34.229Z"
   },
   {
    "duration": 8,
    "start_time": "2023-03-22T12:26:35.640Z"
   },
   {
    "duration": 293,
    "start_time": "2023-03-22T12:26:36.993Z"
   },
   {
    "duration": 15,
    "start_time": "2023-03-22T12:26:37.722Z"
   },
   {
    "duration": 211,
    "start_time": "2023-03-22T12:26:38.608Z"
   },
   {
    "duration": 4,
    "start_time": "2023-03-22T12:26:42.193Z"
   },
   {
    "duration": 8,
    "start_time": "2023-03-22T12:26:43.392Z"
   },
   {
    "duration": 314,
    "start_time": "2023-03-22T12:26:44.172Z"
   },
   {
    "duration": 295,
    "start_time": "2023-03-22T12:26:49.223Z"
   },
   {
    "duration": 290,
    "start_time": "2023-03-22T12:27:26.599Z"
   },
   {
    "duration": 10,
    "start_time": "2023-03-22T12:27:28.237Z"
   },
   {
    "duration": 11,
    "start_time": "2023-03-22T12:27:32.813Z"
   },
   {
    "duration": 291,
    "start_time": "2023-03-22T12:27:40.942Z"
   },
   {
    "duration": 293,
    "start_time": "2023-03-22T12:28:48.722Z"
   },
   {
    "duration": 9,
    "start_time": "2023-03-22T12:29:15.288Z"
   },
   {
    "duration": 302,
    "start_time": "2023-03-22T12:31:32.704Z"
   },
   {
    "duration": 12,
    "start_time": "2023-03-22T12:31:34.043Z"
   },
   {
    "duration": 300,
    "start_time": "2023-03-22T12:32:13.194Z"
   },
   {
    "duration": 388,
    "start_time": "2023-03-22T12:33:15.130Z"
   },
   {
    "duration": 10,
    "start_time": "2023-03-22T12:33:22.706Z"
   },
   {
    "duration": 301,
    "start_time": "2023-03-22T12:34:46.385Z"
   },
   {
    "duration": 10,
    "start_time": "2023-03-22T12:34:50.232Z"
   },
   {
    "duration": 318,
    "start_time": "2023-03-22T12:35:05.626Z"
   },
   {
    "duration": 10,
    "start_time": "2023-03-22T12:35:06.938Z"
   },
   {
    "duration": 319,
    "start_time": "2023-03-22T12:36:25.081Z"
   },
   {
    "duration": 10,
    "start_time": "2023-03-22T12:36:26.285Z"
   },
   {
    "duration": 1154,
    "start_time": "2023-03-22T12:44:19.807Z"
   },
   {
    "duration": 51,
    "start_time": "2023-03-22T12:44:20.963Z"
   },
   {
    "duration": 24,
    "start_time": "2023-03-22T12:44:21.016Z"
   },
   {
    "duration": 16,
    "start_time": "2023-03-22T12:44:22.490Z"
   },
   {
    "duration": 15,
    "start_time": "2023-03-22T12:44:24.122Z"
   },
   {
    "duration": 53,
    "start_time": "2023-03-22T12:44:24.502Z"
   },
   {
    "duration": 4,
    "start_time": "2023-03-22T12:44:24.820Z"
   },
   {
    "duration": 186,
    "start_time": "2023-03-22T12:44:25.087Z"
   },
   {
    "duration": 5,
    "start_time": "2023-03-22T12:44:25.705Z"
   },
   {
    "duration": 5,
    "start_time": "2023-03-22T12:44:26.329Z"
   },
   {
    "duration": 13,
    "start_time": "2023-03-22T12:44:26.537Z"
   },
   {
    "duration": 8,
    "start_time": "2023-03-22T12:44:26.738Z"
   },
   {
    "duration": 6,
    "start_time": "2023-03-22T12:44:26.942Z"
   },
   {
    "duration": 22,
    "start_time": "2023-03-22T12:44:27.125Z"
   },
   {
    "duration": 8,
    "start_time": "2023-03-22T12:44:27.343Z"
   },
   {
    "duration": 6,
    "start_time": "2023-03-22T12:44:27.522Z"
   },
   {
    "duration": 5,
    "start_time": "2023-03-22T12:44:27.737Z"
   },
   {
    "duration": 5,
    "start_time": "2023-03-22T12:44:27.946Z"
   },
   {
    "duration": 6,
    "start_time": "2023-03-22T12:44:28.150Z"
   },
   {
    "duration": 5,
    "start_time": "2023-03-22T12:44:28.352Z"
   },
   {
    "duration": 22,
    "start_time": "2023-03-22T12:44:28.594Z"
   },
   {
    "duration": 7,
    "start_time": "2023-03-22T12:44:29.207Z"
   },
   {
    "duration": 6,
    "start_time": "2023-03-22T12:44:29.389Z"
   },
   {
    "duration": 4,
    "start_time": "2023-03-22T12:44:29.615Z"
   },
   {
    "duration": 14,
    "start_time": "2023-03-22T12:44:29.798Z"
   },
   {
    "duration": 5,
    "start_time": "2023-03-22T12:44:30.668Z"
   },
   {
    "duration": 23,
    "start_time": "2023-03-22T12:44:30.888Z"
   },
   {
    "duration": 23,
    "start_time": "2023-03-22T12:44:31.092Z"
   },
   {
    "duration": 16,
    "start_time": "2023-03-22T12:44:32.358Z"
   },
   {
    "duration": 298,
    "start_time": "2023-03-22T12:44:33.245Z"
   },
   {
    "duration": 3,
    "start_time": "2023-03-22T12:44:33.856Z"
   },
   {
    "duration": 1161,
    "start_time": "2023-03-22T12:44:34.054Z"
   },
   {
    "duration": 20,
    "start_time": "2023-03-22T12:44:35.477Z"
   },
   {
    "duration": 8,
    "start_time": "2023-03-22T12:44:35.647Z"
   },
   {
    "duration": 286,
    "start_time": "2023-03-22T12:44:35.852Z"
   },
   {
    "duration": 25,
    "start_time": "2023-03-22T12:44:36.139Z"
   },
   {
    "duration": 232,
    "start_time": "2023-03-22T12:44:36.253Z"
   },
   {
    "duration": 4,
    "start_time": "2023-03-22T12:44:36.898Z"
   },
   {
    "duration": 10,
    "start_time": "2023-03-22T12:44:37.305Z"
   },
   {
    "duration": 305,
    "start_time": "2023-03-22T12:44:37.512Z"
   },
   {
    "duration": 289,
    "start_time": "2023-03-22T12:44:40.384Z"
   },
   {
    "duration": 360,
    "start_time": "2023-03-22T12:44:44.010Z"
   },
   {
    "duration": 10,
    "start_time": "2023-03-22T12:44:45.250Z"
   },
   {
    "duration": 13,
    "start_time": "2023-03-22T12:44:46.581Z"
   },
   {
    "duration": 287,
    "start_time": "2023-03-22T12:44:48.835Z"
   },
   {
    "duration": 11,
    "start_time": "2023-03-22T12:44:50.014Z"
   },
   {
    "duration": 308,
    "start_time": "2023-03-22T12:44:51.303Z"
   },
   {
    "duration": 10,
    "start_time": "2023-03-22T12:44:52.427Z"
   },
   {
    "duration": 8,
    "start_time": "2023-03-22T12:46:11.932Z"
   },
   {
    "duration": 217,
    "start_time": "2023-03-22T12:46:12.523Z"
   },
   {
    "duration": 379,
    "start_time": "2023-03-22T12:46:12.976Z"
   },
   {
    "duration": 6,
    "start_time": "2023-03-22T12:46:14.115Z"
   },
   {
    "duration": 173,
    "start_time": "2023-03-22T12:46:14.312Z"
   },
   {
    "duration": 154,
    "start_time": "2023-03-22T12:46:14.720Z"
   },
   {
    "duration": 150,
    "start_time": "2023-03-22T12:46:15.091Z"
   },
   {
    "duration": 157,
    "start_time": "2023-03-22T12:46:15.827Z"
   },
   {
    "duration": 154,
    "start_time": "2023-03-22T12:46:16.030Z"
   },
   {
    "duration": 167,
    "start_time": "2023-03-22T12:46:16.186Z"
   },
   {
    "duration": 4,
    "start_time": "2023-03-22T12:46:17.090Z"
   },
   {
    "duration": 153,
    "start_time": "2023-03-22T12:46:17.275Z"
   },
   {
    "duration": 149,
    "start_time": "2023-03-22T12:46:17.480Z"
   },
   {
    "duration": 148,
    "start_time": "2023-03-22T12:46:17.641Z"
   },
   {
    "duration": 8,
    "start_time": "2023-03-22T12:46:19.531Z"
   },
   {
    "duration": 209,
    "start_time": "2023-03-22T12:46:19.917Z"
   },
   {
    "duration": 4,
    "start_time": "2023-03-22T12:46:20.128Z"
   },
   {
    "duration": 5,
    "start_time": "2023-03-22T12:46:20.482Z"
   },
   {
    "duration": 5,
    "start_time": "2023-03-22T12:46:20.678Z"
   },
   {
    "duration": 9,
    "start_time": "2023-03-22T12:46:21.261Z"
   },
   {
    "duration": 212,
    "start_time": "2023-03-22T12:46:21.653Z"
   },
   {
    "duration": 5,
    "start_time": "2023-03-22T12:46:21.866Z"
   },
   {
    "duration": 5,
    "start_time": "2023-03-22T12:46:22.222Z"
   },
   {
    "duration": 5,
    "start_time": "2023-03-22T12:46:22.421Z"
   },
   {
    "duration": 115,
    "start_time": "2023-03-22T13:30:10.626Z"
   }
  ],
  "kernelspec": {
   "display_name": "Python 3 (ipykernel)",
   "language": "python",
   "name": "python3"
  },
  "language_info": {
   "codemirror_mode": {
    "name": "ipython",
    "version": 3
   },
   "file_extension": ".py",
   "mimetype": "text/x-python",
   "name": "python",
   "nbconvert_exporter": "python",
   "pygments_lexer": "ipython3",
   "version": "3.9.13"
  },
  "toc": {
   "base_numbering": 1,
   "nav_menu": {},
   "number_sections": true,
   "sideBar": true,
   "skip_h1_title": true,
   "title_cell": "Table of Contents",
   "title_sidebar": "Contents",
   "toc_cell": false,
   "toc_position": {},
   "toc_section_display": true,
   "toc_window_display": false
  }
 },
 "nbformat": 4,
 "nbformat_minor": 2
}
